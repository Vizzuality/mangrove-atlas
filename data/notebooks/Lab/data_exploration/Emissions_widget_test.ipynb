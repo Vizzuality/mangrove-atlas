{
 "cells": [
  {
   "cell_type": "markdown",
   "id": "65beaff7",
   "metadata": {},
   "source": [
    "# Climate policy widget mock-ups"
   ]
  },
  {
   "cell_type": "markdown",
   "id": "b2b02b6e",
   "metadata": {},
   "source": [
    "This notebook illustrates some options on how to visualize emissions and mitigation data for the new widget"
   ]
  },
  {
   "cell_type": "code",
   "execution_count": 1,
   "id": "2d7f8727",
   "metadata": {},
   "outputs": [],
   "source": [
    "#import libraries\n",
    "import pandas as pd\n",
    "import numpy as np\n",
    "import geopandas as gpd\n",
    "import matplotlib.pyplot as plt\n",
    "import seaborn as sns\n",
    "from matplotlib.patches import Rectangle"
   ]
  },
  {
   "cell_type": "markdown",
   "id": "37d07de3",
   "metadata": {},
   "source": [
    "## Import mitigation and emissions data\n",
    "Load from custom CSVs made from the indicated columns of the excel files provided by the client."
   ]
  },
  {
   "cell_type": "code",
   "execution_count": 3,
   "id": "17691eab",
   "metadata": {},
   "outputs": [
    {
     "data": {
      "text/html": [
       "<div>\n",
       "<style scoped>\n",
       "    .dataframe tbody tr th:only-of-type {\n",
       "        vertical-align: middle;\n",
       "    }\n",
       "\n",
       "    .dataframe tbody tr th {\n",
       "        vertical-align: top;\n",
       "    }\n",
       "\n",
       "    .dataframe thead th {\n",
       "        text-align: right;\n",
       "    }\n",
       "</style>\n",
       "<table border=\"1\" class=\"dataframe\">\n",
       "  <thead>\n",
       "    <tr style=\"text-align: right;\">\n",
       "      <th></th>\n",
       "      <th>ISO</th>\n",
       "      <th>Country</th>\n",
       "      <th>NDC_Blurb</th>\n",
       "      <th>Climate_vulnerability</th>\n",
       "      <th>Avoided_loss</th>\n",
       "      <th>Annual_opportunity</th>\n",
       "    </tr>\n",
       "  </thead>\n",
       "  <tbody>\n",
       "    <tr>\n",
       "      <th>0</th>\n",
       "      <td>AGO</td>\n",
       "      <td>Angola</td>\n",
       "      <td>\"Angola plans to reduce GHG emissions up to 35...</td>\n",
       "      <td>106.67</td>\n",
       "      <td>0.24</td>\n",
       "      <td>0.013613</td>\n",
       "    </tr>\n",
       "    <tr>\n",
       "      <th>1</th>\n",
       "      <td>ATG</td>\n",
       "      <td>Antigua &amp; Barbuda</td>\n",
       "      <td>Conditional Adaptation Targets \" (1) By 2025, ...</td>\n",
       "      <td>74.50</td>\n",
       "      <td>0.00</td>\n",
       "      <td>0.000332</td>\n",
       "    </tr>\n",
       "    <tr>\n",
       "      <th>2</th>\n",
       "      <td>AUS</td>\n",
       "      <td>Australia</td>\n",
       "      <td>\"Under a Paris Agreement applicable to all, Au...</td>\n",
       "      <td>52.00</td>\n",
       "      <td>0.77</td>\n",
       "      <td>0.789309</td>\n",
       "    </tr>\n",
       "    <tr>\n",
       "      <th>3</th>\n",
       "      <td>BHR</td>\n",
       "      <td>Bahrain</td>\n",
       "      <td>The Kingdom of Bahrain communicated in its NDC...</td>\n",
       "      <td>125.00</td>\n",
       "      <td>0.00</td>\n",
       "      <td>0.000003</td>\n",
       "    </tr>\n",
       "    <tr>\n",
       "      <th>4</th>\n",
       "      <td>BGD</td>\n",
       "      <td>Bangladesh</td>\n",
       "      <td>\"The NDC of Bangladesh consists of the followi...</td>\n",
       "      <td>25.00</td>\n",
       "      <td>0.08</td>\n",
       "      <td>0.323811</td>\n",
       "    </tr>\n",
       "    <tr>\n",
       "      <th>...</th>\n",
       "      <td>...</td>\n",
       "      <td>...</td>\n",
       "      <td>...</td>\n",
       "      <td>...</td>\n",
       "      <td>...</td>\n",
       "      <td>...</td>\n",
       "    </tr>\n",
       "    <tr>\n",
       "      <th>96</th>\n",
       "      <td>VUT</td>\n",
       "      <td>Vanuatu</td>\n",
       "      <td>\"The mitigation contribution for the Vanuatu N...</td>\n",
       "      <td>54.67</td>\n",
       "      <td>0.00</td>\n",
       "      <td>0.000233</td>\n",
       "    </tr>\n",
       "    <tr>\n",
       "      <th>97</th>\n",
       "      <td>VEN</td>\n",
       "      <td>Venezuela</td>\n",
       "      <td>Venezuela intends to implement a National Miti...</td>\n",
       "      <td>67.50</td>\n",
       "      <td>0.97</td>\n",
       "      <td>0.282058</td>\n",
       "    </tr>\n",
       "    <tr>\n",
       "      <th>98</th>\n",
       "      <td>VNM</td>\n",
       "      <td>Vietnam</td>\n",
       "      <td>\"With domestic resources, by 2030 Viet Nam wil...</td>\n",
       "      <td>31.33</td>\n",
       "      <td>0.65</td>\n",
       "      <td>0.408448</td>\n",
       "    </tr>\n",
       "    <tr>\n",
       "      <th>99</th>\n",
       "      <td>VGB</td>\n",
       "      <td>Virgin Islands, British</td>\n",
       "      <td>NaN</td>\n",
       "      <td>NaN</td>\n",
       "      <td>0.00</td>\n",
       "      <td>0.000011</td>\n",
       "    </tr>\n",
       "    <tr>\n",
       "      <th>100</th>\n",
       "      <td>YEM</td>\n",
       "      <td>Yemen</td>\n",
       "      <td>\"This NDC document proposes 14 percent GHG emi...</td>\n",
       "      <td>70.17</td>\n",
       "      <td>0.00</td>\n",
       "      <td>0.000219</td>\n",
       "    </tr>\n",
       "  </tbody>\n",
       "</table>\n",
       "<p>101 rows × 6 columns</p>\n",
       "</div>"
      ],
      "text/plain": [
       "     ISO                  Country  \\\n",
       "0    AGO                   Angola   \n",
       "1    ATG        Antigua & Barbuda   \n",
       "2    AUS                Australia   \n",
       "3    BHR                  Bahrain   \n",
       "4    BGD               Bangladesh   \n",
       "..   ...                      ...   \n",
       "96   VUT                  Vanuatu   \n",
       "97   VEN                Venezuela   \n",
       "98   VNM                  Vietnam   \n",
       "99   VGB  Virgin Islands, British   \n",
       "100  YEM                    Yemen   \n",
       "\n",
       "                                             NDC_Blurb  Climate_vulnerability  \\\n",
       "0    \"Angola plans to reduce GHG emissions up to 35...                 106.67   \n",
       "1    Conditional Adaptation Targets \" (1) By 2025, ...                  74.50   \n",
       "2    \"Under a Paris Agreement applicable to all, Au...                  52.00   \n",
       "3    The Kingdom of Bahrain communicated in its NDC...                 125.00   \n",
       "4    \"The NDC of Bangladesh consists of the followi...                  25.00   \n",
       "..                                                 ...                    ...   \n",
       "96   \"The mitigation contribution for the Vanuatu N...                  54.67   \n",
       "97   Venezuela intends to implement a National Miti...                  67.50   \n",
       "98   \"With domestic resources, by 2030 Viet Nam wil...                  31.33   \n",
       "99                                                 NaN                    NaN   \n",
       "100  \"This NDC document proposes 14 percent GHG emi...                  70.17   \n",
       "\n",
       "     Avoided_loss  Annual_opportunity  \n",
       "0            0.24            0.013613  \n",
       "1            0.00            0.000332  \n",
       "2            0.77            0.789309  \n",
       "3            0.00            0.000003  \n",
       "4            0.08            0.323811  \n",
       "..            ...                 ...  \n",
       "96           0.00            0.000233  \n",
       "97           0.97            0.282058  \n",
       "98           0.65            0.408448  \n",
       "99           0.00            0.000011  \n",
       "100          0.00            0.000219  \n",
       "\n",
       "[101 rows x 6 columns]"
      ]
     },
     "execution_count": 3,
     "metadata": {},
     "output_type": "execute_result"
    }
   ],
   "source": [
    "policy_data = pd.read_csv('../../datasets/Policy_data.csv')\n",
    "metadata_policy = {'ISO':policy_data.columns[0] , 'Country':policy_data.columns[1], 'NDC_Blurb':policy_data.columns[2], 'Climate_vulnerability':policy_data.columns[3],\n",
    "                    'Avoided_loss':policy_data.columns[4], 'Annual_opportunity':policy_data.columns[5]}\n",
    "policy_data.columns = ['ISO', 'Country', 'NDC_Blurb', 'Climate_vulnerability', 'Avoided_loss', 'Annual_opportunity']\n",
    "policy_data\n"
   ]
  },
  {
   "cell_type": "code",
   "execution_count": 4,
   "id": "51f1bb8b",
   "metadata": {},
   "outputs": [
    {
     "data": {
      "text/plain": [
       "{'ISO': 'iso',\n",
       " 'Country': 'name',\n",
       " 'NDC_Blurb': 'NDC Blurb',\n",
       " 'Climate_vulnerability': 'Climate Vulnerability Rank (index)',\n",
       " 'Avoided_loss': 'Avoided loss (Emissions from Mangrove loss) (MtCO2e yr-1)',\n",
       " 'Annual_opportunity': 'Annual Opportunity from Restoration (MtCO2e yr-1)'}"
      ]
     },
     "execution_count": 4,
     "metadata": {},
     "output_type": "execute_result"
    }
   ],
   "source": [
    "metadata_policy"
   ]
  },
  {
   "cell_type": "code",
   "execution_count": 26,
   "id": "5357e26b",
   "metadata": {},
   "outputs": [
    {
     "data": {
      "text/html": [
       "<div>\n",
       "<style scoped>\n",
       "    .dataframe tbody tr th:only-of-type {\n",
       "        vertical-align: middle;\n",
       "    }\n",
       "\n",
       "    .dataframe tbody tr th {\n",
       "        vertical-align: top;\n",
       "    }\n",
       "\n",
       "    .dataframe thead th {\n",
       "        text-align: right;\n",
       "    }\n",
       "</style>\n",
       "<table border=\"1\" class=\"dataframe\">\n",
       "  <thead>\n",
       "    <tr style=\"text-align: right;\">\n",
       "      <th></th>\n",
       "      <th>Country</th>\n",
       "      <th>ISO</th>\n",
       "      <th>Process</th>\n",
       "      <th>Emissions</th>\n",
       "    </tr>\n",
       "  </thead>\n",
       "  <tbody>\n",
       "    <tr>\n",
       "      <th>0</th>\n",
       "      <td>Angola</td>\n",
       "      <td>AGO</td>\n",
       "      <td>LUC-Crops</td>\n",
       "      <td>141.218004</td>\n",
       "    </tr>\n",
       "    <tr>\n",
       "      <th>1</th>\n",
       "      <td>Angola</td>\n",
       "      <td>AGO</td>\n",
       "      <td>LUC-Pasture</td>\n",
       "      <td>16.072787</td>\n",
       "    </tr>\n",
       "    <tr>\n",
       "      <th>2</th>\n",
       "      <td>Angola</td>\n",
       "      <td>AGO</td>\n",
       "      <td>Wood Harvest</td>\n",
       "      <td>9.329425</td>\n",
       "    </tr>\n",
       "    <tr>\n",
       "      <th>3</th>\n",
       "      <td>Angola</td>\n",
       "      <td>AGO</td>\n",
       "      <td>Fertilizer</td>\n",
       "      <td>0.067510</td>\n",
       "    </tr>\n",
       "    <tr>\n",
       "      <th>4</th>\n",
       "      <td>Angola</td>\n",
       "      <td>AGO</td>\n",
       "      <td>Enteric Ferm.</td>\n",
       "      <td>5.481993</td>\n",
       "    </tr>\n",
       "    <tr>\n",
       "      <th>...</th>\n",
       "      <td>...</td>\n",
       "      <td>...</td>\n",
       "      <td>...</td>\n",
       "      <td>...</td>\n",
       "    </tr>\n",
       "    <tr>\n",
       "      <th>1282</th>\n",
       "      <td>Zimbabwe</td>\n",
       "      <td>ZWE</td>\n",
       "      <td>Manure-Pasture</td>\n",
       "      <td>3.058157</td>\n",
       "    </tr>\n",
       "    <tr>\n",
       "      <th>1283</th>\n",
       "      <td>Zimbabwe</td>\n",
       "      <td>ZWE</td>\n",
       "      <td>Residues</td>\n",
       "      <td>0.128225</td>\n",
       "    </tr>\n",
       "    <tr>\n",
       "      <th>1284</th>\n",
       "      <td>Zimbabwe</td>\n",
       "      <td>ZWE</td>\n",
       "      <td>Burning</td>\n",
       "      <td>0.169136</td>\n",
       "    </tr>\n",
       "    <tr>\n",
       "      <th>1285</th>\n",
       "      <td>Zimbabwe</td>\n",
       "      <td>ZWE</td>\n",
       "      <td>Peatland</td>\n",
       "      <td>0.000000</td>\n",
       "    </tr>\n",
       "    <tr>\n",
       "      <th>1286</th>\n",
       "      <td>Zimbabwe</td>\n",
       "      <td>ZWE</td>\n",
       "      <td>Ag. Abandonment</td>\n",
       "      <td>-18.642688</td>\n",
       "    </tr>\n",
       "  </tbody>\n",
       "</table>\n",
       "<p>1287 rows × 4 columns</p>\n",
       "</div>"
      ],
      "text/plain": [
       "       Country  ISO          Process   Emissions\n",
       "0       Angola  AGO        LUC-Crops  141.218004\n",
       "1       Angola  AGO      LUC-Pasture   16.072787\n",
       "2       Angola  AGO     Wood Harvest    9.329425\n",
       "3       Angola  AGO       Fertilizer    0.067510\n",
       "4       Angola  AGO    Enteric Ferm.    5.481993\n",
       "...        ...  ...              ...         ...\n",
       "1282  Zimbabwe  ZWE   Manure-Pasture    3.058157\n",
       "1283  Zimbabwe  ZWE         Residues    0.128225\n",
       "1284  Zimbabwe  ZWE          Burning    0.169136\n",
       "1285  Zimbabwe  ZWE         Peatland    0.000000\n",
       "1286  Zimbabwe  ZWE  Ag. Abandonment  -18.642688\n",
       "\n",
       "[1287 rows x 4 columns]"
      ]
     },
     "execution_count": 26,
     "metadata": {},
     "output_type": "execute_result"
    }
   ],
   "source": [
    "emissions = pd.read_csv('../../datasets/Emissions.csv')\n",
    "metaadata_emissions = {'Country':emissions.columns[0],'ISO':emissions.columns[1], 'Process':emissions.columns[2], 'Emissions':emissions.columns[3]}\n",
    "emissions.columns = ['Country','ISO', 'Process', 'Emissions']\n",
    "emissions"
   ]
  },
  {
   "cell_type": "markdown",
   "id": "e87cb172",
   "metadata": {},
   "source": [
    "## Plot data from test areas (Indonesia and Brazil)"
   ]
  },
  {
   "cell_type": "code",
   "execution_count": 6,
   "id": "418cc1ab",
   "metadata": {},
   "outputs": [
    {
     "data": {
      "text/html": [
       "<div>\n",
       "<style scoped>\n",
       "    .dataframe tbody tr th:only-of-type {\n",
       "        vertical-align: middle;\n",
       "    }\n",
       "\n",
       "    .dataframe tbody tr th {\n",
       "        vertical-align: top;\n",
       "    }\n",
       "\n",
       "    .dataframe thead th {\n",
       "        text-align: right;\n",
       "    }\n",
       "</style>\n",
       "<table border=\"1\" class=\"dataframe\">\n",
       "  <thead>\n",
       "    <tr style=\"text-align: right;\">\n",
       "      <th></th>\n",
       "      <th>Country</th>\n",
       "      <th>ISO</th>\n",
       "      <th>Emissions</th>\n",
       "    </tr>\n",
       "    <tr>\n",
       "      <th>Process</th>\n",
       "      <th></th>\n",
       "      <th></th>\n",
       "      <th></th>\n",
       "    </tr>\n",
       "  </thead>\n",
       "  <tbody>\n",
       "    <tr>\n",
       "      <th>LUC-Crops</th>\n",
       "      <td>Indonesia</td>\n",
       "      <td>IDN</td>\n",
       "      <td>1049.824130</td>\n",
       "    </tr>\n",
       "    <tr>\n",
       "      <th>Peatland</th>\n",
       "      <td>Indonesia</td>\n",
       "      <td>IDN</td>\n",
       "      <td>533.139507</td>\n",
       "    </tr>\n",
       "    <tr>\n",
       "      <th>Wood Harvest</th>\n",
       "      <td>Indonesia</td>\n",
       "      <td>IDN</td>\n",
       "      <td>120.806335</td>\n",
       "    </tr>\n",
       "    <tr>\n",
       "      <th>Rice</th>\n",
       "      <td>Indonesia</td>\n",
       "      <td>IDN</td>\n",
       "      <td>91.263859</td>\n",
       "    </tr>\n",
       "    <tr>\n",
       "      <th>Enteric Ferm.</th>\n",
       "      <td>Indonesia</td>\n",
       "      <td>IDN</td>\n",
       "      <td>29.005775</td>\n",
       "    </tr>\n",
       "    <tr>\n",
       "      <th>Fertilizer</th>\n",
       "      <td>Indonesia</td>\n",
       "      <td>IDN</td>\n",
       "      <td>15.411961</td>\n",
       "    </tr>\n",
       "    <tr>\n",
       "      <th>Manure-Pasture</th>\n",
       "      <td>Indonesia</td>\n",
       "      <td>IDN</td>\n",
       "      <td>8.195982</td>\n",
       "    </tr>\n",
       "    <tr>\n",
       "      <th>Manure Management</th>\n",
       "      <td>Indonesia</td>\n",
       "      <td>IDN</td>\n",
       "      <td>7.264015</td>\n",
       "    </tr>\n",
       "    <tr>\n",
       "      <th>Residues</th>\n",
       "      <td>Indonesia</td>\n",
       "      <td>IDN</td>\n",
       "      <td>4.952787</td>\n",
       "    </tr>\n",
       "    <tr>\n",
       "      <th>Manure-Soil</th>\n",
       "      <td>Indonesia</td>\n",
       "      <td>IDN</td>\n",
       "      <td>3.471890</td>\n",
       "    </tr>\n",
       "    <tr>\n",
       "      <th>LUC-Pasture</th>\n",
       "      <td>Indonesia</td>\n",
       "      <td>IDN</td>\n",
       "      <td>2.081840</td>\n",
       "    </tr>\n",
       "    <tr>\n",
       "      <th>Burning</th>\n",
       "      <td>Indonesia</td>\n",
       "      <td>IDN</td>\n",
       "      <td>1.242014</td>\n",
       "    </tr>\n",
       "  </tbody>\n",
       "</table>\n",
       "</div>"
      ],
      "text/plain": [
       "                     Country  ISO    Emissions\n",
       "Process                                       \n",
       "LUC-Crops          Indonesia  IDN  1049.824130\n",
       "Peatland           Indonesia  IDN   533.139507\n",
       "Wood Harvest       Indonesia  IDN   120.806335\n",
       "Rice               Indonesia  IDN    91.263859\n",
       "Enteric Ferm.      Indonesia  IDN    29.005775\n",
       "Fertilizer         Indonesia  IDN    15.411961\n",
       "Manure-Pasture     Indonesia  IDN     8.195982\n",
       "Manure Management  Indonesia  IDN     7.264015\n",
       "Residues           Indonesia  IDN     4.952787\n",
       "Manure-Soil        Indonesia  IDN     3.471890\n",
       "LUC-Pasture        Indonesia  IDN     2.081840\n",
       "Burning            Indonesia  IDN     1.242014"
      ]
     },
     "execution_count": 6,
     "metadata": {},
     "output_type": "execute_result"
    }
   ],
   "source": [
    "#Get a test dataset for Indonesia\n",
    "test_emissions = emissions[emissions['Country'] == 'Indonesia'].copy()\n",
    "test_emissions.set_index('Process', inplace=True)\n",
    "test_emissions = test_emissions[test_emissions['Emissions'] >0]\n",
    "test_emissions.sort_values('Emissions', ascending = False)"
   ]
  },
  {
   "cell_type": "code",
   "execution_count": 9,
   "id": "2fdaf0d1",
   "metadata": {},
   "outputs": [
    {
     "data": {
      "image/png": "[encoded data removed]",
      "text/plain": [
       "<Figure size 432x288 with 1 Axes>"
      ]
     },
     "metadata": {
      "needs_background": "light"
     },
     "output_type": "display_data"
    }
   ],
   "source": [
    "pd.DataFrame(test_emissions['Emissions']).T.plot.bar(stacked=True)\n",
    "plt.legend(bbox_to_anchor=(1,1), loc=\"upper left\")\n",
    "plt.title('Emissions on Indonesia (Mt CO2e/yr)')\n",
    "plt.show()"
   ]
  },
  {
   "cell_type": "code",
   "execution_count": 10,
   "id": "fb41e097",
   "metadata": {},
   "outputs": [
    {
     "data": {
      "image/png": "[encoded data removed]",
      "text/plain": [
       "<Figure size 432x288 with 1 Axes>"
      ]
     },
     "metadata": {
      "needs_background": "light"
     },
     "output_type": "display_data"
    }
   ],
   "source": [
    "# Test plot for Brazil data\n",
    "test_emissions = emissions[emissions['Country'] == 'Brazil'].copy()\n",
    "test_emissions.set_index('Process', inplace=True)\n",
    "test_emissions = test_emissions[test_emissions['Emissions'] >0]\n",
    "pd.DataFrame(test_emissions['Emissions']).T.plot.bar(stacked=True)\n",
    "plt.legend(bbox_to_anchor=(1,1), loc=\"upper left\")\n",
    "plt.title('Emissions on Brazil (Mt CO2e/yr)')\n",
    "plt.show()"
   ]
  },
  {
   "cell_type": "code",
   "execution_count": 44,
   "id": "bb94e691",
   "metadata": {},
   "outputs": [
    {
     "data": {
      "text/html": [
       "<div>\n",
       "<style scoped>\n",
       "    .dataframe tbody tr th:only-of-type {\n",
       "        vertical-align: middle;\n",
       "    }\n",
       "\n",
       "    .dataframe tbody tr th {\n",
       "        vertical-align: top;\n",
       "    }\n",
       "\n",
       "    .dataframe thead th {\n",
       "        text-align: right;\n",
       "    }\n",
       "</style>\n",
       "<table border=\"1\" class=\"dataframe\">\n",
       "  <thead>\n",
       "    <tr style=\"text-align: right;\">\n",
       "      <th></th>\n",
       "      <th>Avoided_loss</th>\n",
       "      <th>Annual_opportunity</th>\n",
       "    </tr>\n",
       "  </thead>\n",
       "  <tbody>\n",
       "    <tr>\n",
       "      <th>40</th>\n",
       "      <td>34.3</td>\n",
       "      <td>4.379141</td>\n",
       "    </tr>\n",
       "  </tbody>\n",
       "</table>\n",
       "</div>"
      ],
      "text/plain": [
       "    Avoided_loss  Annual_opportunity\n",
       "40          34.3            4.379141"
      ]
     },
     "execution_count": 44,
     "metadata": {},
     "output_type": "execute_result"
    }
   ],
   "source": [
    "country='Indonesia'\n",
    "test_emissions = emissions[emissions['Country'] == country].copy()\n",
    "test_emissions.set_index('Process', inplace=True)\n",
    "test_emissions = test_emissions[test_emissions['Emissions'] >0]\n",
    "\n",
    "test_policy = policy_data[policy_data['Country'] == country][['Avoided_loss', 'Annual_opportunity']]\n",
    "test_policy"
   ]
  },
  {
   "cell_type": "code",
   "execution_count": 71,
   "id": "c62c246c",
   "metadata": {},
   "outputs": [
    {
     "data": {
      "image/png": "[encoded data removed]",
      "text/plain": [
       "<Figure size 432x288 with 2 Axes>"
      ]
     },
     "metadata": {
      "needs_background": "light"
     },
     "output_type": "display_data"
    }
   ],
   "source": [
    "plt.subplot(1,2,1)\n",
    "bot = 0\n",
    "rect = Rectangle((0, 0),0, 100)\n",
    "for p in test_emissions.index:\n",
    "    #print(f'{p} is {test_emissions.loc[p, \"Emissions\"]}')\n",
    "    plt.bar('Emissions',test_emissions.loc[p, \"Emissions\"], bottom = bot) \n",
    "    plt.ylim(0, test_emissions['Emissions'].sum()+100)\n",
    "    plt.legend(test_emissions.index, bbox_to_anchor=(1,1), loc=\"upper left\")\n",
    "    bot=bot+test_emissions.loc[p, \"Emissions\"]\n",
    "    #plt.add_patch(rect)   \n",
    "    \n",
    "plt.subplot(1,2,2)\n",
    "plt.bar('Restoration', test_policy['Avoided_loss'], color = 'green')\n",
    "plt.bar('Restoration', test_policy['Annual_opportunity'],color = 'dodgerblue', bottom = test_policy['Avoided_loss']+0.01)\n",
    "plt.legend(['Avoided_loss', 'Annual_opportunity'], bbox_to_anchor=(1,1), loc=\"upper left\")\n",
    "\n",
    "plt.subplots_adjust(wspace=3)\n"
   ]
  },
  {
   "cell_type": "code",
   "execution_count": 72,
   "id": "3b301d0a",
   "metadata": {},
   "outputs": [
    {
     "data": {
      "image/png": "[encoded data removed]",
      "text/plain": [
       "<Figure size 432x288 with 2 Axes>"
      ]
     },
     "metadata": {
      "needs_background": "light"
     },
     "output_type": "display_data"
    }
   ],
   "source": [
    "country='Brazil'\n",
    "test_emissions = emissions[emissions['Country'] == country].copy()\n",
    "test_emissions.set_index('Process', inplace=True)\n",
    "test_emissions = test_emissions[test_emissions['Emissions'] >0]\n",
    "\n",
    "test_policy = policy_data[policy_data['Country'] == country][['Avoided_loss', 'Annual_opportunity']]\n",
    "\n",
    "plt.subplot(1,2,1)\n",
    "bot = 0\n",
    "rect = Rectangle((0, 0),0, 100)\n",
    "for p in test_emissions.index:\n",
    "    #print(f'{p} is {test_emissions.loc[p, \"Emissions\"]}')\n",
    "    plt.bar('Emissions',test_emissions.loc[p, \"Emissions\"], bottom = bot) \n",
    "    plt.ylim(0, test_emissions['Emissions'].sum()+100)\n",
    "    plt.legend(test_emissions.index, bbox_to_anchor=(1,1), loc=\"upper left\")\n",
    "    bot=bot+test_emissions.loc[p, \"Emissions\"]\n",
    "    #plt.add_patch(rect)   \n",
    "    \n",
    "plt.subplot(1,2,2)\n",
    "plt.bar('Restoration', test_policy['Avoided_loss'], color = 'green')\n",
    "plt.bar('Restoration', test_policy['Annual_opportunity'],color = 'dodgerblue', bottom = test_policy['Avoided_loss']+0.01)\n",
    "plt.legend(['Avoided_loss', 'Annual_opportunity'], bbox_to_anchor=(1,1), loc=\"upper left\")\n",
    "\n",
    "plt.subplots_adjust(wspace=3)"
   ]
  },
  {
   "cell_type": "markdown",
   "id": "b07a627d",
   "metadata": {},
   "source": [
    "## Correct data based on mangrove extent  \n",
    "1. Load GADM polygon and calculate total country size  \n",
    "2. Load mangrove areas data (processed) and calculate % of area of the country that is mangroove  \n",
    "3. Get proportion of emissions relative to the mangrove extent\n",
    "4. Compare with mitigation data"
   ]
  },
  {
   "cell_type": "markdown",
   "id": "c8adf84c",
   "metadata": {},
   "source": [
    "### 1. Country area from GADM"
   ]
  },
  {
   "cell_type": "code",
   "execution_count": 13,
   "id": "250eb56f",
   "metadata": {},
   "outputs": [
    {
     "data": {
      "text/html": [
       "<div>\n",
       "<style scoped>\n",
       "    .dataframe tbody tr th:only-of-type {\n",
       "        vertical-align: middle;\n",
       "    }\n",
       "\n",
       "    .dataframe tbody tr th {\n",
       "        vertical-align: top;\n",
       "    }\n",
       "\n",
       "    .dataframe thead th {\n",
       "        text-align: right;\n",
       "    }\n",
       "</style>\n",
       "<table border=\"1\" class=\"dataframe\">\n",
       "  <thead>\n",
       "    <tr style=\"text-align: right;\">\n",
       "      <th></th>\n",
       "      <th>GID_0</th>\n",
       "      <th>NAME_0</th>\n",
       "      <th>GID_1</th>\n",
       "      <th>NAME_1</th>\n",
       "      <th>VARNAME_1</th>\n",
       "      <th>NL_NAME_1</th>\n",
       "      <th>TYPE_1</th>\n",
       "      <th>ENGTYPE_1</th>\n",
       "      <th>CC_1</th>\n",
       "      <th>HASC_1</th>\n",
       "      <th>geometry</th>\n",
       "    </tr>\n",
       "  </thead>\n",
       "  <tbody>\n",
       "    <tr>\n",
       "      <th>0</th>\n",
       "      <td>IDN</td>\n",
       "      <td>Indonesia</td>\n",
       "      <td>IDN.1_1</td>\n",
       "      <td>Aceh</td>\n",
       "      <td>None</td>\n",
       "      <td>None</td>\n",
       "      <td>Propinisi</td>\n",
       "      <td>Province</td>\n",
       "      <td>11</td>\n",
       "      <td>ID.AC</td>\n",
       "      <td>MULTIPOLYGON (((96.66509 2.12018, 96.66765 2.1...</td>\n",
       "    </tr>\n",
       "    <tr>\n",
       "      <th>1</th>\n",
       "      <td>IDN</td>\n",
       "      <td>Indonesia</td>\n",
       "      <td>IDN.2_1</td>\n",
       "      <td>Bali</td>\n",
       "      <td>None</td>\n",
       "      <td>None</td>\n",
       "      <td>Propinisi</td>\n",
       "      <td>Province</td>\n",
       "      <td>51</td>\n",
       "      <td>ID.BA</td>\n",
       "      <td>MULTIPOLYGON (((115.59464 -8.81672, 115.59444 ...</td>\n",
       "    </tr>\n",
       "  </tbody>\n",
       "</table>\n",
       "</div>"
      ],
      "text/plain": [
       "  GID_0     NAME_0    GID_1 NAME_1 VARNAME_1 NL_NAME_1     TYPE_1 ENGTYPE_1  \\\n",
       "0   IDN  Indonesia  IDN.1_1   Aceh      None      None  Propinisi  Province   \n",
       "1   IDN  Indonesia  IDN.2_1   Bali      None      None  Propinisi  Province   \n",
       "\n",
       "  CC_1 HASC_1                                           geometry  \n",
       "0   11  ID.AC  MULTIPOLYGON (((96.66509 2.12018, 96.66765 2.1...  \n",
       "1   51  ID.BA  MULTIPOLYGON (((115.59464 -8.81672, 115.59444 ...  "
      ]
     },
     "execution_count": 13,
     "metadata": {},
     "output_type": "execute_result"
    }
   ],
   "source": [
    "ind_poly = emissions = gpd.read_file('../../datasets/gadm36_IDN_shp/gadm36_IDN_1.shp')\n",
    "ind_poly.head(2)"
   ]
  },
  {
   "cell_type": "code",
   "execution_count": 14,
   "id": "afd29829",
   "metadata": {},
   "outputs": [
    {
     "data": {
      "text/plain": [
       "<Geographic 2D CRS: EPSG:4326>\n",
       "Name: WGS 84\n",
       "Axis Info [ellipsoidal]:\n",
       "- Lat[north]: Geodetic latitude (degree)\n",
       "- Lon[east]: Geodetic longitude (degree)\n",
       "Area of Use:\n",
       "- name: World.\n",
       "- bounds: (-180.0, -90.0, 180.0, 90.0)\n",
       "Datum: World Geodetic System 1984 ensemble\n",
       "- Ellipsoid: WGS 84\n",
       "- Prime Meridian: Greenwich"
      ]
     },
     "execution_count": 14,
     "metadata": {},
     "output_type": "execute_result"
    }
   ],
   "source": [
    "ind_poly.crs"
   ]
  },
  {
   "cell_type": "code",
   "execution_count": 15,
   "id": "a2165a5a",
   "metadata": {},
   "outputs": [
    {
     "name": "stderr",
     "output_type": "stream",
     "text": [
      "/opt/conda/lib/python3.8/site-packages/pyproj/crs/crs.py:131: FutureWarning: '+init=<authority>:<code>' syntax is deprecated. '<authority>:<code>' is the preferred initialization method. When making the change, be mindful of axis order changes: https://pyproj4.github.io/pyproj/stable/gotchas.html#axis-order-changes-in-proj-6\n",
      "  in_crs_string = _prepare_from_proj_string(in_crs_string)\n"
     ]
    },
    {
     "data": {
      "text/html": [
       "<div>\n",
       "<style scoped>\n",
       "    .dataframe tbody tr th:only-of-type {\n",
       "        vertical-align: middle;\n",
       "    }\n",
       "\n",
       "    .dataframe tbody tr th {\n",
       "        vertical-align: top;\n",
       "    }\n",
       "\n",
       "    .dataframe thead th {\n",
       "        text-align: right;\n",
       "    }\n",
       "</style>\n",
       "<table border=\"1\" class=\"dataframe\">\n",
       "  <thead>\n",
       "    <tr style=\"text-align: right;\">\n",
       "      <th></th>\n",
       "      <th>GID_0</th>\n",
       "      <th>NAME_0</th>\n",
       "      <th>GID_1</th>\n",
       "      <th>NAME_1</th>\n",
       "      <th>VARNAME_1</th>\n",
       "      <th>NL_NAME_1</th>\n",
       "      <th>TYPE_1</th>\n",
       "      <th>ENGTYPE_1</th>\n",
       "      <th>CC_1</th>\n",
       "      <th>HASC_1</th>\n",
       "      <th>geometry</th>\n",
       "    </tr>\n",
       "  </thead>\n",
       "  <tbody>\n",
       "    <tr>\n",
       "      <th>0</th>\n",
       "      <td>IDN</td>\n",
       "      <td>Indonesia</td>\n",
       "      <td>IDN.1_1</td>\n",
       "      <td>Aceh</td>\n",
       "      <td>None</td>\n",
       "      <td>None</td>\n",
       "      <td>Propinisi</td>\n",
       "      <td>Province</td>\n",
       "      <td>11</td>\n",
       "      <td>ID.AC</td>\n",
       "      <td>MULTIPOLYGON (((10760708.871 236071.068, 10760...</td>\n",
       "    </tr>\n",
       "    <tr>\n",
       "      <th>1</th>\n",
       "      <td>IDN</td>\n",
       "      <td>Indonesia</td>\n",
       "      <td>IDN.2_1</td>\n",
       "      <td>Bali</td>\n",
       "      <td>None</td>\n",
       "      <td>None</td>\n",
       "      <td>Propinisi</td>\n",
       "      <td>Province</td>\n",
       "      <td>51</td>\n",
       "      <td>ID.BA</td>\n",
       "      <td>MULTIPOLYGON (((12867935.908 -985369.517, 1286...</td>\n",
       "    </tr>\n",
       "  </tbody>\n",
       "</table>\n",
       "</div>"
      ],
      "text/plain": [
       "  GID_0     NAME_0    GID_1 NAME_1 VARNAME_1 NL_NAME_1     TYPE_1 ENGTYPE_1  \\\n",
       "0   IDN  Indonesia  IDN.1_1   Aceh      None      None  Propinisi  Province   \n",
       "1   IDN  Indonesia  IDN.2_1   Bali      None      None  Propinisi  Province   \n",
       "\n",
       "  CC_1 HASC_1                                           geometry  \n",
       "0   11  ID.AC  MULTIPOLYGON (((10760708.871 236071.068, 10760...  \n",
       "1   51  ID.BA  MULTIPOLYGON (((12867935.908 -985369.517, 1286...  "
      ]
     },
     "execution_count": 15,
     "metadata": {},
     "output_type": "execute_result"
    }
   ],
   "source": [
    "ind_poly = ind_poly.to_crs({'init': 'epsg:3857'})\n",
    "ind_poly.head(2)"
   ]
  },
  {
   "cell_type": "code",
   "execution_count": 17,
   "id": "fb66086a",
   "metadata": {},
   "outputs": [
    {
     "name": "stdout",
     "output_type": "stream",
     "text": [
      "Total area is 1912140.790954544 km2\n"
     ]
    }
   ],
   "source": [
    "ind_poly['area'] = ind_poly['geometry'].area/ 10**6\n",
    "total_area = ind_poly['area'].sum()\n",
    "print(f'Total area is {total_area} km2')"
   ]
  },
  {
   "cell_type": "markdown",
   "id": "b4a9f0e4",
   "metadata": {},
   "source": [
    "### 2. Mangrove area"
   ]
  },
  {
   "cell_type": "code",
   "execution_count": 19,
   "id": "b02dff37",
   "metadata": {},
   "outputs": [
    {
     "data": {
      "text/html": [
       "<div>\n",
       "<style scoped>\n",
       "    .dataframe tbody tr th:only-of-type {\n",
       "        vertical-align: middle;\n",
       "    }\n",
       "\n",
       "    .dataframe tbody tr th {\n",
       "        vertical-align: top;\n",
       "    }\n",
       "\n",
       "    .dataframe thead th {\n",
       "        text-align: right;\n",
       "    }\n",
       "</style>\n",
       "<table border=\"1\" class=\"dataframe\">\n",
       "  <thead>\n",
       "    <tr style=\"text-align: right;\">\n",
       "      <th></th>\n",
       "      <th>Country</th>\n",
       "      <th>Total Mangrove 2010</th>\n",
       "    </tr>\n",
       "  </thead>\n",
       "  <tbody>\n",
       "    <tr>\n",
       "      <th>51</th>\n",
       "      <td>Indonesia</td>\n",
       "      <td>27074.904571</td>\n",
       "    </tr>\n",
       "  </tbody>\n",
       "</table>\n",
       "</div>"
      ],
      "text/plain": [
       "      Country  Total Mangrove 2010\n",
       "51  Indonesia         27074.904571"
      ]
     },
     "execution_count": 19,
     "metadata": {},
     "output_type": "execute_result"
    }
   ],
   "source": [
    "mang_data = pd.read_csv('../../datasets/Mangrove_Protection_Calculations_20210430.csv')\n",
    "mang_data = mang_data[(mang_data['Country'] == 'Indonesia')][['Country', 'Total Mangrove 2010']]\n",
    "mang_data"
   ]
  },
  {
   "cell_type": "code",
   "execution_count": 24,
   "id": "b6acfeff",
   "metadata": {},
   "outputs": [
    {
     "name": "stdout",
     "output_type": "stream",
     "text": [
      "Country area is 1912140.79 km2\n",
      "Magrove area is 270.75 km2\n",
      "Mangrove area is 0.014% of the country\n"
     ]
    }
   ],
   "source": [
    "mang_area = mang_data['Total Mangrove 2010'].sum()/100 # Convert from ha to km2\n",
    "prop_size = mang_area/total_area\n",
    "print(f'Country area is {total_area.round(2)} km2')\n",
    "print(f'Magrove area is {mang_area.round(2)} km2')\n",
    "print(f'Mangrove area is {round(prop_size*100, 3)}% of the country')"
   ]
  },
  {
   "cell_type": "markdown",
   "id": "d42739ea",
   "metadata": {},
   "source": [
    "### 3. Proportion of emission relative to mangrove %"
   ]
  },
  {
   "cell_type": "code",
   "execution_count": 27,
   "id": "3df6a286",
   "metadata": {},
   "outputs": [],
   "source": [
    "country='Indonesia'\n",
    "test_emissions = emissions[emissions['Country'] == country].copy()\n",
    "test_emissions.set_index('Process', inplace=True)\n",
    "test_emissions = test_emissions[test_emissions['Emissions'] >0]\n",
    "\n",
    "test_policy = policy_data[policy_data['Country'] == country][['Avoided_loss', 'Annual_opportunity']]\n",
    "\n",
    "#Proportional emissions\n",
    "test_emissions['Emissions'] = test_emissions['Emissions']*prop_size\n"
   ]
  },
  {
   "cell_type": "markdown",
   "id": "65aeeb38",
   "metadata": {},
   "source": [
    "### 4. Plot corrected data"
   ]
  },
  {
   "cell_type": "code",
   "execution_count": 34,
   "id": "a14f4123",
   "metadata": {},
   "outputs": [
    {
     "data": {
      "text/plain": [
       "<BarContainer object of 1 artists>"
      ]
     },
     "execution_count": 34,
     "metadata": {},
     "output_type": "execute_result"
    },
    {
     "data": {
      "image/png": "[encoded data removed]",
      "text/plain": [
       "<Figure size 432x288 with 1 Axes>"
      ]
     },
     "metadata": {
      "needs_background": "light"
     },
     "output_type": "display_data"
    }
   ],
   "source": [
    "bot = 0\n",
    "max_val = max([test_emissions['Emissions'].sum()+1, test_policy['Avoided_loss'].sum()+test_policy['Annual_opportunity'].sum()])\n",
    "for p in test_emissions.index:\n",
    "    #print(f'{p} is {test_emissions.loc[p, \"Emissions\"]}')\n",
    "    plt.bar('Emissions',test_emissions.loc[p, \"Emissions\"], bottom = bot) \n",
    "    plt.ylim(0, max_val)\n",
    "    #plt.legend(test_emissions.index, bbox_to_anchor=(1,1), loc=\"upper left\")\n",
    "    bot=bot+test_emissions.loc[p, \"Emissions\"]\n",
    "    #plt.add_patch(rect)   \n",
    "    \n",
    "\n",
    "plt.bar('Restoration', test_policy['Avoided_loss'], color = 'green')\n",
    "plt.bar('Restoration', test_policy['Annual_opportunity'],color = 'dodgerblue', bottom = test_policy['Avoided_loss']+0.01)\n",
    "#plt.legend(['Avoided_loss', 'Annual_opportunity'], bbox_to_anchor=(1,1), loc=\"upper left\")\n"
   ]
  },
  {
   "cell_type": "markdown",
   "id": "8e171b9c",
   "metadata": {},
   "source": []
  }
 ],
 "metadata": {
  "kernelspec": {
   "display_name": "Python 3 (ipykernel)",
   "language": "python",
   "name": "python3"
  },
  "language_info": {
   "codemirror_mode": {
    "name": "ipython",
    "version": 3
   },
   "file_extension": ".py",
   "mimetype": "text/x-python",
   "name": "python",
   "nbconvert_exporter": "python",
   "pygments_lexer": "ipython3",
   "version": "3.8.12"
  }
 },
 "nbformat": 4,
 "nbformat_minor": 5
}
