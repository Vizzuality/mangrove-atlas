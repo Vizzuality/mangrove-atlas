{
 "cells": [
  {
   "cell_type": "markdown",
   "metadata": {},
   "source": [
    "# Upload mangrove extent to GCS and as an asst to GEE"
   ]
  },
  {
   "cell_type": "markdown",
   "metadata": {},
   "source": [
    "This notebook gets mangrove extent data, uploads to GCS, and creates an earthengine image collection asset. Change in extent between years is calculated and exported to image collections. The linear distance from mangrove habitat is exported to an image collection."
   ]
  },
  {
   "cell_type": "markdown",
   "metadata": {},
   "source": [
    "## Setup"
   ]
  },
  {
   "cell_type": "code",
   "execution_count": 1,
   "metadata": {},
   "outputs": [],
   "source": [
    "import iso8601\n",
    "import pystac\n",
    "import python_jsonschema_objects\n",
    "import rasterio\n",
    "import rio_cogeo\n",
    "import shapely\n",
    "import zenodo_get\n",
    "import tqdm\n",
    "import pystac\n",
    "import uuid\n",
    "from google.cloud import storage\n",
    "from osgeo import gdal\n",
    "%run utils.ipynb"
   ]
  },
  {
   "cell_type": "code",
   "execution_count": 2,
   "metadata": {},
   "outputs": [
    {
     "data": {
      "text/plain": [
       "True"
      ]
     },
     "execution_count": 2,
     "metadata": {},
     "output_type": "execute_result"
    }
   ],
   "source": [
    "# Check shapely speedups are available\n",
    "from shapely import speedups\n",
    "speedups.enabled"
   ]
  },
  {
   "cell_type": "markdown",
   "metadata": {},
   "source": [
    "### Set Cloud credentials (could be done through and env file)"
   ]
  },
  {
   "cell_type": "code",
   "execution_count": 4,
   "metadata": {},
   "outputs": [],
   "source": [
    "# Set the Google Cloud params\n",
    "gc_project_id = \"mangrove-atlas-246414\"\n",
    "gc_creds = \"../../datasets/mangrove-atlas-246414-d7476c5d2381.json\"\n",
    "gc_username = \"tamara-huete-vizzuality-com@mangrove-atlas-246414.iam.gserviceaccount.com\"\n",
    "gcs_prefix = \"gs://mangrove_atlas\"\n",
    "gcs_http_prefix = \"https://storage.googleapis.com/mangrove_atlas\""
   ]
  },
  {
   "cell_type": "markdown",
   "metadata": {},
   "source": [
    "### Upload the raw file to mangrove atlas GCS"
   ]
  },
  {
   "cell_type": "code",
   "execution_count": 45,
   "metadata": {},
   "outputs": [],
   "source": [
    "import os\n",
    "import subprocess\n",
    "\n",
    "def copy_gcs(source_list, dest_list, opts=\"\"):\n",
    "  \"\"\"\n",
    "  Use gsutil to copy each corresponding item in source_list\n",
    "  to dest_list.\n",
    "\n",
    "  Example:\n",
    "  copy_gcs([\"gs://my-bucket/data-file.csv\"], [\".\"])\n",
    "\n",
    "  \"\"\"\n",
    "  for s, d  in zip(source_list, dest_list):\n",
    "    cmd = f\"gsutil -m cp -r {opts} {s} {d}\"\n",
    "    print(f\"Processing: {cmd}\")\n",
    "    r = subprocess.call(cmd, shell=True)\n",
    "    if r == 0:\n",
    "        print(\"Task created\")\n",
    "    else:\n",
    "        print(\"Task failed\")"
   ]
  },
  {
   "cell_type": "code",
   "execution_count": 33,
   "metadata": {},
   "outputs": [],
   "source": [
    "from google.cloud import storage\n",
    "\n",
    "def upload_blob(bucket_name, source_file_name, destination_blob_name):\n",
    "    \"\"\"Uploads a file to the bucket.\"\"\"\n",
    "    # bucket_name = \"your-bucket-name\"\n",
    "    # source_file_name = \"local/path/to/file\"\n",
    "    # destination_blob_name = \"storage-object-name\"\n",
    "\n",
    "    storage_client = storage.Client.from_service_account_json('../../datasets/service_account.json')\n",
    "    bucket = storage_client.bucket(bucket_name)\n",
    "    blob = bucket.blob(destination_blob_name)\n",
    "\n",
    "    blob.upload_from_filename(source_file_name)\n",
    "\n",
    "    print(\n",
    "        \"File {} uploaded to {}.\".format(\n",
    "            source_file_name, destination_blob_name\n",
    "        )\n",
    "    )"
   ]
  },
  {
   "cell_type": "code",
   "execution_count": 35,
   "metadata": {},
   "outputs": [
    {
     "name": "stdout",
     "output_type": "stream",
     "text": [
      "File ../../datasets/gmw_v3_fnl_mjr_v312_gtiff.tar.gz uploaded to land-cover/gmw_v3_fnl_mjr_v312_gtiff.tar.gz.\n"
     ]
    }
   ],
   "source": [
    "upload_blob('mangrove_atlas', '../../datasets/gmw_v3_fnl_mjr_v312_gtiff.tar.gz', 'land-cover/gmw_v3_fnl_mjr_v312_gtiff.tar.gz')"
   ]
  },
  {
   "cell_type": "markdown",
   "metadata": {},
   "source": [
    "### Convert separate original tiles to one single file"
   ]
  },
  {
   "cell_type": "code",
   "execution_count": 39,
   "metadata": {},
   "outputs": [],
   "source": [
    "# Set working directories\n",
    "path_in = \"../../datasets/gmw_v3_fnl_mjr_v312_gtiff\"\n",
    "path_out =\"../../datasets/gmw_v3_extent\"\n",
    "os.makedirs(path_out, exist_ok=True)"
   ]
  },
  {
   "cell_type": "code",
   "execution_count": 41,
   "metadata": {},
   "outputs": [
    {
     "name": "stdout",
     "output_type": "stream",
     "text": [
      "\n",
      "Building VRT\n",
      "\n",
      "0...10...20...30...40...50...60...70...80...90...100 - done.\n",
      "\n",
      "Building GeoTIFF\n",
      "\n",
      "Input file size is 1620000, 337500\n",
      "0...10...20...30...40...50...60...70...80...90...100 - done.\n",
      "\n",
      "Copying files to GCS\n",
      "\n",
      "File ../../datasets/gmw_v3_extent/gmw_v3_1996.tif uploaded to land-cover/gmw_v3_1996.tif.\n",
      "\n",
      "Building VRT\n",
      "\n",
      "0...10...20...30...40...50...60...70...80...90...100 - done.\n",
      "\n",
      "Building GeoTIFF\n",
      "\n",
      "Input file size is 1620000, 337500\n",
      "0...10...20...30...40...50...60...70...80...90...100 - done.\n",
      "\n",
      "Copying files to GCS\n",
      "\n",
      "File ../../datasets/gmw_v3_extent/gmw_v3_2007.tif uploaded to land-cover/gmw_v3_2007.tif.\n",
      "\n",
      "Building VRT\n",
      "\n",
      "0...10...20...30...40...50...60...70...80...90...100 - done.\n",
      "\n",
      "Building GeoTIFF\n",
      "\n",
      "Input file size is 1620000, 337500\n",
      "0...10...20...30...40...50...60...70...80...90...100 - done.\n",
      "\n",
      "Copying files to GCS\n",
      "\n",
      "File ../../datasets/gmw_v3_extent/gmw_v3_2008.tif uploaded to land-cover/gmw_v3_2008.tif.\n",
      "\n",
      "Building VRT\n",
      "\n",
      "0...10...20...30...40...50.ERROR 1: MissingRequired:TIFF directory is missing required \"ImageLength\" field\n",
      "..60...70...80...90..Warning 1: TIFFReadDirectoryCheckOrder:Invalid TIFF directory; tags are not sorted in ascending order\n",
      ".100 - done.\n",
      "\n",
      "Building GeoTIFF\n",
      "\n",
      "Input file size is 1620000, 337500\n",
      "0...10...20...30...40...50...60...70...80...90...100 - done.\n",
      "\n",
      "Copying files to GCS\n",
      "\n",
      "File ../../datasets/gmw_v3_extent/gmw_v3_2009.tif uploaded to land-cover/gmw_v3_2009.tif.\n",
      "\n",
      "Building VRT\n",
      "\n",
      "0..Warning 6: ../../datasets/gmw_v3_fnl_mjr_v312_gtiff/gmw_v3_fnl_mjr_2010_v312/GMW_N02E173_2010_mjr_v3_fnl.tif has different values than the first raster for some entries in the color table.\n",
      "The end result might produce weird colors.\n",
      "You're advised to pre-process your rasters with other tools, such as pct2rgb.py or gdal_translate -expand RGB\n",
      "to operate gdalbuildvrt on RGB rasters instead\n",
      ".10...20...30..ERROR 1: TIFFFetchDirectory:Sanity check on directory count failed, this is probably not a valid IFD offset\n",
      "ERROR 1: TIFFReadDirectory:Failed to read directory at offset 172700\n",
      ".40...50...60...70...80...90...100 - done.\n",
      "\n",
      "Building GeoTIFF\n",
      "\n",
      "Input file size is 1620000, 337500\n",
      "0...10...20...30...40...50...60...70...80...90...100 - done.\n",
      "\n",
      "Copying files to GCS\n",
      "\n",
      "File ../../datasets/gmw_v3_extent/gmw_v3_2010.tif uploaded to land-cover/gmw_v3_2010.tif.\n",
      "\n",
      "Building VRT\n",
      "\n",
      "0...10...20...30...40...50...60...70...80...90...100 - done.\n",
      "\n",
      "Building GeoTIFF\n",
      "\n",
      "Input file size is 1620000, 337500\n",
      "0...10...20...30...40...50...60...70...80...90...100 - done.\n",
      "\n",
      "Copying files to GCS\n",
      "\n",
      "File ../../datasets/gmw_v3_extent/gmw_v3_2015.tif uploaded to land-cover/gmw_v3_2015.tif.\n",
      "\n",
      "Building VRT\n",
      "\n",
      "0...10...20...30...40...50...60...70...80...90...100 - done.\n",
      "\n",
      "Building GeoTIFF\n",
      "\n",
      "Input file size is 1620000, 337500\n",
      "0...10...20...30...40...50...60...70...80...90...100 - done.\n",
      "\n",
      "Copying files to GCS\n",
      "\n",
      "File ../../datasets/gmw_v3_extent/gmw_v3_2016.tif uploaded to land-cover/gmw_v3_2016.tif.\n",
      "\n",
      "Building VRT\n",
      "\n",
      "0...10...20...30...40...50...60...70...80...90.ERROR 1: TIFFFetchDirectory:Sanity check on directory count failed, this is probably not a valid IFD offset\n",
      "ERROR 1: TIFFReadDirectory:Failed to read directory at offset 197080\n",
      "..100 - done.\n",
      "\n",
      "Building GeoTIFF\n",
      "\n",
      "Input file size is 1620000, 337500\n",
      "0...10...20...30...40...50...60...70...80...90...100 - done.\n",
      "\n",
      "Copying files to GCS\n",
      "\n",
      "File ../../datasets/gmw_v3_extent/gmw_v3_2017.tif uploaded to land-cover/gmw_v3_2017.tif.\n",
      "\n",
      "Building VRT\n",
      "\n",
      "0...10...20...30...40...50...60...70...80Warning 1: TIFFReadDirectoryCheckOrder:Invalid TIFF directory; tags are not sorted in ascending order\n",
      "...90...100 - done.\n",
      "\n",
      "Building GeoTIFF\n",
      "\n",
      "Input file size is 1620000, 337500\n",
      "0...10...20...30...40...50...60...70...80...90...100 - done.\n",
      "\n",
      "Copying files to GCS\n",
      "\n",
      "File ../../datasets/gmw_v3_extent/gmw_v3_2018.tif uploaded to land-cover/gmw_v3_2018.tif.\n",
      "\n",
      "Building VRT\n",
      "\n",
      "0...10...20...30...40...50...60...ERROR 1: MissingRequired:TIFF directory is missing required \"ImageLength\" field\n",
      "70...80...90...100 - done.\n",
      "\n",
      "Building GeoTIFF\n",
      "\n",
      "Input file size is 1620000, 337500\n",
      "0...10...20...30...40...50...60...70...80...90...100 - done.\n",
      "\n",
      "Copying files to GCS\n",
      "\n",
      "File ../../datasets/gmw_v3_extent/gmw_v3_2019.tif uploaded to land-cover/gmw_v3_2019.tif.\n",
      "\n",
      "Building VRT\n",
      "\n",
      "0...10...20...30...40...50...60...70...80...90...100 - done.\n",
      "\n",
      "Building GeoTIFF\n",
      "\n",
      "Input file size is 1620000, 337500\n",
      "0...10...20...30...40...50...60...70...80...90...100 - done.\n",
      "\n",
      "Copying files to GCS\n",
      "\n",
      "File ../../datasets/gmw_v3_extent/gmw_v3_2020.tif uploaded to land-cover/gmw_v3_2020.tif.\n",
      "CPU times: user 7min 20s, sys: 5min 2s, total: 12min 22s\n",
      "Wall time: 6h 57min 12s\n"
     ]
    }
   ],
   "source": [
    "%%time\n",
    "for y in [1996, 2007, 2008, 2009, 2010, 2015, 2016, 2017, 2018, 2019, 2020]:\n",
    "    print(\"\\nBuilding VRT\\n\")\n",
    "    !gdalbuildvrt {path_out}/gmw_v3_{y}.vrt {path_in}/gmw_v3_fnl_mjr_{y}_v312/*.tif\n",
    "    print(\"\\nBuilding GeoTIFF\\n\")\n",
    "    !gdal_translate -co \"BLOCKXSIZE=512\" -co \"BLOCKYSIZE=512\" -co \"TILED=YES\" -co \"BIGTIFF=YES\" -co \"COMPRESS=DEFLATE\" {path_out}/gmw_v3_{y}.vrt {path_out}/gmw_v3_{y}.tif\n",
    "    print(\"\\nCopying files to GCS\\n\")\n",
    "    upload_blob('mangrove_atlas', f'{path_out}/gmw_v3_{y}.tif', f'land-cover/gmw_v3_{y}.tif')"
   ]
  },
  {
   "cell_type": "markdown",
   "metadata": {},
   "source": [
    "### Create extent of mangrove forests Image collection\n",
    "The dataset is multiple single images (on GCS), each with different timestamp.\n",
    "\n",
    "Upload each image to imageCollection\n",
    "Export as single image\n",
    "Update image metadata\n",
    "Delete tmp files and imageCollection"
   ]
  },
  {
   "cell_type": "code",
   "execution_count": 5,
   "metadata": {},
   "outputs": [
    {
     "name": "stdout",
     "output_type": "stream",
     "text": [
      "Paste the following address into a web browser:\n",
      "\n",
      "    https://accounts.google.com/o/oauth2/auth?client_id=517222506229-vsmmajv00ul0bs7p89v5m89qs8eb9359.apps.googleusercontent.com&scope=https%3A%2F%2Fwww.googleapis.com%2Fauth%2Fearthengine+https%3A%2F%2Fwww.googleapis.com%2Fauth%2Fdevstorage.full_control&redirect_uri=urn%3Aietf%3Awg%3Aoauth%3A2.0%3Aoob&response_type=code&code_challenge=TZKRwRnwhB0GZTOkXvUS57sgspMUGUq22F-_ytEBcxs&code_challenge_method=S256\n",
      "\n",
      "On the web page, please authorize access to your Earth Engine account and copy the authentication code. Next authenticate with the following command:\n",
      "\n",
      "    earthengine authenticate --code-verifier=LkEpQi3nWt9OiwHf70qDyuswDjbaAjAPXSgiFkGXrPU --authorization-code=PLACE_AUTH_CODE_HERE\n",
      "\n"
     ]
    }
   ],
   "source": [
    "!earthengine authenticate --quiet"
   ]
  },
  {
   "cell_type": "code",
   "execution_count": 6,
   "metadata": {},
   "outputs": [
    {
     "name": "stdout",
     "output_type": "stream",
     "text": [
      "\n",
      "Successfully saved authorization token.\n"
     ]
    }
   ],
   "source": [
    "!earthengine authenticate --code-verifier=LkEpQi3nWt9OiwHf70qDyuswDjbaAjAPXSgiFkGXrPU --authorization-code=4/1AX4XfWhjJB02MX5cO96vaS-5OJmm0tBqdfVsZwjC874Qw-2k0tX-XC80Ehs"
   ]
  },
  {
   "cell_type": "code",
   "execution_count": 8,
   "metadata": {},
   "outputs": [
    {
     "data": {
      "text/html": [
       "<p>To authorize access needed by Earth Engine, open the following\n",
       "        URL in a web browser and follow the instructions:</p>\n",
       "        <p><a href=https://accounts.google.com/o/oauth2/auth?client_id=517222506229-vsmmajv00ul0bs7p89v5m89qs8eb9359.apps.googleusercontent.com&scope=https%3A%2F%2Fwww.googleapis.com%2Fauth%2Fearthengine+https%3A%2F%2Fwww.googleapis.com%2Fauth%2Fdevstorage.full_control&redirect_uri=urn%3Aietf%3Awg%3Aoauth%3A2.0%3Aoob&response_type=code&code_challenge=V47rKUAtaBpqML-WjdmFAry3Y-6S0VaVDlbtjxorEjE&code_challenge_method=S256>https://accounts.google.com/o/oauth2/auth?client_id=517222506229-vsmmajv00ul0bs7p89v5m89qs8eb9359.apps.googleusercontent.com&scope=https%3A%2F%2Fwww.googleapis.com%2Fauth%2Fearthengine+https%3A%2F%2Fwww.googleapis.com%2Fauth%2Fdevstorage.full_control&redirect_uri=urn%3Aietf%3Awg%3Aoauth%3A2.0%3Aoob&response_type=code&code_challenge=V47rKUAtaBpqML-WjdmFAry3Y-6S0VaVDlbtjxorEjE&code_challenge_method=S256</a></p>\n",
       "        <p>The authorization workflow will generate a code, which you\n",
       "        should paste in the box below</p>\n",
       "        "
      ],
      "text/plain": [
       "<IPython.core.display.HTML object>"
      ]
     },
     "metadata": {},
     "output_type": "display_data"
    },
    {
     "name": "stdin",
     "output_type": "stream",
     "text": [
      "Enter verification code:  4/1AX4XfWgW4UKSdbIJpntdoNcygXtaicTtFrZgsYaT8clAEYhgvyZorjopRO0\n"
     ]
    },
    {
     "name": "stdout",
     "output_type": "stream",
     "text": [
      "\n",
      "Successfully saved authorization token.\n"
     ]
    }
   ],
   "source": [
    "# Authenticate earthengine\n",
    "import ee\n",
    "\n",
    "# Trigger the authentication flow.\n",
    "ee.Authenticate()\n",
    "\n",
    "# Initialize the library.\n",
    "ee.Initialize()"
   ]
  },
  {
   "cell_type": "code",
   "execution_count": null,
   "metadata": {},
   "outputs": [],
   "source": [
    "### Get metadata from v2"
   ]
  },
  {
   "cell_type": "code",
   "execution_count": 9,
   "metadata": {},
   "outputs": [],
   "source": [
    "storage_client = storage.Client.from_service_account_json('../../datasets/service_account.json')\n",
    "bucket_name= 'mangrove_atlas'"
   ]
  },
  {
   "cell_type": "code",
   "execution_count": 33,
   "metadata": {},
   "outputs": [],
   "source": [
    "# asset path\n",
    "ee_asset_path = f\"projects/global-mangrove-watch/land-cover/mangrove-extent\" ## using generic name\n",
    "\n",
    "# get description from file (currently using v2 as v3 is not available)\n",
    "\n",
    "bucket = storage_client.get_bucket(bucket_name)\n",
    "    # Create a blob object from the filepath\n",
    "blob = bucket.blob(\"land-cover/mangrove-extent_version-2-0_1996--2016_description.md\")\n",
    "    # Download the file to a destination\n",
    "blob.download_to_filename(\"../../datasets/mangrove-extent_version-2-0_1996--2016_description.md\")\n",
    "with open(\"../../datasets/mangrove-extent_version-2-0_1996--2016_description.md\", \"r\") as f:\n",
    "    description = f.read()\n",
    "description = description.replace (\"#\",\"\")\n",
    "\n",
    "# set collection properties (these are compatible with Skydipper.Dataset.Metadata)\n",
    "collection_properties = {\n",
    "    'name': \"Global extent of mangrove forests\",\n",
    "    'version': \"3.0\",\n",
    "    'creator': \"Global Mangrove Watch (GMW): Aberystwyth University/soloEO/Wetlands International/UNEP-WCMC/JAXA/DOB Ecology\",\n",
    "    'description': description,\n",
    "    'identifier': \"\",\n",
    "    'keywords': \"Erosion; Coasts; Natural Infrastructure; Biodiversity; Blue Carbon; Forests; Mangroves; Landcover\",\n",
    "    'citation': \"Bunting, Pete, Ake Rosenqvist, Richard M. Lucas, Lisa-Maria Rebelo, Lammert Hilarides, Nathan Thomas, Andy Hardy, Takuya Itoh, Masanobu Shimada, and C. Max Finlayson. “The Global Mangrove Watch—A New 2010 Global Baseline of Mangrove Extent.” Remote Sensing 10, no. 10 (October 2018): 1669. doi: 10.3390/rs10101669.\",\n",
    "    'license': \"https://creativecommons.org/licenses/by/4.0/\",\n",
    "    'url': \"\",\n",
    "    'language': 'en', \n",
    "    'altName': \"Global Mangrove Watch, Version 3.0\",\n",
    "    'distribution': \"\",\n",
    "    'variableMeasured': \"Presence of mangrove forest habitat\",\n",
    "    'units': \"1\",\n",
    "    'spatialCoverage': \"Global tropics\",\n",
    "    'temporalCoverage': \"1996--2020\",\n",
    "    'dataLineage': \"Raster data supplied by Aberystwyth University (Dr. Dave Bunting) as tilesets per year, each tilset was combined, and added to Google earth engine as multi-temporal ImageCollection.\"\n",
    "}\n",
    "\n",
    "# set individual image properties (minimal)\n",
    "image_properties = {\n",
    "    \"band_nodata_values\": 0,\n",
    "    \"band_pyramiding_policies\": \"mode\",\n",
    "    \"band_names\": \"lc\"\n",
    "}"
   ]
  },
  {
   "cell_type": "code",
   "execution_count": null,
   "metadata": {},
   "outputs": [],
   "source": [
    "#### Repeat but creating the Image collection first. if not, It does not show the Properties/Details/Description tabs\n",
    "gee_create_image_collection(ee_asset_path, \n",
    "                            image_start_times= [f\"{y}-01-01\" for y in [1996, 2007, 2008, 2009, 2010, 2015, 2016, 2017, 2018, 2019, 2020]],\n",
    "                            collection_properties = {}, dry_run=False)"
   ]
  },
  {
   "cell_type": "code",
   "execution_count": 32,
   "metadata": {},
   "outputs": [
    {
     "name": "stdout",
     "output_type": "stream",
     "text": [
      "\n",
      "Searching gs://mangrove_atlas/land-cover/gmw_*.tif\n",
      "\n",
      "\n",
      "Found 11 path(s)\n",
      "\n"
     ]
    },
    {
     "data": {
      "text/plain": [
       "['gs://mangrove_atlas/land-cover/gmw_v3_1996.tif',\n",
       " 'gs://mangrove_atlas/land-cover/gmw_v3_2007.tif',\n",
       " 'gs://mangrove_atlas/land-cover/gmw_v3_2008.tif',\n",
       " 'gs://mangrove_atlas/land-cover/gmw_v3_2009.tif',\n",
       " 'gs://mangrove_atlas/land-cover/gmw_v3_2010.tif',\n",
       " 'gs://mangrove_atlas/land-cover/gmw_v3_2015.tif',\n",
       " 'gs://mangrove_atlas/land-cover/gmw_v3_2016.tif',\n",
       " 'gs://mangrove_atlas/land-cover/gmw_v3_2017.tif',\n",
       " 'gs://mangrove_atlas/land-cover/gmw_v3_2018.tif',\n",
       " 'gs://mangrove_atlas/land-cover/gmw_v3_2019.tif',\n",
       " 'gs://mangrove_atlas/land-cover/gmw_v3_2020.tif']"
      ]
     },
     "execution_count": 32,
     "metadata": {},
     "output_type": "execute_result"
    }
   ],
   "source": [
    "list_paths(\"gs://mangrove_atlas\", \"land-cover\", file_pattern=\"gmw_*.tif\", gsutil=True, return_dir_path=False)"
   ]
  },
  {
   "cell_type": "code",
   "execution_count": 47,
   "metadata": {},
   "outputs": [
    {
     "name": "stdout",
     "output_type": "stream",
     "text": [
      "\n",
      "Getting file paths...\n",
      "\n",
      "Searching gs://mangrove_atlas/land-cover/gmw_v3*.tif\n",
      "\n",
      "\n",
      "Found 11 path(s)\n",
      "\n",
      "\n",
      "\n",
      "\n",
      "Checking if collection exists...\n",
      "\n",
      "ee.ImageCollection projects/global-mangrove-watch/land-cover/mangrove-extent exists, with properties\n",
      ":\n",
      "{\n",
      "  \"description\": \"# Global extent of mangrove forests\\\\n\\\\nThis dataset shows the global extent of mangroves for 1996, 2007, 2008, 2009, 2010, 2015 and 2016. This is the first global map of mangrove extent produced using an automated, reproducible, and globally consistent methodology, using a combination of optical and radar satellite data.\\\\n\\\\nMangroves are forested intertidal ecosystems that perform critical landscape-level functions related to the regulation of freshwater, nutrients, and sediment inputs into marine areas. They play a key role in helping to control the quality of marine coastal waters. Mangroves are of critical importance as breeding and nursery sites for birds, fish, and crustaceans. Additionally, they constitute important sinks for carbon storage. Once abundant along the world\\\\u2019s tropical and subtropical coastlines, mangroves are in global decline. Significant drivers of change include removal for aquaculture, agriculture, energy exploitation and other industrial development, with an unknown proportion of the remaining mangroves fragmented and degraded. Mangroves are also sensitive to climate change effects such as sea level rise, temperature extremes, and changes in hydrology.\\\\n\\\\nThe dataset has been generated by the Global Mangrove Watch (GMW) \\\\u2013 a collaboration between Aberystwyth University (U.K.), solo Earth Observation (soloEO), Wetlands International, the World Conservation Monitoring Centre (UNEP-WCMC) and the Japan Aerospace Exploration Agency (JAXA). DOB Ecology supported the mapping in Africa through the Mangrove Capital Africa project.\\\\n\\\\n## Methodology\\\\n\\\\nThe mangrove maps were derived in two steps: 1) generation of a baseline map of global mangrove extent for the year 2010 and 2) detection of changes between the 2010 baseline and each of the other six years.\\\\n\\\\n### 2010 global mangrove extent baseline map\\\\n\\\\nThe 2010 baseline map was derived by the Random Forest Classification algorithm that used a combination of L-band radar (ALOS PALSAR) and optical (Landsat-5, -7) satellite data. Approximately 15,000 Landsat scenes and 1,500 ALOS PALSAR (1 x 1 degree) mosaic tiles were used to create optical and radar image composites covering the coastlines along the tropical and sub-tropical coastlines in the Americas, Africa, Asia, and Oceania.\\\\n\\\\nThe classification was confined using a mangrove habitat mask, which defined regions where mangrove ecosystems can be expected to exist. The mangrove habitat definition was generated based on geographical parameters such as latitude, elevation, and distance from ocean water. Training for the habitat mask and classification of the 2010 mangrove mask was based on randomly sampling 38 million points using historical mangrove maps (for the year 2000) of Giri et al. (2011) and Spalding et al. (2010) and the water occurrence layer defined by Pekel et al. (2017).\\\\n\\\\nClassification accuracy of the 2010 baseline dataset was assessed with approximately 53,800 randomly sampled points across 20 randomly selected regions. Overall accuracy was 95.25 %, while User\\\\u2019s and Producer\\\\u2019s accuracies for the mangrove class were estimated at 97.5% and 94.0%, respectively.\\\\n\\\\n### 1996, 2007, 2008, 2009, 2015 and 2016 maps of mangrove extent and changes\\\\n\\\\nThe maps for the other six years were derived by detection and classification of losses (defined as a decrease in radar backscatter) and gains (defined as a backscatter increase) between the 2010 ALOS PALSAR data and JERS-1 SAR (1996), ALOS PALSAR (2007, 2008 & 2009) and ALOS-2 PALSAR-2 (2015 & 2016) data. The change pixels for each year in question were then added or removed from the 2010 baseline raster mask (buffered to allow detection of mangrove gains also immediately outside of the mask) to produce the new yearly extent maps. Classification accuracies of the changes were assessed with over 45,000 points, with an overall accuracy of 75.0 %.\\\\n\\\\nFor the full documentation, please see the source [methodology](https://www.mdpi.com/2072-4292/10/10/1669).\\\\n\",\n",
      "  \"endTime\": \"2019-01-01T00:00:00Z\",\n",
      "  \"id\": \"projects/global-mangrove-watch/land-cover/mangrove-extent\",\n",
      "  \"name\": \"projects/earthengine-legacy/assets/projects/global-mangrove-watch/land-cover/mangrove-extent\",\n",
      "  \"properties\": {\n",
      "    \"altName\": \"Global Mangrove Watch, Version 3.0\",\n",
      "    \"citation\": \"Bunting, Pete, Ake Rosenqvist, Richard M. Lucas, Lisa-Maria Rebelo, Lammert Hilarides, Nathan Thomas, Andy Hardy, Takuya Itoh, Masanobu Shimada, and C. Max Finlayson. \\\\u201cThe Global Mangrove Watch\\\\u2014A New 2010 Global Baseline of Mangrove Extent.\\\\u201d Remote Sensing 10, no. 10 (October 2018): 1669. doi: 10.3390/rs10101669.\",\n",
      "    \"creator\": \"Global Mangrove Watch (GMW): Aberystwyth University/soloEO/Wetlands International/UNEP-WCMC/JAXA/DOB Ecology\",\n",
      "    \"dataLineage\": \"Raster data supplied by Aberystwyth University (Dr. Dave Bunting) as tilesets per year, each tilset was combined, and added to Google earth engine as multi-temporal ImageCollection.\",\n",
      "    \"description\": \"# Global extent of mangrove forests\\\\n\\\\nThis dataset shows the global extent of mangroves for 1996, 2007, 2008, 2009, 2010, 2015 and 2016. This is the first global map of mangrove extent produced using an automated, reproducible, and globally consistent methodology, using a combination of optical and radar satellite data.\\\\n\\\\nMangroves are forested intertidal ecosystems that perform critical landscape-level functions related to the regulation of freshwater, nutrients, and sediment inputs into marine areas. They play a key role in helping to control the quality of marine coastal waters. Mangroves are of critical importance as breeding and nursery sites for birds, fish, and crustaceans. Additionally, they constitute important sinks for carbon storage. Once abundant along the world\\\\u2019s tropical and subtropical coastlines, mangroves are in global decline. Significant drivers of change include removal for aquaculture, agriculture, energy exploitation and other industrial development, with an unknown proportion of the remaining mangroves fragmented and degraded. Mangroves are also sensitive to climate change effects such as sea level rise, temperature extremes, and changes in hydrology.\\\\n\\\\nThe dataset has been generated by the Global Mangrove Watch (GMW) \\\\u2013 a collaboration between Aberystwyth University (U.K.), solo Earth Observation (soloEO), Wetlands International, the World Conservation Monitoring Centre (UNEP-WCMC) and the Japan Aerospace Exploration Agency (JAXA). DOB Ecology supported the mapping in Africa through the Mangrove Capital Africa project.\\\\n\\\\n## Methodology\\\\n\\\\nThe mangrove maps were derived in two steps: 1) generation of a baseline map of global mangrove extent for the year 2010 and 2) detection of changes between the 2010 baseline and each of the other six years.\\\\n\\\\n### 2010 global mangrove extent baseline map\\\\n\\\\nThe 2010 baseline map was derived by the Random Forest Classification algorithm that used a combination of L-band radar (ALOS PALSAR) and optical (Landsat-5, -7) satellite data. Approximately 15,000 Landsat scenes and 1,500 ALOS PALSAR (1 x 1 degree) mosaic tiles were used to create optical and radar image composites covering the coastlines along the tropical and sub-tropical coastlines in the Americas, Africa, Asia, and Oceania.\\\\n\\\\nThe classification was confined using a mangrove habitat mask, which defined regions where mangrove ecosystems can be expected to exist. The mangrove habitat definition was generated based on geographical parameters such as latitude, elevation, and distance from ocean water. Training for the habitat mask and classification of the 2010 mangrove mask was based on randomly sampling 38 million points using historical mangrove maps (for the year 2000) of Giri et al. (2011) and Spalding et al. (2010) and the water occurrence layer defined by Pekel et al. (2017).\\\\n\\\\nClassification accuracy of the 2010 baseline dataset was assessed with approximately 53,800 randomly sampled points across 20 randomly selected regions. Overall accuracy was 95.25 %, while User\\\\u2019s and Producer\\\\u2019s accuracies for the mangrove class were estimated at 97.5% and 94.0%, respectively.\\\\n\\\\n### 1996, 2007, 2008, 2009, 2015 and 2016 maps of mangrove extent and changes\\\\n\\\\nThe maps for the other six years were derived by detection and classification of losses (defined as a decrease in radar backscatter) and gains (defined as a backscatter increase) between the 2010 ALOS PALSAR data and JERS-1 SAR (1996), ALOS PALSAR (2007, 2008 & 2009) and ALOS-2 PALSAR-2 (2015 & 2016) data. The change pixels for each year in question were then added or removed from the 2010 baseline raster mask (buffered to allow detection of mangrove gains also immediately outside of the mask) to produce the new yearly extent maps. Classification accuracies of the changes were assessed with over 45,000 points, with an overall accuracy of 75.0 %.\\\\n\\\\nFor the full documentation, please see the source [methodology](https://www.mdpi.com/2072-4292/10/10/1669).\\\\n\",\n",
      "    \"distribution\": \"\",\n",
      "    \"identifier\": \"\",\n",
      "    \"keywords\": \"Erosion; Coasts; Natural Infrastructure; Biodiversity; Blue Carbon; Forests; Mangroves; Landcover\",\n",
      "    \"language\": \"en\",\n",
      "    \"license\": \"https://creativecommons.org/licenses/by/4.0/\",\n",
      "    \"name\": \"Global extent of mangrove forests\",\n",
      "    \"spatialCoverage\": \"Global tropics\",\n",
      "    \"temporalCoverage\": \"1996--2020\",\n",
      "    \"units\": 1,\n",
      "    \"url\": \"\",\n",
      "    \"variableMeasured\": \"Presence of mangrove forest habitat\",\n",
      "    \"version\": 3\n",
      "  },\n",
      "  \"startTime\": \"1996-01-01T00:00:00Z\",\n",
      "  \"type\": \"IMAGE_COLLECTION\",\n",
      "  \"updateTime\": \"2021-12-01T17:54:31.323693Z\"\n",
      "}\n",
      "\n",
      "\n",
      "Updating ImageCollection properties...\n",
      "\n",
      "Updated properties for asset: projects/global-mangrove-watch/land-cover/mangrove-extent\n",
      "\n",
      "{\n",
      "  \"description\": \"# Global extent of mangrove forests\\\\n\\\\nThis dataset shows the global extent of mangroves for 1996, 2007, 2008, 2009, 2010, 2015 and 2016. This is the first global map of mangrove extent produced using an automated, reproducible, and globally consistent methodology, using a combination of optical and radar satellite data.\\\\n\\\\nMangroves are forested intertidal ecosystems that perform critical landscape-level functions related to the regulation of freshwater, nutrients, and sediment inputs into marine areas. They play a key role in helping to control the quality of marine coastal waters. Mangroves are of critical importance as breeding and nursery sites for birds, fish, and crustaceans. Additionally, they constitute important sinks for carbon storage. Once abundant along the world\\\\u2019s tropical and subtropical coastlines, mangroves are in global decline. Significant drivers of change include removal for aquaculture, agriculture, energy exploitation and other industrial development, with an unknown proportion of the remaining mangroves fragmented and degraded. Mangroves are also sensitive to climate change effects such as sea level rise, temperature extremes, and changes in hydrology.\\\\n\\\\nThe dataset has been generated by the Global Mangrove Watch (GMW) \\\\u2013 a collaboration between Aberystwyth University (U.K.), solo Earth Observation (soloEO), Wetlands International, the World Conservation Monitoring Centre (UNEP-WCMC) and the Japan Aerospace Exploration Agency (JAXA). DOB Ecology supported the mapping in Africa through the Mangrove Capital Africa project.\\\\n\\\\n## Methodology\\\\n\\\\nThe mangrove maps were derived in two steps: 1) generation of a baseline map of global mangrove extent for the year 2010 and 2) detection of changes between the 2010 baseline and each of the other six years.\\\\n\\\\n### 2010 global mangrove extent baseline map\\\\n\\\\nThe 2010 baseline map was derived by the Random Forest Classification algorithm that used a combination of L-band radar (ALOS PALSAR) and optical (Landsat-5, -7) satellite data. Approximately 15,000 Landsat scenes and 1,500 ALOS PALSAR (1 x 1 degree) mosaic tiles were used to create optical and radar image composites covering the coastlines along the tropical and sub-tropical coastlines in the Americas, Africa, Asia, and Oceania.\\\\n\\\\nThe classification was confined using a mangrove habitat mask, which defined regions where mangrove ecosystems can be expected to exist. The mangrove habitat definition was generated based on geographical parameters such as latitude, elevation, and distance from ocean water. Training for the habitat mask and classification of the 2010 mangrove mask was based on randomly sampling 38 million points using historical mangrove maps (for the year 2000) of Giri et al. (2011) and Spalding et al. (2010) and the water occurrence layer defined by Pekel et al. (2017).\\\\n\\\\nClassification accuracy of the 2010 baseline dataset was assessed with approximately 53,800 randomly sampled points across 20 randomly selected regions. Overall accuracy was 95.25 %, while User\\\\u2019s and Producer\\\\u2019s accuracies for the mangrove class were estimated at 97.5% and 94.0%, respectively.\\\\n\\\\n### 1996, 2007, 2008, 2009, 2015 and 2016 maps of mangrove extent and changes\\\\n\\\\nThe maps for the other six years were derived by detection and classification of losses (defined as a decrease in radar backscatter) and gains (defined as a backscatter increase) between the 2010 ALOS PALSAR data and JERS-1 SAR (1996), ALOS PALSAR (2007, 2008 & 2009) and ALOS-2 PALSAR-2 (2015 & 2016) data. The change pixels for each year in question were then added or removed from the 2010 baseline raster mask (buffered to allow detection of mangrove gains also immediately outside of the mask) to produce the new yearly extent maps. Classification accuracies of the changes were assessed with over 45,000 points, with an overall accuracy of 75.0 %.\\\\n\\\\nFor the full documentation, please see the source [methodology](https://www.mdpi.com/2072-4292/10/10/1669).\\\\n\",\n",
      "  \"endTime\": \"2020-01-01T00:00:00Z\",\n",
      "  \"id\": \"projects/global-mangrove-watch/land-cover/mangrove-extent\",\n",
      "  \"name\": \"projects/earthengine-legacy/assets/projects/global-mangrove-watch/land-cover/mangrove-extent\",\n",
      "  \"properties\": {\n",
      "    \"altName\": \"Global Mangrove Watch, Version 3.0\",\n",
      "    \"citation\": \"Bunting, Pete, Ake Rosenqvist, Richard M. Lucas, Lisa-Maria Rebelo, Lammert Hilarides, Nathan Thomas, Andy Hardy, Takuya Itoh, Masanobu Shimada, and C. Max Finlayson. \\\\u201cThe Global Mangrove Watch\\\\u2014A New 2010 Global Baseline of Mangrove Extent.\\\\u201d Remote Sensing 10, no. 10 (October 2018): 1669. doi: 10.3390/rs10101669.\",\n",
      "    \"creator\": \"Global Mangrove Watch (GMW): Aberystwyth University/soloEO/Wetlands International/UNEP-WCMC/JAXA/DOB Ecology\",\n",
      "    \"dataLineage\": \"Raster data supplied by Aberystwyth University (Dr. Dave Bunting) as tilesets per year, each tilset was combined, and added to Google earth engine as multi-temporal ImageCollection.\",\n",
      "    \"description\": \"# Global extent of mangrove forests\\\\n\\\\nThis dataset shows the global extent of mangroves for 1996, 2007, 2008, 2009, 2010, 2015 and 2016. This is the first global map of mangrove extent produced using an automated, reproducible, and globally consistent methodology, using a combination of optical and radar satellite data.\\\\n\\\\nMangroves are forested intertidal ecosystems that perform critical landscape-level functions related to the regulation of freshwater, nutrients, and sediment inputs into marine areas. They play a key role in helping to control the quality of marine coastal waters. Mangroves are of critical importance as breeding and nursery sites for birds, fish, and crustaceans. Additionally, they constitute important sinks for carbon storage. Once abundant along the world\\\\u2019s tropical and subtropical coastlines, mangroves are in global decline. Significant drivers of change include removal for aquaculture, agriculture, energy exploitation and other industrial development, with an unknown proportion of the remaining mangroves fragmented and degraded. Mangroves are also sensitive to climate change effects such as sea level rise, temperature extremes, and changes in hydrology.\\\\n\\\\nThe dataset has been generated by the Global Mangrove Watch (GMW) \\\\u2013 a collaboration between Aberystwyth University (U.K.), solo Earth Observation (soloEO), Wetlands International, the World Conservation Monitoring Centre (UNEP-WCMC) and the Japan Aerospace Exploration Agency (JAXA). DOB Ecology supported the mapping in Africa through the Mangrove Capital Africa project.\\\\n\\\\n## Methodology\\\\n\\\\nThe mangrove maps were derived in two steps: 1) generation of a baseline map of global mangrove extent for the year 2010 and 2) detection of changes between the 2010 baseline and each of the other six years.\\\\n\\\\n### 2010 global mangrove extent baseline map\\\\n\\\\nThe 2010 baseline map was derived by the Random Forest Classification algorithm that used a combination of L-band radar (ALOS PALSAR) and optical (Landsat-5, -7) satellite data. Approximately 15,000 Landsat scenes and 1,500 ALOS PALSAR (1 x 1 degree) mosaic tiles were used to create optical and radar image composites covering the coastlines along the tropical and sub-tropical coastlines in the Americas, Africa, Asia, and Oceania.\\\\n\\\\nThe classification was confined using a mangrove habitat mask, which defined regions where mangrove ecosystems can be expected to exist. The mangrove habitat definition was generated based on geographical parameters such as latitude, elevation, and distance from ocean water. Training for the habitat mask and classification of the 2010 mangrove mask was based on randomly sampling 38 million points using historical mangrove maps (for the year 2000) of Giri et al. (2011) and Spalding et al. (2010) and the water occurrence layer defined by Pekel et al. (2017).\\\\n\\\\nClassification accuracy of the 2010 baseline dataset was assessed with approximately 53,800 randomly sampled points across 20 randomly selected regions. Overall accuracy was 95.25 %, while User\\\\u2019s and Producer\\\\u2019s accuracies for the mangrove class were estimated at 97.5% and 94.0%, respectively.\\\\n\\\\n### 1996, 2007, 2008, 2009, 2015 and 2016 maps of mangrove extent and changes\\\\n\\\\nThe maps for the other six years were derived by detection and classification of losses (defined as a decrease in radar backscatter) and gains (defined as a backscatter increase) between the 2010 ALOS PALSAR data and JERS-1 SAR (1996), ALOS PALSAR (2007, 2008 & 2009) and ALOS-2 PALSAR-2 (2015 & 2016) data. The change pixels for each year in question were then added or removed from the 2010 baseline raster mask (buffered to allow detection of mangrove gains also immediately outside of the mask) to produce the new yearly extent maps. Classification accuracies of the changes were assessed with over 45,000 points, with an overall accuracy of 75.0 %.\\\\n\\\\nFor the full documentation, please see the source [methodology](https://www.mdpi.com/2072-4292/10/10/1669).\\\\n\",\n",
      "    \"distribution\": \"\",\n",
      "    \"identifier\": \"\",\n",
      "    \"keywords\": \"Erosion; Coasts; Natural Infrastructure; Biodiversity; Blue Carbon; Forests; Mangroves; Landcover\",\n",
      "    \"language\": \"en\",\n",
      "    \"license\": \"https://creativecommons.org/licenses/by/4.0/\",\n",
      "    \"name\": \"Global extent of mangrove forests\",\n",
      "    \"spatialCoverage\": \"Global tropics\",\n",
      "    \"temporalCoverage\": \"1996--2020\",\n",
      "    \"units\": 1,\n",
      "    \"url\": \"\",\n",
      "    \"variableMeasured\": \"Presence of mangrove forest habitat\",\n",
      "    \"version\": 3\n",
      "  },\n",
      "  \"startTime\": \"1996-01-01T00:00:00Z\",\n",
      "  \"type\": \"IMAGE_COLLECTION\",\n",
      "  \"updateTime\": \"2021-12-02T08:31:33.368031Z\"\n",
      "}\n",
      "\n"
     ]
    },
    {
     "data": {
      "application/vnd.jupyter.widget-view+json": {
       "model_id": "5dae37748d9b4c44ae1159f03b4f49e5",
       "version_major": 2,
       "version_minor": 0
      },
      "text/plain": [
       "Creating upload tasks:   0%|          | 0/11 [00:00<?, ?it/s]"
      ]
     },
     "metadata": {},
     "output_type": "display_data"
    },
    {
     "name": "stdout",
     "output_type": "stream",
     "text": [
      "Started upload task with ID: PN2VHC6SN25MPV55Q22MVDXG\n",
      "Started upload task with ID: 7DY2O433Q4E6ULHMNPOMOSGS\n",
      "Started upload task with ID: X53D37KP5VHR5B2CBKN74VQQ\n",
      "Started upload task with ID: WA3E5OPMCSC6AW3O36RBYQ5K\n",
      "Started upload task with ID: 4TERP53L5ZIFGPYWMRNA4OUS\n",
      "Started upload task with ID: 6YW7GNKCX56GLB3YLNLX34VY\n",
      "Started upload task with ID: 3A2OE5U2TCKF4LUWUKJYGZXK\n",
      "Started upload task with ID: W3R35SQZ2SQJJYFUQOIFX43J\n",
      "Started upload task with ID: DV6DQPMEIRNZTIM5I6HY7LYG\n",
      "Started upload task with ID: NS6W54AOXNTCQS2BVRSHCKEP\n",
      "Started upload task with ID: XSGVQFBRSHVWJ7G6B6LW4XJ6\n",
      "\n",
      "Finished upload to projects/global-mangrove-watch/land-cover/mangrove-extent\n"
     ]
    }
   ],
   "source": [
    "# Create ee.ImageCollection, add collecion_properties, and create upload tasks\n",
    "# You can use dry_run = True to check cmds before running process!\n",
    "gee_upload_images_to_collection(\n",
    "    uri_prefix = gcs_prefix,\n",
    "    dir_path = \"land-cover\",\n",
    "    file_pattern=\"gmw_v3*.tif\",\n",
    "    ee_asset_path = ee_asset_path,\n",
    "    image_start_times = [f\"{y}-01-01\" for y in [1996, 2007, 2008, 2009, 2010, 2015, 2016, 2017, 2018, 2019, 2020]],\n",
    "    band_names = [\"lc\"],\n",
    "    band_pyramiding_policys = [\"mode\"],\n",
    "    band_nodata_values = [0],\n",
    "    collection_properties = collection_properties,\n",
    "    image_properties=[image_properties],\n",
    "    gcs_tmp_path = None,\n",
    "    force=True,\n",
    "    dry_run=False\n",
    "    )"
   ]
  },
  {
   "cell_type": "code",
   "execution_count": 10,
   "metadata": {},
   "outputs": [],
   "source": [
    "# Check task status\n",
    "!earthengine task list --status RUNNING"
   ]
  },
  {
   "cell_type": "code",
   "execution_count": null,
   "metadata": {},
   "outputs": [],
   "source": [
    "# Check ImageCollection properties\n",
    "!earthengine asset info {ee_asset_path}"
   ]
  },
  {
   "cell_type": "code",
   "execution_count": null,
   "metadata": {},
   "outputs": [],
   "source": []
  }
 ],
 "metadata": {
  "kernelspec": {
   "display_name": "Python 3 (ipykernel)",
   "language": "python",
   "name": "python3"
  },
  "language_info": {
   "codemirror_mode": {
    "name": "ipython",
    "version": 3
   },
   "file_extension": ".py",
   "mimetype": "text/x-python",
   "name": "python",
   "nbconvert_exporter": "python",
   "pygments_lexer": "ipython3",
   "version": "3.8.12"
  }
 },
 "nbformat": 4,
 "nbformat_minor": 4
}
