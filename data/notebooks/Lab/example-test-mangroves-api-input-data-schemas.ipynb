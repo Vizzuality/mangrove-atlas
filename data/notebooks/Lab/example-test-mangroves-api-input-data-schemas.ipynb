{
 "cells": [
  {
   "cell_type": "code",
   "execution_count": 15,
   "id": "e2db596a",
   "metadata": {},
   "outputs": [],
   "source": [
    "from pandera.typing import Series\n",
    "from hypothesis import given\n",
    "import pandera as pa\n",
    "import pandas as pd\n",
    "import os\n",
    "import requests"
   ]
  },
  {
   "cell_type": "code",
   "execution_count": 13,
   "id": "c7c86eb5",
   "metadata": {},
   "outputs": [],
   "source": [
    "class OutputSchema(pa.SchemaModel):\n",
    "    year: Series[int] = pa.Field(nullable=False, ge=1996, le=2016)\n",
    "    total: Series[float] = pa.Field(nullable=True,ge=0., le=10000000000.)\n",
    "    protected: Series[float] = pa.Field(nullable=True, ge=0., le=10000000000.)\n",
    "    location_id: Series[str] = pa.Field(nullable=False, allow_duplicates=True)\n",
    "    # checks while trying to generate a strategy and a example seems to fail, i need to investigate further\n",
    "    @pa.check(\"location_id\")\n",
    "    def location_id_check(cls, series: Series[str]) -> Series[bool]:\n",
    "        \"\"\"Check that location_id is a valid location_id\"\"\"\n",
    "        # TODO: substitute Array with the locations ids array\n",
    "        return series.isin(['cow', 'lama'])\n",
    "\n",
    "def transformationPipe(filePath: str, sheet: str = 'Sheet3') -> str:\n",
    "    \"\"\"\n",
    "    Transform the dataframe from the excel file to a pandas dataframe\n",
    "    Args:\n",
    "        filePath (str): path to the excel file\n",
    "        sheet (str, optional): name of the sheet in the excel file. Defaults to 'Sheet3'.\n",
    "\n",
    "    Returns:\n",
    "        str: path to the transformed dataframe\n",
    "    \"\"\"\n",
    "    client_provided = pd.read_excel(filePath, sheet_name = sheet)\n",
    "    # do any transformation here\n",
    "\n",
    "    validated = OutputSchema.validate(client_provided)\n",
    "    if not validated:\n",
    "        raise ValueError('The data is not valid')\n",
    "    \n",
    "    # save the validated data\n",
    "    outputPath = 'data/output/test-mangroves.csv'\n",
    "    validated.to_csv(outputPath, index=False)\n",
    "    \n",
    "    return outputPath\n",
    "\n",
    "def uploadDataApi(filePath: str, endpoint: str) -> str:\n",
    "    \"\"\"\n",
    "    upload the data to the api\n",
    "    Args:\n",
    "        filePath (str): path to the file to upload\n",
    "        endpoint (str): endpoint to upload to\n",
    "\n",
    "    Returns:\n",
    "        str: url of the uploaded file\n",
    "    \"\"\"\n",
    "    files = {'file': open(filePath, 'rb')}\n",
    "    r = requests.post(endpoint, files=files)\n",
    "    return r.text"
   ]
  },
  {
   "cell_type": "code",
   "execution_count": 12,
   "id": "ffb963d7",
   "metadata": {},
   "outputs": [],
   "source": [
    "# Generate a random dataframe with our defined schema.\n",
    "# df_test = Schema.example(size=100)\n",
    "# df_test.head()"
   ]
  },
  {
   "cell_type": "code",
   "execution_count": null,
   "id": "e0ceaf7c",
   "metadata": {},
   "outputs": [],
   "source": [
    "# Executes the transformation pipe, and uploads the data to the api\n",
    "# cleanedFile = transformationPipe('', '')\n",
    "# uploadDataApi(cleanedFile, '')"
   ]
  }
 ],
 "metadata": {
  "kernelspec": {
   "display_name": "Python 3 (ipykernel)",
   "language": "python",
   "name": "python3"
  },
  "language_info": {
   "codemirror_mode": {
    "name": "ipython",
    "version": 3
   },
   "file_extension": ".py",
   "mimetype": "text/x-python",
   "name": "python",
   "nbconvert_exporter": "python",
   "pygments_lexer": "ipython3",
   "version": "3.8.12"
  }
 },
 "nbformat": 4,
 "nbformat_minor": 5
}
