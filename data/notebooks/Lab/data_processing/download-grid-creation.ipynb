{
 "cells": [
  {
   "cell_type": "code",
   "execution_count": null,
   "metadata": {},
   "outputs": [],
   "source": [
    "import os\n",
    "import requests\n",
    "from pathlib import Path\n",
    "import json\n",
    "import zipfile\n",
    "import logging\n",
    "import geopandas as gpd\n",
    "from geopandas.tools import sjoin\n",
    "import math\n",
    "from shapely.geometry import Polygon, box\n",
    "from itertools import product\n",
    "from pyproj import Transformer\n",
    "import shapely.speedups\n",
    "shapely.speedups.enable()"
   ]
  },
  {
   "cell_type": "code",
   "execution_count": null,
   "id": "4a960a4d",
   "metadata": {},
   "outputs": [],
   "source": [
    "#  FIXME: This will depends from where the notebook kernel is running so be careful\n",
    "WORK_DIR =Path(os.getcwd())\n",
    "BASE_DIR = f'{WORK_DIR.parents[3]}/datasets/raw'\n",
    "\n",
    "# @TODO: Add expected data files source as an environment variable.\n",
    "assert BASE_DIR == '/home/jovyan/work/datasets/raw', f'{BASE_DIR} is not the correct directory'\n",
    "\n",
    "# Params for the notebook\n",
    "path = Path(f'{BASE_DIR}/ne_10m_coastline/ne_10m_coastline.shp')\n",
    "urlDownload = 'http//www.naturalearthdata.com/download/10m/physical/ne_10m_coastline.zip'\n",
    "filename = Path(f'{BASE_DIR}/grid_test.shp')\n",
    "\n",
    "size_km = 30\n",
    "filter_bbox = box(-180,-50, 180, 40)"
   ]
  },
  {
   "cell_type": "code",
   "execution_count": null,
   "id": "b545de1a",
   "metadata": {},
   "outputs": [],
   "source": [
    "def downloadData(\n",
    "    file_path: str, download_url: str, update: bool = False\n",
    ") -> Union[int, str]:\n",
    "    \"\"\"\n",
    "    Download a file to a path.\n",
    "    Parameters\n",
    "    ----------\n",
    "    file_path : str - The path to the file to download.\n",
    "    update : bool, optional - If True, the file will be downloaded again even if it already exists.\n",
    "                            The default is False.\n",
    "\n",
    "    Returns\n",
    "    -------\n",
    "    int - 0 if the file was downloaded successfully, 1 if the file download failed.\n",
    "    \"\"\"\n",
    "    try:\n",
    "        if update or not os.path.exists(file_path):\n",
    "            logging.info(\"Downloading data...\")\n",
    "\n",
    "            response = requests.get(download_url, stream=True)\n",
    "\n",
    "            with open(file_path, \"wb\") as f:\n",
    "                for chunk in response.iter_content(chunk_size=128):\n",
    "                    f.write(chunk)\n",
    "        else:\n",
    "            logging.info(\"data already downloaded.\")\n",
    "\n",
    "        return 0\n",
    "    except Exception as e:\n",
    "        logging.error(e)\n",
    "        return 1"
   ]
  },
  {
   "cell_type": "code",
   "execution_count": null,
   "id": "3b6f42d7",
   "metadata": {},
   "outputs": [],
   "source": [
    "def reprojectBbox(extent: box, src: str = \"EPSG:4326\", dst: str = \"EPSG:3410\")-> box:\n",
    "    transformer = Transformer.from_crs(src, dst, always_xy=True)\n",
    "    \n",
    "    xmin_deg, ymin_deg, xmax_deg, ymax_deg =  extent.bounds\n",
    "    \n",
    "    xmin, ymin = transformer.transform(xmin_deg, ymin_deg)\n",
    "    xmax, ymax = transformer.transform(xmax_deg, ymax_deg)\n",
    "    \n",
    "    return box(xmin, ymin, xmax, ymax)\n",
    "\n",
    "def square(width, heigh, xmin, ymin):\n",
    "    xmax = xmin + width\n",
    "    ymax = ymin + heigh\n",
    "    return Polygon([(xmin, ymin), (xmax, ymin), (xmax, ymax), (xmin, ymax)])\n",
    "\n",
    "\n",
    "def squareGrid(extent: box, size: int) -> gpd.GeoDataFrame:\n",
    "    \"\"\"\n",
    "    Create a grid of squares.\n",
    "\n",
    "    Args:\n",
    "        extent: A list of the form [xmin, ymin, xmax, ymax]\n",
    "        size: The size of the squares in meters\n",
    "    \"\"\"\n",
    "    xmin, ymin, xmax, ymax = reprojectBbox(extent).bounds\n",
    "\n",
    "    width = size\n",
    "    height = size\n",
    "   \n",
    "    rows = int(math.ceil((ymax-ymin) / height))\n",
    "    cols = int(math.ceil((xmax-xmin) / width))\n",
    "    polygons = []\n",
    "\n",
    "    for i, j  in product(range(cols), range(rows)):\n",
    "        x = xmin + i * width\n",
    "        y = ymin + j * height\n",
    "        polygons.append(square(width, height, x, y))\n",
    "    \n",
    "    return gpd.GeoDataFrame({'geometry':polygons}, crs = 'EPSG:3410').clip(\n",
    "            box(xmin, ymin, xmax, ymax)).to_crs(\"EPSG:4326\")"
   ]
  },
  {
   "cell_type": "code",
   "execution_count": null,
   "id": "1243a2ef",
   "metadata": {},
   "outputs": [],
   "source": [
    "# download\n",
    "downloadData(path.with_suffix('.zip'), urlDownload)"
   ]
  },
  {
   "cell_type": "code",
   "execution_count": null,
   "id": "1f2621f5",
   "metadata": {},
   "outputs": [],
   "source": [
    "# unzip\n",
    "\n",
    "with zipfile.ZipFile(path, 'r') as zip_ref:\n",
    "    # sublist = filter(lambda file: format in file, zip_ref.namelist()) # only if filter\n",
    "\n",
    "    zip_ref.extractall(path, members=zip_ref.namelist())"
   ]
  },
  {
   "cell_type": "code",
   "execution_count": null,
   "id": "321c1888",
   "metadata": {},
   "outputs": [],
   "source": [
    "# Create a buffered polygon nkm for the coastline\n",
    "coast_line = gpd.read_file(path)\n",
    "capped_lines = coast_line.geometry.to_crs(\"epsg:3410\"\n",
    "    ).buffer(size_km*1000).clip(\n",
    "        box(*coast_line.geometry.to_crs(\"epsg:3410\").total_bounds.tolist())).to_crs(\n",
    "            \"epsg:4326\").buffer(0).clip(filter_bbox)\n",
    "#.exterior.apply(lambda x: Polygon(x))\n",
    "coast_line_buffered = gpd.GeoDataFrame({'geometry': capped_lines.unary_union},\n",
    "    crs=\"EPSG:4326\")#.exterior.apply(lambda x: Polygon(x))\n",
    "coast_line_buffered.to_file(\n",
    "    f'{BASE_DIR}/ne_10m_coastline/ne_10m_coastline_buffered_{size_km}km.shp')"
   ]
  },
  {
   "cell_type": "code",
   "execution_count": null,
   "id": "8f4ac6f8",
   "metadata": {},
   "outputs": [],
   "source": [
    "# Creates a square grid of the selected extent\n",
    "grid = squareGrid(filter_bbox, math.floor(math.sqrt(10e9 * 30)))"
   ]
  },
  {
   "cell_type": "code",
   "execution_count": null,
   "id": "7e102352",
   "metadata": {},
   "outputs": [],
   "source": [
    "# TODO: this should be able to be further filtered\n",
    "pip_mask = grid.intersects(coast_line_buffered.geometry.unary_union)\n",
    "sub = grid.loc[pip_mask].dropna()\n",
    "sub.reset_index(drop=True, inplace=True)\n",
    "sub['id'] = (sub.index + 1).astype(int)\n",
    "sub['url'] = sub.apply(lambda row: f'https://storage.googleapis.com/mangrove_atlas/ee_export_tiffs/mangrove_blue_carbon/{row.id}.tif', axis=1)\n",
    "sub['geom'] = sub.apply(lambda row: json.dumps(shapely.geometry.mapping(row.geometry)), axis=1)\n",
    "print(sub.count())\n",
    "sub.boundary.plot()"
   ]
  },
  {
   "cell_type": "code",
   "execution_count": null,
   "id": "985cefdf",
   "metadata": {},
   "outputs": [],
   "source": [
    "# export filtered grid\n",
    "sub.to_file(filename)\n",
    "sub[['id', 'geom', 'url']].to_csv(filename.with_suffix('.csv'), index=False)"
   ]
  }
 ],
 "metadata": {
  "kernelspec": {
   "display_name": "Python 3 (ipykernel)",
   "language": "python",
   "name": "python3"
  }
 },
 "nbformat": 4,
 "nbformat_minor": 5
}
