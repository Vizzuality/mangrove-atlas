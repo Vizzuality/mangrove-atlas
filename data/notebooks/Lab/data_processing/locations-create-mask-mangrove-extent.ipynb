{
 "cells": [
  {
   "cell_type": "code",
   "execution_count": 1,
   "id": "43fe173a",
   "metadata": {},
   "outputs": [],
   "source": [
    "import fiona\n",
    "import geopandas as gpd\n",
    "import pandas as pd\n",
    "from shapely.geometry import Polygon, box, mapping\n",
    "from shapely import speedups\n",
    "from pathlib import Path\n",
    "import os\n",
    "\n",
    "speedups.enable()\n"
   ]
  },
  {
   "cell_type": "code",
   "execution_count": 4,
   "id": "f08a0090",
   "metadata": {},
   "outputs": [
    {
     "name": "stdout",
     "output_type": "stream",
     "text": [
      "/home/jovyan\n"
     ]
    }
   ],
   "source": [
    "#  FIXME: This will depends from where the notebook kernel is running so be careful\n",
    "WORK_DIR = Path(os.getcwd())\n",
    "print(WORK_DIR)\n",
    "BASE_DIR = f'{WORK_DIR}/work/datasets'\n",
    "\n",
    "# @TODO: Add expected data files source as an environment variable.\n",
    "assert BASE_DIR == '/home/jovyan/work/datasets', f'{BASE_DIR} is not the correct directory'\n",
    "\n",
    "mangrove_extent_path = Path(f'{BASE_DIR}/raw/extent-layer-creation/gmw_v3_fnl_mjr_v314.gpkg')\n",
    "layers = fiona.listlayers(mangrove_extent_path)"
   ]
  },
  {
   "cell_type": "code",
   "execution_count": 6,
   "id": "fbec54d4",
   "metadata": {},
   "outputs": [
    {
     "name": "stdout",
     "output_type": "stream",
     "text": [
      "mng_mjr_1996\n",
      "mng_mjr_2007\n",
      "mng_mjr_2008\n",
      "mng_mjr_2009\n",
      "mng_mjr_2010\n",
      "mng_mjr_2015\n",
      "mng_mjr_2016\n",
      "mng_mjr_2017\n",
      "mng_mjr_2018\n",
      "mng_mjr_2019\n",
      "mng_mjr_2020\n"
     ]
    }
   ],
   "source": [
    "for layer_name in layers:\n",
    "    print(layer_name)\n",
    "    mangrove_extent_df = gpd.read_file(mangrove_extent_path, layer=layer_name\n",
    "                                      ).convex_hull.to_crs('epsg:3410').buffer(500)\n",
    "    gpd.GeoDataFrame({\"geometry\": mangrove_extent_df.clip(gpd.GeoSeries({\"geometry\": box(-180,-50, 180, 40)}, crs='EPSG:4326'\n",
    "        ).to_crs('EPSG:3410')\n",
    "    ).to_crs('EPSG:4326').unary_union}, \n",
    "                     crs='EPSG:4326'\n",
    "    ).to_file(f'{BASE_DIR}/raw/extent-layer-creation/{layer_name}-convex-bufered.shp')"
   ]
  },
  {
   "cell_type": "code",
   "execution_count": null,
   "id": "24ceeb78",
   "metadata": {},
   "outputs": [],
   "source": [
    "for "
   ]
  },
  {
   "cell_type": "code",
   "execution_count": null,
   "id": "38d5fdf7",
   "metadata": {},
   "outputs": [],
   "source": [
    "# This creates a shapefile for the mangrove coverage from \n",
    "# the extent that can be later use for masking the vector data like wdpa or gadm/eez\n",
    "\n",
    "!mapshaper-xl 16gb -i ../../../datasets/raw/extent-layer-creation/test_extent_2000.shp snap \\\n",
    "    -simplify 0.01 planar keep-shapes \\\n",
    "    -o  ../../../datasets/raw/extent-layer-creation/test_extent_2000_simp.shp format=shapefile force"
   ]
  }
 ],
 "metadata": {
  "kernelspec": {
   "display_name": "Python 3 (ipykernel)",
   "language": "python",
   "name": "python3"
  }
 },
 "nbformat": 4,
 "nbformat_minor": 5
}
