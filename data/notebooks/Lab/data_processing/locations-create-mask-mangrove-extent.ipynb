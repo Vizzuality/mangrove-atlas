{
 "cells": [
  {
   "cell_type": "code",
   "execution_count": 28,
   "id": "43fe173a",
   "metadata": {},
   "outputs": [],
   "source": [
    "import fiona\n",
    "import geopandas as gpd\n",
    "import pandas as pd\n",
    "from shapely.geometry import Polygon, box, mapping\n",
    "from shapely import speedups\n",
    "from pathlib import Path\n",
    "import os\n",
    "import gc\n",
    "from zipfile import ZipFile, ZIP_DEFLATED\n",
    "\n",
    "speedups.enable()\n"
   ]
  },
  {
   "cell_type": "code",
   "execution_count": 3,
   "id": "f08a0090",
   "metadata": {},
   "outputs": [
    {
     "name": "stdout",
     "output_type": "stream",
     "text": [
      "/home/jovyan/work/notebooks/Lab/data_processing\n"
     ]
    }
   ],
   "source": [
    "#  FIXME: This will depends from where the notebook kernel is running so be careful\n",
    "WORK_DIR = Path(os.getcwd())\n",
    "print(WORK_DIR)\n",
    "BASE_DIR = f'{WORK_DIR.parents[3]}/work/datasets'\n",
    "\n",
    "# @TODO: Add expected data files source as an environment variable.\n",
    "assert BASE_DIR == '/home/jovyan/work/datasets', f'{BASE_DIR} is not the correct directory'\n",
    "\n",
    "mangrove_extent_path = Path(f'{BASE_DIR}/raw/extent-layer-creation/gmw_v3_fnl_mjr_v314.gpkg')\n",
    "layers = fiona.listlayers(mangrove_extent_path)\n",
    "extent_masks_path = Path(f'{BASE_DIR}/raw/extent-layer-creation')"
   ]
  },
  {
   "cell_type": "code",
   "execution_count": null,
   "id": "f860d18b",
   "metadata": {},
   "outputs": [],
   "source": [
    "def create_mask(dataset: Path, layer: str):\n",
    "    extent_mask = gpd.read_file(mangrove_extent_path, layer=layer\n",
    "                ).convex_hull.to_crs('epsg:3410').buffer(500)\n",
    "    \n",
    "    gpd.GeoDataFrame({\"geometry\": extent_mask.clip(\n",
    "        gpd.GeoSeries({\"geometry\": box(-180,-50, 180, 40)}, crs='EPSG:4326'\n",
    "        ).to_crs('EPSG:3410')\n",
    "    ).to_crs('EPSG:4326').unary_union}, \n",
    "                     crs='EPSG:4326'\n",
    "    ).to_file(f'{extent_masks_path}/{layer}-convex-bufered.shp')"
   ]
  },
  {
   "cell_type": "code",
   "execution_count": 6,
   "id": "fbec54d4",
   "metadata": {},
   "outputs": [
    {
     "name": "stdout",
     "output_type": "stream",
     "text": [
      "mng_mjr_1996\n",
      "mng_mjr_2007\n",
      "mng_mjr_2008\n",
      "mng_mjr_2009\n",
      "mng_mjr_2010\n",
      "mng_mjr_2015\n",
      "mng_mjr_2016\n",
      "mng_mjr_2017\n",
      "mng_mjr_2018\n",
      "mng_mjr_2019\n",
      "mng_mjr_2020\n"
     ]
    }
   ],
   "source": [
    "for layer_name in layers:\n",
    "    print(layer_name)\n",
    "    create_mask(mangrove_extent_path, layer_name)\n",
    "\n",
    "del layers\n",
    "gc.collect()"
   ]
  },
  {
   "cell_type": "code",
   "execution_count": 7,
   "id": "24ceeb78",
   "metadata": {},
   "outputs": [],
   "source": [
    "# Combine all the masks into a single mask\n",
    "simp_masks = [gpd.read_file(mask) \n",
    "    for mask in extent_masks_path.glob('*-convex-bufered.shp')]\n",
    "geometry = gpd.pd.concat(simp_masks).unary_union\n",
    "gpd.GeoDataFrame({\"geometry\": geometry}, \n",
    "                crs='EPSG:4326').to_file(\n",
    "                    f'{extent_masks_path}/merged-convex-bufered.shp')"
   ]
  },
  {
   "cell_type": "code",
   "execution_count": 11,
   "id": "38d5fdf7",
   "metadata": {},
   "outputs": [
    {
     "name": "stdout",
     "output_type": "stream",
     "text": [
      "Allocating 16 GB of heap memory\n",
      "[i] Snapped 267039 points\n",
      "[simplify] Repaired 5 intersections\n",
      "[o] Wrote /home/jovyan/work/datasets/raw/extent-layer-creation/merged-convex-bufered-simp-10.shp\n",
      "[o] Wrote /home/jovyan/work/datasets/raw/extent-layer-creation/merged-convex-bufered-simp-10.shx\n",
      "[o] Wrote /home/jovyan/work/datasets/raw/extent-layer-creation/merged-convex-bufered-simp-10.dbf\n",
      "[o] Wrote /home/jovyan/work/datasets/raw/extent-layer-creation/merged-convex-bufered-simp-10.prj\n"
     ]
    }
   ],
   "source": [
    "# This creates a shapefile for the mangrove coverage from \n",
    "# the extent that can be later use for masking the vector data like wdpa or gadm/eez\n",
    "\n",
    "!mapshaper-xl 16gb -i '{extent_masks_path}/merged-convex-bufered.shp' snap \\\n",
    "    -simplify 0.10 planar keep-shapes \\\n",
    "    -o  '{extent_masks_path}/merged-convex-bufered-simp-10.shp' format=shapefile force"
   ]
  },
  {
   "cell_type": "code",
   "execution_count": 37,
   "id": "5cd3fbbc",
   "metadata": {},
   "outputs": [],
   "source": [
    "with ZipFile(f'{extent_masks_path}/merged-convex-bufered-simp-10.zip', \"w\", ZIP_DEFLATED, compresslevel=9) as archive:\n",
    "    for file in extent_masks_path.glob('*-convex-bufered-simp-*'):\n",
    "        if file.suffix != '.zip':\n",
    "            archive.write(file, arcname=file.relative_to(extent_masks_path))"
   ]
  },
  {
   "cell_type": "code",
   "execution_count": 19,
   "id": "3e8008ec",
   "metadata": {},
   "outputs": [],
   "source": [
    "for file in extent_masks_path.glob('*-convex-bufered.*'):\n",
    "    os.remove(file)"
   ]
  }
 ],
 "metadata": {
  "kernelspec": {
   "display_name": "Python 3 (ipykernel)",
   "language": "python",
   "name": "python3"
  },
  "language_info": {
   "codemirror_mode": {
    "name": "ipython",
    "version": 3
   },
   "file_extension": ".py",
   "mimetype": "text/x-python",
   "name": "python",
   "nbconvert_exporter": "python",
   "pygments_lexer": "ipython3",
   "version": "3.8.6"
  }
 },
 "nbformat": 4,
 "nbformat_minor": 5
}
