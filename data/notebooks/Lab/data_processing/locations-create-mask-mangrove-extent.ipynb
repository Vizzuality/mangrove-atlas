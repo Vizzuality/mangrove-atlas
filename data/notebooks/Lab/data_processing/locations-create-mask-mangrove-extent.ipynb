{
 "cells": [
  {
   "cell_type": "code",
   "execution_count": 1,
   "id": "43fe173a",
   "metadata": {},
   "outputs": [],
   "source": [
    "import geopandas as gpd\n",
    "import pandas as pd\n",
    "from shapely.geometry import Polygon, box\n",
    "from shapely import speedups\n",
    "from pathlib import Path\n",
    "import os\n",
    "\n",
    "speedups.enable()\n"
   ]
  },
  {
   "cell_type": "code",
   "execution_count": 3,
   "id": "f08a0090",
   "metadata": {},
   "outputs": [],
   "source": [
    "#  FIXME: This will depends from where the notebook kernel is running so be careful\n",
    "WORK_DIR = Path(os.getcwd())\n",
    "BASE_DIR = f'{WORK_DIR.parents[3]}/datasets'\n",
    "\n",
    "# @TODO: Add expected data files source as an environment variable.\n",
    "assert BASE_DIR == '/home/jovyan/work/datasets', f'{BASE_DIR} is not the correct directory'"
   ]
  },
  {
   "cell_type": "code",
   "execution_count": null,
   "id": "38d5fdf7",
   "metadata": {},
   "outputs": [],
   "source": [
    "# This creates a shapefile for the mangrove coverage from \n",
    "# the extent that can be later use for masking the vector data like wdpa or gadm/eez\n",
    "\n",
    "!mapshaper-xl 16gb -i ../../../datasets/raw/extent-layer-creation/test_extent_2000.shp snap \\\n",
    "    -simplify 0.01 planar keep-shapes \\\n",
    "    -o  ../../../datasets/raw/extent-layer-creation/test_extent_2000_simp.shp format=shapefile force"
   ]
  },
  {
   "cell_type": "code",
   "execution_count": null,
   "id": "7b67f1ce",
   "metadata": {},
   "outputs": [],
   "source": [
    "extent = gpd.read_file(f'{BASE_DIR}/raw/extent-layer-creation/test_extent_2000_simp.shp')"
   ]
  },
  {
   "cell_type": "code",
   "execution_count": null,
   "id": "fbec54d4",
   "metadata": {},
   "outputs": [],
   "source": [
    "gpd.GeoDataFrame({\"geometry\": extent.convex_hull.to_crs('EPSG:3410'\n",
    ").buffer(500).clip(gpd.GeoSeries({\"geometry\": box(-180,-50, 180, 40)}, crs='EPSG:4326'\n",
    "        ).to_crs('EPSG:3410')\n",
    "    ).to_crs('EPSG:4326').unary_union}, crs='EPSG:4326'\n",
    ").to_file(f'{BASE_DIR}/raw/extent-layer-creation/test_extent_2000_simp_convex.shp')"
   ]
  }
 ],
 "metadata": {
  "kernelspec": {
   "display_name": "Python 3 (ipykernel)",
   "language": "python",
   "name": "python3"
  },
  "language_info": {
   "codemirror_mode": {
    "name": "ipython",
    "version": 3
   },
   "file_extension": ".py",
   "mimetype": "text/x-python",
   "name": "python",
   "nbconvert_exporter": "python",
   "pygments_lexer": "ipython3",
   "version": "3.8.6"
  }
 },
 "nbformat": 4,
 "nbformat_minor": 5
}
