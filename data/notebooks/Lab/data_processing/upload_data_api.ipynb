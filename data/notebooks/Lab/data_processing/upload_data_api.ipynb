{
 "cells": [
  {
   "cell_type": "code",
   "execution_count": 1,
   "id": "b79a5d15",
   "metadata": {},
   "outputs": [],
   "source": [
    "import requests"
   ]
  },
  {
   "cell_type": "code",
   "execution_count": 2,
   "id": "d4f7a51f",
   "metadata": {},
   "outputs": [],
   "source": [
    "def uploadDataApi(filePath: str, endpoint: str) -> str:\n",
    "    \"\"\"\n",
    "    upload the data to the api\n",
    "    Args:\n",
    "        filePath (str): path to the file to upload\n",
    "        endpoint (str): endpoint to upload to\n",
    "\n",
    "    Returns:\n",
    "        str: url of the uploaded file\n",
    "    \"\"\"\n",
    "    files = {'file': open(filePath, 'rb')}\n",
    "    r = requests.post(endpoint, files=files)\n",
    "    return r"
   ]
  },
  {
   "cell_type": "markdown",
   "id": "cbc3c47d",
   "metadata": {},
   "source": [
    "### Protected Area widget"
   ]
  },
  {
   "cell_type": "code",
   "execution_count": 7,
   "id": "fd7956e7",
   "metadata": {},
   "outputs": [],
   "source": [
    "# i am here trusting that the data output from protected_areas_widget_validator_test.ipynb \n",
    "# is already validated and exported to a csv file\n",
    "\n",
    "urlApiEndpoint = 'https://mangrove-atlas-api.herokuapp.com/api/v2/widgets/protected-areas/import'\n",
    "file = './../../../datasets/processed/Mangrove_protected_area.csv'\n",
    "response = uploadDataApi(file, urlApiEndpoint) # 200 - success\n",
    "response.json()"
   ]
  },
  {
   "cell_type": "code",
   "execution_count": null,
   "id": "eb330f6d",
   "metadata": {},
   "outputs": [],
   "source": []
  }
 ],
 "metadata": {
  "kernelspec": {
   "display_name": "Python 3 (ipykernel)",
   "language": "python",
   "name": "python3"
  }
 },
 "nbformat": 4,
 "nbformat_minor": 5
}
