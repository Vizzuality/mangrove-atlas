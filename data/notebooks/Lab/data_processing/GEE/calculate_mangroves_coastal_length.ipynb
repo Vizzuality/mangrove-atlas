{
 "cells": [
  {
   "cell_type": "markdown",
   "id": "0259dfc8",
   "metadata": {},
   "source": [
    "### The way to calculate the coastal length of mangroves is:\n",
    "1.- Buffer extent data by 200m  \n",
    "2.- Clip the buffered extent with the target feature  \n",
    "3.- Clip the coastal extent with the clipped buffered extent  \n",
    "4.- Calculate the length of the clipped coastal extent  \n",
    "5.- repeat the process for each year extent and each location  "
   ]
  },
  {
   "cell_type": "code",
   "execution_count": 1,
   "id": "52775ca6",
   "metadata": {
    "vscode": {
     "languageId": "python"
    }
   },
   "outputs": [],
   "source": [
    "import os\n",
    "import logging\n",
    "from pathlib import Path\n",
    "import requests\n",
    "\n",
    "import json\n",
    "import multiprocessing as mp\n",
    "\n",
    "from shapely.geometry import Polygon, box, mapping\n",
    "import fiona\n",
    "import geopandas as gpd\n",
    "import shapely.speedups\n",
    "shapely.speedups.enable()\n",
    "%run utils.ipynb"
   ]
  },
  {
   "cell_type": "code",
   "execution_count": 2,
   "id": "99013004",
   "metadata": {
    "vscode": {
     "languageId": "python"
    }
   },
   "outputs": [
    {
     "data": {
      "text/plain": [
       "rtree.index.Index(bounds=[-179.99998854118687, -58.44946994568893, 179.99998854118684, 74.70884000396096], size=70)"
      ]
     },
     "execution_count": 2,
     "metadata": {},
     "output_type": "execute_result"
    }
   ],
   "source": [
    "# LOCAL PATHS\n",
    "#  FIXME: This will depends from where the notebook kernel is running so be careful\n",
    "WORK_DIR =Path(os.getcwd())\n",
    "BASE_DIR = f'{WORK_DIR.parents[3]}/datasets'\n",
    "\n",
    "# @TODO: Add expected data files source as an environment variable.\n",
    "assert BASE_DIR == '/home/jovyan/work/datasets', f'{BASE_DIR} is not the correct directory'\n",
    "\n",
    "# variables\n",
    "\n",
    "mangrove_extent_path = Path(f'{BASE_DIR}/raw/extent-layer-creation/gmw_v3_fnl_mjr_v314.gpkg')\n",
    "layers = fiona.listlayers(mangrove_extent_path)\n",
    "\n"
   ]
  },
  {
   "cell_type": "markdown",
   "id": "bbb02513",
   "metadata": {},
   "source": [
    "### This creates a buffered version of the data for each year"
   ]
  },
  {
   "cell_type": "code",
   "execution_count": 4,
   "id": "e5fb19a6",
   "metadata": {
    "vscode": {
     "languageId": "python"
    }
   },
   "outputs": [
    {
     "name": "stdout",
     "output_type": "stream",
     "text": [
      "mng_mjr_1996\n",
      "mng_mjr_2007\n",
      "mng_mjr_2008\n",
      "mng_mjr_2009\n",
      "mng_mjr_2010\n",
      "mng_mjr_2015\n",
      "mng_mjr_2016\n",
      "mng_mjr_2017\n",
      "mng_mjr_2018\n",
      "mng_mjr_2019\n",
      "mng_mjr_2020\n"
     ]
    }
   ],
   "source": [
    "for layer_name in layers:\n",
    "    print(layer_name)\n",
    "    mangrove_extent_df = gpd.read_file(mangrove_extent_path, layer=layer_name\n",
    "                                      ).to_crs('epsg:3410').buffer(200)\n",
    "    gpd.GeoDataFrame({\"geometry\": mangrove_extent_df.clip(gpd.GeoSeries({\"geometry\": box(-180,-50, 180, 40)}, crs='EPSG:4326'\n",
    "        ).to_crs('EPSG:3410')\n",
    "    ).to_crs('EPSG:4326').unary_union}, \n",
    "                     crs='EPSG:4326'\n",
    "    ).to_file(f'{BASE_DIR}/raw/extent-layer-creation/{layer_name}-bufered.shp')"
   ]
  },
  {
   "cell_type": "markdown",
   "id": "1dc4deaa",
   "metadata": {},
   "source": [
    "### This applies a small reduction on the vertex number so spatial intersection is faster"
   ]
  },
  {
   "cell_type": "code",
   "execution_count": 5,
   "id": "99753d24",
   "metadata": {},
   "outputs": [
    {
     "name": "stderr",
     "output_type": "stream",
     "text": [
      "Allocating 16 GB of heap memory\n",
      "[i] Snapped 10119 points\n",
      "[simplify] Repaired 29 intersections\n",
      "[o] Wrote /home/jovyan/work/datasets/processed/mng_mjr_1996-bufered-simp.shp\n",
      "[o] Wrote /home/jovyan/work/datasets/processed/mng_mjr_1996-bufered-simp.shx\n",
      "[o] Wrote /home/jovyan/work/datasets/processed/mng_mjr_1996-bufered-simp.dbf\n",
      "[o] Wrote /home/jovyan/work/datasets/processed/mng_mjr_1996-bufered-simp.prj\n",
      "INFO:root:Task created\n",
      "Allocating 16 GB of heap memory\n",
      "[i] Snapped 10391 points\n",
      "[simplify] Repaired 14 intersections\n",
      "[o] Wrote /home/jovyan/work/datasets/processed/mng_mjr_2007-bufered-simp.shp\n",
      "[o] Wrote /home/jovyan/work/datasets/processed/mng_mjr_2007-bufered-simp.shx\n",
      "[o] Wrote /home/jovyan/work/datasets/processed/mng_mjr_2007-bufered-simp.dbf\n",
      "[o] Wrote /home/jovyan/work/datasets/processed/mng_mjr_2007-bufered-simp.prj\n",
      "INFO:root:Task created\n",
      "Allocating 16 GB of heap memory\n",
      "[i] Snapped 10453 points\n",
      "[simplify] Repaired 30 intersections\n",
      "[o] Wrote /home/jovyan/work/datasets/processed/mng_mjr_2008-bufered-simp.shp\n",
      "[o] Wrote /home/jovyan/work/datasets/processed/mng_mjr_2008-bufered-simp.shx\n",
      "[o] Wrote /home/jovyan/work/datasets/processed/mng_mjr_2008-bufered-simp.dbf\n",
      "[o] Wrote /home/jovyan/work/datasets/processed/mng_mjr_2008-bufered-simp.prj\n",
      "INFO:root:Task created\n",
      "Allocating 16 GB of heap memory\n",
      "[i] Snapped 10252 points\n",
      "[simplify] Repaired 25 intersections\n",
      "[o] Wrote /home/jovyan/work/datasets/processed/mng_mjr_2009-bufered-simp.shp\n",
      "[o] Wrote /home/jovyan/work/datasets/processed/mng_mjr_2009-bufered-simp.shx\n",
      "[o] Wrote /home/jovyan/work/datasets/processed/mng_mjr_2009-bufered-simp.dbf\n",
      "[o] Wrote /home/jovyan/work/datasets/processed/mng_mjr_2009-bufered-simp.prj\n",
      "INFO:root:Task created\n",
      "Allocating 16 GB of heap memory\n",
      "[i] Snapped 10258 points\n",
      "[simplify] Repaired 34 intersections\n",
      "[o] Wrote /home/jovyan/work/datasets/processed/mng_mjr_2010-bufered-simp.shp\n",
      "[o] Wrote /home/jovyan/work/datasets/processed/mng_mjr_2010-bufered-simp.shx\n",
      "[o] Wrote /home/jovyan/work/datasets/processed/mng_mjr_2010-bufered-simp.dbf\n",
      "[o] Wrote /home/jovyan/work/datasets/processed/mng_mjr_2010-bufered-simp.prj\n",
      "INFO:root:Task created\n",
      "Allocating 16 GB of heap memory\n",
      "[i] Snapped 10247 points\n",
      "[simplify] Repaired 34 intersections\n",
      "[o] Wrote /home/jovyan/work/datasets/processed/mng_mjr_2015-bufered-simp.shp\n",
      "[o] Wrote /home/jovyan/work/datasets/processed/mng_mjr_2015-bufered-simp.shx\n",
      "[o] Wrote /home/jovyan/work/datasets/processed/mng_mjr_2015-bufered-simp.dbf\n",
      "[o] Wrote /home/jovyan/work/datasets/processed/mng_mjr_2015-bufered-simp.prj\n",
      "INFO:root:Task created\n",
      "Allocating 16 GB of heap memory\n",
      "[i] Snapped 10361 points\n",
      "[simplify] Repaired 29 intersections\n",
      "[o] Wrote /home/jovyan/work/datasets/processed/mng_mjr_2016-bufered-simp.shp\n",
      "[o] Wrote /home/jovyan/work/datasets/processed/mng_mjr_2016-bufered-simp.shx\n",
      "[o] Wrote /home/jovyan/work/datasets/processed/mng_mjr_2016-bufered-simp.dbf\n",
      "[o] Wrote /home/jovyan/work/datasets/processed/mng_mjr_2016-bufered-simp.prj\n",
      "INFO:root:Task created\n",
      "Allocating 16 GB of heap memory\n",
      "[i] Snapped 10330 points\n",
      "[simplify] Repaired 17 intersections\n",
      "[o] Wrote /home/jovyan/work/datasets/processed/mng_mjr_2017-bufered-simp.shp\n",
      "[o] Wrote /home/jovyan/work/datasets/processed/mng_mjr_2017-bufered-simp.shx\n",
      "[o] Wrote /home/jovyan/work/datasets/processed/mng_mjr_2017-bufered-simp.dbf\n",
      "[o] Wrote /home/jovyan/work/datasets/processed/mng_mjr_2017-bufered-simp.prj\n",
      "INFO:root:Task created\n",
      "Allocating 16 GB of heap memory\n",
      "[i] Snapped 10394 points\n",
      "[simplify] Repaired 34 intersections\n",
      "[o] Wrote /home/jovyan/work/datasets/processed/mng_mjr_2018-bufered-simp.shp\n",
      "[o] Wrote /home/jovyan/work/datasets/processed/mng_mjr_2018-bufered-simp.shx\n",
      "[o] Wrote /home/jovyan/work/datasets/processed/mng_mjr_2018-bufered-simp.dbf\n",
      "[o] Wrote /home/jovyan/work/datasets/processed/mng_mjr_2018-bufered-simp.prj\n",
      "INFO:root:Task created\n",
      "Allocating 16 GB of heap memory\n",
      "[i] Snapped 10448 points\n",
      "[simplify] Repaired 15 intersections\n",
      "[o] Wrote /home/jovyan/work/datasets/processed/mng_mjr_2019-bufered-simp.shp\n",
      "[o] Wrote /home/jovyan/work/datasets/processed/mng_mjr_2019-bufered-simp.shx\n",
      "[o] Wrote /home/jovyan/work/datasets/processed/mng_mjr_2019-bufered-simp.dbf\n",
      "[o] Wrote /home/jovyan/work/datasets/processed/mng_mjr_2019-bufered-simp.prj\n",
      "INFO:root:Task created\n",
      "Allocating 16 GB of heap memory\n",
      "[i] Snapped 10342 points\n",
      "[simplify] Repaired 25 intersections\n",
      "[o] Wrote /home/jovyan/work/datasets/processed/mng_mjr_2020-bufered-simp.shp\n",
      "[o] Wrote /home/jovyan/work/datasets/processed/mng_mjr_2020-bufered-simp.shx\n",
      "[o] Wrote /home/jovyan/work/datasets/processed/mng_mjr_2020-bufered-simp.dbf\n",
      "[o] Wrote /home/jovyan/work/datasets/processed/mng_mjr_2020-bufered-simp.prj\n",
      "INFO:root:Task created\n"
     ]
    }
   ],
   "source": [
    "for layer_name in layers:\n",
    "    input_file = f'{BASE_DIR}/raw/extent-layer-creation/{layer_name}-bufered.shp'\n",
    "    output_file= f'{BASE_DIR}/processed/{layer_name}-bufered-simp.shp'\n",
    "    cmd = f'mapshaper-xl 16gb -i {input_file} snap \\\n",
    "        -simplify 0.7 dp planar keep-shapes \\\n",
    "        -o  {output_file} format=shapefile force'\n",
    "    execute_command(cmd)"
   ]
  },
  {
   "cell_type": "markdown",
   "id": "2801c8b9",
   "metadata": {},
   "source": [
    "## The rest of the calculations will happen on postgres due to the complexity."
   ]
  },
  {
   "cell_type": "markdown",
   "id": "4adaa0b8",
   "metadata": {},
   "source": [
    "```sql\n",
    "-- This query creates a subset of the coastline with the id of each location attached to each line segment\n",
    "select st_intersection(c.the_geom, lvg.the_geom) as the_geom, location_i \n",
    "into coastline_subset\n",
    "from coastline c \n",
    "inner join test_extent_2000_simp_convex tesc on st_intersects(c.the_geom, tesc.the_geom)\n",
    "inner join locations_v3_gee lvg on st_intersects(c.the_geom, lvg.the_geom);\n",
    "\n",
    "-- Creating a spatial index later on the geom column\n",
    "CREATE INDEX coastline_subset_geom_spgist_x\n",
    "  ON coastline_subset USING spgist (the_geom);\n",
    "```\n",
    "\n",
    "```sql\n",
    "--- we will need to perform this for each year of data\n",
    "select sum(ST_Length(st_intersection(s.the_geom, f.the_geom))) as mangrove_coastal_lenght, location_i, 2016 as year\n",
    "from coastline_subset_simp_70_p s \n",
    "inner join \"mng_mjr_2016-bufered\" f on st_intersects(s.the_geom, f.the_geom)\n",
    "group by location_i; \n",
    "```\n",
    "\n",
    "```sql\n",
    "--- Dont forget to ensure parallelization on the heavy queries\n",
    "set max_parallel_workers = 24;\n",
    "SET max_parallel_workers_per_gather = 24;\n",
    "SET min_parallel_table_scan_size = '1kB';\n",
    "```"
   ]
  },
  {
   "cell_type": "markdown",
   "id": "85dfdb7c",
   "metadata": {},
   "source": [
    "```bash\n",
    "# For data ingest in the DB\n",
    "ogr2ogr -makevalid \\\n",
    "\t-update -append \\\n",
    "\t-geomfield the_geom \\\n",
    "\t--config OGR_TRUNCATE YES \\\n",
    "\t-nln mng_mjr_2015 -nlt PROMOTE_TO_MULTI \\\n",
    "\t-t_srs EPSG:4326 -a_srs EPSG:4326 \\\n",
    "\t-f PostgreSQL PG:\"dbname=postgres host=localhost \\\n",
    "\tport=4321 user=postgres password=postgres /mng_mjr_2015.json\n",
    " ```"
   ]
  }
 ],
 "metadata": {
  "kernelspec": {
   "display_name": "Python 3 (ipykernel)",
   "language": "python",
   "name": "python3"
  },
  "language_info": {
   "codemirror_mode": {
    "name": "ipython",
    "version": 3
   },
   "file_extension": ".py",
   "mimetype": "text/x-python",
   "name": "python",
   "nbconvert_exporter": "python",
   "pygments_lexer": "ipython3",
   "version": "3.8.6"
  }
 },
 "nbformat": 4,
 "nbformat_minor": 5
}
