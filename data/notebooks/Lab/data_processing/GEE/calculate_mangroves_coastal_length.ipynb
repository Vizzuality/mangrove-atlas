{
 "cells": [
  {
   "cell_type": "markdown",
   "id": "0259dfc8",
   "metadata": {},
   "source": [
    "### The way to calculate the coastal length of mangroves is:\n",
    "1.- Buffer extent data by 200m  \n",
    "2.- Clip the buffered extent with the target feature  \n",
    "3.- Clip the coastal extent with the clipped buffered extent  \n",
    "4.- Calculate the length of the clipped coastal extent  \n",
    "5.- repeat the process for each year extent and each location  "
   ]
  },
  {
   "cell_type": "code",
   "execution_count": 1,
   "metadata": {
    "vscode": {
     "languageId": "python"
    }
   },
   "outputs": [],
   "source": [
    "import os\n",
    "import logging\n",
    "from pathlib import Path\n",
    "import requests\n",
    "\n",
    "import json\n",
    "import multiprocessing as mp\n",
    "\n",
    "from shapely.geometry import Polygon, box, mapping\n",
    "import fiona\n",
    "import geopandas as gpd\n",
    "import shapely.speedups\n",
    "shapely.speedups.enable()\n",
    "%run utils.ipynb"
   ]
  },
  {
   "cell_type": "code",
   "execution_count": 3,
   "id": "99013004",
   "metadata": {
    "vscode": {
     "languageId": "python"
    }
   },
   "outputs": [
    {
     "data": {
      "text/plain": [
       "rtree.index.Index(bounds=[-179.99998854118687, -58.44946994568893, 179.99998854118684, 74.70884000396096], size=70)"
      ]
     },
     "execution_count": 3,
     "metadata": {},
     "output_type": "execute_result"
    }
   ],
   "source": [
    "# LOCAL PATHS\n",
    "#  FIXME: This will depends from where the notebook kernel is running so be careful\n",
    "WORK_DIR =Path(os.getcwd())\n",
    "BASE_DIR = f'{WORK_DIR.parents[3]}/datasets'\n",
    "\n",
    "# @TODO: Add expected data files source as an environment variable.\n",
    "assert BASE_DIR == '/home/jovyan/work/datasets', f'{BASE_DIR} is not the correct directory'\n",
    "\n",
    "# variables\n",
    "coast_df = gpd.read_file(f'{BASE_DIR}/processed/coastline.gpkg', bbox=[-180, -50, 180, 50])\n",
    "locations_df = gpd.read_file(f'{BASE_DIR}/processed/locations/locations_v3_not_merged_with_old.gpkg')\n",
    "mangrove_extent_path = Path(f'{BASE_DIR}/raw/extent-layer-creation/gmw_v3_fnl_mjr_v314.gpkg')\n",
    "layers = fiona.listlayers(mangrove_extent_path)\n",
    "\n",
    "coast_df.sindex\n",
    "locations_df.sindex"
   ]
  },
  {
   "cell_type": "code",
   "execution_count": 10,
   "id": "b710926e",
   "metadata": {
    "vscode": {
     "languageId": "python"
    }
   },
   "outputs": [],
   "source": [
    "# gpd.overlay(coast_df, locations_df, how='intersection')"
   ]
  },
  {
   "cell_type": "code",
   "execution_count": 8,
   "id": "e07672cd",
   "metadata": {
    "vscode": {
     "languageId": "python"
    }
   },
   "outputs": [
    {
     "name": "stderr",
     "output_type": "stream",
     "text": [
      "/opt/conda/lib/python3.8/site-packages/IPython/core/interactiveshell.py:3338: FutureWarning: The `op` parameter is deprecated and will be removed in a future release. Please use the `predicate` parameter instead.\n",
      "  if await self.run_code(code, result, async_=asy):\n"
     ]
    },
    {
     "data": {
      "text/html": [
       "<div>\n",
       "<style scoped>\n",
       "    .dataframe tbody tr th:only-of-type {\n",
       "        vertical-align: middle;\n",
       "    }\n",
       "\n",
       "    .dataframe tbody tr th {\n",
       "        vertical-align: top;\n",
       "    }\n",
       "\n",
       "    .dataframe thead th {\n",
       "        text-align: right;\n",
       "    }\n",
       "</style>\n",
       "<table border=\"1\" class=\"dataframe\">\n",
       "  <thead>\n",
       "    <tr style=\"text-align: right;\">\n",
       "      <th></th>\n",
       "      <th>name</th>\n",
       "      <th>iso</th>\n",
       "      <th>type</th>\n",
       "      <th>area_m2</th>\n",
       "      <th>wdpaid</th>\n",
       "      <th>globalid</th>\n",
       "      <th>perimeter_m</th>\n",
       "      <th>location_idn</th>\n",
       "      <th>coast_length_m</th>\n",
       "      <th>geometry</th>\n",
       "      <th>index_right</th>\n",
       "    </tr>\n",
       "  </thead>\n",
       "  <tbody>\n",
       "    <tr>\n",
       "      <th>0</th>\n",
       "      <td>Port Albert</td>\n",
       "      <td>NZL</td>\n",
       "      <td>wdpa</td>\n",
       "      <td>6.284804e-07</td>\n",
       "      <td>305383.0</td>\n",
       "      <td>None</td>\n",
       "      <td>0.005729</td>\n",
       "      <td>df6769ce-2dab-565f-9988-3cbc4d1fe27b</td>\n",
       "      <td>31.84</td>\n",
       "      <td>MULTIPOLYGON (((174.43184 -36.27456, 174.43183...</td>\n",
       "      <td>152304.0</td>\n",
       "    </tr>\n",
       "    <tr>\n",
       "      <th>1</th>\n",
       "      <td>East Beach</td>\n",
       "      <td>NZL</td>\n",
       "      <td>wdpa</td>\n",
       "      <td>1.339717e-03</td>\n",
       "      <td>304976.0</td>\n",
       "      <td>None</td>\n",
       "      <td>0.837780</td>\n",
       "      <td>fadaf94e-88c6-5f6b-9186-263ac02bc1ab</td>\n",
       "      <td>8165.40</td>\n",
       "      <td>MULTIPOLYGON (((173.24172 -34.90725, 173.24165...</td>\n",
       "      <td>150182.0</td>\n",
       "    </tr>\n",
       "    <tr>\n",
       "      <th>1</th>\n",
       "      <td>East Beach</td>\n",
       "      <td>NZL</td>\n",
       "      <td>wdpa</td>\n",
       "      <td>1.339717e-03</td>\n",
       "      <td>304976.0</td>\n",
       "      <td>None</td>\n",
       "      <td>0.837780</td>\n",
       "      <td>fadaf94e-88c6-5f6b-9186-263ac02bc1ab</td>\n",
       "      <td>8165.40</td>\n",
       "      <td>MULTIPOLYGON (((173.24172 -34.90725, 173.24165...</td>\n",
       "      <td>151301.0</td>\n",
       "    </tr>\n",
       "    <tr>\n",
       "      <th>2</th>\n",
       "      <td>Ngunguru River</td>\n",
       "      <td>NZL</td>\n",
       "      <td>wdpa</td>\n",
       "      <td>1.502996e-05</td>\n",
       "      <td>304437.0</td>\n",
       "      <td>None</td>\n",
       "      <td>0.032190</td>\n",
       "      <td>db8e486b-f23f-5f32-bb4b-81d5f28ca6e7</td>\n",
       "      <td>718.36</td>\n",
       "      <td>MULTIPOLYGON (((174.48670 -35.64307, 174.48664...</td>\n",
       "      <td>151875.0</td>\n",
       "    </tr>\n",
       "    <tr>\n",
       "      <th>3</th>\n",
       "      <td>Kaitoke</td>\n",
       "      <td>NZL</td>\n",
       "      <td>wdpa</td>\n",
       "      <td>1.245820e-04</td>\n",
       "      <td>304209.0</td>\n",
       "      <td>None</td>\n",
       "      <td>0.098260</td>\n",
       "      <td>a8a340fc-a9e1-5af0-9d43-4c8080131ee2</td>\n",
       "      <td>2726.67</td>\n",
       "      <td>MULTIPOLYGON (((175.71073 -36.87066, 175.71071...</td>\n",
       "      <td>153803.0</td>\n",
       "    </tr>\n",
       "    <tr>\n",
       "      <th>...</th>\n",
       "      <td>...</td>\n",
       "      <td>...</td>\n",
       "      <td>...</td>\n",
       "      <td>...</td>\n",
       "      <td>...</td>\n",
       "      <td>...</td>\n",
       "      <td>...</td>\n",
       "      <td>...</td>\n",
       "      <td>...</td>\n",
       "      <td>...</td>\n",
       "      <td>...</td>\n",
       "    </tr>\n",
       "    <tr>\n",
       "      <th>3172</th>\n",
       "      <td>Saloum  Delta</td>\n",
       "      <td>SEN</td>\n",
       "      <td>aoi</td>\n",
       "      <td>3.361619e-01</td>\n",
       "      <td>NaN</td>\n",
       "      <td>None</td>\n",
       "      <td>2.352446</td>\n",
       "      <td>9e2d8fc4-9ed4-5aea-8220-a200f1c388a7</td>\n",
       "      <td>440446.25</td>\n",
       "      <td>MULTIPOLYGON (((-16.84289 13.48422, -16.84289 ...</td>\n",
       "      <td>81604.0</td>\n",
       "    </tr>\n",
       "    <tr>\n",
       "      <th>3172</th>\n",
       "      <td>Saloum  Delta</td>\n",
       "      <td>SEN</td>\n",
       "      <td>aoi</td>\n",
       "      <td>3.361619e-01</td>\n",
       "      <td>NaN</td>\n",
       "      <td>None</td>\n",
       "      <td>2.352446</td>\n",
       "      <td>9e2d8fc4-9ed4-5aea-8220-a200f1c388a7</td>\n",
       "      <td>440446.25</td>\n",
       "      <td>MULTIPOLYGON (((-16.84289 13.48422, -16.84289 ...</td>\n",
       "      <td>81605.0</td>\n",
       "    </tr>\n",
       "    <tr>\n",
       "      <th>3172</th>\n",
       "      <td>Saloum  Delta</td>\n",
       "      <td>SEN</td>\n",
       "      <td>aoi</td>\n",
       "      <td>3.361619e-01</td>\n",
       "      <td>NaN</td>\n",
       "      <td>None</td>\n",
       "      <td>2.352446</td>\n",
       "      <td>9e2d8fc4-9ed4-5aea-8220-a200f1c388a7</td>\n",
       "      <td>440446.25</td>\n",
       "      <td>MULTIPOLYGON (((-16.84289 13.48422, -16.84289 ...</td>\n",
       "      <td>81570.0</td>\n",
       "    </tr>\n",
       "    <tr>\n",
       "      <th>3172</th>\n",
       "      <td>Saloum  Delta</td>\n",
       "      <td>SEN</td>\n",
       "      <td>aoi</td>\n",
       "      <td>3.361619e-01</td>\n",
       "      <td>NaN</td>\n",
       "      <td>None</td>\n",
       "      <td>2.352446</td>\n",
       "      <td>9e2d8fc4-9ed4-5aea-8220-a200f1c388a7</td>\n",
       "      <td>440446.25</td>\n",
       "      <td>MULTIPOLYGON (((-16.84289 13.48422, -16.84289 ...</td>\n",
       "      <td>81572.0</td>\n",
       "    </tr>\n",
       "    <tr>\n",
       "      <th>3172</th>\n",
       "      <td>Saloum  Delta</td>\n",
       "      <td>SEN</td>\n",
       "      <td>aoi</td>\n",
       "      <td>3.361619e-01</td>\n",
       "      <td>NaN</td>\n",
       "      <td>None</td>\n",
       "      <td>2.352446</td>\n",
       "      <td>9e2d8fc4-9ed4-5aea-8220-a200f1c388a7</td>\n",
       "      <td>440446.25</td>\n",
       "      <td>MULTIPOLYGON (((-16.84289 13.48422, -16.84289 ...</td>\n",
       "      <td>81571.0</td>\n",
       "    </tr>\n",
       "  </tbody>\n",
       "</table>\n",
       "<p>317479 rows × 11 columns</p>\n",
       "</div>"
      ],
      "text/plain": [
       "                name  iso  type       area_m2    wdpaid globalid  perimeter_m  \\\n",
       "0        Port Albert  NZL  wdpa  6.284804e-07  305383.0     None     0.005729   \n",
       "1         East Beach  NZL  wdpa  1.339717e-03  304976.0     None     0.837780   \n",
       "1         East Beach  NZL  wdpa  1.339717e-03  304976.0     None     0.837780   \n",
       "2     Ngunguru River  NZL  wdpa  1.502996e-05  304437.0     None     0.032190   \n",
       "3            Kaitoke  NZL  wdpa  1.245820e-04  304209.0     None     0.098260   \n",
       "...              ...  ...   ...           ...       ...      ...          ...   \n",
       "3172   Saloum  Delta  SEN   aoi  3.361619e-01       NaN     None     2.352446   \n",
       "3172   Saloum  Delta  SEN   aoi  3.361619e-01       NaN     None     2.352446   \n",
       "3172   Saloum  Delta  SEN   aoi  3.361619e-01       NaN     None     2.352446   \n",
       "3172   Saloum  Delta  SEN   aoi  3.361619e-01       NaN     None     2.352446   \n",
       "3172   Saloum  Delta  SEN   aoi  3.361619e-01       NaN     None     2.352446   \n",
       "\n",
       "                              location_idn  coast_length_m  \\\n",
       "0     df6769ce-2dab-565f-9988-3cbc4d1fe27b           31.84   \n",
       "1     fadaf94e-88c6-5f6b-9186-263ac02bc1ab         8165.40   \n",
       "1     fadaf94e-88c6-5f6b-9186-263ac02bc1ab         8165.40   \n",
       "2     db8e486b-f23f-5f32-bb4b-81d5f28ca6e7          718.36   \n",
       "3     a8a340fc-a9e1-5af0-9d43-4c8080131ee2         2726.67   \n",
       "...                                    ...             ...   \n",
       "3172  9e2d8fc4-9ed4-5aea-8220-a200f1c388a7       440446.25   \n",
       "3172  9e2d8fc4-9ed4-5aea-8220-a200f1c388a7       440446.25   \n",
       "3172  9e2d8fc4-9ed4-5aea-8220-a200f1c388a7       440446.25   \n",
       "3172  9e2d8fc4-9ed4-5aea-8220-a200f1c388a7       440446.25   \n",
       "3172  9e2d8fc4-9ed4-5aea-8220-a200f1c388a7       440446.25   \n",
       "\n",
       "                                               geometry  index_right  \n",
       "0     MULTIPOLYGON (((174.43184 -36.27456, 174.43183...     152304.0  \n",
       "1     MULTIPOLYGON (((173.24172 -34.90725, 173.24165...     150182.0  \n",
       "1     MULTIPOLYGON (((173.24172 -34.90725, 173.24165...     151301.0  \n",
       "2     MULTIPOLYGON (((174.48670 -35.64307, 174.48664...     151875.0  \n",
       "3     MULTIPOLYGON (((175.71073 -36.87066, 175.71071...     153803.0  \n",
       "...                                                 ...          ...  \n",
       "3172  MULTIPOLYGON (((-16.84289 13.48422, -16.84289 ...      81604.0  \n",
       "3172  MULTIPOLYGON (((-16.84289 13.48422, -16.84289 ...      81605.0  \n",
       "3172  MULTIPOLYGON (((-16.84289 13.48422, -16.84289 ...      81570.0  \n",
       "3172  MULTIPOLYGON (((-16.84289 13.48422, -16.84289 ...      81572.0  \n",
       "3172  MULTIPOLYGON (((-16.84289 13.48422, -16.84289 ...      81571.0  \n",
       "\n",
       "[317479 rows x 11 columns]"
      ]
     },
     "execution_count": 8,
     "metadata": {},
     "output_type": "execute_result"
    }
   ],
   "source": [
    "gpd.sjoin(locations_df, coast_df, how='left', op='intersects')"
   ]
  },
  {
   "cell_type": "code",
   "execution_count": 6,
   "id": "10f91aa1",
   "metadata": {
    "vscode": {
     "languageId": "python"
    }
   },
   "outputs": [],
   "source": [
    "mangrove_extent_df = gpd.read_file(mangrove_extent_path, layer=layers[0])#.geometry.to_crs('epsg:3410').buffer(200)"
   ]
  },
  {
   "cell_type": "code",
   "execution_count": 7,
   "id": "5d77a2e2",
   "metadata": {
    "vscode": {
     "languageId": "python"
    }
   },
   "outputs": [
    {
     "name": "stdout",
     "output_type": "stream",
     "text": [
      "<class 'geopandas.geodataframe.GeoDataFrame'>\n",
      "RangeIndex: 1121419 entries, 0 to 1121418\n",
      "Data columns (total 2 columns):\n",
      " #   Column    Non-Null Count    Dtype   \n",
      "---  ------    --------------    -----   \n",
      " 0   PXLVAL    1121419 non-null  int64   \n",
      " 1   geometry  1121419 non-null  geometry\n",
      "dtypes: geometry(1), int64(1)\n",
      "memory usage: 17.1 MB\n"
     ]
    }
   ],
   "source": [
    "mangrove_extent_df.info()"
   ]
  },
  {
   "cell_type": "code",
   "execution_count": null,
   "id": "2fd5aafc",
   "metadata": {
    "vscode": {
     "languageId": "python"
    }
   },
   "outputs": [],
   "source": [
    "mangrove_extent_df.to_crs('epsg:3410').buffer(200)"
   ]
  },
  {
   "cell_type": "code",
   "execution_count": null,
   "id": "cf832d2d",
   "metadata": {
    "vscode": {
     "languageId": "python"
    }
   },
   "outputs": [],
   "source": [
    "gpd.sjoin(coast_df, locations_df, how='left', op='intersects')"
   ]
  },
  {
   "cell_type": "code",
   "execution_count": 13,
   "id": "0f3286ee",
   "metadata": {
    "vscode": {
     "languageId": "python"
    }
   },
   "outputs": [
    {
     "ename": "NotImplementedError",
     "evalue": "Currently, only PyGEOS >= 0.10.0 supports `nearest_all`. To use PyGEOS within GeoPandas, you need to install PyGEOS: 'conda install pygeos' or 'pip install pygeos'",
     "output_type": "error",
     "traceback": [
      "\u001b[0;31m---------------------------------------------------------------------------\u001b[0m",
      "\u001b[0;31mNotImplementedError\u001b[0m                       Traceback (most recent call last)",
      "\u001b[1;32m/home/alicitita/Projects/mangrove-atlas/data/notebooks/Lab/data_processing/GEE/calculate_mangroves_coastal_length.ipynb Cell 9\u001b[0m in \u001b[0;36m<cell line: 1>\u001b[0;34m()\u001b[0m\n\u001b[0;32m----> <a href='vscode-notebook-cell:/home/alicitita/Projects/mangrove-atlas/data/notebooks/Lab/data_processing/GEE/calculate_mangroves_coastal_length.ipynb#ch0000016?line=0'>1</a>\u001b[0m test \u001b[39m=\u001b[39m gpd\u001b[39m.\u001b[39;49msjoin_nearest(coast_df\u001b[39m.\u001b[39;49mto_crs(\u001b[39m'\u001b[39;49m\u001b[39mepsg:3410\u001b[39;49m\u001b[39m'\u001b[39;49m), mangrove_extent_df\u001b[39m.\u001b[39;49mto_crs(\u001b[39m'\u001b[39;49m\u001b[39mepsg:3410\u001b[39;49m\u001b[39m'\u001b[39;49m), \n\u001b[1;32m      <a href='vscode-notebook-cell:/home/alicitita/Projects/mangrove-atlas/data/notebooks/Lab/data_processing/GEE/calculate_mangroves_coastal_length.ipynb#ch0000016?line=1'>2</a>\u001b[0m             how\u001b[39m=\u001b[39;49m\u001b[39m'\u001b[39;49m\u001b[39minner\u001b[39;49m\u001b[39m'\u001b[39;49m, max_distance\u001b[39m=\u001b[39;49m\u001b[39m200\u001b[39;49m)\n",
      "File \u001b[0;32m/opt/conda/lib/python3.8/site-packages/geopandas/tools/sjoin.py:519\u001b[0m, in \u001b[0;36msjoin_nearest\u001b[0;34m(left_df, right_df, how, max_distance, lsuffix, rsuffix, distance_col)\u001b[0m\n\u001b[1;32m    515\u001b[0m right_df\u001b[39m.\u001b[39mgeometry\u001b[39m.\u001b[39mvalues\u001b[39m.\u001b[39mcheck_geographic_crs(stacklevel\u001b[39m=\u001b[39m\u001b[39m1\u001b[39m)\n\u001b[1;32m    517\u001b[0m return_distance \u001b[39m=\u001b[39m distance_col \u001b[39mis\u001b[39;00m \u001b[39mnot\u001b[39;00m \u001b[39mNone\u001b[39;00m\n\u001b[0;32m--> 519\u001b[0m join_df \u001b[39m=\u001b[39m _nearest_query(left_df, right_df, max_distance, how, return_distance)\n\u001b[1;32m    521\u001b[0m \u001b[39mif\u001b[39;00m return_distance:\n\u001b[1;32m    522\u001b[0m     join_df \u001b[39m=\u001b[39m join_df\u001b[39m.\u001b[39mrename(columns\u001b[39m=\u001b[39m{\u001b[39m\"\u001b[39m\u001b[39mdistances\u001b[39m\u001b[39m\"\u001b[39m: distance_col})\n",
      "File \u001b[0;32m/opt/conda/lib/python3.8/site-packages/geopandas/tools/sjoin.py:363\u001b[0m, in \u001b[0;36m_nearest_query\u001b[0;34m(left_df, right_df, max_distance, how, return_distance)\u001b[0m\n\u001b[1;32m    355\u001b[0m \u001b[39mdef\u001b[39;00m \u001b[39m_nearest_query\u001b[39m(\n\u001b[1;32m    356\u001b[0m     left_df: GeoDataFrame,\n\u001b[1;32m    357\u001b[0m     right_df: GeoDataFrame,\n\u001b[0;32m   (...)\u001b[0m\n\u001b[1;32m    360\u001b[0m     return_distance: \u001b[39mbool\u001b[39m,\n\u001b[1;32m    361\u001b[0m ):\n\u001b[1;32m    362\u001b[0m     \u001b[39mif\u001b[39;00m \u001b[39mnot\u001b[39;00m (compat\u001b[39m.\u001b[39mPYGEOS_GE_010 \u001b[39mand\u001b[39;00m compat\u001b[39m.\u001b[39mUSE_PYGEOS):\n\u001b[0;32m--> 363\u001b[0m         \u001b[39mraise\u001b[39;00m \u001b[39mNotImplementedError\u001b[39;00m(\n\u001b[1;32m    364\u001b[0m             \u001b[39m\"\u001b[39m\u001b[39mCurrently, only PyGEOS >= 0.10.0 supports `nearest_all`. \u001b[39m\u001b[39m\"\u001b[39m\n\u001b[1;32m    365\u001b[0m             \u001b[39m+\u001b[39m compat\u001b[39m.\u001b[39mINSTALL_PYGEOS_ERROR\n\u001b[1;32m    366\u001b[0m         )\n\u001b[1;32m    367\u001b[0m     \u001b[39m# use the opposite of the join direction for the index\u001b[39;00m\n\u001b[1;32m    368\u001b[0m     use_left_as_sindex \u001b[39m=\u001b[39m how \u001b[39m==\u001b[39m \u001b[39m\"\u001b[39m\u001b[39mright\u001b[39m\u001b[39m\"\u001b[39m\n",
      "\u001b[0;31mNotImplementedError\u001b[0m: Currently, only PyGEOS >= 0.10.0 supports `nearest_all`. To use PyGEOS within GeoPandas, you need to install PyGEOS: 'conda install pygeos' or 'pip install pygeos'"
     ]
    }
   ],
   "source": [
    "test = gpd.sjoin_nearest(coast_df.to_crs('epsg:3410'), mangrove_extent_df.to_crs('epsg:3410'), \n",
    "            how='inner', max_distance=200)"
   ]
  },
  {
   "cell_type": "code",
   "execution_count": 12,
   "id": "6a10af09",
   "metadata": {
    "vscode": {
     "languageId": "python"
    }
   },
   "outputs": [
    {
     "name": "stdout",
     "output_type": "stream",
     "text": [
      "<class 'geopandas.geodataframe.GeoDataFrame'>\n",
      "Int64Index: 176028 entries, 73 to 277825\n",
      "Data columns (total 3 columns):\n",
      " #   Column       Non-Null Count   Dtype   \n",
      "---  ------       --------------   -----   \n",
      " 0   geometry     176028 non-null  geometry\n",
      " 1   index_right  176028 non-null  int64   \n",
      " 2   PXLVAL       176028 non-null  int64   \n",
      "dtypes: geometry(1), int64(2)\n",
      "memory usage: 5.4 MB\n"
     ]
    }
   ],
   "source": [
    "test.info()"
   ]
  },
  {
   "cell_type": "code",
   "execution_count": null,
   "id": "e5fb19a6",
   "metadata": {
    "vscode": {
     "languageId": "python"
    }
   },
   "outputs": [],
   "source": [
    "for layer_name in layers:\n",
    "    print(layer_name)\n",
    "    mangrove_extent_df = gpd.read_file(mangrove_extent_path, layer=layer_name)\n",
    "    mangrove_extent_df.sindex\n",
    "    mangrove_extent_df.clip()"
   ]
  },
  {
   "cell_type": "code",
   "execution_count": null,
   "id": "64556d28",
   "metadata": {
    "vscode": {
     "languageId": "python"
    }
   },
   "outputs": [],
   "source": [
    "def calculateMangrovesCoastalLength(geometry):\n",
    "    if geometry:\n",
    "        return round(coast_df.clip(geometry).to_crs('EPSG:3410').geometry.length.sum(), 2)\n",
    "    else:\n",
    "        return None   "
   ]
  },
  {
   "cell_type": "code",
   "execution_count": null,
   "id": "1b336ab6",
   "metadata": {
    "vscode": {
     "languageId": "python"
    }
   },
   "outputs": [],
   "source": [
    "with mp.Pool(mp.cpu_count() - 1) as pool:\n",
    "    locations_df['coast_length_m'] = pool.map(calculateMangrovesCoastalLength, locations_df['geometry'])"
   ]
  }
 ],
 "metadata": {
  "kernelspec": {
   "display_name": "Python 3 (ipykernel)",
   "language": "python",
   "name": "python3"
  }
 },
 "nbformat": 4,
 "nbformat_minor": 5
}
