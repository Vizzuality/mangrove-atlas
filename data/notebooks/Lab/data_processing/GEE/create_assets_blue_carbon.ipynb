{
 "cells": [
  {
   "cell_type": "markdown",
   "metadata": {},
   "source": [
    "# Calculate mangrove blue carbon\n",
    "Based on [ee code](https://code.earthengine.google.com/b1e2d678541dc3e9ff46eaf85df175c9)"
   ]
  },
  {
   "cell_type": "markdown",
   "metadata": {},
   "source": [
    "The export grid used has been [calculated](../download-grid-creation.ipynb) as \n",
    "the max allowed pixel size for the GEE export: 1e9 pixels"
   ]
  },
  {
   "cell_type": "markdown",
   "metadata": {},
   "source": [
    "This code creates a raster imageCollection representing the total carbon\n",
    "(in CO2e units) stock of global mangrove ecotypes per hectare (t CO2e / ha).  \n",
    "\n",
    "Input data:  \n",
    "* soc: mangrove soil organic carbon t OC / m2\n",
    "* agb: above ground biomass t / m2\n",
    "\n",
    "Conversions:\n",
    "* soc: t OC / m2 -> t CO2e / m2  \n",
    "* agb: t / m2 -> t CO2e / m2\n",
    "* bgb: agb t / m2 -> bgb  t / m2 -> t CO2e / m2\n",
    "\n",
    "Factors:\n",
    "* Above to Below Ground Biomass: 0.49 (Simard et al. 2019)\n",
    "* Biomass to Carbon: 0.451 (Simard et al. 2019)\n",
    "* Organic Carbon to CO2e: 11/3 = 3.66 "
   ]
  },
  {
   "cell_type": "code",
   "execution_count": 26,
   "metadata": {
    "vscode": {
     "languageId": "python"
    }
   },
   "outputs": [],
   "source": [
    "import os\n",
    "from pathlib import Path\n",
    "import json\n",
    "import ee\n",
    "import geemap\n",
    "import geopandas as gpd\n",
    "import shapely.speedups\n",
    "shapely.speedups.enable()"
   ]
  },
  {
   "cell_type": "code",
   "execution_count": 2,
   "metadata": {
    "vscode": {
     "languageId": "python"
    }
   },
   "outputs": [
    {
     "data": {
      "text/html": [
       "<p>To authorize access needed by Earth Engine, open the following\n",
       "        URL in a web browser and follow the instructions:</p>\n",
       "        <p><a href=https://code.earthengine.google.com/client-auth?scopes=https%3A//www.googleapis.com/auth/earthengine%20https%3A//www.googleapis.com/auth/devstorage.full_control&request_id=96tCfGh7BxVTRCtELtP3UImNjK1utgaFFzSfWt2DJlM&tc=-2OdKh8yxLqr6r1DroMe4Z6493L78sxli8SSURlHAPw&cc=vs7M7KkFs25pyaOeILWNzZWut6EFP8A8c9ur9WkyXgI>https://code.earthengine.google.com/client-auth?scopes=https%3A//www.googleapis.com/auth/earthengine%20https%3A//www.googleapis.com/auth/devstorage.full_control&request_id=96tCfGh7BxVTRCtELtP3UImNjK1utgaFFzSfWt2DJlM&tc=-2OdKh8yxLqr6r1DroMe4Z6493L78sxli8SSURlHAPw&cc=vs7M7KkFs25pyaOeILWNzZWut6EFP8A8c9ur9WkyXgI</a></p>\n",
       "        <p>The authorization workflow will generate a code, which you should paste in the box below.</p>\n",
       "        "
      ],
      "text/plain": [
       "<IPython.core.display.HTML object>"
      ]
     },
     "metadata": {},
     "output_type": "display_data"
    },
    {
     "name": "stdout",
     "output_type": "stream",
     "text": [
      "\n",
      "Successfully saved authorization token.\n"
     ]
    }
   ],
   "source": [
    "# Trigger the authentication flow.\n",
    "#ee.ServiceAccountCredentials(EE_ACCOUNT, EE_PRIVATE_KEY_FILE)\n",
    "ee.Authenticate()\n",
    "# Initialize the library.\n",
    "ee.Initialize()"
   ]
  },
  {
   "cell_type": "markdown",
   "metadata": {},
   "source": [
    "### Data Assets"
   ]
  },
  {
   "cell_type": "code",
   "execution_count": 32,
   "metadata": {
    "vscode": {
     "languageId": "python"
    }
   },
   "outputs": [],
   "source": [
    "#  FIXME: This will depends from where the notebook kernel is running so be careful\n",
    "WORK_DIR =Path(os.getcwd())\n",
    "BASE_DIR = f'{WORK_DIR.parents[3]}/datasets/raw'\n",
    "\n",
    "# @TODO: Add expected data files source as an environment variable.\n",
    "assert BASE_DIR == '/home/jovyan/work/datasets/raw', f'{BASE_DIR} is not the correct directory'\n",
    "\n",
    "# variables\n",
    "grid_filename = Path(f'{BASE_DIR}/grid_test.shp')\n",
    "base_gcs_url = 'https://storage.googleapis.com/mangrove_atlas/ee_export_tiffs'\n",
    "dataset = 'mangrove_blue_carbon'"
   ]
  },
  {
   "cell_type": "code",
   "execution_count": null,
   "metadata": {
    "vscode": {
     "languageId": "python"
    }
   },
   "outputs": [],
   "source": [
    "## Assets selection\n",
    "#agb: above-ground biomass density\n",
    "agb = ee.Image(ee.ImageCollection(\n",
    "    \"projects/global-mangrove-watch/mangrove-properties/mangrove_aboveground_biomass_1996-2016\").first())\n",
    "# oc : soil organic carbon\n",
    "soc = ee.Image(\"projects/global-mangrove-watch/mangrove-properties/mangroves_SOC30m_0_100cm\")"
   ]
  },
  {
   "cell_type": "markdown",
   "metadata": {},
   "source": [
    "### Create the Blue carbon asset"
   ]
  },
  {
   "cell_type": "code",
   "execution_count": 34,
   "metadata": {
    "vscode": {
     "languageId": "python"
    }
   },
   "outputs": [],
   "source": [
    "export_tiles = gpd.read_file(grid_filename)\n",
    "export_tiles['url'] = export_tiles.apply(lambda row: f'{base_gcs_url}/{dataset}/<year>/{row.id}.tif', axis=1)"
   ]
  },
  {
   "cell_type": "code",
   "execution_count": 195,
   "metadata": {
    "vscode": {
     "languageId": "python"
    }
   },
   "outputs": [],
   "source": [
    "fc = geemap.geopandas_to_ee(export_tiles)"
   ]
  },
  {
   "cell_type": "code",
   "execution_count": 175,
   "metadata": {
    "vscode": {
     "languageId": "python"
    }
   },
   "outputs": [],
   "source": [
    "# SET CONSTANTS\n",
    "# factor to convert above-ground biomass to below-ground biomass (Simard et al. 2019)\n",
    "agb_to_bgb = ee.Number(0.49)\n",
    "# factor to convert above-ground biomass to organic carbon (Simard et al. 2019)\n",
    "biomass_to_OC = ee.Number(0.451)\n",
    "# factor to convert organic carbon to CO2 equivalent\n",
    "OC_to_CO2e = ee.Number(11).divide(3)\n",
    "\n",
    "maxPixels = 1e12\n",
    "\n",
    "nms = soc.projection().nominalScale().getInfo()"
   ]
  },
  {
   "cell_type": "code",
   "execution_count": 159,
   "metadata": {
    "vscode": {
     "languageId": "python"
    }
   },
   "outputs": [],
   "source": [
    "def organic_c_to_co2(oc: ee.Image) -> ee.Image:\n",
    "    '''\n",
    "    Convert organic carbon to CO2 equivalent\n",
    "    '''\n",
    "    return oc.multiply(OC_to_CO2e)\n",
    "\n",
    "def biomass_to_co2(biomass: ee.Image) -> ee.Image:\n",
    "    '''\n",
    "    Convert above-ground biomass to CO2 equivalent\n",
    "    '''\n",
    "    return organic_c_to_co2(biomass.multiply(biomass_to_OC))\n",
    "\n",
    "def above_to_below(agb: ee.Image) -> ee.Image:\n",
    "    '''\n",
    "    Convert above-ground biomass to below-ground biomass\n",
    "    '''\n",
    "    return agb.multiply(agb_to_bgb)\n"
   ]
  },
  {
   "cell_type": "code",
   "execution_count": 160,
   "metadata": {
    "vscode": {
     "languageId": "python"
    }
   },
   "outputs": [],
   "source": [
    "def calculate_blue_carbon(soc: ee.Image, abg: ee.Image):\n",
    "    \"\"\"\n",
    "    Calculate the blue carbon from soil organic carbon and the above ground biomass.\n",
    "    \"\"\"\n",
    "    bgb = above_to_below(abg)\n",
    "    soc_co2 = (organic_c_to_co2(soc.updateMask(soc.gt(0)))).rename('soc_co2e')\n",
    "    abg_co2 = (biomass_to_co2(abg.updateMask(abg.gt(0)))).rename('agb_co2e')\n",
    "    bgb_co2 = (biomass_to_co2(bgb)).rename('bgb_co2e')\n",
    "    \n",
    "    # Return the image with the blue carbon.\n",
    "    return ee.Image(soc_co2.add(abg_co2).add(bgb_co2)).rename('total_co2e')"
   ]
  },
  {
   "cell_type": "code",
   "execution_count": 161,
   "metadata": {
    "vscode": {
     "languageId": "python"
    }
   },
   "outputs": [],
   "source": [
    "def exportDataTasks(asset: ee.ImageCollection, asset_name: str, gcbucket: str, geometry_collection: gpd.GeoDataFrame):\n",
    "    \"\"\"\n",
    "    Export the data to GEE.\n",
    "\n",
    "    Parameters\n",
    "    ----------\n",
    "    asset : ee.Image\n",
    "        The image to export.\n",
    "    asset_name : str\n",
    "        The name of the asset.\n",
    "    gcbucket : str\n",
    "        The name of the GCS bucket.\n",
    "    geometry_collection : ee.GeometryCollection\n",
    "        The geometry collection to export the data.\n",
    "    \n",
    "    Returns\n",
    "    -------\n",
    "    List of tasks\n",
    "    \"\"\"\n",
    "    fc = geemap.geopandas_to_ee(geometry_collection)\n",
    "\n",
    "    nms = asset.projection().nominalScale().getInfo()\n",
    "    years = asset.date().getInfo()['year']\n",
    "    taskList = []\n",
    "    \n",
    "    # TODO: improve this loop\n",
    "    \n",
    "    for geometry_id in geometry_collection:\n",
    "        for year in years:\n",
    "            task = ee.batch.Export.image.toCloudStorage(\n",
    "                image = ee.Image(asset.filterMetadata('year', 'equals', year)).clip(\n",
    "                    fc.filterMetadata('id', 'equals', geometry_id).geometry()),\n",
    "                bucket =gcbucket,\n",
    "                fileNamePrefix = f'ee_export_tiffs/{asset_name}/{year}/{geometry_id}',\n",
    "                description = f'{asset_name}_{year}_{geometry_id}',\n",
    "                scale = nms,\n",
    "                region = fc.filterMetadata('id', 'equals', geometry_id).geometry(),\n",
    "                fileFormat = 'GeoTIFF', \n",
    "                maxPixels = 1e13,\n",
    "                formatOptions = {'cloudOptimized': True})\n",
    "            taskList.append(task)\n",
    "    \n",
    "    return taskList"
   ]
  },
  {
   "cell_type": "code",
   "execution_count": null,
   "metadata": {
    "vscode": {
     "languageId": "python"
    }
   },
   "outputs": [],
   "source": [
    "def batchExecute(taskList: list, batch_size: int = 20):\n",
    "    \"\"\"\n",
    "    Execute the tasks in the list in baches of 20 as is the max allowed by GEE. \n",
    "    each task takes about 10 min to execute.\n",
    "    \"\"\"\n",
    "    n_tasks = len(taskList)\n",
    "    n_batches = Math.ceil(n_tasks / batch_size)\n",
    "    \n",
    "    for i in range(n_batches):\n",
    "        for task in taskList[i*batch_size:(i+1)*batch_size]:\n",
    "            task.start()\n",
    "\n",
    "    return taskList"
   ]
  },
  {
   "cell_type": "code",
   "execution_count": 162,
   "metadata": {
    "vscode": {
     "languageId": "python"
    }
   },
   "outputs": [],
   "source": [
    "blue_carbon = calculate_blue_carbon(soc, agb)"
   ]
  },
  {
   "cell_type": "code",
   "execution_count": 163,
   "metadata": {
    "vscode": {
     "languageId": "python"
    }
   },
   "outputs": [
    {
     "data": {
      "text/plain": [
       "27.829872698318393"
      ]
     },
     "execution_count": 163,
     "metadata": {},
     "output_type": "execute_result"
    }
   ],
   "source": [
    "blue_carbon.projection().nominalScale().getInfo()"
   ]
  },
  {
   "cell_type": "code",
   "execution_count": 164,
   "metadata": {
    "vscode": {
     "languageId": "python"
    }
   },
   "outputs": [],
   "source": [
    "# data = blue_carbon.reduceRegions(\n",
    "#     collection=fc,\n",
    "#     reducer=ee.Reducer.sum()\n",
    "# ).getInfo()"
   ]
  },
  {
   "cell_type": "code",
   "execution_count": null,
   "metadata": {
    "vscode": {
     "languageId": "python"
    }
   },
   "outputs": [
    {
     "ename": "",
     "evalue": "",
     "output_type": "error",
     "traceback": [
      "\u001b[1;31mFailed to connect to the remote Jupyter Server 'http://localhost:8887/'. Verify the server is running and reachable. (request to http://localhost:8887/hub/api failed, reason: connect ECONNREFUSED 127.0.0.1:8887)."
     ]
    }
   ],
   "source": [
    "# This is how we can dinamically create a url for downloading the data. there are some constrains on the nº of pixels that can be exported.\n",
    "print(blue_carbon.getDownloadUrl({\n",
    "    'scale': nms,\n",
    "    'crs': 'EPSG:4326',\n",
    "    'region': '[[39.184112548828125,-6.525458832948283],[39.494476318359375,-6.525458832948283],[39.494476318359375,-6.255236941610093],[39.184112548828125,-6.255236941610093],[39.184112548828125,-6.525458832948283]]'\n",
    "}))"
   ]
  },
  {
   "cell_type": "code",
   "execution_count": 201,
   "metadata": {
    "vscode": {
     "languageId": "python"
    }
   },
   "outputs": [
    {
     "data": {
      "application/vnd.jupyter.widget-view+json": {
       "model_id": "98225020b23b48b7b36d8181e86849af",
       "version_major": 2,
       "version_minor": 0
      },
      "text/plain": [
       "Map(center=[-5, 39], controls=(WidgetControl(options=['position', 'transparent_bg'], widget=HBox(children=(Tog…"
      ]
     },
     "metadata": {},
     "output_type": "display_data"
    }
   ],
   "source": [
    "Map = geemap.Map(center=(-5, 39), zoom=12, basemap='HYBRID')\n",
    "vis_params = {\n",
    "    'min': 0,\n",
    "    'max': 4000,\n",
    "    'palette': ['006633', 'E5FFCC', '662A00', 'D8D8D8', 'F5F5F5'],\n",
    "}\n",
    "Map.addLayer(blue_carbon, vis_params, 'SRTM DEM', True, 0.5)\n",
    "Map.addLayer(fc, {}, \"geopandas to ee\")\n",
    "Map"
   ]
  },
  {
   "cell_type": "code",
   "execution_count": 209,
   "metadata": {
    "vscode": {
     "languageId": "python"
    }
   },
   "outputs": [
    {
     "data": {
      "text/plain": [
       "'R3DQ6J4GYDBPF35CIOO5C6FB'"
      ]
     },
     "execution_count": 209,
     "metadata": {},
     "output_type": "execute_result"
    }
   ],
   "source": [
    "#dimensions = '1000000000000x1000000000000',\n",
    "#skipEmptyTiles = True,\n",
    "# a max of 20 at a time\n",
    "task = ee.batch.Export.image.toCloudStorage(\n",
    "           image = blue_carbon.clip(fc.filterMetadata('id', 'equals', 4).geometry()),\n",
    "           bucket ='mangrove_atlas',\n",
    "           fileNamePrefix = f'ee_export_tiffs/test_total_organic_carbon-3',\n",
    "           description = 'test_total_organic_carbon-2',\n",
    "           scale = nms,\n",
    "           region = fc.filterMetadata('id', 'equals', 4).geometry(),\n",
    "           fileFormat = 'GeoTIFF', \n",
    "           maxPixels = 1e13,\n",
    "           formatOptions = {'cloudOptimized': True})\n",
    "task.start()\n",
    "task.id"
   ]
  },
  {
   "cell_type": "code",
   "execution_count": 210,
   "metadata": {
    "vscode": {
     "languageId": "python"
    }
   },
   "outputs": [
    {
     "data": {
      "text/plain": [
       "{'state': 'READY',\n",
       " 'description': 'test_total_organic_carbon-2',\n",
       " 'creation_timestamp_ms': 1658840921125,\n",
       " 'update_timestamp_ms': 1658840921125,\n",
       " 'start_timestamp_ms': 0,\n",
       " 'task_type': 'EXPORT_IMAGE',\n",
       " 'id': 'R3DQ6J4GYDBPF35CIOO5C6FB',\n",
       " 'name': 'projects/earthengine-legacy/operations/R3DQ6J4GYDBPF35CIOO5C6FB'}"
      ]
     },
     "execution_count": 210,
     "metadata": {},
     "output_type": "execute_result"
    }
   ],
   "source": [
    "task.status()"
   ]
  }
 ],
 "metadata": {
  "interpreter": {
   "hash": "31f2aee4e71d21fbe5cf8b01ff0e069b9275f58929596ceb00d14d90e3e16cd6"
  },
  "kernelspec": {
   "display_name": "Python 3 (ipykernel)",
   "language": "python",
   "name": "python3"
  }
 },
 "nbformat": 4,
 "nbformat_minor": 4
}
