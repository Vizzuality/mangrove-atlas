{
 "cells": [
  {
   "attachments": {},
   "cell_type": "markdown",
   "metadata": {},
   "source": [
    "# Create mangrove blue carbon asset\n",
    "\n",
    "Based on [ee code](https://code.earthengine.google.com/b1e2d678541dc3e9ff46eaf85df175c9)"
   ]
  },
  {
   "attachments": {},
   "cell_type": "markdown",
   "metadata": {},
   "source": [
    "The export grid used has been [calculated](../download-grid-creation.ipynb) as \n",
    "the max allowed pixel size for the GEE export: 1e9 pixels"
   ]
  },
  {
   "attachments": {},
   "cell_type": "markdown",
   "metadata": {},
   "source": [
    "This code creates a raster imageCollection representing the total carbon\n",
    "(in CO2e units) stock of global mangrove ecotypes per hectare (t CO2e / ha).  \n",
    "\n",
    "Input data:  \n",
    "* soc: mangrove soil organic carbon t OC / m2\n",
    "* agb: above ground biomass t / m2\n",
    "\n",
    "Conversions:\n",
    "* soc: t OC / m2 -> t CO2e / m2  \n",
    "* agb: t / m2 -> t CO2e / m2\n",
    "* bgb: agb t / m2 -> bgb  t / m2 -> t CO2e / m2\n",
    "\n",
    "Factors:\n",
    "* Above to Below Ground Biomass: 0.49 (Simard et al. 2019)\n",
    "* Biomass to Carbon: 0.451 (Simard et al. 2019)\n",
    "* Organic Carbon to CO2e: 11/3 = 3.66 "
   ]
  },
  {
   "cell_type": "code",
   "execution_count": 12,
   "metadata": {},
   "outputs": [],
   "source": [
    "import os\n",
    "from pathlib import Path\n",
    "import json\n",
    "import ee\n",
    "import geemap\n",
    "import geopandas as gpd\n",
    "from IPython.display import display, Markdown, JSON\n",
    "import shapely.speedups\n",
    "\n",
    "\n",
    "%run utils.ipynb"
   ]
  },
  {
   "cell_type": "code",
   "execution_count": 16,
   "metadata": {},
   "outputs": [
    {
     "data": {
      "text/html": [
       "<p>To authorize access needed by Earth Engine, open the following\n",
       "        URL in a web browser and follow the instructions:</p>\n",
       "        <p><a href=https://code.earthengine.google.com/client-auth?scopes=https%3A//www.googleapis.com/auth/earthengine%20https%3A//www.googleapis.com/auth/devstorage.full_control&request_id=2lO3V4b1T6AJGbqIVI5wI_iFbhRiwO1II6PsSMgd4vo&tc=QmtBUMnFJ7NVYdpApx9AEyJTEwDasJzJoaBBLm0RZQo&cc=qG4EQB-dpk2hwZRy5dFHdN4QPKoxO9e_ycmne58aokQ>https://code.earthengine.google.com/client-auth?scopes=https%3A//www.googleapis.com/auth/earthengine%20https%3A//www.googleapis.com/auth/devstorage.full_control&request_id=2lO3V4b1T6AJGbqIVI5wI_iFbhRiwO1II6PsSMgd4vo&tc=QmtBUMnFJ7NVYdpApx9AEyJTEwDasJzJoaBBLm0RZQo&cc=qG4EQB-dpk2hwZRy5dFHdN4QPKoxO9e_ycmne58aokQ</a></p>\n",
       "        <p>The authorization workflow will generate a code, which you should paste in the box below.</p>\n",
       "        "
      ],
      "text/plain": [
       "<IPython.core.display.HTML object>"
      ]
     },
     "metadata": {},
     "output_type": "display_data"
    },
    {
     "name": "stdout",
     "output_type": "stream",
     "text": [
      "\n",
      "Successfully saved authorization token.\n"
     ]
    }
   ],
   "source": [
    "# Trigger the authentication flow.\n",
    "#ee.ServiceAccountCredentials(EE_ACCOUNT, EE_PRIVATE_KEY_FILE)\n",
    "ee.Authenticate(auth_mode='notebook')\n",
    "# Initialize the library.\n",
    "ee.Initialize()"
   ]
  },
  {
   "attachments": {},
   "cell_type": "markdown",
   "metadata": {},
   "source": [
    "### Data Assets"
   ]
  },
  {
   "cell_type": "code",
   "execution_count": 18,
   "metadata": {},
   "outputs": [],
   "source": [
    "#  FIXME: This will depends from where the notebook kernel is running so be careful\n",
    "WORK_DIR =Path(os.getcwd())\n",
    "BASE_DIR = f'{WORK_DIR.parents[3]}/datasets/raw'\n",
    "\n",
    "# @TODO: Add expected data files source as an environment variable.\n",
    "assert BASE_DIR == '/home/jovyan/work/datasets/raw', f'{BASE_DIR} is not the correct directory'\n",
    "\n",
    "# variables\n",
    "version = 'v2_1'\n",
    "base_gcs_url = 'https://storage.googleapis.com/mangrove_atlas/ee_export_tiffs'\n",
    "dataset = 'mangrove_blue_carbon'\n",
    "# SET EXPORT REGION\n",
    "region = ee.Geometry.Polygon([-180, 33, 0,33,180, 33,180,-40,0,-40,-180,-40], None, False)\n",
    "# SET piramiding policy\n",
    "piramiding_policies = {'total_co2e': 'mean',\n",
    "                     'agb_co2e': 'mean',\n",
    "                     'bgb_co2e': 'mean',\n",
    "                     'soc_co2e': 'mean'}"
   ]
  },
  {
   "cell_type": "code",
   "execution_count": 19,
   "metadata": {},
   "outputs": [],
   "source": [
    "## Assets selection\n",
    "#agb: above-ground biomass density\n",
    "agb = ee.Image(ee.ImageCollection(\n",
    "    \"projects/global-mangrove-watch/mangrove-properties/mangrove_aboveground_biomass_1996-2016\").first())\n",
    "# oc : soil organic carbon\n",
    "soc = ee.Image(\"projects/global-mangrove-watch/mangrove-properties/mangroves_SOC30m_0_100cm\")"
   ]
  },
  {
   "attachments": {},
   "cell_type": "markdown",
   "metadata": {},
   "source": [
    "### Create the Blue carbon asset"
   ]
  },
  {
   "cell_type": "code",
   "execution_count": 20,
   "metadata": {},
   "outputs": [],
   "source": [
    "# SET CONSTANTS\n",
    "# factor to convert above-ground biomass to below-ground biomass (Simard et al. 2019)\n",
    "agb_to_bgb = ee.Number(0.49)\n",
    "# factor to convert above-ground biomass to organic carbon (Simard et al. 2019)\n",
    "biomass_to_OC = ee.Number(0.451)\n",
    "# factor to convert organic carbon to CO2 equivalent\n",
    "OC_to_CO2e = ee.Number(11).divide(3)\n",
    "\n",
    "maxPixels = 1e16\n",
    "\n",
    "nms = soc.projection().nominalScale().getInfo()"
   ]
  },
  {
   "cell_type": "code",
   "execution_count": 21,
   "metadata": {},
   "outputs": [],
   "source": [
    "def organic_c_to_co2(oc: ee.Image) -> ee.Image:\n",
    "    '''\n",
    "    Convert organic carbon to CO2 equivalent\n",
    "    '''\n",
    "    return oc.multiply(OC_to_CO2e)\n",
    "\n",
    "def biomass_to_co2(biomass: ee.Image) -> ee.Image:\n",
    "    '''\n",
    "    Convert above-ground biomass to CO2 equivalent\n",
    "    '''\n",
    "    return organic_c_to_co2(biomass.multiply(biomass_to_OC))\n",
    "\n",
    "def above_to_below(agb: ee.Image) -> ee.Image:\n",
    "    '''\n",
    "    Convert above-ground biomass to below-ground biomass\n",
    "    '''\n",
    "    return agb.multiply(agb_to_bgb)\n",
    "\n",
    "def calculate_blue_carbon(soc: ee.Image, abg: ee.Image):\n",
    "    \"\"\"\n",
    "    Calculate the blue carbon from soil organic carbon and the above ground biomass.\n",
    "    \"\"\"\n",
    "    bgb = above_to_below(abg)\n",
    "    soc_co2 = (organic_c_to_co2(soc.updateMask(soc.gt(0)))).rename('soc_co2e')\n",
    "    abg_co2 = (biomass_to_co2(abg.updateMask(abg.gt(0)))).rename('agb_co2e')\n",
    "    bgb_co2 = (biomass_to_co2(bgb)).rename('bgb_co2e')\n",
    "    \n",
    "    # Return the image with the blue carbon.\n",
    "    return ee.Image(soc_co2.add(abg_co2).add(bgb_co2)).rename('total_co2e').addBands(soc_co2).addBands(abg_co2).addBands(bgb_co2)\n"
   ]
  },
  {
   "cell_type": "code",
   "execution_count": 22,
   "metadata": {},
   "outputs": [],
   "source": [
    "def check_asset(asset_id: str)-> bool:\n",
    "    \"\"\"\n",
    "    Check if an asset exists in GEE.\n",
    "    \"\"\"\n",
    "    try:\n",
    "        ee.data.getAsset(asset_id)\n",
    "        return True\n",
    "    except:\n",
    "        # TODO: this can fail becouse the asset does not exist or the user does \n",
    "        # not have rights to read the asset\n",
    "        return False"
   ]
  },
  {
   "cell_type": "code",
   "execution_count": 52,
   "metadata": {},
   "outputs": [],
   "source": [
    "def create_blue_carbon_asset(dataset: str, data_version: str):\n",
    "    \"\"\"\n",
    "    Create an asset with the gain/loss of the mangrove extent\n",
    "    \"\"\"\n",
    "    ee_asset_path = f'projects/global-mangrove-watch/mangrove-properties/{dataset}-{data_version}'\n",
    "    \n",
    "    description = f\"\"\"\n",
    "    # Mangrove blue carbon\n",
    "\n",
    "    ## Methodology\n",
    "\n",
    "    This dataset shows the amount and density of carbon stored in mangrove biomass and soil. Total values represent the sum of aboveground carbon, and the soil organic carbon values, attributed to mangrove forests. \n",
    "    Total values are expressed in Megatonnes of carbon dioxide equivalents (Mt CO2e), while mapped carbon density values are depicted as metric tonnes of CO2 equivalents per hectare (t CO2e / ha). Above-ground estimates of mangrove carbon were obtained from Simard et al. 2019. The data were derived from remotely-sensed canopy height measurements and region-specific allometric models validated using in-situ measurements in field plots across three continents. This was converted to mean AGB carbon using the stoichiometric factor of 0.451 (Simard et al. 2019). Soil Organic Carbon (SOC) estimates of the top meter of mangrove soils based on a methodology developed by Sanderman et al. (2018) were overlaid with 2016 mangrove extent maps from Bunting et al. 2018 to produce a global map of soil organic carbon at a 30 m spatial resolution. Aboveground and soil carbon values originally expressed in metric tonnes (megagrams) of carbon per hectare were converted to total carbon using the Bunting et al. (2018) mangrove extent for each country and converted to MtCO2e using a conversion factor of 3.67 (Howard et al. 2014).\n",
    "    \"\"\"\n",
    "\n",
    "    collection_properties = ImageCollectionProperties(\n",
    "        name = f\"Mangrove blue carbon ({data_version})\",\n",
    "        version = data_version,\n",
    "        creator = \"Global Mangrove Watch (GMW): Aberystwyth University/soloEO/Wetlands International/UNEP-WCMC/JAXA/DOB Ecology\",\n",
    "        description = description,\n",
    "        identifier = \"\",\n",
    "        keywords = \"Erosion; Coasts; Natural Infrastructure; Biodiversity; Blue Carbon; Forests; Mangroves; Landcover\",\n",
    "        citation = \"Bunting, P., Rosenqvist, A., Lucas, R. M., Rebelo, L. M., Hilarides, L., Thomas, N., … Finlayson, C. M. (2018). The global mangrove watch - A new 2010 global baseline of mangrove extent. Remote Sensing, 10(10).  \\\n",
    "        Giri, C., Ochieng, E., Tieszen, L. L., Zhu, Z., Singh, A., Loveland, T., … Duke, N. (2011). Status and distribution of mangrove forests of the world using earth observation satellite data. Global Ecology and Biogeography, 20(1), 154–159. https://doi.org/10.1111/j.1466-8238.2010.00584.x  \\\n",
    "        Sanderman J, Hengl T, Fiske G et al. (2018) A global map of mangrove forest soil carbon at 30 m spatial resolution. Environmental Research Letters 13: 055002. doi: 10.1088/1748-9326/aabe1c  \\\n",
    "        Simard, M., T. Fatoyinbo, C. Smetanka, V.H. Rivera-monroy, E. Castaneda-mova, N. Thomas, and T. Van der stocken. (2019) Global Mangrove Distribution, Aboveground Biomass, and Canopy Height. ORNL DAAC, Oak Ridge, Tennessee, USA.\",\n",
    "        license = \"https://creativecommons.org/licenses/by/4.0/\",\n",
    "        url = \"\",\n",
    "        language = \"en\", \n",
    "        altName = f\"Global Mangrove Watch, {data_version}\",\n",
    "        distribution = \"\",\n",
    "        variableMeasured = \"Blue carbon of mangrove forests\",\n",
    "        units = \"1\",\n",
    "        spatialCoverage = \"Global tropics\",\n",
    "        temporalCoverage = '2016',\n",
    "        dataLineage = \"Raster data supplied by Aberystwyth University (Dr. Dave Bunting) as tilesets per year, \\\n",
    "            each tilset was combined, and added to Google earth engine as multi-temporal ImageCollection.\"\n",
    "    )\n",
    "\n",
    "    return ee.data.createAsset({\"type\":\"ImageCollection\"}, ee_asset_path, collection_properties.dict(exclude_none=True))\n",
    "\n",
    "def create_image(asset: ee.ImageCollection, asset_name: str, region: ee.geometry, pyramiding_policy: dict, year: int, nms: int):\n",
    "        \n",
    "        name = f\"{asset_name}/{year}\"\n",
    "        \n",
    "        image_properties = ImageProperties(\n",
    "                    band_nodata_values = 0,\n",
    "                    band_pyramiding_policies = 'MEAN',\n",
    "                    band_names = ', '.join(pyramiding_policy.keys()),\n",
    "                    year = year,\n",
    "                )\n",
    "        print(f\"export_{asset_name}_{str(year)}\")\n",
    "        params = {\n",
    "                'image': asset.filterMetadata('year', 'equals', year).first().set(image_properties.dict(exclude_none=True)),\n",
    "                'description': f\"export_{asset_name.split('/')[-1]}_{year}\",\n",
    "                'assetId': name,\n",
    "                'pyramidingPolicy': pyramiding_policy,\n",
    "                'scale': nms,\n",
    "                'crs': 'EPSG:4326',\n",
    "                'region': region,\n",
    "                'maxPixels': 1e13\n",
    "                }\n",
    "        # if not check_asset(asset_name):\n",
    "        #     ee.data.createAsset({\"type\":\"Image\"}, asset_name, image_properties.dict(exclude_none=True))\n",
    "        # else:\n",
    "        #     ee.data.updateAsset(asset_name, image_properties.dict(exclude_none=True))\n",
    "        \n",
    "        \n",
    "        return ee.batch.Export.image.toAsset(**params)\n",
    "\n",
    "def exportAssetTasks(asset: ee.ImageCollection, asset_name: str, geometry: ee.geometry, pyramiding_policy: dict,  years: list = [2016], view = True, export = False):\n",
    "    \"\"\"\n",
    "    Export the data to GEE.\n",
    "\n",
    "    Parameters\n",
    "    ----------\n",
    "    asset : ee.Image\n",
    "        The image to export.\n",
    "    asset_name : str\n",
    "        The name of the asset.\n",
    "    geometry : ee.geometry\n",
    "        The geometry to export.\n",
    "    pyramiding_policy : dict, optional\n",
    "        The pyramiding policy. The default is {'total_co2e': 'mean'}.\n",
    "    years : list, optional\n",
    "        The years to export. The default is [2016].\n",
    "        \n",
    "    \n",
    "    Returns\n",
    "    -------\n",
    "    List of tasks\n",
    "    \"\"\"\n",
    "    taskList = []\n",
    "    collection_name = f'projects/global-mangrove-watch/mangrove-properties/{asset_name}-{version}'\n",
    "    \n",
    "    # TODO: improve this loop with a map function\n",
    "    if export:\n",
    "        if not check_asset(collection_name):\n",
    "            create_blue_carbon_asset(dataset, version)\n",
    "            \n",
    "        nms = asset.first().select('total_co2e').projection().nominalScale().getInfo()\n",
    "        for year in years:\n",
    "            task = create_image(asset, collection_name, geometry, pyramiding_policy, year, nms)\n",
    "            task.start()\n",
    "            taskList.append(task)\n",
    "    \n",
    "    if view:\n",
    "        display(Markdown(f\"### Map {asset_name}\"))\n",
    "        # Create a geemap  object.\n",
    "        Map = geemap.Map(center=(-7.998, 39.4767), zoom=9, basemap='HYBRID')\n",
    "        vis_params = {\n",
    "            'bands': ['total_co2e'],\n",
    "            'min': 0,\n",
    "            'max': 3500,\n",
    "            'palette': ['#5c4a3d',\n",
    "                        '#933a06',\n",
    "                        '#b84e17',\n",
    "                        '#e68518',\n",
    "                        '#eeb66b'],\n",
    "        }\n",
    "        Map.addLayer(asset.first(), vis_params, asset_name, True, 1)\n",
    "        display(Map)\n",
    "    \n",
    "    return taskList"
   ]
  },
  {
   "cell_type": "code",
   "execution_count": 36,
   "metadata": {},
   "outputs": [
    {
     "data": {
      "application/json": {
       "bands": [
        {
         "crs": "EPSG:4326",
         "crs_transform": [
          0.00025,
          0,
          -119.00025000000001,
          0,
          -0.00025,
          33.9995
         ],
         "data_type": {
          "precision": "double",
          "type": "PixelType"
         },
         "dimensions": [
          1296002,
          292002
         ],
         "id": "total_co2e"
        },
        {
         "crs": "EPSG:4326",
         "crs_transform": [
          0.00025,
          0,
          -119.00025000000001,
          0,
          -0.00025,
          33.9995
         ],
         "data_type": {
          "max": 120145.66666666666,
          "min": -120149.33333333333,
          "precision": "double",
          "type": "PixelType"
         },
         "dimensions": [
          1296002,
          292002
         ],
         "id": "soc_co2e"
        },
        {
         "crs": "EPSG:4326",
         "crs_transform": [
          0.00027777777777779285,
          0,
          -180.0001388888889,
          0,
          -0.00027777777777779285,
          35.00013888888889
         ],
         "data_type": {
          "precision": "double",
          "type": "PixelType"
         },
         "id": "agb_co2e"
        },
        {
         "crs": "EPSG:4326",
         "crs_transform": [
          0.00027777777777779285,
          0,
          -180.0001388888889,
          0,
          -0.00027777777777779285,
          35.00013888888889
         ],
         "data_type": {
          "precision": "double",
          "type": "PixelType"
         },
         "id": "bgb_co2e"
        }
       ],
       "properties": {
        "year": 2016
       },
       "type": "Image"
      },
      "text/plain": [
       "<IPython.core.display.JSON object>"
      ]
     },
     "execution_count": 36,
     "metadata": {
      "application/json": {
       "expanded": false,
       "root": "root"
      }
     },
     "output_type": "execute_result"
    }
   ],
   "source": [
    "blue_carbon = calculate_blue_carbon(soc, agb).set({\"year\":2016})\n",
    "JSON(blue_carbon.getInfo())"
   ]
  },
  {
   "cell_type": "code",
   "execution_count": 53,
   "metadata": {},
   "outputs": [
    {
     "name": "stdout",
     "output_type": "stream",
     "text": [
      "export_projects/global-mangrove-watch/mangrove-properties/mangrove_blue_carbon-v2_1_2016\n"
     ]
    },
    {
     "data": {
      "text/markdown": [
       "### Map mangrove_blue_carbon"
      ],
      "text/plain": [
       "<IPython.core.display.Markdown object>"
      ]
     },
     "metadata": {},
     "output_type": "display_data"
    },
    {
     "data": {
      "application/vnd.jupyter.widget-view+json": {
       "model_id": "8c7c83d29efe4eee8aedaa3e67489804",
       "version_major": 2,
       "version_minor": 0
      },
      "text/plain": [
       "Map(center=[-7.998, 39.4767], controls=(WidgetControl(options=['position', 'transparent_bg'], widget=HBox(chil…"
      ]
     },
     "metadata": {},
     "output_type": "display_data"
    }
   ],
   "source": [
    "tasks = exportAssetTasks(ee.ImageCollection.fromImages([blue_carbon]), dataset, region, piramiding_policies, years = [2016], view = True, export = True)"
   ]
  },
  {
   "cell_type": "code",
   "execution_count": 54,
   "metadata": {},
   "outputs": [
    {
     "name": "stdout",
     "output_type": "stream",
     "text": [
      "G3YQCNS2CIKSAD6TOC3IQCK7  Export.image  export_mangrove_blue_carbon-v2_1_2016  RUNNING    ---\n",
      "7O6JRV5XJXXJVM4Y65O3QPH5  Export.image  export_mangrove_blue_carbon-v2_1_2016  FAILED     Invalid type.\n",
      "Expected type: Image<unknown bands>.\n",
      "Actual type: ImageCollection.\n"
     ]
    }
   ],
   "source": [
    "# Check task status\n",
    "!earthengine task list | head -n 20"
   ]
  },
  {
   "cell_type": "code",
   "execution_count": 56,
   "metadata": {},
   "outputs": [
    {
     "data": {
      "text/plain": [
       "{'state': 'RUNNING',\n",
       " 'description': 'export_mangrove_blue_carbon-v2_1_2016',\n",
       " 'creation_timestamp_ms': 1686758464981,\n",
       " 'update_timestamp_ms': 1686759009617,\n",
       " 'start_timestamp_ms': 1686758468075,\n",
       " 'task_type': 'EXPORT_IMAGE',\n",
       " 'attempt': 1,\n",
       " 'id': 'G3YQCNS2CIKSAD6TOC3IQCK7',\n",
       " 'name': 'projects/earthengine-legacy/operations/G3YQCNS2CIKSAD6TOC3IQCK7'}"
      ]
     },
     "execution_count": 56,
     "metadata": {},
     "output_type": "execute_result"
    }
   ],
   "source": [
    "tasks[0].status()"
   ]
  },
  {
   "attachments": {},
   "cell_type": "markdown",
   "metadata": {},
   "source": [
    "## Export the data to GCS"
   ]
  },
  {
   "cell_type": "code",
   "execution_count": 13,
   "metadata": {},
   "outputs": [],
   "source": [
    "# Grid for download export\n",
    "grid_filename = Path(f'{BASE_DIR}/grid_test.shp')\n",
    "export_tiles = gpd.read_file(grid_filename)\n",
    "export_tiles['url'] = export_tiles.apply(lambda row: f'{base_gcs_url}/{dataset}/2016/{row.id}.tif', axis=1)\n",
    "fc = geemap.geopandas_to_ee(export_tiles)"
   ]
  },
  {
   "cell_type": "code",
   "execution_count": 34,
   "metadata": {},
   "outputs": [],
   "source": [
    "def exportDataTasks(asset: ee.ImageCollection, asset_name: str, gcbucket: str, geometry_collection: gpd.GeoDataFrame):\n",
    "    \"\"\"\n",
    "    Export the data to GEE.\n",
    "\n",
    "    Parameters\n",
    "    ----------\n",
    "    asset : ee.Image\n",
    "        The image to export.\n",
    "    asset_name : str\n",
    "        The name of the asset.\n",
    "    gcbucket : str\n",
    "        The name of the GCS bucket.\n",
    "    geometry_collection : ee.GeometryCollection\n",
    "        The geometry collection to export the data.\n",
    "    \n",
    "    Returns\n",
    "    -------\n",
    "    List of tasks\n",
    "    \"\"\"\n",
    "    fc = geemap.geopandas_to_ee(geometry_collection)\n",
    "\n",
    "    nms = asset.first().select('total_co2e').projection().nominalScale().getInfo()\n",
    "    years = asset.date().getInfo()['year']\n",
    "    taskList = []\n",
    "    \n",
    "    # TODO: improve this loop\n",
    "    \n",
    "    for geometry_id in geometry_collection:\n",
    "        for year in years:\n",
    "            task = ee.batch.Export.image.toCloudStorage(\n",
    "                image = ee.Image(asset.filterMetadata('year', 'equals', year)).clip(\n",
    "                    fc.filterMetadata('id', 'equals', geometry_id).geometry()),\n",
    "                bucket =gcbucket,\n",
    "                fileNamePrefix = f'ee_export_tiffs/{asset_name}/{year}/{geometry_id}',\n",
    "                description = f'{asset_name}_{year}_{geometry_id}',\n",
    "                scale = nms,\n",
    "                region = fc.filterMetadata('id', 'equals', geometry_id).geometry(),\n",
    "                fileFormat = 'GeoTIFF', \n",
    "                maxPixels = 1e13,\n",
    "                formatOptions = {'cloudOptimized': True})\n",
    "            \n",
    "            taskList.append(task)\n",
    "    \n",
    "    return taskList"
   ]
  },
  {
   "cell_type": "code",
   "execution_count": 35,
   "metadata": {},
   "outputs": [],
   "source": [
    "def batchExecute(taskList: list, batch_size: int = 20):\n",
    "    \"\"\"\n",
    "    Execute the tasks in the list in baches of 20 as is the max allowed by GEE. \n",
    "    each task takes about 10 min to execute.\n",
    "    \"\"\"\n",
    "    n_tasks = len(taskList)\n",
    "    n_batches = Math.ceil(n_tasks / batch_size)\n",
    "    \n",
    "    for i in range(n_batches):\n",
    "        for task in taskList[i*batch_size:(i+1)*batch_size]:\n",
    "            task.start()\n",
    "\n",
    "    return taskList"
   ]
  },
  {
   "cell_type": "code",
   "execution_count": 48,
   "metadata": {},
   "outputs": [
    {
     "name": "stdout",
     "output_type": "stream",
     "text": [
      "https://earthengine.googleapis.com/v1alpha/projects/earthengine-legacy/thumbnails/ab79e79dd89bfc40b03baa84e74fe293-69efccdd85237a841e0f974e7e0233e8:getPixels\n"
     ]
    }
   ],
   "source": [
    "# This is how we can dynamically create a url for downloading the data. there are some constrains on the nº of pixels that can be exported.\n",
    "print(blue_carbon.getDownloadUrl({\n",
    "    'name': 'blue_carbon',\n",
    "    'scale': nms,\n",
    "    'crs': 'EPSG:4326',\n",
    "    'region': '[[39.184112548828125,-6.525458832948283],[39.494476318359375,-6.525458832948283],[39.494476318359375,-6.255236941610093],[39.184112548828125,-6.255236941610093],[39.184112548828125,-6.525458832948283]]'\n",
    "}))"
   ]
  },
  {
   "cell_type": "code",
   "execution_count": 164,
   "metadata": {},
   "outputs": [],
   "source": [
    "# This is how you can export the data as a table if you need to create statistics\n",
    "\n",
    "# data = blue_carbon.reduceRegions(\n",
    "#     collection=fc,\n",
    "#     reducer=ee.Reducer.sum()\n",
    "# )\n",
    "# task =  ee.batch.Export.table.toCloudStorage( \n",
    "#    collection = data,\n",
    "#  bucket = 'mangrove-carbon',\n",
    "#  fileNamePrefix = 'ee_export_tiffs/blue_carbon'\n",
    "# )\n",
    "# task.start()"
   ]
  },
  {
   "cell_type": "code",
   "execution_count": 209,
   "metadata": {},
   "outputs": [
    {
     "data": {
      "text/plain": [
       "'R3DQ6J4GYDBPF35CIOO5C6FB'"
      ]
     },
     "execution_count": 209,
     "metadata": {},
     "output_type": "execute_result"
    }
   ],
   "source": [
    "#dimensions = '1000000000000x1000000000000',\n",
    "#skipEmptyTiles = True,\n",
    "# a max of 20 at a time\n",
    "task = ee.batch.Export.image.toCloudStorage(\n",
    "           image = blue_carbon.clip(fc.filterMetadata('id', 'equals', 4).geometry()),\n",
    "           bucket ='mangrove_atlas',\n",
    "           fileNamePrefix = f'ee_export_tiffs/test_total_organic_carbon-3',\n",
    "           description = 'test_total_organic_carbon-2',\n",
    "           scale = nms,\n",
    "           region = fc.filterMetadata('id', 'equals', 4).geometry(),\n",
    "           fileFormat = 'GeoTIFF', \n",
    "           maxPixels = 1e13,\n",
    "           formatOptions = {'cloudOptimized': True})\n",
    "task.start()\n",
    "task.id"
   ]
  },
  {
   "cell_type": "code",
   "execution_count": 210,
   "metadata": {},
   "outputs": [
    {
     "data": {
      "text/plain": [
       "{'state': 'READY',\n",
       " 'description': 'test_total_organic_carbon-2',\n",
       " 'creation_timestamp_ms': 1658840921125,\n",
       " 'update_timestamp_ms': 1658840921125,\n",
       " 'start_timestamp_ms': 0,\n",
       " 'task_type': 'EXPORT_IMAGE',\n",
       " 'id': 'R3DQ6J4GYDBPF35CIOO5C6FB',\n",
       " 'name': 'projects/earthengine-legacy/operations/R3DQ6J4GYDBPF35CIOO5C6FB'}"
      ]
     },
     "execution_count": 210,
     "metadata": {},
     "output_type": "execute_result"
    }
   ],
   "source": [
    "task.status()"
   ]
  }
 ],
 "metadata": {
  "interpreter": {
   "hash": "31f2aee4e71d21fbe5cf8b01ff0e069b9275f58929596ceb00d14d90e3e16cd6"
  },
  "kernelspec": {
   "display_name": "Python 3 (ipykernel)",
   "language": "python",
   "name": "python3"
  },
  "language_info": {
   "codemirror_mode": {
    "name": "ipython",
    "version": 3
   },
   "file_extension": ".py",
   "mimetype": "text/x-python",
   "name": "python",
   "nbconvert_exporter": "python",
   "pygments_lexer": "ipython3",
   "version": "3.8.6"
  }
 },
 "nbformat": 4,
 "nbformat_minor": 4
}
