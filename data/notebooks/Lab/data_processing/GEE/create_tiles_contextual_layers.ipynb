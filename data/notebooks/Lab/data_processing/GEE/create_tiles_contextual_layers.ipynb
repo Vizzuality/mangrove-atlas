{
 "cells": [
  {
   "attachments": {},
   "cell_type": "markdown",
   "metadata": {},
   "source": [
    "# export tiles for contextal layers\n"
   ]
  },
  {
   "cell_type": "code",
   "execution_count": 1,
   "metadata": {},
   "outputs": [],
   "source": [
    "import ee\n",
    "import geemap"
   ]
  },
  {
   "cell_type": "code",
   "execution_count": null,
   "metadata": {},
   "outputs": [
    {
     "data": {
      "text/html": [
       "<p>To authorize access needed by Earth Engine, open the following\n",
       "        URL in a web browser and follow the instructions:</p>\n",
       "        <p><a href=https://code.earthengine.google.com/client-auth?scopes=https%3A//www.googleapis.com/auth/earthengine%20https%3A//www.googleapis.com/auth/devstorage.full_control&request_id=EL7i3FQCqyL6wIua74K79N1TJE0YrZkyspDkKM6SWbE&tc=qwJK3gcXhSMrC6gi9LdtqR56f-e0O9cql9IfvrS14Ng&cc=5Sd9qRiQlb6w5AoQyZ2XrU6G78DQoLeCbsM04gKyQdY>https://code.earthengine.google.com/client-auth?scopes=https%3A//www.googleapis.com/auth/earthengine%20https%3A//www.googleapis.com/auth/devstorage.full_control&request_id=EL7i3FQCqyL6wIua74K79N1TJE0YrZkyspDkKM6SWbE&tc=qwJK3gcXhSMrC6gi9LdtqR56f-e0O9cql9IfvrS14Ng&cc=5Sd9qRiQlb6w5AoQyZ2XrU6G78DQoLeCbsM04gKyQdY</a></p>\n",
       "        <p>The authorization workflow will generate a code, which you should paste in the box below.</p>\n",
       "        "
      ],
      "text/plain": [
       "<IPython.core.display.HTML object>"
      ]
     },
     "metadata": {},
     "output_type": "display_data"
    },
    {
     "name": "stdout",
     "output_type": "stream",
     "text": [
      "\n",
      "Successfully saved authorization token.\n"
     ]
    }
   ],
   "source": [
    "# Trigger the authentication flow.\n",
    "# ee.ServiceAccountCredentials(EE_ACCOUNT, EE_PRIVATE_KEY_FILE)\n",
    "#ee.Authenticate(auth_mode='notebook')"
   ]
  },
  {
   "cell_type": "code",
   "execution_count": 2,
   "metadata": {},
   "outputs": [],
   "source": [
    "# Initialize the library.\n",
    "ee.Initialize()"
   ]
  },
  {
   "cell_type": "code",
   "execution_count": 3,
   "metadata": {},
   "outputs": [],
   "source": [
    "def exportMapTask(asset: ee.Image, asset_name: str, gcbucket: str,\n",
    "                min_zoom: int, max_zoom: int, \n",
    "                env: str = 'staging'):\n",
    "    \"\"\"\n",
    "    Export the data to GEE.\n",
    "\n",
    "    Parameters\n",
    "    ----------\n",
    "    asset : ee.Image\n",
    "        The image to export.\n",
    "    asset_name : str\n",
    "        The name of the asset.\n",
    "    gcbucket : str\n",
    "        The name of the GCS bucket.\n",
    "    geometry_collection : ee.GeometryCollection\n",
    "        The geometry collection to export the data.\n",
    "    \n",
    "    Returns\n",
    "    -------\n",
    "    A task\n",
    "    \"\"\"\n",
    "    \n",
    "    \n",
    "    return ee.batch.Export.map.toCloudStorage(\n",
    "            image = asset,\n",
    "            description = f'{asset_name}',\n",
    "            path = f'{env}/tilesets/{asset_name}',\n",
    "            bucket = gcbucket,\n",
    "            minZoom = min_zoom,\n",
    "            maxZoom = max_zoom,\n",
    "            writePublicTiles = False,\n",
    "            skipEmptyTiles = True,\n",
    "            fileFormat = 'png'\n",
    "            )"
   ]
  },
  {
   "attachments": {},
   "cell_type": "markdown",
   "metadata": {},
   "source": [
    "### Data Layer: global_tidal_wetland_change \n",
    "#### Visualize the data prior exporting it"
   ]
  },
  {
   "cell_type": "code",
   "execution_count": 4,
   "metadata": {},
   "outputs": [
    {
     "data": {
      "application/vnd.jupyter.widget-view+json": {
       "model_id": "8f9de0a8cb624d7e8ce2edf6afa9ebb2",
       "version_major": 2,
       "version_minor": 0
      },
      "text/plain": [
       "Map(center=[1.3, 103.7], controls=(WidgetControl(options=['position', 'transparent_bg'], widget=HBox(children=…"
      ]
     },
     "execution_count": 4,
     "metadata": {},
     "output_type": "execute_result"
    }
   ],
   "source": [
    "## Assets selection\n",
    "gcs_bucket = 'mangrove_atlas'\n",
    "\n",
    "dataset = f'global_tidal_wetland_change'\n",
    "# Region to export\n",
    "region = ee.Geometry.Polygon([[[-180, 33],[-180, -34],[180, -34],[180, 33]]], None, False);\n",
    "# layer to export\n",
    "# expresion to generate one image with the gain and loss\n",
    "bandIndexExp = \"b('loss') + b('gain')*2\"\n",
    "image = ee.Image(\"JCU/Murray/GIC/global_tidal_wetland_change/2019\").select(['loss', 'gain']).unmask().expression(bandIndexExp).rename('gain_loss')\n",
    "# masking the image\n",
    "to_vis = image.mask(image.neq(0))\n",
    "\n",
    "# exagerated image overviews for zoomed out views\n",
    "overviews = to_vis.resample('bilinear').unmask().focalMode(1, 'circle', 'pixels', 2).selfMask()\n",
    "# visualization parameters\n",
    "visoptions =  {\"palette\": ['B7E6A5', 'ca5268'], \"min\": 1, \"max\": 2}\n",
    "\n",
    "\n",
    "Map = geemap.Map(center=( 1.3, 103.7), zoom=12, basemap='CartoDB.PositronNoLabels')\n",
    "\n",
    "Map.addLayer(to_vis, visoptions, f\"{dataset}\", True, 1)\n",
    "Map.addLayer(overviews, visoptions, f\"{dataset}_overviews\", True, 1)\n",
    "\n",
    "Map"
   ]
  },
  {
   "cell_type": "code",
   "execution_count": 5,
   "metadata": {},
   "outputs": [
    {
     "data": {
      "application/vnd.jupyter.widget-view+json": {
       "model_id": "a185e388e4a54e02ac937bccbdc43727",
       "version_major": 2,
       "version_minor": 0
      },
      "text/plain": [
       "Map(center=[1.3, 103.7], controls=(WidgetControl(options=['position', 'transparent_bg'], widget=HBox(children=…"
      ]
     },
     "execution_count": 5,
     "metadata": {},
     "output_type": "execute_result"
    }
   ],
   "source": [
    "dataset_extent = f'mangrove_extent'\n",
    "# Region to export\n",
    "region = ee.Geometry.Polygon([[[-180, 33],[-180, -34],[180, -34],[180, 33]]], None, False);\n",
    "# layer to export\n",
    "# expresion to generate one image with the gain and loss\n",
    "image_extent = ee.Image(\"projects/global-mangrove-watch/land-cover/mangrove_extent-v3/gmw_v3_2020\")\n",
    "\n",
    "# exagerated image overviews for zoomed out views\n",
    "overviews_extent = image_extent.resample('bilinear').unmask().focalMode(1, 'circle', 'pixels', 3).selfMask()\n",
    "# visualization parameters\n",
    "visoptions =  {\"palette\": ['B7E6A5', 'ca5268'], \"min\": 1, \"max\": 2}\n",
    "\n",
    "visoptions_extent =  {\"palette\": ['00BDB5'], \"min\": 1, \"max\": 1}\n",
    "\n",
    "Map = geemap.Map(center=( 1.3, 103.7), zoom=12, basemap='CartoDB.PositronNoLabels')\n",
    "\n",
    "Map.addLayer(image_extent, visoptions_extent, f\"{dataset_extent}\", True, 1)\n",
    "Map.addLayer(overviews_extent, visoptions_extent, f\"{dataset_extent}_overviews\", True, 1)\n",
    "\n",
    "Map.addLayer(to_vis, visoptions, f\"{dataset}\", True, 0.6)\n",
    "Map.addLayer(overviews, visoptions, f\"{dataset}_overviews\", True, 0.6)\n",
    "\n",
    "Map"
   ]
  },
  {
   "attachments": {},
   "cell_type": "markdown",
   "metadata": {},
   "source": [
    "#### Export to tiles from GEE to GCS"
   ]
  },
  {
   "cell_type": "code",
   "execution_count": 5,
   "metadata": {},
   "outputs": [],
   "source": [
    "task = exportMapTask(overviews.visualize(**visoptions), f\"{dataset}_1_2\", gcs_bucket,\n",
    "                     1, 4)\n",
    "# Create a list of tasks to export the map tiles\n",
    "task2 = exportMapTask(to_vis.visualize(**visoptions), f\"{dataset}_1_2\", gcs_bucket, \n",
    "                     5, 12)\n",
    "# execute tasks in batches due to gee limits\n",
    "task.start()\n",
    "task2.start()\n"
   ]
  },
  {
   "cell_type": "code",
   "execution_count": null,
   "metadata": {},
   "outputs": [],
   "source": []
  },
  {
   "attachments": {},
   "cell_type": "markdown",
   "metadata": {},
   "source": [
    "### Data Layer: Global salt marshes\n",
    "#### Visualize the data prior exporting it"
   ]
  },
  {
   "cell_type": "code",
   "execution_count": 6,
   "metadata": {},
   "outputs": [
    {
     "data": {
      "application/vnd.jupyter.widget-view+json": {
       "model_id": "c78a23c5b2c64db193cc4fca20c627a5",
       "version_major": 2,
       "version_minor": 0
      },
      "text/plain": [
       "Map(center=[16.65, 97.1], controls=(WidgetControl(options=['position', 'transparent_bg'], widget=HBox(children…"
      ]
     },
     "execution_count": 6,
     "metadata": {},
     "output_type": "execute_result"
    }
   ],
   "source": [
    "## Assets selection\n",
    "gcs_bucket = 'mangrove_atlas'\n",
    "\n",
    "dataset = f'global_tidal_marshes'\n",
    "# Region to export\n",
    "region = ee.Geometry.Polygon([[[-180, 33],[-180, -34],[180, -34],[180, 33]]], None, False);\n",
    "# layer to export\n",
    "# expresion to generate one image with the gain and loss\n",
    "image = ee.Image(\"users/tomworthington81/SM_Global_2020/global_export_v2_6/saltmarsh_v2_6\").select(\"saltmarsh\")\n",
    "# masking the image\n",
    "to_vis = image.mask(image.neq(0))\n",
    "\n",
    "# exagerated image overviews for zoomed out views\n",
    "overviews = to_vis.resample('bilinear').unmask().focalMode(3, 'circle', 'pixels', 3).selfMask()\n",
    "overviews = to_vis.resample('bilinear').unmask().focalMode(1, 'circle', 'pixels', 1).selfMask() #alternative blur for low zoom\n",
    "# visualization parameters\n",
    "visoptions =  {\"palette\": [ 'BB6FF7'], \"min\": 1, \"max\": 1}\n",
    "\n",
    "\n",
    "Map = geemap.Map(center=( 16.65, 97.1), zoom=2, basemap='Google Satellite')\n",
    "\n",
    "#Map.addLayer(overviews_extent, visoptions_extent, f\"{dataset_extent}_overviews\", True, 1)\n",
    "\n",
    "#Map.addLayer(to_vis, visoptions, f\"{dataset}\", True, 1)\n",
    "\n",
    "Map.addLayer(image_extent, visoptions_extent, f\"{dataset_extent}\", True, 1)\n",
    "\n",
    "Map.addLayer(overviews, visoptions, f\"{dataset}_overviews\", True, 1)\n",
    "\n",
    "Map\n"
   ]
  },
  {
   "attachments": {},
   "cell_type": "markdown",
   "metadata": {},
   "source": [
    "#### Export to tiles from GEE to GCS"
   ]
  },
  {
   "cell_type": "code",
   "execution_count": 7,
   "metadata": {},
   "outputs": [],
   "source": [
    "task = exportMapTask(overviews.visualize(**visoptions), f\"{dataset}\", gcs_bucket,\n",
    "                     1, 3)\n",
    "# Create a list of tasks to export the map tiles\n",
    "task2 = exportMapTask(to_vis.visualize(**visoptions), dataset, gcs_bucket, \n",
    "                     4, 12)\n",
    "# execute tasks in batches due to gee limits\n",
    "task.start()\n",
    "task2.start()\n"
   ]
  },
  {
   "attachments": {},
   "cell_type": "markdown",
   "metadata": {},
   "source": [
    "### Data Layer: Tidal flats\n",
    "#### Visualize the data prior exporting it"
   ]
  },
  {
   "cell_type": "code",
   "execution_count": 3,
   "metadata": {},
   "outputs": [
    {
     "data": {
      "application/vnd.jupyter.widget-view+json": {
       "model_id": "5e3d56f8773e4041a43464348539d503",
       "version_major": 2,
       "version_minor": 0
      },
      "text/plain": [
       "Map(center=[1.3, 103.7], controls=(WidgetControl(options=['position', 'transparent_bg'], widget=HBox(children=…"
      ]
     },
     "execution_count": 3,
     "metadata": {},
     "output_type": "execute_result"
    }
   ],
   "source": [
    "## Assets selection\n",
    "gcs_bucket = 'mangrove_atlas'\n",
    "\n",
    "dataset = f'tidal_flats_1_2'\n",
    "# Region to export\n",
    "region = ee.Geometry.Polygon([[[-180, 33],[-180, -34],[180, -34],[180, 33]]], None, False);\n",
    "# layer to export\n",
    "# expresion to generate one image with the gain and loss\n",
    "image = ee.Image(\"projects/UQ_intertidal/global_intertidal_v1_2/L5_final_masked/global_intertidal_20172019_v1_2\")\n",
    "\n",
    "# exagerated image overviews for zoomed out views\n",
    "overviews = image.resample('bilinear').unmask().focalMode(1, 'circle', 'pixels', 3).selfMask()\n",
    "# visualization parameters\n",
    "visoptions =  {\"palette\": ['C1766F'], \"min\": 1, \"max\": 1}\n",
    "\n",
    "Map = geemap.Map(center=( 1.3, 103.7), zoom=10, basemap='CartoDB.PositronNoLabels')\n",
    "\n",
    "Map.addLayer(image, visoptions, f\"{dataset}\", True, 1)\n",
    "Map.addLayer(overviews, visoptions, f\"{dataset}_overviews\", True, 1)\n",
    "Map"
   ]
  },
  {
   "cell_type": "code",
   "execution_count": 10,
   "metadata": {},
   "outputs": [
    {
     "data": {
      "application/vnd.jupyter.widget-view+json": {
       "model_id": "525e2834c63e41fca2ecfb074bd71b13",
       "version_major": 2,
       "version_minor": 0
      },
      "text/plain": [
       "Map(center=[1.3, 103.7], controls=(WidgetControl(options=['position', 'transparent_bg'], widget=HBox(children=…"
      ]
     },
     "metadata": {},
     "output_type": "display_data"
    }
   ],
   "source": [
    "dataset_extent = f'mangrove_extent'\n",
    "# Region to export\n",
    "region = ee.Geometry.Polygon([[[-180, 33],[-180, -34],[180, -34],[180, 33]]], None, False);\n",
    "# layer to export\n",
    "# expresion to generate one image with the gain and loss\n",
    "image_extent = ee.Image(\"projects/global-mangrove-watch/land-cover/mangrove_extent-v3/gmw_v3_2020\")\n",
    "\n",
    "# exagerated image overviews for zoomed out views\n",
    "overviews_extent = image_extent.resample('bilinear').unmask().focalMode(1, 'circle', 'pixels', 3).selfMask()\n",
    "# visualization parameters\n",
    "visoptions =  {\"palette\": ['C1766F'], \"min\": 1, \"max\": 1}\n",
    "\n",
    "visoptions_extent =  {\"palette\": ['00BDB5'], \"min\": 1, \"max\": 1}\n",
    "\n",
    "Map = geemap.Map(center=( 1.3, 103.7), zoom=12, basemap='SATELLITE')\n",
    "\n",
    "Map.addLayer(image, visoptions, f\"{dataset}\", True, 1)\n",
    "Map.addLayer(overviews, visoptions, f\"{dataset}_overviews\", True, 1)\n",
    "\n",
    "Map.addLayer(image_extent, visoptions_extent, f\"{dataset_extent}\", True, 1)\n",
    "Map.addLayer(overviews_extent, visoptions_extent, f\"{dataset_extent}_overviews\", True, 1)\n",
    "\n",
    "\n",
    "\n",
    "Map"
   ]
  },
  {
   "attachments": {},
   "cell_type": "markdown",
   "metadata": {},
   "source": [
    "#### Export to tiles from GEE to GCS"
   ]
  },
  {
   "cell_type": "code",
   "execution_count": 6,
   "metadata": {},
   "outputs": [],
   "source": [
    "task = exportMapTask(overviews.visualize(**visoptions), f\"{dataset}\", gcs_bucket,\n",
    "                     3, 4)\n",
    "# Create a list of tasks to export the map tiles\n",
    "#task2 = exportMapTask(image.visualize(**visoptions), dataset, gcs_bucket, \n",
    "#                     4, 12)\n",
    "# execute tasks in batches due to gee limits\n",
    "task.start()\n",
    "#task2.start()"
   ]
  },
  {
   "attachments": {},
   "cell_type": "markdown",
   "metadata": {},
   "source": [
    "### Data Layer: Allen coral Atlas\n",
    "#### Visualize the data prior exporting it"
   ]
  },
  {
   "cell_type": "code",
   "execution_count": 26,
   "metadata": {},
   "outputs": [
    {
     "data": {
      "application/vnd.jupyter.widget-view+json": {
       "model_id": "05eadeac56e54dfd80640403660941b0",
       "version_major": 2,
       "version_minor": 0
      },
      "text/plain": [
       "Map(center=[1.3, 103.7], controls=(WidgetControl(options=['position', 'transparent_bg'], widget=HBox(children=…"
      ]
     },
     "execution_count": 26,
     "metadata": {},
     "output_type": "execute_result"
    }
   ],
   "source": [
    "## Assets selection\n",
    "gcs_bucket = 'mangrove_atlas'\n",
    "\n",
    "dataset = f'allen_coral_atlas_v2'\n",
    "# Region to export\n",
    "region = ee.Geometry.Polygon([[[-180, 33],[-180, -34],[180, -34],[180, 33]]], None, False);\n",
    "# layer to export\n",
    "\n",
    "image = ee.Image(\"ACA/reef_habitat/v2_0\").select(\"reef_mask\")\n",
    "\n",
    "# exagerated image overviews for zoomed out views\n",
    "overviews = image.resample('bilinear').unmask().focalMode(1, 'circle', 'pixels', 3).selfMask()\n",
    "# visualization parameters\n",
    "visoptions =  {\"palette\": [ 'FF6577'], \"min\": 1, \"max\": 1}\n",
    "\n",
    "\n",
    "Map = geemap.Map(center=( 1.3, 103.7), zoom=12, basemap='CartoDB.PositronNoLabels')\n",
    "\n",
    "Map.addLayer(image, visoptions, f\"{dataset}\", True, 1)\n",
    "Map.addLayer(overviews, visoptions, f\"{dataset}_overviews\", True, 1)\n",
    "Map"
   ]
  },
  {
   "attachments": {},
   "cell_type": "markdown",
   "metadata": {},
   "source": [
    "#### Export to tiles from GEE to GCS"
   ]
  },
  {
   "cell_type": "code",
   "execution_count": 27,
   "metadata": {},
   "outputs": [],
   "source": [
    "task = exportMapTask(overviews.visualize(**visoptions), f\"{dataset}\", gcs_bucket,\n",
    "                     1, 3)\n",
    "# Create a list of tasks to export the map tiles\n",
    "task2 = exportMapTask(image.visualize(**visoptions), dataset, gcs_bucket, \n",
    "                     4, 12)\n",
    "# execute tasks in batches due to gee limits\n",
    "task.start()\n",
    "task2.start()\n"
   ]
  },
  {
   "cell_type": "code",
   "execution_count": null,
   "metadata": {},
   "outputs": [],
   "source": []
  }
 ],
 "metadata": {
  "interpreter": {
   "hash": "31f2aee4e71d21fbe5cf8b01ff0e069b9275f58929596ceb00d14d90e3e16cd6"
  },
  "kernelspec": {
   "display_name": "Python 3 (ipykernel)",
   "language": "python",
   "name": "python3"
  },
  "language_info": {
   "codemirror_mode": {
    "name": "ipython",
    "version": 3
   },
   "file_extension": ".py",
   "mimetype": "text/x-python",
   "name": "python",
   "nbconvert_exporter": "python",
   "pygments_lexer": "ipython3",
   "version": "3.11.4"
  }
 },
 "nbformat": 4,
 "nbformat_minor": 4
}
