{
 "cells": [
  {
   "attachments": {},
   "cell_type": "markdown",
   "metadata": {},
   "source": [
    "# export tiles for contextal layers\n"
   ]
  },
  {
   "cell_type": "code",
   "execution_count": 1,
   "metadata": {},
   "outputs": [
    {
     "name": "stderr",
     "output_type": "stream",
     "text": [
      "/opt/conda/lib/python3.8/site-packages/pandas/core/computation/expressions.py:20: UserWarning: Pandas requires version '2.7.3' or newer of 'numexpr' (version '2.7.2' currently installed).\n",
      "  from pandas.core.computation.check import NUMEXPR_INSTALLED\n"
     ]
    }
   ],
   "source": [
    "import ee\n",
    "import geemap"
   ]
  },
  {
   "cell_type": "code",
   "execution_count": 2,
   "metadata": {},
   "outputs": [
    {
     "data": {
      "text/html": [
       "<p>To authorize access needed by Earth Engine, open the following\n",
       "        URL in a web browser and follow the instructions:</p>\n",
       "        <p><a href=https://code.earthengine.google.com/client-auth?scopes=https%3A//www.googleapis.com/auth/earthengine%20https%3A//www.googleapis.com/auth/devstorage.full_control&request_id=u2hn_CcpZy8J35u9MD_gwoloVp57lhNgXTATpvZ5HFw&tc=G4JGUQaB2W6MUeNKCEuvU8CLpFwgT6oeb4887W3B1Uc&cc=wMlsqnlsia9ZPHxv4GLWeWltvv-2upcj3eHtsEWJz1Y>https://code.earthengine.google.com/client-auth?scopes=https%3A//www.googleapis.com/auth/earthengine%20https%3A//www.googleapis.com/auth/devstorage.full_control&request_id=u2hn_CcpZy8J35u9MD_gwoloVp57lhNgXTATpvZ5HFw&tc=G4JGUQaB2W6MUeNKCEuvU8CLpFwgT6oeb4887W3B1Uc&cc=wMlsqnlsia9ZPHxv4GLWeWltvv-2upcj3eHtsEWJz1Y</a></p>\n",
       "        <p>The authorization workflow will generate a code, which you should paste in the box below.</p>\n",
       "        "
      ],
      "text/plain": [
       "<IPython.core.display.HTML object>"
      ]
     },
     "metadata": {},
     "output_type": "display_data"
    },
    {
     "name": "stdout",
     "output_type": "stream",
     "text": [
      "\n",
      "Successfully saved authorization token.\n"
     ]
    }
   ],
   "source": [
    "# Trigger the authentication flow.\n",
    "# ee.ServiceAccountCredentials(EE_ACCOUNT, EE_PRIVATE_KEY_FILE)\n",
    "ee.Authenticate(auth_mode='notebook')"
   ]
  },
  {
   "cell_type": "code",
   "execution_count": 2,
   "metadata": {},
   "outputs": [],
   "source": [
    "# Initialize the library.\n",
    "ee.Initialize()"
   ]
  },
  {
   "cell_type": "code",
   "execution_count": 3,
   "metadata": {},
   "outputs": [],
   "source": [
    "def exportMapTask(asset: ee.Image, asset_name: str, gcbucket: str,\n",
    "                region: ee.Geometry, min_zoom: int, max_zoom: int, \n",
    "                env: str = 'staging', key: str = 'year'):\n",
    "    \"\"\"\n",
    "    Export the data to GEE.\n",
    "\n",
    "    Parameters\n",
    "    ----------\n",
    "    asset : ee.Image\n",
    "        The image to export.\n",
    "    asset_name : str\n",
    "        The name of the asset.\n",
    "    gcbucket : str\n",
    "        The name of the GCS bucket.\n",
    "    geometry_collection : ee.GeometryCollection\n",
    "        The geometry collection to export the data.\n",
    "    \n",
    "    Returns\n",
    "    -------\n",
    "    A task\n",
    "    \"\"\"\n",
    "    \n",
    "    \n",
    "    return ee.batch.Export.map.toCloudStorage(\n",
    "            image = asset,\n",
    "            description = f'{asset_name}',\n",
    "            path = f'{env}/tilesets/{asset_name}',\n",
    "            bucket = gcbucket,\n",
    "            minZoom = min_zoom,\n",
    "            maxZoom = max_zoom,\n",
    "            writePublicTiles = True,\n",
    "            skipEmptyTiles = True,\n",
    "            fileFormat = 'png',\n",
    "            region = region\n",
    "            )"
   ]
  },
  {
   "attachments": {},
   "cell_type": "markdown",
   "metadata": {},
   "source": [
    "### Data Layer: global_tidal_wetland_change \n",
    "#### Visualize the data prior exporting it"
   ]
  },
  {
   "cell_type": "code",
   "execution_count": 7,
   "metadata": {},
   "outputs": [
    {
     "data": {
      "application/vnd.jupyter.widget-view+json": {
       "model_id": "5d5a06aef87d4210bad04a21b9d4e11c",
       "version_major": 2,
       "version_minor": 0
      },
      "text/plain": [
       "Map(center=[1.3, 103.7], controls=(WidgetControl(options=['position', 'transparent_bg'], widget=HBox(children=…"
      ]
     },
     "metadata": {},
     "output_type": "display_data"
    }
   ],
   "source": [
    "## Assets selection\n",
    "gcs_bucket = 'mangrove_atlas'\n",
    "\n",
    "dataset = f'global_tidal_wetland_change'\n",
    "# Region to export\n",
    "region = ee.Geometry.Polygon([[[-180, 33],[-180, -34],[180, -34],[180, 33]]], None, False);\n",
    "# layer to export\n",
    "# expresion to generate one image with the gain and loss\n",
    "bandIndexExp = \"b('loss') + b('gain')*2\"\n",
    "image = ee.Image(\"JCU/Murray/GIC/global_tidal_wetland_change/2019\").select(['loss', 'gain']).unmask().expression(bandIndexExp).rename('gain_loss')\n",
    "# masking the image\n",
    "to_vis = image.mask(image.neq(0))\n",
    "\n",
    "# exagerated image overviews for zoomed out views\n",
    "overviews = to_vis.resample('bilinear').unmask().focalMode(1, 'circle', 'pixels', 2).selfMask()\n",
    "# visualization parameters\n",
    "visoptions =  {\"palette\": ['B7E6A5', 'ca5268'], \"min\": 1, \"max\": 2}\n",
    "\n",
    "\n",
    "Map = geemap.Map(center=( 1.3, 103.7), zoom=12, basemap='CartoDB.PositronNoLabels')\n",
    "\n",
    "Map.addLayer(to_vis, visoptions, f\"{dataset}\", True, 1)\n",
    "Map.addLayer(overviews, visoptions, f\"{dataset}_overviews\", True, 1)\n",
    "\n",
    "Map"
   ]
  },
  {
   "cell_type": "code",
   "execution_count": 9,
   "metadata": {},
   "outputs": [
    {
     "data": {
      "application/vnd.jupyter.widget-view+json": {
       "model_id": "a8f69812db6349f2a670b4932c22e5fc",
       "version_major": 2,
       "version_minor": 0
      },
      "text/plain": [
       "Map(center=[1.3, 103.7], controls=(WidgetControl(options=['position', 'transparent_bg'], widget=HBox(children=…"
      ]
     },
     "metadata": {},
     "output_type": "display_data"
    }
   ],
   "source": [
    "dataset_extent = f'mangrove_extent'\n",
    "# Region to export\n",
    "region = ee.Geometry.Polygon([[[-180, 33],[-180, -34],[180, -34],[180, 33]]], None, False);\n",
    "# layer to export\n",
    "# expresion to generate one image with the gain and loss\n",
    "image_extent = ee.Image(\"projects/global-mangrove-watch/land-cover/mangrove_extent-v3/gmw_v3_2020\")\n",
    "\n",
    "# exagerated image overviews for zoomed out views\n",
    "overviews_extent = image_extent.resample('bilinear').unmask().focalMode(1, 'circle', 'pixels', 3).selfMask()\n",
    "# visualization parameters\n",
    "visoptions =  {\"palette\": ['B7E6A5', 'ca5268'], \"min\": 1, \"max\": 2}\n",
    "\n",
    "visoptions_extent =  {\"palette\": ['00BDB5'], \"min\": 1, \"max\": 1}\n",
    "\n",
    "Map = geemap.Map(center=( 1.3, 103.7), zoom=12, basemap='CartoDB.PositronNoLabels')\n",
    "\n",
    "Map.addLayer(image_extent, visoptions_extent, f\"{dataset_extent}\", True, 1)\n",
    "Map.addLayer(overviews_extent, visoptions_extent, f\"{dataset_extent}_overviews\", True, 1)\n",
    "\n",
    "Map.addLayer(to_vis, visoptions, f\"{dataset}\", True, 0.6)\n",
    "Map.addLayer(overviews, visoptions, f\"{dataset}_overviews\", True, 0.6)\n",
    "\n",
    "Map"
   ]
  },
  {
   "attachments": {},
   "cell_type": "markdown",
   "metadata": {},
   "source": [
    "#### Export to tiles from GEE to GCS"
   ]
  },
  {
   "cell_type": "code",
   "execution_count": 10,
   "metadata": {},
   "outputs": [
    {
     "ename": "EEException",
     "evalue": "Bucket \"mangrove_atlas\" must have fine-grained ACLs. See: https://developers.google.com/storage/docs/accesscontrol#defaultbuckets",
     "output_type": "error",
     "traceback": [
      "\u001b[0;31m---------------------------------------------------------------------------\u001b[0m",
      "\u001b[0;31mHttpError\u001b[0m                                 Traceback (most recent call last)",
      "File \u001b[0;32m/opt/conda/lib/python3.8/site-packages/ee/data.py:345\u001b[0m, in \u001b[0;36m_execute_cloud_call\u001b[0;34m(call, num_retries)\u001b[0m\n\u001b[1;32m    344\u001b[0m \u001b[39mtry\u001b[39;00m:\n\u001b[0;32m--> 345\u001b[0m   \u001b[39mreturn\u001b[39;00m call\u001b[39m.\u001b[39;49mexecute(num_retries\u001b[39m=\u001b[39;49mnum_retries)\n\u001b[1;32m    346\u001b[0m \u001b[39mexcept\u001b[39;00m googleapiclient\u001b[39m.\u001b[39merrors\u001b[39m.\u001b[39mHttpError \u001b[39mas\u001b[39;00m e:\n",
      "File \u001b[0;32m/opt/conda/lib/python3.8/site-packages/googleapiclient/_helpers.py:130\u001b[0m, in \u001b[0;36mpositional.<locals>.positional_decorator.<locals>.positional_wrapper\u001b[0;34m(*args, **kwargs)\u001b[0m\n\u001b[1;32m    129\u001b[0m         logger\u001b[39m.\u001b[39mwarning(message)\n\u001b[0;32m--> 130\u001b[0m \u001b[39mreturn\u001b[39;00m wrapped(\u001b[39m*\u001b[39;49margs, \u001b[39m*\u001b[39;49m\u001b[39m*\u001b[39;49mkwargs)\n",
      "File \u001b[0;32m/opt/conda/lib/python3.8/site-packages/googleapiclient/http.py:938\u001b[0m, in \u001b[0;36mHttpRequest.execute\u001b[0;34m(self, http, num_retries)\u001b[0m\n\u001b[1;32m    937\u001b[0m \u001b[39mif\u001b[39;00m resp\u001b[39m.\u001b[39mstatus \u001b[39m>\u001b[39m\u001b[39m=\u001b[39m \u001b[39m300\u001b[39m:\n\u001b[0;32m--> 938\u001b[0m     \u001b[39mraise\u001b[39;00m HttpError(resp, content, uri\u001b[39m=\u001b[39m\u001b[39mself\u001b[39m\u001b[39m.\u001b[39muri)\n\u001b[1;32m    939\u001b[0m \u001b[39mreturn\u001b[39;00m \u001b[39mself\u001b[39m\u001b[39m.\u001b[39mpostproc(resp, content)\n",
      "\u001b[0;31mHttpError\u001b[0m: <HttpError 400 when requesting https://earthengine.googleapis.com/v1alpha/projects/earthengine-legacy/map:export?alt=json returned \"Bucket \"mangrove_atlas\" must have fine-grained ACLs. See: https://developers.google.com/storage/docs/accesscontrol#defaultbuckets\". Details: \"Bucket \"mangrove_atlas\" must have fine-grained ACLs. See: https://developers.google.com/storage/docs/accesscontrol#defaultbuckets\">",
      "\nDuring handling of the above exception, another exception occurred:\n",
      "\u001b[0;31mEEException\u001b[0m                               Traceback (most recent call last)",
      "\u001b[1;32m/Users/angel/Documents/REPOSITORIOS/mangrove-atlas/data/notebooks/Lab/data_processing/GEE/create_tiles_contextual_layers.ipynb Cell 9\u001b[0m in \u001b[0;36m<cell line: 7>\u001b[0;34m()\u001b[0m\n\u001b[1;32m      <a href='vscode-notebook-cell:/Users/angel/Documents/REPOSITORIOS/mangrove-atlas/data/notebooks/Lab/data_processing/GEE/create_tiles_contextual_layers.ipynb#X11sZmlsZQ%3D%3D?line=3'>4</a>\u001b[0m task2 \u001b[39m=\u001b[39m exportMapTask(to_vis\u001b[39m.\u001b[39mvisualize(\u001b[39m*\u001b[39m\u001b[39m*\u001b[39mvisoptions), dataset, gcs_bucket, \n\u001b[1;32m      <a href='vscode-notebook-cell:/Users/angel/Documents/REPOSITORIOS/mangrove-atlas/data/notebooks/Lab/data_processing/GEE/create_tiles_contextual_layers.ipynb#X11sZmlsZQ%3D%3D?line=4'>5</a>\u001b[0m                      region, \u001b[39m6\u001b[39m, \u001b[39m10\u001b[39m)\n\u001b[1;32m      <a href='vscode-notebook-cell:/Users/angel/Documents/REPOSITORIOS/mangrove-atlas/data/notebooks/Lab/data_processing/GEE/create_tiles_contextual_layers.ipynb#X11sZmlsZQ%3D%3D?line=5'>6</a>\u001b[0m \u001b[39m# execute tasks in batches due to gee limits\u001b[39;00m\n\u001b[0;32m----> <a href='vscode-notebook-cell:/Users/angel/Documents/REPOSITORIOS/mangrove-atlas/data/notebooks/Lab/data_processing/GEE/create_tiles_contextual_layers.ipynb#X11sZmlsZQ%3D%3D?line=6'>7</a>\u001b[0m task\u001b[39m.\u001b[39;49mstart()\n\u001b[1;32m      <a href='vscode-notebook-cell:/Users/angel/Documents/REPOSITORIOS/mangrove-atlas/data/notebooks/Lab/data_processing/GEE/create_tiles_contextual_layers.ipynb#X11sZmlsZQ%3D%3D?line=7'>8</a>\u001b[0m task2\u001b[39m.\u001b[39mstart()\n",
      "File \u001b[0;32m/opt/conda/lib/python3.8/site-packages/ee/batch.py:93\u001b[0m, in \u001b[0;36mTask.start\u001b[0;34m(self)\u001b[0m\n\u001b[1;32m     91\u001b[0m   result \u001b[39m=\u001b[39m data\u001b[39m.\u001b[39mexportImage(\u001b[39mself\u001b[39m\u001b[39m.\u001b[39m_request_id, \u001b[39mself\u001b[39m\u001b[39m.\u001b[39mconfig)\n\u001b[1;32m     92\u001b[0m \u001b[39melif\u001b[39;00m \u001b[39mself\u001b[39m\u001b[39m.\u001b[39mtask_type \u001b[39m==\u001b[39m Task\u001b[39m.\u001b[39mType\u001b[39m.\u001b[39mEXPORT_MAP:\n\u001b[0;32m---> 93\u001b[0m   result \u001b[39m=\u001b[39m data\u001b[39m.\u001b[39;49mexportMap(\u001b[39mself\u001b[39;49m\u001b[39m.\u001b[39;49m_request_id, \u001b[39mself\u001b[39;49m\u001b[39m.\u001b[39;49mconfig)\n\u001b[1;32m     94\u001b[0m \u001b[39melif\u001b[39;00m \u001b[39mself\u001b[39m\u001b[39m.\u001b[39mtask_type \u001b[39m==\u001b[39m Task\u001b[39m.\u001b[39mType\u001b[39m.\u001b[39mEXPORT_TABLE:\n\u001b[1;32m     95\u001b[0m   result \u001b[39m=\u001b[39m data\u001b[39m.\u001b[39mexportTable(\u001b[39mself\u001b[39m\u001b[39m.\u001b[39m_request_id, \u001b[39mself\u001b[39m\u001b[39m.\u001b[39mconfig)\n",
      "File \u001b[0;32m/opt/conda/lib/python3.8/site-packages/ee/data.py:1645\u001b[0m, in \u001b[0;36mexportMap\u001b[0;34m(request_id, params)\u001b[0m\n\u001b[1;32m   1624\u001b[0m \u001b[39m\u001b[39m\u001b[39m\"\"\"Starts a map export task running.\u001b[39;00m\n\u001b[1;32m   1625\u001b[0m \n\u001b[1;32m   1626\u001b[0m \u001b[39mThis is a low-level method. The higher-level ee.batch.Export.map object\u001b[39;00m\n\u001b[0;32m   (...)\u001b[0m\n\u001b[1;32m   1642\u001b[0m \u001b[39m  If you are using the cloud API, this will be an Operation.\u001b[39;00m\n\u001b[1;32m   1643\u001b[0m \u001b[39m\"\"\"\u001b[39;00m\n\u001b[1;32m   1644\u001b[0m params \u001b[39m=\u001b[39m params\u001b[39m.\u001b[39mcopy()\n\u001b[0;32m-> 1645\u001b[0m \u001b[39mreturn\u001b[39;00m _prepare_and_run_export(\n\u001b[1;32m   1646\u001b[0m     request_id, params, _get_cloud_projects()\u001b[39m.\u001b[39;49mmap()\u001b[39m.\u001b[39;49mexport\n\u001b[1;32m   1647\u001b[0m )\n",
      "File \u001b[0;32m/opt/conda/lib/python3.8/site-packages/ee/data.py:1679\u001b[0m, in \u001b[0;36m_prepare_and_run_export\u001b[0;34m(request_id, params, export_endpoint)\u001b[0m\n\u001b[1;32m   1676\u001b[0m   params[\u001b[39m'\u001b[39m\u001b[39mexpression\u001b[39m\u001b[39m'\u001b[39m] \u001b[39m=\u001b[39m serializer\u001b[39m.\u001b[39mencode(\n\u001b[1;32m   1677\u001b[0m       params[\u001b[39m'\u001b[39m\u001b[39mexpression\u001b[39m\u001b[39m'\u001b[39m], for_cloud_api\u001b[39m=\u001b[39m\u001b[39mTrue\u001b[39;00m)\n\u001b[1;32m   1678\u001b[0m num_retries \u001b[39m=\u001b[39m MAX_RETRIES \u001b[39mif\u001b[39;00m request_id \u001b[39melse\u001b[39;00m \u001b[39m0\u001b[39m\n\u001b[0;32m-> 1679\u001b[0m \u001b[39mreturn\u001b[39;00m _execute_cloud_call(\n\u001b[1;32m   1680\u001b[0m     export_endpoint(project\u001b[39m=\u001b[39;49m_get_projects_path(), body\u001b[39m=\u001b[39;49mparams),\n\u001b[1;32m   1681\u001b[0m     num_retries\u001b[39m=\u001b[39;49mnum_retries)\n",
      "File \u001b[0;32m/opt/conda/lib/python3.8/site-packages/ee/data.py:347\u001b[0m, in \u001b[0;36m_execute_cloud_call\u001b[0;34m(call, num_retries)\u001b[0m\n\u001b[1;32m    345\u001b[0m   \u001b[39mreturn\u001b[39;00m call\u001b[39m.\u001b[39mexecute(num_retries\u001b[39m=\u001b[39mnum_retries)\n\u001b[1;32m    346\u001b[0m \u001b[39mexcept\u001b[39;00m googleapiclient\u001b[39m.\u001b[39merrors\u001b[39m.\u001b[39mHttpError \u001b[39mas\u001b[39;00m e:\n\u001b[0;32m--> 347\u001b[0m   \u001b[39mraise\u001b[39;00m _translate_cloud_exception(e)\n",
      "\u001b[0;31mEEException\u001b[0m: Bucket \"mangrove_atlas\" must have fine-grained ACLs. See: https://developers.google.com/storage/docs/accesscontrol#defaultbuckets"
     ]
    }
   ],
   "source": [
    "task = exportMapTask(overviews.visualize(**visoptions), dataset, gcs_bucket, \n",
    "                     region, 1, 6)\n",
    "# Create a list of tasks to export the map tiles\n",
    "task2 = exportMapTask(to_vis.visualize(**visoptions), dataset, gcs_bucket, \n",
    "                     region, 6, 10)\n",
    "# execute tasks in batches due to gee limits\n",
    "task.start()\n",
    "task2.start()\n"
   ]
  },
  {
   "cell_type": "code",
   "execution_count": null,
   "metadata": {},
   "outputs": [],
   "source": []
  },
  {
   "attachments": {},
   "cell_type": "markdown",
   "metadata": {},
   "source": [
    "### Data Layer: Global intertidal wetland change\n",
    "#### Visualize the data prior exporting it"
   ]
  },
  {
   "cell_type": "code",
   "execution_count": 7,
   "metadata": {},
   "outputs": [],
   "source": [
    "## Assets selection\n",
    "gcs_bucket = 'mangrove_atlas'\n",
    "\n",
    "dataset = f'global_tidal_wetland_change'\n",
    "# Region to export\n",
    "region = ee.Geometry.Polygon([[[-180, 33],[-180, -34],[180, -34],[180, 33]]], None, False);\n",
    "# layer to export\n",
    "# expresion to generate one image with the gain and loss\n",
    "bandIndexExp = \"b('loss') + b('gain')*2\"\n",
    "image = ee.Image(\"JCU/Murray/GIC/global_tidal_wetland_change/2019\").select(['loss', 'gain']).unmask().expression(bandIndexExp).rename('gain_loss')\n",
    "# masking the image\n",
    "to_vis = image.mask(image.neq(0))\n",
    "\n",
    "# exagerated image overviews for zoomed out views\n",
    "overviews = to_vis.resample('bilinear').unmask().focalMode(3, 'circle', 'pixels', 3).selfMask()\n",
    "# visualization parameters\n",
    "visoptions =  {\"palette\": ['FE4A49', 'ca5268'], \"min\": 1, \"max\": 2}\n",
    "\n",
    "\n",
    "Map = geemap.Map(center=( 1.3, 103.7), zoom=12, basemap='HYBRID')\n",
    "\n",
    "Map.addLayer(to_vis, visoptions, f\"{dataset}\", True, 1)\n",
    "Map.addLayer(overviews, visoptions, f\"{dataset}\", True, 1)\n"
   ]
  },
  {
   "attachments": {},
   "cell_type": "markdown",
   "metadata": {},
   "source": [
    "#### Export to tiles from GEE to GCS"
   ]
  },
  {
   "cell_type": "code",
   "execution_count": null,
   "metadata": {},
   "outputs": [],
   "source": [
    "task = exportMapTasks(overviews.visualize(**visoptions), f\"{dataset}_overviews\", gcs_bucket, \n",
    "                     region, 1, 6)\n",
    "# Create a list of tasks to export the map tiles\n",
    "task2 = exportMapTasks(to_vis.visualize(**visoptions), dataset, gcs_bucket, \n",
    "                     region, 6, 10)\n",
    "# execute tasks in batches due to gee limits\n",
    "task.start()\n",
    "task2.start()\n"
   ]
  },
  {
   "attachments": {},
   "cell_type": "markdown",
   "metadata": {},
   "source": [
    "### Data Layer: Tidal flats\n",
    "#### Visualize the data prior exporting it"
   ]
  },
  {
   "cell_type": "code",
   "execution_count": 5,
   "metadata": {},
   "outputs": [
    {
     "data": {
      "application/vnd.jupyter.widget-view+json": {
       "model_id": "cc1195dacb27407fbe610fb38d6bf36b",
       "version_major": 2,
       "version_minor": 0
      },
      "text/plain": [
       "Map(center=[1.3, 103.7], controls=(WidgetControl(options=['position', 'transparent_bg'], widget=HBox(children=…"
      ]
     },
     "metadata": {},
     "output_type": "display_data"
    }
   ],
   "source": [
    "## Assets selection\n",
    "gcs_bucket = 'mangrove_atlas'\n",
    "\n",
    "dataset = f'tidal_flats_1_2'\n",
    "# Region to export\n",
    "region = ee.Geometry.Polygon([[[-180, 33],[-180, -34],[180, -34],[180, 33]]], None, False);\n",
    "# layer to export\n",
    "# expresion to generate one image with the gain and loss\n",
    "image = ee.Image(\"projects/UQ_intertidal/global_intertidal_v1_2/L5_final_masked/global_intertidal_20172019_v1_2\")\n",
    "\n",
    "# exagerated image overviews for zoomed out views\n",
    "overviews = image.resample('bilinear').unmask().focalMode(1, 'circle', 'pixels', 3).selfMask()\n",
    "# visualization parameters\n",
    "visoptions =  {\"palette\": ['C1766F'], \"min\": 1, \"max\": 1}\n",
    "\n",
    "Map = geemap.Map(center=( 1.3, 103.7), zoom=5, basemap='CartoDB.PositronNoLabels')\n",
    "\n",
    "Map.addLayer(image, visoptions, f\"{dataset}\", True, 1)\n",
    "Map.addLayer(overviews, visoptions, f\"{dataset}_overviews\", True, 1)\n",
    "Map"
   ]
  },
  {
   "cell_type": "code",
   "execution_count": 10,
   "metadata": {},
   "outputs": [
    {
     "data": {
      "application/vnd.jupyter.widget-view+json": {
       "model_id": "525e2834c63e41fca2ecfb074bd71b13",
       "version_major": 2,
       "version_minor": 0
      },
      "text/plain": [
       "Map(center=[1.3, 103.7], controls=(WidgetControl(options=['position', 'transparent_bg'], widget=HBox(children=…"
      ]
     },
     "metadata": {},
     "output_type": "display_data"
    }
   ],
   "source": [
    "dataset_extent = f'mangrove_extent'\n",
    "# Region to export\n",
    "region = ee.Geometry.Polygon([[[-180, 33],[-180, -34],[180, -34],[180, 33]]], None, False);\n",
    "# layer to export\n",
    "# expresion to generate one image with the gain and loss\n",
    "image_extent = ee.Image(\"projects/global-mangrove-watch/land-cover/mangrove_extent-v3/gmw_v3_2020\")\n",
    "\n",
    "# exagerated image overviews for zoomed out views\n",
    "overviews_extent = image_extent.resample('bilinear').unmask().focalMode(1, 'circle', 'pixels', 3).selfMask()\n",
    "# visualization parameters\n",
    "visoptions =  {\"palette\": ['C1766F'], \"min\": 1, \"max\": 1}\n",
    "\n",
    "visoptions_extent =  {\"palette\": ['00BDB5'], \"min\": 1, \"max\": 1}\n",
    "\n",
    "Map = geemap.Map(center=( 1.3, 103.7), zoom=12, basemap='SATELLITE')\n",
    "\n",
    "Map.addLayer(image, visoptions, f\"{dataset}\", True, 1)\n",
    "Map.addLayer(overviews, visoptions, f\"{dataset}_overviews\", True, 1)\n",
    "\n",
    "Map.addLayer(image_extent, visoptions_extent, f\"{dataset_extent}\", True, 1)\n",
    "Map.addLayer(overviews_extent, visoptions_extent, f\"{dataset_extent}_overviews\", True, 1)\n",
    "\n",
    "\n",
    "\n",
    "Map"
   ]
  },
  {
   "attachments": {},
   "cell_type": "markdown",
   "metadata": {},
   "source": [
    "#### Export to tiles from GEE to GCS"
   ]
  },
  {
   "cell_type": "code",
   "execution_count": null,
   "metadata": {},
   "outputs": [],
   "source": [
    "task = exportMapTask(overviews.visualize(**visoptions), f\"{dataset}_overviews\", gcs_bucket, \n",
    "                     region, 1, 6)\n",
    "# Create a list of tasks to export the map tiles\n",
    "task2 = exportMapTask(image.visualize(**visoptions), dataset, gcs_bucket, \n",
    "                     region, 6, 10)\n",
    "# execute tasks in batches due to gee limits\n",
    "task.start()\n",
    "task2.start()"
   ]
  },
  {
   "attachments": {},
   "cell_type": "markdown",
   "metadata": {},
   "source": [
    "### Data Layer: Allen coral Atlas\n",
    "#### Visualize the data prior exporting it"
   ]
  },
  {
   "cell_type": "code",
   "execution_count": 5,
   "metadata": {},
   "outputs": [
    {
     "data": {
      "application/vnd.jupyter.widget-view+json": {
       "model_id": "9e49b2a8f6ff47708a2fbab684019f58",
       "version_major": 2,
       "version_minor": 0
      },
      "text/plain": [
       "Map(center=[1.3, 103.7], controls=(WidgetControl(options=['position', 'transparent_bg'], widget=HBox(children=…"
      ]
     },
     "metadata": {},
     "output_type": "display_data"
    }
   ],
   "source": [
    "## Assets selection\n",
    "gcs_bucket = 'mangrove_atlas'\n",
    "\n",
    "dataset = f'allen_coral_atlas_v2'\n",
    "# Region to export\n",
    "region = ee.Geometry.Polygon([[[-180, 33],[-180, -34],[180, -34],[180, 33]]], None, False);\n",
    "# layer to export\n",
    "\n",
    "image = ee.Image(\"ACA/reef_habitat/v2_0\").select(\"reef_mask\")\n",
    "\n",
    "# exagerated image overviews for zoomed out views\n",
    "overviews = image.resample('bilinear').unmask().focalMode(1, 'circle', 'pixels', 3).selfMask()\n",
    "# visualization parameters\n",
    "visoptions =  {\"palette\": [ 'FF6577'], \"min\": 1, \"max\": 1}\n",
    "\n",
    "\n",
    "Map = geemap.Map(center=( 1.3, 103.7), zoom=12, basemap='CartoDB.PositronNoLabels')\n",
    "\n",
    "Map.addLayer(image, visoptions, f\"{dataset}\", True, 1)\n",
    "Map.addLayer(overviews, visoptions, f\"{dataset}_overviews\", True, 1)\n",
    "Map"
   ]
  },
  {
   "attachments": {},
   "cell_type": "markdown",
   "metadata": {},
   "source": [
    "#### Export to tiles from GEE to GCS"
   ]
  },
  {
   "cell_type": "code",
   "execution_count": 6,
   "metadata": {},
   "outputs": [
    {
     "ename": "EEException",
     "evalue": "Bucket \"mangrove_atlas\" must have fine-grained ACLs. See: https://developers.google.com/storage/docs/accesscontrol#defaultbuckets",
     "output_type": "error",
     "traceback": [
      "\u001b[0;31m---------------------------------------------------------------------------\u001b[0m",
      "\u001b[0;31mHttpError\u001b[0m                                 Traceback (most recent call last)",
      "File \u001b[0;32m/opt/conda/lib/python3.8/site-packages/ee/data.py:345\u001b[0m, in \u001b[0;36m_execute_cloud_call\u001b[0;34m(call, num_retries)\u001b[0m\n\u001b[1;32m    344\u001b[0m \u001b[39mtry\u001b[39;00m:\n\u001b[0;32m--> 345\u001b[0m   \u001b[39mreturn\u001b[39;00m call\u001b[39m.\u001b[39;49mexecute(num_retries\u001b[39m=\u001b[39;49mnum_retries)\n\u001b[1;32m    346\u001b[0m \u001b[39mexcept\u001b[39;00m googleapiclient\u001b[39m.\u001b[39merrors\u001b[39m.\u001b[39mHttpError \u001b[39mas\u001b[39;00m e:\n",
      "File \u001b[0;32m/opt/conda/lib/python3.8/site-packages/googleapiclient/_helpers.py:130\u001b[0m, in \u001b[0;36mpositional.<locals>.positional_decorator.<locals>.positional_wrapper\u001b[0;34m(*args, **kwargs)\u001b[0m\n\u001b[1;32m    129\u001b[0m         logger\u001b[39m.\u001b[39mwarning(message)\n\u001b[0;32m--> 130\u001b[0m \u001b[39mreturn\u001b[39;00m wrapped(\u001b[39m*\u001b[39;49margs, \u001b[39m*\u001b[39;49m\u001b[39m*\u001b[39;49mkwargs)\n",
      "File \u001b[0;32m/opt/conda/lib/python3.8/site-packages/googleapiclient/http.py:938\u001b[0m, in \u001b[0;36mHttpRequest.execute\u001b[0;34m(self, http, num_retries)\u001b[0m\n\u001b[1;32m    937\u001b[0m \u001b[39mif\u001b[39;00m resp\u001b[39m.\u001b[39mstatus \u001b[39m>\u001b[39m\u001b[39m=\u001b[39m \u001b[39m300\u001b[39m:\n\u001b[0;32m--> 938\u001b[0m     \u001b[39mraise\u001b[39;00m HttpError(resp, content, uri\u001b[39m=\u001b[39m\u001b[39mself\u001b[39m\u001b[39m.\u001b[39muri)\n\u001b[1;32m    939\u001b[0m \u001b[39mreturn\u001b[39;00m \u001b[39mself\u001b[39m\u001b[39m.\u001b[39mpostproc(resp, content)\n",
      "\u001b[0;31mHttpError\u001b[0m: <HttpError 400 when requesting https://earthengine.googleapis.com/v1alpha/projects/earthengine-legacy/map:export?alt=json returned \"Bucket \"mangrove_atlas\" must have fine-grained ACLs. See: https://developers.google.com/storage/docs/accesscontrol#defaultbuckets\". Details: \"Bucket \"mangrove_atlas\" must have fine-grained ACLs. See: https://developers.google.com/storage/docs/accesscontrol#defaultbuckets\">",
      "\nDuring handling of the above exception, another exception occurred:\n",
      "\u001b[0;31mEEException\u001b[0m                               Traceback (most recent call last)",
      "\u001b[1;32m/Users/angel/Documents/REPOSITORIOS/mangrove-atlas/data/notebooks/Lab/data_processing/GEE/create_tiles_contextual_layers.ipynb Cell 23\u001b[0m in \u001b[0;36m<cell line: 7>\u001b[0;34m()\u001b[0m\n\u001b[1;32m      <a href='vscode-notebook-cell:/Users/angel/Documents/REPOSITORIOS/mangrove-atlas/data/notebooks/Lab/data_processing/GEE/create_tiles_contextual_layers.ipynb#X31sZmlsZQ%3D%3D?line=3'>4</a>\u001b[0m task2 \u001b[39m=\u001b[39m exportMapTask(image\u001b[39m.\u001b[39mvisualize(\u001b[39m*\u001b[39m\u001b[39m*\u001b[39mvisoptions), dataset, gcs_bucket, \n\u001b[1;32m      <a href='vscode-notebook-cell:/Users/angel/Documents/REPOSITORIOS/mangrove-atlas/data/notebooks/Lab/data_processing/GEE/create_tiles_contextual_layers.ipynb#X31sZmlsZQ%3D%3D?line=4'>5</a>\u001b[0m                      region, \u001b[39m6\u001b[39m, \u001b[39m10\u001b[39m)\n\u001b[1;32m      <a href='vscode-notebook-cell:/Users/angel/Documents/REPOSITORIOS/mangrove-atlas/data/notebooks/Lab/data_processing/GEE/create_tiles_contextual_layers.ipynb#X31sZmlsZQ%3D%3D?line=5'>6</a>\u001b[0m \u001b[39m# execute tasks in batches due to gee limits\u001b[39;00m\n\u001b[0;32m----> <a href='vscode-notebook-cell:/Users/angel/Documents/REPOSITORIOS/mangrove-atlas/data/notebooks/Lab/data_processing/GEE/create_tiles_contextual_layers.ipynb#X31sZmlsZQ%3D%3D?line=6'>7</a>\u001b[0m task\u001b[39m.\u001b[39;49mstart()\n\u001b[1;32m      <a href='vscode-notebook-cell:/Users/angel/Documents/REPOSITORIOS/mangrove-atlas/data/notebooks/Lab/data_processing/GEE/create_tiles_contextual_layers.ipynb#X31sZmlsZQ%3D%3D?line=7'>8</a>\u001b[0m task2\u001b[39m.\u001b[39mstart()\n",
      "File \u001b[0;32m/opt/conda/lib/python3.8/site-packages/ee/batch.py:93\u001b[0m, in \u001b[0;36mTask.start\u001b[0;34m(self)\u001b[0m\n\u001b[1;32m     91\u001b[0m   result \u001b[39m=\u001b[39m data\u001b[39m.\u001b[39mexportImage(\u001b[39mself\u001b[39m\u001b[39m.\u001b[39m_request_id, \u001b[39mself\u001b[39m\u001b[39m.\u001b[39mconfig)\n\u001b[1;32m     92\u001b[0m \u001b[39melif\u001b[39;00m \u001b[39mself\u001b[39m\u001b[39m.\u001b[39mtask_type \u001b[39m==\u001b[39m Task\u001b[39m.\u001b[39mType\u001b[39m.\u001b[39mEXPORT_MAP:\n\u001b[0;32m---> 93\u001b[0m   result \u001b[39m=\u001b[39m data\u001b[39m.\u001b[39;49mexportMap(\u001b[39mself\u001b[39;49m\u001b[39m.\u001b[39;49m_request_id, \u001b[39mself\u001b[39;49m\u001b[39m.\u001b[39;49mconfig)\n\u001b[1;32m     94\u001b[0m \u001b[39melif\u001b[39;00m \u001b[39mself\u001b[39m\u001b[39m.\u001b[39mtask_type \u001b[39m==\u001b[39m Task\u001b[39m.\u001b[39mType\u001b[39m.\u001b[39mEXPORT_TABLE:\n\u001b[1;32m     95\u001b[0m   result \u001b[39m=\u001b[39m data\u001b[39m.\u001b[39mexportTable(\u001b[39mself\u001b[39m\u001b[39m.\u001b[39m_request_id, \u001b[39mself\u001b[39m\u001b[39m.\u001b[39mconfig)\n",
      "File \u001b[0;32m/opt/conda/lib/python3.8/site-packages/ee/data.py:1645\u001b[0m, in \u001b[0;36mexportMap\u001b[0;34m(request_id, params)\u001b[0m\n\u001b[1;32m   1624\u001b[0m \u001b[39m\u001b[39m\u001b[39m\"\"\"Starts a map export task running.\u001b[39;00m\n\u001b[1;32m   1625\u001b[0m \n\u001b[1;32m   1626\u001b[0m \u001b[39mThis is a low-level method. The higher-level ee.batch.Export.map object\u001b[39;00m\n\u001b[0;32m   (...)\u001b[0m\n\u001b[1;32m   1642\u001b[0m \u001b[39m  If you are using the cloud API, this will be an Operation.\u001b[39;00m\n\u001b[1;32m   1643\u001b[0m \u001b[39m\"\"\"\u001b[39;00m\n\u001b[1;32m   1644\u001b[0m params \u001b[39m=\u001b[39m params\u001b[39m.\u001b[39mcopy()\n\u001b[0;32m-> 1645\u001b[0m \u001b[39mreturn\u001b[39;00m _prepare_and_run_export(\n\u001b[1;32m   1646\u001b[0m     request_id, params, _get_cloud_projects()\u001b[39m.\u001b[39;49mmap()\u001b[39m.\u001b[39;49mexport\n\u001b[1;32m   1647\u001b[0m )\n",
      "File \u001b[0;32m/opt/conda/lib/python3.8/site-packages/ee/data.py:1679\u001b[0m, in \u001b[0;36m_prepare_and_run_export\u001b[0;34m(request_id, params, export_endpoint)\u001b[0m\n\u001b[1;32m   1676\u001b[0m   params[\u001b[39m'\u001b[39m\u001b[39mexpression\u001b[39m\u001b[39m'\u001b[39m] \u001b[39m=\u001b[39m serializer\u001b[39m.\u001b[39mencode(\n\u001b[1;32m   1677\u001b[0m       params[\u001b[39m'\u001b[39m\u001b[39mexpression\u001b[39m\u001b[39m'\u001b[39m], for_cloud_api\u001b[39m=\u001b[39m\u001b[39mTrue\u001b[39;00m)\n\u001b[1;32m   1678\u001b[0m num_retries \u001b[39m=\u001b[39m MAX_RETRIES \u001b[39mif\u001b[39;00m request_id \u001b[39melse\u001b[39;00m \u001b[39m0\u001b[39m\n\u001b[0;32m-> 1679\u001b[0m \u001b[39mreturn\u001b[39;00m _execute_cloud_call(\n\u001b[1;32m   1680\u001b[0m     export_endpoint(project\u001b[39m=\u001b[39;49m_get_projects_path(), body\u001b[39m=\u001b[39;49mparams),\n\u001b[1;32m   1681\u001b[0m     num_retries\u001b[39m=\u001b[39;49mnum_retries)\n",
      "File \u001b[0;32m/opt/conda/lib/python3.8/site-packages/ee/data.py:347\u001b[0m, in \u001b[0;36m_execute_cloud_call\u001b[0;34m(call, num_retries)\u001b[0m\n\u001b[1;32m    345\u001b[0m   \u001b[39mreturn\u001b[39;00m call\u001b[39m.\u001b[39mexecute(num_retries\u001b[39m=\u001b[39mnum_retries)\n\u001b[1;32m    346\u001b[0m \u001b[39mexcept\u001b[39;00m googleapiclient\u001b[39m.\u001b[39merrors\u001b[39m.\u001b[39mHttpError \u001b[39mas\u001b[39;00m e:\n\u001b[0;32m--> 347\u001b[0m   \u001b[39mraise\u001b[39;00m _translate_cloud_exception(e)\n",
      "\u001b[0;31mEEException\u001b[0m: Bucket \"mangrove_atlas\" must have fine-grained ACLs. See: https://developers.google.com/storage/docs/accesscontrol#defaultbuckets"
     ]
    }
   ],
   "source": [
    "task = exportMapTask(overviews.visualize(**visoptions), f\"{dataset}_overviews\", gcs_bucket, \n",
    "                     region, 1, 6)\n",
    "# Create a list of tasks to export the map tiles\n",
    "task2 = exportMapTask(image.visualize(**visoptions), dataset, gcs_bucket, \n",
    "                     region, 6, 10)\n",
    "# execute tasks in batches due to gee limits\n",
    "task.start()\n",
    "task2.start()\n"
   ]
  },
  {
   "cell_type": "code",
   "execution_count": null,
   "metadata": {},
   "outputs": [],
   "source": []
  }
 ],
 "metadata": {
  "interpreter": {
   "hash": "31f2aee4e71d21fbe5cf8b01ff0e069b9275f58929596ceb00d14d90e3e16cd6"
  },
  "kernelspec": {
   "display_name": "Python 3 (ipykernel)",
   "language": "python",
   "name": "python3"
  }
 },
 "nbformat": 4,
 "nbformat_minor": 4
}
