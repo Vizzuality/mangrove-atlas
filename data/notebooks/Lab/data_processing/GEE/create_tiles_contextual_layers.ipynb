{
 "cells": [
  {
   "attachments": {},
   "cell_type": "markdown",
   "metadata": {},
   "source": [
    "# export tiles for contextal layers\n"
   ]
  },
  {
   "cell_type": "code",
   "execution_count": 14,
   "metadata": {},
   "outputs": [],
   "source": [
    "import ee\n",
    "import geemap"
   ]
  },
  {
   "cell_type": "code",
   "execution_count": 2,
   "metadata": {},
   "outputs": [
    {
     "data": {
      "text/html": [
       "<p>To authorize access needed by Earth Engine, open the following\n",
       "        URL in a web browser and follow the instructions:</p>\n",
       "        <p><a href=https://code.earthengine.google.com/client-auth?scopes=https%3A//www.googleapis.com/auth/earthengine%20https%3A//www.googleapis.com/auth/devstorage.full_control&request_id=EL7i3FQCqyL6wIua74K79N1TJE0YrZkyspDkKM6SWbE&tc=qwJK3gcXhSMrC6gi9LdtqR56f-e0O9cql9IfvrS14Ng&cc=5Sd9qRiQlb6w5AoQyZ2XrU6G78DQoLeCbsM04gKyQdY>https://code.earthengine.google.com/client-auth?scopes=https%3A//www.googleapis.com/auth/earthengine%20https%3A//www.googleapis.com/auth/devstorage.full_control&request_id=EL7i3FQCqyL6wIua74K79N1TJE0YrZkyspDkKM6SWbE&tc=qwJK3gcXhSMrC6gi9LdtqR56f-e0O9cql9IfvrS14Ng&cc=5Sd9qRiQlb6w5AoQyZ2XrU6G78DQoLeCbsM04gKyQdY</a></p>\n",
       "        <p>The authorization workflow will generate a code, which you should paste in the box below.</p>\n",
       "        "
      ],
      "text/plain": [
       "<IPython.core.display.HTML object>"
      ]
     },
     "metadata": {},
     "output_type": "display_data"
    },
    {
     "name": "stdout",
     "output_type": "stream",
     "text": [
      "\n",
      "Successfully saved authorization token.\n"
     ]
    }
   ],
   "source": [
    "# Trigger the authentication flow.\n",
    "# ee.ServiceAccountCredentials(EE_ACCOUNT, EE_PRIVATE_KEY_FILE)\n",
    "ee.Authenticate(auth_mode='notebook')"
   ]
  },
  {
   "cell_type": "code",
   "execution_count": 15,
   "metadata": {},
   "outputs": [],
   "source": [
    "# Initialize the library.\n",
    "ee.Initialize()"
   ]
  },
  {
   "cell_type": "code",
   "execution_count": 16,
   "metadata": {},
   "outputs": [],
   "source": [
    "def exportMapTask(asset: ee.Image, asset_name: str, gcbucket: str,\n",
    "                min_zoom: int, max_zoom: int, \n",
    "                env: str = 'staging'):\n",
    "    \"\"\"\n",
    "    Export the data to GEE.\n",
    "\n",
    "    Parameters\n",
    "    ----------\n",
    "    asset : ee.Image\n",
    "        The image to export.\n",
    "    asset_name : str\n",
    "        The name of the asset.\n",
    "    gcbucket : str\n",
    "        The name of the GCS bucket.\n",
    "    geometry_collection : ee.GeometryCollection\n",
    "        The geometry collection to export the data.\n",
    "    \n",
    "    Returns\n",
    "    -------\n",
    "    A task\n",
    "    \"\"\"\n",
    "    \n",
    "    \n",
    "    return ee.batch.Export.map.toCloudStorage(\n",
    "            image = asset,\n",
    "            description = f'{asset_name}',\n",
    "            path = f'{env}/tilesets/{asset_name}',\n",
    "            bucket = gcbucket,\n",
    "            minZoom = min_zoom,\n",
    "            maxZoom = max_zoom,\n",
    "            writePublicTiles = False,\n",
    "            skipEmptyTiles = True,\n",
    "            fileFormat = 'png'\n",
    "            )"
   ]
  },
  {
   "attachments": {},
   "cell_type": "markdown",
   "metadata": {},
   "source": [
    "### Data Layer: global_tidal_wetland_change \n",
    "#### Visualize the data prior exporting it"
   ]
  },
  {
   "cell_type": "code",
   "execution_count": 24,
   "metadata": {},
   "outputs": [
    {
     "data": {
      "application/vnd.jupyter.widget-view+json": {
       "model_id": "7595056d8a6d4ee5a3fdf0fc5fd8b4c1",
       "version_major": 2,
       "version_minor": 0
      },
      "text/plain": [
       "Map(center=[1.3, 103.7], controls=(WidgetControl(options=['position', 'transparent_bg'], widget=HBox(children=…"
      ]
     },
     "execution_count": 24,
     "metadata": {},
     "output_type": "execute_result"
    }
   ],
   "source": [
    "## Assets selection\n",
    "gcs_bucket = 'mangrove_atlas'\n",
    "\n",
    "dataset = f'global_tidal_wetland_change'\n",
    "# Region to export\n",
    "region = ee.Geometry.Polygon([[[-180, 33],[-180, -34],[180, -34],[180, 33]]], None, False);\n",
    "# layer to export\n",
    "# expresion to generate one image with the gain and loss\n",
    "bandIndexExp = \"b('loss') + b('gain')*2\"\n",
    "image = ee.Image(\"JCU/Murray/GIC/global_tidal_wetland_change/2019\").select(['loss', 'gain']).unmask().expression(bandIndexExp).rename('gain_loss')\n",
    "# masking the image\n",
    "to_vis = image.mask(image.neq(0))\n",
    "\n",
    "# exagerated image overviews for zoomed out views\n",
    "overviews = to_vis.resample('bilinear').unmask().focalMode(1, 'circle', 'pixels', 2).selfMask()\n",
    "# visualization parameters\n",
    "visoptions =  {\"palette\": ['B7E6A5', 'ca5268'], \"min\": 1, \"max\": 2}\n",
    "\n",
    "\n",
    "Map = geemap.Map(center=( 1.3, 103.7), zoom=12, basemap='CartoDB.PositronNoLabels')\n",
    "\n",
    "Map.addLayer(to_vis, visoptions, f\"{dataset}\", True, 1)\n",
    "Map.addLayer(overviews, visoptions, f\"{dataset}_overviews\", True, 1)\n",
    "\n",
    "Map"
   ]
  },
  {
   "cell_type": "code",
   "execution_count": 9,
   "metadata": {},
   "outputs": [
    {
     "data": {
      "application/vnd.jupyter.widget-view+json": {
       "model_id": "a8f69812db6349f2a670b4932c22e5fc",
       "version_major": 2,
       "version_minor": 0
      },
      "text/plain": [
       "Map(center=[1.3, 103.7], controls=(WidgetControl(options=['position', 'transparent_bg'], widget=HBox(children=…"
      ]
     },
     "metadata": {},
     "output_type": "display_data"
    }
   ],
   "source": [
    "dataset_extent = f'mangrove_extent'\n",
    "# Region to export\n",
    "region = ee.Geometry.Polygon([[[-180, 33],[-180, -34],[180, -34],[180, 33]]], None, False);\n",
    "# layer to export\n",
    "# expresion to generate one image with the gain and loss\n",
    "image_extent = ee.Image(\"projects/global-mangrove-watch/land-cover/mangrove_extent-v3/gmw_v3_2020\")\n",
    "\n",
    "# exagerated image overviews for zoomed out views\n",
    "overviews_extent = image_extent.resample('bilinear').unmask().focalMode(1, 'circle', 'pixels', 3).selfMask()\n",
    "# visualization parameters\n",
    "visoptions =  {\"palette\": ['B7E6A5', 'ca5268'], \"min\": 1, \"max\": 2}\n",
    "\n",
    "visoptions_extent =  {\"palette\": ['00BDB5'], \"min\": 1, \"max\": 1}\n",
    "\n",
    "Map = geemap.Map(center=( 1.3, 103.7), zoom=12, basemap='CartoDB.PositronNoLabels')\n",
    "\n",
    "Map.addLayer(image_extent, visoptions_extent, f\"{dataset_extent}\", True, 1)\n",
    "Map.addLayer(overviews_extent, visoptions_extent, f\"{dataset_extent}_overviews\", True, 1)\n",
    "\n",
    "Map.addLayer(to_vis, visoptions, f\"{dataset}\", True, 0.6)\n",
    "Map.addLayer(overviews, visoptions, f\"{dataset}_overviews\", True, 0.6)\n",
    "\n",
    "Map"
   ]
  },
  {
   "attachments": {},
   "cell_type": "markdown",
   "metadata": {},
   "source": [
    "#### Export to tiles from GEE to GCS"
   ]
  },
  {
   "cell_type": "code",
   "execution_count": 25,
   "metadata": {},
   "outputs": [],
   "source": [
    "task = exportMapTask(overviews.visualize(**visoptions), f\"{dataset}\", gcs_bucket,\n",
    "                     1, 3)\n",
    "# Create a list of tasks to export the map tiles\n",
    "task2 = exportMapTask(image.visualize(**visoptions), dataset, gcs_bucket, \n",
    "                     4, 12)\n",
    "# execute tasks in batches due to gee limits\n",
    "task.start()\n",
    "task2.start()\n"
   ]
  },
  {
   "cell_type": "code",
   "execution_count": null,
   "metadata": {},
   "outputs": [],
   "source": []
  },
  {
   "attachments": {},
   "cell_type": "markdown",
   "metadata": {},
   "source": [
    "### Data Layer: Global salt marshes\n",
    "#### Visualize the data prior exporting it"
   ]
  },
  {
   "cell_type": "code",
   "execution_count": 7,
   "metadata": {},
   "outputs": [],
   "source": [
    "## Assets selection\n",
    "gcs_bucket = 'mangrove_atlas'\n",
    "\n",
    "dataset = f'global_tidal_wetland_change'\n",
    "# Region to export\n",
    "region = ee.Geometry.Polygon([[[-180, 33],[-180, -34],[180, -34],[180, 33]]], None, False);\n",
    "# layer to export\n",
    "# expresion to generate one image with the gain and loss\n",
    "bandIndexExp = \"b('loss') + b('gain')*2\"\n",
    "image = ee.Image(\"JCU/Murray/GIC/global_tidal_wetland_change/2019\").select(['loss', 'gain']).unmask().expression(bandIndexExp).rename('gain_loss')\n",
    "# masking the image\n",
    "to_vis = image.mask(image.neq(0))\n",
    "\n",
    "# exagerated image overviews for zoomed out views\n",
    "overviews = to_vis.resample('bilinear').unmask().focalMode(3, 'circle', 'pixels', 3).selfMask()\n",
    "# visualization parameters\n",
    "visoptions =  {\"palette\": ['FE4A49', 'ca5268'], \"min\": 1, \"max\": 2}\n",
    "\n",
    "\n",
    "Map = geemap.Map(center=( 1.3, 103.7), zoom=12, basemap='HYBRID')\n",
    "\n",
    "Map.addLayer(to_vis, visoptions, f\"{dataset}\", True, 1)\n",
    "Map.addLayer(overviews, visoptions, f\"{dataset}\", True, 1)\n"
   ]
  },
  {
   "attachments": {},
   "cell_type": "markdown",
   "metadata": {},
   "source": [
    "#### Export to tiles from GEE to GCS"
   ]
  },
  {
   "cell_type": "code",
   "execution_count": null,
   "metadata": {},
   "outputs": [],
   "source": [
    "task = exportMapTask(overviews.visualize(**visoptions), f\"{dataset}\", gcs_bucket,\n",
    "                     1, 3)\n",
    "# Create a list of tasks to export the map tiles\n",
    "task2 = exportMapTask(image.visualize(**visoptions), dataset, gcs_bucket, \n",
    "                     4, 12)\n",
    "# execute tasks in batches due to gee limits\n",
    "task.start()\n",
    "task2.start()\n"
   ]
  },
  {
   "attachments": {},
   "cell_type": "markdown",
   "metadata": {},
   "source": [
    "### Data Layer: Tidal flats\n",
    "#### Visualize the data prior exporting it"
   ]
  },
  {
   "cell_type": "code",
   "execution_count": 17,
   "metadata": {},
   "outputs": [
    {
     "data": {
      "application/vnd.jupyter.widget-view+json": {
       "model_id": "3cd06b2d5fec4d969543280842e9dde5",
       "version_major": 2,
       "version_minor": 0
      },
      "text/plain": [
       "Map(center=[1.3, 103.7], controls=(WidgetControl(options=['position', 'transparent_bg'], widget=HBox(children=…"
      ]
     },
     "execution_count": 17,
     "metadata": {},
     "output_type": "execute_result"
    }
   ],
   "source": [
    "## Assets selection\n",
    "gcs_bucket = 'mangrove_atlas'\n",
    "\n",
    "dataset = f'tidal_flats_1_2'\n",
    "# Region to export\n",
    "region = ee.Geometry.Polygon([[[-180, 33],[-180, -34],[180, -34],[180, 33]]], None, False);\n",
    "# layer to export\n",
    "# expresion to generate one image with the gain and loss\n",
    "image = ee.Image(\"projects/UQ_intertidal/global_intertidal_v1_2/L5_final_masked/global_intertidal_20172019_v1_2\")\n",
    "\n",
    "# exagerated image overviews for zoomed out views\n",
    "overviews = image.resample('bilinear').unmask().focalMode(1, 'circle', 'pixels', 3).selfMask()\n",
    "# visualization parameters\n",
    "visoptions =  {\"palette\": ['C1766F'], \"min\": 1, \"max\": 1}\n",
    "\n",
    "Map = geemap.Map(center=( 1.3, 103.7), zoom=10, basemap='CartoDB.PositronNoLabels')\n",
    "\n",
    "Map.addLayer(image, visoptions, f\"{dataset}\", True, 1)\n",
    "Map.addLayer(overviews, visoptions, f\"{dataset}_overviews\", True, 1)\n",
    "Map"
   ]
  },
  {
   "cell_type": "code",
   "execution_count": 20,
   "metadata": {},
   "outputs": [
    {
     "data": {
      "text/html": [
       "<div><style>:root {\n",
       "  --font-color-primary: var(--jp-content-font-color0, rgba(0, 0, 0, 1));\n",
       "  --font-color-secondary: var(--jp-content-font-color2, rgba(0, 0, 0, 0.6));\n",
       "  --font-color-accent: rgba(123, 31, 162, 1);\n",
       "  --border-color: var(--jp-border-color2, #e0e0e0);\n",
       "  --background-color: var(--jp-layout-color0, white);\n",
       "  --background-color-row-even: var(--jp-layout-color1, white);\n",
       "  --background-color-row-odd: var(--jp-layout-color2, #eeeeee);\n",
       "}\n",
       "\n",
       "html[theme=\"dark\"],\n",
       "body[data-theme=\"dark\"],\n",
       "body.vscode-dark {\n",
       "  --font-color-primary: rgba(255, 255, 255, 1);\n",
       "  --font-color-secondary: rgba(255, 255, 255, 0.6);\n",
       "  --font-color-accent: rgb(173, 132, 190);\n",
       "  --border-color: #2e2e2e;\n",
       "  --background-color: #111111;\n",
       "  --background-color-row-even: #111111;\n",
       "  --background-color-row-odd: #313131;\n",
       "}\n",
       "\n",
       ".ee {\n",
       "  padding: 1em;\n",
       "  line-height: 1.5em;\n",
       "  min-width: 300px;\n",
       "  max-width: 1200px;\n",
       "  overflow-y: scroll;\n",
       "  max-height: 600px;\n",
       "  border: 1px solid var(--border-color);\n",
       "  font-family: monospace;\n",
       "}\n",
       "\n",
       ".ee li {\n",
       "  list-style-type: none;\n",
       "}\n",
       "\n",
       ".ee ul {\n",
       "  padding-left: 1.5em !important;\n",
       "  margin: 0;\n",
       "}\n",
       "\n",
       ".ee > ul {\n",
       "  padding-left: 0 !important;\n",
       "}\n",
       "\n",
       ".ee-open,\n",
       ".ee-shut {\n",
       "  color: var(--font-color-secondary);\n",
       "  cursor: pointer;\n",
       "  margin: 0;\n",
       "}\n",
       "\n",
       ".ee-open:hover,\n",
       ".ee-shut:hover {\n",
       "  color: var(--font-color-primary);\n",
       "}\n",
       "\n",
       ".ee-k {\n",
       "  color: var(--font-color-accent);\n",
       "  margin-right: 6px;\n",
       "}\n",
       "\n",
       ".ee-v {\n",
       "  color: var(--font-color-primary);\n",
       "}\n",
       "\n",
       ".ee-toggle {\n",
       "  display: none;\n",
       "}\n",
       "\n",
       ".ee-shut + ul {\n",
       "  display: none;\n",
       "}\n",
       "\n",
       ".ee-open + ul {\n",
       "  display: block;\n",
       "}\n",
       "\n",
       ".ee-shut::before {\n",
       "  display: inline-block;\n",
       "  content: \"▼\";\n",
       "  margin-right: 6px;\n",
       "  transform: rotate(-90deg);\n",
       "  transition: transform 0.2s;\n",
       "}\n",
       "\n",
       ".ee-open::before {\n",
       "  transform: rotate(0deg);\n",
       "  display: inline-block;\n",
       "  content: \"▼\";\n",
       "  margin-right: 6px;\n",
       "  transition: transform 0.2s;\n",
       "}\n",
       "</style><div class='ee'><ul><li><label class='ee-shut'>Image projects/UQ_intertidal/global_intertidal_v1_2/L5_final_masked/global_intertidal_20172019_v1_2 (1 band)<input type='checkbox' class='ee-toggle'></label><ul><li><span class='ee-k'>type:</span><span class='ee-v'>Image</span></li><li><span class='ee-k'>id:</span><span class='ee-v'>projects/UQ_intertidal/global_intertidal_v1_2/L5_final_masked/global_intertidal_20172019_v1_2</span></li><li><span class='ee-k'>version:</span><span class='ee-v'>1646364861601040.0</span></li><li><label class='ee-shut'>bands: List (1 element)<input type='checkbox' class='ee-toggle'></label><ul><li><label class='ee-shut'>0: \"classification\", unsigned int8, EPSG:4326, 1335834x445278 px<input type='checkbox' class='ee-toggle'></label><ul><li><span class='ee-k'>id:</span><span class='ee-v'>classification</span></li><li><span class='ee-k'>crs:</span><span class='ee-v'>EPSG:4326</span></li><li><label class='ee-shut'>crs_transform: List (6 elements)<input type='checkbox' class='ee-toggle'></label><ul><li><span class='ee-k'>0:</span><span class='ee-v'>0.00026949458523585647</span></li><li><span class='ee-k'>1:</span><span class='ee-v'>0</span></li><li><span class='ee-k'>2:</span><span class='ee-v'>-180.00001488697754</span></li><li><span class='ee-k'>3:</span><span class='ee-v'>0</span></li><li><span class='ee-k'>4:</span><span class='ee-v'>-0.00026949458523585647</span></li><li><span class='ee-k'>5:</span><span class='ee-v'>60.000004962325846</span></li></ul></li><li><label class='ee-shut'>data_type: unsigned int8<input type='checkbox' class='ee-toggle'></label><ul><li><span class='ee-k'>type:</span><span class='ee-v'>PixelType</span></li><li><span class='ee-k'>max:</span><span class='ee-v'>255</span></li><li><span class='ee-k'>min:</span><span class='ee-v'>0</span></li><li><span class='ee-k'>precision:</span><span class='ee-v'>int</span></li></ul></li><li><label class='ee-shut'>dimensions: [1335834, 445278]<input type='checkbox' class='ee-toggle'></label><ul><li><span class='ee-k'>0:</span><span class='ee-v'>1335834</span></li><li><span class='ee-k'>1:</span><span class='ee-v'>445278</span></li></ul></li></ul></li></ul></li><li><label class='ee-shut'>properties: Object (2 properties)<input type='checkbox' class='ee-toggle'></label><ul><li><span class='ee-k'>system:asset_size:</span><span class='ee-v'>174977231</span></li><li><label class='ee-shut'>system:footprint: LinearRing (5 vertices)<input type='checkbox' class='ee-toggle'></label><ul><li><span class='ee-k'>type:</span><span class='ee-v'>LinearRing</span></li><li><label class='ee-shut'>coordinates: List (5 elements)<input type='checkbox' class='ee-toggle'></label><ul><li><label class='ee-shut'>0: [-180, -90]<input type='checkbox' class='ee-toggle'></label><ul><li><span class='ee-k'>0:</span><span class='ee-v'>-180</span></li><li><span class='ee-k'>1:</span><span class='ee-v'>-90</span></li></ul></li><li><label class='ee-shut'>1: [180, -90]<input type='checkbox' class='ee-toggle'></label><ul><li><span class='ee-k'>0:</span><span class='ee-v'>180</span></li><li><span class='ee-k'>1:</span><span class='ee-v'>-90</span></li></ul></li><li><label class='ee-shut'>2: [180, 90]<input type='checkbox' class='ee-toggle'></label><ul><li><span class='ee-k'>0:</span><span class='ee-v'>180</span></li><li><span class='ee-k'>1:</span><span class='ee-v'>90</span></li></ul></li><li><label class='ee-shut'>3: [-180, 90]<input type='checkbox' class='ee-toggle'></label><ul><li><span class='ee-k'>0:</span><span class='ee-v'>-180</span></li><li><span class='ee-k'>1:</span><span class='ee-v'>90</span></li></ul></li><li><label class='ee-shut'>4: [-180, -90]<input type='checkbox' class='ee-toggle'></label><ul><li><span class='ee-k'>0:</span><span class='ee-v'>-180</span></li><li><span class='ee-k'>1:</span><span class='ee-v'>-90</span></li></ul></li></ul></li></ul></li></ul></li></ul></li></ul></div><script>function toggleHeader() {\n",
       "    const parent = this.parentElement;\n",
       "    parent.className = parent.className === \"ee-open\" ? \"ee-shut\" : \"ee-open\";\n",
       "}\n",
       "\n",
       "for (let c of document.getElementsByClassName(\"ee-toggle\")) {\n",
       "    c.onclick = toggleHeader;\n",
       "}</script></div>"
      ],
      "text/plain": [
       "<ee.image.Image at 0x1603f9bd0>"
      ]
     },
     "execution_count": 20,
     "metadata": {},
     "output_type": "execute_result"
    }
   ],
   "source": [
    "image"
   ]
  },
  {
   "cell_type": "code",
   "execution_count": 10,
   "metadata": {},
   "outputs": [
    {
     "data": {
      "application/vnd.jupyter.widget-view+json": {
       "model_id": "525e2834c63e41fca2ecfb074bd71b13",
       "version_major": 2,
       "version_minor": 0
      },
      "text/plain": [
       "Map(center=[1.3, 103.7], controls=(WidgetControl(options=['position', 'transparent_bg'], widget=HBox(children=…"
      ]
     },
     "metadata": {},
     "output_type": "display_data"
    }
   ],
   "source": [
    "dataset_extent = f'mangrove_extent'\n",
    "# Region to export\n",
    "region = ee.Geometry.Polygon([[[-180, 33],[-180, -34],[180, -34],[180, 33]]], None, False);\n",
    "# layer to export\n",
    "# expresion to generate one image with the gain and loss\n",
    "image_extent = ee.Image(\"projects/global-mangrove-watch/land-cover/mangrove_extent-v3/gmw_v3_2020\")\n",
    "\n",
    "# exagerated image overviews for zoomed out views\n",
    "overviews_extent = image_extent.resample('bilinear').unmask().focalMode(1, 'circle', 'pixels', 3).selfMask()\n",
    "# visualization parameters\n",
    "visoptions =  {\"palette\": ['C1766F'], \"min\": 1, \"max\": 1}\n",
    "\n",
    "visoptions_extent =  {\"palette\": ['00BDB5'], \"min\": 1, \"max\": 1}\n",
    "\n",
    "Map = geemap.Map(center=( 1.3, 103.7), zoom=12, basemap='SATELLITE')\n",
    "\n",
    "Map.addLayer(image, visoptions, f\"{dataset}\", True, 1)\n",
    "Map.addLayer(overviews, visoptions, f\"{dataset}_overviews\", True, 1)\n",
    "\n",
    "Map.addLayer(image_extent, visoptions_extent, f\"{dataset_extent}\", True, 1)\n",
    "Map.addLayer(overviews_extent, visoptions_extent, f\"{dataset_extent}_overviews\", True, 1)\n",
    "\n",
    "\n",
    "\n",
    "Map"
   ]
  },
  {
   "attachments": {},
   "cell_type": "markdown",
   "metadata": {},
   "source": [
    "#### Export to tiles from GEE to GCS"
   ]
  },
  {
   "cell_type": "code",
   "execution_count": 23,
   "metadata": {},
   "outputs": [],
   "source": [
    "task = exportMapTask(overviews.visualize(**visoptions), f\"{dataset}\", gcs_bucket,\n",
    "                     1, 3)\n",
    "# Create a list of tasks to export the map tiles\n",
    "task2 = exportMapTask(image.visualize(**visoptions), dataset, gcs_bucket, \n",
    "                     4, 12)\n",
    "# execute tasks in batches due to gee limits\n",
    "task.start()\n",
    "#task2.start()"
   ]
  },
  {
   "attachments": {},
   "cell_type": "markdown",
   "metadata": {},
   "source": [
    "### Data Layer: Allen coral Atlas\n",
    "#### Visualize the data prior exporting it"
   ]
  },
  {
   "cell_type": "code",
   "execution_count": 26,
   "metadata": {},
   "outputs": [
    {
     "data": {
      "application/vnd.jupyter.widget-view+json": {
       "model_id": "05eadeac56e54dfd80640403660941b0",
       "version_major": 2,
       "version_minor": 0
      },
      "text/plain": [
       "Map(center=[1.3, 103.7], controls=(WidgetControl(options=['position', 'transparent_bg'], widget=HBox(children=…"
      ]
     },
     "execution_count": 26,
     "metadata": {},
     "output_type": "execute_result"
    }
   ],
   "source": [
    "## Assets selection\n",
    "gcs_bucket = 'mangrove_atlas'\n",
    "\n",
    "dataset = f'allen_coral_atlas_v2'\n",
    "# Region to export\n",
    "region = ee.Geometry.Polygon([[[-180, 33],[-180, -34],[180, -34],[180, 33]]], None, False);\n",
    "# layer to export\n",
    "\n",
    "image = ee.Image(\"ACA/reef_habitat/v2_0\").select(\"reef_mask\")\n",
    "\n",
    "# exagerated image overviews for zoomed out views\n",
    "overviews = image.resample('bilinear').unmask().focalMode(1, 'circle', 'pixels', 3).selfMask()\n",
    "# visualization parameters\n",
    "visoptions =  {\"palette\": [ 'FF6577'], \"min\": 1, \"max\": 1}\n",
    "\n",
    "\n",
    "Map = geemap.Map(center=( 1.3, 103.7), zoom=12, basemap='CartoDB.PositronNoLabels')\n",
    "\n",
    "Map.addLayer(image, visoptions, f\"{dataset}\", True, 1)\n",
    "Map.addLayer(overviews, visoptions, f\"{dataset}_overviews\", True, 1)\n",
    "Map"
   ]
  },
  {
   "attachments": {},
   "cell_type": "markdown",
   "metadata": {},
   "source": [
    "#### Export to tiles from GEE to GCS"
   ]
  },
  {
   "cell_type": "code",
   "execution_count": 27,
   "metadata": {},
   "outputs": [],
   "source": [
    "task = exportMapTask(overviews.visualize(**visoptions), f\"{dataset}\", gcs_bucket,\n",
    "                     1, 3)\n",
    "# Create a list of tasks to export the map tiles\n",
    "task2 = exportMapTask(image.visualize(**visoptions), dataset, gcs_bucket, \n",
    "                     4, 12)\n",
    "# execute tasks in batches due to gee limits\n",
    "task.start()\n",
    "task2.start()\n"
   ]
  },
  {
   "cell_type": "code",
   "execution_count": null,
   "metadata": {},
   "outputs": [],
   "source": []
  }
 ],
 "metadata": {
  "interpreter": {
   "hash": "31f2aee4e71d21fbe5cf8b01ff0e069b9275f58929596ceb00d14d90e3e16cd6"
  },
  "kernelspec": {
   "display_name": "Python 3 (ipykernel)",
   "language": "python",
   "name": "python3"
  },
  "language_info": {
   "codemirror_mode": {
    "name": "ipython",
    "version": 3
   },
   "file_extension": ".py",
   "mimetype": "text/x-python",
   "name": "python",
   "nbconvert_exporter": "python",
   "pygments_lexer": "ipython3",
   "version": "3.11.4"
  }
 },
 "nbformat": 4,
 "nbformat_minor": 4
}
