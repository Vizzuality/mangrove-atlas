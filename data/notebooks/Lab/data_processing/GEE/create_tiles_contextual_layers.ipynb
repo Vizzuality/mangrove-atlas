{
 "cells": [
  {
   "attachments": {},
   "cell_type": "markdown",
   "metadata": {},
   "source": [
    "# export tiles for contextal layers\n"
   ]
  },
  {
   "cell_type": "code",
   "execution_count": 1,
   "metadata": {},
   "outputs": [
    {
     "name": "stderr",
     "output_type": "stream",
     "text": [
      "/opt/conda/lib/python3.8/site-packages/pandas/core/computation/expressions.py:20: UserWarning: Pandas requires version '2.7.3' or newer of 'numexpr' (version '2.7.2' currently installed).\n",
      "  from pandas.core.computation.check import NUMEXPR_INSTALLED\n"
     ]
    }
   ],
   "source": [
    "import ee\n",
    "import geemap"
   ]
  },
  {
   "cell_type": "code",
   "execution_count": 2,
   "metadata": {},
   "outputs": [
    {
     "data": {
      "text/html": [
       "<p>To authorize access needed by Earth Engine, open the following\n",
       "        URL in a web browser and follow the instructions:</p>\n",
       "        <p><a href=https://code.earthengine.google.com/client-auth?scopes=https%3A//www.googleapis.com/auth/earthengine%20https%3A//www.googleapis.com/auth/devstorage.full_control&request_id=HPc6idUXeUmXmDpcA1DhaIBa_yQgjUitesoMh2AfFI0&tc=4nDPQVkzmnk3RIy1KiiHG1_qAes1j2UTM8_5f8eeryk&cc=RUcQ4UBTlgS7lDcVqLqQJWvVSPsS-433s29HEneMbBc>https://code.earthengine.google.com/client-auth?scopes=https%3A//www.googleapis.com/auth/earthengine%20https%3A//www.googleapis.com/auth/devstorage.full_control&request_id=HPc6idUXeUmXmDpcA1DhaIBa_yQgjUitesoMh2AfFI0&tc=4nDPQVkzmnk3RIy1KiiHG1_qAes1j2UTM8_5f8eeryk&cc=RUcQ4UBTlgS7lDcVqLqQJWvVSPsS-433s29HEneMbBc</a></p>\n",
       "        <p>The authorization workflow will generate a code, which you should paste in the box below.</p>\n",
       "        "
      ],
      "text/plain": [
       "<IPython.core.display.HTML object>"
      ]
     },
     "metadata": {},
     "output_type": "display_data"
    },
    {
     "name": "stdout",
     "output_type": "stream",
     "text": [
      "Enter verification code: 4/1AbUR2VPL3t3q-iC1l25hGrd8JNgEQjTdoclt7iSltMbck0YnZCfmQFo6ysk\n",
      "\n",
      "Successfully saved authorization token.\n"
     ]
    }
   ],
   "source": [
    "# Trigger the authentication flow.\n",
    "# ee.ServiceAccountCredentials(EE_ACCOUNT, EE_PRIVATE_KEY_FILE)\n",
    "ee.Authenticate(auth_mode='notebook')"
   ]
  },
  {
   "cell_type": "code",
   "execution_count": 3,
   "metadata": {},
   "outputs": [],
   "source": [
    "# Initialize the library.\n",
    "ee.Initialize()"
   ]
  },
  {
   "cell_type": "code",
   "execution_count": 4,
   "metadata": {},
   "outputs": [],
   "source": [
    "def exportMapTask(asset: ee.Image, asset_name: str, gcbucket: str,\n",
    "                region: ee.Geometry, min_zoom: int, max_zoom: int, \n",
    "                env: str = 'staging', key: str = 'year'):\n",
    "    \"\"\"\n",
    "    Export the data to GEE.\n",
    "\n",
    "    Parameters\n",
    "    ----------\n",
    "    asset : ee.Image\n",
    "        The image to export.\n",
    "    asset_name : str\n",
    "        The name of the asset.\n",
    "    gcbucket : str\n",
    "        The name of the GCS bucket.\n",
    "    geometry_collection : ee.GeometryCollection\n",
    "        The geometry collection to export the data.\n",
    "    \n",
    "    Returns\n",
    "    -------\n",
    "    A task\n",
    "    \"\"\"\n",
    "    \n",
    "    \n",
    "    return ee.batch.Export.map.toCloudStorage(\n",
    "            image = asset,\n",
    "            description = f'{asset_name}_{year}',\n",
    "            path = f'{env}/tilesets/{asset_name}',\n",
    "            bucket = gcbucket,\n",
    "            minZoom = min_zoom,\n",
    "            maxZoom = max_zoom,\n",
    "            writePublicTiles = True,\n",
    "            skipEmptyTiles = True,\n",
    "            fileFormat = 'png',\n",
    "            region = region\n",
    "            )"
   ]
  },
  {
   "attachments": {},
   "cell_type": "markdown",
   "metadata": {},
   "source": [
    "### Data Layer: global_tidal_wetland_change \n",
    "#### Visualize the data prior exporting it"
   ]
  },
  {
   "cell_type": "code",
   "execution_count": 9,
   "metadata": {},
   "outputs": [
    {
     "data": {
      "application/vnd.jupyter.widget-view+json": {
       "model_id": "c7889603107c4b48b99ea62448428925",
       "version_major": 2,
       "version_minor": 0
      },
      "text/plain": [
       "Map(center=[1.3, 103.7], controls=(WidgetControl(options=['position', 'transparent_bg'], widget=HBox(children=…"
      ]
     },
     "metadata": {},
     "output_type": "display_data"
    }
   ],
   "source": [
    "## Assets selection\n",
    "gcs_bucket = 'mangrove_atlas'\n",
    "\n",
    "dataset = f'global_tidal_wetland_change'\n",
    "# Region to export\n",
    "region = ee.Geometry.Polygon([[[-180, 33],[-180, -34],[180, -34],[180, 33]]], None, False);\n",
    "# layer to export\n",
    "# expresion to generate one image with the gain and loss\n",
    "bandIndexExp = \"b('loss') + b('gain')*2\"\n",
    "image = ee.Image(\"JCU/Murray/GIC/global_tidal_wetland_change/2019\").select(['loss', 'gain']).unmask().expression(bandIndexExp).rename('gain_loss')\n",
    "# masking the image\n",
    "to_vis = image.mask(image.neq(0))\n",
    "\n",
    "# exagerated image overviews for zoomed out views\n",
    "overviews = to_vis.resample('bilinear').unmask().focalMode(1, 'circle', 'pixels', 2).selfMask()\n",
    "# visualization parameters\n",
    "visoptions =  {\"palette\": ['FE4A49', '2AB7CA'], \"min\": 1, \"max\": 2}\n",
    "\n",
    "\n",
    "Map = geemap.Map(center=( 1.3, 103.7), zoom=12, basemap='HYBRID')\n",
    "\n",
    "Map.addLayer(to_vis, visoptions, f\"{dataset}\", True, 1)\n",
    "Map.addLayer(overviews, visoptions, f\"{dataset}_overviews\", True, 1)\n",
    "\n",
    "Map"
   ]
  },
  {
   "attachments": {},
   "cell_type": "markdown",
   "metadata": {},
   "source": [
    "#### Export to tiles from GEE to GCS"
   ]
  },
  {
   "cell_type": "code",
   "execution_count": null,
   "metadata": {},
   "outputs": [],
   "source": [
    "task = exportMapTask(overviews.visualize(**visoptions), dataset, gcs_bucket, \n",
    "                     region, 1, 6)\n",
    "# Create a list of tasks to export the map tiles\n",
    "task2 = exportMapTask(to_vis.visualize(**visoptions), dataset, gcs_bucket, \n",
    "                     region, 6, 10)\n",
    "# execute tasks in batches due to gee limits\n",
    "task.start()\n",
    "task2.start()\n"
   ]
  },
  {
   "cell_type": "code",
   "execution_count": null,
   "metadata": {},
   "outputs": [],
   "source": []
  },
  {
   "attachments": {},
   "cell_type": "markdown",
   "metadata": {},
   "source": [
    "### Data Layer: Global intertidal wetland change\n",
    "#### Visualize the data prior exporting it"
   ]
  },
  {
   "cell_type": "code",
   "execution_count": null,
   "metadata": {},
   "outputs": [
    {
     "data": {
      "application/vnd.jupyter.widget-view+json": {
       "model_id": "8eecd077b6294b76a9b03dcacfb4f5c7",
       "version_major": 2,
       "version_minor": 0
      },
      "text/plain": [
       "Map(center=[1.3, 103.7], controls=(WidgetControl(options=['position', 'transparent_bg'], widget=HBox(children=…"
      ]
     },
     "metadata": {},
     "output_type": "display_data"
    }
   ],
   "source": [
    "## Assets selection\n",
    "gcs_bucket = 'mangrove_atlas'\n",
    "\n",
    "dataset = f'global_tidal_wetland_change'\n",
    "# Region to export\n",
    "region = ee.Geometry.Polygon([[[-180, 33],[-180, -34],[180, -34],[180, 33]]], None, False);\n",
    "# layer to export\n",
    "# expresion to generate one image with the gain and loss\n",
    "bandIndexExp = \"b('loss') + b('gain')*2\"\n",
    "image = ee.Image(\"JCU/Murray/GIC/global_tidal_wetland_change/2019\").select(['loss', 'gain']).unmask().expression(bandIndexExp).rename('gain_loss')\n",
    "# masking the image\n",
    "to_vis = image.mask(image.neq(0))\n",
    "\n",
    "# exagerated image overviews for zoomed out views\n",
    "overviews = to_vis.resample('bilinear').unmask().focalMode(3, 'circle', 'pixels', 3).selfMask()\n",
    "# visualization parameters\n",
    "visoptions =  {\"palette\": ['FE4A49', '2AB7CA'], \"min\": 1, \"max\": 2}\n",
    "\n",
    "\n",
    "Map = geemap.Map(center=( 1.3, 103.7), zoom=12, basemap='HYBRID')\n",
    "\n",
    "Map.addLayer(to_vis, visoptions, f\"{dataset}\", True, 1)\n",
    "Map.addLayer(overviews, visoptions, f\"{dataset}\", True, 1)\n"
   ]
  },
  {
   "attachments": {},
   "cell_type": "markdown",
   "metadata": {},
   "source": [
    "#### Export to tiles from GEE to GCS"
   ]
  },
  {
   "cell_type": "code",
   "execution_count": null,
   "metadata": {},
   "outputs": [],
   "source": [
    "task = exportMapTasks(overviews.visualize(**visoptions), f\"{dataset}_overviews\", gcs_bucket, \n",
    "                     region, 1, 6)\n",
    "# Create a list of tasks to export the map tiles\n",
    "task2 = exportMapTasks(to_vis.visualize(**visoptions), dataset, gcs_bucket, \n",
    "                     region, 6, 10)\n",
    "# execute tasks in batches due to gee limits\n",
    "task.start()\n",
    "task2.start()\n"
   ]
  },
  {
   "attachments": {},
   "cell_type": "markdown",
   "metadata": {},
   "source": [
    "### Data Layer: Tidal flats\n",
    "#### Visualize the data prior exporting it"
   ]
  },
  {
   "cell_type": "code",
   "execution_count": 18,
   "metadata": {},
   "outputs": [
    {
     "data": {
      "application/vnd.jupyter.widget-view+json": {
       "model_id": "29b9ef2b93de42e9853a312a2bd3fbbe",
       "version_major": 2,
       "version_minor": 0
      },
      "text/plain": [
       "Map(center=[1.3, 103.7], controls=(WidgetControl(options=['position', 'transparent_bg'], widget=HBox(children=…"
      ]
     },
     "metadata": {},
     "output_type": "display_data"
    }
   ],
   "source": [
    "## Assets selection\n",
    "gcs_bucket = 'mangrove_atlas'\n",
    "\n",
    "dataset = f'tidal_flats_1_2'\n",
    "# Region to export\n",
    "region = ee.Geometry.Polygon([[[-180, 33],[-180, -34],[180, -34],[180, 33]]], None, False);\n",
    "# layer to export\n",
    "# expresion to generate one image with the gain and loss\n",
    "image = ee.Image(\"projects/UQ_intertidal/global_intertidal_v1_2/L5_final_masked/global_intertidal_20172019_v1_2\")\n",
    "\n",
    "# exagerated image overviews for zoomed out views\n",
    "overviews = image.resample('bilinear').unmask().focalMode(1, 'circle', 'pixels', 3).selfMask()\n",
    "# visualization parameters\n",
    "visoptions =  {\"palette\": ['fdb462'], \"min\": 1, \"max\": 1}\n",
    "\n",
    "Map = geemap.Map(center=( 1.3, 103.7), zoom=12, basemap='HYBRID')\n",
    "\n",
    "Map.addLayer(image, visoptions, f\"{dataset}\", True, 1)\n",
    "Map.addLayer(overviews, visoptions, f\"{dataset}_overviews\", True, 1)\n",
    "Map"
   ]
  },
  {
   "attachments": {},
   "cell_type": "markdown",
   "metadata": {},
   "source": [
    "#### Export to tiles from GEE to GCS"
   ]
  },
  {
   "cell_type": "code",
   "execution_count": null,
   "metadata": {},
   "outputs": [],
   "source": [
    "task = exportMapTask(overviews.visualize(**visoptions), f\"{dataset}_overviews\", gcs_bucket, \n",
    "                     region, 1, 6)\n",
    "# Create a list of tasks to export the map tiles\n",
    "task2 = exportMapTask(image.visualize(**visoptions), dataset, gcs_bucket, \n",
    "                     region, 6, 10)\n",
    "# execute tasks in batches due to gee limits\n",
    "task.start()\n",
    "task2.start()"
   ]
  },
  {
   "attachments": {},
   "cell_type": "markdown",
   "metadata": {},
   "source": [
    "### Data Layer: Allen coral Atlas\n",
    "#### Visualize the data prior exporting it"
   ]
  },
  {
   "cell_type": "code",
   "execution_count": 17,
   "metadata": {},
   "outputs": [
    {
     "data": {
      "application/vnd.jupyter.widget-view+json": {
       "model_id": "9d3002c7d0034d1d9193d1ed3cab5f51",
       "version_major": 2,
       "version_minor": 0
      },
      "text/plain": [
       "Map(center=[1.3, 103.7], controls=(WidgetControl(options=['position', 'transparent_bg'], widget=HBox(children=…"
      ]
     },
     "metadata": {},
     "output_type": "display_data"
    }
   ],
   "source": [
    "## Assets selection\n",
    "gcs_bucket = 'mangrove_atlas'\n",
    "\n",
    "dataset = f'allen_coral_atlas_v2'\n",
    "# Region to export\n",
    "region = ee.Geometry.Polygon([[[-180, 33],[-180, -34],[180, -34],[180, 33]]], None, False);\n",
    "# layer to export\n",
    "\n",
    "image = ee.Image(\"ACA/reef_habitat/v2_0\").select(\"reef_mask\")\n",
    "\n",
    "# exagerated image overviews for zoomed out views\n",
    "overviews = image.resample('bilinear').unmask().focalMode(3, 'circle', 'pixels', 3).selfMask()\n",
    "# visualization parameters\n",
    "visoptions =  {\"palette\": [ 'bc80bd'], \"min\": 1, \"max\": 1}\n",
    "\n",
    "\n",
    "Map = geemap.Map(center=( 1.3, 103.7), zoom=12, basemap='HYBRID')\n",
    "\n",
    "Map.addLayer(image, visoptions, f\"{dataset}\", True, 1)\n",
    "Map.addLayer(overviews, visoptions, f\"{dataset}_overviews\", True, 1)\n",
    "Map"
   ]
  },
  {
   "attachments": {},
   "cell_type": "markdown",
   "metadata": {},
   "source": [
    "#### Export to tiles from GEE to GCS"
   ]
  },
  {
   "cell_type": "code",
   "execution_count": null,
   "metadata": {},
   "outputs": [],
   "source": [
    "task = exportMapTask(overviews.visualize(**visoptions), f\"{dataset}_overviews\", gcs_bucket, \n",
    "                     region, 1, 6)\n",
    "# Create a list of tasks to export the map tiles\n",
    "task2 = exportMapTask(image.visualize(**visoptions), dataset, gcs_bucket, \n",
    "                     region, 6, 10)\n",
    "# execute tasks in batches due to gee limits\n",
    "task.start()\n",
    "task2.start()\n"
   ]
  }
 ],
 "metadata": {
  "interpreter": {
   "hash": "31f2aee4e71d21fbe5cf8b01ff0e069b9275f58929596ceb00d14d90e3e16cd6"
  },
  "kernelspec": {
   "display_name": "Python 3 (ipykernel)",
   "language": "python",
   "name": "python3"
  },
  "language_info": {
   "codemirror_mode": {
    "name": "ipython",
    "version": 3
   },
   "file_extension": ".py",
   "mimetype": "text/x-python",
   "name": "python",
   "nbconvert_exporter": "python",
   "pygments_lexer": "ipython3",
   "version": "3.8.6"
  }
 },
 "nbformat": 4,
 "nbformat_minor": 4
}
