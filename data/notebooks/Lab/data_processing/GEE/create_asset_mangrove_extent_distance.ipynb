{
 "cells": [
  {
   "cell_type": "markdown",
   "id": "fbf7c1b1",
   "metadata": {},
   "source": [
    "## Creation of the mangroves extent distance asset"
   ]
  },
  {
   "cell_type": "code",
   "execution_count": 1,
   "id": "c646b942",
   "metadata": {
    "vscode": {
     "languageId": "python"
    }
   },
   "outputs": [],
   "source": [
    "# @deprecated : there is a new method for calculating the coastal length data\n",
    "import os\n",
    "from pathlib import Path\n",
    "import json\n",
    "import ee\n",
    "from typing import List\n",
    "import geemap\n",
    "import geopandas as gpd\n",
    "import shapely.speedups\n",
    "shapely.speedups.enable()\n",
    "%run utils.ipynb"
   ]
  },
  {
   "cell_type": "code",
   "execution_count": null,
   "id": "03aff5d8",
   "metadata": {
    "vscode": {
     "languageId": "python"
    }
   },
   "outputs": [],
   "source": [
    "# Trigger the authentication flow.\n",
    "#ee.ServiceAccountCredentials(EE_ACCOUNT, EE_PRIVATE_KEY_FILE)\n",
    "ee.Authenticate()\n",
    "# Initialize the library.\n",
    "ee.Initialize()"
   ]
  },
  {
   "cell_type": "code",
   "execution_count": 2,
   "id": "59a3a6bb",
   "metadata": {
    "vscode": {
     "languageId": "python"
    }
   },
   "outputs": [
    {
     "ename": "EEException",
     "evalue": "Earth Engine client library not initialized. Run `ee.Initialize()`",
     "output_type": "error",
     "traceback": [
      "\u001b[0;31m---------------------------------------------------------------------------\u001b[0m",
      "\u001b[0;31mEEException\u001b[0m                               Traceback (most recent call last)",
      "Input \u001b[0;32mIn [2]\u001b[0m, in \u001b[0;36m<cell line: 19>\u001b[0;34m()\u001b[0m\n\u001b[1;32m     10\u001b[0m dataset \u001b[38;5;241m=\u001b[39m \u001b[38;5;124m'\u001b[39m\u001b[38;5;124mmangrove_blue_carbon\u001b[39m\u001b[38;5;124m'\u001b[39m\n\u001b[1;32m     12\u001b[0m \u001b[38;5;66;03m# GOOGLE CLOUD STORAGE PATHS\u001b[39;00m\n\u001b[1;32m     13\u001b[0m \n\u001b[1;32m     14\u001b[0m \n\u001b[0;32m   (...)\u001b[0m\n\u001b[1;32m     17\u001b[0m \n\u001b[1;32m     18\u001b[0m \u001b[38;5;66;03m# SET EXPORT REGION\u001b[39;00m\n\u001b[0;32m---> 19\u001b[0m region \u001b[38;5;241m=\u001b[39m \u001b[43mee\u001b[49m\u001b[38;5;241;43m.\u001b[39;49m\u001b[43mGeometry\u001b[49m\u001b[38;5;241;43m.\u001b[39;49m\u001b[43mPolygon\u001b[49m\u001b[43m(\u001b[49m\u001b[43m[\u001b[49m\u001b[43m[\u001b[49m\u001b[43m[\u001b[49m\u001b[38;5;241;43m-\u001b[39;49m\u001b[38;5;241;43m180\u001b[39;49m\u001b[43m,\u001b[49m\u001b[43m \u001b[49m\u001b[38;5;241;43m33\u001b[39;49m\u001b[43m]\u001b[49m\u001b[43m,\u001b[49m\u001b[43m[\u001b[49m\u001b[38;5;241;43m-\u001b[39;49m\u001b[38;5;241;43m180\u001b[39;49m\u001b[43m,\u001b[49m\u001b[43m \u001b[49m\u001b[38;5;241;43m-\u001b[39;49m\u001b[38;5;241;43m34\u001b[39;49m\u001b[43m]\u001b[49m\u001b[43m,\u001b[49m\u001b[43m[\u001b[49m\u001b[38;5;241;43m180\u001b[39;49m\u001b[43m,\u001b[49m\u001b[43m \u001b[49m\u001b[38;5;241;43m-\u001b[39;49m\u001b[38;5;241;43m34\u001b[39;49m\u001b[43m]\u001b[49m\u001b[43m,\u001b[49m\u001b[43m[\u001b[49m\u001b[38;5;241;43m180\u001b[39;49m\u001b[43m,\u001b[49m\u001b[43m \u001b[49m\u001b[38;5;241;43m33\u001b[39;49m\u001b[43m]\u001b[49m\u001b[43m]\u001b[49m\u001b[43m]\u001b[49m\u001b[43m,\u001b[49m\u001b[43m \u001b[49m\u001b[38;5;28;43;01mNone\u001b[39;49;00m\u001b[43m,\u001b[49m\u001b[43m \u001b[49m\u001b[38;5;28;43;01mFalse\u001b[39;49;00m\u001b[43m)\u001b[49m\n",
      "File \u001b[0;32m/opt/conda/lib/python3.8/site-packages/ee/geometry.py:515\u001b[0m, in \u001b[0;36mGeometry.Polygon\u001b[0;34m(coords, proj, geodesic, maxError, evenOdd, *args)\u001b[0m\n\u001b[1;32m    483\u001b[0m \u001b[38;5;124;03m\"\"\"Constructs an ee.Geometry describing a polygon.\u001b[39;00m\n\u001b[1;32m    484\u001b[0m \n\u001b[1;32m    485\u001b[0m \u001b[38;5;124;03mArgs:\u001b[39;00m\n\u001b[0;32m   (...)\u001b[0m\n\u001b[1;32m    511\u001b[0m \u001b[38;5;124;03m  An ee.Geometry describing a polygon.\u001b[39;00m\n\u001b[1;32m    512\u001b[0m \u001b[38;5;124;03m\"\"\"\u001b[39;00m\n\u001b[1;32m    513\u001b[0m all_args \u001b[38;5;241m=\u001b[39m Geometry\u001b[38;5;241m.\u001b[39m_GetSpecifiedArgs((coords, proj, geodesic, maxError,\n\u001b[1;32m    514\u001b[0m                                        evenOdd) \u001b[38;5;241m+\u001b[39m args)\n\u001b[0;32m--> 515\u001b[0m \u001b[38;5;28;01mreturn\u001b[39;00m Geometry(\u001b[43mGeometry\u001b[49m\u001b[38;5;241;43m.\u001b[39;49m\u001b[43m_parseArgs\u001b[49m\u001b[43m(\u001b[49m\u001b[38;5;124;43m'\u001b[39;49m\u001b[38;5;124;43mPolygon\u001b[39;49m\u001b[38;5;124;43m'\u001b[39;49m\u001b[43m,\u001b[49m\u001b[43m \u001b[49m\u001b[38;5;241;43m3\u001b[39;49m\u001b[43m,\u001b[49m\u001b[43m \u001b[49m\u001b[43mall_args\u001b[49m\u001b[43m)\u001b[49m)\n",
      "File \u001b[0;32m/opt/conda/lib/python3.8/site-packages/ee/geometry.py:752\u001b[0m, in \u001b[0;36mGeometry._parseArgs\u001b[0;34m(ctor_name, depth, args)\u001b[0m\n\u001b[1;32m    744\u001b[0m \u001b[38;5;28;01mif\u001b[39;00m (Geometry\u001b[38;5;241m.\u001b[39m_hasServerValue(result[\u001b[38;5;124m'\u001b[39m\u001b[38;5;124mcoordinates\u001b[39m\u001b[38;5;124m'\u001b[39m]) \u001b[38;5;129;01mor\u001b[39;00m\n\u001b[1;32m    745\u001b[0m     result\u001b[38;5;241m.\u001b[39mget(\u001b[38;5;124m'\u001b[39m\u001b[38;5;124mcrs\u001b[39m\u001b[38;5;124m'\u001b[39m) \u001b[38;5;129;01mis\u001b[39;00m \u001b[38;5;129;01mnot\u001b[39;00m \u001b[38;5;28;01mNone\u001b[39;00m \u001b[38;5;129;01mor\u001b[39;00m\n\u001b[1;32m    746\u001b[0m     result\u001b[38;5;241m.\u001b[39mget(\u001b[38;5;124m'\u001b[39m\u001b[38;5;124mgeodesic\u001b[39m\u001b[38;5;124m'\u001b[39m) \u001b[38;5;129;01mis\u001b[39;00m \u001b[38;5;129;01mnot\u001b[39;00m \u001b[38;5;28;01mNone\u001b[39;00m \u001b[38;5;129;01mor\u001b[39;00m\n\u001b[0;32m   (...)\u001b[0m\n\u001b[1;32m    749\u001b[0m   \u001b[38;5;66;03m# Note we don't declare a default evenOdd value, so the server can infer\u001b[39;00m\n\u001b[1;32m    750\u001b[0m   \u001b[38;5;66;03m# a default based on the projection.\u001b[39;00m\n\u001b[1;32m    751\u001b[0m   server_name \u001b[38;5;241m=\u001b[39m \u001b[38;5;124m'\u001b[39m\u001b[38;5;124mGeometryConstructors.\u001b[39m\u001b[38;5;124m'\u001b[39m \u001b[38;5;241m+\u001b[39m ctor_name\n\u001b[0;32m--> 752\u001b[0m   \u001b[38;5;28;01mreturn\u001b[39;00m \u001b[43mapifunction\u001b[49m\u001b[38;5;241;43m.\u001b[39;49m\u001b[43mApiFunction\u001b[49m\u001b[38;5;241;43m.\u001b[39;49m\u001b[43mlookup\u001b[49m\u001b[43m(\u001b[49m\u001b[43mserver_name\u001b[49m\u001b[43m)\u001b[49m\u001b[38;5;241m.\u001b[39mapply(result)\n\u001b[1;32m    753\u001b[0m \u001b[38;5;28;01melse\u001b[39;00m:\n\u001b[1;32m    754\u001b[0m   \u001b[38;5;66;03m# Everything can be handled here, so check the depth and init this object.\u001b[39;00m\n\u001b[1;32m    755\u001b[0m   result[\u001b[38;5;124m'\u001b[39m\u001b[38;5;124mtype\u001b[39m\u001b[38;5;124m'\u001b[39m] \u001b[38;5;241m=\u001b[39m ctor_name\n",
      "File \u001b[0;32m/opt/conda/lib/python3.8/site-packages/ee/apifunction.py:131\u001b[0m, in \u001b[0;36mApiFunction.lookup\u001b[0;34m(cls, name)\u001b[0m\n\u001b[1;32m    121\u001b[0m \u001b[38;5;129m@classmethod\u001b[39m\n\u001b[1;32m    122\u001b[0m \u001b[38;5;28;01mdef\u001b[39;00m \u001b[38;5;21mlookup\u001b[39m(\u001b[38;5;28mcls\u001b[39m, name):\n\u001b[1;32m    123\u001b[0m   \u001b[38;5;124;03m\"\"\"Looks up an API function by name.\u001b[39;00m\n\u001b[1;32m    124\u001b[0m \n\u001b[1;32m    125\u001b[0m \u001b[38;5;124;03m  Args:\u001b[39;00m\n\u001b[0;32m   (...)\u001b[0m\n\u001b[1;32m    129\u001b[0m \u001b[38;5;124;03m    The requested ApiFunction.\u001b[39;00m\n\u001b[1;32m    130\u001b[0m \u001b[38;5;124;03m  \"\"\"\u001b[39;00m\n\u001b[0;32m--> 131\u001b[0m   result \u001b[38;5;241m=\u001b[39m \u001b[38;5;28;43mcls\u001b[39;49m\u001b[38;5;241;43m.\u001b[39;49m\u001b[43mlookupInternal\u001b[49m\u001b[43m(\u001b[49m\u001b[43mname\u001b[49m\u001b[43m)\u001b[49m\n\u001b[1;32m    132\u001b[0m   \u001b[38;5;28;01mif\u001b[39;00m \u001b[38;5;129;01mnot\u001b[39;00m name:\n\u001b[1;32m    133\u001b[0m     \u001b[38;5;28;01mraise\u001b[39;00m ee_exception\u001b[38;5;241m.\u001b[39mEEException(\n\u001b[1;32m    134\u001b[0m         \u001b[38;5;124m'\u001b[39m\u001b[38;5;124mUnknown built-in function name: \u001b[39m\u001b[38;5;132;01m%s\u001b[39;00m\u001b[38;5;124m'\u001b[39m \u001b[38;5;241m%\u001b[39m name)\n",
      "File \u001b[0;32m/opt/conda/lib/python3.8/site-packages/ee/apifunction.py:147\u001b[0m, in \u001b[0;36mApiFunction.lookupInternal\u001b[0;34m(cls, name)\u001b[0m\n\u001b[1;32m    137\u001b[0m \u001b[38;5;129m@classmethod\u001b[39m\n\u001b[1;32m    138\u001b[0m \u001b[38;5;28;01mdef\u001b[39;00m \u001b[38;5;21mlookupInternal\u001b[39m(\u001b[38;5;28mcls\u001b[39m, name):\n\u001b[1;32m    139\u001b[0m   \u001b[38;5;124;03m\"\"\"Looks up an API function by name.\u001b[39;00m\n\u001b[1;32m    140\u001b[0m \n\u001b[1;32m    141\u001b[0m \u001b[38;5;124;03m  Args:\u001b[39;00m\n\u001b[0;32m   (...)\u001b[0m\n\u001b[1;32m    145\u001b[0m \u001b[38;5;124;03m    The requested ApiFunction or None if not found.\u001b[39;00m\n\u001b[1;32m    146\u001b[0m \u001b[38;5;124;03m  \"\"\"\u001b[39;00m\n\u001b[0;32m--> 147\u001b[0m   \u001b[38;5;28;43mcls\u001b[39;49m\u001b[38;5;241;43m.\u001b[39;49m\u001b[43minitialize\u001b[49m\u001b[43m(\u001b[49m\u001b[43m)\u001b[49m\n\u001b[1;32m    148\u001b[0m   \u001b[38;5;28;01mreturn\u001b[39;00m \u001b[38;5;28mcls\u001b[39m\u001b[38;5;241m.\u001b[39m_api\u001b[38;5;241m.\u001b[39mget(name, \u001b[38;5;28;01mNone\u001b[39;00m)\n",
      "File \u001b[0;32m/opt/conda/lib/python3.8/site-packages/ee/apifunction.py:154\u001b[0m, in \u001b[0;36mApiFunction.initialize\u001b[0;34m(cls)\u001b[0m\n\u001b[1;32m    152\u001b[0m \u001b[38;5;124;03m\"\"\"Initializes the list of signatures from the Earth Engine front-end.\"\"\"\u001b[39;00m\n\u001b[1;32m    153\u001b[0m \u001b[38;5;28;01mif\u001b[39;00m \u001b[38;5;129;01mnot\u001b[39;00m \u001b[38;5;28mcls\u001b[39m\u001b[38;5;241m.\u001b[39m_api:\n\u001b[0;32m--> 154\u001b[0m   signatures \u001b[38;5;241m=\u001b[39m \u001b[43mdata\u001b[49m\u001b[38;5;241;43m.\u001b[39;49m\u001b[43mgetAlgorithms\u001b[49m\u001b[43m(\u001b[49m\u001b[43m)\u001b[49m\n\u001b[1;32m    155\u001b[0m   api \u001b[38;5;241m=\u001b[39m {}\n\u001b[1;32m    156\u001b[0m   \u001b[38;5;28;01mfor\u001b[39;00m name, sig \u001b[38;5;129;01min\u001b[39;00m signatures\u001b[38;5;241m.\u001b[39mitems():\n\u001b[1;32m    157\u001b[0m     \u001b[38;5;66;03m# Strip type parameters.\u001b[39;00m\n",
      "File \u001b[0;32m/opt/conda/lib/python3.8/site-packages/ee/data.py:1058\u001b[0m, in \u001b[0;36mgetAlgorithms\u001b[0;34m()\u001b[0m\n\u001b[1;32m   1042\u001b[0m \u001b[38;5;124;03m\"\"\"Get the list of algorithms.\u001b[39;00m\n\u001b[1;32m   1043\u001b[0m \n\u001b[1;32m   1044\u001b[0m \u001b[38;5;124;03mReturns:\u001b[39;00m\n\u001b[0;32m   (...)\u001b[0m\n\u001b[1;32m   1055\u001b[0m \u001b[38;5;124;03m              is not specified.\u001b[39;00m\n\u001b[1;32m   1056\u001b[0m \u001b[38;5;124;03m\"\"\"\u001b[39;00m\n\u001b[1;32m   1057\u001b[0m \u001b[38;5;28;01mtry\u001b[39;00m:\n\u001b[0;32m-> 1058\u001b[0m   call \u001b[38;5;241m=\u001b[39m \u001b[43m_get_cloud_api_resource\u001b[49m\u001b[43m(\u001b[49m\u001b[43m)\u001b[49m\u001b[38;5;241m.\u001b[39mprojects()\u001b[38;5;241m.\u001b[39malgorithms()\u001b[38;5;241m.\u001b[39mlist(\n\u001b[1;32m   1059\u001b[0m       parent\u001b[38;5;241m=\u001b[39m_get_projects_path(), prettyPrint\u001b[38;5;241m=\u001b[39m\u001b[38;5;28;01mFalse\u001b[39;00m)\n\u001b[1;32m   1060\u001b[0m \u001b[38;5;28;01mexcept\u001b[39;00m \u001b[38;5;167;01mTypeError\u001b[39;00m:\n\u001b[1;32m   1061\u001b[0m   call \u001b[38;5;241m=\u001b[39m _get_cloud_api_resource()\u001b[38;5;241m.\u001b[39mprojects()\u001b[38;5;241m.\u001b[39malgorithms()\u001b[38;5;241m.\u001b[39mlist(\n\u001b[1;32m   1062\u001b[0m       project\u001b[38;5;241m=\u001b[39m_get_projects_path(), prettyPrint\u001b[38;5;241m=\u001b[39m\u001b[38;5;28;01mFalse\u001b[39;00m)\n",
      "File \u001b[0;32m/opt/conda/lib/python3.8/site-packages/ee/data.py:282\u001b[0m, in \u001b[0;36m_get_cloud_api_resource\u001b[0;34m()\u001b[0m\n\u001b[1;32m    280\u001b[0m \u001b[38;5;28;01mdef\u001b[39;00m \u001b[38;5;21m_get_cloud_api_resource\u001b[39m():\n\u001b[1;32m    281\u001b[0m   \u001b[38;5;28;01mif\u001b[39;00m _cloud_api_resource \u001b[38;5;129;01mis\u001b[39;00m \u001b[38;5;28;01mNone\u001b[39;00m:\n\u001b[0;32m--> 282\u001b[0m     \u001b[38;5;28;01mraise\u001b[39;00m ee_exception\u001b[38;5;241m.\u001b[39mEEException(\n\u001b[1;32m    283\u001b[0m         \u001b[38;5;124m'\u001b[39m\u001b[38;5;124mEarth Engine client library not initialized. Run `ee.Initialize()`\u001b[39m\u001b[38;5;124m'\u001b[39m)\n\u001b[1;32m    284\u001b[0m   \u001b[38;5;28;01mreturn\u001b[39;00m _cloud_api_resource\n",
      "\u001b[0;31mEEException\u001b[0m: Earth Engine client library not initialized. Run `ee.Initialize()`"
     ]
    }
   ],
   "source": [
    "# LOCAL PATHS\n",
    "#  FIXME: This will depends from where the notebook kernel is running so be careful\n",
    "WORK_DIR =Path(os.getcwd())\n",
    "BASE_DIR = f'{WORK_DIR.parents[3]}/datasets/raw'\n",
    "\n",
    "# @TODO: Add expected data files source as an environment variable.\n",
    "assert BASE_DIR == '/home/jovyan/work/datasets/raw', f'{BASE_DIR} is not the correct directory'\n",
    "\n",
    "# variables\n",
    "dataset = 'mangrove_blue_carbon'\n",
    "\n",
    "# GOOGLE CLOUD STORAGE PATHS\n",
    "\n",
    "\n",
    "# GOOGLE EARTH ENGINE ASSET PATHS\n",
    "\n",
    "\n",
    "# SET EXPORT REGION\n",
    "region = ee.Geometry.Polygon([[[-180, 33],[-180, -34],[180, -34],[180, 33]]], None, False)"
   ]
  },
  {
   "cell_type": "code",
   "execution_count": null,
   "id": "308c2805",
   "metadata": {
    "vscode": {
     "languageId": "python"
    }
   },
   "outputs": [],
   "source": [
    "  # CALCULATIONS, derived from mangrove extent dataset\n",
    "def calculateLinearDistance(im: ee.Image, maxDistance: int) -> ee.Image:\n",
    "\n",
    "    dist_pixels = im.fastDistanceTransform(\n",
    "                        maxDistance, 'pixels', 'squared_euclidean'\n",
    "                    ).sqrt()\n",
    "    pixel_size_m = im.pixelArea().sqrt()\n",
    "    \n",
    "    return dist_pixels.multiply(pixel_size_m)\n",
    "\n",
    "def calc_dist(imageCollection: ee.ImageCollection, year: int, image_properties: ImageProperties, run_task: bool):\n",
    "    # time_start\n",
    "    ts = ee.Date.fromYMD(year, 1, 1)\n",
    "    # get image\n",
    "    image = ee.Image(imageCollection.filterDate(ts).first()).selfMask()\n",
    "    # calculate distance\n",
    "    dist = calculateLinearDistance(image, 256)\n",
    "    \n",
    "    # mask to 65km and convert to uint16\n",
    "    dist = dist.rename(image_properties.band_name\n",
    "    ).updateMask(dist.lte(65000)\n",
    "    ).uint16(\n",
    "    ).set({\n",
    "      'system:time_start': ts\n",
    "        }\n",
    "    ).set(image_properties)\n",
    "\n",
    "    # Export params\n",
    "    year_string = ee.Number(year).format()\n",
    "    nm = ee.String(\"gl_\").cat(year_string).cat(\"_\").cat('distance').getInfo()\n",
    "    ns = image.projection().nominalScale().getInfo()\n",
    "    \n",
    "    # EXPORT TO IMAGE COLLECTION\n",
    "    params = {\n",
    "        'image': dist,\n",
    "        'description': f\"export_{nm}\",\n",
    "        'assetId': f'projects/global-mangrove-watch/land-cover/mangrove-extent-distance_version-2-0_1996--2016/{nm}',\n",
    "        'pyramidingPolicy':{image_properties.band_names: image_properties.band_pyramiding_policies},\n",
    "        'scale': ns,\n",
    "        'crs': 'EPSG:4326',\n",
    "        'region': region,\n",
    "        'maxPixels': 1e13\n",
    "      \n",
    "    }\n",
    "    task = ee.batch.Export.image.toAsset(**params)\n",
    "    \n",
    "    if debug == False:\n",
    "        task.start()\n",
    "        print(task.status())\n",
    "    \n",
    "    return 'true'\n",
    "\n",
    "def createLinearDistanceAsset(extent: ee.ImageCollection, image_collection_properties: ImageCollectionProperties, run_task: bool):\n",
    "    \"\"\"\n",
    "    Calculate the linear distance of a geometry.\n",
    "    \"\"\"\n",
    "    # Loop through year list\n",
    "    for year in year_list:\n",
    "        calc_dist(year, run_task)\n",
    "    return geometry.length"
   ]
  },
  {
   "cell_type": "code",
   "execution_count": null,
   "id": "1be9b483",
   "metadata": {
    "vscode": {
     "languageId": "python"
    }
   },
   "outputs": [],
   "source": []
  }
 ],
 "metadata": {
  "kernelspec": {
   "display_name": "Python 3 (ipykernel)",
   "language": "python",
   "name": "python3"
  }
 },
 "nbformat": 4,
 "nbformat_minor": 5
}
