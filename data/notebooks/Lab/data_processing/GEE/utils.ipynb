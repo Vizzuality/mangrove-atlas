{
 "cells": [
  {
   "cell_type": "markdown",
   "metadata": {},
   "source": [
    "# Global Mangrove Watch Utils"
   ]
  },
  {
   "cell_type": "markdown",
   "metadata": {},
   "source": [
    "Functions used across notebooks"
   ]
  },
  {
   "cell_type": "code",
   "execution_count": null,
   "metadata": {
    "vscode": {
     "languageId": "python"
    }
   },
   "outputs": [],
   "source": [
    "import subprocess\n",
    "import json\n",
    "import math\n",
    "\n",
    "from pydantic import BaseModel, PrivateAttr\n",
    "from typing import List, Union, Dict, Optional\n",
    "from enum import Enum\n",
    "from google.cloud import storage\n",
    "from pathlib import Path\n",
    "import ee\n",
    "import sys\n",
    "\n",
    "if sys.version_info >= (3, 9):\n",
    "    from typing import TypedDict, Literal, overload  # pylint: disable=no-name-in-module\n",
    "else:\n",
    "    from typing_extensions import TypedDict, Literal\n",
    "\n",
    "import logging\n",
    "logging.basicConfig(level=logging.INFO)\n"
   ]
  },
  {
   "cell_type": "code",
   "execution_count": null,
   "metadata": {
    "vscode": {
     "languageId": "python"
    }
   },
   "outputs": [],
   "source": [
    "pyramiding_policy = Literal[\"MEAN\",\"MODE\",\"SAMPLE\"]\n",
    "gee_assets_type = Literal[\"table\", \"image\"]\n",
    "\n",
    "class TableProperties(BaseModel):\n",
    "    name: str\n",
    "    version: str\n",
    "    creator: str\n",
    "    description: str\n",
    "    identifier: str\n",
    "    keywords: str\n",
    "    citation: str\n",
    "    license: str\n",
    "    url: str\n",
    "    language: str\n",
    "    altName: str\n",
    "    distribution: str\n",
    "    variableMeasured: str\n",
    "    units: str\n",
    "    spatialCoverage: str\n",
    "    temporalCoverage: str\n",
    "    dataLineage: str\n",
    "\n",
    "class ImageCollectionProperties(BaseModel):\n",
    "    name: str\n",
    "    version: str\n",
    "    creator: str\n",
    "    description: str\n",
    "    identifier: str\n",
    "    keywords: str\n",
    "    citation: str\n",
    "    license: str\n",
    "    url: str\n",
    "    language: str\n",
    "    altName: str\n",
    "    distribution: str\n",
    "    variableMeasured: str\n",
    "    units: str\n",
    "    spatialCoverage: str\n",
    "    temporalCoverage: str\n",
    "    dataLineage: str\n",
    "\n",
    "class ImageProperties(BaseModel):\n",
    "    band_nodata_values: str\n",
    "    band_pyramiding_policies: pyramiding_policy\n",
    "    band_names: str\n",
    "    year: Optional[int]"
   ]
  },
  {
   "cell_type": "code",
   "execution_count": null,
   "metadata": {
    "vscode": {
     "languageId": "python"
    }
   },
   "outputs": [],
   "source": [
    "class Sources(BaseModel):\n",
    "    uris: List[str]\n",
    "    affine_transform: Optional[dict]\n",
    "\n",
    "class Tilesets(BaseModel):\n",
    "    data_type: Optional[str]\n",
    "    id: Optional[str]\n",
    "    crs: Optional[str]\n",
    "    sources: List[Sources]\n",
    "\n",
    "class TimeGEE(BaseModel):\n",
    "    seconds: str\n",
    "\n",
    "\n",
    "class GEEManifest(BaseModel):\n",
    "    path: Path\n",
    "    name: str\n",
    "    tilesets: List[Tilesets]\n",
    "    bands: Optional[List[Dict]] = None\n",
    "    mask_bands: Optional[List[str]] = None\n",
    "    footprint: Optional[Dict] = None\n",
    "    missing_data: Optional[Dict] = None\n",
    "    pyramiding_policy: Optional[pyramiding_policy]\n",
    "    uri_prefix: str\n",
    "    start_time: Union[str,TimeGEE]\n",
    "    end_time: Union[str,TimeGEE]\n",
    "    properties: Union[TableProperties, ImageProperties]\n",
    "\n",
    "    class Config:\n",
    "        underscore_attrs_are_private = True"
   ]
  },
  {
   "cell_type": "code",
   "execution_count": null,
   "metadata": {
    "vscode": {
     "languageId": "python"
    }
   },
   "outputs": [],
   "source": [
    "def execute_command(cmd: str) -> int:\n",
    "    \"\"\"Executes a command and returns the exit code.\n",
    "    \n",
    "    Args:\n",
    "        cmd: The command to execute.\n",
    "    \n",
    "    Returns:\n",
    "        The exit code of the command.\n",
    "    \"\"\"\n",
    "    r = subprocess.call(cmd, shell=True)\n",
    "    if r == 0:\n",
    "        logging.info(\"Task created\")\n",
    "    else:\n",
    "        logging.error(f\"Error creating task: {r}\")\n",
    "    return r"
   ]
  },
  {
   "cell_type": "code",
   "execution_count": null,
   "metadata": {
    "vscode": {
     "languageId": "python"
    }
   },
   "outputs": [],
   "source": [
    "# GC storage blob management.\n",
    "def list_gcs(bucket_name: str, dir_path: str, file_pattern: str = \"*\"):\n",
    "    ''' Creates a list of blobs from a gcs bucket.\n",
    "\n",
    "    Args:\n",
    "        bucket: The bucket to list\n",
    "        dir_path: The path to the directory to list\n",
    "        file_pattern: The file pattern to match\n",
    "\n",
    "    Returns:\n",
    "        A list of full paths\n",
    "    \n",
    "    example:\n",
    "        list_gcs(\"bucket\", \"dir\", \"*.csv\")\n",
    "\n",
    "    '''\n",
    "    p = f\"{dir_path}/{file_pattern}\"\n",
    "    logging.info(f\"Searching {p}\")\n",
    "\n",
    "    # storage_client = storage.Client.from_service_account_json(<path to service account>)\n",
    "    storage_client = storage.Client()\n",
    "\n",
    "        # Note: Client.list_blobs requires at least package version 1.17.0.\n",
    "    blobs = storage_client.list_blobs(bucket_name, prefix=dir_path, delimiter=file_pattern, include_trailing_delimiter=True)\n",
    "\n",
    "    return blobs\n",
    "\n",
    "def download_blob(bucket_name: str, source_blob_name: str, destination_file_name: str) -> str:\n",
    "    \"\"\"Downloads a blob from the bucket.\n",
    "    \n",
    "    args:\n",
    "        bucket_name: The bucket to download from. \"your-bucket-name\"\n",
    "        source_blob_name: The name of the blob to download. \"storage-object-name\"\n",
    "        destination_file_name: The name of the file to download to \"local/path/to/file\".\n",
    "\n",
    "    returns:\n",
    "        The path to the downloaded file.\n",
    "    \"\"\"\n",
    "    # storage_client = storage.Client.from_service_account_json(<path to service account>)\n",
    "    \n",
    "    storage_client = storage.Client()\n",
    "\n",
    "    bucket = storage_client.bucket(bucket_name)\n",
    "\n",
    "    # Construct a client side representation of a blob.\n",
    "    # Note `Bucket.blob` differs from `Bucket.get_blob` as it doesn't retrieve\n",
    "    # any content from Google Cloud Storage. As we don't need additional data,\n",
    "    # using `Bucket.blob` is preferred here.\n",
    "    blob = bucket.blob(source_blob_name)\n",
    "    blob.download_to_filename(destination_file_name)\n",
    "\n",
    "    logging.info(\n",
    "        f\"Downloaded storage object {source_blob_name} \\\n",
    "        from bucket {bucket_name} to local file {destination_file_name}.\"\n",
    "    )\n",
    "    return destination_file_name\n",
    "\n",
    "def upload_blob(bucket_name: str, source_file_name: str, destination_blob_name: str) -> str:\n",
    "    \"\"\"Uploads a file to the bucket.\n",
    "    \n",
    "    Args:\n",
    "        bucket_name: The bucket to upload to. \"your-bucket-name\"\n",
    "        source_file_name: The path to the file to upload. \"local/path/to/file\"\n",
    "        destination_blob_name: The name of the blob to upload to. \"storage-object-name\"\n",
    "    \n",
    "    Returns:\n",
    "        The public url of the uploaded file.\n",
    "    \n",
    "    \"\"\"\n",
    "    # storage_client = storage.Client.from_service_account_json(<path to service account>)\n",
    "    storage_client = storage.Client() \n",
    "    \n",
    "    bucket = storage_client.bucket(bucket_name)\n",
    "    blob = bucket.blob(destination_blob_name)\n",
    "\n",
    "    blob.upload_from_filename(source_file_name)\n",
    "\n",
    "    logging.info(\n",
    "        f\"File {source_file_name} uploaded to {destination_blob_name}\"\n",
    "    )\n",
    "    return destination_blob_name"
   ]
  },
  {
   "cell_type": "code",
   "execution_count": null,
   "metadata": {
    "vscode": {
     "languageId": "python"
    }
   },
   "outputs": [],
   "source": [
    "def copy_folder_gcs(source: str, dest: str, opts: str=\"\")-> None:\n",
    "    \"\"\"\n",
    "    Use gsutil to copy each corresponding item in source_list\n",
    "    to dest_list.\n",
    "\n",
    "    Args:\n",
    "        source: The source folder to copy from.\n",
    "        dest: The destination folder to copy to.\n",
    "        opts: The options to pass to gsutil.\n",
    "\n",
    "    Example:\n",
    "    copy_gcs(\"gs://my-bucket/folder\", \".\")\n",
    "    \"\"\"\n",
    "    cmd = f\"gsutil -m cp -r {opts} '{source}' '{dest}'\"\n",
    "    execute_command(cmd)"
   ]
  },
  {
   "cell_type": "markdown",
   "metadata": {},
   "source": [
    "### Update GEE Asset properties"
   ]
  },
  {
   "cell_type": "code",
   "execution_count": null,
   "metadata": {
    "vscode": {
     "languageId": "python"
    }
   },
   "outputs": [],
   "source": [
    "def createEEManifest(manifest: GEEManifest, file_path: Path)-> Path:\n",
    "    \"\"\"\n",
    "    Use gsutil to copy each corresponding item in source_list\n",
    "    to dest_list.\n",
    "\n",
    "    Args:\n",
    "        source: The source folder to copy from.\n",
    "        dest: The destination folder to copy to.\n",
    "        opts: The options to pass to gsutil.\n",
    "\n",
    "    Example:\n",
    "    copy_gcs(\"gs://my-bucket/folder\", \".\")\n",
    "    \"\"\"\n",
    "    with open(file_path, 'w') as f:\n",
    "        f.write(manifest.json(exclude_none=True, indent=2, exclude={'path'}))\n",
    "    \n",
    "    return file_path\n",
    "\n",
    "# we should be able to use the manifest to create the task with ee.data.startIngestion\n",
    "def uploadAssetEE(asset_type: gee_assets_type, manifest: GEEManifest)-> Path:\n",
    "    \"\"\"\n",
    "    Use gsutil to copy each corresponding item in source_list\n",
    "    to dest_list.\n",
    "\n",
    "    Args:\n",
    "        asset_type: The type of asset to upload.\n",
    "        manifest: The manifest to upload.\n",
    "\n",
    "    Example:\n",
    "    uploadAssetEE(\"table\", manifest)\n",
    "    \"\"\"\n",
    "    try:\n",
    "        manifest_path = manifest.path\n",
    "        cmd = f\"earthengine upload {asset_type} --manifest {manifest_path}\"\n",
    "\n",
    "        createEEManifest(manifest, manifest_path)\n",
    "        execute_command(cmd)\n",
    "        return manifest_path\n",
    "\n",
    "    except Exception as e:\n",
    "        logging.error(f\"Error uploading asset {manifest.name}\")\n",
    "        logging.error(e)\n",
    "        raise e"
   ]
  },
  {
   "cell_type": "markdown",
   "metadata": {},
   "source": [
    "### Crerate GEE Image collection"
   ]
  },
  {
   "cell_type": "code",
   "execution_count": null,
   "metadata": {
    "vscode": {
     "languageId": "python"
    }
   },
   "outputs": [],
   "source": [
    "# @deprecate: use `get_table_properties` instead\n",
    "# TODO: use the programatic way of doing this\n",
    "def createImageCollection(ee_asset_path: Path, \n",
    "                        properties: ImageCollectionProperties, \n",
    "                        image_list: List[GEEManifest]):\n",
    "    \"\"\"\n",
    "    Create an image collection from a list of images.\n",
    "    \"\"\"\n",
    "    try:\n",
    "        # Creates the image collection\n",
    "        ee.data.createAsset({\"type\":\"ImageCollection\"}, ee_asset_path, properties.dict(exclude_none=True))\n",
    "        logging.info(f\"Created image collection {ee_asset_path}\")\n",
    "\n",
    "        # Creates the uploads for each image in the collection\n",
    "        for image in image_list:\n",
    "            uploadAssetEE(\"image\", image)\n",
    "            logging.info(f\"Upload image {image.name}\")\n",
    "\n",
    "    except Exception as e:\n",
    "        logging.error(f\"Error creating collection {ee_asset_path}\")\n",
    "        logging.error(e)\n",
    "        raise e"
   ]
  },
  {
   "cell_type": "code",
   "execution_count": null,
   "metadata": {
    "vscode": {
     "languageId": "python"
    }
   },
   "outputs": [],
   "source": [
    "def addImagesToCollection(image_collection_path: Path, image_list: List[GEEManifest]):\n",
    "    \"\"\"\n",
    "    Add images to an image collection.\n",
    "    \"\"\"\n",
    "    try:\n",
    "        for image in image_list:\n",
    "            uploadAssetEE(\"image\", image)\n",
    "            logging.info(f\"Upload image {image.name}\")\n",
    "            \n",
    "    except Exception as e:\n",
    "        \n",
    "        raise e"
   ]
  },
  {
   "cell_type": "code",
   "execution_count": null,
   "metadata": {
    "vscode": {
     "languageId": "python"
    }
   },
   "outputs": [],
   "source": [
    "def exportMapTasks(asset: ee.ImageCollection, asset_name: str, gcbucket: str, years: list,\n",
    "                region: ee.Geometry, style: str, min_zoom: int, max_zoom: int, \n",
    "                env: str = 'staging', key: str = 'year'):\n",
    "    \"\"\"\n",
    "    Export the data to GEE.\n",
    "\n",
    "    Parameters\n",
    "    ----------\n",
    "    asset : ee.Image\n",
    "        The image to export.\n",
    "    asset_name : str\n",
    "        The name of the asset.\n",
    "    gcbucket : str\n",
    "        The name of the GCS bucket.\n",
    "    geometry_collection : ee.GeometryCollection\n",
    "        The geometry collection to export the data.\n",
    "    \n",
    "    Returns\n",
    "    -------\n",
    "    List of tasks\n",
    "    \"\"\"\n",
    "    taskList = []\n",
    "    \n",
    "    # TODO: improve this loop\n",
    "    for year in years:\n",
    "        task = ee.batch.Export.map.toCloudStorage(\n",
    "            image = ee.Image(asset.filterMetadata(key, 'equals', year).first()\n",
    "                    ).sldStyle(style),\n",
    "            description = f'{asset_name}_{year}',\n",
    "            path = f'{env}/tilesets/{asset_name}/{year}',\n",
    "            bucket = gcbucket,\n",
    "            minZoom = min_zoom,\n",
    "            maxZoom = max_zoom,\n",
    "            writePublicTiles = False,\n",
    "            skipEmptyTiles = True,\n",
    "            fileFormat = 'png',\n",
    "            region = region\n",
    "            )\n",
    "        taskList.append(task)\n",
    "    \n",
    "    return taskList"
   ]
  },
  {
   "cell_type": "code",
   "execution_count": null,
   "metadata": {
    "vscode": {
     "languageId": "python"
    }
   },
   "outputs": [],
   "source": [
    "def batchExecute(taskList: list, batch_size: int = 20):\n",
    "    \"\"\"\n",
    "    Execute the tasks in the list in baches of 20 as is the max allowed by GEE. \n",
    "    each task takes about 10 min to execute.\n",
    "    \"\"\"\n",
    "    n_tasks = len(taskList)\n",
    "    n_batches = math.ceil(n_tasks / batch_size)\n",
    "    \n",
    "    for i in range(n_batches):\n",
    "        for task in taskList[i*batch_size:(i+1)*batch_size]:\n",
    "            task.start()\n",
    "\n",
    "    return taskList"
   ]
  }
 ],
 "metadata": {
  "kernelspec": {
   "display_name": "Python 3 (ipykernel)",
   "language": "python",
   "name": "python3"
  },
  "language_info": {
   "codemirror_mode": {
    "name": "ipython",
    "version": 3
   },
   "file_extension": ".py",
   "mimetype": "text/x-python",
   "name": "python",
   "nbconvert_exporter": "python",
   "pygments_lexer": "ipython3",
   "version": "3.8.6"
  }
 },
 "nbformat": 4,
 "nbformat_minor": 4
}
