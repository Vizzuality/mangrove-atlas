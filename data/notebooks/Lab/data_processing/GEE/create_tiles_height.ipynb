{
 "cells": [
  {
   "cell_type": "markdown",
   "metadata": {},
   "source": [
    "# export tiles for gain and loss\n",
    "Based on [ee code](https://code.earthengine.google.com/8423c718d647f15ab3e9c31868489fd4?noload=true)"
   ]
  },
  {
   "cell_type": "code",
   "execution_count": 99,
   "metadata": {},
   "outputs": [],
   "source": [
    "import ee\n",
    "import geemap\n",
    "%run utils.ipynb"
   ]
  },
  {
   "cell_type": "code",
   "execution_count": 2,
   "metadata": {},
   "outputs": [
    {
     "data": {
      "text/html": [
       "<p>To authorize access needed by Earth Engine, open the following\n",
       "        URL in a web browser and follow the instructions:</p>\n",
       "        <p><a href=https://code.earthengine.google.com/client-auth?scopes=https%3A//www.googleapis.com/auth/earthengine%20https%3A//www.googleapis.com/auth/devstorage.full_control&request_id=96tCfGh7BxVTRCtELtP3UImNjK1utgaFFzSfWt2DJlM&tc=-2OdKh8yxLqr6r1DroMe4Z6493L78sxli8SSURlHAPw&cc=vs7M7KkFs25pyaOeILWNzZWut6EFP8A8c9ur9WkyXgI>https://code.earthengine.google.com/client-auth?scopes=https%3A//www.googleapis.com/auth/earthengine%20https%3A//www.googleapis.com/auth/devstorage.full_control&request_id=96tCfGh7BxVTRCtELtP3UImNjK1utgaFFzSfWt2DJlM&tc=-2OdKh8yxLqr6r1DroMe4Z6493L78sxli8SSURlHAPw&cc=vs7M7KkFs25pyaOeILWNzZWut6EFP8A8c9ur9WkyXgI</a></p>\n",
       "        <p>The authorization workflow will generate a code, which you should paste in the box below.</p>\n",
       "        "
      ],
      "text/plain": [
       "<IPython.core.display.HTML object>"
      ]
     },
     "metadata": {},
     "output_type": "display_data"
    },
    {
     "name": "stdout",
     "output_type": "stream",
     "text": [
      "\n",
      "Successfully saved authorization token.\n"
     ]
    }
   ],
   "source": [
    "# Trigger the authentication flow.\n",
    "# ee.ServiceAccountCredentials(EE_ACCOUNT, EE_PRIVATE_KEY_FILE)\n",
    "ee.Authenticate()"
   ]
  },
  {
   "cell_type": "code",
   "execution_count": 88,
   "metadata": {},
   "outputs": [],
   "source": [
    "# Initialize the library.\n",
    "ee.Initialize()"
   ]
  },
  {
   "cell_type": "markdown",
   "metadata": {},
   "source": [
    "### Data Assets"
   ]
  },
  {
   "cell_type": "code",
   "execution_count": 105,
   "metadata": {},
   "outputs": [],
   "source": [
    "## Assets selection\n",
    "gcs_bucket = 'mangrove_atlas'\n",
    "version = 'v3'\n",
    "dataset = f'mangrove_canopy_height-{version}'\n",
    "data_year_range = [2007, 2008, 2009, 2010, 2015, 2016, 2017, 2018, 2019, 2020]\n",
    "# region for export\n",
    "region = ee.Geometry.Polygon([[[-180, 33],[-180, -34],[180, -34],[180, 33]]], None, False);\n",
    "# gain\n",
    "imageCollection = ee.ImageCollection(\n",
    "    f\"projects/global-mangrove-watch/mangrove-properties/{dataset}\")"
   ]
  },
  {
   "cell_type": "code",
   "execution_count": 106,
   "metadata": {},
   "outputs": [],
   "source": [
    "# styles\n",
    "color_ramp ='''\n",
    "    <RasterSymbolizer>\n",
    "    <ColorMap type=\"ramp\" extended=\"false\" >\n",
    "      <ColorMapEntry color=\"#C9BB42\" quantity=\"0\" label=\"0--5m\" />\n",
    "      <ColorMapEntry color=\"#8BA205\" quantity=\"5\" label=\"5--10m\" />\n",
    "      <ColorMapEntry color=\"#428710\" quantity=\"10\" label=\"10--15m\" />\n",
    "      <ColorMapEntry color=\"#0A6624\" quantity=\"15\" label=\"15--20m\" />\n",
    "      <ColorMapEntry color=\"#103C1F\" quantity=\"20\" label=\">20m\" />\n",
    "    </ColorMap>\n",
    "  </RasterSymbolizer>\n",
    "'''"
   ]
  },
  {
   "cell_type": "markdown",
   "metadata": {},
   "source": [
    "### Vizualize the data prior exporting it"
   ]
  },
  {
   "cell_type": "code",
   "execution_count": 108,
   "metadata": {},
   "outputs": [
    {
     "data": {
      "application/vnd.jupyter.widget-view+json": {
       "model_id": "ba9eaed3b54148218155b97007596cb8",
       "version_major": 2,
       "version_minor": 0
      },
      "text/plain": [
       "Map(center=[-5, 39], controls=(WidgetControl(options=['position', 'transparent_bg'], widget=HBox(children=(Tog…"
      ]
     },
     "metadata": {},
     "output_type": "display_data"
    }
   ],
   "source": [
    "Map = geemap.Map(center=(-5, 39), zoom=12, basemap='HYBRID')\n",
    "\n",
    "Map.addLayer(imageCollection.first().sldStyle(color_ramp), {}, dataset, True, 0.5)\n",
    "display(Map)"
   ]
  },
  {
   "cell_type": "markdown",
   "metadata": {},
   "source": [
    "### Export to tiles from GEE to GCS"
   ]
  },
  {
   "cell_type": "code",
   "execution_count": null,
   "metadata": {},
   "outputs": [],
   "source": [
    "# Create a list of tasks to export the map tiles\n",
    "tasks_list = exportMapTasks(imageCollection, dataset, gcs_bucket, \n",
    "                        data_year_range, region, color_ramp, 0, 12)"
   ]
  },
  {
   "cell_type": "code",
   "execution_count": null,
   "metadata": {},
   "outputs": [],
   "source": [
    "batchExecute(tasks_list)"
   ]
  }
 ],
 "metadata": {
  "interpreter": {
   "hash": "31f2aee4e71d21fbe5cf8b01ff0e069b9275f58929596ceb00d14d90e3e16cd6"
  },
  "kernelspec": {
   "display_name": "Python 3 (ipykernel)",
   "language": "python",
   "name": "python3"
  },
  "language_info": {
   "codemirror_mode": {
    "name": "ipython",
    "version": 3
   },
   "file_extension": ".py",
   "mimetype": "text/x-python",
   "name": "python",
   "nbconvert_exporter": "python",
   "pygments_lexer": "ipython3",
   "version": "3.8.6"
  }
 },
 "nbformat": 4,
 "nbformat_minor": 4
}
