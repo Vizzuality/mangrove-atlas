{
 "cells": [
  {
   "cell_type": "markdown",
   "metadata": {},
   "source": [
    "# export tiles for height\n",
    "Based on [ee code](https://code.earthengine.google.com/8423c718d647f15ab3e9c31868489fd4?noload=true)"
   ]
  },
  {
   "cell_type": "code",
   "execution_count": 282,
   "metadata": {},
   "outputs": [],
   "source": [
    "import ee\n",
    "import geemap\n",
    "%run utils.ipynb"
   ]
  },
  {
   "cell_type": "code",
   "execution_count": 2,
   "metadata": {},
   "outputs": [
    {
     "data": {
      "text/html": [
       "<p>To authorize access needed by Earth Engine, open the following\n",
       "        URL in a web browser and follow the instructions:</p>\n",
       "        <p><a href=https://code.earthengine.google.com/client-auth?scopes=https%3A//www.googleapis.com/auth/earthengine%20https%3A//www.googleapis.com/auth/devstorage.full_control&request_id=Jq-7KnAVRjzMIrxgcDgnQQbR5EQEKbDDYTcRppVYFOQ&tc=ne0nhmJ6hJ4QY6K1q7u4hTZ-9PVWTWMWruXyzhrH7nM&cc=hwYj5s8yCzAXwwZUOcRe32I-rW7JjWG_LQl1_OLZieg>https://code.earthengine.google.com/client-auth?scopes=https%3A//www.googleapis.com/auth/earthengine%20https%3A//www.googleapis.com/auth/devstorage.full_control&request_id=Jq-7KnAVRjzMIrxgcDgnQQbR5EQEKbDDYTcRppVYFOQ&tc=ne0nhmJ6hJ4QY6K1q7u4hTZ-9PVWTWMWruXyzhrH7nM&cc=hwYj5s8yCzAXwwZUOcRe32I-rW7JjWG_LQl1_OLZieg</a></p>\n",
       "        <p>The authorization workflow will generate a code, which you should paste in the box below.</p>\n",
       "        "
      ],
      "text/plain": [
       "<IPython.core.display.HTML object>"
      ]
     },
     "metadata": {},
     "output_type": "display_data"
    },
    {
     "name": "stdout",
     "output_type": "stream",
     "text": [
      "\n",
      "Successfully saved authorization token.\n"
     ]
    }
   ],
   "source": [
    "# Trigger the authentication flow.\n",
    "# ee.ServiceAccountCredentials(EE_ACCOUNT, EE_PRIVATE_KEY_FILE)\n",
    "ee.Authenticate()"
   ]
  },
  {
   "cell_type": "code",
   "execution_count": 283,
   "metadata": {},
   "outputs": [],
   "source": [
    "# Initialize the library.\n",
    "ee.Initialize()"
   ]
  },
  {
   "cell_type": "markdown",
   "metadata": {},
   "source": [
    "### Data Assets"
   ]
  },
  {
   "cell_type": "code",
   "execution_count": 4,
   "metadata": {},
   "outputs": [],
   "source": [
    "## Assets selection\n",
    "gcs_bucket = 'mangrove_atlas'\n",
    "version = 'v3'\n",
    "dataset = f'mangrove_canopy_height-{version}'\n",
    "data_year_range = [1996, 2007, 2008, 2009, 2010, 2015, 2016, 2017, 2018, 2019, 2020]\n",
    "# region for export\n",
    "region = ee.Geometry.BBox(-180, -33, 0, 34);\n",
    "# gain\n",
    "imageCollection = ee.ImageCollection(\n",
    "    f\"projects/global-mangrove-watch/mangrove-properties/{dataset}\")"
   ]
  },
  {
   "cell_type": "code",
   "execution_count": 5,
   "metadata": {},
   "outputs": [],
   "source": [
    "# styles\n",
    "color_ramp ='''\n",
    "    <RasterSymbolizer>\n",
    "    <ColorMap type=\"ramp\" extended=\"false\" >\n",
    "      <ColorMapEntry color=\"#C9BB42\" quantity=\"0\" label=\"0--5m\" />\n",
    "      <ColorMapEntry color=\"#8BA205\" quantity=\"5\" label=\"5--10m\" />\n",
    "      <ColorMapEntry color=\"#428710\" quantity=\"10\" label=\"10--15m\" />\n",
    "      <ColorMapEntry color=\"#0A6624\" quantity=\"15\" label=\"15--20m\" />\n",
    "      <ColorMapEntry color=\"#103C1F\" quantity=\"20\" label=\">20m\" />\n",
    "    </ColorMap>\n",
    "  </RasterSymbolizer>\n",
    "'''"
   ]
  },
  {
   "cell_type": "markdown",
   "metadata": {},
   "source": [
    "### Vizualize the data prior exporting it"
   ]
  },
  {
   "cell_type": "code",
   "execution_count": 6,
   "metadata": {},
   "outputs": [
    {
     "data": {
      "application/vnd.jupyter.widget-view+json": {
       "model_id": "0d6b44f285da4ab69200b596efad46a0",
       "version_major": 2,
       "version_minor": 0
      },
      "text/plain": [
       "Map(center=[-5, 39], controls=(WidgetControl(options=['position', 'transparent_bg'], widget=HBox(children=(Tog…"
      ]
     },
     "metadata": {},
     "output_type": "display_data"
    }
   ],
   "source": [
    "Map = geemap.Map(center=(-5, 39), zoom=12, basemap='HYBRID')\n",
    "\n",
    "Map.addLayer(imageCollection.first().sldStyle(color_ramp), {}, dataset, True, 0.5)\n",
    "display(Map)"
   ]
  },
  {
   "cell_type": "markdown",
   "metadata": {},
   "source": [
    "### Export to tiles from GEE to GCS"
   ]
  },
  {
   "cell_type": "code",
   "execution_count": 19,
   "metadata": {},
   "outputs": [],
   "source": [
    "# Create a list of tasks to export the map tiles\n",
    "tasks_list = exportMapTasks(imageCollection, dataset, gcs_bucket, \n",
    "                        data_year_range, region, color_ramp, 0, 12, 'staging')"
   ]
  },
  {
   "cell_type": "code",
   "execution_count": 20,
   "metadata": {},
   "outputs": [
    {
     "data": {
      "text/plain": [
       "[<Task FJDWDWIWCPTDECWB5P53XR3H EXPORT_TILES: mangrove_canopy_height-v3_2007 (UNSUBMITTED)>,\n",
       " <Task MHVAAAEHOAVJYKNISWXPDKKJ EXPORT_TILES: mangrove_canopy_height-v3_2008 (UNSUBMITTED)>,\n",
       " <Task TYZBVTG37CYYMYPVFQCWK3SD EXPORT_TILES: mangrove_canopy_height-v3_2009 (UNSUBMITTED)>,\n",
       " <Task IPNZNOGB4ODKQ7QQYLTEMGMQ EXPORT_TILES: mangrove_canopy_height-v3_2010 (UNSUBMITTED)>,\n",
       " <Task 65RLJDO46QSZ4KICQFVOSAZE EXPORT_TILES: mangrove_canopy_height-v3_2015 (UNSUBMITTED)>,\n",
       " <Task WQXZA6G4ZWLQSHTELDQZ6P2J EXPORT_TILES: mangrove_canopy_height-v3_2016 (UNSUBMITTED)>,\n",
       " <Task TCUBAVG3WOBVCWEG3FUTCJVF EXPORT_TILES: mangrove_canopy_height-v3_2017 (UNSUBMITTED)>,\n",
       " <Task FMBC536XGXPKTVUMHB6ZPTCD EXPORT_TILES: mangrove_canopy_height-v3_2018 (UNSUBMITTED)>,\n",
       " <Task U535S7MUDVZMYRVC6Q7S3RDE EXPORT_TILES: mangrove_canopy_height-v3_2019 (UNSUBMITTED)>,\n",
       " <Task C3F25YG2SCQCNFPHWX4AKQ3U EXPORT_TILES: mangrove_canopy_height-v3_2020 (UNSUBMITTED)>]"
      ]
     },
     "execution_count": 20,
     "metadata": {},
     "output_type": "execute_result"
    }
   ],
   "source": [
    "batchExecute(tasks_list)"
   ]
  },
  {
   "cell_type": "code",
   "execution_count": null,
   "metadata": {},
   "outputs": [],
   "source": []
  }
 ],
 "metadata": {
  "interpreter": {
   "hash": "31f2aee4e71d21fbe5cf8b01ff0e069b9275f58929596ceb00d14d90e3e16cd6"
  },
  "kernelspec": {
   "display_name": "Python 3 (ipykernel)",
   "language": "python",
   "name": "python3"
  },
  "language_info": {
   "codemirror_mode": {
    "name": "ipython",
    "version": 3
   },
   "file_extension": ".py",
   "mimetype": "text/x-python",
   "name": "python",
   "nbconvert_exporter": "python",
   "pygments_lexer": "ipython3",
   "version": "3.8.6"
  }
 },
 "nbformat": 4,
 "nbformat_minor": 4
}
