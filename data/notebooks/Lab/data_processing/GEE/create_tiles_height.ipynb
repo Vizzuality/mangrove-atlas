{
 "cells": [
  {
   "cell_type": "markdown",
   "metadata": {},
   "source": [
    "# export tiles for gain and loss\n",
    "Based on [ee code](https://code.earthengine.google.com/8423c718d647f15ab3e9c31868489fd4?noload=true)"
   ]
  },
  {
   "cell_type": "code",
   "execution_count": 26,
   "metadata": {
    "vscode": {
     "languageId": "python"
    }
   },
   "outputs": [],
   "source": [
    "import ee\n",
    "import geemap"
   ]
  },
  {
   "cell_type": "code",
   "execution_count": 2,
   "metadata": {
    "vscode": {
     "languageId": "python"
    }
   },
   "outputs": [
    {
     "data": {
      "text/html": [
       "<p>To authorize access needed by Earth Engine, open the following\n",
       "        URL in a web browser and follow the instructions:</p>\n",
       "        <p><a href=https://code.earthengine.google.com/client-auth?scopes=https%3A//www.googleapis.com/auth/earthengine%20https%3A//www.googleapis.com/auth/devstorage.full_control&request_id=96tCfGh7BxVTRCtELtP3UImNjK1utgaFFzSfWt2DJlM&tc=-2OdKh8yxLqr6r1DroMe4Z6493L78sxli8SSURlHAPw&cc=vs7M7KkFs25pyaOeILWNzZWut6EFP8A8c9ur9WkyXgI>https://code.earthengine.google.com/client-auth?scopes=https%3A//www.googleapis.com/auth/earthengine%20https%3A//www.googleapis.com/auth/devstorage.full_control&request_id=96tCfGh7BxVTRCtELtP3UImNjK1utgaFFzSfWt2DJlM&tc=-2OdKh8yxLqr6r1DroMe4Z6493L78sxli8SSURlHAPw&cc=vs7M7KkFs25pyaOeILWNzZWut6EFP8A8c9ur9WkyXgI</a></p>\n",
       "        <p>The authorization workflow will generate a code, which you should paste in the box below.</p>\n",
       "        "
      ],
      "text/plain": [
       "<IPython.core.display.HTML object>"
      ]
     },
     "metadata": {},
     "output_type": "display_data"
    },
    {
     "name": "stdout",
     "output_type": "stream",
     "text": [
      "\n",
      "Successfully saved authorization token.\n"
     ]
    }
   ],
   "source": [
    "# Trigger the authentication flow.\n",
    "#ee.ServiceAccountCredentials(EE_ACCOUNT, EE_PRIVATE_KEY_FILE)\n",
    "ee.Authenticate()\n",
    "# Initialize the library.\n",
    "ee.Initialize()"
   ]
  },
  {
   "cell_type": "markdown",
   "metadata": {},
   "source": [
    "### Data Assets"
   ]
  },
  {
   "cell_type": "code",
   "execution_count": 32,
   "metadata": {
    "vscode": {
     "languageId": "python"
    }
   },
   "outputs": [],
   "source": [
    "gcs_bucket = 'mangrove_atlas'\n",
    "dataset = 'mangrove_blue_carbon'"
   ]
  },
  {
   "cell_type": "code",
   "execution_count": 1,
   "metadata": {
    "vscode": {
     "languageId": "python"
    }
   },
   "outputs": [
    {
     "ename": "NameError",
     "evalue": "name 'ee' is not defined",
     "output_type": "error",
     "traceback": [
      "\u001b[0;31m---------------------------------------------------------------------------\u001b[0m",
      "\u001b[0;31mNameError\u001b[0m                                 Traceback (most recent call last)",
      "\u001b[1;32m/home/alicitita/Projects/mangrove-atlas/data/notebooks/Lab/data_processing/GEE/create_tiles_gain_loss.ipynb Cell 6\u001b[0m in \u001b[0;36m<cell line: 3>\u001b[0;34m()\u001b[0m\n\u001b[1;32m      <a href='vscode-notebook-cell:/home/alicitita/Projects/mangrove-atlas/data/notebooks/Lab/data_processing/GEE/create_tiles_gain_loss.ipynb#ch0000007?line=0'>1</a>\u001b[0m \u001b[39m## Assets selection\u001b[39;00m\n\u001b[1;32m      <a href='vscode-notebook-cell:/home/alicitita/Projects/mangrove-atlas/data/notebooks/Lab/data_processing/GEE/create_tiles_gain_loss.ipynb#ch0000007?line=1'>2</a>\u001b[0m \u001b[39m# region for export\u001b[39;00m\n\u001b[0;32m----> <a href='vscode-notebook-cell:/home/alicitita/Projects/mangrove-atlas/data/notebooks/Lab/data_processing/GEE/create_tiles_gain_loss.ipynb#ch0000007?line=2'>3</a>\u001b[0m region \u001b[39m=\u001b[39m ee\u001b[39m.\u001b[39mGeometry\u001b[39m.\u001b[39mPolygon([[[\u001b[39m-\u001b[39m\u001b[39m180\u001b[39m, \u001b[39m33\u001b[39m],[\u001b[39m-\u001b[39m\u001b[39m180\u001b[39m, \u001b[39m-\u001b[39m\u001b[39m34\u001b[39m],[\u001b[39m180\u001b[39m, \u001b[39m-\u001b[39m\u001b[39m34\u001b[39m],[\u001b[39m180\u001b[39m, \u001b[39m33\u001b[39m]]], \u001b[39mNone\u001b[39;00m, \u001b[39mFalse\u001b[39;00m);\n\u001b[1;32m      <a href='vscode-notebook-cell:/home/alicitita/Projects/mangrove-atlas/data/notebooks/Lab/data_processing/GEE/create_tiles_gain_loss.ipynb#ch0000007?line=3'>4</a>\u001b[0m \u001b[39m# gain\u001b[39;00m\n\u001b[1;32m      <a href='vscode-notebook-cell:/home/alicitita/Projects/mangrove-atlas/data/notebooks/Lab/data_processing/GEE/create_tiles_gain_loss.ipynb#ch0000007?line=4'>5</a>\u001b[0m gain \u001b[39m=\u001b[39m ee\u001b[39m.\u001b[39mImageCollection(\n\u001b[1;32m      <a href='vscode-notebook-cell:/home/alicitita/Projects/mangrove-atlas/data/notebooks/Lab/data_processing/GEE/create_tiles_gain_loss.ipynb#ch0000007?line=5'>6</a>\u001b[0m     \u001b[39m\"\u001b[39m\u001b[39mprojects/global-mangrove-watch/land-cover/mangrove-extent-gain\u001b[39m\u001b[39m\"\u001b[39m)\n",
      "\u001b[0;31mNameError\u001b[0m: name 'ee' is not defined"
     ]
    }
   ],
   "source": [
    "## Assets selection\n",
    "# region for export\n",
    "region = ee.Geometry.Polygon([[[-180, 33],[-180, -34],[180, -34],[180, 33]]], None, False);\n",
    "# gain\n",
    "gain = ee.ImageCollection(\n",
    "    \"projects/global-mangrove-watch/land-cover/mangrove-extent-gain\")\n",
    "# loss\n",
    "loss = ee.ImageCollection(\n",
    "    \"projects/global-mangrove-watch/land-cover/mangrove-extent-loss\")"
   ]
  },
  {
   "cell_type": "code",
   "execution_count": null,
   "metadata": {
    "vscode": {
     "languageId": "python"
    }
   },
   "outputs": [],
   "source": [
    "# styles\n",
    "gain_ramp ='''\n",
    "    <RasterSymbolizer>\n",
    "        <ColorMap type=\"ramp\" extended=\"false\" >\n",
    "        <ColorMapEntry color=\"#a6cb10\" quantity=\"1\" label=\"1\"/>\n",
    "        </ColorMap>\n",
    "    </RasterSymbolizer>\n",
    "'''\n",
    "loss_ramp = '''\n",
    "    <RasterSymbolizer>\n",
    "        <ColorMap type=\"ramp\" extended=\"false\" >\n",
    "        <ColorMapEntry color=\"#eb6240\" quantity=\"1\" label=\"1\"/>\n",
    "        </ColorMap>\n",
    "    </RasterSymbolizer>\n",
    "'''"
   ]
  },
  {
   "cell_type": "code",
   "execution_count": 161,
   "metadata": {
    "vscode": {
     "languageId": "python"
    }
   },
   "outputs": [],
   "source": [
    "def exportMapTasks(asset: ee.ImageCollection, asset_name: str, gcbucket: str, years: list,\n",
    "                    region: ee.Geometry, style: str, min_zoom: int, max_zoom: int, env: str = 'staging'):\n",
    "    \"\"\"\n",
    "    Export the data to GEE.\n",
    "\n",
    "    Parameters\n",
    "    ----------\n",
    "    asset : ee.Image\n",
    "        The image to export.\n",
    "    asset_name : str\n",
    "        The name of the asset.\n",
    "    gcbucket : str\n",
    "        The name of the GCS bucket.\n",
    "    geometry_collection : ee.GeometryCollection\n",
    "        The geometry collection to export the data.\n",
    "    \n",
    "    Returns\n",
    "    -------\n",
    "    List of tasks\n",
    "    \"\"\"\n",
    "    years = asset.date().getInfo()['year']\n",
    "    taskList = []\n",
    "    \n",
    "    # TODO: improve this loop\n",
    "    for year in years:\n",
    "        task = ee.batch.Export.map.toCloudStorage(\n",
    "            image = ee.Image(asset.filterMetadata('year', 'equals', year)\n",
    "                    ).sldStyle(style),\n",
    "            description = f'{asset_name}_{year}',\n",
    "            path = f'{env}/tilesets/{asset_name}/{year}',\n",
    "            bucket = gcbucket,\n",
    "            minZoom = min_zoom,\n",
    "            maxZoom = max_zoom,\n",
    "            writePublicTiles = True,\n",
    "            skipEmptyTiles = True,\n",
    "            fileFormat = 'png',\n",
    "            region = region\n",
    "            )\n",
    "        taskList.append(task)\n",
    "    \n",
    "    return taskList"
   ]
  },
  {
   "cell_type": "code",
   "execution_count": null,
   "metadata": {
    "vscode": {
     "languageId": "python"
    }
   },
   "outputs": [],
   "source": [
    "def batchExecute(taskList: list, batch_size: int = 20):\n",
    "    \"\"\"\n",
    "    Execute the tasks in the list in baches of 20 as is the max allowed by GEE. \n",
    "    each task takes about 10 min to execute.\n",
    "    \"\"\"\n",
    "    n_tasks = len(taskList)\n",
    "    n_batches = Math.ceil(n_tasks / batch_size)\n",
    "    \n",
    "    for i in range(n_batches):\n",
    "        for task in taskList[i*batch_size:(i+1)*batch_size]:\n",
    "            task.start()\n",
    "        \n",
    "        for task in taskList[i*batch_size:(i+1)*batch_size]:\n",
    "            task.wait()\n",
    "\n",
    "    return taskList"
   ]
  },
  {
   "cell_type": "markdown",
   "metadata": {},
   "source": [
    "### Vizualize the data prior exporting it"
   ]
  },
  {
   "cell_type": "code",
   "execution_count": 201,
   "metadata": {
    "vscode": {
     "languageId": "python"
    }
   },
   "outputs": [
    {
     "data": {
      "application/vnd.jupyter.widget-view+json": {
       "model_id": "98225020b23b48b7b36d8181e86849af",
       "version_major": 2,
       "version_minor": 0
      },
      "text/plain": [
       "Map(center=[-5, 39], controls=(WidgetControl(options=['position', 'transparent_bg'], widget=HBox(children=(Tog…"
      ]
     },
     "metadata": {},
     "output_type": "display_data"
    }
   ],
   "source": [
    "Map = geemap.Map(center=(-5, 39), zoom=12, basemap='HYBRID')\n",
    "vis_params = {\n",
    "    'min': 1,\n",
    "    'max': 1,\n",
    "    'palette': ['eb6240'],\n",
    "}\n",
    "Map.addLayer(gain.first(), vis_params, 'Gain', True, 0.5)\n",
    "Map.addLayer(loss.first(), vis_params, 'Loss', True, 0.5)\n",
    "Map"
   ]
  },
  {
   "cell_type": "code",
   "execution_count": null,
   "metadata": {
    "vscode": {
     "languageId": "python"
    }
   },
   "outputs": [],
   "source": [
    "# Create a list of tasks to export the map tiles\n",
    "gain_export_tasks = exportMapTasks(gain, 'gain', gcs_bucket, gain.date().getInfo()['year'], \n",
    "            region, gain_ramp, 0, 12)"
   ]
  },
  {
   "cell_type": "code",
   "execution_count": null,
   "metadata": {
    "vscode": {
     "languageId": "python"
    }
   },
   "outputs": [],
   "source": [
    "# Create a list of tasks to export the map tiles\n",
    "loss_export_tasks = exportMapTasks(gain, 'gain', gcs_bucket, gain.date().getInfo()['year'], \n",
    "            region, gain_ramp, 0, 12)"
   ]
  },
  {
   "cell_type": "code",
   "execution_count": null,
   "metadata": {
    "vscode": {
     "languageId": "python"
    }
   },
   "outputs": [],
   "source": [
    "tasks_list = gain_export_tasks + loss_export_tasks"
   ]
  },
  {
   "cell_type": "code",
   "execution_count": null,
   "metadata": {
    "vscode": {
     "languageId": "python"
    }
   },
   "outputs": [],
   "source": [
    "batchExecute(tasks_list)"
   ]
  }
 ],
 "metadata": {
  "interpreter": {
   "hash": "31f2aee4e71d21fbe5cf8b01ff0e069b9275f58929596ceb00d14d90e3e16cd6"
  },
  "kernelspec": {
   "display_name": "Python 3 (ipykernel)",
   "language": "python",
   "name": "python3"
  }
 },
 "nbformat": 4,
 "nbformat_minor": 4
}
