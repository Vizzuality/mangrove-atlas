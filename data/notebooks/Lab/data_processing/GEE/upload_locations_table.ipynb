{
 "cells": [
  {
   "cell_type": "code",
   "execution_count": null,
   "id": "767bbbac",
   "metadata": {},
   "outputs": [],
   "source": [
    "# TODO create the script that allows programatically upload of the location_v3_gee.zip file into GEE"
   ]
  }
 ],
 "metadata": {
  "kernelspec": {
   "display_name": "Python 3 (ipykernel)",
   "language": "python",
   "name": "python3"
  }
 },
 "nbformat": 4,
 "nbformat_minor": 5
}
