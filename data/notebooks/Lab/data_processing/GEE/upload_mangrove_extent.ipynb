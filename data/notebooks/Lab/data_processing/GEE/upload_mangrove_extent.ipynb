{
 "cells": [
  {
   "cell_type": "markdown",
   "metadata": {},
   "source": [
    "# Upload mangrove extent to GCS and as an asst to GEE"
   ]
  },
  {
   "cell_type": "markdown",
   "metadata": {},
   "source": [
    "This notebook gets mangrove extent data, uploads to GCS, and creates an earth engine image collection asset.  \n",
    "These are the steps:  \n",
    "* We first need to create a single tiff per year of mangrove extent data.\n",
    "* We then upload the tiffs to GCS.\n",
    "* We then create an earthengine image collection asset.\n",
    "* We then upload each image as an asset to GEE.\n",
    "* Finally make the data also publicly available in Zenodo."
   ]
  },
  {
   "cell_type": "markdown",
   "metadata": {},
   "source": [
    "## Setup"
   ]
  },
  {
   "cell_type": "code",
   "execution_count": 100,
   "metadata": {
    "vscode": {
     "languageId": "python"
    }
   },
   "outputs": [],
   "source": [
    "import os\n",
    "from pathlib import Path\n",
    "import urllib.parse\n",
    "import geemap\n",
    "import ee\n",
    "import zipfile\n",
    "\n",
    "%run utils.ipynb"
   ]
  },
  {
   "cell_type": "code",
   "execution_count": 3,
   "metadata": {
    "vscode": {
     "languageId": "python"
    }
   },
   "outputs": [
    {
     "data": {
      "text/html": [
       "<p>To authorize access needed by Earth Engine, open the following\n",
       "        URL in a web browser and follow the instructions:</p>\n",
       "        <p><a href=https://code.earthengine.google.com/client-auth?scopes=https%3A//www.googleapis.com/auth/earthengine%20https%3A//www.googleapis.com/auth/devstorage.full_control&request_id=7r5BPAPk55N2mBDK2HZKhy3MXjI-oCWSGSvKoNzdsQ0&tc=iQVggPLKozHDZo1tjjXePgSrzeQZDFv8Zk6UpzTMqMc&cc=rLXlPh-gPP0ml04w9c4x7q7aPSViLs0QQ92ArY6ITdI>https://code.earthengine.google.com/client-auth?scopes=https%3A//www.googleapis.com/auth/earthengine%20https%3A//www.googleapis.com/auth/devstorage.full_control&request_id=7r5BPAPk55N2mBDK2HZKhy3MXjI-oCWSGSvKoNzdsQ0&tc=iQVggPLKozHDZo1tjjXePgSrzeQZDFv8Zk6UpzTMqMc&cc=rLXlPh-gPP0ml04w9c4x7q7aPSViLs0QQ92ArY6ITdI</a></p>\n",
       "        <p>The authorization workflow will generate a code, which you should paste in the box below.</p>\n",
       "        "
      ],
      "text/plain": [
       "<IPython.core.display.HTML object>"
      ]
     },
     "metadata": {},
     "output_type": "display_data"
    },
    {
     "name": "stdout",
     "output_type": "stream",
     "text": [
      "\n",
      "Successfully saved authorization token.\n"
     ]
    }
   ],
   "source": [
    "# Trigger the authentication flow.\n",
    "ee.Authenticate()\n",
    "\n",
    "# Initialize the library.\n",
    "ee.Initialize()"
   ]
  },
  {
   "cell_type": "markdown",
   "metadata": {},
   "source": [
    "### Set Cloud credentials (could be done through and env file)"
   ]
  },
  {
   "cell_type": "code",
   "execution_count": 4,
   "metadata": {
    "vscode": {
     "languageId": "python"
    }
   },
   "outputs": [],
   "source": [
    "# WARNING: Don't forget to auth to google cloud platform\n",
    "# gcloud auth application-default login --no-launch-browser --project=mangrove-atlas-246414"
   ]
  },
  {
   "cell_type": "markdown",
   "metadata": {},
   "source": [
    "### Set Variables for GCS and GEE"
   ]
  },
  {
   "cell_type": "code",
   "execution_count": 122,
   "metadata": {
    "vscode": {
     "languageId": "python"
    }
   },
   "outputs": [],
   "source": [
    "#  FIXME: This will depends from where the notebook kernel is running so be careful\n",
    "WORK_DIR =Path(os.getcwd())\n",
    "BASE_DIR = f'{WORK_DIR.parents[3]}/datasets'\n",
    "\n",
    "# @TODO: Add expected data files source as an environment variable.\n",
    "assert BASE_DIR == '/home/jovyan/work/datasets', f'{BASE_DIR} is not the correct directory'\n",
    "\n",
    "# variables\n",
    "data_version = 'v3'\n",
    "dataset = 'mangrove_extent'\n",
    "\n",
    "# Set the Google Cloud params\n",
    "gc_project_id = \"mangrove-atlas-246414\"\n",
    "gcs_prefix = \"gs://mangrove_atlas\"\n",
    "gcs_bucket = f'mangrove_atlas'\n",
    "cgs_parent_folder = 'GMW v3.14 geotiffs'\n",
    "gcs_http_prefix = f\"https://storage.googleapis.com/{gcs_bucket}\"\n",
    "base_source_data_url = f'{gcs_http_prefix}/GMW%20v3.14%20geotiffs'\n",
    "\n",
    "raw_local_folder = Path(f'{BASE_DIR}/raw/{dataset}')\n",
    "raw_local_folder.mkdir(parents=True, exist_ok=True)\n",
    "\n",
    "# Image Collection Information\n",
    "data_year_range = [1996, 2007, 2008, 2009, 2010, 2015, 2016, 2017, 2018, 2019, 2020]\n",
    "ee_image_collection = f'projects/global-mangrove-watch/land-cover/{dataset}-{data_version}'\n",
    "\n",
    "no_data_values = [0]\n",
    "pyramiding = 'MEAN'\n"
   ]
  },
  {
   "cell_type": "code",
   "execution_count": 123,
   "metadata": {
    "vscode": {
     "languageId": "python"
    }
   },
   "outputs": [],
   "source": [
    "description = f\"\"\"\n",
    "## Methodology\n",
    "\n",
    "The mangrove maps were derived in two steps: 1) generation of a baseline map of global mangrove extent for the year 2010 and 2) detection of changes between the 2010 baseline and each of the other six years.\n",
    "\n",
    "### 2010 global mangrove extent baseline map\n",
    "\n",
    "The 2010 baseline map was derived by the Random Forest Classification algorithm that used a combination of L-band radar (ALOS PALSAR) and optical (Landsat-5, -7) satellite data. Approximately 15,000 Landsat scenes and 1,500 ALOS PALSAR (1 x 1 degree) mosaic tiles were used to create optical and radar image composites covering the coastlines along the tropical and sub-tropical coastlines in the Americas, Africa, Asia, and Oceania.\n",
    "\n",
    "The classification was confined using a mangrove habitat mask, which defined regions where mangrove ecosystems can be expected to exist. The mangrove habitat definition was generated based on geographical parameters such as latitude, elevation, and distance from ocean water. Training for the habitat mask and classification of the 2010 mangrove mask was based on randomly sampling 38 million points using historical mangrove maps (for the year 2000) of Giri et al. (2011) and Spalding et al. (2010) and the water occurrence layer defined by Pekel et al. (2017).\n",
    "\n",
    "Classification accuracy of the 2010 baseline dataset was assessed with approximately 53,800 randomly sampled points across 20 randomly selected regions. Overall accuracy was 95.25 %, while Userâ€™s and Producerâ€™s accuracies for the mangrove class were estimated at 97.5% and 94.0%, respectively.\n",
    "\n",
    "### {', '.join(list(map(str, data_year_range[:-1])))} and {data_year_range[-1]} maps of mangrove extent and changes\n",
    "\n",
    "The maps for the other six years were derived by detection and classification of losses (defined as a decrease in radar backscatter) and gains (defined as a backscatter increase) between the 2010 ALOS PALSAR data and JERS-1 SAR (1996), ALOS PALSAR (2007, 2008 & 2009) and ALOS-2 PALSAR-2 (2015 & 2016) data. The change pixels for each year in question were then added or removed from the 2010 baseline raster mask (buffered to allow detection of mangrove gains also immediately outside of the mask) to produce the new yearly extent maps. Classification accuracies of the changes were assessed with over 45,000 points, with an overall accuracy of 75.0 %.\n",
    "\n",
    "For the full documentation, please see the source [methodology](https://www.mdpi.com/2072-4292/10/10/1669).\n",
    "\"\"\""
   ]
  },
  {
   "cell_type": "code",
   "execution_count": 124,
   "metadata": {
    "vscode": {
     "languageId": "python"
    }
   },
   "outputs": [],
   "source": [
    "extent_collection_properties = ImageCollectionProperties(\n",
    "    name = 'Global extent of mangrove forests',\n",
    "    version = data_version,\n",
    "    creator = \"Global Mangrove Watch (GMW): Aberystwyth University/soloEO/Wetlands International/UNEP-WCMC/JAXA/DOB Ecology\",\n",
    "    description = description,\n",
    "    identifier = \"\",\n",
    "    keywords = \"Erosion; Coasts; Natural Infrastructure; Biodiversity; Blue Carbon; Forests; Mangroves; Landcover\",\n",
    "    citation = \"Bunting, Pete, Ake Rosenqvist, Richard M. Lucas, Lisa-Maria Rebelo, Lammert Hilarides, Nathan Thomas, Andy Hardy, Takuya Itoh, Masanobu Shimada, and C. Max Finlayson. “The Global Mangrove Watch—A New 2010 Global Baseline of Mangrove Extent.” Remote Sensing 10, no. 10 (October 2018): 1669. doi: 10.3390/rs10101669.\",\n",
    "    license = \"https://creativecommons.org/licenses/by/4.0/\",\n",
    "    url = \"\",\n",
    "    language = \"en\", \n",
    "    altName = \"Global Mangrove Watch, Version 3.0\",\n",
    "    distribution = \"\",\n",
    "    variableMeasured = \"Presence of mangrove forest habitat\",\n",
    "    units = \"1\",\n",
    "    spatialCoverage = \"Global tropics\",\n",
    "    temporalCoverage = ','.join(map(str, data_year_range)),\n",
    "    dataLineage = \"Raster data supplied by Aberystwyth University (Dr. Dave Bunting) as tilesets per year, each tilset was combined, and added to Google earth engine as multi-temporal ImageCollection.\"\n",
    ")"
   ]
  },
  {
   "cell_type": "code",
   "execution_count": 125,
   "metadata": {
    "vscode": {
     "languageId": "python"
    }
   },
   "outputs": [],
   "source": [
    "def generate_manifests(year):\n",
    "    files = [blob.name for blob in list_gcs(bucket_name = gcs_bucket, \n",
    "                    dir_path = f'ee_import_data/{dataset}/gmw_{data_version}_{year}', file_pattern = '*.tif') if blob.name.endswith('.tif')]\n",
    "    manifest = GEEManifest(\n",
    "            path = Path(f'{BASE_DIR}/processed/manifest/gmw_{data_version}_{year}'),\n",
    "            name = f\"projects/earthengine-legacy/assets/{ee_image_collection}/gmw_{data_version}_{year}\",\n",
    "            tilesets = [ Tilesets(\n",
    "                sources = [Sources(uris = [f\"{gcs_prefix}/{file}\"]) for file in files],\n",
    "                    )\n",
    "                ],\n",
    "            start_time = f'{year}-01-01T00:00:00Z',\n",
    "            end_time = f'{year}-12-31T00:00:00Z',\n",
    "            uri_prefix = f\"\",\n",
    "            properties = ImageProperties(\n",
    "                band_nodata_values = no_data_values[0],\n",
    "                band_pyramiding_policies = pyramiding,\n",
    "                band_names = 'extent',\n",
    "                year = year,\n",
    "            ),\n",
    "            bands = [{\"id\": \"extent\",\n",
    "                    \"tileset_band_index\": 0}],\n",
    "            pyramiding_policy = pyramiding,\n",
    "            missing_data = {'values': no_data_values}\n",
    "\n",
    "        )\n",
    "    return manifest"
   ]
  },
  {
   "cell_type": "code",
   "execution_count": 126,
   "metadata": {
    "vscode": {
     "languageId": "python"
    }
   },
   "outputs": [],
   "source": [
    "def extract_path_from_zip(path_zip: Path):\n",
    "    # Extract all the contents of zip file in current directory\n",
    "    for item in path_zip.iterdir():\n",
    "        if item.suffix == '.zip':\n",
    "            with zipfile.ZipFile(item.as_posix(), 'r') as zipObj:\n",
    "                zipObj.extractall(path_zip)\n",
    "            \n",
    "            item.unlink()"
   ]
  },
  {
   "cell_type": "code",
   "execution_count": 127,
   "metadata": {
    "vscode": {
     "languageId": "python"
    }
   },
   "outputs": [],
   "source": [
    "def rm_tree(pth: Path):\n",
    "    for child in pth.iterdir():\n",
    "        if child.is_file():\n",
    "            child.unlink()\n",
    "        else:\n",
    "            rm_tree(child)\n",
    "    pth.rmdir()"
   ]
  },
  {
   "cell_type": "code",
   "execution_count": 101,
   "metadata": {
    "vscode": {
     "languageId": "python"
    }
   },
   "outputs": [
    {
     "name": "stderr",
     "output_type": "stream",
     "text": [
      "INFO:root:Searching GMW v3.14 geotiffs/*.zip\n"
     ]
    },
    {
     "data": {
      "text/plain": [
       "[<Blob: mangrove_atlas, GMW v3.14 geotiffs/, 1658502357947930>,\n",
       " <Blob: mangrove_atlas, GMW v3.14 geotiffs/gmw_v3_1996_gtiff.zip, 1658502502870899>,\n",
       " <Blob: mangrove_atlas, GMW v3.14 geotiffs/gmw_v3_2007_gtiff.zip, 1658502517196761>,\n",
       " <Blob: mangrove_atlas, GMW v3.14 geotiffs/gmw_v3_2008_gtiff.zip, 1658502557420942>,\n",
       " <Blob: mangrove_atlas, GMW v3.14 geotiffs/gmw_v3_2009_gtiff.zip, 1658502628130467>,\n",
       " <Blob: mangrove_atlas, GMW v3.14 geotiffs/gmw_v3_2010_gtiff.zip, 1658502634901691>,\n",
       " <Blob: mangrove_atlas, GMW v3.14 geotiffs/gmw_v3_2015_gtiff.zip, 1658502665713112>,\n",
       " <Blob: mangrove_atlas, GMW v3.14 geotiffs/gmw_v3_2016_gtiff.zip, 1658502699001779>,\n",
       " <Blob: mangrove_atlas, GMW v3.14 geotiffs/gmw_v3_2017_gtiff.zip, 1658502728032109>,\n",
       " <Blob: mangrove_atlas, GMW v3.14 geotiffs/gmw_v3_2018_gtiff.zip, 1658502769412890>,\n",
       " <Blob: mangrove_atlas, GMW v3.14 geotiffs/gmw_v3_2019_gtiff.zip, 1658502783087871>,\n",
       " <Blob: mangrove_atlas, GMW v3.14 geotiffs/gmw_v3_2020_gtiff.zip, 1658502810948153>]"
      ]
     },
     "execution_count": 101,
     "metadata": {},
     "output_type": "execute_result"
    }
   ],
   "source": [
    "files = list(list_gcs(bucket_name = gcs_bucket, dir_path = cgs_parent_folder, file_pattern = '*.zip'))"
   ]
  },
  {
   "cell_type": "markdown",
   "metadata": {},
   "source": [
    "### Get the raw files locally"
   ]
  },
  {
   "cell_type": "code",
   "execution_count": 37,
   "metadata": {
    "vscode": {
     "languageId": "python"
    }
   },
   "outputs": [
    {
     "name": "stderr",
     "output_type": "stream",
     "text": [
      "Copying gs://mangrove_atlas/GMW v3.14 geotiffs/gmw_v3_1996_gtiff.zip...\n",
      "Resuming download for /home/jovyan/work/datasets/raw/mangrove_extent/gmw_v3_1996_gtiff.zip\n",
      "Copying gs://mangrove_atlas/GMW v3.14 geotiffs/gmw_v3_2008_gtiff.zip...\n",
      "Copying gs://mangrove_atlas/GMW v3.14 geotiffs/gmw_v3_2007_gtiff.zip...\n",
      "Resuming download for /home/jovyan/work/datasets/raw/mangrove_extent/gmw_v3_2008_gtiff.zip\n",
      "Copying gs://mangrove_atlas/GMW v3.14 geotiffs/gmw_v3_2009_gtiff.zip...\n",
      "Resuming download for /home/jovyan/work/datasets/raw/mangrove_extent/gmw_v3_2007_gtiff.zip\n",
      "Resuming download for /home/jovyan/work/datasets/raw/mangrove_extent/gmw_v3_2009_gtiff.zip\n",
      "Copying gs://mangrove_atlas/GMW v3.14 geotiffs/gmw_v3_2010_gtiff.zip...\n",
      "Resuming download for /home/jovyan/work/datasets/raw/mangrove_extent/gmw_v3_2010_gtiff.zip\n",
      "Copying gs://mangrove_atlas/GMW v3.14 geotiffs/gmw_v3_2015_gtiff.zip...\n",
      "Copying gs://mangrove_atlas/GMW v3.14 geotiffs/gmw_v3_2016_gtiff.zip...\n",
      "Copying gs://mangrove_atlas/GMW v3.14 geotiffs/gmw_v3_2017_gtiff.zip...\n",
      "Copying gs://mangrove_atlas/GMW v3.14 geotiffs/gmw_v3_2018_gtiff.zip...\n",
      "Resuming download for /home/jovyan/work/datasets/raw/mangrove_extent/gmw_v3_2015_gtiff.zip\n",
      "Resuming download for /home/jovyan/work/datasets/raw/mangrove_extent/gmw_v3_2016_gtiff.zip\n",
      "Copying gs://mangrove_atlas/GMW v3.14 geotiffs/gmw_v3_2019_gtiff.zip...\n",
      "Resuming download for /home/jovyan/work/datasets/raw/mangrove_extent/gmw_v3_2017_gtiff.zip\n",
      "Resuming download for /home/jovyan/work/datasets/raw/mangrove_extent/gmw_v3_2018_gtiff.zip\n",
      "Resuming download for /home/jovyan/work/datasets/raw/mangrove_extent/gmw_v3_2019_gtiff.zip\n",
      "Copying gs://mangrove_atlas/GMW v3.14 geotiffs/gmw_v3_2020_gtiff.zip...\n",
      "Resuming download for /home/jovyan/work/datasets/raw/mangrove_extent/gmw_v3_2020_gtiff.zip\n",
      "| [11/11 files][698.1 MiB/698.1 MiB] 100% Done  11.4 MiB/s ETA 00:00:00         \n",
      "Operation completed over 11 objects/698.1 MiB.                                   \n",
      "INFO:root:Task created\n"
     ]
    }
   ],
   "source": [
    "copy_folder_gcs(f'{gcs_prefix}/{cgs_parent_folder}/*.zip', raw_local_folder)"
   ]
  },
  {
   "cell_type": "markdown",
   "metadata": {},
   "source": [
    "### Extract them and reupload to GCS in the ee_import_data folder"
   ]
  },
  {
   "cell_type": "code",
   "execution_count": 96,
   "metadata": {
    "vscode": {
     "languageId": "python"
    }
   },
   "outputs": [
    {
     "data": {
      "text/plain": [
       "[PosixPath('/home/jovyan/work/datasets/raw/mangrove_extent/gmw_v3_2008'),\n",
       " PosixPath('/home/jovyan/work/datasets/raw/mangrove_extent/gmw_v3_2007'),\n",
       " PosixPath('/home/jovyan/work/datasets/raw/mangrove_extent/gmw_v3_2009'),\n",
       " PosixPath('/home/jovyan/work/datasets/raw/mangrove_extent/gmw_v3_2015'),\n",
       " PosixPath('/home/jovyan/work/datasets/raw/mangrove_extent/gmw_v3_2016'),\n",
       " PosixPath('/home/jovyan/work/datasets/raw/mangrove_extent/gmw_v3_2017'),\n",
       " PosixPath('/home/jovyan/work/datasets/raw/mangrove_extent/gmw_v3_1996'),\n",
       " PosixPath('/home/jovyan/work/datasets/raw/mangrove_extent/gmw_v3_2019'),\n",
       " PosixPath('/home/jovyan/work/datasets/raw/mangrove_extent/gmw_v3_2010'),\n",
       " PosixPath('/home/jovyan/work/datasets/raw/mangrove_extent/gmw_v3_2020'),\n",
       " PosixPath('/home/jovyan/work/datasets/raw/mangrove_extent/gmw_v3_2018')]"
      ]
     },
     "execution_count": 96,
     "metadata": {},
     "output_type": "execute_result"
    }
   ],
   "source": [
    "extract_path_from_zip(raw_local_folder)\n",
    "\n",
    "folder_unziped = [x for x in raw_local_folder.iterdir() if x.is_dir()]\n",
    "\n",
    "for folder in folder_unziped:\n",
    "    copy_folder_gcs(folder, f'{gcs_prefix}/ee_import_data/{dataset}/')"
   ]
  },
  {
   "cell_type": "markdown",
   "metadata": {},
   "source": [
    "#### Clean up the raw data locally as this is expensive in terms of space."
   ]
  },
  {
   "cell_type": "code",
   "execution_count": 121,
   "metadata": {
    "vscode": {
     "languageId": "python"
    }
   },
   "outputs": [],
   "source": [
    "rm_tree(raw_local_folder)"
   ]
  },
  {
   "cell_type": "markdown",
   "metadata": {},
   "source": [
    "#### Generate manifests for each year that represent an image in the image collection"
   ]
  },
  {
   "cell_type": "code",
   "execution_count": 128,
   "metadata": {
    "vscode": {
     "languageId": "python"
    }
   },
   "outputs": [
    {
     "name": "stderr",
     "output_type": "stream",
     "text": [
      "INFO:root:Searching ee_import_data/gmw_v3_1996/*.tif\n",
      "INFO:root:Searching ee_import_data/gmw_v3_2007/*.tif\n",
      "INFO:root:Searching ee_import_data/gmw_v3_2008/*.tif\n",
      "INFO:root:Searching ee_import_data/gmw_v3_2009/*.tif\n",
      "INFO:root:Searching ee_import_data/gmw_v3_2010/*.tif\n",
      "INFO:root:Searching ee_import_data/gmw_v3_2015/*.tif\n",
      "INFO:root:Searching ee_import_data/gmw_v3_2016/*.tif\n",
      "INFO:root:Searching ee_import_data/gmw_v3_2017/*.tif\n",
      "INFO:root:Searching ee_import_data/gmw_v3_2018/*.tif\n",
      "INFO:root:Searching ee_import_data/gmw_v3_2019/*.tif\n",
      "INFO:root:Searching ee_import_data/gmw_v3_2020/*.tif\n"
     ]
    }
   ],
   "source": [
    "list_of_manifests = [generate_manifests(year) for year in data_year_range]"
   ]
  },
  {
   "cell_type": "markdown",
   "metadata": {},
   "source": [
    "#### Create the image collection asset and upload the images to GEE"
   ]
  },
  {
   "cell_type": "code",
   "execution_count": 129,
   "metadata": {
    "vscode": {
     "languageId": "python"
    }
   },
   "outputs": [
    {
     "name": "stderr",
     "output_type": "stream",
     "text": [
      "INFO:root:Created image collection projects/global-mangrove-watch/land-cover/mangrove_extent-v3\n",
      "INFO:root:Task created\n",
      "INFO:root:Upload image projects/earthengine-legacy/assets/projects/global-mangrove-watch/land-cover/mangrove_extent-v3/gmw_v3_1996\n"
     ]
    },
    {
     "name": "stdout",
     "output_type": "stream",
     "text": [
      "Started upload task with ID: SCA6QNE3CPJNNK4J3SZ2BYDZ\n"
     ]
    },
    {
     "name": "stderr",
     "output_type": "stream",
     "text": [
      "INFO:root:Task created\n",
      "INFO:root:Upload image projects/earthengine-legacy/assets/projects/global-mangrove-watch/land-cover/mangrove_extent-v3/gmw_v3_2007\n"
     ]
    },
    {
     "name": "stdout",
     "output_type": "stream",
     "text": [
      "Started upload task with ID: 6BP27MHNFUOHOPPWLBHGUALZ\n"
     ]
    },
    {
     "name": "stderr",
     "output_type": "stream",
     "text": [
      "INFO:root:Task created\n",
      "INFO:root:Upload image projects/earthengine-legacy/assets/projects/global-mangrove-watch/land-cover/mangrove_extent-v3/gmw_v3_2008\n"
     ]
    },
    {
     "name": "stdout",
     "output_type": "stream",
     "text": [
      "Started upload task with ID: M6J22YFRV7TMP2TATCWBOLXR\n"
     ]
    },
    {
     "name": "stderr",
     "output_type": "stream",
     "text": [
      "INFO:root:Task created\n",
      "INFO:root:Upload image projects/earthengine-legacy/assets/projects/global-mangrove-watch/land-cover/mangrove_extent-v3/gmw_v3_2009\n"
     ]
    },
    {
     "name": "stdout",
     "output_type": "stream",
     "text": [
      "Started upload task with ID: MTUP56PKOQ42ZEPR56HN5CZD\n"
     ]
    },
    {
     "name": "stderr",
     "output_type": "stream",
     "text": [
      "INFO:root:Task created\n",
      "INFO:root:Upload image projects/earthengine-legacy/assets/projects/global-mangrove-watch/land-cover/mangrove_extent-v3/gmw_v3_2010\n"
     ]
    },
    {
     "name": "stdout",
     "output_type": "stream",
     "text": [
      "Started upload task with ID: 2QHAK6MGXBUY4BWAATRXGNRG\n"
     ]
    },
    {
     "name": "stderr",
     "output_type": "stream",
     "text": [
      "INFO:root:Task created\n",
      "INFO:root:Upload image projects/earthengine-legacy/assets/projects/global-mangrove-watch/land-cover/mangrove_extent-v3/gmw_v3_2015\n"
     ]
    },
    {
     "name": "stdout",
     "output_type": "stream",
     "text": [
      "Started upload task with ID: J7ZHPSZL2PQSISD64DSK7OM6\n"
     ]
    },
    {
     "name": "stderr",
     "output_type": "stream",
     "text": [
      "INFO:root:Task created\n",
      "INFO:root:Upload image projects/earthengine-legacy/assets/projects/global-mangrove-watch/land-cover/mangrove_extent-v3/gmw_v3_2016\n"
     ]
    },
    {
     "name": "stdout",
     "output_type": "stream",
     "text": [
      "Started upload task with ID: ORAV3KFVV7EBIIMYPPDZGR2L\n"
     ]
    },
    {
     "name": "stderr",
     "output_type": "stream",
     "text": [
      "INFO:root:Task created\n",
      "INFO:root:Upload image projects/earthengine-legacy/assets/projects/global-mangrove-watch/land-cover/mangrove_extent-v3/gmw_v3_2017\n"
     ]
    },
    {
     "name": "stdout",
     "output_type": "stream",
     "text": [
      "Started upload task with ID: IQUM227GDTOQC523JV5RKL3F\n"
     ]
    },
    {
     "name": "stderr",
     "output_type": "stream",
     "text": [
      "INFO:root:Task created\n",
      "INFO:root:Upload image projects/earthengine-legacy/assets/projects/global-mangrove-watch/land-cover/mangrove_extent-v3/gmw_v3_2018\n"
     ]
    },
    {
     "name": "stdout",
     "output_type": "stream",
     "text": [
      "Started upload task with ID: PJOVGOMHETHY7TNFDOLAXNTN\n"
     ]
    },
    {
     "name": "stderr",
     "output_type": "stream",
     "text": [
      "INFO:root:Task created\n",
      "INFO:root:Upload image projects/earthengine-legacy/assets/projects/global-mangrove-watch/land-cover/mangrove_extent-v3/gmw_v3_2019\n"
     ]
    },
    {
     "name": "stdout",
     "output_type": "stream",
     "text": [
      "Started upload task with ID: VZWXQMIUX7XPRL2JPRXTHWLH\n"
     ]
    },
    {
     "name": "stderr",
     "output_type": "stream",
     "text": [
      "INFO:root:Task created\n",
      "INFO:root:Upload image projects/earthengine-legacy/assets/projects/global-mangrove-watch/land-cover/mangrove_extent-v3/gmw_v3_2020\n"
     ]
    },
    {
     "name": "stdout",
     "output_type": "stream",
     "text": [
      "Started upload task with ID: GTNM4IUMVSORB4NCG5H5LX57\n"
     ]
    }
   ],
   "source": [
    "createImageCollection(ee_asset_path = ee_image_collection,\n",
    "                        properties = extent_collection_properties, \n",
    "                        image_list = list_of_manifests)"
   ]
  },
  {
   "cell_type": "markdown",
   "metadata": {},
   "source": [
    "If we need to add new years to the image collection, we can do that by adding new manifests to the image collection asset."
   ]
  },
  {
   "cell_type": "code",
   "execution_count": 108,
   "metadata": {
    "vscode": {
     "languageId": "python"
    }
   },
   "outputs": [
    {
     "name": "stderr",
     "output_type": "stream",
     "text": [
      "INFO:root:Task created\n",
      "INFO:root:Upload image projects/earthengine-legacy/assets/projects/global-mangrove-watch/land-cover/mangrove-extent-test/gmw_v3_1996\n"
     ]
    },
    {
     "name": "stdout",
     "output_type": "stream",
     "text": [
      "Started upload task with ID: CJXPIRIMZJL6MGZ2US6RD3CH\n"
     ]
    }
   ],
   "source": [
    "addImagesToCollection(ee_image_collection, list_of_manifests[0:1])"
   ]
  },
  {
   "cell_type": "code",
   "execution_count": 2,
   "metadata": {
    "vscode": {
     "languageId": "python"
    }
   },
   "outputs": [],
   "source": [
    "# Check task status\n",
    "!earthengine task list --status RUNNING"
   ]
  }
 ],
 "metadata": {
  "kernelspec": {
   "display_name": "Python 3 (ipykernel)",
   "language": "python",
   "name": "python3"
  }
 },
 "nbformat": 4,
 "nbformat_minor": 4
}
