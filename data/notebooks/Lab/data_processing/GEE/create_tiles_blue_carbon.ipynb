{
 "cells": [
  {
   "cell_type": "markdown",
   "metadata": {},
   "source": [
    "# export tiles for gain and loss\n",
    "Based on [ee code](https://code.earthengine.google.com/8423c718d647f15ab3e9c31868489fd4?noload=true)"
   ]
  },
  {
   "cell_type": "code",
   "execution_count": null,
   "metadata": {
    "vscode": {
     "languageId": "python"
    }
   },
   "outputs": [],
   "source": [
    "import ee\n",
    "import geemap\n",
    "%run utils.ipynb"
   ]
  },
  {
   "cell_type": "code",
   "execution_count": null,
   "metadata": {
    "vscode": {
     "languageId": "python"
    }
   },
   "outputs": [
    {
     "data": {
      "text/html": [
       "<p>To authorize access needed by Earth Engine, open the following\n",
       "        URL in a web browser and follow the instructions:</p>\n",
       "        <p><a href=https://code.earthengine.google.com/client-auth?scopes=https%3A//www.googleapis.com/auth/earthengine%20https%3A//www.googleapis.com/auth/devstorage.full_control&request_id=96tCfGh7BxVTRCtELtP3UImNjK1utgaFFzSfWt2DJlM&tc=-2OdKh8yxLqr6r1DroMe4Z6493L78sxli8SSURlHAPw&cc=vs7M7KkFs25pyaOeILWNzZWut6EFP8A8c9ur9WkyXgI>https://code.earthengine.google.com/client-auth?scopes=https%3A//www.googleapis.com/auth/earthengine%20https%3A//www.googleapis.com/auth/devstorage.full_control&request_id=96tCfGh7BxVTRCtELtP3UImNjK1utgaFFzSfWt2DJlM&tc=-2OdKh8yxLqr6r1DroMe4Z6493L78sxli8SSURlHAPw&cc=vs7M7KkFs25pyaOeILWNzZWut6EFP8A8c9ur9WkyXgI</a></p>\n",
       "        <p>The authorization workflow will generate a code, which you should paste in the box below.</p>\n",
       "        "
      ],
      "text/plain": [
       "<IPython.core.display.HTML object>"
      ]
     },
     "metadata": {},
     "output_type": "display_data"
    },
    {
     "name": "stdout",
     "output_type": "stream",
     "text": [
      "\n",
      "Successfully saved authorization token.\n"
     ]
    }
   ],
   "source": [
    "# Trigger the authentication flow.\n",
    "# ee.ServiceAccountCredentials(EE_ACCOUNT, EE_PRIVATE_KEY_FILE)\n",
    "ee.Authenticate()"
   ]
  },
  {
   "cell_type": "code",
   "execution_count": null,
   "metadata": {
    "vscode": {
     "languageId": "python"
    }
   },
   "outputs": [],
   "source": [
    "# Initialize the library.\n",
    "ee.Initialize()"
   ]
  },
  {
   "cell_type": "markdown",
   "metadata": {},
   "source": [
    "### Data Assets"
   ]
  },
  {
   "cell_type": "code",
   "execution_count": null,
   "metadata": {
    "vscode": {
     "languageId": "python"
    }
   },
   "outputs": [],
   "source": [
    "## Assets selection\n",
    "gcs_bucket = 'mangrove_atlas'\n",
    "version = 'v3'\n",
    "dataset = f'mangrove_blue_carbon-{version}'\n",
    "data_year_range = [1996, 2007, 2008, 2009, 2010, 2015, 2016, 2017, 2018, 2019, 2020]\n",
    "# region for export\n",
    "region = ee.Geometry.Polygon([[[-180, 33],[-180, -34],[180, -34],[180, 33]]], None, False);\n",
    "# gain\n",
    "imageCollection = ee.ImageCollection(\n",
    "    f\"projects/global-mangrove-watch/mangrove-properties/{dataset}\")"
   ]
  },
  {
   "cell_type": "code",
   "execution_count": null,
   "metadata": {
    "vscode": {
     "languageId": "python"
    }
   },
   "outputs": [],
   "source": [
    "# styles\n",
    "color_ramp ='''\n",
    "    <RasterSymbolizer>\n",
    "    <ColorMap type=\"ramp\" extended=\"false\" >\n",
    "      <ColorMapEntry color=\"#5c4a3d\" quantity=\"400\" label=\"400\"/>\n",
    "      <ColorMapEntry color=\"#933a06\" quantity=\"800\" label=\"800\" />\n",
    "      <ColorMapEntry color=\"#b84e17\" quantity=\"1200\" label=\"1200\" />\n",
    "      <ColorMapEntry color=\"#e68518\" quantity=\"1600\" label=\"1600\" />\n",
    "      <ColorMapEntry color=\"#eeb66b\" quantity=\"2000\" label=\"2000\" />\n",
    "    </ColorMap>\n",
    "  </RasterSymbolizer>\n",
    "'''"
   ]
  },
  {
   "cell_type": "markdown",
   "metadata": {},
   "source": [
    "### Vizualize the data prior exporting it"
   ]
  },
  {
   "cell_type": "code",
   "execution_count": null,
   "metadata": {
    "vscode": {
     "languageId": "python"
    }
   },
   "outputs": [
    {
     "data": {
      "application/vnd.jupyter.widget-view+json": {
       "model_id": "98225020b23b48b7b36d8181e86849af",
       "version_major": 2,
       "version_minor": 0
      },
      "text/plain": [
       "Map(center=[-5, 39], controls=(WidgetControl(options=['position', 'transparent_bg'], widget=HBox(children=(Tog…"
      ]
     },
     "metadata": {},
     "output_type": "display_data"
    }
   ],
   "source": [
    "Map = geemap.Map(center=(-5, 39), zoom=12, basemap='HYBRID')\n",
    "\n",
    "Map.addLayer(imageCollection.first().sldStyle(color_ramp), {}, dataset, True, 0.5)\n",
    "Map"
   ]
  },
  {
   "cell_type": "markdown",
   "metadata": {},
   "source": [
    "### Export to tiles from GEE to GCS"
   ]
  },
  {
   "cell_type": "code",
   "execution_count": null,
   "metadata": {
    "vscode": {
     "languageId": "python"
    }
   },
   "outputs": [],
   "source": [
    "# Create a list of tasks to export the map tiles\n",
    "tasks_list = exportMapTasks(imageCollection, dataset, gcs_bucket, \n",
    "                        data_year_range, region, color_ramp, 0, 12)"
   ]
  },
  {
   "cell_type": "code",
   "execution_count": null,
   "metadata": {
    "vscode": {
     "languageId": "python"
    }
   },
   "outputs": [],
   "source": [
    "# execute tasks in batches due to gee limits\n",
    "batchExecute(tasks_list)"
   ]
  }
 ],
 "metadata": {
  "interpreter": {
   "hash": "31f2aee4e71d21fbe5cf8b01ff0e069b9275f58929596ceb00d14d90e3e16cd6"
  },
  "kernelspec": {
   "display_name": "Python 3 (ipykernel)",
   "language": "python",
   "name": "python3"
  }
 },
 "nbformat": 4,
 "nbformat_minor": 4
}
