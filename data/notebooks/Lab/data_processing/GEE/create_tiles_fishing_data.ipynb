{
 "cells": [
  {
   "attachments": {},
   "cell_type": "markdown",
   "metadata": {},
   "source": [
    "# export tiles for contextal layers\n"
   ]
  },
  {
   "cell_type": "code",
   "execution_count": 1,
   "metadata": {},
   "outputs": [],
   "source": [
    "import ee\n",
    "import geemap"
   ]
  },
  {
   "cell_type": "code",
   "execution_count": 2,
   "metadata": {},
   "outputs": [
    {
     "data": {
      "text/html": [
       "<p>To authorize access needed by Earth Engine, open the following\n",
       "        URL in a web browser and follow the instructions:</p>\n",
       "        <p><a href=https://code.earthengine.google.com/client-auth?scopes=https%3A//www.googleapis.com/auth/earthengine%20https%3A//www.googleapis.com/auth/devstorage.full_control&request_id=GEH3QbPNTIhiLjJseIyW9FM2bsH3OnSVxAwSWmmrOb8&tc=jWUlcxlPY6nKVMqmRzFx-bKOtL1SUCiZ5dl7hsNp08E&cc=apGjE4NpNrvKLQfJQOKHhMdHnAmfBCzgsbl0RiR72p4>https://code.earthengine.google.com/client-auth?scopes=https%3A//www.googleapis.com/auth/earthengine%20https%3A//www.googleapis.com/auth/devstorage.full_control&request_id=GEH3QbPNTIhiLjJseIyW9FM2bsH3OnSVxAwSWmmrOb8&tc=jWUlcxlPY6nKVMqmRzFx-bKOtL1SUCiZ5dl7hsNp08E&cc=apGjE4NpNrvKLQfJQOKHhMdHnAmfBCzgsbl0RiR72p4</a></p>\n",
       "        <p>The authorization workflow will generate a code, which you should paste in the box below.</p>\n",
       "        "
      ],
      "text/plain": [
       "<IPython.core.display.HTML object>"
      ]
     },
     "metadata": {},
     "output_type": "display_data"
    },
    {
     "name": "stdout",
     "output_type": "stream",
     "text": [
      "\n",
      "Successfully saved authorization token.\n"
     ]
    }
   ],
   "source": [
    "# Trigger the authentication flow.\n",
    "# ee.ServiceAccountCredentials(EE_ACCOUNT, EE_PRIVATE_KEY_FILE)\n",
    "ee.Authenticate(auth_mode='notebook')"
   ]
  },
  {
   "cell_type": "code",
   "execution_count": 2,
   "metadata": {},
   "outputs": [],
   "source": [
    "# Initialize the library.\n",
    "ee.Initialize()"
   ]
  },
  {
   "cell_type": "code",
   "execution_count": 3,
   "metadata": {},
   "outputs": [],
   "source": [
    "def exportMapTask(asset: ee.Image, asset_name: str, gcbucket: str,\n",
    "                #region: ee.Geometry, min_zoom: int, max_zoom: int,\n",
    "                min_zoom: int, max_zoom: int, \n",
    "                env: str = 'staging', key: str = 'year'):\n",
    "    \"\"\"\n",
    "    Export the data to GEE.\n",
    "\n",
    "    Parameters\n",
    "    ----------\n",
    "    asset : ee.Image\n",
    "        The image to export.\n",
    "    asset_name : str\n",
    "        The name of the asset.\n",
    "    gcbucket : str\n",
    "        The name of the GCS bucket.\n",
    "    geometry_collection : ee.GeometryCollection\n",
    "        The geometry collection to export the data.\n",
    "    \n",
    "    Returns\n",
    "    -------\n",
    "    A task\n",
    "    \"\"\"\n",
    "    \n",
    "    \n",
    "    return ee.batch.Export.map.toCloudStorage(\n",
    "            image = asset,\n",
    "            description = f'{asset_name}',\n",
    "            path = f'{env}/tilesets/{asset_name}',\n",
    "            bucket = gcbucket,\n",
    "            minZoom = min_zoom,\n",
    "            maxZoom = max_zoom,\n",
    "            writePublicTiles = False,\n",
    "            skipEmptyTiles = True,\n",
    "            fileFormat = 'png'#,\n",
    "            #region = region\n",
    "            )"
   ]
  },
  {
   "attachments": {},
   "cell_type": "markdown",
   "metadata": {},
   "source": [
    "### Data Layer: Fishing intensity associated with mangroves\n",
    "#### Visualize the data prior exporting it"
   ]
  },
  {
   "cell_type": "code",
   "execution_count": 4,
   "metadata": {},
   "outputs": [
    {
     "data": {
      "application/vnd.jupyter.widget-view+json": {
       "model_id": "1454115312ab4a2da403234a7081c748",
       "version_major": 2,
       "version_minor": 0
      },
      "text/plain": [
       "Map(center=[3.3, 117.4], controls=(WidgetControl(options=['position', 'transparent_bg'], widget=HBox(children=…"
      ]
     },
     "execution_count": 4,
     "metadata": {},
     "output_type": "execute_result"
    }
   ],
   "source": [
    "gcs_bucket = 'mangrove_atlas'\n",
    "\n",
    "dataset = f'fishing_intensity_mangroves'\n",
    "# Region to export\n",
    "region = ee.Geometry.Polygon([[[-180, 33],[-180, -34],[180, -34],[180, 33]]], None, False);\n",
    "# layer to export\n",
    "image = ee.Image(\"projects/mangrove-atlas-246414/assets/fishing_intensity_mangroves\")\n",
    "\n",
    "# exagerated image overviews for zoomed out views\n",
    "#overviews = image_extent.resample('bilinear').unmask().focalMode(1, 'circle', 'pixels', 3).selfMask()\n",
    "# visualization parameters\n",
    "visoptions =  {\"palette\": ['B7E6A5', 'ca5268'], \"min\": 1, \"max\": 2}\n",
    "\n",
    "styled_image = image.sldStyle(\"\"\"\n",
    "    <RasterSymbolizer>\n",
    "        <ColorMap type=\"ramp\" extended=\"false\" >\n",
    "            <ColorMapEntry color=\"#F3E79B\" quantity=\"50\" label=\"0 - 50\"/> +\n",
    "            <ColorMapEntry color=\"#FAC484\" quantity=\"200\" label=\">50 - 200\"/> +\n",
    "            <ColorMapEntry color=\"#F0746E\" quantity=\"700\" label=\">200 - 700\"/> +\n",
    "            <ColorMapEntry color=\"#B9257A\" quantity=\"2000\" label=\">700 - 2000\"/> +\n",
    "            <ColorMapEntry color=\"#701A64\" quantity=\"3000000\" label=\">2000\"/> +\n",
    "        </ColorMap>\n",
    "    </RasterSymbolizer>\n",
    "\"\"\")\n",
    "# exagerated image overviews for zoomed out views\n",
    "overviews = styled_image.resample('bilinear').unmask().focalMode(1, 'circle', 'pixels', 2).selfMask()\n",
    "\n",
    "Map = geemap.Map(center=( 3.3, 117.4), zoom=9, basemap='CartoDB.PositronNoLabels')\n",
    "\n",
    "Map.addLayer(styled_image, {}, f\"{dataset}\", True, 1)\n",
    "Map.addLayer(overviews, {}, f\"{dataset}\", True, 1)\n",
    "\n",
    "Map"
   ]
  },
  {
   "attachments": {},
   "cell_type": "markdown",
   "metadata": {},
   "source": [
    "#### Export to tiles from GEE to GCS"
   ]
  },
  {
   "cell_type": "code",
   "execution_count": 6,
   "metadata": {},
   "outputs": [],
   "source": [
    "task = exportMapTask(overviews, f'{dataset}_updated', gcs_bucket, \n",
    "                     1, 3)\n",
    "# Create a list of tasks to export the map tiles\n",
    "task2 = exportMapTask(styled_image, f'{dataset}_updated', gcs_bucket, \n",
    "                     4, 12)\n",
    "# execute tasks in batches due to gee limits\n",
    "task.start()\n",
    "task2.start()\n"
   ]
  },
  {
   "cell_type": "code",
   "execution_count": null,
   "metadata": {},
   "outputs": [],
   "source": []
  }
 ],
 "metadata": {
  "interpreter": {
   "hash": "31f2aee4e71d21fbe5cf8b01ff0e069b9275f58929596ceb00d14d90e3e16cd6"
  },
  "kernelspec": {
   "display_name": "Python 3 (ipykernel)",
   "language": "python",
   "name": "python3"
  },
  "language_info": {
   "codemirror_mode": {
    "name": "ipython",
    "version": 3
   },
   "file_extension": ".py",
   "mimetype": "text/x-python",
   "name": "python",
   "nbconvert_exporter": "python",
   "pygments_lexer": "ipython3",
   "version": "3.11.4"
  }
 },
 "nbformat": 4,
 "nbformat_minor": 4
}
