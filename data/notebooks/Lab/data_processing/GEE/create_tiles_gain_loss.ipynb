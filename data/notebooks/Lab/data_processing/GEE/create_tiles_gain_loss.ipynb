{
 "cells": [
  {
   "cell_type": "markdown",
   "metadata": {},
   "source": [
    "# export tiles for gain and loss\n",
    "Based on [ee code](https://code.earthengine.google.com/8423c718d647f15ab3e9c31868489fd4?noload=true)"
   ]
  },
  {
   "cell_type": "code",
   "execution_count": 90,
   "metadata": {},
   "outputs": [],
   "source": [
    "import ee\n",
    "import geemap\n",
    "%run utils.ipynb"
   ]
  },
  {
   "cell_type": "code",
   "execution_count": 2,
   "metadata": {},
   "outputs": [
    {
     "data": {
      "text/html": [
       "<p>To authorize access needed by Earth Engine, open the following\n",
       "        URL in a web browser and follow the instructions:</p>\n",
       "        <p><a href=https://code.earthengine.google.com/client-auth?scopes=https%3A//www.googleapis.com/auth/earthengine%20https%3A//www.googleapis.com/auth/devstorage.full_control&request_id=96tCfGh7BxVTRCtELtP3UImNjK1utgaFFzSfWt2DJlM&tc=-2OdKh8yxLqr6r1DroMe4Z6493L78sxli8SSURlHAPw&cc=vs7M7KkFs25pyaOeILWNzZWut6EFP8A8c9ur9WkyXgI>https://code.earthengine.google.com/client-auth?scopes=https%3A//www.googleapis.com/auth/earthengine%20https%3A//www.googleapis.com/auth/devstorage.full_control&request_id=96tCfGh7BxVTRCtELtP3UImNjK1utgaFFzSfWt2DJlM&tc=-2OdKh8yxLqr6r1DroMe4Z6493L78sxli8SSURlHAPw&cc=vs7M7KkFs25pyaOeILWNzZWut6EFP8A8c9ur9WkyXgI</a></p>\n",
       "        <p>The authorization workflow will generate a code, which you should paste in the box below.</p>\n",
       "        "
      ],
      "text/plain": [
       "<IPython.core.display.HTML object>"
      ]
     },
     "metadata": {},
     "output_type": "display_data"
    },
    {
     "name": "stdout",
     "output_type": "stream",
     "text": [
      "\n",
      "Successfully saved authorization token.\n"
     ]
    }
   ],
   "source": [
    "# Trigger the authentication flow.\n",
    "#ee.ServiceAccountCredentials(EE_ACCOUNT, EE_PRIVATE_KEY_FILE)\n",
    "ee.Authenticate()"
   ]
  },
  {
   "cell_type": "code",
   "execution_count": 58,
   "metadata": {},
   "outputs": [],
   "source": [
    "# Initialize the library.\n",
    "ee.Initialize()"
   ]
  },
  {
   "cell_type": "markdown",
   "metadata": {},
   "source": [
    "### Data Assets"
   ]
  },
  {
   "cell_type": "code",
   "execution_count": 70,
   "metadata": {},
   "outputs": [],
   "source": [
    "gcs_bucket = 'mangrove_atlas'\n",
    "dataset = ['mangrove-extent-gain', 'mangrove-extent-loss']"
   ]
  },
  {
   "cell_type": "code",
   "execution_count": 77,
   "metadata": {},
   "outputs": [],
   "source": [
    "## Assets selection\n",
    "# region for export\n",
    "data_year_range = [2007, 2008, 2009, 2010, 2015, 2016, 2017, 2018, 2019, 2020]\n",
    "region = ee.Geometry.Polygon([[[-180, 33],[-180, -34],[180, -34],[180, 33]]], None, False);\n",
    "# gain\n",
    "gain = ee.ImageCollection(\n",
    "    f\"projects/global-mangrove-watch/land-cover/{dataset[0]}\")\n",
    "# loss\n",
    "loss = ee.ImageCollection(\n",
    "    f\"projects/global-mangrove-watch/land-cover/{dataset[1]}\")"
   ]
  },
  {
   "cell_type": "code",
   "execution_count": 78,
   "metadata": {},
   "outputs": [],
   "source": [
    "# styles\n",
    "gain_ramp ='''\n",
    "    <RasterSymbolizer>\n",
    "        <ColorMap type=\"ramp\" extended=\"false\" >\n",
    "        <ColorMapEntry color=\"#a6cb10\" quantity=\"1\" label=\"1\"/>\n",
    "        </ColorMap>\n",
    "    </RasterSymbolizer>\n",
    "'''\n",
    "loss_ramp = '''\n",
    "    <RasterSymbolizer>\n",
    "        <ColorMap type=\"ramp\" extended=\"false\" >\n",
    "        <ColorMapEntry color=\"#eb6240\" quantity=\"1\" label=\"1\"/>\n",
    "        </ColorMap>\n",
    "    </RasterSymbolizer>\n",
    "'''"
   ]
  },
  {
   "cell_type": "markdown",
   "metadata": {},
   "source": [
    "### Vizualize the data prior exporting it"
   ]
  },
  {
   "cell_type": "code",
   "execution_count": 81,
   "metadata": {},
   "outputs": [
    {
     "data": {
      "application/vnd.jupyter.widget-view+json": {
       "model_id": "06f7b6fb90b84c76be2a324423cd05d2",
       "version_major": 2,
       "version_minor": 0
      },
      "text/plain": [
       "Map(center=[-5, 39], controls=(WidgetControl(options=['position', 'transparent_bg'], widget=HBox(children=(Tog…"
      ]
     },
     "metadata": {},
     "output_type": "display_data"
    }
   ],
   "source": [
    "Map = geemap.Map(center=(-5, 39), zoom=12, basemap='HYBRID')\n",
    "vis_params = {\n",
    "    'min': 1,\n",
    "    'max': 1,\n",
    "    'palette': ['eb6240'],\n",
    "}\n",
    "Map.addLayer(ee.Image(gain.first()), vis_params, 'Gain', True, 0.5)\n",
    "Map.addLayer(ee.Image(loss.first()), vis_params, 'Loss', True, 0.5)\n",
    "Map"
   ]
  },
  {
   "cell_type": "markdown",
   "metadata": {},
   "source": [
    "### Export map Tiles"
   ]
  },
  {
   "cell_type": "code",
   "execution_count": 82,
   "metadata": {},
   "outputs": [],
   "source": [
    "# Create a list of tasks to export the map tiles\n",
    "gain_export_tasks = exportMapTasks(gain, 'gain', gcs_bucket, data_year_range, \n",
    "            region, gain_ramp, 0, 12)"
   ]
  },
  {
   "cell_type": "code",
   "execution_count": 83,
   "metadata": {},
   "outputs": [],
   "source": [
    "# Create a list of tasks to export the map tiles\n",
    "loss_export_tasks = exportMapTasks(loss, 'loss', gcs_bucket, data_year_range, \n",
    "            region, loss_ramp, 0, 12)"
   ]
  },
  {
   "cell_type": "code",
   "execution_count": 84,
   "metadata": {},
   "outputs": [],
   "source": [
    "tasks_list = gain_export_tasks + loss_export_tasks"
   ]
  },
  {
   "cell_type": "code",
   "execution_count": 85,
   "metadata": {},
   "outputs": [
    {
     "data": {
      "text/plain": [
       "20"
      ]
     },
     "execution_count": 85,
     "metadata": {},
     "output_type": "execute_result"
    }
   ],
   "source": [
    "len(tasks_list)"
   ]
  },
  {
   "cell_type": "code",
   "execution_count": null,
   "metadata": {},
   "outputs": [],
   "source": [
    "batchExecute(tasks_list)"
   ]
  },
  {
   "cell_type": "markdown",
   "metadata": {},
   "source": [
    "## Create vector tiles for gain and loss"
   ]
  },
  {
   "cell_type": "code",
   "execution_count": 86,
   "metadata": {},
   "outputs": [],
   "source": [
    "my_asset = ee.ImageCollection('projects/global-mangrove-watch/land-cover/mangrove-extent-gain').first()\n",
    "\n",
    "# Get nominal scale\n",
    "ns = my_asset.projection().nominalScale().getInfo()\n",
    "vector_reducer = {\n",
    "            'reducer':ee.Reducer.countEvery(), \n",
    "                'geometry': region, \n",
    "                'scale': ns, \n",
    "                'geometryType': 'polygon', \n",
    "                'eightConnected': True, \n",
    "                'labelProperty': 'gain', \n",
    "                'bestEffort': True, \n",
    "                'maxPixels': 1e13, \n",
    "                'tileScale': 4, \n",
    "                'geometryInNativeProjection': False}\n",
    "\n",
    "new_vector = ee.FeatureCollection(my_asset.reduceToVectors(**vector_reducer))\n",
    "\n",
    "task = ee.batch.Export.table.toAsset(new_vector,'test_table', 'projects/global-mangrove-watch/test_vector', 1e6)\n",
    "task.start()\n",
    "\n",
    "# Export the vectorized FeatureCollection as a FeatureView asset.\n",
    "task = ee.batch.Export.table.toFeatureView(**{\n",
    "  'collection': new_vector,\n",
    "  'assetId': 'projects/global-mangrove-watch/test_vector',\n",
    "  'description': 'test_vector',\n",
    "  'maxFeaturesPerTile': 1500,\n",
    "  'thinningStrategy': 'HIGHER_DENSITY',\n",
    "  'thinningRanking': ['REP_AREA DESC'],\n",
    "  'zOrderRanking': ['REP_AREA DESC'],\n",
    "})\n",
    "\n",
    "task.start()"
   ]
  },
  {
   "cell_type": "code",
   "execution_count": null,
   "metadata": {},
   "outputs": [],
   "source": [
    "Map = geemap.Map(center=(-7.998, 39.4767), zoom=9, basemap='HYBRID')\n",
    "vis_params = {\n",
    "    'min': 1,\n",
    "    'max': 1,\n",
    "    'palette': ['eb6240'],\n",
    "}\n",
    "Map.addLayer(my_asset, vis_params, 'gain', True, 1)\n",
    "Map.addLayer(new_vector,{}, 'gain_vector', True, 1)\n",
    "display(Map)"
   ]
  }
 ],
 "metadata": {
  "interpreter": {
   "hash": "31f2aee4e71d21fbe5cf8b01ff0e069b9275f58929596ceb00d14d90e3e16cd6"
  },
  "kernelspec": {
   "display_name": "Python 3 (ipykernel)",
   "language": "python",
   "name": "python3"
  },
  "language_info": {
   "codemirror_mode": {
    "name": "ipython",
    "version": 3
   },
   "file_extension": ".py",
   "mimetype": "text/x-python",
   "name": "python",
   "nbconvert_exporter": "python",
   "pygments_lexer": "ipython3",
   "version": "3.8.6"
  }
 },
 "nbformat": 4,
 "nbformat_minor": 4
}
