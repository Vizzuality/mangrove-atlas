{
 "cells": [
  {
   "cell_type": "markdown",
   "metadata": {},
   "source": [
    "# export tiles for gain and loss\n",
    "Based on [ee code](https://code.earthengine.google.com/8423c718d647f15ab3e9c31868489fd4?noload=true)"
   ]
  },
  {
   "cell_type": "code",
   "execution_count": 255,
   "metadata": {},
   "outputs": [],
   "source": [
    "import ee\n",
    "import geemap\n",
    "%run utils.ipynb"
   ]
  },
  {
   "cell_type": "code",
   "execution_count": 256,
   "metadata": {},
   "outputs": [
    {
     "data": {
      "text/html": [
       "<p>To authorize access needed by Earth Engine, open the following\n",
       "        URL in a web browser and follow the instructions:</p>\n",
       "        <p><a href=https://code.earthengine.google.com/client-auth?scopes=https%3A//www.googleapis.com/auth/earthengine%20https%3A//www.googleapis.com/auth/devstorage.full_control&request_id=Qj2GfkfZnUPxdkdycLgC89FJBtcuvHsZIDfu2g6HAX4&tc=HetT5SonpZTLDsCtfJ0FnBcdykmAD-kuxZ3b0DD44zs&cc=YeY34os2XeOjKKG-gCltpUu9T15Ngb7JW6j0cPqI6mw>https://code.earthengine.google.com/client-auth?scopes=https%3A//www.googleapis.com/auth/earthengine%20https%3A//www.googleapis.com/auth/devstorage.full_control&request_id=Qj2GfkfZnUPxdkdycLgC89FJBtcuvHsZIDfu2g6HAX4&tc=HetT5SonpZTLDsCtfJ0FnBcdykmAD-kuxZ3b0DD44zs&cc=YeY34os2XeOjKKG-gCltpUu9T15Ngb7JW6j0cPqI6mw</a></p>\n",
       "        <p>The authorization workflow will generate a code, which you should paste in the box below.</p>\n",
       "        "
      ],
      "text/plain": [
       "<IPython.core.display.HTML object>"
      ]
     },
     "metadata": {},
     "output_type": "display_data"
    },
    {
     "name": "stdout",
     "output_type": "stream",
     "text": [
      "\n",
      "Successfully saved authorization token.\n"
     ]
    }
   ],
   "source": [
    "# Trigger the authentication flow.\n",
    "#ee.ServiceAccountCredentials(EE_ACCOUNT, EE_PRIVATE_KEY_FILE)\n",
    "ee.Authenticate()"
   ]
  },
  {
   "cell_type": "code",
   "execution_count": 257,
   "metadata": {},
   "outputs": [],
   "source": [
    "# Initialize the library.\n",
    "ee.Initialize()"
   ]
  },
  {
   "cell_type": "markdown",
   "metadata": {},
   "source": [
    "### Data Assets"
   ]
  },
  {
   "cell_type": "code",
   "execution_count": 258,
   "metadata": {},
   "outputs": [],
   "source": [
    "gcs_bucket = 'mangrove_atlas'\n",
    "version = 'v3'\n",
    "dataset = [f'mangrove_extent_gain-{version}', f'mangrove_extent_loss-{version}']"
   ]
  },
  {
   "cell_type": "code",
   "execution_count": 273,
   "metadata": {},
   "outputs": [],
   "source": [
    "## Assets selection\n",
    "# region for export\n",
    "data_year_range = [2007, 2008, 2009, 2010, 2015, 2016, 2017, 2018, 2019, 2020]\n",
    "region = ee.Geometry.BBox(-180, -33, 0, 34);\n",
    "# gain\n",
    "gain = ee.ImageCollection(\n",
    "    f\"projects/global-mangrove-watch/land-cover/{dataset[0]}\")\n",
    "# loss\n",
    "loss = ee.ImageCollection(\n",
    "    f\"projects/global-mangrove-watch/land-cover/{dataset[1]}\")"
   ]
  },
  {
   "cell_type": "code",
   "execution_count": 260,
   "metadata": {},
   "outputs": [],
   "source": [
    "# styles\n",
    "gain_ramp ='''\n",
    "    <RasterSymbolizer>\n",
    "        <ColorMap type=\"ramp\" extended=\"false\" >\n",
    "        <ColorMapEntry color=\"#a6cb10\" quantity=\"1\" label=\"1\"/>\n",
    "        </ColorMap>\n",
    "    </RasterSymbolizer>\n",
    "'''\n",
    "loss_ramp = '''\n",
    "    <RasterSymbolizer>\n",
    "        <ColorMap type=\"ramp\" extended=\"false\" >\n",
    "        <ColorMapEntry color=\"#eb6240\" quantity=\"1\" label=\"1\"/>\n",
    "        </ColorMap>\n",
    "    </RasterSymbolizer>\n",
    "'''"
   ]
  },
  {
   "cell_type": "markdown",
   "metadata": {},
   "source": [
    "### Vizualize the data prior exporting it"
   ]
  },
  {
   "cell_type": "code",
   "execution_count": 274,
   "metadata": {},
   "outputs": [
    {
     "data": {
      "application/vnd.jupyter.widget-view+json": {
       "model_id": "4b9052c685084ab4b6a7bbb9631bd288",
       "version_major": 2,
       "version_minor": 0
      },
      "text/plain": [
       "Map(center=[-5, 39], controls=(WidgetControl(options=['position', 'transparent_bg'], widget=HBox(children=(Tog…"
      ]
     },
     "metadata": {},
     "output_type": "display_data"
    }
   ],
   "source": [
    "Map = geemap.Map(center=(-5, 39), zoom=5, basemap='HYBRID')\n",
    "\n",
    "Map.addLayer(ee.Image(gain.first().clip(region).sldStyle(gain_ramp)), {}, 'Gain', True, 1)\n",
    "Map.addLayer(ee.Image(loss.first().sldStyle(loss_ramp)), {}, 'Loss', True, 1)\n",
    "Map.addLayer(region, {}, 'mask', True, 1)\n",
    "\n",
    "Map"
   ]
  },
  {
   "cell_type": "markdown",
   "metadata": {},
   "source": [
    "### Export map Tiles"
   ]
  },
  {
   "cell_type": "code",
   "execution_count": 14,
   "metadata": {},
   "outputs": [],
   "source": [
    "# Create a list of tasks to export the map tiles\n",
    "gain_export_tasks = exportMapTasks(gain, 'gain', gcs_bucket, data_year_range, \n",
    "            region, gain_ramp, 0, 12, key = 'end_year')"
   ]
  },
  {
   "cell_type": "code",
   "execution_count": 15,
   "metadata": {},
   "outputs": [],
   "source": [
    "# Create a list of tasks to export the map tiles\n",
    "loss_export_tasks = exportMapTasks(loss, 'loss', gcs_bucket, data_year_range, \n",
    "            region, loss_ramp, 0, 12, key = 'end_year')"
   ]
  },
  {
   "cell_type": "code",
   "execution_count": 16,
   "metadata": {},
   "outputs": [],
   "source": [
    "tasks_list = gain_export_tasks + loss_export_tasks"
   ]
  },
  {
   "cell_type": "code",
   "execution_count": 17,
   "metadata": {},
   "outputs": [
    {
     "data": {
      "text/plain": [
       "20"
      ]
     },
     "execution_count": 17,
     "metadata": {},
     "output_type": "execute_result"
    }
   ],
   "source": [
    "len(tasks_list)"
   ]
  },
  {
   "cell_type": "code",
   "execution_count": 18,
   "metadata": {},
   "outputs": [
    {
     "data": {
      "text/plain": [
       "[<Task RUWYFFXFJICN35MPE4CPNZXS EXPORT_TILES: gain_2007 (UNSUBMITTED)>,\n",
       " <Task BRYWWUFZ25JBIOV6F6UZJMPN EXPORT_TILES: gain_2008 (UNSUBMITTED)>,\n",
       " <Task OV6C3OPRLVMBPZSLGYYFVDCH EXPORT_TILES: gain_2009 (UNSUBMITTED)>,\n",
       " <Task OCCRIZKKTPQXLZHO6EVC6XD5 EXPORT_TILES: gain_2010 (UNSUBMITTED)>,\n",
       " <Task GIEQHME6HR7KHCTAJV3VQQNB EXPORT_TILES: gain_2015 (UNSUBMITTED)>,\n",
       " <Task 3VH2HX3QKOETSATJE6JT6GT5 EXPORT_TILES: gain_2016 (UNSUBMITTED)>,\n",
       " <Task TVWYQYYJ63XL67XR54RHWVYS EXPORT_TILES: gain_2017 (UNSUBMITTED)>,\n",
       " <Task EECWIB2MLKNATCTNJLIOT2NR EXPORT_TILES: gain_2018 (UNSUBMITTED)>,\n",
       " <Task VLESTD6TLFWRUXAF7CPAEUJC EXPORT_TILES: gain_2019 (UNSUBMITTED)>,\n",
       " <Task DNA4B6GEOESZWETI4QVE7RV3 EXPORT_TILES: gain_2020 (UNSUBMITTED)>,\n",
       " <Task 4YRJCFTQVT5QYWEP2NSYI7NN EXPORT_TILES: loss_2007 (UNSUBMITTED)>,\n",
       " <Task J5AA3QXN2OWU7EXMYMR72IKX EXPORT_TILES: loss_2008 (UNSUBMITTED)>,\n",
       " <Task LDV2XIFCKFQB75QTXJBC5NTQ EXPORT_TILES: loss_2009 (UNSUBMITTED)>,\n",
       " <Task ZDDIAG5CD7JG6Q3AQ3DOF5LP EXPORT_TILES: loss_2010 (UNSUBMITTED)>,\n",
       " <Task BIQO2QS2EJBNHT572DMDMLHN EXPORT_TILES: loss_2015 (UNSUBMITTED)>,\n",
       " <Task JTT5VLEF5BMEGAQ6PKTDCD5N EXPORT_TILES: loss_2016 (UNSUBMITTED)>,\n",
       " <Task AAFSGIJM7K53JI6X2Q7APAMX EXPORT_TILES: loss_2017 (UNSUBMITTED)>,\n",
       " <Task HNBCDWE3DXBQXP4TJRZYJXOW EXPORT_TILES: loss_2018 (UNSUBMITTED)>,\n",
       " <Task 7HAR3TOZKPWHCQS4RR7JFQ7V EXPORT_TILES: loss_2019 (UNSUBMITTED)>,\n",
       " <Task Y2PEVUAWRJJXDM43TGJEBY47 EXPORT_TILES: loss_2020 (UNSUBMITTED)>]"
      ]
     },
     "execution_count": 18,
     "metadata": {},
     "output_type": "execute_result"
    }
   ],
   "source": [
    "batchExecute(tasks_list)"
   ]
  },
  {
   "cell_type": "markdown",
   "metadata": {},
   "source": [
    "## Create vector tiles for gain and loss"
   ]
  },
  {
   "cell_type": "code",
   "execution_count": 15,
   "metadata": {},
   "outputs": [],
   "source": [
    "my_asset = gain.first()\n",
    "\n",
    "# Get nominal scale\n",
    "ns = my_asset.projection().nominalScale().getInfo()\n",
    "vector_reducer = {\n",
    "            'reducer':ee.Reducer.countEvery(), \n",
    "                'geometry': region, \n",
    "                'scale': ns, \n",
    "                'geometryType': 'polygon', \n",
    "                'eightConnected': True, \n",
    "                'labelProperty': 'gain', \n",
    "                'bestEffort': True, \n",
    "                'maxPixels': 1e13, \n",
    "                'tileScale': 4, \n",
    "                'geometryInNativeProjection': False}\n",
    "\n",
    "new_vector = ee.FeatureCollection(my_asset.reduceToVectors(**vector_reducer))\n",
    "\n",
    "task = ee.batch.Export.table.toAsset(new_vector,'test_table', 'projects/global-mangrove-watch/test_vector', 1e6)\n",
    "task.start()\n",
    "\n",
    "# Export the vectorized FeatureCollection as a FeatureView asset.\n",
    "task = ee.batch.Export.table.toFeatureView(**{\n",
    "  'collection': new_vector,\n",
    "  'assetId': 'projects/global-mangrove-watch/test_vector',\n",
    "  'description': 'test_vector',\n",
    "  'maxFeaturesPerTile': 1500,\n",
    "  'thinningStrategy': 'HIGHER_DENSITY',\n",
    "  'thinningRanking': ['REP_AREA DESC'],\n",
    "  'zOrderRanking': ['REP_AREA DESC'],\n",
    "})\n",
    "\n",
    "#task.start()"
   ]
  },
  {
   "cell_type": "code",
   "execution_count": 18,
   "metadata": {},
   "outputs": [
    {
     "ename": "EEException",
     "evalue": "Computation timed out.",
     "output_type": "error",
     "traceback": [
      "\u001b[0;31m---------------------------------------------------------------------------\u001b[0m",
      "\u001b[0;31mHttpError\u001b[0m                                 Traceback (most recent call last)",
      "File \u001b[0;32m/opt/conda/lib/python3.8/site-packages/ee/data.py:328\u001b[0m, in \u001b[0;36m_execute_cloud_call\u001b[0;34m(call, num_retries)\u001b[0m\n\u001b[1;32m    327\u001b[0m \u001b[39mtry\u001b[39;00m:\n\u001b[0;32m--> 328\u001b[0m   \u001b[39mreturn\u001b[39;00m call\u001b[39m.\u001b[39;49mexecute(num_retries\u001b[39m=\u001b[39;49mnum_retries)\n\u001b[1;32m    329\u001b[0m \u001b[39mexcept\u001b[39;00m googleapiclient\u001b[39m.\u001b[39merrors\u001b[39m.\u001b[39mHttpError \u001b[39mas\u001b[39;00m e:\n",
      "File \u001b[0;32m/opt/conda/lib/python3.8/site-packages/googleapiclient/_helpers.py:134\u001b[0m, in \u001b[0;36mpositional.<locals>.positional_decorator.<locals>.positional_wrapper\u001b[0;34m(*args, **kwargs)\u001b[0m\n\u001b[1;32m    133\u001b[0m         logger\u001b[39m.\u001b[39mwarning(message)\n\u001b[0;32m--> 134\u001b[0m \u001b[39mreturn\u001b[39;00m wrapped(\u001b[39m*\u001b[39;49margs, \u001b[39m*\u001b[39;49m\u001b[39m*\u001b[39;49mkwargs)\n",
      "File \u001b[0;32m/opt/conda/lib/python3.8/site-packages/googleapiclient/http.py:915\u001b[0m, in \u001b[0;36mHttpRequest.execute\u001b[0;34m(self, http, num_retries)\u001b[0m\n\u001b[1;32m    914\u001b[0m \u001b[39mif\u001b[39;00m resp\u001b[39m.\u001b[39mstatus \u001b[39m>\u001b[39m\u001b[39m=\u001b[39m \u001b[39m300\u001b[39m:\n\u001b[0;32m--> 915\u001b[0m     \u001b[39mraise\u001b[39;00m HttpError(resp, content, uri\u001b[39m=\u001b[39m\u001b[39mself\u001b[39m\u001b[39m.\u001b[39muri)\n\u001b[1;32m    916\u001b[0m \u001b[39mreturn\u001b[39;00m \u001b[39mself\u001b[39m\u001b[39m.\u001b[39mpostproc(resp, content)\n",
      "\u001b[0;31mHttpError\u001b[0m: <HttpError 400 when requesting https://earthengine.googleapis.com/v1alpha/projects/earthengine-legacy/value:compute?prettyPrint=false&alt=json returned \"Computation timed out.\". Details: \"Computation timed out.\">",
      "\nDuring handling of the above exception, another exception occurred:\n",
      "\u001b[0;31mEEException\u001b[0m                               Traceback (most recent call last)",
      "\u001b[1;32m/home/alicitita/Projects/mangrove-atlas/data/notebooks/Lab/data_processing/GEE/create_tiles_gain_loss.ipynb Cell 19\u001b[0m in \u001b[0;36m<cell line: 1>\u001b[0;34m()\u001b[0m\n\u001b[0;32m----> <a href='vscode-notebook-cell:/home/alicitita/Projects/mangrove-atlas/data/notebooks/Lab/data_processing/GEE/create_tiles_gain_loss.ipynb#X25sZmlsZQ%3D%3D?line=0'>1</a>\u001b[0m new_vector\u001b[39m.\u001b[39;49mgetInfo()\n",
      "File \u001b[0;32m/opt/conda/lib/python3.8/site-packages/ee/collection.py:133\u001b[0m, in \u001b[0;36mCollection.getInfo\u001b[0;34m(self)\u001b[0m\n\u001b[1;32m    120\u001b[0m \u001b[39mdef\u001b[39;00m \u001b[39mgetInfo\u001b[39m(\u001b[39mself\u001b[39m):\n\u001b[1;32m    121\u001b[0m   \u001b[39m\"\"\"Returns all the known information about this collection.\u001b[39;00m\n\u001b[1;32m    122\u001b[0m \n\u001b[1;32m    123\u001b[0m \u001b[39m  This function makes an REST call to to retrieve all the known information\u001b[39;00m\n\u001b[0;32m   (...)\u001b[0m\n\u001b[1;32m    131\u001b[0m \u001b[39m         properties.\u001b[39;00m\n\u001b[1;32m    132\u001b[0m \u001b[39m  \"\"\"\u001b[39;00m\n\u001b[0;32m--> 133\u001b[0m   \u001b[39mreturn\u001b[39;00m \u001b[39msuper\u001b[39;49m(Collection, \u001b[39mself\u001b[39;49m)\u001b[39m.\u001b[39;49mgetInfo()\n",
      "File \u001b[0;32m/opt/conda/lib/python3.8/site-packages/ee/computedobject.py:98\u001b[0m, in \u001b[0;36mComputedObject.getInfo\u001b[0;34m(self)\u001b[0m\n\u001b[1;32m     92\u001b[0m \u001b[39mdef\u001b[39;00m \u001b[39mgetInfo\u001b[39m(\u001b[39mself\u001b[39m):\n\u001b[1;32m     93\u001b[0m   \u001b[39m\"\"\"Fetch and return information about this object.\u001b[39;00m\n\u001b[1;32m     94\u001b[0m \n\u001b[1;32m     95\u001b[0m \u001b[39m  Returns:\u001b[39;00m\n\u001b[1;32m     96\u001b[0m \u001b[39m    The object can evaluate to anything.\u001b[39;00m\n\u001b[1;32m     97\u001b[0m \u001b[39m  \"\"\"\u001b[39;00m\n\u001b[0;32m---> 98\u001b[0m   \u001b[39mreturn\u001b[39;00m data\u001b[39m.\u001b[39;49mcomputeValue(\u001b[39mself\u001b[39;49m)\n",
      "File \u001b[0;32m/opt/conda/lib/python3.8/site-packages/ee/data.py:738\u001b[0m, in \u001b[0;36mcomputeValue\u001b[0;34m(obj)\u001b[0m\n\u001b[1;32m    735\u001b[0m \u001b[39mif\u001b[39;00m workload_tag:\n\u001b[1;32m    736\u001b[0m   body[\u001b[39m'\u001b[39m\u001b[39mworkloadTag\u001b[39m\u001b[39m'\u001b[39m] \u001b[39m=\u001b[39m workload_tag\n\u001b[0;32m--> 738\u001b[0m \u001b[39mreturn\u001b[39;00m _execute_cloud_call(\n\u001b[1;32m    739\u001b[0m     _get_cloud_api_resource()\u001b[39m.\u001b[39;49mprojects()\u001b[39m.\u001b[39;49mvalue()\u001b[39m.\u001b[39;49mcompute(\n\u001b[1;32m    740\u001b[0m         body\u001b[39m=\u001b[39;49mbody,\n\u001b[1;32m    741\u001b[0m         project\u001b[39m=\u001b[39;49m_get_projects_path(),\n\u001b[1;32m    742\u001b[0m         prettyPrint\u001b[39m=\u001b[39;49m\u001b[39mFalse\u001b[39;49;00m))[\u001b[39m'\u001b[39m\u001b[39mresult\u001b[39m\u001b[39m'\u001b[39m]\n",
      "File \u001b[0;32m/opt/conda/lib/python3.8/site-packages/ee/data.py:330\u001b[0m, in \u001b[0;36m_execute_cloud_call\u001b[0;34m(call, num_retries)\u001b[0m\n\u001b[1;32m    328\u001b[0m   \u001b[39mreturn\u001b[39;00m call\u001b[39m.\u001b[39mexecute(num_retries\u001b[39m=\u001b[39mnum_retries)\n\u001b[1;32m    329\u001b[0m \u001b[39mexcept\u001b[39;00m googleapiclient\u001b[39m.\u001b[39merrors\u001b[39m.\u001b[39mHttpError \u001b[39mas\u001b[39;00m e:\n\u001b[0;32m--> 330\u001b[0m   \u001b[39mraise\u001b[39;00m _translate_cloud_exception(e)\n",
      "\u001b[0;31mEEException\u001b[0m: Computation timed out."
     ]
    }
   ],
   "source": [
    "new_vector.getInfo()"
   ]
  },
  {
   "cell_type": "code",
   "execution_count": 17,
   "metadata": {},
   "outputs": [
    {
     "data": {
      "application/vnd.jupyter.widget-view+json": {
       "model_id": "a9c86e50f0ef42309cf12ccf47eb2af2",
       "version_major": 2,
       "version_minor": 0
      },
      "text/plain": [
       "Map(center=[-7.998, 39.4767], controls=(WidgetControl(options=['position', 'transparent_bg'], widget=HBox(chil…"
      ]
     },
     "metadata": {},
     "output_type": "display_data"
    }
   ],
   "source": [
    "Map = geemap.Map(center=(-7.998, 39.4767), zoom=9, basemap='HYBRID')\n",
    "vis_params = {\n",
    "    'min': 1,\n",
    "    'max': 1,\n",
    "    'palette': ['eb6240'],\n",
    "}\n",
    "Map.addLayer(my_asset.sldStyle(gain_ramp), {}, 'gain', True, 1)\n",
    "Map.addLayer(new_vector, {}, 'gain_vector', True, 1)\n",
    "display(Map)"
   ]
  }
 ],
 "metadata": {
  "interpreter": {
   "hash": "31f2aee4e71d21fbe5cf8b01ff0e069b9275f58929596ceb00d14d90e3e16cd6"
  },
  "kernelspec": {
   "display_name": "Python 3 (ipykernel)",
   "language": "python",
   "name": "python3"
  },
  "language_info": {
   "codemirror_mode": {
    "name": "ipython",
    "version": 3
   },
   "file_extension": ".py",
   "mimetype": "text/x-python",
   "name": "python",
   "nbconvert_exporter": "python",
   "pygments_lexer": "ipython3",
   "version": "3.8.6"
  }
 },
 "nbformat": 4,
 "nbformat_minor": 4
}
