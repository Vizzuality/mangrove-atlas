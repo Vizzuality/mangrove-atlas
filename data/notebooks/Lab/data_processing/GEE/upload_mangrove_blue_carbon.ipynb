{
 "cells": [
  {
   "cell_type": "markdown",
   "metadata": {},
   "source": [
    "# Upload mangrove extent to GCS and as an asst to GEE"
   ]
  },
  {
   "cell_type": "markdown",
   "metadata": {},
   "source": [
    "This notebook gets mangrove extent data, uploads to GCS, and creates an earth engine image collection asset.  \n",
    "These are the steps:  \n",
    "* We first need to create a single tiff per year of mangrove extent data.\n",
    "* We then upload the tiffs to GCS.\n",
    "* We then create an earthengine image collection asset.\n",
    "* We then upload each image as an asset to GEE.\n",
    "* Finally make the data also publicly available in Zenodo."
   ]
  },
  {
   "cell_type": "markdown",
   "metadata": {},
   "source": [
    "## Setup"
   ]
  },
  {
   "cell_type": "code",
   "execution_count": 1,
   "metadata": {
    "vscode": {
     "languageId": "python"
    }
   },
   "outputs": [
    {
     "ename": "Exception",
     "evalue": "File `'utils.ipynb.py'` not found.",
     "output_type": "error",
     "traceback": [
      "\u001b[0;31m---------------------------------------------------------------------------\u001b[0m",
      "\u001b[0;31mOSError\u001b[0m                                   Traceback (most recent call last)",
      "File \u001b[0;32m/opt/conda/lib/python3.8/site-packages/IPython/core/magics/execution.py:696\u001b[0m, in \u001b[0;36mExecutionMagics.run\u001b[0;34m(self, parameter_s, runner, file_finder)\u001b[0m\n\u001b[1;32m    695\u001b[0m     fpath \u001b[39m=\u001b[39m arg_lst[\u001b[39m0\u001b[39m]\n\u001b[0;32m--> 696\u001b[0m     filename \u001b[39m=\u001b[39m file_finder(fpath)\n\u001b[1;32m    697\u001b[0m \u001b[39mexcept\u001b[39;00m \u001b[39mIndexError\u001b[39;00m \u001b[39mas\u001b[39;00m e:\n",
      "File \u001b[0;32m/opt/conda/lib/python3.8/site-packages/IPython/utils/path.py:91\u001b[0m, in \u001b[0;36mget_py_filename\u001b[0;34m(name)\u001b[0m\n\u001b[1;32m     90\u001b[0m \u001b[39melse\u001b[39;00m:\n\u001b[0;32m---> 91\u001b[0m     \u001b[39mraise\u001b[39;00m \u001b[39mIOError\u001b[39;00m(\u001b[39m'\u001b[39m\u001b[39mFile `\u001b[39m\u001b[39m%r\u001b[39;00m\u001b[39m` not found.\u001b[39m\u001b[39m'\u001b[39m \u001b[39m%\u001b[39m name)\n",
      "\u001b[0;31mOSError\u001b[0m: File `'utils.ipynb.py'` not found.",
      "\nThe above exception was the direct cause of the following exception:\n",
      "\u001b[0;31mException\u001b[0m                                 Traceback (most recent call last)",
      "\u001b[1;32m/home/alicitita/Projects/mangrove-atlas/data/notebooks/Lab/data_processing/GEE/upload_mangrove_blue_carbon.ipynb Cell 4\u001b[0m in \u001b[0;36m<cell line: 8>\u001b[0;34m()\u001b[0m\n\u001b[1;32m      <a href='vscode-notebook-cell:/home/alicitita/Projects/mangrove-atlas/data/notebooks/Lab/data_processing/GEE/upload_mangrove_blue_carbon.ipynb#W3sZmlsZQ%3D%3D?line=4'>5</a>\u001b[0m \u001b[39mimport\u001b[39;00m \u001b[39mee\u001b[39;00m\n\u001b[1;32m      <a href='vscode-notebook-cell:/home/alicitita/Projects/mangrove-atlas/data/notebooks/Lab/data_processing/GEE/upload_mangrove_blue_carbon.ipynb#W3sZmlsZQ%3D%3D?line=5'>6</a>\u001b[0m \u001b[39mimport\u001b[39;00m \u001b[39mtarfile\u001b[39;00m\n\u001b[0;32m----> <a href='vscode-notebook-cell:/home/alicitita/Projects/mangrove-atlas/data/notebooks/Lab/data_processing/GEE/upload_mangrove_blue_carbon.ipynb#W3sZmlsZQ%3D%3D?line=7'>8</a>\u001b[0m get_ipython()\u001b[39m.\u001b[39;49mrun_line_magic(\u001b[39m'\u001b[39;49m\u001b[39mrun\u001b[39;49m\u001b[39m'\u001b[39;49m, \u001b[39m'\u001b[39;49m\u001b[39mutils.ipynb\u001b[39;49m\u001b[39m'\u001b[39;49m)\n",
      "File \u001b[0;32m/opt/conda/lib/python3.8/site-packages/IPython/core/interactiveshell.py:2305\u001b[0m, in \u001b[0;36mInteractiveShell.run_line_magic\u001b[0;34m(self, magic_name, line, _stack_depth)\u001b[0m\n\u001b[1;32m   2303\u001b[0m     kwargs[\u001b[39m'\u001b[39m\u001b[39mlocal_ns\u001b[39m\u001b[39m'\u001b[39m] \u001b[39m=\u001b[39m \u001b[39mself\u001b[39m\u001b[39m.\u001b[39mget_local_scope(stack_depth)\n\u001b[1;32m   2304\u001b[0m \u001b[39mwith\u001b[39;00m \u001b[39mself\u001b[39m\u001b[39m.\u001b[39mbuiltin_trap:\n\u001b[0;32m-> 2305\u001b[0m     result \u001b[39m=\u001b[39m fn(\u001b[39m*\u001b[39;49margs, \u001b[39m*\u001b[39;49m\u001b[39m*\u001b[39;49mkwargs)\n\u001b[1;32m   2306\u001b[0m \u001b[39mreturn\u001b[39;00m result\n",
      "File \u001b[0;32m/opt/conda/lib/python3.8/site-packages/IPython/core/magics/execution.py:707\u001b[0m, in \u001b[0;36mExecutionMagics.run\u001b[0;34m(self, parameter_s, runner, file_finder)\u001b[0m\n\u001b[1;32m    705\u001b[0m     \u001b[39mif\u001b[39;00m os\u001b[39m.\u001b[39mname \u001b[39m==\u001b[39m \u001b[39m'\u001b[39m\u001b[39mnt\u001b[39m\u001b[39m'\u001b[39m \u001b[39mand\u001b[39;00m re\u001b[39m.\u001b[39mmatch(\u001b[39mr\u001b[39m\u001b[39m\"\u001b[39m\u001b[39m^\u001b[39m\u001b[39m'\u001b[39m\u001b[39m.*\u001b[39m\u001b[39m'\u001b[39m\u001b[39m$\u001b[39m\u001b[39m\"\u001b[39m,fpath):\n\u001b[1;32m    706\u001b[0m         warn(\u001b[39m'\u001b[39m\u001b[39mFor Windows, use double quotes to wrap a filename: \u001b[39m\u001b[39m%r\u001b[39;00m\u001b[39mun \u001b[39m\u001b[39m\"\u001b[39m\u001b[39mmypath\u001b[39m\u001b[39m\\\\\u001b[39;00m\u001b[39mmyfile.py\u001b[39m\u001b[39m\"\u001b[39m\u001b[39m'\u001b[39m)\n\u001b[0;32m--> 707\u001b[0m     \u001b[39mraise\u001b[39;00m \u001b[39mException\u001b[39;00m(msg) \u001b[39mfrom\u001b[39;00m \u001b[39me\u001b[39;00m\n\u001b[1;32m    708\u001b[0m \u001b[39mexcept\u001b[39;00m \u001b[39mTypeError\u001b[39;00m:\n\u001b[1;32m    709\u001b[0m     \u001b[39mif\u001b[39;00m fpath \u001b[39min\u001b[39;00m sys\u001b[39m.\u001b[39mmeta_path:\n",
      "\u001b[0;31mException\u001b[0m: File `'utils.ipynb.py'` not found."
     ]
    }
   ],
   "source": [
    "import os\n",
    "from pathlib import Path\n",
    "import urllib.parse\n",
    "import geemap\n",
    "import ee\n",
    "import tarfile\n",
    "\n",
    "%run utils.ipynb"
   ]
  },
  {
   "cell_type": "code",
   "execution_count": 3,
   "metadata": {
    "vscode": {
     "languageId": "python"
    }
   },
   "outputs": [
    {
     "data": {
      "text/html": [
       "<p>To authorize access needed by Earth Engine, open the following\n",
       "        URL in a web browser and follow the instructions:</p>\n",
       "        <p><a href=https://code.earthengine.google.com/client-auth?scopes=https%3A//www.googleapis.com/auth/earthengine%20https%3A//www.googleapis.com/auth/devstorage.full_control&request_id=7r5BPAPk55N2mBDK2HZKhy3MXjI-oCWSGSvKoNzdsQ0&tc=iQVggPLKozHDZo1tjjXePgSrzeQZDFv8Zk6UpzTMqMc&cc=rLXlPh-gPP0ml04w9c4x7q7aPSViLs0QQ92ArY6ITdI>https://code.earthengine.google.com/client-auth?scopes=https%3A//www.googleapis.com/auth/earthengine%20https%3A//www.googleapis.com/auth/devstorage.full_control&request_id=7r5BPAPk55N2mBDK2HZKhy3MXjI-oCWSGSvKoNzdsQ0&tc=iQVggPLKozHDZo1tjjXePgSrzeQZDFv8Zk6UpzTMqMc&cc=rLXlPh-gPP0ml04w9c4x7q7aPSViLs0QQ92ArY6ITdI</a></p>\n",
       "        <p>The authorization workflow will generate a code, which you should paste in the box below.</p>\n",
       "        "
      ],
      "text/plain": [
       "<IPython.core.display.HTML object>"
      ]
     },
     "metadata": {},
     "output_type": "display_data"
    },
    {
     "name": "stdout",
     "output_type": "stream",
     "text": [
      "\n",
      "Successfully saved authorization token.\n"
     ]
    }
   ],
   "source": [
    "# Trigger the authentication flow.\n",
    "ee.Authenticate()\n",
    "\n",
    "# Initialize the library.\n",
    "ee.Initialize()"
   ]
  },
  {
   "cell_type": "markdown",
   "metadata": {},
   "source": [
    "### Set Cloud credentials (could be done through and env file)"
   ]
  },
  {
   "cell_type": "code",
   "execution_count": 4,
   "metadata": {
    "vscode": {
     "languageId": "python"
    }
   },
   "outputs": [],
   "source": [
    "# WARNING: Don't forget to auth to google cloud platform\n",
    "# gcloud auth application-default login --no-launch-browser --project=mangrove-atlas-246414"
   ]
  },
  {
   "cell_type": "markdown",
   "metadata": {},
   "source": [
    "### Set Variables for GCS and GEE"
   ]
  },
  {
   "cell_type": "code",
   "execution_count": 1,
   "metadata": {
    "vscode": {
     "languageId": "python"
    }
   },
   "outputs": [
    {
     "ename": "NameError",
     "evalue": "name 'Path' is not defined",
     "output_type": "error",
     "traceback": [
      "\u001b[0;31m---------------------------------------------------------------------------\u001b[0m",
      "\u001b[0;31mNameError\u001b[0m                                 Traceback (most recent call last)",
      "\u001b[1;32m/home/alicitita/Projects/mangrove-atlas/data/notebooks/Lab/data_processing/GEE/upload_mangrove_height.ipynb Cell 9\u001b[0m in \u001b[0;36m<cell line: 2>\u001b[0;34m()\u001b[0m\n\u001b[1;32m      <a href='vscode-notebook-cell:/home/alicitita/Projects/mangrove-atlas/data/notebooks/Lab/data_processing/GEE/upload_mangrove_height.ipynb#ch0000008?line=0'>1</a>\u001b[0m \u001b[39m#  FIXME: This will depends from where the notebook kernel is running so be careful\u001b[39;00m\n\u001b[0;32m----> <a href='vscode-notebook-cell:/home/alicitita/Projects/mangrove-atlas/data/notebooks/Lab/data_processing/GEE/upload_mangrove_height.ipynb#ch0000008?line=1'>2</a>\u001b[0m WORK_DIR \u001b[39m=\u001b[39mPath(os\u001b[39m.\u001b[39mgetcwd())\n\u001b[1;32m      <a href='vscode-notebook-cell:/home/alicitita/Projects/mangrove-atlas/data/notebooks/Lab/data_processing/GEE/upload_mangrove_height.ipynb#ch0000008?line=2'>3</a>\u001b[0m BASE_DIR \u001b[39m=\u001b[39m \u001b[39mf\u001b[39m\u001b[39m'\u001b[39m\u001b[39m{\u001b[39;00mWORK_DIR\u001b[39m.\u001b[39mparents[\u001b[39m3\u001b[39m]\u001b[39m}\u001b[39;00m\u001b[39m/datasets\u001b[39m\u001b[39m'\u001b[39m\n\u001b[1;32m      <a href='vscode-notebook-cell:/home/alicitita/Projects/mangrove-atlas/data/notebooks/Lab/data_processing/GEE/upload_mangrove_height.ipynb#ch0000008?line=4'>5</a>\u001b[0m \u001b[39m# @TODO: Add expected data files source as an environment variable.\u001b[39;00m\n",
      "\u001b[0;31mNameError\u001b[0m: name 'Path' is not defined"
     ]
    }
   ],
   "source": [
    "#  FIXME: This will depends from where the notebook kernel is running so be careful\n",
    "WORK_DIR =Path(os.getcwd())\n",
    "BASE_DIR = f'{WORK_DIR.parents[3]}/datasets'\n",
    "\n",
    "# @TODO: Add expected data files source as an environment variable.\n",
    "assert BASE_DIR == '/home/jovyan/work/datasets', f'{BASE_DIR} is not the correct directory'\n",
    "\n",
    "# variables\n",
    "data_version = 'v3'\n",
    "dataset = 'mangrove_canopy_height'\n",
    "\n",
    "# Set the Google Cloud params\n",
    "gc_project_id = \"mangrove-atlas-246414\"\n",
    "gcs_prefix = \"gs://mangrove_atlas\"\n",
    "gcs_bucket = f'mangrove_atlas'\n",
    "\n",
    "# raw data source\n",
    "base_source_data_url = f'https://www.dropbox.com/sh/ruk6m9btrkqb73b/AAC8lWSe7nOfDGzrapMR_uqRa?dl=0'\n",
    "\n",
    "raw_local_folder = Path(f'{BASE_DIR}/raw/{dataset}')\n",
    "raw_local_folder.mkdir(parents=True, exist_ok=True)\n",
    "\n",
    "# Image Collection Information\n",
    "data_year_range = [1996, 2007, 2008, 2009, 2010, 2015, 2016, 2017, 2018, 2019, 2020]\n",
    "ee_image_collection = f'projects/global-mangrove-watch/mangrove-properties/{dataset}-{data_version}'\n",
    "\n",
    "no_data_values = [0]\n",
    "pyramiding = 'MEAN'\n"
   ]
  },
  {
   "cell_type": "code",
   "execution_count": 123,
   "metadata": {
    "vscode": {
     "languageId": "python"
    }
   },
   "outputs": [],
   "source": [
    "description = f\"\"\"\n",
    "## Methodology\n",
    "\n",
    "This dataset shows the amount and density of carbon stored in mangrove biomass and soil.\n",
    "Total values represent the sum of aboveground carbon, and the soil organic carbon values, \n",
    "attributed to mangrove forests. Total values are expressed in Megatonnes of carbon dioxide \n",
    "equivalents (Mt CO2e), while mapped carbon density values are depicted as metric tonnes of CO2 \n",
    "equivalents per hectare (t CO2e / ha). Above-ground estimates of mangrove carbon were obtained \n",
    "from [Simard et al. 2019](https://daac.ornl.gov/cgi-bin/dsviewer.pl?ds_id=1665).  \n",
    "\n",
    "The data were derived from remotely-sensed canopy height measurements and region-specific \n",
    "allometric models validated using in-situ measurements in field plots across three continents.  \n",
    "This was converted to mean AGB carbon using the stoichiometric factor of 0.451 \n",
    "([Simard et al. 2019](https://daac.ornl.gov/cgi-bin/dsviewer.pl?ds_id=1665)).  \n",
    "\n",
    "Soil Organic Carbon (SOC) estimates of the top meter of mangrove soils based on a methodology developed \n",
    "by Sanderman et al. (2018) were overlaid with 2016 mangrove extent maps from Bunting et al. 2018 \n",
    "to produce a global map of soil organic carbon at a 30 m spatial resolution.  \n",
    "\n",
    "Aboveground and soil carbon values originally expressed in metric tonnes (megagrams) of carbon per hectare \n",
    "were converted to total carbon using the Bunting et al. (2018) mangrove extent for each country \n",
    "and converted to MtCO2e using a conversion factor of 3.67 (Howard et al. 2014).\n",
    "\n",
    "\n",
    "### {', '.join(list(map(str, data_year_range[:-1])))} and {data_year_range[-1]} maps of mangrove biomass   \n",
    "\"\"\""
   ]
  },
  {
   "cell_type": "code",
   "execution_count": 124,
   "metadata": {
    "vscode": {
     "languageId": "python"
    }
   },
   "outputs": [],
   "source": [
    "extent_collection_properties = ImageCollectionProperties(\n",
    "    name = 'Mangrove Blue Carbon',\n",
    "    version = data_version,\n",
    "    creator = \"Global Mangrove Watch (GMW): Aberystwyth University/soloEO/Wetlands International/UNEP-WCMC/JAXA/DOB Ecology\",\n",
    "    description = description,\n",
    "    identifier = \"\",\n",
    "    keywords = \"Erosion; Coasts; Natural Infrastructure; Biodiversity; Blue Carbon; Forests; Mangroves; Landcover\",\n",
    "    citation = \"\"\"Bunting, P., Rosenqvist, A., Lucas, R. M., Rebelo, L. M., Hilarides, L., Thomas, N., … Finlayson, \n",
    "                C. M. (2018). The global mangrove watch - A new 2010 global baseline of mangrove extent. \n",
    "                Remote Sensing, 10(10). https://doi.org/10.3390/rs10101669  \n",
    "\n",
    "                Giri, C., Ochieng, E., Tieszen, L. L., Zhu, Z., Singh, A., Loveland, T., … Duke, N. (2011). \n",
    "                Status and distribution of mangrove forests of the world using earth observation satellite data. \n",
    "                Global Ecology and Biogeography, 20(1), 154–159. https://doi.org/10.1111/j.1466-8238.2010.00584.x  \n",
    "\n",
    "                Sanderman J, Hengl T, Fiske G et al. (2018) A global map of mangrove forest soil carbon at 30 m spatial \n",
    "                resolution. Environmental Research Letters 13: 055002. doi: 10.1088/1748-9326/aabe1c  \n",
    "\n",
    "                Simard, M., T. Fatoyinbo, C. Smetanka, V.H. Rivera-monroy, E. Castaneda-mova, N. Thomas, \n",
    "                and T. Van der stocken. (2019) Global Mangrove Distribution, Aboveground Biomass, and Canopy Height. \n",
    "                ORNL DAAC, Oak Ridge, Tennessee, USA. https://doi.org/10.3334/ORNLDAAC/1665 \"\"\",\n",
    "    license = \"https://creativecommons.org/licenses/by/4.0/\",\n",
    "    url = \"https://daac.ornl.gov/cgi-bin/dsviewer.pl?ds_id=1665\",\n",
    "    language = \"en\", \n",
    "    altName = \"Mangrove Blue Carbon, Version 3.0\",\n",
    "    distribution = \"\",\n",
    "    variableMeasured = \"Blue carbon\",\n",
    "    units = \"1\",\n",
    "    spatialCoverage = \"Global tropics\",\n",
    "    temporalCoverage = ','.join(map(str, data_year_range)),\n",
    "    dataLineage = \"Raster data supplied as tilesets per year, each tilset was combined, and added to Google earth engine as multi-temporal ImageCollection.\"\n",
    ")"
   ]
  },
  {
   "cell_type": "code",
   "execution_count": 125,
   "metadata": {
    "vscode": {
     "languageId": "python"
    }
   },
   "outputs": [],
   "source": [
    "def generate_manifests(year):\n",
    "    files = [blob.name for blob in list_gcs(bucket_name = gcs_bucket, \n",
    "                    dir_path = f'ee_import_data/gmw_{data_version}_{year}', file_pattern = '*.tif') if blob.name.endswith('.tif')]\n",
    "    manifest = GEEManifest(\n",
    "            path = Path(f'{BASE_DIR}/processed/manifest/gmw_{data_version}_{year}'),\n",
    "            name = f\"projects/earthengine-legacy/assets/{ee_image_collection}/gmw_{data_version}_{year}\",\n",
    "            tilesets = [ Tilesets(\n",
    "                sources = [Sources(uris = [f\"{gcs_prefix}/{file}\"]) for file in files],\n",
    "                    )\n",
    "                ],\n",
    "            start_time = f'{year}-01-01T00:00:00Z',\n",
    "            end_time = f'{year}-12-31T00:00:00Z',\n",
    "            uri_prefix = f\"\",\n",
    "            properties = ImageProperties(\n",
    "                band_nodata_values = no_data_values[0],\n",
    "                band_pyramiding_policies = pyramiding,\n",
    "                band_names = 'extent',\n",
    "                year = year,\n",
    "            ),\n",
    "            pyramiding_policy = pyramiding,\n",
    "            missing_data = {'values': no_data_values}\n",
    "\n",
    "        )\n",
    "    return manifest"
   ]
  },
  {
   "cell_type": "code",
   "execution_count": 126,
   "metadata": {
    "vscode": {
     "languageId": "python"
    }
   },
   "outputs": [],
   "source": [
    "def extract_path(path: Path):\n",
    "    # Extract all the contents of zip file in current directory\n",
    "    for item in path.iterdir():\n",
    "        if item.suffix == '.tar.gz':\n",
    "            with tarfile.open(item.as_posix(), 'r') as conpressObj:\n",
    "                conpressObj.extractall(path)\n",
    "            \n",
    "            item.unlink()"
   ]
  },
  {
   "cell_type": "code",
   "execution_count": 127,
   "metadata": {
    "vscode": {
     "languageId": "python"
    }
   },
   "outputs": [],
   "source": [
    "def rm_tree(pth: Path):\n",
    "    for child in pth.iterdir():\n",
    "        if child.is_file():\n",
    "            child.unlink()\n",
    "        else:\n",
    "            rm_tree(child)\n",
    "    pth.rmdir()"
   ]
  },
  {
   "cell_type": "code",
   "execution_count": 101,
   "metadata": {
    "vscode": {
     "languageId": "python"
    }
   },
   "outputs": [
    {
     "name": "stderr",
     "output_type": "stream",
     "text": [
      "INFO:root:Searching GMW v3.14 geotiffs/*.zip\n"
     ]
    },
    {
     "data": {
      "text/plain": [
       "[<Blob: mangrove_atlas, GMW v3.14 geotiffs/, 1658502357947930>,\n",
       " <Blob: mangrove_atlas, GMW v3.14 geotiffs/gmw_v3_1996_gtiff.zip, 1658502502870899>,\n",
       " <Blob: mangrove_atlas, GMW v3.14 geotiffs/gmw_v3_2007_gtiff.zip, 1658502517196761>,\n",
       " <Blob: mangrove_atlas, GMW v3.14 geotiffs/gmw_v3_2008_gtiff.zip, 1658502557420942>,\n",
       " <Blob: mangrove_atlas, GMW v3.14 geotiffs/gmw_v3_2009_gtiff.zip, 1658502628130467>,\n",
       " <Blob: mangrove_atlas, GMW v3.14 geotiffs/gmw_v3_2010_gtiff.zip, 1658502634901691>,\n",
       " <Blob: mangrove_atlas, GMW v3.14 geotiffs/gmw_v3_2015_gtiff.zip, 1658502665713112>,\n",
       " <Blob: mangrove_atlas, GMW v3.14 geotiffs/gmw_v3_2016_gtiff.zip, 1658502699001779>,\n",
       " <Blob: mangrove_atlas, GMW v3.14 geotiffs/gmw_v3_2017_gtiff.zip, 1658502728032109>,\n",
       " <Blob: mangrove_atlas, GMW v3.14 geotiffs/gmw_v3_2018_gtiff.zip, 1658502769412890>,\n",
       " <Blob: mangrove_atlas, GMW v3.14 geotiffs/gmw_v3_2019_gtiff.zip, 1658502783087871>,\n",
       " <Blob: mangrove_atlas, GMW v3.14 geotiffs/gmw_v3_2020_gtiff.zip, 1658502810948153>]"
      ]
     },
     "execution_count": 101,
     "metadata": {},
     "output_type": "execute_result"
    }
   ],
   "source": [
    "files = list(list_gcs(bucket_name = gcs_bucket, dir_path = cgs_parent_folder, file_pattern = '*.zip'))"
   ]
  },
  {
   "cell_type": "markdown",
   "metadata": {},
   "source": [
    "### Get the raw files locally"
   ]
  },
  {
   "cell_type": "code",
   "execution_count": 37,
   "metadata": {
    "vscode": {
     "languageId": "python"
    }
   },
   "outputs": [
    {
     "name": "stderr",
     "output_type": "stream",
     "text": [
      "Copying gs://mangrove_atlas/GMW v3.14 geotiffs/gmw_v3_1996_gtiff.zip...\n",
      "Resuming download for /home/jovyan/work/datasets/raw/mangrove_extent/gmw_v3_1996_gtiff.zip\n",
      "Copying gs://mangrove_atlas/GMW v3.14 geotiffs/gmw_v3_2008_gtiff.zip...\n",
      "Copying gs://mangrove_atlas/GMW v3.14 geotiffs/gmw_v3_2007_gtiff.zip...\n",
      "Resuming download for /home/jovyan/work/datasets/raw/mangrove_extent/gmw_v3_2008_gtiff.zip\n",
      "Copying gs://mangrove_atlas/GMW v3.14 geotiffs/gmw_v3_2009_gtiff.zip...\n",
      "Resuming download for /home/jovyan/work/datasets/raw/mangrove_extent/gmw_v3_2007_gtiff.zip\n",
      "Resuming download for /home/jovyan/work/datasets/raw/mangrove_extent/gmw_v3_2009_gtiff.zip\n",
      "Copying gs://mangrove_atlas/GMW v3.14 geotiffs/gmw_v3_2010_gtiff.zip...\n",
      "Resuming download for /home/jovyan/work/datasets/raw/mangrove_extent/gmw_v3_2010_gtiff.zip\n",
      "Copying gs://mangrove_atlas/GMW v3.14 geotiffs/gmw_v3_2015_gtiff.zip...\n",
      "Copying gs://mangrove_atlas/GMW v3.14 geotiffs/gmw_v3_2016_gtiff.zip...\n",
      "Copying gs://mangrove_atlas/GMW v3.14 geotiffs/gmw_v3_2017_gtiff.zip...\n",
      "Copying gs://mangrove_atlas/GMW v3.14 geotiffs/gmw_v3_2018_gtiff.zip...\n",
      "Resuming download for /home/jovyan/work/datasets/raw/mangrove_extent/gmw_v3_2015_gtiff.zip\n",
      "Resuming download for /home/jovyan/work/datasets/raw/mangrove_extent/gmw_v3_2016_gtiff.zip\n",
      "Copying gs://mangrove_atlas/GMW v3.14 geotiffs/gmw_v3_2019_gtiff.zip...\n",
      "Resuming download for /home/jovyan/work/datasets/raw/mangrove_extent/gmw_v3_2017_gtiff.zip\n",
      "Resuming download for /home/jovyan/work/datasets/raw/mangrove_extent/gmw_v3_2018_gtiff.zip\n",
      "Resuming download for /home/jovyan/work/datasets/raw/mangrove_extent/gmw_v3_2019_gtiff.zip\n",
      "Copying gs://mangrove_atlas/GMW v3.14 geotiffs/gmw_v3_2020_gtiff.zip...\n",
      "Resuming download for /home/jovyan/work/datasets/raw/mangrove_extent/gmw_v3_2020_gtiff.zip\n",
      "| [11/11 files][698.1 MiB/698.1 MiB] 100% Done  11.4 MiB/s ETA 00:00:00         \n",
      "Operation completed over 11 objects/698.1 MiB.                                   \n",
      "INFO:root:Task created\n"
     ]
    }
   ],
   "source": [
    "copy_folder_gcs(f'{gcs_prefix}/{cgs_parent_folder}/*.zip', raw_local_folder)"
   ]
  },
  {
   "cell_type": "markdown",
   "metadata": {},
   "source": [
    "### Extract them and reupload to GCS in the ee_import_data folder"
   ]
  },
  {
   "cell_type": "code",
   "execution_count": 96,
   "metadata": {
    "vscode": {
     "languageId": "python"
    }
   },
   "outputs": [
    {
     "data": {
      "text/plain": [
       "[PosixPath('/home/jovyan/work/datasets/raw/mangrove_extent/gmw_v3_2008'),\n",
       " PosixPath('/home/jovyan/work/datasets/raw/mangrove_extent/gmw_v3_2007'),\n",
       " PosixPath('/home/jovyan/work/datasets/raw/mangrove_extent/gmw_v3_2009'),\n",
       " PosixPath('/home/jovyan/work/datasets/raw/mangrove_extent/gmw_v3_2015'),\n",
       " PosixPath('/home/jovyan/work/datasets/raw/mangrove_extent/gmw_v3_2016'),\n",
       " PosixPath('/home/jovyan/work/datasets/raw/mangrove_extent/gmw_v3_2017'),\n",
       " PosixPath('/home/jovyan/work/datasets/raw/mangrove_extent/gmw_v3_1996'),\n",
       " PosixPath('/home/jovyan/work/datasets/raw/mangrove_extent/gmw_v3_2019'),\n",
       " PosixPath('/home/jovyan/work/datasets/raw/mangrove_extent/gmw_v3_2010'),\n",
       " PosixPath('/home/jovyan/work/datasets/raw/mangrove_extent/gmw_v3_2020'),\n",
       " PosixPath('/home/jovyan/work/datasets/raw/mangrove_extent/gmw_v3_2018')]"
      ]
     },
     "execution_count": 96,
     "metadata": {},
     "output_type": "execute_result"
    }
   ],
   "source": [
    "extract_path_from_zip(raw_local_folder)\n",
    "\n",
    "folder_unziped = [x for x in raw_local_folder.iterdir() if x.is_dir()]\n",
    "\n",
    "for folder in folder_unziped:\n",
    "    copy_folder_gcs(folder, f'{gcs_prefix}/ee_import_data/')"
   ]
  },
  {
   "cell_type": "markdown",
   "metadata": {},
   "source": [
    "#### Clean up the raw data locally as this is expensive in terms of space."
   ]
  },
  {
   "cell_type": "code",
   "execution_count": 121,
   "metadata": {
    "vscode": {
     "languageId": "python"
    }
   },
   "outputs": [],
   "source": [
    "rm_tree(raw_local_folder)"
   ]
  },
  {
   "cell_type": "markdown",
   "metadata": {},
   "source": [
    "#### Generate manifests for each year that represent an image in the image collection"
   ]
  },
  {
   "cell_type": "code",
   "execution_count": 128,
   "metadata": {
    "vscode": {
     "languageId": "python"
    }
   },
   "outputs": [
    {
     "name": "stderr",
     "output_type": "stream",
     "text": [
      "INFO:root:Searching ee_import_data/gmw_v3_1996/*.tif\n",
      "INFO:root:Searching ee_import_data/gmw_v3_2007/*.tif\n",
      "INFO:root:Searching ee_import_data/gmw_v3_2008/*.tif\n",
      "INFO:root:Searching ee_import_data/gmw_v3_2009/*.tif\n",
      "INFO:root:Searching ee_import_data/gmw_v3_2010/*.tif\n",
      "INFO:root:Searching ee_import_data/gmw_v3_2015/*.tif\n",
      "INFO:root:Searching ee_import_data/gmw_v3_2016/*.tif\n",
      "INFO:root:Searching ee_import_data/gmw_v3_2017/*.tif\n",
      "INFO:root:Searching ee_import_data/gmw_v3_2018/*.tif\n",
      "INFO:root:Searching ee_import_data/gmw_v3_2019/*.tif\n",
      "INFO:root:Searching ee_import_data/gmw_v3_2020/*.tif\n"
     ]
    }
   ],
   "source": [
    "list_of_manifests = [generate_manifests(year) for year in data_year_range]"
   ]
  },
  {
   "cell_type": "markdown",
   "metadata": {},
   "source": [
    "#### Create the image collection asset and upload the images to GEE"
   ]
  },
  {
   "cell_type": "code",
   "execution_count": 129,
   "metadata": {
    "vscode": {
     "languageId": "python"
    }
   },
   "outputs": [
    {
     "name": "stderr",
     "output_type": "stream",
     "text": [
      "INFO:root:Created image collection projects/global-mangrove-watch/land-cover/mangrove_extent-v3\n",
      "INFO:root:Task created\n",
      "INFO:root:Upload image projects/earthengine-legacy/assets/projects/global-mangrove-watch/land-cover/mangrove_extent-v3/gmw_v3_1996\n"
     ]
    },
    {
     "name": "stdout",
     "output_type": "stream",
     "text": [
      "Started upload task with ID: SCA6QNE3CPJNNK4J3SZ2BYDZ\n"
     ]
    },
    {
     "name": "stderr",
     "output_type": "stream",
     "text": [
      "INFO:root:Task created\n",
      "INFO:root:Upload image projects/earthengine-legacy/assets/projects/global-mangrove-watch/land-cover/mangrove_extent-v3/gmw_v3_2007\n"
     ]
    },
    {
     "name": "stdout",
     "output_type": "stream",
     "text": [
      "Started upload task with ID: 6BP27MHNFUOHOPPWLBHGUALZ\n"
     ]
    },
    {
     "name": "stderr",
     "output_type": "stream",
     "text": [
      "INFO:root:Task created\n",
      "INFO:root:Upload image projects/earthengine-legacy/assets/projects/global-mangrove-watch/land-cover/mangrove_extent-v3/gmw_v3_2008\n"
     ]
    },
    {
     "name": "stdout",
     "output_type": "stream",
     "text": [
      "Started upload task with ID: M6J22YFRV7TMP2TATCWBOLXR\n"
     ]
    },
    {
     "name": "stderr",
     "output_type": "stream",
     "text": [
      "INFO:root:Task created\n",
      "INFO:root:Upload image projects/earthengine-legacy/assets/projects/global-mangrove-watch/land-cover/mangrove_extent-v3/gmw_v3_2009\n"
     ]
    },
    {
     "name": "stdout",
     "output_type": "stream",
     "text": [
      "Started upload task with ID: MTUP56PKOQ42ZEPR56HN5CZD\n"
     ]
    },
    {
     "name": "stderr",
     "output_type": "stream",
     "text": [
      "INFO:root:Task created\n",
      "INFO:root:Upload image projects/earthengine-legacy/assets/projects/global-mangrove-watch/land-cover/mangrove_extent-v3/gmw_v3_2010\n"
     ]
    },
    {
     "name": "stdout",
     "output_type": "stream",
     "text": [
      "Started upload task with ID: 2QHAK6MGXBUY4BWAATRXGNRG\n"
     ]
    },
    {
     "name": "stderr",
     "output_type": "stream",
     "text": [
      "INFO:root:Task created\n",
      "INFO:root:Upload image projects/earthengine-legacy/assets/projects/global-mangrove-watch/land-cover/mangrove_extent-v3/gmw_v3_2015\n"
     ]
    },
    {
     "name": "stdout",
     "output_type": "stream",
     "text": [
      "Started upload task with ID: J7ZHPSZL2PQSISD64DSK7OM6\n"
     ]
    },
    {
     "name": "stderr",
     "output_type": "stream",
     "text": [
      "INFO:root:Task created\n",
      "INFO:root:Upload image projects/earthengine-legacy/assets/projects/global-mangrove-watch/land-cover/mangrove_extent-v3/gmw_v3_2016\n"
     ]
    },
    {
     "name": "stdout",
     "output_type": "stream",
     "text": [
      "Started upload task with ID: ORAV3KFVV7EBIIMYPPDZGR2L\n"
     ]
    },
    {
     "name": "stderr",
     "output_type": "stream",
     "text": [
      "INFO:root:Task created\n",
      "INFO:root:Upload image projects/earthengine-legacy/assets/projects/global-mangrove-watch/land-cover/mangrove_extent-v3/gmw_v3_2017\n"
     ]
    },
    {
     "name": "stdout",
     "output_type": "stream",
     "text": [
      "Started upload task with ID: IQUM227GDTOQC523JV5RKL3F\n"
     ]
    },
    {
     "name": "stderr",
     "output_type": "stream",
     "text": [
      "INFO:root:Task created\n",
      "INFO:root:Upload image projects/earthengine-legacy/assets/projects/global-mangrove-watch/land-cover/mangrove_extent-v3/gmw_v3_2018\n"
     ]
    },
    {
     "name": "stdout",
     "output_type": "stream",
     "text": [
      "Started upload task with ID: PJOVGOMHETHY7TNFDOLAXNTN\n"
     ]
    },
    {
     "name": "stderr",
     "output_type": "stream",
     "text": [
      "INFO:root:Task created\n",
      "INFO:root:Upload image projects/earthengine-legacy/assets/projects/global-mangrove-watch/land-cover/mangrove_extent-v3/gmw_v3_2019\n"
     ]
    },
    {
     "name": "stdout",
     "output_type": "stream",
     "text": [
      "Started upload task with ID: VZWXQMIUX7XPRL2JPRXTHWLH\n"
     ]
    },
    {
     "name": "stderr",
     "output_type": "stream",
     "text": [
      "INFO:root:Task created\n",
      "INFO:root:Upload image projects/earthengine-legacy/assets/projects/global-mangrove-watch/land-cover/mangrove_extent-v3/gmw_v3_2020\n"
     ]
    },
    {
     "name": "stdout",
     "output_type": "stream",
     "text": [
      "Started upload task with ID: GTNM4IUMVSORB4NCG5H5LX57\n"
     ]
    }
   ],
   "source": [
    "createImageCollection(ee_asset_path = ee_image_collection,\n",
    "                        properties = extent_collection_properties, \n",
    "                        image_list = list_of_manifests)"
   ]
  },
  {
   "cell_type": "markdown",
   "metadata": {},
   "source": [
    "If we need to add new years to the image collection, we can do that by adding new manifests to the image collection asset."
   ]
  },
  {
   "cell_type": "code",
   "execution_count": 108,
   "metadata": {
    "vscode": {
     "languageId": "python"
    }
   },
   "outputs": [
    {
     "name": "stderr",
     "output_type": "stream",
     "text": [
      "INFO:root:Task created\n",
      "INFO:root:Upload image projects/earthengine-legacy/assets/projects/global-mangrove-watch/land-cover/mangrove-extent-test/gmw_v3_1996\n"
     ]
    },
    {
     "name": "stdout",
     "output_type": "stream",
     "text": [
      "Started upload task with ID: CJXPIRIMZJL6MGZ2US6RD3CH\n"
     ]
    }
   ],
   "source": [
    "addImagesToCollection(ee_image_collection, list_of_manifests[0:1])"
   ]
  },
  {
   "cell_type": "code",
   "execution_count": 112,
   "metadata": {
    "vscode": {
     "languageId": "python"
    }
   },
   "outputs": [
    {
     "name": "stdout",
     "output_type": "stream",
     "text": [
      "CJXPIRIMZJL6MGZ2US6RD3CH  Upload        Ingest image: \"projects/earthengine-lega..  RUNNING    ---\n"
     ]
    }
   ],
   "source": [
    "# Check task status\n",
    "!earthengine task list --status RUNNING"
   ]
  },
  {
   "cell_type": "code",
   "execution_count": null,
   "metadata": {
    "vscode": {
     "languageId": "python"
    }
   },
   "outputs": [],
   "source": [
    "# Check ImageCollection properties\n",
    "!earthengine asset info {ee_asset_path}"
   ]
  }
 ],
 "metadata": {
  "kernelspec": {
   "display_name": "Python 3 (ipykernel)",
   "language": "python",
   "name": "python3"
  }
 },
 "nbformat": 4,
 "nbformat_minor": 4
}
