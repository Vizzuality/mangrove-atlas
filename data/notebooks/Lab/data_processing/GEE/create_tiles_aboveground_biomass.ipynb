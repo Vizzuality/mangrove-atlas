{
 "cells": [
  {
   "cell_type": "markdown",
   "metadata": {},
   "source": [
    "# export tiles for aboveground biomass\n",
    "Based on [ee code](https://code.earthengine.google.com/8423c718d647f15ab3e9c31868489fd4?noload=true)"
   ]
  },
  {
   "cell_type": "code",
   "execution_count": 289,
   "metadata": {},
   "outputs": [],
   "source": [
    "import ee\n",
    "import geemap\n",
    "%run utils.ipynb"
   ]
  },
  {
   "cell_type": "code",
   "execution_count": null,
   "metadata": {},
   "outputs": [
    {
     "data": {
      "text/html": [
       "<p>To authorize access needed by Earth Engine, open the following\n",
       "        URL in a web browser and follow the instructions:</p>\n",
       "        <p><a href=https://code.earthengine.google.com/client-auth?scopes=https%3A//www.googleapis.com/auth/earthengine%20https%3A//www.googleapis.com/auth/devstorage.full_control&request_id=96tCfGh7BxVTRCtELtP3UImNjK1utgaFFzSfWt2DJlM&tc=-2OdKh8yxLqr6r1DroMe4Z6493L78sxli8SSURlHAPw&cc=vs7M7KkFs25pyaOeILWNzZWut6EFP8A8c9ur9WkyXgI>https://code.earthengine.google.com/client-auth?scopes=https%3A//www.googleapis.com/auth/earthengine%20https%3A//www.googleapis.com/auth/devstorage.full_control&request_id=96tCfGh7BxVTRCtELtP3UImNjK1utgaFFzSfWt2DJlM&tc=-2OdKh8yxLqr6r1DroMe4Z6493L78sxli8SSURlHAPw&cc=vs7M7KkFs25pyaOeILWNzZWut6EFP8A8c9ur9WkyXgI</a></p>\n",
       "        <p>The authorization workflow will generate a code, which you should paste in the box below.</p>\n",
       "        "
      ],
      "text/plain": [
       "<IPython.core.display.HTML object>"
      ]
     },
     "metadata": {},
     "output_type": "display_data"
    },
    {
     "name": "stdout",
     "output_type": "stream",
     "text": [
      "\n",
      "Successfully saved authorization token.\n"
     ]
    }
   ],
   "source": [
    "# Trigger the authentication flow.\n",
    "# ee.ServiceAccountCredentials(EE_ACCOUNT, EE_PRIVATE_KEY_FILE)\n",
    "ee.Authenticate()"
   ]
  },
  {
   "cell_type": "code",
   "execution_count": 290,
   "metadata": {},
   "outputs": [],
   "source": [
    "# Initialize the library.\n",
    "ee.Initialize()"
   ]
  },
  {
   "cell_type": "markdown",
   "metadata": {},
   "source": [
    "### Data Assets"
   ]
  },
  {
   "cell_type": "code",
   "execution_count": 3,
   "metadata": {},
   "outputs": [],
   "source": [
    "## Assets selection\n",
    "gcs_bucket = 'mangrove_atlas'\n",
    "version = 'v3'\n",
    "dataset = f'mangrove_aboveground_biomass-{version}'\n",
    "data_year_range = [1996, 2007, 2008, 2009, 2010, 2015, 2016, 2017, 2018, 2019, 2020]\n",
    "# region for export\n",
    "region = ee.Geometry.BBox(-180, -33, 0, 34);\n",
    "# gain\n",
    "imageCollection = ee.ImageCollection(\n",
    "    f\"projects/global-mangrove-watch/mangrove-properties/{dataset}\")"
   ]
  },
  {
   "cell_type": "code",
   "execution_count": 4,
   "metadata": {},
   "outputs": [],
   "source": [
    "# styles\n",
    "color_ramp ='''\n",
    "    <RasterSymbolizer>\n",
    "    <ColorMap type=\"ramp\" extended=\"false\" >\n",
    "      <ColorMapEntry color=\"#EAF19D\" quantity=\"0\" label=\"0--50 t/ha\"/>\n",
    "      <ColorMapEntry color=\"#B8E98E\" quantity=\"50\" label=\"50--100 t/ha\" />\n",
    "      <ColorMapEntry color=\"#1B97C1\" quantity=\"100\" label=\"100--150 t/ha\" />\n",
    "      <ColorMapEntry color=\"#1C52A3\" quantity=\"150\" label=\"150--250 t/ha\" />\n",
    "      <ColorMapEntry color=\"#13267F\" quantity=\"250\" label=\">250 t/ha\" />\n",
    "    </ColorMap>\n",
    "  </RasterSymbolizer>\n",
    "'''"
   ]
  },
  {
   "cell_type": "markdown",
   "metadata": {},
   "source": [
    "### Vizualize the data prior exporting it"
   ]
  },
  {
   "cell_type": "code",
   "execution_count": 5,
   "metadata": {},
   "outputs": [
    {
     "data": {
      "application/vnd.jupyter.widget-view+json": {
       "model_id": "6579c783e1cf43c382c0c1beda7bcc67",
       "version_major": 2,
       "version_minor": 0
      },
      "text/plain": [
       "Map(center=[-5, 39], controls=(WidgetControl(options=['position', 'transparent_bg'], widget=HBox(children=(Tog…"
      ]
     },
     "metadata": {},
     "output_type": "display_data"
    }
   ],
   "source": [
    "Map = geemap.Map(center=(-5, 39), zoom=12, basemap='HYBRID')\n",
    "Map.addLayer(imageCollection.first().sldStyle(color_ramp), {}, dataset, True, 0.5)\n",
    "Map"
   ]
  },
  {
   "cell_type": "markdown",
   "metadata": {},
   "source": [
    "### Export to tiles from GEE to GCS"
   ]
  },
  {
   "cell_type": "code",
   "execution_count": 6,
   "metadata": {},
   "outputs": [],
   "source": [
    "# Create a list of tasks to export the map tiles\n",
    "tasks_list = exportMapTasks(imageCollection, dataset, gcs_bucket, \n",
    "                        data_year_range, region, color_ramp, 0, 12)"
   ]
  },
  {
   "cell_type": "code",
   "execution_count": 7,
   "metadata": {},
   "outputs": [
    {
     "data": {
      "text/plain": [
       "[<Task DUTXAGGOFJXOYL4DFPMLRUW4 EXPORT_TILES: mangrove_aboveground_biomass-v3_1996 (UNSUBMITTED)>,\n",
       " <Task 5S7TMLVSWIQJ76JNOBP3SPDR EXPORT_TILES: mangrove_aboveground_biomass-v3_2007 (UNSUBMITTED)>,\n",
       " <Task I5CB4DHOYV2MHEFHBDLEYPY3 EXPORT_TILES: mangrove_aboveground_biomass-v3_2008 (UNSUBMITTED)>,\n",
       " <Task JBL34NJXIDPBAM3DZYA7SWVL EXPORT_TILES: mangrove_aboveground_biomass-v3_2009 (UNSUBMITTED)>,\n",
       " <Task FKYLYC2HKMYNNEQRTDEHVJAQ EXPORT_TILES: mangrove_aboveground_biomass-v3_2010 (UNSUBMITTED)>,\n",
       " <Task 6VAAUUVPZ4G77ANUCRHHB2SI EXPORT_TILES: mangrove_aboveground_biomass-v3_2015 (UNSUBMITTED)>,\n",
       " <Task EE5KLIEXEDQPNVFDYOIDQ277 EXPORT_TILES: mangrove_aboveground_biomass-v3_2016 (UNSUBMITTED)>,\n",
       " <Task C5ZAKO4P3MROWDQOILJXTFGJ EXPORT_TILES: mangrove_aboveground_biomass-v3_2017 (UNSUBMITTED)>,\n",
       " <Task JH7PDVENRLYKFVTG433RWWTX EXPORT_TILES: mangrove_aboveground_biomass-v3_2018 (UNSUBMITTED)>,\n",
       " <Task EWHDODFQQS2RVNC4RD767KLM EXPORT_TILES: mangrove_aboveground_biomass-v3_2019 (UNSUBMITTED)>,\n",
       " <Task SBKBBOWG5AKTSKG2EOFOTNW3 EXPORT_TILES: mangrove_aboveground_biomass-v3_2020 (UNSUBMITTED)>]"
      ]
     },
     "execution_count": 7,
     "metadata": {},
     "output_type": "execute_result"
    }
   ],
   "source": [
    "batchExecute(tasks_list)"
   ]
  }
 ],
 "metadata": {
  "interpreter": {
   "hash": "31f2aee4e71d21fbe5cf8b01ff0e069b9275f58929596ceb00d14d90e3e16cd6"
  },
  "kernelspec": {
   "display_name": "Python 3 (ipykernel)",
   "language": "python",
   "name": "python3"
  },
  "language_info": {
   "codemirror_mode": {
    "name": "ipython",
    "version": 3
   },
   "file_extension": ".py",
   "mimetype": "text/x-python",
   "name": "python",
   "nbconvert_exporter": "python",
   "pygments_lexer": "ipython3",
   "version": "3.8.6"
  }
 },
 "nbformat": 4,
 "nbformat_minor": 4
}
