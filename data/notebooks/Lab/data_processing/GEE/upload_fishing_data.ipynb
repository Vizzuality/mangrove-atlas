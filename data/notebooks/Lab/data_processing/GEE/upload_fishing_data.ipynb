{
 "cells": [
  {
   "attachments": {},
   "cell_type": "markdown",
   "metadata": {},
   "source": [
    "# Upload fishing presure map to GCS and as an asst to GEE"
   ]
  },
  {
   "attachments": {},
   "cell_type": "markdown",
   "metadata": {},
   "source": [
    "This notebook gets mangrove extent data, uploads to GCS, and creates an earth engine image collection asset.  \n",
    "These are the steps:  \n",
    "* We  upload the tiff to GCS.\n",
    "* We then create an earthengine image collection asset.\n",
    "* We then upload the image as an asset to GEE."
   ]
  },
  {
   "attachments": {},
   "cell_type": "markdown",
   "metadata": {},
   "source": [
    "## Setup"
   ]
  },
  {
   "cell_type": "code",
   "execution_count": 1,
   "metadata": {},
   "outputs": [
    {
     "name": "stderr",
     "output_type": "stream",
     "text": [
      "/opt/conda/lib/python3.8/site-packages/pandas/core/computation/expressions.py:20: UserWarning: Pandas requires version '2.7.3' or newer of 'numexpr' (version '2.7.2' currently installed).\n",
      "  from pandas.core.computation.check import NUMEXPR_INSTALLED\n"
     ]
    }
   ],
   "source": [
    "import os\n",
    "from pathlib import Path\n",
    "import urllib.parse\n",
    "import geemap\n",
    "import ee\n",
    "import zipfile\n",
    "\n",
    "%run utils.ipynb"
   ]
  },
  {
   "cell_type": "code",
   "execution_count": 20,
   "metadata": {},
   "outputs": [
    {
     "data": {
      "text/html": [
       "<p>To authorize access needed by Earth Engine, open the following\n",
       "        URL in a web browser and follow the instructions:</p>\n",
       "        <p><a href=https://code.earthengine.google.com/client-auth?scopes=https%3A//www.googleapis.com/auth/earthengine%20https%3A//www.googleapis.com/auth/devstorage.full_control&request_id=4g-pMwSI_c517jfJD_hL239YghJIGS-NW1CgkInXBW8&tc=S0X9CoPkgCk7to34nLsHjwLSjxevayDQ8eJuD0yNefw&cc=WEur3QDBLR_GQ3cgWfayA08w3m14Xg64CsEnMWMacZI>https://code.earthengine.google.com/client-auth?scopes=https%3A//www.googleapis.com/auth/earthengine%20https%3A//www.googleapis.com/auth/devstorage.full_control&request_id=4g-pMwSI_c517jfJD_hL239YghJIGS-NW1CgkInXBW8&tc=S0X9CoPkgCk7to34nLsHjwLSjxevayDQ8eJuD0yNefw&cc=WEur3QDBLR_GQ3cgWfayA08w3m14Xg64CsEnMWMacZI</a></p>\n",
       "        <p>The authorization workflow will generate a code, which you should paste in the box below.</p>\n",
       "        "
      ],
      "text/plain": [
       "<IPython.core.display.HTML object>"
      ]
     },
     "metadata": {},
     "output_type": "display_data"
    },
    {
     "name": "stdout",
     "output_type": "stream",
     "text": [
      "\n",
      "Successfully saved authorization token.\n"
     ]
    }
   ],
   "source": [
    "# Trigger the authentication flow.\n",
    "ee.Authenticate()\n",
    "\n",
    "# Initialize the library.\n",
    "ee.Initialize()"
   ]
  },
  {
   "attachments": {},
   "cell_type": "markdown",
   "metadata": {},
   "source": [
    "### Set Cloud credentials (could be done through and env file)"
   ]
  },
  {
   "cell_type": "code",
   "execution_count": 3,
   "metadata": {},
   "outputs": [],
   "source": [
    "# WARNING: Don't forget to auth to google cloud platform\n",
    "# gcloud auth application-default login --no-launch-browser --project=mangrove-atlas-246414"
   ]
  },
  {
   "attachments": {},
   "cell_type": "markdown",
   "metadata": {},
   "source": [
    "### Set Variables for GCS and GEE"
   ]
  },
  {
   "cell_type": "code",
   "execution_count": 12,
   "metadata": {},
   "outputs": [],
   "source": [
    "#  FIXME: This will depends from where the notebook kernel is running so be careful\n",
    "WORK_DIR =Path(os.getcwd())\n",
    "BASE_DIR = f'{WORK_DIR.parents[3]}/datasets'\n",
    "\n",
    "# @TODO: Add expected data files source as an environment variable.\n",
    "assert BASE_DIR == '/home/jovyan/work/datasets', f'{BASE_DIR} is not the correct directory'\n",
    "\n",
    "# variables\n",
    "data_version = 'v3'\n",
    "dataset = 'mangrove_fishing_activity'\n",
    "\n",
    "# Set the Google Cloud params\n",
    "gc_project_id = \"mangrove-atlas-246414\"\n",
    "gcs_prefix = \"gs://mangrove_atlas\"\n",
    "gcs_bucket = f'mangrove_atlas'\n",
    "cgs_parent_folder = 'GMW v3.14 geotiffs'\n",
    "gcs_http_prefix = f\"https://storage.googleapis.com/{gcs_bucket}\"\n",
    "base_source_data_url = f'{gcs_http_prefix}/GMW%20v3.14%20geotiffs'\n",
    "\n",
    "raw_local_folder = Path(f'{BASE_DIR}/raw/{dataset}')\n",
    "raw_local_folder.mkdir(parents=True, exist_ok=True)\n",
    "\n",
    "# Image Collection Information\n",
    "#data_year_range = [1996, 2007, 2008, 2009, 2010, 2015, 2016, 2017, 2018, 2019, 2020]\n",
    "ee_image_collection = f'projects/global-mangrove-watch/land-cover/{dataset}'\n",
    "\n",
    "no_data_values = [-3.40282e+38]\n",
    "pyramiding = 'MEAN'\n"
   ]
  },
  {
   "cell_type": "code",
   "execution_count": 5,
   "metadata": {},
   "outputs": [],
   "source": [
    "description = f\"\"\"\n",
    "## Summary\n",
    "\n",
    "Mangroves are critical nursery habitats for fish and invertebrates, providing livelihoods for many coastal communities. Despite their importance, there is currently no estimate of the number of fishers engaged in mangrove associated fisheries, nor of the fishing intensity associated with mangroves at a global scale. \n",
    "We address these gaps by developing a global model of mangrove associated fisher numbers and mangrove fishing intensity. To develop the model, we undertook a three-round Delphi process with mangrove fisheries experts to identify the key drivers of mangrove fishing intensity. We then developed a conceptual model of intensity of mangrove fishing using those factors identified both as being important and for which appropriate global data could be found or developed. These factors were non-urban population, distance to market, distance to mangroves and other fishing grounds, and storm events. \n",
    "By projecting this conceptual model using geospatial datasets, we were able to estimate the number and distribution of mangrove associated fishers and the intensity of fishing in mangroves. We estimate there are 4.1 million mangrove associated fishers globally, with the highest number of mangrove fishers found in Indonesia, India, Bangladesh, Myanmar, and Brazil. Mangrove fishing intensity was greatest throughout Asia, and to a lesser extent West and Central Africa, and Central and South America.\n",
    "\"\"\""
   ]
  },
  {
   "cell_type": "code",
   "execution_count": 6,
   "metadata": {},
   "outputs": [],
   "source": [
    "extent_collection_properties = ImageCollectionProperties(\n",
    "    name = 'Fishing intensity associated with mangroves',\n",
    "    version = data_version,\n",
    "    creator = \"Philine et al. (2020) Fishers who rely on mangroves: Modelling and mapping the global intensity of mangrove-associated fisheries.\",\n",
    "    description = description,\n",
    "    identifier = \"\",\n",
    "    keywords = \"Coasts; Natural Infrastructure; Biodiversity; Forests; Mangroves; Fishing; Fishers; Ecosystem Services\",\n",
    "    citation = 'Philine S.E. zu Ermgassen, Nibedita Mukherjee, Thomas A. Worthington, Alejandro Acosta, Ana Rosa da Rocha Araujo, Christine M. Beitl, Gustavo A. Castellanos-Galindo, Marília Cunha-Lignon, Farid Dahdouh-Guebas, Karen Diele, Cara L. Parrett, Patrick G. Dwyer, Jonathan R. Gair, Andrew Frederick Johnson, Baraka Kuguru, Aaron Savio Lobo, Neil R. Loneragan, Kate Longley-Wood, Jocemar Tomasino Mendonça, Jan-Olaf Meynecke, Roland Nathan Mandal, Cosmas Nzaka Munga, Borja G. Reguero, Patrik Rönnbäck, Julia Thorley, Matthias Wolff, Mark Spalding \"Fishers who rely on mangroves: Modelling and mapping the global intensity of mangrove-associated fisheries\", Estuarine, Coastal and Shelf Science, (2020), Volume 247 (106975), doi:10.1016/j.ecss.2020.106975.',\n",
    "    license = \"https://creativecommons.org/licenses/by/4.0/\",\n",
    "    url = \"\",\n",
    "    language = \"en\", \n",
    "    altName = \"Fishing Intesity Mangroves\",\n",
    "    distribution = \"\",\n",
    "    variableMeasured = \"Fishing intensity\",\n",
    "    units = \"fishing days / square km / year\",\n",
    "    spatialCoverage = \"Global tropics\",\n",
    "    temporalCoverage = \"2020\",\n",
    "    dataLineage = \"\"\n",
    ")"
   ]
  },
  {
   "cell_type": "code",
   "execution_count": 15,
   "metadata": {},
   "outputs": [],
   "source": [
    "def generate_manifests(year):\n",
    "    files = [blob.name for blob in list_gcs(bucket_name = gcs_bucket, \n",
    "                    dir_path = f'ee_import_data/{dataset}/fish_pres', file_pattern = '*.tif') if blob.name.endswith('.tif')]\n",
    "    manifest = GEEManifest(\n",
    "            path = Path(f'{BASE_DIR}/processed/manifest/fish_pres'),\n",
    "            name = f\"projects/earthengine-legacy/assets/{ee_image_collection}/fishing_intensity_mangorves\",\n",
    "            tilesets = [ Tilesets(\n",
    "                sources = [Sources(uris = [f\"{gcs_prefix}/{file}\"]) for file in files],\n",
    "                    )\n",
    "                ],\n",
    "            start_time = f'{year}-01-01T00:00:00Z',\n",
    "            end_time = f'{year}-12-31T00:00:00Z',\n",
    "            uri_prefix = f\"\",\n",
    "            properties = ImageProperties(\n",
    "                band_nodata_values = no_data_values[0],\n",
    "                band_pyramiding_policies = pyramiding,\n",
    "                band_names = 'Band 1',\n",
    "                year = year,\n",
    "            ),\n",
    "            bands = [{\"id\": \"Fishing intensity\",\n",
    "                    \"tileset_band_index\": 0}],\n",
    "            pyramiding_policy = pyramiding,\n",
    "            missing_data = {'values': no_data_values}\n",
    "\n",
    "        )\n",
    "    return manifest"
   ]
  },
  {
   "cell_type": "code",
   "execution_count": null,
   "metadata": {},
   "outputs": [],
   "source": []
  },
  {
   "cell_type": "code",
   "execution_count": 126,
   "metadata": {},
   "outputs": [],
   "source": [
    "def extract_path_from_zip(path_zip: Path):\n",
    "    # Extract all the contents of zip file in current directory\n",
    "    for item in path_zip.iterdir():\n",
    "        if item.suffix == '.zip':\n",
    "            with zipfile.ZipFile(item.as_posix(), 'r') as zipObj:\n",
    "                zipObj.extractall(path_zip)\n",
    "            \n",
    "            item.unlink()"
   ]
  },
  {
   "cell_type": "code",
   "execution_count": 127,
   "metadata": {},
   "outputs": [],
   "source": [
    "def rm_tree(pth: Path):\n",
    "    for child in pth.iterdir():\n",
    "        if child.is_file():\n",
    "            child.unlink()\n",
    "        else:\n",
    "            rm_tree(child)\n",
    "    pth.rmdir()"
   ]
  },
  {
   "cell_type": "code",
   "execution_count": 8,
   "metadata": {},
   "outputs": [
    {
     "name": "stdout",
     "output_type": "stream",
     "text": [
      "Updated property [core/project].\n"
     ]
    }
   ],
   "source": [
    "#!gcloud config set project mangrove-atlas-246414"
   ]
  },
  {
   "cell_type": "code",
   "execution_count": 7,
   "metadata": {},
   "outputs": [
    {
     "name": "stderr",
     "output_type": "stream",
     "text": [
      "INFO:root:Searching GMW v3.14 geotiffs/*.zip\n"
     ]
    },
    {
     "data": {
      "text/plain": [
       "[<Blob: mangrove_atlas, GMW v3.14 geotiffs/, 1658502357947930>,\n",
       " <Blob: mangrove_atlas, GMW v3.14 geotiffs/gmw_v3_1996_gtiff.zip, 1658502502870899>,\n",
       " <Blob: mangrove_atlas, GMW v3.14 geotiffs/gmw_v3_2007_gtiff.zip, 1658502517196761>,\n",
       " <Blob: mangrove_atlas, GMW v3.14 geotiffs/gmw_v3_2008_gtiff.zip, 1658502557420942>,\n",
       " <Blob: mangrove_atlas, GMW v3.14 geotiffs/gmw_v3_2009_gtiff.zip, 1658502628130467>,\n",
       " <Blob: mangrove_atlas, GMW v3.14 geotiffs/gmw_v3_2010_gtiff.zip, 1658502634901691>,\n",
       " <Blob: mangrove_atlas, GMW v3.14 geotiffs/gmw_v3_2015_gtiff.zip, 1658502665713112>,\n",
       " <Blob: mangrove_atlas, GMW v3.14 geotiffs/gmw_v3_2016_gtiff.zip, 1658502699001779>,\n",
       " <Blob: mangrove_atlas, GMW v3.14 geotiffs/gmw_v3_2017_gtiff.zip, 1658502728032109>,\n",
       " <Blob: mangrove_atlas, GMW v3.14 geotiffs/gmw_v3_2018_gtiff.zip, 1658502769412890>,\n",
       " <Blob: mangrove_atlas, GMW v3.14 geotiffs/gmw_v3_2019_gtiff.zip, 1658502783087871>,\n",
       " <Blob: mangrove_atlas, GMW v3.14 geotiffs/gmw_v3_2020_gtiff.zip, 1658502810948153>]"
      ]
     },
     "execution_count": 7,
     "metadata": {},
     "output_type": "execute_result"
    }
   ],
   "source": [
    "files = list(list_gcs(bucket_name = gcs_bucket, dir_path = cgs_parent_folder, file_pattern = '*.zip'))\n",
    "files"
   ]
  },
  {
   "attachments": {},
   "cell_type": "markdown",
   "metadata": {},
   "source": [
    "### Get the raw files locally"
   ]
  },
  {
   "cell_type": "code",
   "execution_count": 37,
   "metadata": {},
   "outputs": [
    {
     "name": "stderr",
     "output_type": "stream",
     "text": [
      "Copying gs://mangrove_atlas/GMW v3.14 geotiffs/gmw_v3_1996_gtiff.zip...\n",
      "Resuming download for /home/jovyan/work/datasets/raw/mangrove_extent/gmw_v3_1996_gtiff.zip\n",
      "Copying gs://mangrove_atlas/GMW v3.14 geotiffs/gmw_v3_2008_gtiff.zip...\n",
      "Copying gs://mangrove_atlas/GMW v3.14 geotiffs/gmw_v3_2007_gtiff.zip...\n",
      "Resuming download for /home/jovyan/work/datasets/raw/mangrove_extent/gmw_v3_2008_gtiff.zip\n",
      "Copying gs://mangrove_atlas/GMW v3.14 geotiffs/gmw_v3_2009_gtiff.zip...\n",
      "Resuming download for /home/jovyan/work/datasets/raw/mangrove_extent/gmw_v3_2007_gtiff.zip\n",
      "Resuming download for /home/jovyan/work/datasets/raw/mangrove_extent/gmw_v3_2009_gtiff.zip\n",
      "Copying gs://mangrove_atlas/GMW v3.14 geotiffs/gmw_v3_2010_gtiff.zip...\n",
      "Resuming download for /home/jovyan/work/datasets/raw/mangrove_extent/gmw_v3_2010_gtiff.zip\n",
      "Copying gs://mangrove_atlas/GMW v3.14 geotiffs/gmw_v3_2015_gtiff.zip...\n",
      "Copying gs://mangrove_atlas/GMW v3.14 geotiffs/gmw_v3_2016_gtiff.zip...\n",
      "Copying gs://mangrove_atlas/GMW v3.14 geotiffs/gmw_v3_2017_gtiff.zip...\n",
      "Copying gs://mangrove_atlas/GMW v3.14 geotiffs/gmw_v3_2018_gtiff.zip...\n",
      "Resuming download for /home/jovyan/work/datasets/raw/mangrove_extent/gmw_v3_2015_gtiff.zip\n",
      "Resuming download for /home/jovyan/work/datasets/raw/mangrove_extent/gmw_v3_2016_gtiff.zip\n",
      "Copying gs://mangrove_atlas/GMW v3.14 geotiffs/gmw_v3_2019_gtiff.zip...\n",
      "Resuming download for /home/jovyan/work/datasets/raw/mangrove_extent/gmw_v3_2017_gtiff.zip\n",
      "Resuming download for /home/jovyan/work/datasets/raw/mangrove_extent/gmw_v3_2018_gtiff.zip\n",
      "Resuming download for /home/jovyan/work/datasets/raw/mangrove_extent/gmw_v3_2019_gtiff.zip\n",
      "Copying gs://mangrove_atlas/GMW v3.14 geotiffs/gmw_v3_2020_gtiff.zip...\n",
      "Resuming download for /home/jovyan/work/datasets/raw/mangrove_extent/gmw_v3_2020_gtiff.zip\n",
      "| [11/11 files][698.1 MiB/698.1 MiB] 100% Done  11.4 MiB/s ETA 00:00:00         \n",
      "Operation completed over 11 objects/698.1 MiB.                                   \n",
      "INFO:root:Task created\n"
     ]
    }
   ],
   "source": [
    "#copy_folder_gcs(f'{gcs_prefix}/{cgs_parent_folder}/*.zip', raw_local_folder)"
   ]
  },
  {
   "attachments": {},
   "cell_type": "markdown",
   "metadata": {},
   "source": [
    "### Extract them and reupload to GCS in the ee_import_data folder"
   ]
  },
  {
   "cell_type": "code",
   "execution_count": 96,
   "metadata": {},
   "outputs": [
    {
     "data": {
      "text/plain": [
       "[PosixPath('/home/jovyan/work/datasets/raw/mangrove_extent/gmw_v3_2008'),\n",
       " PosixPath('/home/jovyan/work/datasets/raw/mangrove_extent/gmw_v3_2007'),\n",
       " PosixPath('/home/jovyan/work/datasets/raw/mangrove_extent/gmw_v3_2009'),\n",
       " PosixPath('/home/jovyan/work/datasets/raw/mangrove_extent/gmw_v3_2015'),\n",
       " PosixPath('/home/jovyan/work/datasets/raw/mangrove_extent/gmw_v3_2016'),\n",
       " PosixPath('/home/jovyan/work/datasets/raw/mangrove_extent/gmw_v3_2017'),\n",
       " PosixPath('/home/jovyan/work/datasets/raw/mangrove_extent/gmw_v3_1996'),\n",
       " PosixPath('/home/jovyan/work/datasets/raw/mangrove_extent/gmw_v3_2019'),\n",
       " PosixPath('/home/jovyan/work/datasets/raw/mangrove_extent/gmw_v3_2010'),\n",
       " PosixPath('/home/jovyan/work/datasets/raw/mangrove_extent/gmw_v3_2020'),\n",
       " PosixPath('/home/jovyan/work/datasets/raw/mangrove_extent/gmw_v3_2018')]"
      ]
     },
     "execution_count": 96,
     "metadata": {},
     "output_type": "execute_result"
    }
   ],
   "source": [
    "#extract_path_from_zip(raw_local_folder)\n",
    "\n",
    "#folder_unziped = [x for x in raw_local_folder.iterdir() if x.is_dir()]\n",
    "\n",
    "#for folder in folder_unziped:\n",
    "#    copy_folder_gcs(folder, f'{gcs_prefix}/ee_import_data/{dataset}/')"
   ]
  },
  {
   "cell_type": "code",
   "execution_count": 9,
   "metadata": {},
   "outputs": [
    {
     "data": {
      "text/plain": [
       "PosixPath('/home/jovyan/work/datasets/raw/mangrove_fishing_activity')"
      ]
     },
     "execution_count": 9,
     "metadata": {},
     "output_type": "execute_result"
    }
   ],
   "source": [
    "raw_local_folder"
   ]
  },
  {
   "cell_type": "code",
   "execution_count": 10,
   "metadata": {},
   "outputs": [
    {
     "name": "stderr",
     "output_type": "stream",
     "text": [
      "Copying file:///home/jovyan/work/datasets/raw/mangrove_fishing_activity/fish_pres2.tif [Content-Type=image/tiff]...\n",
      "==> NOTE: You are uploading one or more large file(s), which would run          \n",
      "significantly faster if you enable parallel composite uploads. This\n",
      "feature can be enabled by editing the\n",
      "\"parallel_composite_upload_threshold\" value in your .boto\n",
      "configuration file. However, note that if you do this large files will\n",
      "be uploaded as `composite objects\n",
      "<https://cloud.google.com/storage/docs/composite-objects>`_,which\n",
      "means that any user who downloads such objects will need to have a\n",
      "compiled crcmod installed (see \"gsutil help crcmod\"). This is because\n",
      "without a compiled crcmod, computing checksums on composite objects is\n",
      "so slow that gsutil disables downloads of composite objects.\n",
      "\n",
      "ResumableUploadAbortException: 401 Anonymous caller does not have storage.objects.create access to the Google Cloud Storage object. Permission 'storage.objects.create' denied on resource (or it may not exist).\n",
      "CommandException: 1 file/object could not be transferred.\n",
      "ERROR:root:Error creating task: 1\n"
     ]
    }
   ],
   "source": [
    "copy_folder_gcs(raw_local_folder, f'{gcs_prefix}/ee_import_data/{dataset}/')"
   ]
  },
  {
   "attachments": {},
   "cell_type": "markdown",
   "metadata": {},
   "source": [
    "#### Clean up the raw data locally as this is expensive in terms of space."
   ]
  },
  {
   "cell_type": "code",
   "execution_count": 121,
   "metadata": {},
   "outputs": [],
   "source": [
    "#rm_tree(raw_local_folder)"
   ]
  },
  {
   "attachments": {},
   "cell_type": "markdown",
   "metadata": {},
   "source": [
    "#### Generate manifests for each year that represent an image in the image collection"
   ]
  },
  {
   "cell_type": "code",
   "execution_count": 128,
   "metadata": {},
   "outputs": [
    {
     "name": "stderr",
     "output_type": "stream",
     "text": [
      "INFO:root:Searching ee_import_data/gmw_v3_1996/*.tif\n",
      "INFO:root:Searching ee_import_data/gmw_v3_2007/*.tif\n",
      "INFO:root:Searching ee_import_data/gmw_v3_2008/*.tif\n",
      "INFO:root:Searching ee_import_data/gmw_v3_2009/*.tif\n",
      "INFO:root:Searching ee_import_data/gmw_v3_2010/*.tif\n",
      "INFO:root:Searching ee_import_data/gmw_v3_2015/*.tif\n",
      "INFO:root:Searching ee_import_data/gmw_v3_2016/*.tif\n",
      "INFO:root:Searching ee_import_data/gmw_v3_2017/*.tif\n",
      "INFO:root:Searching ee_import_data/gmw_v3_2018/*.tif\n",
      "INFO:root:Searching ee_import_data/gmw_v3_2019/*.tif\n",
      "INFO:root:Searching ee_import_data/gmw_v3_2020/*.tif\n"
     ]
    }
   ],
   "source": [
    "list_of_manifests = [generate_manifests(year) for year in data_year_range]"
   ]
  },
  {
   "attachments": {},
   "cell_type": "markdown",
   "metadata": {},
   "source": [
    "#### Create the image collection asset and upload the images to GEE"
   ]
  },
  {
   "cell_type": "code",
   "execution_count": 14,
   "metadata": {},
   "outputs": [
    {
     "data": {
      "text/plain": [
       "'projects/global-mangrove-watch/land-cover/mangrove_fishing_activity'"
      ]
     },
     "execution_count": 14,
     "metadata": {},
     "output_type": "execute_result"
    }
   ],
   "source": [
    "ee_image_collection"
   ]
  },
  {
   "cell_type": "code",
   "execution_count": 16,
   "metadata": {},
   "outputs": [
    {
     "data": {
      "text/plain": [
       "'mangrove_atlas'"
      ]
     },
     "execution_count": 16,
     "metadata": {},
     "output_type": "execute_result"
    }
   ],
   "source": [
    "gcs_bucket"
   ]
  },
  {
   "cell_type": "code",
   "execution_count": 11,
   "metadata": {},
   "outputs": [
    {
     "data": {
      "text/plain": [
       "ImageCollectionProperties(name='Fishing intensity associated with mangroves', version='v3', creator='Philine et al. (2020) Fishers who rely on mangroves: Modelling and mapping the global intensity of mangrove-associated fisheries.', description='\\n## Summary\\n\\nMangroves are critical nursery habitats for fish and invertebrates, providing livelihoods for many coastal communities. Despite their importance, there is currently no estimate of the number of fishers engaged in mangrove associated fisheries, nor of the fishing intensity associated with mangroves at a global scale. \\nWe address these gaps by developing a global model of mangrove associated fisher numbers and mangrove fishing intensity. To develop the model, we undertook a three-round Delphi process with mangrove fisheries experts to identify the key drivers of mangrove fishing intensity. We then developed a conceptual model of intensity of mangrove fishing using those factors identified both as being important and for which appropriate global data could be found or developed. These factors were non-urban population, distance to market, distance to mangroves and other fishing grounds, and storm events. \\nBy projecting this conceptual model using geospatial datasets, we were able to estimate the number and distribution of mangrove associated fishers and the intensity of fishing in mangroves. We estimate there are 4.1 million mangrove associated fishers globally, with the highest number of mangrove fishers found in Indonesia, India, Bangladesh, Myanmar, and Brazil. Mangrove fishing intensity was greatest throughout Asia, and to a lesser extent West and Central Africa, and Central and South America.\\n', identifier='', keywords='Coasts; Natural Infrastructure; Biodiversity; Forests; Mangroves; Fishing; Fishers; Ecosystem Services', citation='Philine S.E. zu Ermgassen, Nibedita Mukherjee, Thomas A. Worthington, Alejandro Acosta, Ana Rosa da Rocha Araujo, Christine M. Beitl, Gustavo A. Castellanos-Galindo, Marília Cunha-Lignon, Farid Dahdouh-Guebas, Karen Diele, Cara L. Parrett, Patrick G. Dwyer, Jonathan R. Gair, Andrew Frederick Johnson, Baraka Kuguru, Aaron Savio Lobo, Neil R. Loneragan, Kate Longley-Wood, Jocemar Tomasino Mendonça, Jan-Olaf Meynecke, Roland Nathan Mandal, Cosmas Nzaka Munga, Borja G. Reguero, Patrik Rönnbäck, Julia Thorley, Matthias Wolff, Mark Spalding \"Fishers who rely on mangroves: Modelling and mapping the global intensity of mangrove-associated fisheries\", Estuarine, Coastal and Shelf Science, (2020), Volume 247 (106975), doi:10.1016/j.ecss.2020.106975.', license='https://creativecommons.org/licenses/by/4.0/', url='', language='en', altName='Fishing Intesity Mangroves', distribution='', variableMeasured='Fishing intensity', units='fishing days / square km / year', spatialCoverage='Global tropics', temporalCoverage='2020', dataLineage='')"
      ]
     },
     "execution_count": 11,
     "metadata": {},
     "output_type": "execute_result"
    }
   ],
   "source": [
    "extent_collection_properties"
   ]
  },
  {
   "cell_type": "code",
   "execution_count": 17,
   "metadata": {},
   "outputs": [
    {
     "name": "stderr",
     "output_type": "stream",
     "text": [
      "INFO:root:Searching ee_import_data/mangrove_fishing_activity/fish_pres/*.tif\n"
     ]
    }
   ],
   "source": [
    "list_of_manifests = generate_manifests(2020)"
   ]
  },
  {
   "cell_type": "code",
   "execution_count": 18,
   "metadata": {},
   "outputs": [
    {
     "data": {
      "text/plain": [
       "GEEManifest(path=PosixPath('/home/jovyan/work/datasets/processed/manifest/fish_pres'), name='projects/earthengine-legacy/assets/projects/global-mangrove-watch/land-cover/mangrove_fishing_activity/fishing_intensity_mangorves', tilesets=[Tilesets(data_type=None, id=None, crs=None, sources=[])], bands=[{'id': 'Fishing intensity', 'tileset_band_index': 0}], mask_bands=None, footprint=None, missing_data={'values': [-3.40282e+38]}, pyramiding_policy='MEAN', uri_prefix='', start_time='2020-01-01T00:00:00Z', end_time='2020-12-31T00:00:00Z', properties=ImageProperties(band_nodata_values='-3.40282e+38', band_pyramiding_policies='MEAN', band_names='Band 1', year=2020))"
      ]
     },
     "execution_count": 18,
     "metadata": {},
     "output_type": "execute_result"
    }
   ],
   "source": [
    "list_of_manifests"
   ]
  },
  {
   "cell_type": "code",
   "execution_count": 21,
   "metadata": {},
   "outputs": [
    {
     "name": "stderr",
     "output_type": "stream",
     "text": [
      "WARNING:googleapiclient.http:Encountered 403 Forbidden with reason \"PERMISSION_DENIED\"\n",
      "ERROR:root:Error creating collection projects/global-mangrove-watch/land-cover/mangrove_fishing_activity\n",
      "ERROR:root:Insufficient permissions to create asset 'projects/earthengine-legacy/assets/projects/global-mangrove-watch/land-cover/mangrove_fishing_activity'.\n"
     ]
    },
    {
     "ename": "EEException",
     "evalue": "Insufficient permissions to create asset 'projects/earthengine-legacy/assets/projects/global-mangrove-watch/land-cover/mangrove_fishing_activity'.",
     "output_type": "error",
     "traceback": [
      "\u001b[0;31m---------------------------------------------------------------------------\u001b[0m",
      "\u001b[0;31mHttpError\u001b[0m                                 Traceback (most recent call last)",
      "File \u001b[0;32m/opt/conda/lib/python3.8/site-packages/ee/data.py:345\u001b[0m, in \u001b[0;36m_execute_cloud_call\u001b[0;34m(call, num_retries)\u001b[0m\n\u001b[1;32m    344\u001b[0m \u001b[39mtry\u001b[39;00m:\n\u001b[0;32m--> 345\u001b[0m   \u001b[39mreturn\u001b[39;00m call\u001b[39m.\u001b[39;49mexecute(num_retries\u001b[39m=\u001b[39;49mnum_retries)\n\u001b[1;32m    346\u001b[0m \u001b[39mexcept\u001b[39;00m googleapiclient\u001b[39m.\u001b[39merrors\u001b[39m.\u001b[39mHttpError \u001b[39mas\u001b[39;00m e:\n",
      "File \u001b[0;32m/opt/conda/lib/python3.8/site-packages/googleapiclient/_helpers.py:130\u001b[0m, in \u001b[0;36mpositional.<locals>.positional_decorator.<locals>.positional_wrapper\u001b[0;34m(*args, **kwargs)\u001b[0m\n\u001b[1;32m    129\u001b[0m         logger\u001b[39m.\u001b[39mwarning(message)\n\u001b[0;32m--> 130\u001b[0m \u001b[39mreturn\u001b[39;00m wrapped(\u001b[39m*\u001b[39;49margs, \u001b[39m*\u001b[39;49m\u001b[39m*\u001b[39;49mkwargs)\n",
      "File \u001b[0;32m/opt/conda/lib/python3.8/site-packages/googleapiclient/http.py:938\u001b[0m, in \u001b[0;36mHttpRequest.execute\u001b[0;34m(self, http, num_retries)\u001b[0m\n\u001b[1;32m    937\u001b[0m \u001b[39mif\u001b[39;00m resp\u001b[39m.\u001b[39mstatus \u001b[39m>\u001b[39m\u001b[39m=\u001b[39m \u001b[39m300\u001b[39m:\n\u001b[0;32m--> 938\u001b[0m     \u001b[39mraise\u001b[39;00m HttpError(resp, content, uri\u001b[39m=\u001b[39m\u001b[39mself\u001b[39m\u001b[39m.\u001b[39muri)\n\u001b[1;32m    939\u001b[0m \u001b[39mreturn\u001b[39;00m \u001b[39mself\u001b[39m\u001b[39m.\u001b[39mpostproc(resp, content)\n",
      "\u001b[0;31mHttpError\u001b[0m: <HttpError 403 when requesting https://earthengine.googleapis.com/v1alpha/projects/earthengine-legacy/assets?assetId=projects%2Fglobal-mangrove-watch%2Fland-cover%2Fmangrove_fishing_activity&prettyPrint=false&alt=json returned \"Insufficient permissions to create asset 'projects/earthengine-legacy/assets/projects/global-mangrove-watch/land-cover/mangrove_fishing_activity'.\". Details: \"Insufficient permissions to create asset 'projects/earthengine-legacy/assets/projects/global-mangrove-watch/land-cover/mangrove_fishing_activity'.\">",
      "\nDuring handling of the above exception, another exception occurred:\n",
      "\u001b[0;31mEEException\u001b[0m                               Traceback (most recent call last)",
      "\u001b[1;32m/Users/angel/Documents/REPOSITORIOS/mangrove-atlas/data/notebooks/Lab/data_processing/GEE/upload_fishing_data.ipynb Cell 34\u001b[0m in \u001b[0;36m<cell line: 1>\u001b[0;34m()\u001b[0m\n\u001b[0;32m----> <a href='vscode-notebook-cell:/Users/angel/Documents/REPOSITORIOS/mangrove-atlas/data/notebooks/Lab/data_processing/GEE/upload_fishing_data.ipynb#X41sZmlsZQ%3D%3D?line=0'>1</a>\u001b[0m createImageCollection(ee_asset_path \u001b[39m=\u001b[39;49m ee_image_collection,\n\u001b[1;32m      <a href='vscode-notebook-cell:/Users/angel/Documents/REPOSITORIOS/mangrove-atlas/data/notebooks/Lab/data_processing/GEE/upload_fishing_data.ipynb#X41sZmlsZQ%3D%3D?line=1'>2</a>\u001b[0m                         properties \u001b[39m=\u001b[39;49m extent_collection_properties, \n\u001b[1;32m      <a href='vscode-notebook-cell:/Users/angel/Documents/REPOSITORIOS/mangrove-atlas/data/notebooks/Lab/data_processing/GEE/upload_fishing_data.ipynb#X41sZmlsZQ%3D%3D?line=2'>3</a>\u001b[0m                         image_list \u001b[39m=\u001b[39;49m list_of_manifests)\n",
      "File \u001b[0;32m/tmp/ipykernel_565/4107606237.py:22\u001b[0m, in \u001b[0;36mcreateImageCollection\u001b[0;34m(ee_asset_path, properties, image_list)\u001b[0m\n\u001b[1;32m     20\u001b[0m logging\u001b[39m.\u001b[39merror(\u001b[39mf\u001b[39m\u001b[39m\"\u001b[39m\u001b[39mError creating collection \u001b[39m\u001b[39m{\u001b[39;00mee_asset_path\u001b[39m}\u001b[39;00m\u001b[39m\"\u001b[39m)\n\u001b[1;32m     21\u001b[0m logging\u001b[39m.\u001b[39merror(e)\n\u001b[0;32m---> 22\u001b[0m \u001b[39mraise\u001b[39;00m e\n",
      "File \u001b[0;32m/tmp/ipykernel_565/4107606237.py:11\u001b[0m, in \u001b[0;36mcreateImageCollection\u001b[0;34m(ee_asset_path, properties, image_list)\u001b[0m\n\u001b[1;32m      6\u001b[0m \u001b[39m\u001b[39m\u001b[39m\"\"\"\u001b[39;00m\n\u001b[1;32m      7\u001b[0m \u001b[39mCreate an image collection from a list of images.\u001b[39;00m\n\u001b[1;32m      8\u001b[0m \u001b[39m\"\"\"\u001b[39;00m\n\u001b[1;32m      9\u001b[0m \u001b[39mtry\u001b[39;00m:\n\u001b[1;32m     10\u001b[0m     \u001b[39m# Creates the image collection\u001b[39;00m\n\u001b[0;32m---> 11\u001b[0m     ee\u001b[39m.\u001b[39;49mdata\u001b[39m.\u001b[39;49mcreateAsset({\u001b[39m\"\u001b[39;49m\u001b[39mtype\u001b[39;49m\u001b[39m\"\u001b[39;49m:\u001b[39m\"\u001b[39;49m\u001b[39mImageCollection\u001b[39;49m\u001b[39m\"\u001b[39;49m}, ee_asset_path, properties\u001b[39m.\u001b[39;49mdict(exclude_none\u001b[39m=\u001b[39;49m\u001b[39mTrue\u001b[39;49;00m))\n\u001b[1;32m     12\u001b[0m     logging\u001b[39m.\u001b[39minfo(\u001b[39mf\u001b[39m\u001b[39m\"\u001b[39m\u001b[39mCreated image collection \u001b[39m\u001b[39m{\u001b[39;00mee_asset_path\u001b[39m}\u001b[39;00m\u001b[39m\"\u001b[39m)\n\u001b[1;32m     14\u001b[0m     \u001b[39m# Creates the uploads for each image in the collection\u001b[39;00m\n",
      "File \u001b[0;32m/opt/conda/lib/python3.8/site-packages/ee/data.py:1366\u001b[0m, in \u001b[0;36mcreateAsset\u001b[0;34m(value, opt_path, opt_properties)\u001b[0m\n\u001b[1;32m   1363\u001b[0m asset[\u001b[39m'\u001b[39m\u001b[39mtype\u001b[39m\u001b[39m'\u001b[39m] \u001b[39m=\u001b[39m _cloud_api_utils\u001b[39m.\u001b[39mconvert_asset_type_for_create_asset(\n\u001b[1;32m   1364\u001b[0m     asset[\u001b[39m'\u001b[39m\u001b[39mtype\u001b[39m\u001b[39m'\u001b[39m])\n\u001b[1;32m   1365\u001b[0m parent, asset_id \u001b[39m=\u001b[39m _cloud_api_utils\u001b[39m.\u001b[39msplit_asset_name(asset\u001b[39m.\u001b[39mpop(\u001b[39m'\u001b[39m\u001b[39mname\u001b[39m\u001b[39m'\u001b[39m))\n\u001b[0;32m-> 1366\u001b[0m \u001b[39mreturn\u001b[39;00m _execute_cloud_call(\n\u001b[1;32m   1367\u001b[0m     _get_cloud_projects()\n\u001b[1;32m   1368\u001b[0m     \u001b[39m.\u001b[39;49massets()\n\u001b[1;32m   1369\u001b[0m     \u001b[39m.\u001b[39;49mcreate(\n\u001b[1;32m   1370\u001b[0m         parent\u001b[39m=\u001b[39;49mparent,\n\u001b[1;32m   1371\u001b[0m         assetId\u001b[39m=\u001b[39;49masset_id,\n\u001b[1;32m   1372\u001b[0m         body\u001b[39m=\u001b[39;49masset,\n\u001b[1;32m   1373\u001b[0m         prettyPrint\u001b[39m=\u001b[39;49m\u001b[39mFalse\u001b[39;49;00m,\n\u001b[1;32m   1374\u001b[0m     )\n\u001b[1;32m   1375\u001b[0m )\n",
      "File \u001b[0;32m/opt/conda/lib/python3.8/site-packages/ee/data.py:347\u001b[0m, in \u001b[0;36m_execute_cloud_call\u001b[0;34m(call, num_retries)\u001b[0m\n\u001b[1;32m    345\u001b[0m   \u001b[39mreturn\u001b[39;00m call\u001b[39m.\u001b[39mexecute(num_retries\u001b[39m=\u001b[39mnum_retries)\n\u001b[1;32m    346\u001b[0m \u001b[39mexcept\u001b[39;00m googleapiclient\u001b[39m.\u001b[39merrors\u001b[39m.\u001b[39mHttpError \u001b[39mas\u001b[39;00m e:\n\u001b[0;32m--> 347\u001b[0m   \u001b[39mraise\u001b[39;00m _translate_cloud_exception(e)\n",
      "\u001b[0;31mEEException\u001b[0m: Insufficient permissions to create asset 'projects/earthengine-legacy/assets/projects/global-mangrove-watch/land-cover/mangrove_fishing_activity'."
     ]
    }
   ],
   "source": [
    "createImageCollection(ee_asset_path = ee_image_collection,\n",
    "                        properties = extent_collection_properties, \n",
    "                        image_list = list_of_manifests)"
   ]
  },
  {
   "attachments": {},
   "cell_type": "markdown",
   "metadata": {},
   "source": [
    "If we need to add new years to the image collection, we can do that by adding new manifests to the image collection asset."
   ]
  },
  {
   "cell_type": "code",
   "execution_count": 108,
   "metadata": {},
   "outputs": [
    {
     "name": "stderr",
     "output_type": "stream",
     "text": [
      "INFO:root:Task created\n",
      "INFO:root:Upload image projects/earthengine-legacy/assets/projects/global-mangrove-watch/land-cover/mangrove-extent-test/gmw_v3_1996\n"
     ]
    },
    {
     "name": "stdout",
     "output_type": "stream",
     "text": [
      "Started upload task with ID: CJXPIRIMZJL6MGZ2US6RD3CH\n"
     ]
    }
   ],
   "source": [
    "addImagesToCollection(ee_image_collection, list_of_manifests[0:1])"
   ]
  },
  {
   "cell_type": "code",
   "execution_count": 2,
   "metadata": {},
   "outputs": [],
   "source": [
    "# Check task status\n",
    "!earthengine task list --status RUNNING"
   ]
  }
 ],
 "metadata": {
  "kernelspec": {
   "display_name": "Python 3 (ipykernel)",
   "language": "python",
   "name": "python3"
  },
  "language_info": {
   "codemirror_mode": {
    "name": "ipython",
    "version": 3
   },
   "file_extension": ".py",
   "mimetype": "text/x-python",
   "name": "python",
   "nbconvert_exporter": "python",
   "pygments_lexer": "ipython3",
   "version": "3.8.6"
  }
 },
 "nbformat": 4,
 "nbformat_minor": 4
}
