{
 "cells": [
  {
   "cell_type": "markdown",
   "metadata": {},
   "source": [
    "### Species Widget"
   ]
  },
  {
   "cell_type": "markdown",
   "metadata": {},
   "source": [
    "### Covert into 3 tables:\n",
    "[1) Data provided:](#1.-Data-provided)\n",
    "\n",
    "* ##### Schema\n",
    "location: string  \n",
    "species_scientific_names {string, n columns based on species list}: boolean   {represents presence/abscence}\n",
    "\n",
    "[2) Table 1: Species properties](#2.-Table-1:-Species-properties)\n",
    "\n",
    "* ##### Schema\n",
    "species_id: number  \n",
    "scientific_name: str  \n",
    "common_name: str  \n",
    "iucn_url: url_str  \n",
    "red_list_cat: enum {ex, ew, re, cr, en, vu, lr,nt,lc,dd} - reference Red list categories\n",
    "\n",
    "[3.Table 2: Species locations](#3.-Table-2:-Species-locations)\n",
    "* ##### Schema\n",
    "location_id: string  \n",
    "species: array[species_id]"
   ]
  },
  {
   "cell_type": "code",
   "execution_count": 3,
   "metadata": {},
   "outputs": [],
   "source": [
    "import pandas as pd\n",
    "import numpy as np\n",
    "import geopandas as gpd\n",
    "import matplotlib.pyplot as plt\n",
    "import seaborn as sns\n",
    "import fiona\n",
    "import requests\n",
    "import re\n",
    "import json\n",
    "from pandera.typing import Series\n",
    "from hypothesis import given\n",
    "import pandera as pa"
   ]
  },
  {
   "cell_type": "markdown",
   "metadata": {},
   "source": [
    "### 1. Data provided"
   ]
  },
  {
   "cell_type": "code",
   "execution_count": 20,
   "metadata": {},
   "outputs": [
    {
     "name": "stderr",
     "output_type": "stream",
     "text": [
      "/var/folders/wf/_wlxc6cn5js4hh3j7j6x28f80000gn/T/ipykernel_8683/3148068576.py:2: FutureWarning: The default value of regex will change from True to False in a future version. In addition, single character regular expressions will *not* be treated as literal strings when regex=True.\n",
      "  sp.columns = sp.columns.str.replace(\".\", \" \")\n"
     ]
    }
   ],
   "source": [
    "sp = pd.read_csv('../../../data/Species_Binary_20220223.csv', encoding = 'latin-1').drop(columns='Unnamed: 0')\n",
    "sp.columns = sp.columns.str.replace(\".\", \" \")"
   ]
  },
  {
   "cell_type": "code",
   "execution_count": 21,
   "metadata": {},
   "outputs": [
    {
     "data": {
      "text/html": [
       "<div>\n",
       "<style scoped>\n",
       "    .dataframe tbody tr th:only-of-type {\n",
       "        vertical-align: middle;\n",
       "    }\n",
       "\n",
       "    .dataframe tbody tr th {\n",
       "        vertical-align: top;\n",
       "    }\n",
       "\n",
       "    .dataframe thead th {\n",
       "        text-align: right;\n",
       "    }\n",
       "</style>\n",
       "<table border=\"1\" class=\"dataframe\">\n",
       "  <thead>\n",
       "    <tr style=\"text-align: right;\">\n",
       "      <th></th>\n",
       "      <th>Country</th>\n",
       "      <th>Acanthus ebracteatus</th>\n",
       "      <th>Acanthus ilicifolius</th>\n",
       "      <th>Acrostichum aureum</th>\n",
       "      <th>Acrostichum danaeifolium</th>\n",
       "      <th>Acrostichum speciosum</th>\n",
       "      <th>Aegialitis annulata</th>\n",
       "      <th>Aegialitis rotundifolia</th>\n",
       "      <th>Aegiceras corniculatum</th>\n",
       "      <th>Aegiceras floridum</th>\n",
       "      <th>...</th>\n",
       "      <th>Scyphiphora hydrophylacea</th>\n",
       "      <th>Sonneratia alba</th>\n",
       "      <th>Sonneratia apetala</th>\n",
       "      <th>Sonneratia caseolaris</th>\n",
       "      <th>Sonneratia griffithii</th>\n",
       "      <th>Sonneratia lanceolata</th>\n",
       "      <th>Sonneratia ovata</th>\n",
       "      <th>Tabebuia palustris</th>\n",
       "      <th>Xylocarpus granatum</th>\n",
       "      <th>Xylocarpus moluccensis</th>\n",
       "    </tr>\n",
       "  </thead>\n",
       "  <tbody>\n",
       "    <tr>\n",
       "      <th>0</th>\n",
       "      <td>American Samoa</td>\n",
       "      <td>0</td>\n",
       "      <td>0</td>\n",
       "      <td>0</td>\n",
       "      <td>0</td>\n",
       "      <td>1</td>\n",
       "      <td>0</td>\n",
       "      <td>0</td>\n",
       "      <td>0</td>\n",
       "      <td>0</td>\n",
       "      <td>...</td>\n",
       "      <td>0</td>\n",
       "      <td>0</td>\n",
       "      <td>0</td>\n",
       "      <td>0</td>\n",
       "      <td>0</td>\n",
       "      <td>0</td>\n",
       "      <td>0</td>\n",
       "      <td>0</td>\n",
       "      <td>0</td>\n",
       "      <td>0</td>\n",
       "    </tr>\n",
       "    <tr>\n",
       "      <th>1</th>\n",
       "      <td>Angola</td>\n",
       "      <td>0</td>\n",
       "      <td>0</td>\n",
       "      <td>1</td>\n",
       "      <td>1</td>\n",
       "      <td>0</td>\n",
       "      <td>0</td>\n",
       "      <td>0</td>\n",
       "      <td>0</td>\n",
       "      <td>0</td>\n",
       "      <td>...</td>\n",
       "      <td>0</td>\n",
       "      <td>0</td>\n",
       "      <td>0</td>\n",
       "      <td>0</td>\n",
       "      <td>0</td>\n",
       "      <td>0</td>\n",
       "      <td>0</td>\n",
       "      <td>0</td>\n",
       "      <td>0</td>\n",
       "      <td>0</td>\n",
       "    </tr>\n",
       "    <tr>\n",
       "      <th>2</th>\n",
       "      <td>Anguilla</td>\n",
       "      <td>0</td>\n",
       "      <td>0</td>\n",
       "      <td>1</td>\n",
       "      <td>1</td>\n",
       "      <td>0</td>\n",
       "      <td>0</td>\n",
       "      <td>0</td>\n",
       "      <td>0</td>\n",
       "      <td>0</td>\n",
       "      <td>...</td>\n",
       "      <td>0</td>\n",
       "      <td>0</td>\n",
       "      <td>0</td>\n",
       "      <td>0</td>\n",
       "      <td>0</td>\n",
       "      <td>0</td>\n",
       "      <td>0</td>\n",
       "      <td>0</td>\n",
       "      <td>0</td>\n",
       "      <td>0</td>\n",
       "    </tr>\n",
       "    <tr>\n",
       "      <th>3</th>\n",
       "      <td>Antigua &amp; Barbuda</td>\n",
       "      <td>0</td>\n",
       "      <td>0</td>\n",
       "      <td>1</td>\n",
       "      <td>1</td>\n",
       "      <td>0</td>\n",
       "      <td>0</td>\n",
       "      <td>0</td>\n",
       "      <td>0</td>\n",
       "      <td>0</td>\n",
       "      <td>...</td>\n",
       "      <td>0</td>\n",
       "      <td>0</td>\n",
       "      <td>0</td>\n",
       "      <td>0</td>\n",
       "      <td>0</td>\n",
       "      <td>0</td>\n",
       "      <td>0</td>\n",
       "      <td>0</td>\n",
       "      <td>0</td>\n",
       "      <td>0</td>\n",
       "    </tr>\n",
       "    <tr>\n",
       "      <th>4</th>\n",
       "      <td>Australia</td>\n",
       "      <td>1</td>\n",
       "      <td>1</td>\n",
       "      <td>1</td>\n",
       "      <td>0</td>\n",
       "      <td>1</td>\n",
       "      <td>1</td>\n",
       "      <td>0</td>\n",
       "      <td>1</td>\n",
       "      <td>0</td>\n",
       "      <td>...</td>\n",
       "      <td>1</td>\n",
       "      <td>1</td>\n",
       "      <td>0</td>\n",
       "      <td>1</td>\n",
       "      <td>0</td>\n",
       "      <td>1</td>\n",
       "      <td>1</td>\n",
       "      <td>0</td>\n",
       "      <td>1</td>\n",
       "      <td>1</td>\n",
       "    </tr>\n",
       "  </tbody>\n",
       "</table>\n",
       "<p>5 rows × 65 columns</p>\n",
       "</div>"
      ],
      "text/plain": [
       "             Country  Acanthus ebracteatus  Acanthus ilicifolius  \\\n",
       "0     American Samoa                     0                     0   \n",
       "1             Angola                     0                     0   \n",
       "2           Anguilla                     0                     0   \n",
       "3  Antigua & Barbuda                     0                     0   \n",
       "4          Australia                     1                     1   \n",
       "\n",
       "   Acrostichum aureum  Acrostichum danaeifolium  Acrostichum speciosum  \\\n",
       "0                   0                         0                      1   \n",
       "1                   1                         1                      0   \n",
       "2                   1                         1                      0   \n",
       "3                   1                         1                      0   \n",
       "4                   1                         0                      1   \n",
       "\n",
       "   Aegialitis annulata  Aegialitis rotundifolia  Aegiceras corniculatum  \\\n",
       "0                    0                        0                       0   \n",
       "1                    0                        0                       0   \n",
       "2                    0                        0                       0   \n",
       "3                    0                        0                       0   \n",
       "4                    1                        0                       1   \n",
       "\n",
       "   Aegiceras floridum  ...  Scyphiphora hydrophylacea  Sonneratia alba  \\\n",
       "0                   0  ...                          0                0   \n",
       "1                   0  ...                          0                0   \n",
       "2                   0  ...                          0                0   \n",
       "3                   0  ...                          0                0   \n",
       "4                   0  ...                          1                1   \n",
       "\n",
       "   Sonneratia apetala  Sonneratia caseolaris  Sonneratia griffithii  \\\n",
       "0                   0                      0                      0   \n",
       "1                   0                      0                      0   \n",
       "2                   0                      0                      0   \n",
       "3                   0                      0                      0   \n",
       "4                   0                      1                      0   \n",
       "\n",
       "   Sonneratia lanceolata  Sonneratia ovata  Tabebuia palustris  \\\n",
       "0                      0                 0                   0   \n",
       "1                      0                 0                   0   \n",
       "2                      0                 0                   0   \n",
       "3                      0                 0                   0   \n",
       "4                      1                 1                   0   \n",
       "\n",
       "   Xylocarpus granatum  Xylocarpus moluccensis  \n",
       "0                    0                       0  \n",
       "1                    0                       0  \n",
       "2                    0                       0  \n",
       "3                    0                       0  \n",
       "4                    1                       1  \n",
       "\n",
       "[5 rows x 65 columns]"
      ]
     },
     "execution_count": 21,
     "metadata": {},
     "output_type": "execute_result"
    }
   ],
   "source": [
    "sp.head()"
   ]
  },
  {
   "cell_type": "markdown",
   "metadata": {},
   "source": [
    "### Model to validate data provided\n",
    "(assuming they will continue to provide the data in this format)  \n",
    "Right now it only validates that the first column is a string and that some species examples are 0-1"
   ]
  },
  {
   "cell_type": "code",
   "execution_count": 22,
   "metadata": {},
   "outputs": [],
   "source": [
    "class Species_matrix(pa.SchemaModel):\n",
    "    \"\"\"\n",
    "    This class is used to validate the data schema of a species matrix.\n",
    "    \"\"\"\n",
    "    location: Series[str] = pa.Field(nullable=False,alias= 'Country')\n",
    "    specie: Series[int] = pa.Field(alias ='^(?!Country$).*', nullable=False,regex=True, in_range={\"min_value\": 0, \"max_value\": 1})"
   ]
  },
  {
   "cell_type": "code",
   "execution_count": 23,
   "metadata": {},
   "outputs": [],
   "source": [
    "validated = Species_matrix.validate(sp)"
   ]
  },
  {
   "cell_type": "markdown",
   "metadata": {},
   "source": [
    "### 2. Table 1: Species properties"
   ]
  },
  {
   "cell_type": "markdown",
   "metadata": {},
   "source": [
    "* First we need to retrieve the needed data from the IUCN API.  \n",
    "We can perform a search on IUCN main page (https://www.iucnredlist.org/),for example, to retrieve the first species Acanthus ebracteatus.\n",
    "That will send us to another page: https://www.iucnredlist.org/search?query=Acanthus%20ebracteatus&searchType=species\n",
    "If we open the inspector tab we can see the search querys from 'Network'\n",
    "We can click on one of the 'search?size...' and look at the headers and payload. Not all querys return the same information, we need t find one that is returning the common name, species id, iucn status, etc.\n",
    "Once we find it, we can do right click --> Copy --> Copy as cURL. \n",
    "The curl command is shown below. We can reformat this in python format using https://curlconverter.com/#python  \n",
    "We can make this request simpler by eliminating unecessary params and we can make it generic by passing the species name to the query term.\n",
    "\n",
    "* Once we have all the data we can add it to a dataframe\n",
    "\n",
    "* What to do with hibrid species??? they don't have an IUCN species identifier\n",
    "For now I am adding 'hibrid{list_number}' but we should think about how to identify them"
   ]
  },
  {
   "cell_type": "markdown",
   "metadata": {},
   "source": [
    "curl 'https://www.iucnredlist.org/dosearch/assessments/_search?size=60&_source=false&from=0&track_total_hits=true' \\\n",
    "  -H 'authority: www.iucnredlist.org' \\\n",
    "  -H 'pragma: no-cache' \\\n",
    "  -H 'cache-control: no-cache' \\\n",
    "  -H 'sec-ch-ua: \" Not A;Brand\";v=\"99\", \"Chromium\";v=\"96\", \"Google Chrome\";v=\"96\"' \\\n",
    "  -H 'dnt: 1' \\\n",
    "  -H 'sec-ch-ua-mobile: ?0' \\\n",
    "  -H 'user-agent: Mozilla/5.0 (X11; Linux x86_64) AppleWebKit/537.36 (KHTML, like Gecko) Chrome/96.0.4664.93 Safari/537.36' \\\n",
    "  -H 'sec-ch-ua-platform: \"Linux\"' \\\n",
    "  -H 'content-type: application/json' \\\n",
    "  -H 'accept: */*' \\\n",
    "  -H 'origin: https://www.iucnredlist.org' \\\n",
    "  -H 'sec-fetch-site: same-origin' \\\n",
    "  -H 'sec-fetch-mode: cors' \\\n",
    "  -H 'sec-fetch-dest: empty' \\\n",
    "  -H 'referer: https://www.iucnredlist.org/search?query=canis%20lupus&searchType=species' \\\n",
    "  -H 'accept-language: en,es;q=0.9,gl;q=0.8' \\\n",
    "  -H 'cookie: _ga=GA1.2.1721324640.1640163956; _gid=GA1.2.729186747.1640163956; _application_devise_session=U2NyVC9NaS8xOXdEeEdFOFprY0VWeVZTWE0vWWZZb2NQNEJyRlNlejVXK2Y1N1lOcUQwRDlkbUd0OXk0MmEvZS84RFVPQUtGNEJUenZQdXVQZzVqblkrT050RC9kMmJCTGtESTh5c0JzVWF1MzRKRkV0cXJPWkFhUlZIRXlBZWI1YVFwUDIrRXA0MHR2RVNnNEFIb1JGMUNteS9HUFhid05FZjI2WVpzSVorQjRlVmNIQjd1eWc5RlArR09lRjFGbGQ1ZUJFSlJoN201N1JQT0U2T3hLN2lERkdjeE00OTBIaERjN09ocG9KdTNSMFpnbTE2a3RVWElQR3Q5cjlaby0tUEMvSHlIMnBJckludlhEZjRvY0RRUT09--f221903eb125a5b45ea7b6dc7d9148fa0643c650' \\\n",
    "  --data-raw '{\"stored_fields\":[\"hasImage\",\"hasPoints\",\"hasRanges\",\"image.id\",\"image.url\",\"image.urlThumb\",\"image.credit\",\"scopes.id\",\"scopes.code\",\"scopes.jsonDescription\",\"kingdomName\",\"className\",\"commonName\",\"scientificName\",\"sisTaxonId\",\"redListCategory.scaleCode\",\"redListCategory.order\",\"redListCategory.code\",\"redListCategory.jsonDescription\",\"populationTrend.id\",\"populationTrend.code\",\"populationTrend.jsonDescription\",\"hasGreen\",\"greenListCategory.scaleCode\",\"greenListCategory.name\"],\"query\":{\"bool\":{\"must\":[{\"multi_match\":{\"query\":\"canis lupus\",\"type\":\"phrase_prefix\",\"fields\":[\"commonName^12\",\"commonNames^10\",\"scientificName^8\",\"keywords^4\",\"synonyms^2\",\"assessors\",\"sisTaxonId\",\"id\"],\"lenient\":true,\"max_expansions\":100}}],\"filter\":{\"bool\":{\"filter\":[{\"terms\":{\"scopes.code\":[\"1\"]}},{\"terms\":{\"taxonLevel\":[\"Species\"]}}],\"should\":[],\"minimum_should_match\":0}},\"should\":[{\"term\":{\"hasImage\":{\"value\":true,\"boost\":6}}}]}},\"sort\":[{\"_score\":{\"order\":\"desc\"}}]}' \\\n",
    "  --compressed"
   ]
  },
  {
   "cell_type": "code",
   "execution_count": 24,
   "metadata": {},
   "outputs": [],
   "source": [
    "def getIUCNdata(species):\n",
    "    '''\n",
    "    gets the IUCN data from their Api for a given specie\n",
    "\n",
    "    Parameters\n",
    "    ----------\n",
    "    species: str\n",
    "        the scientific name of the specie\n",
    "\n",
    "    Returns\n",
    "    -------\n",
    "    dict\n",
    "    '''\n",
    "    sp_str = species.lower()\n",
    "\n",
    "    headers = {\n",
    "        'authority': 'www.iucnredlist.org',\n",
    "        'content-type': 'application/json'}\n",
    "\n",
    "    data = json.dumps({\"stored_fields\":[\"hasImage\",\"hasPoints\",\"hasRanges\",\"image.id\",\"image.url\",\\\n",
    "                \"image.urlThumb\",\"image.credit\",\"scopes.id\",\"scopes.code\",\"scopes.jsonDescription\",\\\n",
    "                \"kingdomName\",\"className\",\"commonName\",\"scientificName\",\"sisTaxonId\",\\\n",
    "                \"redListCategory.scaleCode\",\"redListCategory.order\",\"redListCategory.code\",\\\n",
    "                \"redListCategory.jsonDescription\",\"populationTrend.id\",\"populationTrend.code\",\\\n",
    "                \"populationTrend.jsonDescription\",\"hasGreen\",\"greenListCategory.scaleCode\",\\\n",
    "                \"greenListCategory.name\"],\\\n",
    "                \"query\":{\"bool\":{\"must\":[{\"multi_match\":\\\n",
    "                {\"query\":f\"{sp_str}\",\"type\":\"phrase_prefix\",\\\n",
    "                \"fields\":[\"commonName^12\",\"commonNames^10\",\\\n",
    "                \"scientificName^8\",\"keywords^4\",\"synonyms^2\",\\\n",
    "                \"assessors\",\"sisTaxonId\",\"id\"],\"lenient\":True,\\\n",
    "                \"max_expansions\":100}}],\\\n",
    "                \"filter\":{\"bool\":{\"filter\":[{\"terms\":{\"scopes.code\":[\"1\"]}},\\\n",
    "                {\"terms\":{\"taxonLevel\":[\"Species\"]}}],\"should\":[],\"minimum_should_match\":0}},\\\n",
    "                \"should\":[{\"term\":{\"hasImage\":{\"value\":True,\"boost\":6}}}]}},\"sort\":[{\"_score\":{\"order\":\"desc\"}}]})\n",
    "\n",
    "    response = requests.get('https://www.iucnredlist.org/dosearch/assessments/_search', headers=headers, data=data)\n",
    "    return response.json()"
   ]
  },
  {
   "cell_type": "code",
   "execution_count": 83,
   "metadata": {},
   "outputs": [],
   "source": []
  },
  {
   "cell_type": "code",
   "execution_count": 25,
   "metadata": {},
   "outputs": [],
   "source": [
    "sp_list = validated.columns.tolist()\n",
    "\n",
    "records ={'species_id':[],\n",
    "         'scientific_name':[],\n",
    "         'common_name':[],\n",
    "         'iucn_url':[],\n",
    "         'red_list_cat':[]}\n",
    "\n",
    "for n, species in enumerate(sp_list[1:]):\n",
    "    out = getIUCNdata(species)\n",
    "    records['scientific_name'].append(species)\n",
    "    records['iucn_url'].append(f'https://www.iucnredlist.org/search?query={species.replace(\" \",\"%20\")}&searchType=species')\n",
    "    \n",
    "    ### Sepcies id\n",
    "    try:\n",
    "        records['species_id'].append(out['hits']['hits'][0]['_id'])\n",
    "    except:\n",
    "        records['species_id'].append(999900+n)\n",
    "    \n",
    "    ### Common name\n",
    "    try:\n",
    "        if 'commonName' in out['hits']['hits'][0]['fields']:\n",
    "            records['common_name'].append(out['hits']['hits'][0]['fields']['commonName'][0])\n",
    "        else:\n",
    "            records['common_name'].append(out['hits']['hits'][1]['fields']['commonName'][0])\n",
    "    except:\n",
    "        records['common_name'].append(np.nan)\n",
    "    \n",
    "    ### IUCN category\n",
    "    try:\n",
    "        records['red_list_cat'].append(out['hits']['hits'][0]['fields']['redListCategory.scaleCode'][0])\n",
    "    except:\n",
    "        records['red_list_cat'].append(np.nan)\n",
    "        "
   ]
  },
  {
   "cell_type": "code",
   "execution_count": 26,
   "metadata": {},
   "outputs": [],
   "source": [
    "### Write table 1 using IUCN API data\n",
    "table1 = pd.DataFrame(data=records)\n",
    "table1.species_id = table1.species_id.astype(int)"
   ]
  },
  {
   "cell_type": "code",
   "execution_count": 27,
   "metadata": {},
   "outputs": [
    {
     "data": {
      "text/html": [
       "<div>\n",
       "<style scoped>\n",
       "    .dataframe tbody tr th:only-of-type {\n",
       "        vertical-align: middle;\n",
       "    }\n",
       "\n",
       "    .dataframe tbody tr th {\n",
       "        vertical-align: top;\n",
       "    }\n",
       "\n",
       "    .dataframe thead th {\n",
       "        text-align: right;\n",
       "    }\n",
       "</style>\n",
       "<table border=\"1\" class=\"dataframe\">\n",
       "  <thead>\n",
       "    <tr style=\"text-align: right;\">\n",
       "      <th></th>\n",
       "      <th>species_id</th>\n",
       "      <th>scientific_name</th>\n",
       "      <th>common_name</th>\n",
       "      <th>iucn_url</th>\n",
       "      <th>red_list_cat</th>\n",
       "    </tr>\n",
       "  </thead>\n",
       "  <tbody>\n",
       "    <tr>\n",
       "      <th>0</th>\n",
       "      <td>7621003</td>\n",
       "      <td>Acanthus ebracteatus</td>\n",
       "      <td>Holy Mangrove</td>\n",
       "      <td>https://www.iucnredlist.org/search?query=Acant...</td>\n",
       "      <td>lc</td>\n",
       "    </tr>\n",
       "    <tr>\n",
       "      <th>1</th>\n",
       "      <td>6536949</td>\n",
       "      <td>Acanthus ilicifolius</td>\n",
       "      <td>Holy Mangrove</td>\n",
       "      <td>https://www.iucnredlist.org/search?query=Acant...</td>\n",
       "      <td>lc</td>\n",
       "    </tr>\n",
       "    <tr>\n",
       "      <th>2</th>\n",
       "      <td>7366131</td>\n",
       "      <td>Acrostichum aureum</td>\n",
       "      <td>NaN</td>\n",
       "      <td>https://www.iucnredlist.org/search?query=Acros...</td>\n",
       "      <td>lc</td>\n",
       "    </tr>\n",
       "    <tr>\n",
       "      <th>3</th>\n",
       "      <td>7613396</td>\n",
       "      <td>Acrostichum danaeifolium</td>\n",
       "      <td>NaN</td>\n",
       "      <td>https://www.iucnredlist.org/search?query=Acros...</td>\n",
       "      <td>lc</td>\n",
       "    </tr>\n",
       "    <tr>\n",
       "      <th>4</th>\n",
       "      <td>7614751</td>\n",
       "      <td>Acrostichum speciosum</td>\n",
       "      <td>NaN</td>\n",
       "      <td>https://www.iucnredlist.org/search?query=Acros...</td>\n",
       "      <td>lc</td>\n",
       "    </tr>\n",
       "    <tr>\n",
       "      <th>...</th>\n",
       "      <td>...</td>\n",
       "      <td>...</td>\n",
       "      <td>...</td>\n",
       "      <td>...</td>\n",
       "      <td>...</td>\n",
       "    </tr>\n",
       "    <tr>\n",
       "      <th>59</th>\n",
       "      <td>7619241</td>\n",
       "      <td>Sonneratia lanceolata</td>\n",
       "      <td>NaN</td>\n",
       "      <td>https://www.iucnredlist.org/search?query=Sonne...</td>\n",
       "      <td>lc</td>\n",
       "    </tr>\n",
       "    <tr>\n",
       "      <th>60</th>\n",
       "      <td>7615033</td>\n",
       "      <td>Sonneratia ovata</td>\n",
       "      <td>NaN</td>\n",
       "      <td>https://www.iucnredlist.org/search?query=Sonne...</td>\n",
       "      <td>nt</td>\n",
       "    </tr>\n",
       "    <tr>\n",
       "      <th>61</th>\n",
       "      <td>7610513</td>\n",
       "      <td>Tabebuia palustris</td>\n",
       "      <td>NaN</td>\n",
       "      <td>https://www.iucnredlist.org/search?query=Tabeb...</td>\n",
       "      <td>vu</td>\n",
       "    </tr>\n",
       "    <tr>\n",
       "      <th>62</th>\n",
       "      <td>7624881</td>\n",
       "      <td>Xylocarpus granatum</td>\n",
       "      <td>NaN</td>\n",
       "      <td>https://www.iucnredlist.org/search?query=Xyloc...</td>\n",
       "      <td>lc</td>\n",
       "    </tr>\n",
       "    <tr>\n",
       "      <th>63</th>\n",
       "      <td>7611857</td>\n",
       "      <td>Xylocarpus moluccensis</td>\n",
       "      <td>NaN</td>\n",
       "      <td>https://www.iucnredlist.org/search?query=Xyloc...</td>\n",
       "      <td>lc</td>\n",
       "    </tr>\n",
       "  </tbody>\n",
       "</table>\n",
       "<p>64 rows × 5 columns</p>\n",
       "</div>"
      ],
      "text/plain": [
       "    species_id           scientific_name    common_name  \\\n",
       "0      7621003      Acanthus ebracteatus  Holy Mangrove   \n",
       "1      6536949      Acanthus ilicifolius  Holy Mangrove   \n",
       "2      7366131        Acrostichum aureum            NaN   \n",
       "3      7613396  Acrostichum danaeifolium            NaN   \n",
       "4      7614751     Acrostichum speciosum            NaN   \n",
       "..         ...                       ...            ...   \n",
       "59     7619241     Sonneratia lanceolata            NaN   \n",
       "60     7615033          Sonneratia ovata            NaN   \n",
       "61     7610513        Tabebuia palustris            NaN   \n",
       "62     7624881       Xylocarpus granatum            NaN   \n",
       "63     7611857    Xylocarpus moluccensis            NaN   \n",
       "\n",
       "                                             iucn_url red_list_cat  \n",
       "0   https://www.iucnredlist.org/search?query=Acant...           lc  \n",
       "1   https://www.iucnredlist.org/search?query=Acant...           lc  \n",
       "2   https://www.iucnredlist.org/search?query=Acros...           lc  \n",
       "3   https://www.iucnredlist.org/search?query=Acros...           lc  \n",
       "4   https://www.iucnredlist.org/search?query=Acros...           lc  \n",
       "..                                                ...          ...  \n",
       "59  https://www.iucnredlist.org/search?query=Sonne...           lc  \n",
       "60  https://www.iucnredlist.org/search?query=Sonne...           nt  \n",
       "61  https://www.iucnredlist.org/search?query=Tabeb...           vu  \n",
       "62  https://www.iucnredlist.org/search?query=Xyloc...           lc  \n",
       "63  https://www.iucnredlist.org/search?query=Xyloc...           lc  \n",
       "\n",
       "[64 rows x 5 columns]"
      ]
     },
     "execution_count": 27,
     "metadata": {},
     "output_type": "execute_result"
    }
   ],
   "source": [
    "table1"
   ]
  },
  {
   "cell_type": "markdown",
   "metadata": {},
   "source": [
    "### Model to validate Species properties"
   ]
  },
  {
   "cell_type": "code",
   "execution_count": 29,
   "metadata": {},
   "outputs": [],
   "source": [
    "class Species_properties(pa.SchemaModel):\n",
    "    #species_id: Series[int] = pa.Field(nullable=False, gt=0,allow_duplicates=False)\n",
    "    #scientific_name: Series[str] = pa.Field(str_matches= \"[A-Za-z]*\", allow_duplicates=True, nullable=True)\n",
    "    #common_name: Series[str] = pa.Field(str_matches= \"[A-Za-z]*\",nullable=True)\n",
    "    #iucn_url: Series[str] = pa.Field(str_matches= \"^(https?:\\/\\/)?(www\\.)?([A-Za-z0-9@:%._\\+?~#=/&])*\", allow_duplicates=True,nullable=True)\n",
    "    #red_list_cat: Series[str] = pa.Field(str_matches= \"^(dd|lc|nt|vu|en|cr|ew|ex)$\",allow_duplicates=True, nullable=True) \n",
    "    species_id: Series[int] = pa.Field(nullable=False, gt=0)\n",
    "    scientific_name: Series[str] = pa.Field(str_matches= \"[A-Za-z]*\", nullable=True)\n",
    "    common_name: Series[str] = pa.Field(str_matches= \"[A-Za-z]*\",nullable=True)\n",
    "    iucn_url: Series[str] = pa.Field(str_matches= \"^(https?:\\/\\/)?(www\\.)?([A-Za-z0-9@:%._\\+?~#=/&])*\",nullable=True)\n",
    "    red_list_cat: Series[str] = pa.Field(str_matches= \"^(dd|lc|nt|vu|en|cr|ew|ex)$\", nullable=True) "
   ]
  },
  {
   "cell_type": "code",
   "execution_count": 30,
   "metadata": {},
   "outputs": [
    {
     "data": {
      "text/html": [
       "<div>\n",
       "<style scoped>\n",
       "    .dataframe tbody tr th:only-of-type {\n",
       "        vertical-align: middle;\n",
       "    }\n",
       "\n",
       "    .dataframe tbody tr th {\n",
       "        vertical-align: top;\n",
       "    }\n",
       "\n",
       "    .dataframe thead th {\n",
       "        text-align: right;\n",
       "    }\n",
       "</style>\n",
       "<table border=\"1\" class=\"dataframe\">\n",
       "  <thead>\n",
       "    <tr style=\"text-align: right;\">\n",
       "      <th></th>\n",
       "      <th>species_id</th>\n",
       "      <th>scientific_name</th>\n",
       "      <th>common_name</th>\n",
       "      <th>iucn_url</th>\n",
       "      <th>red_list_cat</th>\n",
       "    </tr>\n",
       "  </thead>\n",
       "  <tbody>\n",
       "    <tr>\n",
       "      <th>0</th>\n",
       "      <td>7621003</td>\n",
       "      <td>Acanthus ebracteatus</td>\n",
       "      <td>Holy Mangrove</td>\n",
       "      <td>https://www.iucnredlist.org/search?query=Acant...</td>\n",
       "      <td>lc</td>\n",
       "    </tr>\n",
       "    <tr>\n",
       "      <th>1</th>\n",
       "      <td>6536949</td>\n",
       "      <td>Acanthus ilicifolius</td>\n",
       "      <td>Holy Mangrove</td>\n",
       "      <td>https://www.iucnredlist.org/search?query=Acant...</td>\n",
       "      <td>lc</td>\n",
       "    </tr>\n",
       "    <tr>\n",
       "      <th>2</th>\n",
       "      <td>7366131</td>\n",
       "      <td>Acrostichum aureum</td>\n",
       "      <td>NaN</td>\n",
       "      <td>https://www.iucnredlist.org/search?query=Acros...</td>\n",
       "      <td>lc</td>\n",
       "    </tr>\n",
       "    <tr>\n",
       "      <th>3</th>\n",
       "      <td>7613396</td>\n",
       "      <td>Acrostichum danaeifolium</td>\n",
       "      <td>NaN</td>\n",
       "      <td>https://www.iucnredlist.org/search?query=Acros...</td>\n",
       "      <td>lc</td>\n",
       "    </tr>\n",
       "    <tr>\n",
       "      <th>4</th>\n",
       "      <td>7614751</td>\n",
       "      <td>Acrostichum speciosum</td>\n",
       "      <td>NaN</td>\n",
       "      <td>https://www.iucnredlist.org/search?query=Acros...</td>\n",
       "      <td>lc</td>\n",
       "    </tr>\n",
       "  </tbody>\n",
       "</table>\n",
       "</div>"
      ],
      "text/plain": [
       "   species_id           scientific_name    common_name  \\\n",
       "0     7621003      Acanthus ebracteatus  Holy Mangrove   \n",
       "1     6536949      Acanthus ilicifolius  Holy Mangrove   \n",
       "2     7366131        Acrostichum aureum            NaN   \n",
       "3     7613396  Acrostichum danaeifolium            NaN   \n",
       "4     7614751     Acrostichum speciosum            NaN   \n",
       "\n",
       "                                            iucn_url red_list_cat  \n",
       "0  https://www.iucnredlist.org/search?query=Acant...           lc  \n",
       "1  https://www.iucnredlist.org/search?query=Acant...           lc  \n",
       "2  https://www.iucnredlist.org/search?query=Acros...           lc  \n",
       "3  https://www.iucnredlist.org/search?query=Acros...           lc  \n",
       "4  https://www.iucnredlist.org/search?query=Acros...           lc  "
      ]
     },
     "execution_count": 30,
     "metadata": {},
     "output_type": "execute_result"
    }
   ],
   "source": [
    "## Validate any pandas dataframe using the schema\n",
    "validated = Species_properties.validate(table1)\n",
    "validated.head()"
   ]
  },
  {
   "cell_type": "markdown",
   "metadata": {},
   "source": [
    "### Save species table"
   ]
  },
  {
   "cell_type": "code",
   "execution_count": 37,
   "metadata": {},
   "outputs": [],
   "source": [
    "table1[['scientific_name','common_name','iucn_url','red_list_cat']].to_csv('../../../data/Species_ID_list.csv', index = False)"
   ]
  },
  {
   "cell_type": "markdown",
   "metadata": {},
   "source": [
    "### 3. Table 2: Species locations"
   ]
  },
  {
   "cell_type": "markdown",
   "metadata": {},
   "source": [
    "### a)Convert Species names to identifiers and add as an array to locations table"
   ]
  },
  {
   "cell_type": "code",
   "execution_count": 187,
   "metadata": {},
   "outputs": [],
   "source": [
    "#sp.stack().reset_index().set_axis('From To Distance'.split(), axis=1)"
   ]
  },
  {
   "cell_type": "code",
   "execution_count": 89,
   "metadata": {},
   "outputs": [
    {
     "name": "stderr",
     "output_type": "stream",
     "text": [
      "/opt/conda/lib/python3.8/site-packages/pandas/core/frame.py:4305: SettingWithCopyWarning: \n",
      "A value is trying to be set on a copy of a slice from a DataFrame\n",
      "\n",
      "See the caveats in the documentation: https://pandas.pydata.org/pandas-docs/stable/user_guide/indexing.html#returning-a-view-versus-a-copy\n",
      "  return super().drop(\n"
     ]
    }
   ],
   "source": [
    "table2 = pd.DataFrame(data = {'country_name':sp.Species,'species':np.nan})\n",
    "for country in sp.Species:\n",
    "    df = sp[sp['Species']==country]\n",
    "    for col in df.columns:\n",
    "        if df[[col]].values[0]==0:\n",
    "            df.drop(col,inplace=True,axis=1)\n",
    "            sp_names = df.columns\n",
    "    table2.loc[table2['country_name']==country,'species']= str(list(table1[table1.scientific_name.isin(sp_names)].species_id))"
   ]
  },
  {
   "cell_type": "code",
   "execution_count": 90,
   "metadata": {},
   "outputs": [
    {
     "data": {
      "text/html": [
       "<div>\n",
       "<style scoped>\n",
       "    .dataframe tbody tr th:only-of-type {\n",
       "        vertical-align: middle;\n",
       "    }\n",
       "\n",
       "    .dataframe tbody tr th {\n",
       "        vertical-align: top;\n",
       "    }\n",
       "\n",
       "    .dataframe thead th {\n",
       "        text-align: right;\n",
       "    }\n",
       "</style>\n",
       "<table border=\"1\" class=\"dataframe\">\n",
       "  <thead>\n",
       "    <tr style=\"text-align: right;\">\n",
       "      <th></th>\n",
       "      <th>country_name</th>\n",
       "      <th>species</th>\n",
       "    </tr>\n",
       "  </thead>\n",
       "  <tbody>\n",
       "    <tr>\n",
       "      <th>0</th>\n",
       "      <td>Comoros</td>\n",
       "      <td>[7619457, 7610926, 7617531, 7627492, 7625290, ...</td>\n",
       "    </tr>\n",
       "    <tr>\n",
       "      <th>1</th>\n",
       "      <td>Kenya</td>\n",
       "      <td>[7619457, 7610926, 7617531, 7627492, 7625290, ...</td>\n",
       "    </tr>\n",
       "    <tr>\n",
       "      <th>2</th>\n",
       "      <td>Madagascar</td>\n",
       "      <td>[7619457, 7610926, 7617531, 7627492, 7625290, ...</td>\n",
       "    </tr>\n",
       "    <tr>\n",
       "      <th>3</th>\n",
       "      <td>Mauritius</td>\n",
       "      <td>[7366131, 7610926, 7622565, 7618520]</td>\n",
       "    </tr>\n",
       "    <tr>\n",
       "      <th>4</th>\n",
       "      <td>Mayotte</td>\n",
       "      <td>[7619457, 7610926, 7617531, 7627492, 7625290, ...</td>\n",
       "    </tr>\n",
       "  </tbody>\n",
       "</table>\n",
       "</div>"
      ],
      "text/plain": [
       "  country_name                                            species\n",
       "0      Comoros  [7619457, 7610926, 7617531, 7627492, 7625290, ...\n",
       "1        Kenya  [7619457, 7610926, 7617531, 7627492, 7625290, ...\n",
       "2   Madagascar  [7619457, 7610926, 7617531, 7627492, 7625290, ...\n",
       "3    Mauritius               [7366131, 7610926, 7622565, 7618520]\n",
       "4      Mayotte  [7619457, 7610926, 7617531, 7627492, 7625290, ..."
      ]
     },
     "execution_count": 90,
     "metadata": {},
     "output_type": "execute_result"
    }
   ],
   "source": [
    "table2.head()"
   ]
  },
  {
   "cell_type": "markdown",
   "metadata": {},
   "source": [
    "### b) Parse location names to match API locations_id"
   ]
  },
  {
   "cell_type": "code",
   "execution_count": 94,
   "metadata": {},
   "outputs": [],
   "source": [
    "### Read location ids file\n",
    "dataLocation = requests.get('https://mangrove-atlas-api.herokuapp.com/api/v2/locations').json()['data']\n",
    "loc = pd.DataFrame(dataLocation)\n",
    "locapi = loc.name.values"
   ]
  },
  {
   "cell_type": "code",
   "execution_count": 95,
   "metadata": {},
   "outputs": [
    {
     "name": "stdout",
     "output_type": "stream",
     "text": [
      "Collecting fuzzywuzzy\n",
      "  Downloading fuzzywuzzy-0.18.0-py2.py3-none-any.whl (18 kB)\n",
      "Installing collected packages: fuzzywuzzy\n",
      "Successfully installed fuzzywuzzy-0.18.0\n",
      "Collecting python-Levenshtein\n",
      "  Downloading python-Levenshtein-0.12.2.tar.gz (50 kB)\n",
      "\u001b[K     |████████████████████████████████| 50 kB 9.6 MB/s  eta 0:00:01\n",
      "\u001b[?25hRequirement already satisfied: setuptools in /opt/conda/lib/python3.8/site-packages (from python-Levenshtein) (59.8.0)\n",
      "Building wheels for collected packages: python-Levenshtein\n",
      "  Building wheel for python-Levenshtein (setup.py) ... \u001b[?25ldone\n",
      "\u001b[?25h  Created wheel for python-Levenshtein: filename=python_Levenshtein-0.12.2-cp38-cp38-linux_x86_64.whl size=185027 sha256=ca3de73f9ffc4711abd27d71f9aafc4a1fb13bddb920042d7f63529cdaffc9d4\n",
      "  Stored in directory: /home/jovyan/.cache/pip/wheels/d7/0c/76/042b46eb0df65c3ccd0338f791210c55ab79d209bcc269e2c7\n",
      "Successfully built python-Levenshtein\n",
      "Installing collected packages: python-Levenshtein\n",
      "Successfully installed python-Levenshtein-0.12.2\n"
     ]
    }
   ],
   "source": [
    "!pip install fuzzywuzzy\n",
    "!pip install python-Levenshtein"
   ]
  },
  {
   "cell_type": "code",
   "execution_count": 193,
   "metadata": {},
   "outputs": [],
   "source": [
    "from fuzzywuzzy import fuzz\n",
    "from fuzzywuzzy import process"
   ]
  },
  {
   "cell_type": "code",
   "execution_count": 224,
   "metadata": {},
   "outputs": [],
   "source": [
    "def match_countries(table, country_col, API_country_list):\n",
    "    ### 1. Get exact matches\n",
    "    table['API_country_name'] = np.nan\n",
    "    for country in table[country_col].values: \n",
    "        for element in API_country_list:\n",
    "            z = fuzz.token_sort_ratio(country,element)\n",
    "            if z > 75:\n",
    "                #print(f'{country} matched API {element}')\n",
    "                table.loc[table[country_col]==country,'API_country_name']= element\n",
    "    \n",
    "\n",
    "    ### 2. Remove already matched countries from list and match partially\n",
    "    unmatched_API_list = list(set (API_country_list)- set(table['API_country_name'].values))\n",
    "    unmatched_table_index = table[table.API_country_name.isnull()].index.tolist()\n",
    "    unmatched_table_list= table.loc[unmatched_table_index,country_col].dropna().values\n",
    "    \n",
    "    if len(unmatched_table_list) > 0 :\n",
    "        for country in unmatched_table_list: \n",
    "            for element in unmatched_API_list:\n",
    "                z = fuzz.partial_ratio(country,element)\n",
    "                if z > 80:\n",
    "                    #print(f'partial match of {country} to API {element}')\n",
    "                    table.loc[table[country_col]==country,'API_country_name']= element\n",
    "\n",
    "\n",
    "    ### 3. Remove again already matched countries from list and match partially with lower score)\n",
    "    unmatched_API_list = list(set(API_country_list)- set(table['API_country_name'].values))\n",
    "    unmatched_table_index = table[table.API_country_name.isnull()].index.tolist()\n",
    "    unmatched_table_list= table.loc[unmatched_table_index,country_col].dropna().values\n",
    "    \n",
    "    if len(unmatched_table_list) > 0 :\n",
    "        for country in unmatched_table_list: \n",
    "            for element in unmatched_API_list:\n",
    "                z = fuzz.ratio(country,element)\n",
    "                if z > 60:\n",
    "                    #print(f'partial match of {country} to API {element}')\n",
    "                    table.loc[table[country_col]==country,'API_country_name']= element\n",
    "    return table"
   ]
  },
  {
   "cell_type": "code",
   "execution_count": 225,
   "metadata": {},
   "outputs": [],
   "source": [
    "### Run function \n",
    "table2 = match_countries(table2, 'country_name', locapi)"
   ]
  },
  {
   "cell_type": "code",
   "execution_count": 226,
   "metadata": {},
   "outputs": [
    {
     "data": {
      "text/plain": [
       "array(['Kuwait', 'British.Indian.Ocean.Territory', 'Maldives',\n",
       "       'Christmas.Island', 'Guam', 'Kiribati', 'Marshall.Islands',\n",
       "       'Nauru', 'Northern.Mariana.Islands', 'American.Samoa', 'Niue',\n",
       "       'Tuvalu', 'Wallis.and.Futuna', 'Bermuda', 'Anguilla', 'Aruba',\n",
       "       'Barbados', 'Curacao', 'Dominica', 'Montserrat',\n",
       "       'Saint.Barthélemy', 'The.Democratic.Republic.of.the.Congo',\n",
       "       'Mauritania', 'Sao.Tome.and.Principe', 'Togo'], dtype=object)"
      ]
     },
     "execution_count": 226,
     "metadata": {},
     "output_type": "execute_result"
    }
   ],
   "source": [
    "### Client locations not matched in the API\n",
    "missing_index = table2[table2.API_country_name.isnull()].index.tolist()\n",
    "unmatched = table2.loc[missing_index,'country_name'].values\n",
    "unmatched"
   ]
  },
  {
   "cell_type": "code",
   "execution_count": 228,
   "metadata": {},
   "outputs": [
    {
     "data": {
      "text/plain": [
       "25"
      ]
     },
     "execution_count": 228,
     "metadata": {},
     "output_type": "execute_result"
    }
   ],
   "source": [
    "len(unmatched)"
   ]
  },
  {
   "cell_type": "code",
   "execution_count": 229,
   "metadata": {},
   "outputs": [
    {
     "data": {
      "text/plain": [
       "['Saint Martin', 'Brunei', 'Protected zone Australia/Papua New Guinea']"
      ]
     },
     "execution_count": 229,
     "metadata": {},
     "output_type": "execute_result"
    }
   ],
   "source": [
    "## Country locations in API not matched in client file\n",
    "list(set(loc.loc[loc['location_type']=='country','name'].values)- set(table2.loc[~table2.API_country_name.isnull(),'API_country_name'].values))"
   ]
  },
  {
   "cell_type": "code",
   "execution_count": 233,
   "metadata": {},
   "outputs": [
    {
     "data": {
      "text/html": [
       "<div>\n",
       "<style scoped>\n",
       "    .dataframe tbody tr th:only-of-type {\n",
       "        vertical-align: middle;\n",
       "    }\n",
       "\n",
       "    .dataframe tbody tr th {\n",
       "        vertical-align: top;\n",
       "    }\n",
       "\n",
       "    .dataframe thead th {\n",
       "        text-align: right;\n",
       "    }\n",
       "</style>\n",
       "<table border=\"1\" class=\"dataframe\">\n",
       "  <thead>\n",
       "    <tr style=\"text-align: right;\">\n",
       "      <th></th>\n",
       "      <th>country_name</th>\n",
       "      <th>species</th>\n",
       "      <th>API_country_name</th>\n",
       "    </tr>\n",
       "  </thead>\n",
       "  <tbody>\n",
       "    <tr>\n",
       "      <th>87</th>\n",
       "      <td>Saint.Martin</td>\n",
       "      <td>[7366131, 7613866, 7617944, 7612125, 7609219, ...</td>\n",
       "      <td>Saint-Martin</td>\n",
       "    </tr>\n",
       "    <tr>\n",
       "      <th>89</th>\n",
       "      <td>Sint.Maarten</td>\n",
       "      <td>[7366131, 7613866, 7617944, 7612125, 7609219, ...</td>\n",
       "      <td>Saint-Martin</td>\n",
       "    </tr>\n",
       "  </tbody>\n",
       "</table>\n",
       "</div>"
      ],
      "text/plain": [
       "    country_name                                            species  \\\n",
       "87  Saint.Martin  [7366131, 7613866, 7617944, 7612125, 7609219, ...   \n",
       "89  Sint.Maarten  [7366131, 7613866, 7617944, 7612125, 7609219, ...   \n",
       "\n",
       "   API_country_name  \n",
       "87     Saint-Martin  \n",
       "89     Saint-Martin  "
      ]
     },
     "execution_count": 233,
     "metadata": {},
     "output_type": "execute_result"
    }
   ],
   "source": [
    "table2.loc[table2.API_country_name == 'Saint-Martin']"
   ]
  },
  {
   "cell_type": "code",
   "execution_count": null,
   "metadata": {},
   "outputs": [],
   "source": [
    "#### Test with another list of countries"
   ]
  },
  {
   "cell_type": "code",
   "execution_count": 237,
   "metadata": {},
   "outputs": [],
   "source": [
    "countries = pd.read_csv('../../datasets/Mangrove_Protection_Calculations_20210430.csv')"
   ]
  },
  {
   "cell_type": "code",
   "execution_count": 239,
   "metadata": {},
   "outputs": [
    {
     "data": {
      "text/plain": [
       "Index(['Country', 'Total Mangrove Composite',\n",
       "       'Total Protected Mangrove Composite', 'Total Mangrove 1996',\n",
       "       'Total Protected Mangrove 1996', 'Total Mangrove 2007',\n",
       "       'Total Protected Mangrove 2007', 'Total Mangrove 2010',\n",
       "       'Total Protected Mangrove 2010', 'Total Mangrove 2016',\n",
       "       'Total Protected Mangrove 2016', 'Net Change in Total Mangrove Extent',\n",
       "       'Net Change in Protected Mangrove Extent', 'Unnamed: 13',\n",
       "       '% in protected areas in 1996', '% in protected areas in 2007',\n",
       "       '% in protected areas in 2010', '% protected in 2016'],\n",
       "      dtype='object')"
      ]
     },
     "execution_count": 239,
     "metadata": {},
     "output_type": "execute_result"
    }
   ],
   "source": [
    "countries.columns"
   ]
  },
  {
   "cell_type": "code",
   "execution_count": 240,
   "metadata": {},
   "outputs": [],
   "source": [
    "countries = match_countries(countries, 'Country', locapi)"
   ]
  },
  {
   "cell_type": "code",
   "execution_count": 241,
   "metadata": {},
   "outputs": [],
   "source": [
    "### Client locations not matched in the API\n",
    "missing_index = countries[countries.API_country_name.isnull()].index.tolist()\n",
    "unmatched = countries.loc[missing_index,'Country'].values"
   ]
  },
  {
   "cell_type": "code",
   "execution_count": 242,
   "metadata": {},
   "outputs": [
    {
     "data": {
      "text/plain": [
       "array(['American Samoa', 'Anguilla', 'Aruba', 'Barbados', 'Curaçao',\n",
       "       'Democratic Republic of the Congo', 'Dominica', 'Hong Kong',\n",
       "       'Sao Tome and Principe', nan], dtype=object)"
      ]
     },
     "execution_count": 242,
     "metadata": {},
     "output_type": "execute_result"
    }
   ],
   "source": [
    "unmatched"
   ]
  },
  {
   "cell_type": "code",
   "execution_count": 243,
   "metadata": {},
   "outputs": [
    {
     "data": {
      "text/plain": [
       "10"
      ]
     },
     "execution_count": 243,
     "metadata": {},
     "output_type": "execute_result"
    }
   ],
   "source": [
    "len(unmatched)"
   ]
  },
  {
   "cell_type": "code",
   "execution_count": 248,
   "metadata": {},
   "outputs": [
    {
     "data": {
      "text/plain": [
       "['Peru',\n",
       " 'Protected zone Australia/Papua New Guinea',\n",
       " 'Saint Martin',\n",
       " 'Singapore',\n",
       " 'Congo, DRC']"
      ]
     },
     "execution_count": 248,
     "metadata": {},
     "output_type": "execute_result"
    }
   ],
   "source": [
    "## Country locations in API not matched in client file\n",
    "list(set(loc.loc[loc['location_type']=='country','name'].values)- set(countries.loc[~countries.API_country_name.isnull(),'API_country_name'].values))"
   ]
  },
  {
   "cell_type": "code",
   "execution_count": 285,
   "metadata": {},
   "outputs": [],
   "source": [
    "table2= table2.merge(loc[['name','location_id']],left_on = 'API_country_name',right_on='name',how='left').drop(columns= ['name'])"
   ]
  },
  {
   "cell_type": "markdown",
   "metadata": {},
   "source": [
    "### Model to validate Species locations"
   ]
  },
  {
   "cell_type": "code",
   "execution_count": 286,
   "metadata": {},
   "outputs": [],
   "source": [
    "class Species_locations(pa.SchemaModel):\n",
    "    country_name: Series[str] = pa.Field(str_matches= \"[A-Za-z\\.]*\",unique=False,nullable=True)\n",
    "    species: Series[str] = pa.Field(allow_duplicates=True,nullable=True)\n",
    "    API_country_name: Series[str] = pa.Field(str_matches= \"[A-Za-z]*\", nullable=True,unique=True, ignore_na =True)\n",
    "    location_id: Series[str]= pa.Field(str_matches= \"[0-9\\_]*\", nullable=True,unique=True, ignore_na =True)\n",
    "### can´t set unique True, it consoders NaN as duplicate\n",
    "### Known issue: https://issueexplorer.com/issue/pandera-dev/pandera/644"
   ]
  },
  {
   "cell_type": "code",
   "execution_count": 287,
   "metadata": {},
   "outputs": [
    {
     "name": "stdout",
     "output_type": "stream",
     "text": [
      "<class 'pandas.core.frame.DataFrame'>\n",
      "Int64Index: 126 entries, 0 to 125\n",
      "Data columns (total 4 columns):\n",
      " #   Column            Non-Null Count  Dtype \n",
      "---  ------            --------------  ----- \n",
      " 0   country_name      126 non-null    object\n",
      " 1   species           126 non-null    object\n",
      " 2   API_country_name  101 non-null    object\n",
      " 3   location_id       101 non-null    object\n",
      "dtypes: object(4)\n",
      "memory usage: 4.9+ KB\n"
     ]
    }
   ],
   "source": [
    "table2.info()"
   ]
  },
  {
   "cell_type": "code",
   "execution_count": 288,
   "metadata": {},
   "outputs": [
    {
     "ename": "SchemaError",
     "evalue": "series 'API_country_name' contains duplicate values:\n23              NaN\n25              NaN\n41              NaN\n45              NaN\n46              NaN\n47              NaN\n48              NaN\n49              NaN\n53              NaN\n54              NaN\n57              NaN\n58              NaN\n63              NaN\n73              NaN\n75              NaN\n76              NaN\n78              NaN\n79              NaN\n83              NaN\n84              NaN\n89     Saint-Martin\n111             NaN\n120             NaN\n122             NaN\n125             NaN\nName: API_country_name, dtype: object",
     "output_type": "error",
     "traceback": [
      "\u001b[0;31m---------------------------------------------------------------------------\u001b[0m",
      "\u001b[0;31mSchemaError\u001b[0m                               Traceback (most recent call last)",
      "\u001b[0;32m/tmp/ipykernel_67/709795194.py\u001b[0m in \u001b[0;36m<module>\u001b[0;34m\u001b[0m\n\u001b[0;32m----> 1\u001b[0;31m \u001b[0mvalidated\u001b[0m \u001b[0;34m=\u001b[0m \u001b[0mSpecies_locations\u001b[0m\u001b[0;34m.\u001b[0m\u001b[0mvalidate\u001b[0m\u001b[0;34m(\u001b[0m\u001b[0mtable2\u001b[0m\u001b[0;34m)\u001b[0m\u001b[0;34m\u001b[0m\u001b[0;34m\u001b[0m\u001b[0m\n\u001b[0m",
      "\u001b[0;32m/opt/conda/lib/python3.8/site-packages/pandera/model.py\u001b[0m in \u001b[0;36mvalidate\u001b[0;34m(cls, check_obj, head, tail, sample, random_state, lazy, inplace)\u001b[0m\n\u001b[1;32m    259\u001b[0m         return cast(\n\u001b[1;32m    260\u001b[0m             \u001b[0mDataFrameBase\u001b[0m\u001b[0;34m[\u001b[0m\u001b[0mTSchemaModel\u001b[0m\u001b[0;34m]\u001b[0m\u001b[0;34m,\u001b[0m\u001b[0;34m\u001b[0m\u001b[0;34m\u001b[0m\u001b[0m\n\u001b[0;32m--> 261\u001b[0;31m             cls.to_schema().validate(\n\u001b[0m\u001b[1;32m    262\u001b[0m                 \u001b[0mcheck_obj\u001b[0m\u001b[0;34m,\u001b[0m \u001b[0mhead\u001b[0m\u001b[0;34m,\u001b[0m \u001b[0mtail\u001b[0m\u001b[0;34m,\u001b[0m \u001b[0msample\u001b[0m\u001b[0;34m,\u001b[0m \u001b[0mrandom_state\u001b[0m\u001b[0;34m,\u001b[0m \u001b[0mlazy\u001b[0m\u001b[0;34m,\u001b[0m \u001b[0minplace\u001b[0m\u001b[0;34m\u001b[0m\u001b[0;34m\u001b[0m\u001b[0m\n\u001b[1;32m    263\u001b[0m             ),\n",
      "\u001b[0;32m/opt/conda/lib/python3.8/site-packages/pandera/schemas.py\u001b[0m in \u001b[0;36mvalidate\u001b[0;34m(self, check_obj, head, tail, sample, random_state, lazy, inplace)\u001b[0m\n\u001b[1;32m    501\u001b[0m             \u001b[0;32mreturn\u001b[0m \u001b[0mcheck_obj\u001b[0m\u001b[0;34m.\u001b[0m\u001b[0mpandera\u001b[0m\u001b[0;34m.\u001b[0m\u001b[0madd_schema\u001b[0m\u001b[0;34m(\u001b[0m\u001b[0mself\u001b[0m\u001b[0;34m)\u001b[0m\u001b[0;34m\u001b[0m\u001b[0;34m\u001b[0m\u001b[0m\n\u001b[1;32m    502\u001b[0m \u001b[0;34m\u001b[0m\u001b[0m\n\u001b[0;32m--> 503\u001b[0;31m         return self._validate(\n\u001b[0m\u001b[1;32m    504\u001b[0m             \u001b[0mcheck_obj\u001b[0m\u001b[0;34m=\u001b[0m\u001b[0mcheck_obj\u001b[0m\u001b[0;34m,\u001b[0m\u001b[0;34m\u001b[0m\u001b[0;34m\u001b[0m\u001b[0m\n\u001b[1;32m    505\u001b[0m             \u001b[0mhead\u001b[0m\u001b[0;34m=\u001b[0m\u001b[0mhead\u001b[0m\u001b[0;34m,\u001b[0m\u001b[0;34m\u001b[0m\u001b[0;34m\u001b[0m\u001b[0m\n",
      "\u001b[0;32m/opt/conda/lib/python3.8/site-packages/pandera/schemas.py\u001b[0m in \u001b[0;36m_validate\u001b[0;34m(self, check_obj, head, tail, sample, random_state, lazy, inplace)\u001b[0m\n\u001b[1;32m    675\u001b[0m                 \u001b[0mcheck_results\u001b[0m\u001b[0;34m.\u001b[0m\u001b[0mappend\u001b[0m\u001b[0;34m(\u001b[0m\u001b[0mcheck_utils\u001b[0m\u001b[0;34m.\u001b[0m\u001b[0mis_table\u001b[0m\u001b[0;34m(\u001b[0m\u001b[0mresult\u001b[0m\u001b[0;34m)\u001b[0m\u001b[0;34m)\u001b[0m\u001b[0;34m\u001b[0m\u001b[0;34m\u001b[0m\u001b[0m\n\u001b[1;32m    676\u001b[0m             \u001b[0;32mexcept\u001b[0m \u001b[0merrors\u001b[0m\u001b[0;34m.\u001b[0m\u001b[0mSchemaError\u001b[0m \u001b[0;32mas\u001b[0m \u001b[0merr\u001b[0m\u001b[0;34m:\u001b[0m\u001b[0;34m\u001b[0m\u001b[0;34m\u001b[0m\u001b[0m\n\u001b[0;32m--> 677\u001b[0;31m                 \u001b[0merror_handler\u001b[0m\u001b[0;34m.\u001b[0m\u001b[0mcollect_error\u001b[0m\u001b[0;34m(\u001b[0m\u001b[0;34m\"schema_component_check\"\u001b[0m\u001b[0;34m,\u001b[0m \u001b[0merr\u001b[0m\u001b[0;34m)\u001b[0m\u001b[0;34m\u001b[0m\u001b[0;34m\u001b[0m\u001b[0m\n\u001b[0m\u001b[1;32m    678\u001b[0m             \u001b[0;32mexcept\u001b[0m \u001b[0merrors\u001b[0m\u001b[0;34m.\u001b[0m\u001b[0mSchemaErrors\u001b[0m \u001b[0;32mas\u001b[0m \u001b[0merr\u001b[0m\u001b[0;34m:\u001b[0m\u001b[0;34m\u001b[0m\u001b[0;34m\u001b[0m\u001b[0m\n\u001b[1;32m    679\u001b[0m                 \u001b[0;32mfor\u001b[0m \u001b[0mschema_error_dict\u001b[0m \u001b[0;32min\u001b[0m \u001b[0merr\u001b[0m\u001b[0;34m.\u001b[0m\u001b[0mschema_errors\u001b[0m\u001b[0;34m:\u001b[0m\u001b[0;34m\u001b[0m\u001b[0;34m\u001b[0m\u001b[0m\n",
      "\u001b[0;32m/opt/conda/lib/python3.8/site-packages/pandera/error_handlers.py\u001b[0m in \u001b[0;36mcollect_error\u001b[0;34m(self, reason_code, schema_error, original_exc)\u001b[0m\n\u001b[1;32m     30\u001b[0m         \"\"\"\n\u001b[1;32m     31\u001b[0m         \u001b[0;32mif\u001b[0m \u001b[0;32mnot\u001b[0m \u001b[0mself\u001b[0m\u001b[0;34m.\u001b[0m\u001b[0m_lazy\u001b[0m\u001b[0;34m:\u001b[0m\u001b[0;34m\u001b[0m\u001b[0;34m\u001b[0m\u001b[0m\n\u001b[0;32m---> 32\u001b[0;31m             \u001b[0;32mraise\u001b[0m \u001b[0mschema_error\u001b[0m \u001b[0;32mfrom\u001b[0m \u001b[0moriginal_exc\u001b[0m\u001b[0;34m\u001b[0m\u001b[0;34m\u001b[0m\u001b[0m\n\u001b[0m\u001b[1;32m     33\u001b[0m \u001b[0;34m\u001b[0m\u001b[0m\n\u001b[1;32m     34\u001b[0m         \u001b[0;31m# delete data of validated object from SchemaError object to prevent\u001b[0m\u001b[0;34m\u001b[0m\u001b[0;34m\u001b[0m\u001b[0;34m\u001b[0m\u001b[0m\n",
      "\u001b[0;32m/opt/conda/lib/python3.8/site-packages/pandera/schemas.py\u001b[0m in \u001b[0;36m_validate\u001b[0;34m(self, check_obj, head, tail, sample, random_state, lazy, inplace)\u001b[0m\n\u001b[1;32m    667\u001b[0m         \u001b[0;32mfor\u001b[0m \u001b[0mschema_component\u001b[0m \u001b[0;32min\u001b[0m \u001b[0mschema_components\u001b[0m\u001b[0;34m:\u001b[0m\u001b[0;34m\u001b[0m\u001b[0;34m\u001b[0m\u001b[0m\n\u001b[1;32m    668\u001b[0m             \u001b[0;32mtry\u001b[0m\u001b[0;34m:\u001b[0m\u001b[0;34m\u001b[0m\u001b[0;34m\u001b[0m\u001b[0m\n\u001b[0;32m--> 669\u001b[0;31m                 result = schema_component(\n\u001b[0m\u001b[1;32m    670\u001b[0m                     \u001b[0mdf_to_validate\u001b[0m\u001b[0;34m,\u001b[0m\u001b[0;34m\u001b[0m\u001b[0;34m\u001b[0m\u001b[0m\n\u001b[1;32m    671\u001b[0m                     \u001b[0mlazy\u001b[0m\u001b[0;34m=\u001b[0m\u001b[0mlazy\u001b[0m\u001b[0;34m,\u001b[0m\u001b[0;34m\u001b[0m\u001b[0;34m\u001b[0m\u001b[0m\n",
      "\u001b[0;32m/opt/conda/lib/python3.8/site-packages/pandera/schemas.py\u001b[0m in \u001b[0;36m__call__\u001b[0;34m(self, check_obj, head, tail, sample, random_state, lazy, inplace)\u001b[0m\n\u001b[1;32m   2002\u001b[0m     ) -> Union[pd.DataFrame, pd.Series]:\n\u001b[1;32m   2003\u001b[0m         \u001b[0;34m\"\"\"Alias for ``validate`` method.\"\"\"\u001b[0m\u001b[0;34m\u001b[0m\u001b[0;34m\u001b[0m\u001b[0m\n\u001b[0;32m-> 2004\u001b[0;31m         return self.validate(\n\u001b[0m\u001b[1;32m   2005\u001b[0m             \u001b[0mcheck_obj\u001b[0m\u001b[0;34m,\u001b[0m \u001b[0mhead\u001b[0m\u001b[0;34m,\u001b[0m \u001b[0mtail\u001b[0m\u001b[0;34m,\u001b[0m \u001b[0msample\u001b[0m\u001b[0;34m,\u001b[0m \u001b[0mrandom_state\u001b[0m\u001b[0;34m,\u001b[0m \u001b[0mlazy\u001b[0m\u001b[0;34m,\u001b[0m \u001b[0minplace\u001b[0m\u001b[0;34m\u001b[0m\u001b[0;34m\u001b[0m\u001b[0m\n\u001b[1;32m   2006\u001b[0m         )\n",
      "\u001b[0;32m/opt/conda/lib/python3.8/site-packages/pandera/schema_components.py\u001b[0m in \u001b[0;36mvalidate\u001b[0;34m(self, check_obj, head, tail, sample, random_state, lazy, inplace)\u001b[0m\n\u001b[1;32m    221\u001b[0m                     )\n\u001b[1;32m    222\u001b[0m             \u001b[0;32melse\u001b[0m\u001b[0;34m:\u001b[0m\u001b[0;34m\u001b[0m\u001b[0;34m\u001b[0m\u001b[0m\n\u001b[0;32m--> 223\u001b[0;31m                 \u001b[0mvalidate_column\u001b[0m\u001b[0;34m(\u001b[0m\u001b[0mcheck_obj\u001b[0m\u001b[0;34m,\u001b[0m \u001b[0mcolumn_name\u001b[0m\u001b[0;34m)\u001b[0m\u001b[0;34m\u001b[0m\u001b[0;34m\u001b[0m\u001b[0m\n\u001b[0m\u001b[1;32m    224\u001b[0m \u001b[0;34m\u001b[0m\u001b[0m\n\u001b[1;32m    225\u001b[0m         \u001b[0;32mreturn\u001b[0m \u001b[0mcheck_obj\u001b[0m\u001b[0;34m\u001b[0m\u001b[0;34m\u001b[0m\u001b[0m\n",
      "\u001b[0;32m/opt/conda/lib/python3.8/site-packages/pandera/schema_components.py\u001b[0m in \u001b[0;36mvalidate_column\u001b[0;34m(check_obj, column_name)\u001b[0m\n\u001b[1;32m    194\u001b[0m \u001b[0;34m\u001b[0m\u001b[0m\n\u001b[1;32m    195\u001b[0m         \u001b[0;32mdef\u001b[0m \u001b[0mvalidate_column\u001b[0m\u001b[0;34m(\u001b[0m\u001b[0mcheck_obj\u001b[0m\u001b[0;34m,\u001b[0m \u001b[0mcolumn_name\u001b[0m\u001b[0;34m)\u001b[0m\u001b[0;34m:\u001b[0m\u001b[0;34m\u001b[0m\u001b[0;34m\u001b[0m\u001b[0m\n\u001b[0;32m--> 196\u001b[0;31m             super(Column, copy(self).set_name(column_name)).validate(\n\u001b[0m\u001b[1;32m    197\u001b[0m                 \u001b[0mcheck_obj\u001b[0m\u001b[0;34m,\u001b[0m\u001b[0;34m\u001b[0m\u001b[0;34m\u001b[0m\u001b[0m\n\u001b[1;32m    198\u001b[0m                 \u001b[0mhead\u001b[0m\u001b[0;34m,\u001b[0m\u001b[0;34m\u001b[0m\u001b[0;34m\u001b[0m\u001b[0m\n",
      "\u001b[0;32m/opt/conda/lib/python3.8/site-packages/pandera/schemas.py\u001b[0m in \u001b[0;36mvalidate\u001b[0;34m(self, check_obj, head, tail, sample, random_state, lazy, inplace)\u001b[0m\n\u001b[1;32m   1917\u001b[0m                     \u001b[0;34mf\"{failed}\"\u001b[0m\u001b[0;34m\u001b[0m\u001b[0;34m\u001b[0m\u001b[0m\n\u001b[1;32m   1918\u001b[0m                 )\n\u001b[0;32m-> 1919\u001b[0;31m                 error_handler.collect_error(\n\u001b[0m\u001b[1;32m   1920\u001b[0m                     \u001b[0;34m\"series_contains_duplicates\"\u001b[0m\u001b[0;34m,\u001b[0m\u001b[0;34m\u001b[0m\u001b[0;34m\u001b[0m\u001b[0m\n\u001b[1;32m   1921\u001b[0m                     errors.SchemaError(\n",
      "\u001b[0;32m/opt/conda/lib/python3.8/site-packages/pandera/error_handlers.py\u001b[0m in \u001b[0;36mcollect_error\u001b[0;34m(self, reason_code, schema_error, original_exc)\u001b[0m\n\u001b[1;32m     30\u001b[0m         \"\"\"\n\u001b[1;32m     31\u001b[0m         \u001b[0;32mif\u001b[0m \u001b[0;32mnot\u001b[0m \u001b[0mself\u001b[0m\u001b[0;34m.\u001b[0m\u001b[0m_lazy\u001b[0m\u001b[0;34m:\u001b[0m\u001b[0;34m\u001b[0m\u001b[0;34m\u001b[0m\u001b[0m\n\u001b[0;32m---> 32\u001b[0;31m             \u001b[0;32mraise\u001b[0m \u001b[0mschema_error\u001b[0m \u001b[0;32mfrom\u001b[0m \u001b[0moriginal_exc\u001b[0m\u001b[0;34m\u001b[0m\u001b[0;34m\u001b[0m\u001b[0m\n\u001b[0m\u001b[1;32m     33\u001b[0m \u001b[0;34m\u001b[0m\u001b[0m\n\u001b[1;32m     34\u001b[0m         \u001b[0;31m# delete data of validated object from SchemaError object to prevent\u001b[0m\u001b[0;34m\u001b[0m\u001b[0;34m\u001b[0m\u001b[0;34m\u001b[0m\u001b[0m\n",
      "\u001b[0;31mSchemaError\u001b[0m: series 'API_country_name' contains duplicate values:\n23              NaN\n25              NaN\n41              NaN\n45              NaN\n46              NaN\n47              NaN\n48              NaN\n49              NaN\n53              NaN\n54              NaN\n57              NaN\n58              NaN\n63              NaN\n73              NaN\n75              NaN\n76              NaN\n78              NaN\n79              NaN\n83              NaN\n84              NaN\n89     Saint-Martin\n111             NaN\n120             NaN\n122             NaN\n125             NaN\nName: API_country_name, dtype: object"
     ]
    }
   ],
   "source": [
    "validated = Species_locations.validate(table2)"
   ]
  },
  {
   "cell_type": "code",
   "execution_count": null,
   "metadata": {},
   "outputs": [],
   "source": []
  }
 ],
 "metadata": {
  "kernelspec": {
   "display_name": "Python 3 (ipykernel)",
   "language": "python",
   "name": "python3"
  },
  "language_info": {
   "codemirror_mode": {
    "name": "ipython",
    "version": 3
   },
   "file_extension": ".py",
   "mimetype": "text/x-python",
   "name": "python",
   "nbconvert_exporter": "python",
   "pygments_lexer": "ipython3",
   "version": "3.9.7"
  }
 },
 "nbformat": 4,
 "nbformat_minor": 4
}
