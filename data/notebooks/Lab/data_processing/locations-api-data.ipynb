{
 "cells": [
  {
   "cell_type": "markdown",
   "id": "828dcd61",
   "metadata": {},
   "source": [
    "Create locations table for Mangrove Atlas\n",
    "\n",
    "@author Alicia A. Arenzana (Vizzuality) adapted from  [GEE script]()  \n",
    "\n",
    "Prepares featureCollection of geometries, and adds properties (length_coastline, area, perimeter)  \n",
    "**Notes:**\n",
    "- Only selected properties are selected for export!\n",
    "- Only export as geosjon\n",
    "- geometries with holes cause issues; polygon list > 1"
   ]
  },
  {
   "cell_type": "markdown",
   "id": "d15f53b4",
   "metadata": {},
   "source": [
    "The download and initial data preparation for each location.\n",
    "\n",
    "* [WDPA management](./locations-WDPA-management.ipynb) pipe provides a programmatic way of downloading and processing the data.\n",
    "* [EEZ and GADM](./locations-EEZ-GADM-management.ipynb) pipe provides a programmatic way of downloading joining and merging the data.  \n",
    "\n",
    "* [Coastline]() This is required for coastline length calculations and for the grid for download calculation.\n",
    "\n",
    "All the data once ready is uploaded to google cloud storage. We are going to pull the data from there. in order to work in the next step that is creating the new locations table."
   ]
  },
  {
   "cell_type": "code",
   "execution_count": 1,
   "id": "12923c33",
   "metadata": {},
   "outputs": [
    {
     "data": {
      "text/plain": [
       "True"
      ]
     },
     "execution_count": 1,
     "metadata": {},
     "output_type": "execute_result"
    }
   ],
   "source": [
    "import uuid\n",
    "import os\n",
    "import logging\n",
    "from typing import Union, List\n",
    "from pathlib import Path\n",
    "import requests\n",
    "\n",
    "\n",
    "import json\n",
    "from shapely.geometry import Polygon, box, mapping\n",
    "import geopandas as gpd\n",
    "import pandas as pd\n",
    "import multiprocessing as mp\n",
    "from dataclasses import dataclass, field\n",
    "from dotenv import load_dotenv\n",
    "\n",
    "%run './utils.ipynb'\n",
    "load_dotenv()\n"
   ]
  },
  {
   "cell_type": "code",
   "execution_count": null,
   "id": "e4d7df25",
   "metadata": {},
   "outputs": [],
   "source": [
    "# WARNING: Don't forget to auth to google cloud platform\n",
    "# gcloud auth application-default login --no-launch-browser --project=mangrove-atlas-246414"
   ]
  },
  {
   "cell_type": "code",
   "execution_count": 2,
   "id": "1e348b51",
   "metadata": {},
   "outputs": [],
   "source": [
    "class AreaTypes():\n",
    "    \"\"\"\n",
    "    Enum for area types\n",
    "    \"\"\"\n",
    "    wdpa = 'wdpa'\n",
    "    eez = 'eez'\n",
    "    aoi = 'aoi'\n",
    "    country = 'country'\n",
    "    coastline = 'coastline'\n",
    "\n",
    "@dataclass\n",
    "class LocationFile():\n",
    "    \"\"\"\n",
    "    Class for location file\n",
    "    \"\"\"\n",
    "    type: AreaTypes\n",
    "    name: str\n",
    "    path: Path\n",
    "    dataframe: gpd.GeoDataFrame = field(init = False)\n",
    "    include_columns: Union[list, None] = field(default = None)\n",
    "    rename_columns: Union[dict, None] = field(default = None)\n",
    "\n",
    "\n",
    "    def __post_init__(self):\n",
    "        self.dataframe = gpd.read_file(self.path)"
   ]
  },
  {
   "cell_type": "code",
   "execution_count": 3,
   "id": "fc321c00",
   "metadata": {},
   "outputs": [],
   "source": [
    "def prepareLocationFile(file: LocationFile) -> LocationFile:\n",
    "    '''\n",
    "    Prepare the dataframe for the location file.\n",
    "    '''\n",
    "    if file.include_columns:\n",
    "        drop_list = list(set(file.dataframe.columns.values) - set(file.include_columns))\n",
    "        if len(drop_list) > 0:\n",
    "            file.dataframe.drop(drop_list, axis = 1, inplace = True)\n",
    "    if file.rename_columns:\n",
    "        file.dataframe.rename(columns = file.rename_columns, inplace = True)\n",
    "\n",
    "    file.dataframe.rename(columns = str.lower, inplace = True)\n",
    "    \n",
    "    return file\n"
   ]
  },
  {
   "cell_type": "code",
   "execution_count": 5,
   "id": "5edb7733",
   "metadata": {},
   "outputs": [],
   "source": [
    "#TODO: type and docstrings\n",
    "\n",
    "def uniqueIdWdpa(row):\n",
    "    try:\n",
    "        return str(uuid.uuid5(uuid.NAMESPACE_OID, str(int(row.wdpaid))))\n",
    "    except:\n",
    "        logging.error('WDPA')\n",
    "        logging.error(row.name)\n",
    "        return None\n",
    "\n",
    "def uniqueIdAoi(row):\n",
    "    try:\n",
    "        return str(uuid.uuid5(uuid.NAMESPACE_OID, row['name']))\n",
    "    except:\n",
    "        logging.error('AOI')\n",
    "        logging.error(row.name)\n",
    "        return None\n",
    "\n",
    "def uniqueIdCountry(row):\n",
    "    try:\n",
    "        return str(uuid.uuid5(uuid.NAMESPACE_OID, row.iso))\n",
    "    except:\n",
    "        logging.error('Country')\n",
    "        logging.error(row.iso)\n",
    "        return None\n",
    "\n",
    "def calculateUniqueIdRow(row):\n",
    "    uniqueCalc_fun = {\n",
    "        AreaTypes.wdpa: uniqueIdWdpa,\n",
    "        AreaTypes.aoi: uniqueIdAoi,\n",
    "        AreaTypes.country: uniqueIdCountry\n",
    "    }\n",
    "    return uniqueCalc_fun[row['type']](row)\n",
    "\n",
    "def calculateUniqueId(df):\n",
    "    return df.apply(calculateUniqueIdRow, axis = 1)"
   ]
  },
  {
   "cell_type": "code",
   "execution_count": 10,
   "id": "dc914bb6",
   "metadata": {},
   "outputs": [],
   "source": [
    "# FIXME: This will depends from where the notebook kernel is running so be careful\n",
    "WORK_DIR =Path(os.getcwd())\n",
    "BASE_DIR = f'{WORK_DIR.parents[2]}/datasets'\n",
    "\n",
    "# TODO: Add expected data files source as an environment variable.\n",
    "assert BASE_DIR == '/home/jovyan/work/datasets', f'{BASE_DIR} is not the correct directory'\n",
    "\n",
    "IN_FOLDER = Path(f'{BASE_DIR}/raw/locations')\n",
    "OUT_FOLDER = Path(f'{BASE_DIR}/processed/locations')\n",
    "GCS_BUCKET = os.getenv('GCS_BUCKET') or 'mangrove_atlas'\n",
    "GCS_OUT_FOLDER = os.getenv('GCS_OUT_FOLDER') or 'boundaries/processed/location_final'\n",
    "\n",
    "# input files\n",
    "wdpa_path = Path(f'{IN_FOLDER}/wdpa.gpkg')\n",
    "gadm_eez_path = Path(f'{IN_FOLDER}/gadm_eez_filter_by_extent.gpkg')\n",
    "aoi_rufiji_path = Path(f'{IN_FOLDER}/aoi_rufiji.gpkg')\n",
    "aoi_saloum_path = Path(f'{IN_FOLDER}/aoi_saloum.gpkg')\n",
    "coastline_path = Path(f'{BASE_DIR}/processed/coastline.gpkg')\n",
    "\n",
    "# output files\n",
    "out_file_api = Path(f'{OUT_FOLDER}/locations_v3_api.csv')\n",
    "out_file_gee = Path(f'{OUT_FOLDER}/locations_v3_gee.shp')\n",
    "out_file = Path(f'{OUT_FOLDER}/locations_v3_not_merged_with_old.gpkg')\n",
    "\n",
    "# Ensure paths exist\n",
    "IN_FOLDER.mkdir(parents=True, exist_ok=True)\n",
    "OUT_FOLDER.mkdir(parents=True, exist_ok=True)\n"
   ]
  },
  {
   "cell_type": "code",
   "execution_count": 6,
   "id": "e4de7661",
   "metadata": {},
   "outputs": [],
   "source": [
    "# Download the data from the Google Cloud Storage bucket. only if data not in local\n",
    "if not wdpa_path.exists():\n",
    "    download_blob(GCS_BUCKET, 'boundaries/processed/WDPA-July22-PA_DEF-STATUS-MANGROVE-2.gpkg', wdpa_path)\n",
    "if not gadm_eez_path.exists():\n",
    "    download_blob(GCS_BUCKET, 'boundaries/processed/gadm_eez_filter_by_extent.gpkg', gadm_eez_path)\n",
    "if not aoi_rufiji_path.exists():\n",
    "    download_blob(GCS_BUCKET, 'boundaries/processed/aoi_rufiji_TZA.gpkg', aoi_rufiji_path)\n",
    "if not aoi_saloum_path.exists():\n",
    "    download_blob(GCS_BUCKET, 'boundaries/processed/aoi_saloum_SEN.gpkg', aoi_saloum_path)\n",
    "if not coastline_path.exists():\n",
    "    download_blob(GCS_BUCKET, 'boundaries/processed/coastline.gpkg', coastline_path)"
   ]
  },
  {
   "cell_type": "code",
   "execution_count": 23,
   "id": "7e14f0cd",
   "metadata": {},
   "outputs": [
    {
     "data": {
      "text/plain": [
       "rtree.index.Index(bounds=[-180.0, -50.2988598, 180.0, 50.50275], size=70)"
      ]
     },
     "execution_count": 23,
     "metadata": {},
     "output_type": "execute_result"
    }
   ],
   "source": [
    "# Load coastal data to calculate the coast length\n",
    "coast_df = gpd.read_file(coastline_path, bbox=[-180, -50, 180, 50])\n",
    "coast_df.sindex"
   ]
  },
  {
   "cell_type": "code",
   "execution_count": 119,
   "id": "a64275c2",
   "metadata": {},
   "outputs": [],
   "source": [
    "def calculateTotalCoastalLength(geometry):\n",
    "    if geometry:\n",
    "        return round(coast_df.clip(geometry).to_crs('EPSG:3410').geometry.length.sum(), 2)\n",
    "    else:\n",
    "        return None\n",
    "        \n",
    "def convert2geojson(geometry):\n",
    "    if geometry:\n",
    "        return json.dumps(mapping(geometry))\n",
    "    else:\n",
    "        return None\n",
    "\n",
    "def convert2bbox(geometry):\n",
    "    if geometry:\n",
    "        return json.dumps(mapping(geometry.envelope))\n",
    "    else:\n",
    "        return None"
   ]
  },
  {
   "cell_type": "code",
   "execution_count": 95,
   "id": "eb478ccb",
   "metadata": {},
   "outputs": [],
   "source": [
    "# Loading the data\n",
    "in_files = [\n",
    "    LocationFile(AreaTypes.wdpa, 'wdpa', wdpa_path, \n",
    "                ['WDPAID', 'NAME', 'ISO3', 'geometry'], \n",
    "                {'ISO3':'iso'}),\n",
    "    LocationFile(AreaTypes.country, 'eez-gadm', gadm_eez_path, \n",
    "                ['st_area_sh','st_length_', 'globalid', 'gid_0', 'geometry'], \n",
    "                {'gid_0':'iso', 'st_length_':'perimeter_m', 'st_area_sh':'area_m2'}),\n",
    "    LocationFile(AreaTypes.aoi, 'Rufiji Delta', aoi_rufiji_path, \n",
    "                ['WDPAID', 'NAME', 'GIS_M_AREA','ISO3', 'geometry'], \n",
    "                {'NAME':'name', 'ISO3':'iso', 'GIS_M_AREA':'area_m2'}),\n",
    "    LocationFile(AreaTypes.aoi, 'Saloum  Delta', aoi_saloum_path, \n",
    "                ['AREA', 'PERIM', 'geometry'], \n",
    "                {'AREA':'area_m2', 'PERIM':'perimeter_m'}),\n",
    "            ]"
   ]
  },
  {
   "cell_type": "code",
   "execution_count": 93,
   "id": "e2084e08",
   "metadata": {},
   "outputs": [
    {
     "name": "stdout",
     "output_type": "stream",
     "text": [
      "<class 'geopandas.geodataframe.GeoDataFrame'>\n",
      "RangeIndex: 3049 entries, 0 to 3048\n",
      "Data columns (total 5 columns):\n",
      " #   Column    Non-Null Count  Dtype   \n",
      "---  ------    --------------  -----   \n",
      " 0   wdpaid    3049 non-null   float64 \n",
      " 1   name      3049 non-null   object  \n",
      " 2   iso       3049 non-null   object  \n",
      " 3   geometry  3049 non-null   geometry\n",
      " 4   type      3049 non-null   object  \n",
      "dtypes: float64(1), geometry(1), object(3)\n",
      "memory usage: 119.2+ KB\n"
     ]
    }
   ],
   "source": [
    "# Prepare the data removing unwanted columns and renaming columns prior merge.\n",
    "for file in in_files:\n",
    "    prepareLocationFile(file)\n",
    "    file.dataframe['type']  = file.type\n",
    "    file.dataframe.to_crs('EPSG:4326', inplace=True)\n",
    "\n",
    "in_files[0].dataframe.info()"
   ]
  },
  {
   "cell_type": "code",
   "execution_count": 98,
   "id": "725280bc",
   "metadata": {},
   "outputs": [],
   "source": [
    "in_files[0].dataframe\n",
    "\n",
    "duplicated_subset = in_files[0].dataframe[in_files[0].dataframe.duplicated(subset=['WDPAID'],keep=False)]"
   ]
  },
  {
   "cell_type": "code",
   "execution_count": 29,
   "id": "1c91824b",
   "metadata": {},
   "outputs": [],
   "source": [
    "# Add iso and names to the AOIs\n",
    "in_files[2].dataframe.name = in_files[2].name\n",
    "\n",
    "in_files[3].dataframe['name'] = in_files[3].name\n",
    "in_files[3].dataframe['iso'] = 'SEN'"
   ]
  },
  {
   "cell_type": "code",
   "execution_count": 30,
   "id": "70b2a7dc",
   "metadata": {},
   "outputs": [],
   "source": [
    "# We need the original gadm as the eez file shared with us lacks the country names\n",
    "gadm = gpd.read_file(f'{BASE_DIR}/processed/locations/gadm_filter_by_extent.gpkg')\n",
    "test_merge = in_files[1].dataframe.merge(gadm, left_on='iso', right_on='GID_0', how='left', suffixes=('_1', '_2'))"
   ]
  },
  {
   "cell_type": "code",
   "execution_count": 31,
   "id": "470cda1b",
   "metadata": {},
   "outputs": [],
   "source": [
    "in_files[1].dataframe['name'] = test_merge['COUNTRY']"
   ]
  },
  {
   "cell_type": "code",
   "execution_count": 32,
   "id": "3022f770",
   "metadata": {},
   "outputs": [
    {
     "name": "stdout",
     "output_type": "stream",
     "text": [
      "<class 'geopandas.geodataframe.GeoDataFrame'>\n",
      "Int64Index: 3173 entries, 0 to 0\n",
      "Data columns (total 8 columns):\n",
      " #   Column       Non-Null Count  Dtype   \n",
      "---  ------       --------------  -----   \n",
      " 0   wdpaid       3050 non-null   float64 \n",
      " 1   name         3173 non-null   object  \n",
      " 2   iso          3173 non-null   object  \n",
      " 3   geometry     3173 non-null   geometry\n",
      " 4   type         3173 non-null   object  \n",
      " 5   globalid     122 non-null    object  \n",
      " 6   area_m2      124 non-null    float64 \n",
      " 7   perimeter_m  123 non-null    float64 \n",
      "dtypes: float64(3), geometry(1), object(4)\n",
      "memory usage: 223.1+ KB\n"
     ]
    }
   ],
   "source": [
    "# Creates the locations dataframe\n",
    "locations = pd.concat([x.dataframe for x in in_files], axis = 0)\n",
    "locations.info()"
   ]
  },
  {
   "cell_type": "code",
   "execution_count": 33,
   "id": "2a076039",
   "metadata": {},
   "outputs": [
    {
     "data": {
      "text/plain": [
       "rtree.index.Index(bounds=[-179.99998854118687, -58.44946994568893, 179.99998854118684, 74.70884000396096], size=70)"
      ]
     },
     "execution_count": 33,
     "metadata": {},
     "output_type": "execute_result"
    }
   ],
   "source": [
    "locations.sindex"
   ]
  },
  {
   "cell_type": "code",
   "execution_count": 34,
   "id": "e29466fd",
   "metadata": {},
   "outputs": [],
   "source": [
    "locations['location_idn'] = calculateUniqueId(locations)"
   ]
  },
  {
   "cell_type": "code",
   "execution_count": null,
   "id": "43e723ed",
   "metadata": {},
   "outputs": [],
   "source": [
    "locations = locations.dissolve(by='location_idn', aggfunc=\"first\").reset_index()"
   ]
  },
  {
   "cell_type": "code",
   "execution_count": 35,
   "id": "160476be",
   "metadata": {},
   "outputs": [],
   "source": [
    "with mp.Pool(mp.cpu_count() - 1) as pool:\n",
    "    locations['coast_length_m'] = pool.map(calculateTotalCoastalLength, locations['geometry'])"
   ]
  },
  {
   "cell_type": "code",
   "execution_count": 36,
   "id": "36fcad7d",
   "metadata": {},
   "outputs": [
    {
     "name": "stdout",
     "output_type": "stream",
     "text": [
      "<class 'geopandas.geodataframe.GeoDataFrame'>\n",
      "Int64Index: 3173 entries, 0 to 0\n",
      "Data columns (total 10 columns):\n",
      " #   Column          Non-Null Count  Dtype   \n",
      "---  ------          --------------  -----   \n",
      " 0   wdpaid          3050 non-null   float64 \n",
      " 1   name            3173 non-null   object  \n",
      " 2   iso             3173 non-null   object  \n",
      " 3   geometry        3173 non-null   geometry\n",
      " 4   type            3173 non-null   object  \n",
      " 5   globalid        122 non-null    object  \n",
      " 6   area_m2         124 non-null    float64 \n",
      " 7   perimeter_m     123 non-null    float64 \n",
      " 8   location_idn    3173 non-null   object  \n",
      " 9   coast_length_m  3173 non-null   float64 \n",
      "dtypes: float64(4), geometry(1), object(5)\n",
      "memory usage: 272.7+ KB\n"
     ]
    }
   ],
   "source": [
    "locations.info()"
   ]
  },
  {
   "cell_type": "code",
   "execution_count": 120,
   "id": "12e0fe73",
   "metadata": {},
   "outputs": [],
   "source": [
    "locations['geom'] = locations.geometry.apply(convert2geojson)"
   ]
  },
  {
   "cell_type": "code",
   "execution_count": 121,
   "id": "c799f238",
   "metadata": {},
   "outputs": [],
   "source": [
    "locations['extent'] = locations.geometry.apply(convert2bbox)"
   ]
  },
  {
   "cell_type": "code",
   "execution_count": 122,
   "id": "e7401b98",
   "metadata": {},
   "outputs": [],
   "source": [
    "locations['perimeter_m'] = locations.geometry.apply(lambda x: x.length if x else None)"
   ]
  },
  {
   "cell_type": "code",
   "execution_count": 123,
   "id": "c4de660c",
   "metadata": {},
   "outputs": [],
   "source": [
    "locations['area_m2'] = locations.geometry.apply(lambda x: x.area if x else None)"
   ]
  },
  {
   "cell_type": "code",
   "execution_count": 124,
   "id": "2a2662be",
   "metadata": {},
   "outputs": [],
   "source": [
    "locations[['geometry','name', 'iso', 'type', 'area_m2', 'wdpaid', 'globalid',\n",
    "                        'perimeter_m', 'location_idn', 'coast_length_m']].to_file(out_file, driver='GPKG')"
   ]
  },
  {
   "cell_type": "code",
   "execution_count": 125,
   "id": "6e8247f1",
   "metadata": {},
   "outputs": [
    {
     "name": "stderr",
     "output_type": "stream",
     "text": [
      "/tmp/ipykernel_56/4135764242.py:1: UserWarning: Column names longer than 10 characters will be truncated when saved to ESRI Shapefile.\n",
      "  locations[['geometry', 'type', 'location_idn']].rename(\n",
      "WARNING:fiona._env:Normalized/laundered field name: 'location_id' to 'location_i'\n"
     ]
    }
   ],
   "source": [
    "locations[['geometry', 'type', 'location_idn']].rename(\n",
    "    columns={'location_idn':'location_id',\n",
    "            'geom':'geometry'}).to_file(out_file_gee)"
   ]
  },
  {
   "cell_type": "code",
   "execution_count": 127,
   "id": "379b5002",
   "metadata": {},
   "outputs": [],
   "source": [
    "locations[['geom','name', 'iso', 'type', 'location_idn', 'area_m2', \n",
    "                        'perimeter_m', 'coast_length_m', 'extent']].rename(\n",
    "    columns={'location_idn':'location_id',\n",
    "            'extent':'bounds',\n",
    "            'type':'location_type',\n",
    "            'geom':'geometry'}).to_csv(out_file_api, index=False, doublequote = False, escapechar='\\\\', sep=';')"
   ]
  },
  {
   "cell_type": "markdown",
   "id": "f1b547af",
   "metadata": {},
   "source": [
    "### Upload to Google Cloud Storage and to the API"
   ]
  },
  {
   "cell_type": "code",
   "execution_count": 131,
   "id": "5d5e6dc7",
   "metadata": {},
   "outputs": [
    {
     "name": "stderr",
     "output_type": "stream",
     "text": [
      "INFO:root:File /home/jovyan/work/datasets/processed/locations/locations_v3_api.csv uploaded to boundaries/processed/location_final/locations_v3_api.csv.\n"
     ]
    },
    {
     "data": {
      "text/plain": [
       "'boundaries/processed/location_final/locations_v3_api.csv'"
      ]
     },
     "execution_count": 131,
     "metadata": {},
     "output_type": "execute_result"
    }
   ],
   "source": [
    "upload_blob(GCS_BUCKET, out_file_api, f'{GCS_OUT_FOLDER}/{out_file_api.name}')\n"
   ]
  },
  {
   "cell_type": "code",
   "execution_count": 133,
   "id": "3572794f",
   "metadata": {},
   "outputs": [
    {
     "name": "stderr",
     "output_type": "stream",
     "text": [
      "INFO:root:File /home/jovyan/work/datasets/processed/locations/locations_v3_gee.shp uploaded to boundaries/processed/location_final/locations_v3_gee.shp.\n"
     ]
    },
    {
     "data": {
      "text/plain": [
       "'boundaries/processed/location_final/locations_v3_gee.shp'"
      ]
     },
     "execution_count": 133,
     "metadata": {},
     "output_type": "execute_result"
    }
   ],
   "source": [
    "upload_blob(GCS_BUCKET, out_file_gee, f'{GCS_OUT_FOLDER}/{out_file_gee.name}')\n"
   ]
  },
  {
   "cell_type": "code",
   "execution_count": 134,
   "id": "3645406a",
   "metadata": {},
   "outputs": [
    {
     "name": "stderr",
     "output_type": "stream",
     "text": [
      "INFO:root:File /home/jovyan/work/datasets/processed/locations/locations_v3_not_merged_with_old.gpkg uploaded to boundaries/processed/location_final/locations_v3_not_merged_with_old.gpkg.\n"
     ]
    },
    {
     "data": {
      "text/plain": [
       "'boundaries/processed/location_final/locations_v3_not_merged_with_old.gpkg'"
      ]
     },
     "execution_count": 134,
     "metadata": {},
     "output_type": "execute_result"
    }
   ],
   "source": [
    "upload_blob(GCS_BUCKET, out_file, f'{GCS_OUT_FOLDER}/{out_file.name}')"
   ]
  },
  {
   "cell_type": "code",
   "execution_count": 35,
   "id": "d3c986d1",
   "metadata": {},
   "outputs": [],
   "source": [
    "# TODO: there is a problem in the api upload for this file. In the meanwhile we will upload it manually using dbeaver\n",
    "def uploadLocationsApi(filePath: str, environment: str = 'staging', reset: bool = True) -> str:\n",
    "    \"\"\"\n",
    "    upload the data to the api\n",
    "    Args:\n",
    "        filePath (str): path to the file to upload\n",
    "        environment (str): the environment to upload to ['staging', 'production']\n",
    "\n",
    "    Returns:\n",
    "        str: url of the uploaded file\n",
    "    \"\"\"\n",
    "    env = {\n",
    "        'local': 'http://192.168.50.115:3000/api/v1',\n",
    "        'staging': 'https://mangrove-atlas-api-staging.herokuapp.com/api/v1',\n",
    "        'production': 'https://mangrove-atlas-api.herokuapp.com/api/v1'\n",
    "    }\n",
    "    headers = {'Content-Type': 'multipart/form-data'}\n",
    "    params = {}\n",
    "    url = f\"{env[environment]}/locations/import\"\n",
    "    \n",
    "    if reset:\n",
    "        params['reset'] = True\n",
    "    \n",
    "    files = {'file': open(filePath, 'rb')}\n",
    "    r = requests.post(url, headers=headers, params=params, files=files)\n",
    "    \n",
    "    return r.status_code"
   ]
  },
  {
   "cell_type": "code",
   "execution_count": 74,
   "id": "c6970361",
   "metadata": {},
   "outputs": [
    {
     "data": {
      "text/plain": [
       "500"
      ]
     },
     "execution_count": 74,
     "metadata": {},
     "output_type": "execute_result"
    }
   ],
   "source": [
    "uploadLocationsApi(out_file_api, 'local', False)"
   ]
  },
  {
   "cell_type": "markdown",
   "id": "d3c1d708",
   "metadata": {},
   "source": [
    "### This is for testing purposes and to generate a matching file with old locations"
   ]
  },
  {
   "cell_type": "code",
   "execution_count": 56,
   "id": "0a744811",
   "metadata": {},
   "outputs": [
    {
     "data": {
      "text/html": [
       "<div>\n",
       "<style scoped>\n",
       "    .dataframe tbody tr th:only-of-type {\n",
       "        vertical-align: middle;\n",
       "    }\n",
       "\n",
       "    .dataframe tbody tr th {\n",
       "        vertical-align: top;\n",
       "    }\n",
       "\n",
       "    .dataframe thead th {\n",
       "        text-align: right;\n",
       "    }\n",
       "</style>\n",
       "<table border=\"1\" class=\"dataframe\">\n",
       "  <thead>\n",
       "    <tr style=\"text-align: right;\">\n",
       "      <th></th>\n",
       "      <th>id</th>\n",
       "      <th>iso</th>\n",
       "      <th>bounds</th>\n",
       "      <th>location_type</th>\n",
       "      <th>name</th>\n",
       "      <th>area_m2</th>\n",
       "      <th>perimeter_m</th>\n",
       "      <th>coast_length_m</th>\n",
       "      <th>location_id</th>\n",
       "    </tr>\n",
       "  </thead>\n",
       "  <tbody>\n",
       "    <tr>\n",
       "      <th>0</th>\n",
       "      <td>1561</td>\n",
       "      <td>WORLDWIDE</td>\n",
       "      <td>None</td>\n",
       "      <td>worldwide</td>\n",
       "      <td>Worldwide</td>\n",
       "      <td>1.489400e+14</td>\n",
       "      <td>NaN</td>\n",
       "      <td>1.634701e+09</td>\n",
       "      <td>worldwide</td>\n",
       "    </tr>\n",
       "    <tr>\n",
       "      <th>1</th>\n",
       "      <td>1418</td>\n",
       "      <td>ARE</td>\n",
       "      <td>{'coordinates': [[[55.46933090962499, 25.41780...</td>\n",
       "      <td>wdpa</td>\n",
       "      <td>Al Zorah</td>\n",
       "      <td>1.959136e+06</td>\n",
       "      <td>7.080970e+03</td>\n",
       "      <td>5.679490e+03</td>\n",
       "      <td>2_00000000000000000b7a</td>\n",
       "    </tr>\n",
       "    <tr>\n",
       "      <th>2</th>\n",
       "      <td>1520</td>\n",
       "      <td>BRA</td>\n",
       "      <td>{'coordinates': [[[-52.414494393511234, -3.106...</td>\n",
       "      <td>wdpa</td>\n",
       "      <td>Amazon Estuary and its Mangroves</td>\n",
       "      <td>3.821925e+10</td>\n",
       "      <td>1.257113e+07</td>\n",
       "      <td>5.873673e+06</td>\n",
       "      <td>2_000000000000000009c2</td>\n",
       "    </tr>\n",
       "  </tbody>\n",
       "</table>\n",
       "</div>"
      ],
      "text/plain": [
       "     id        iso                                             bounds  \\\n",
       "0  1561  WORLDWIDE                                               None   \n",
       "1  1418        ARE  {'coordinates': [[[55.46933090962499, 25.41780...   \n",
       "2  1520        BRA  {'coordinates': [[[-52.414494393511234, -3.106...   \n",
       "\n",
       "  location_type                              name       area_m2   perimeter_m  \\\n",
       "0     worldwide                         Worldwide  1.489400e+14           NaN   \n",
       "1          wdpa                          Al Zorah  1.959136e+06  7.080970e+03   \n",
       "2          wdpa  Amazon Estuary and its Mangroves  3.821925e+10  1.257113e+07   \n",
       "\n",
       "   coast_length_m             location_id  \n",
       "0    1.634701e+09               worldwide  \n",
       "1    5.679490e+03  2_00000000000000000b7a  \n",
       "2    5.873673e+06  2_000000000000000009c2  "
      ]
     },
     "execution_count": 56,
     "metadata": {},
     "output_type": "execute_result"
    }
   ],
   "source": [
    "# We do some testing related the old locations data from staging.\n",
    "locations = gpd.read_file(f'{OUT_FOLDER}/locations_v3_not_merged_with_old.gpkg')\n",
    "dataLocation_api = requests.get('https://mangrove-atlas-api-staging.herokuapp.com/api/v2/locations').json()['data']\n",
    "locations_old = pd.DataFrame(dataLocation_api)\n",
    "locations_old.head(3)"
   ]
  },
  {
   "cell_type": "code",
   "execution_count": 57,
   "id": "ae89b8f3",
   "metadata": {},
   "outputs": [
    {
     "data": {
      "text/plain": [
       "array(['worldwide', 'wdpa', 'country', 'aoi'], dtype=object)"
      ]
     },
     "execution_count": 57,
     "metadata": {},
     "output_type": "execute_result"
    }
   ],
   "source": [
    "locations_old.location_type.unique()"
   ]
  },
  {
   "cell_type": "code",
   "execution_count": null,
   "id": "069c5bec",
   "metadata": {},
   "outputs": [
    {
     "data": {
      "text/html": [
       "<div>\n",
       "<style scoped>\n",
       "    .dataframe tbody tr th:only-of-type {\n",
       "        vertical-align: middle;\n",
       "    }\n",
       "\n",
       "    .dataframe tbody tr th {\n",
       "        vertical-align: top;\n",
       "    }\n",
       "\n",
       "    .dataframe thead th {\n",
       "        text-align: right;\n",
       "    }\n",
       "</style>\n",
       "<table border=\"1\" class=\"dataframe\">\n",
       "  <thead>\n",
       "    <tr style=\"text-align: right;\">\n",
       "      <th></th>\n",
       "      <th>wdpaid</th>\n",
       "      <th>name_1</th>\n",
       "      <th>iso</th>\n",
       "      <th>geometry</th>\n",
       "      <th>type</th>\n",
       "      <th>globalid</th>\n",
       "      <th>area_m2_1</th>\n",
       "      <th>perimeter_m_1</th>\n",
       "      <th>location_idn</th>\n",
       "      <th>coast_length_m_1</th>\n",
       "      <th>geom</th>\n",
       "      <th>extent</th>\n",
       "      <th>id</th>\n",
       "      <th>bounds</th>\n",
       "      <th>location_type</th>\n",
       "      <th>name_2</th>\n",
       "      <th>area_m2_2</th>\n",
       "      <th>perimeter_m_2</th>\n",
       "      <th>coast_length_m_2</th>\n",
       "      <th>location_id</th>\n",
       "    </tr>\n",
       "  </thead>\n",
       "  <tbody>\n",
       "    <tr>\n",
       "      <th>0</th>\n",
       "      <td>305383.0</td>\n",
       "      <td>Port Albert</td>\n",
       "      <td>NZL</td>\n",
       "      <td>MULTIPOLYGON (((174.43184 -36.27456, 174.43183...</td>\n",
       "      <td>wdpa</td>\n",
       "      <td>NaN</td>\n",
       "      <td>6.284804e-07</td>\n",
       "      <td>0.005729</td>\n",
       "      <td>df6769ce-2dab-565f-9988-3cbc4d1fe27b</td>\n",
       "      <td>31.84</td>\n",
       "      <td>{\"type\": \"MultiPolygon\", \"coordinates\": [[[[17...</td>\n",
       "      <td>{\"type\": \"Polygon\", \"coordinates\": [[[174.4310...</td>\n",
       "      <td>NaN</td>\n",
       "      <td>NaN</td>\n",
       "      <td>NaN</td>\n",
       "      <td>NaN</td>\n",
       "      <td>NaN</td>\n",
       "      <td>NaN</td>\n",
       "      <td>NaN</td>\n",
       "      <td>NaN</td>\n",
       "    </tr>\n",
       "    <tr>\n",
       "      <th>1</th>\n",
       "      <td>304976.0</td>\n",
       "      <td>East Beach</td>\n",
       "      <td>NZL</td>\n",
       "      <td>MULTIPOLYGON (((173.24172 -34.90725, 173.24165...</td>\n",
       "      <td>wdpa</td>\n",
       "      <td>NaN</td>\n",
       "      <td>1.339717e-03</td>\n",
       "      <td>0.837780</td>\n",
       "      <td>fadaf94e-88c6-5f6b-9186-263ac02bc1ab</td>\n",
       "      <td>8165.40</td>\n",
       "      <td>{\"type\": \"MultiPolygon\", \"coordinates\": [[[[17...</td>\n",
       "      <td>{\"type\": \"Polygon\", \"coordinates\": [[[173.1472...</td>\n",
       "      <td>NaN</td>\n",
       "      <td>NaN</td>\n",
       "      <td>NaN</td>\n",
       "      <td>NaN</td>\n",
       "      <td>NaN</td>\n",
       "      <td>NaN</td>\n",
       "      <td>NaN</td>\n",
       "      <td>NaN</td>\n",
       "    </tr>\n",
       "    <tr>\n",
       "      <th>2</th>\n",
       "      <td>304437.0</td>\n",
       "      <td>Ngunguru River</td>\n",
       "      <td>NZL</td>\n",
       "      <td>MULTIPOLYGON (((174.48670 -35.64307, 174.48664...</td>\n",
       "      <td>wdpa</td>\n",
       "      <td>NaN</td>\n",
       "      <td>1.502996e-05</td>\n",
       "      <td>0.032190</td>\n",
       "      <td>db8e486b-f23f-5f32-bb4b-81d5f28ca6e7</td>\n",
       "      <td>718.36</td>\n",
       "      <td>{\"type\": \"MultiPolygon\", \"coordinates\": [[[[17...</td>\n",
       "      <td>{\"type\": \"Polygon\", \"coordinates\": [[[174.4818...</td>\n",
       "      <td>NaN</td>\n",
       "      <td>NaN</td>\n",
       "      <td>NaN</td>\n",
       "      <td>NaN</td>\n",
       "      <td>NaN</td>\n",
       "      <td>NaN</td>\n",
       "      <td>NaN</td>\n",
       "      <td>NaN</td>\n",
       "    </tr>\n",
       "    <tr>\n",
       "      <th>3</th>\n",
       "      <td>304209.0</td>\n",
       "      <td>Kaitoke</td>\n",
       "      <td>NZL</td>\n",
       "      <td>MULTIPOLYGON (((175.71073 -36.87066, 175.71071...</td>\n",
       "      <td>wdpa</td>\n",
       "      <td>NaN</td>\n",
       "      <td>1.245820e-04</td>\n",
       "      <td>0.098260</td>\n",
       "      <td>a8a340fc-a9e1-5af0-9d43-4c8080131ee2</td>\n",
       "      <td>2726.67</td>\n",
       "      <td>{\"type\": \"MultiPolygon\", \"coordinates\": [[[[17...</td>\n",
       "      <td>{\"type\": \"Polygon\", \"coordinates\": [[[175.6970...</td>\n",
       "      <td>NaN</td>\n",
       "      <td>NaN</td>\n",
       "      <td>NaN</td>\n",
       "      <td>NaN</td>\n",
       "      <td>NaN</td>\n",
       "      <td>NaN</td>\n",
       "      <td>NaN</td>\n",
       "      <td>NaN</td>\n",
       "    </tr>\n",
       "    <tr>\n",
       "      <th>4</th>\n",
       "      <td>555564325.0</td>\n",
       "      <td>Nukuhou Saltmarsh</td>\n",
       "      <td>NZL</td>\n",
       "      <td>MULTIPOLYGON (((177.10198 -38.01823, 177.10198...</td>\n",
       "      <td>wdpa</td>\n",
       "      <td>NaN</td>\n",
       "      <td>1.676688e-05</td>\n",
       "      <td>0.018525</td>\n",
       "      <td>9a2a0037-46e1-544a-a88b-eab50c0575fb</td>\n",
       "      <td>738.45</td>\n",
       "      <td>{\"type\": \"MultiPolygon\", \"coordinates\": [[[[17...</td>\n",
       "      <td>{\"type\": \"Polygon\", \"coordinates\": [[[177.0988...</td>\n",
       "      <td>NaN</td>\n",
       "      <td>NaN</td>\n",
       "      <td>NaN</td>\n",
       "      <td>NaN</td>\n",
       "      <td>NaN</td>\n",
       "      <td>NaN</td>\n",
       "      <td>NaN</td>\n",
       "      <td>NaN</td>\n",
       "    </tr>\n",
       "  </tbody>\n",
       "</table>\n",
       "</div>"
      ],
      "text/plain": [
       "        wdpaid             name_1  iso  \\\n",
       "0     305383.0        Port Albert  NZL   \n",
       "1     304976.0         East Beach  NZL   \n",
       "2     304437.0     Ngunguru River  NZL   \n",
       "3     304209.0            Kaitoke  NZL   \n",
       "4  555564325.0  Nukuhou Saltmarsh  NZL   \n",
       "\n",
       "                                            geometry  type globalid  \\\n",
       "0  MULTIPOLYGON (((174.43184 -36.27456, 174.43183...  wdpa      NaN   \n",
       "1  MULTIPOLYGON (((173.24172 -34.90725, 173.24165...  wdpa      NaN   \n",
       "2  MULTIPOLYGON (((174.48670 -35.64307, 174.48664...  wdpa      NaN   \n",
       "3  MULTIPOLYGON (((175.71073 -36.87066, 175.71071...  wdpa      NaN   \n",
       "4  MULTIPOLYGON (((177.10198 -38.01823, 177.10198...  wdpa      NaN   \n",
       "\n",
       "      area_m2_1  perimeter_m_1                          location_idn  \\\n",
       "0  6.284804e-07       0.005729  df6769ce-2dab-565f-9988-3cbc4d1fe27b   \n",
       "1  1.339717e-03       0.837780  fadaf94e-88c6-5f6b-9186-263ac02bc1ab   \n",
       "2  1.502996e-05       0.032190  db8e486b-f23f-5f32-bb4b-81d5f28ca6e7   \n",
       "3  1.245820e-04       0.098260  a8a340fc-a9e1-5af0-9d43-4c8080131ee2   \n",
       "4  1.676688e-05       0.018525  9a2a0037-46e1-544a-a88b-eab50c0575fb   \n",
       "\n",
       "   coast_length_m_1                                               geom  \\\n",
       "0             31.84  {\"type\": \"MultiPolygon\", \"coordinates\": [[[[17...   \n",
       "1           8165.40  {\"type\": \"MultiPolygon\", \"coordinates\": [[[[17...   \n",
       "2            718.36  {\"type\": \"MultiPolygon\", \"coordinates\": [[[[17...   \n",
       "3           2726.67  {\"type\": \"MultiPolygon\", \"coordinates\": [[[[17...   \n",
       "4            738.45  {\"type\": \"MultiPolygon\", \"coordinates\": [[[[17...   \n",
       "\n",
       "                                              extent  id bounds location_type  \\\n",
       "0  {\"type\": \"Polygon\", \"coordinates\": [[[174.4310... NaN    NaN           NaN   \n",
       "1  {\"type\": \"Polygon\", \"coordinates\": [[[173.1472... NaN    NaN           NaN   \n",
       "2  {\"type\": \"Polygon\", \"coordinates\": [[[174.4818... NaN    NaN           NaN   \n",
       "3  {\"type\": \"Polygon\", \"coordinates\": [[[175.6970... NaN    NaN           NaN   \n",
       "4  {\"type\": \"Polygon\", \"coordinates\": [[[177.0988... NaN    NaN           NaN   \n",
       "\n",
       "  name_2  area_m2_2  perimeter_m_2  coast_length_m_2 location_id  \n",
       "0    NaN        NaN            NaN               NaN         NaN  \n",
       "1    NaN        NaN            NaN               NaN         NaN  \n",
       "2    NaN        NaN            NaN               NaN         NaN  \n",
       "3    NaN        NaN            NaN               NaN         NaN  \n",
       "4    NaN        NaN            NaN               NaN         NaN  "
      ]
     },
     "execution_count": 50,
     "metadata": {},
     "output_type": "execute_result"
    }
   ],
   "source": [
    "f0 = locations.query(\"type=='wdpa'\").merge(locations_old.query(\"location_type=='wdpa'\"), on='iso', how='outer', suffixes=('_1', '_2'))\n",
    "f0.head()"
   ]
  },
  {
   "cell_type": "code",
   "execution_count": 58,
   "id": "864ba468",
   "metadata": {},
   "outputs": [
    {
     "data": {
      "text/html": [
       "<div>\n",
       "<style scoped>\n",
       "    .dataframe tbody tr th:only-of-type {\n",
       "        vertical-align: middle;\n",
       "    }\n",
       "\n",
       "    .dataframe tbody tr th {\n",
       "        vertical-align: top;\n",
       "    }\n",
       "\n",
       "    .dataframe thead th {\n",
       "        text-align: right;\n",
       "    }\n",
       "</style>\n",
       "<table border=\"1\" class=\"dataframe\">\n",
       "  <thead>\n",
       "    <tr style=\"text-align: right;\">\n",
       "      <th></th>\n",
       "      <th>name_1</th>\n",
       "      <th>iso</th>\n",
       "      <th>type</th>\n",
       "      <th>area_m2_1</th>\n",
       "      <th>wdpaid</th>\n",
       "      <th>globalid</th>\n",
       "      <th>perimeter_m_1</th>\n",
       "      <th>location_idn</th>\n",
       "      <th>coast_length_m_1</th>\n",
       "      <th>geometry</th>\n",
       "      <th>id</th>\n",
       "      <th>bounds</th>\n",
       "      <th>location_type</th>\n",
       "      <th>name_2</th>\n",
       "      <th>area_m2_2</th>\n",
       "      <th>perimeter_m_2</th>\n",
       "      <th>coast_length_m_2</th>\n",
       "      <th>location_id</th>\n",
       "    </tr>\n",
       "  </thead>\n",
       "  <tbody>\n",
       "    <tr>\n",
       "      <th>0</th>\n",
       "      <td>Angola</td>\n",
       "      <td>AGO</td>\n",
       "      <td>country</td>\n",
       "      <td>144.975437</td>\n",
       "      <td>NaN</td>\n",
       "      <td>{3905F841-6137-4006-B8F3-F22C8C7B2E67}</td>\n",
       "      <td>72.570102</td>\n",
       "      <td>27ceab8c-946e-5286-a06f-8bd98ec81f77</td>\n",
       "      <td>2149983.02</td>\n",
       "      <td>MULTIPOLYGON (((11.76904 -17.25574, 11.76746 -...</td>\n",
       "      <td>1398.0</td>\n",
       "      <td>{'coordinates': [[[8.20187877548665, -18.01639...</td>\n",
       "      <td>country</td>\n",
       "      <td>Angola</td>\n",
       "      <td>1.744005e+12</td>\n",
       "      <td>7.368212e+06</td>\n",
       "      <td>2007891.49</td>\n",
       "      <td>1_2_97</td>\n",
       "    </tr>\n",
       "    <tr>\n",
       "      <th>1</th>\n",
       "      <td>Anguilla</td>\n",
       "      <td>AIA</td>\n",
       "      <td>country</td>\n",
       "      <td>7.791541</td>\n",
       "      <td>NaN</td>\n",
       "      <td>{89E049A8-F91E-4FA4-BF92-9CBDF387D1EF}</td>\n",
       "      <td>11.565745</td>\n",
       "      <td>1ce4c2e5-8456-5db8-8e34-8bfe86083790</td>\n",
       "      <td>119381.08</td>\n",
       "      <td>MULTIPOLYGON (((-61.20013 20.13842, -61.73160 ...</td>\n",
       "      <td>NaN</td>\n",
       "      <td>NaN</td>\n",
       "      <td>NaN</td>\n",
       "      <td>NaN</td>\n",
       "      <td>NaN</td>\n",
       "      <td>NaN</td>\n",
       "      <td>NaN</td>\n",
       "      <td>NaN</td>\n",
       "    </tr>\n",
       "    <tr>\n",
       "      <th>2</th>\n",
       "      <td>United Arab Emirates</td>\n",
       "      <td>ARE</td>\n",
       "      <td>country</td>\n",
       "      <td>11.506119</td>\n",
       "      <td>NaN</td>\n",
       "      <td>{9EC6E349-170A-4AA4-8C2A-D3EACE78CF1D}</td>\n",
       "      <td>18.474424</td>\n",
       "      <td>7ec6ba5a-73a9-5911-8f47-107a5ac4e750</td>\n",
       "      <td>5561160.07</td>\n",
       "      <td>MULTIPOLYGON (((51.50008 24.39830, 51.50014 24...</td>\n",
       "      <td>1369.0</td>\n",
       "      <td>{'coordinates': [[[51.50800821500452, 22.63332...</td>\n",
       "      <td>country</td>\n",
       "      <td>United Arab Emirates</td>\n",
       "      <td>1.257497e+11</td>\n",
       "      <td>1.738960e+06</td>\n",
       "      <td>5456251.99</td>\n",
       "      <td>1_2_68</td>\n",
       "    </tr>\n",
       "    <tr>\n",
       "      <th>3</th>\n",
       "      <td>Bahrain</td>\n",
       "      <td>BHR</td>\n",
       "      <td>country</td>\n",
       "      <td>0.747710</td>\n",
       "      <td>NaN</td>\n",
       "      <td>{162FB878-D279-46F0-AA36-1576B037F6CD}</td>\n",
       "      <td>4.140048</td>\n",
       "      <td>f309afe5-27b5-575a-aa2c-7598a53dffa4</td>\n",
       "      <td>835126.13</td>\n",
       "      <td>MULTIPOLYGON (((50.31070 26.17815, 50.31070 26...</td>\n",
       "      <td>1374.0</td>\n",
       "      <td>{'coordinates': [[[50.26972033926273, 25.53500...</td>\n",
       "      <td>country</td>\n",
       "      <td>Bahrain</td>\n",
       "      <td>8.300804e+09</td>\n",
       "      <td>4.422017e+05</td>\n",
       "      <td>817872.85</td>\n",
       "      <td>1_2_73</td>\n",
       "    </tr>\n",
       "    <tr>\n",
       "      <th>4</th>\n",
       "      <td>Bahamas</td>\n",
       "      <td>BHS</td>\n",
       "      <td>country</td>\n",
       "      <td>56.695346</td>\n",
       "      <td>NaN</td>\n",
       "      <td>{560D8F33-240F-4741-B311-68C4414BD842}</td>\n",
       "      <td>33.498041</td>\n",
       "      <td>a0d0a60d-1c43-5709-9d80-4b7376421c1d</td>\n",
       "      <td>16215044.98</td>\n",
       "      <td>MULTIPOLYGON (((-72.66451 21.67102, -72.66469 ...</td>\n",
       "      <td>1375.0</td>\n",
       "      <td>{'coordinates': [[[-81.2152796896022, 20.36826...</td>\n",
       "      <td>country</td>\n",
       "      <td>The Bahamas</td>\n",
       "      <td>6.097739e+11</td>\n",
       "      <td>3.680410e+06</td>\n",
       "      <td>15952168.07</td>\n",
       "      <td>1_2_74</td>\n",
       "    </tr>\n",
       "  </tbody>\n",
       "</table>\n",
       "</div>"
      ],
      "text/plain": [
       "                 name_1  iso     type   area_m2_1  wdpaid  \\\n",
       "0                Angola  AGO  country  144.975437     NaN   \n",
       "1              Anguilla  AIA  country    7.791541     NaN   \n",
       "2  United Arab Emirates  ARE  country   11.506119     NaN   \n",
       "3               Bahrain  BHR  country    0.747710     NaN   \n",
       "4               Bahamas  BHS  country   56.695346     NaN   \n",
       "\n",
       "                                 globalid  perimeter_m_1  \\\n",
       "0  {3905F841-6137-4006-B8F3-F22C8C7B2E67}      72.570102   \n",
       "1  {89E049A8-F91E-4FA4-BF92-9CBDF387D1EF}      11.565745   \n",
       "2  {9EC6E349-170A-4AA4-8C2A-D3EACE78CF1D}      18.474424   \n",
       "3  {162FB878-D279-46F0-AA36-1576B037F6CD}       4.140048   \n",
       "4  {560D8F33-240F-4741-B311-68C4414BD842}      33.498041   \n",
       "\n",
       "                           location_idn  coast_length_m_1  \\\n",
       "0  27ceab8c-946e-5286-a06f-8bd98ec81f77        2149983.02   \n",
       "1  1ce4c2e5-8456-5db8-8e34-8bfe86083790         119381.08   \n",
       "2  7ec6ba5a-73a9-5911-8f47-107a5ac4e750        5561160.07   \n",
       "3  f309afe5-27b5-575a-aa2c-7598a53dffa4         835126.13   \n",
       "4  a0d0a60d-1c43-5709-9d80-4b7376421c1d       16215044.98   \n",
       "\n",
       "                                            geometry      id  \\\n",
       "0  MULTIPOLYGON (((11.76904 -17.25574, 11.76746 -...  1398.0   \n",
       "1  MULTIPOLYGON (((-61.20013 20.13842, -61.73160 ...     NaN   \n",
       "2  MULTIPOLYGON (((51.50008 24.39830, 51.50014 24...  1369.0   \n",
       "3  MULTIPOLYGON (((50.31070 26.17815, 50.31070 26...  1374.0   \n",
       "4  MULTIPOLYGON (((-72.66451 21.67102, -72.66469 ...  1375.0   \n",
       "\n",
       "                                              bounds location_type  \\\n",
       "0  {'coordinates': [[[8.20187877548665, -18.01639...       country   \n",
       "1                                                NaN           NaN   \n",
       "2  {'coordinates': [[[51.50800821500452, 22.63332...       country   \n",
       "3  {'coordinates': [[[50.26972033926273, 25.53500...       country   \n",
       "4  {'coordinates': [[[-81.2152796896022, 20.36826...       country   \n",
       "\n",
       "                 name_2     area_m2_2  perimeter_m_2  coast_length_m_2  \\\n",
       "0                Angola  1.744005e+12   7.368212e+06        2007891.49   \n",
       "1                   NaN           NaN            NaN               NaN   \n",
       "2  United Arab Emirates  1.257497e+11   1.738960e+06        5456251.99   \n",
       "3               Bahrain  8.300804e+09   4.422017e+05         817872.85   \n",
       "4           The Bahamas  6.097739e+11   3.680410e+06       15952168.07   \n",
       "\n",
       "  location_id  \n",
       "0      1_2_97  \n",
       "1         NaN  \n",
       "2      1_2_68  \n",
       "3      1_2_73  \n",
       "4      1_2_74  "
      ]
     },
     "execution_count": 58,
     "metadata": {},
     "output_type": "execute_result"
    }
   ],
   "source": [
    "f1 = locations.query(\"type=='country'\").merge(locations_old.query(\"location_type=='country'\"), on='iso', how='outer', suffixes=('_1', '_2'))\n",
    "f1.head()"
   ]
  },
  {
   "cell_type": "code",
   "execution_count": 59,
   "id": "5252c44b",
   "metadata": {},
   "outputs": [
    {
     "data": {
      "text/html": [
       "<div>\n",
       "<style scoped>\n",
       "    .dataframe tbody tr th:only-of-type {\n",
       "        vertical-align: middle;\n",
       "    }\n",
       "\n",
       "    .dataframe tbody tr th {\n",
       "        vertical-align: top;\n",
       "    }\n",
       "\n",
       "    .dataframe thead th {\n",
       "        text-align: right;\n",
       "    }\n",
       "</style>\n",
       "<table border=\"1\" class=\"dataframe\">\n",
       "  <thead>\n",
       "    <tr style=\"text-align: right;\">\n",
       "      <th></th>\n",
       "      <th>name_1</th>\n",
       "      <th>iso</th>\n",
       "      <th>type</th>\n",
       "      <th>area_m2_1</th>\n",
       "      <th>wdpaid</th>\n",
       "      <th>globalid</th>\n",
       "      <th>perimeter_m_1</th>\n",
       "      <th>location_idn</th>\n",
       "      <th>coast_length_m_1</th>\n",
       "      <th>geometry</th>\n",
       "      <th>id</th>\n",
       "      <th>bounds</th>\n",
       "      <th>location_type</th>\n",
       "      <th>name_2</th>\n",
       "      <th>area_m2_2</th>\n",
       "      <th>perimeter_m_2</th>\n",
       "      <th>coast_length_m_2</th>\n",
       "      <th>location_id</th>\n",
       "    </tr>\n",
       "  </thead>\n",
       "  <tbody>\n",
       "    <tr>\n",
       "      <th>0</th>\n",
       "      <td>Rufiji Delta</td>\n",
       "      <td>TZA</td>\n",
       "      <td>aoi</td>\n",
       "      <td>0.423167</td>\n",
       "      <td>902412.0</td>\n",
       "      <td>None</td>\n",
       "      <td>4.641186</td>\n",
       "      <td>1e3d61bf-1f8b-5f89-9374-ef84a6b893ad</td>\n",
       "      <td>401229.52</td>\n",
       "      <td>MULTIPOLYGON (((39.74500 -7.64868, 39.78353 -7...</td>\n",
       "      <td>1299</td>\n",
       "      <td>{'coordinates': [[[39.179499025203995, -8.6471...</td>\n",
       "      <td>aoi</td>\n",
       "      <td>Rufiji Delta</td>\n",
       "      <td>5.179986e+09</td>\n",
       "      <td>512663.757526</td>\n",
       "      <td>422949.01</td>\n",
       "      <td>1_1_1_00000000000000000000</td>\n",
       "    </tr>\n",
       "    <tr>\n",
       "      <th>1</th>\n",
       "      <td>Saloum  Delta</td>\n",
       "      <td>SEN</td>\n",
       "      <td>aoi</td>\n",
       "      <td>0.336162</td>\n",
       "      <td>NaN</td>\n",
       "      <td>None</td>\n",
       "      <td>2.352446</td>\n",
       "      <td>9e2d8fc4-9ed4-5aea-8220-a200f1c388a7</td>\n",
       "      <td>440446.25</td>\n",
       "      <td>MULTIPOLYGON (((-16.84289 13.48422, -16.84289 ...</td>\n",
       "      <td>1300</td>\n",
       "      <td>{'coordinates': [[[-16.84288978182007, 13.4842...</td>\n",
       "      <td>aoi</td>\n",
       "      <td>Saloum  Delta</td>\n",
       "      <td>4.035933e+09</td>\n",
       "      <td>257795.175149</td>\n",
       "      <td>418056.64</td>\n",
       "      <td>1_1_2_00000000000000000000</td>\n",
       "    </tr>\n",
       "  </tbody>\n",
       "</table>\n",
       "</div>"
      ],
      "text/plain": [
       "          name_1  iso type  area_m2_1    wdpaid globalid  perimeter_m_1  \\\n",
       "0   Rufiji Delta  TZA  aoi   0.423167  902412.0     None       4.641186   \n",
       "1  Saloum  Delta  SEN  aoi   0.336162       NaN     None       2.352446   \n",
       "\n",
       "                           location_idn  coast_length_m_1  \\\n",
       "0  1e3d61bf-1f8b-5f89-9374-ef84a6b893ad         401229.52   \n",
       "1  9e2d8fc4-9ed4-5aea-8220-a200f1c388a7         440446.25   \n",
       "\n",
       "                                            geometry    id  \\\n",
       "0  MULTIPOLYGON (((39.74500 -7.64868, 39.78353 -7...  1299   \n",
       "1  MULTIPOLYGON (((-16.84289 13.48422, -16.84289 ...  1300   \n",
       "\n",
       "                                              bounds location_type  \\\n",
       "0  {'coordinates': [[[39.179499025203995, -8.6471...           aoi   \n",
       "1  {'coordinates': [[[-16.84288978182007, 13.4842...           aoi   \n",
       "\n",
       "          name_2     area_m2_2  perimeter_m_2  coast_length_m_2  \\\n",
       "0   Rufiji Delta  5.179986e+09  512663.757526         422949.01   \n",
       "1  Saloum  Delta  4.035933e+09  257795.175149         418056.64   \n",
       "\n",
       "                  location_id  \n",
       "0  1_1_1_00000000000000000000  \n",
       "1  1_1_2_00000000000000000000  "
      ]
     },
     "execution_count": 59,
     "metadata": {},
     "output_type": "execute_result"
    }
   ],
   "source": [
    "f3 = locations.query(\"type=='aoi'\").merge(locations_old.query(\"location_type=='aoi'\"), on='iso', how='outer', suffixes=('_1', '_2'))\n",
    "f3.head()\n"
   ]
  },
  {
   "cell_type": "code",
   "execution_count": 61,
   "id": "48ac0683",
   "metadata": {},
   "outputs": [],
   "source": [
    "pd.concat([f1, f0, f3], axis = 0)[['geometry','name_1', 'iso', 'type', 'area_m2_1', 'wdpaid', 'globalid',\n",
    "                        'perimeter_m_1', 'location_idn','location_id', 'coast_length_m_1']\n",
    "                        ].to_file(f'{OUT_FOLDER}/locations_v3_merged_with_old.gpkg', driver='GPKG')"
   ]
  }
 ],
 "metadata": {
  "kernelspec": {
   "display_name": "Python 3 (ipykernel)",
   "language": "python",
   "name": "python3"
  },
  "language_info": {
   "codemirror_mode": {
    "name": "ipython",
    "version": 3
   },
   "file_extension": ".py",
   "mimetype": "text/x-python",
   "name": "python",
   "nbconvert_exporter": "python",
   "pygments_lexer": "ipython3",
   "version": "3.8.6"
  }
 },
 "nbformat": 4,
 "nbformat_minor": 5
}
