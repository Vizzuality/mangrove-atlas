{
 "cells": [
  {
   "cell_type": "markdown",
   "id": "fd2c14bc",
   "metadata": {},
   "source": [
    "This notebook get the staging data and compare it with the production data to test the new v3 vs v2 data.\n",
    "in order to do so i need to get the data from the staging and production database and compare it. \n",
    "steeps needed to do so:\n",
    "- Get the data from the staging and production \n",
    "- Match locations from v2 to v3\n",
    "- Compare the data\n",
    "\n",
    "#### Compare the data\n",
    "\n",
    "\n",
    "\n"
   ]
  },
  {
   "cell_type": "code",
   "execution_count": 2,
   "id": "16bccbab",
   "metadata": {},
   "outputs": [
    {
     "data": {
      "text/plain": [
       "2986006.95650841"
      ]
     },
     "execution_count": 2,
     "metadata": {},
     "output_type": "execute_result"
    }
   ],
   "source": [
    "2986006956508.41 * 0.000001"
   ]
  },
  {
   "cell_type": "code",
   "execution_count": 3,
   "id": "1caf90cb",
   "metadata": {},
   "outputs": [
    {
     "data": {
      "text/plain": [
       "4653998.058318599"
      ]
     },
     "execution_count": 3,
     "metadata": {},
     "output_type": "execute_result"
    }
   ],
   "source": [
    "4653998058318.6 * (1/1000000)"
   ]
  },
  {
   "cell_type": "code",
   "execution_count": 10,
   "id": "baa84449",
   "metadata": {},
   "outputs": [
    {
     "data": {
      "text/plain": [
       "2496.92"
      ]
     },
     "execution_count": 10,
     "metadata": {},
     "output_type": "execute_result"
    }
   ],
   "source": [
    "2.49692 * 1e+6 * (1/1000)"
   ]
  },
  {
   "cell_type": "code",
   "execution_count": 11,
   "id": "2c409ee1",
   "metadata": {},
   "outputs": [
    {
     "data": {
      "text/plain": [
       "2518.2200000000003"
      ]
     },
     "execution_count": 11,
     "metadata": {},
     "output_type": "execute_result"
    }
   ],
   "source": [
    "2.51822  * 1e+6 * (1/1000)"
   ]
  },
  {
   "cell_type": "code",
   "execution_count": 2,
   "id": "6bdfd3c8",
   "metadata": {},
   "outputs": [
    {
     "data": {
      "text/plain": [
       "1931470.0"
      ]
     },
     "execution_count": 2,
     "metadata": {},
     "output_type": "execute_result"
    }
   ],
   "source": [
    "1.93147 * 1e+9 * (1/1000)\n"
   ]
  },
  {
   "cell_type": "code",
   "execution_count": 4,
   "id": "440e84e7",
   "metadata": {},
   "outputs": [
    {
     "data": {
      "text/plain": [
       "8.996752311278943"
      ]
     },
     "execution_count": 4,
     "metadata": {},
     "output_type": "execute_result"
    }
   ],
   "source": [
    "(147070/1634701)*100"
   ]
  },
  {
   "cell_type": "code",
   "execution_count": 6,
   "id": "52c42143",
   "metadata": {},
   "outputs": [
    {
     "data": {
      "text/plain": [
       "287645000.0"
      ]
     },
     "execution_count": 6,
     "metadata": {},
     "output_type": "execute_result"
    }
   ],
   "source": [
    "2.87645e+14 / 1e+6"
   ]
  },
  {
   "cell_type": "code",
   "execution_count": null,
   "id": "3d744913",
   "metadata": {},
   "outputs": [],
   "source": []
  }
 ],
 "metadata": {
  "kernelspec": {
   "display_name": "Python 3 (ipykernel)",
   "language": "python",
   "name": "python3"
  },
  "language_info": {
   "codemirror_mode": {
    "name": "ipython",
    "version": 3
   },
   "file_extension": ".py",
   "mimetype": "text/x-python",
   "name": "python",
   "nbconvert_exporter": "python",
   "pygments_lexer": "ipython3",
   "version": "3.8.6"
  }
 },
 "nbformat": 4,
 "nbformat_minor": 5
}
