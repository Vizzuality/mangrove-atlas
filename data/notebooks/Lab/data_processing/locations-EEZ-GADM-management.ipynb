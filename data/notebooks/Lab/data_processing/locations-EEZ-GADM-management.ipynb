{
 "cells": [
  {
   "cell_type": "code",
   "execution_count": null,
   "id": "4698601a",
   "metadata": {},
   "outputs": [],
   "source": [
    "# TODO: add the GADM-EEZ Full pipe management here for download, join and merge both datasets.\n",
    "import geopandas as gpd\n",
    "import pandas as pd\n",
    "from shapely.geometry import Polygon, box\n",
    "from shapely import speedups\n",
    "from pathlib import Path\n",
    "import os\n",
    "\n",
    "speedups.enable()"
   ]
  },
  {
   "cell_type": "code",
   "execution_count": null,
   "id": "512a7a2a",
   "metadata": {},
   "outputs": [],
   "source": [
    "#  FIXME: This will depends from where the notebook kernel is running so be careful\n",
    "WORK_DIR = Path(os.getcwd())\n",
    "BASE_DIR = f'{WORK_DIR.parents[2]}/datasets'\n",
    "\n",
    "# @TODO: Add expected data files source as an environment variable.\n",
    "assert BASE_DIR == '/home/jovyan/work/datasets', f'{BASE_DIR} is not the correct directory'\n",
    "\n",
    "IN_FOLDER = Path(f'{BASE_DIR}/raw')\n",
    "OUT_FOLDER = Path(f'{BASE_DIR}/processed')\n",
    "\n",
    "extent_mask_path = Path(f'{BASE_DIR}/raw/extent-layer-creation/test_extent_2000_simp_convex.shp')"
   ]
  },
  {
   "cell_type": "code",
   "execution_count": null,
   "id": "b42c5338",
   "metadata": {},
   "outputs": [],
   "source": [
    "def mask_gdf(df, extent_mask_path):\n",
    "    \"\"\"\n",
    "    Get the extent mask from the extent_mask_path\n",
    "    \"\"\"\n",
    "    extent = gpd.read_file(extent_mask_path)\n",
    "    mask = df.to_crs(extent.crs).intersects(extent.unary_union)    \n",
    "    return df.loc[mask].dropna(subset=['geometry']).reset_index(drop=True, inplace=True)"
   ]
  },
  {
   "cell_type": "code",
   "execution_count": null,
   "id": "1baa0e81",
   "metadata": {},
   "outputs": [],
   "source": [
    "def interior_to_polygon(geom: Polygon):\n",
    "  \"\"\"\n",
    "  Takes a Shapely geometry and returns interiors as Shapely geometry.\n",
    "  \"\"\"\n",
    "  types = [geom.geom_type] if type(geom.geom_type) == str else geom.geom_type.tolist()\n",
    "  # check geometry is a polygon \n",
    "  if types and 'Polygon' in types:\n",
    "    # check it contains a ring\n",
    "    ring = geom.is_ring\n",
    "    if ring.any() and geom.interiors.to_list()[0]:\n",
    "      # extract shapely LinearRing(s)\n",
    "      rings_list = [Polygon(g) for g in geom.interiors.to_list()[0]]\n",
    "      out = MultiPolygon(rings_list) if len(rings_list) > 1 else rings_list[0]\n",
    "    else:\n",
    "      print(\"No interior ring\")\n",
    "      out = \"NA\"\n",
    "  else:\n",
    "    print(\"Requires a Polygon\")\n",
    "    out = \"NA\"     \n",
    "  return out\n",
    "\n",
    "def exterior_to_polygon(geom):\n",
    "  \"\"\"\n",
    "  Takes a Shapely geometry and returns exterior ring as Shapely geometry.\n",
    "  \"\"\"\n",
    "  types = geom.geom_type.tolist() or []\n",
    "  # check geometry is a polygon \n",
    "  if types and 'Polygon' in types:\n",
    "    # check it contains a ring\n",
    "    ring = geom.is_ring\n",
    "    if ring.any() and geom.exterior.tolist()[0]:\n",
    "      # extract shapely LinearRing\n",
    "      out = Polygon(geom.exterior.tolist()[0])\n",
    "    else:\n",
    "      print(\"No exterior ring\")\n",
    "      out = \"NA\"\n",
    "  else:\n",
    "    print(\"Requires a Polygon\")\n",
    "    out = \"NA\"     \n",
    "  return out"
   ]
  },
  {
   "cell_type": "code",
   "execution_count": null,
   "id": "0995e88a",
   "metadata": {},
   "outputs": [],
   "source": [
    "def execute_command(command):\n",
    "  \"\"\"\n",
    "  Executes a command in the shell and returns the output.\n",
    "  \"\"\"\n",
    "  try:\n",
    "    out = subprocess.check_output(command, shell=True)\n",
    "  except subprocess.CalledProcessError as e:\n",
    "    out = e.output\n",
    "  return out"
   ]
  },
  {
   "cell_type": "code",
   "execution_count": null,
   "id": "6c9b0344",
   "metadata": {},
   "outputs": [],
   "source": [
    "# Filter gadm by extent\n",
    "\n",
    "gadm = gpd.read_file(f'{BASE_DIR}/raw/gadm-eez/gadm_410-levels.gpkg', layer='ADM_0')\n",
    "filtered_gadm = mask_gdf(gadm_eez, extent_mask_path)\n",
    "filtered_gadm['area_m2'] = filtered_gadm.to_crs('epsg:3410').geometry.area\n",
    "filtered_gadm['perimeter_m'] = filtered_gadm.to_crs('epsg:3410').geometry.length\n",
    "\n",
    "filtered_gadm.to_file(f'{BASE_DIR}/processed/locations/gadm_filter_by_extent.gpkg', driver='GPKG')"
   ]
  },
  {
   "cell_type": "code",
   "execution_count": null,
   "id": "04c5f9d9",
   "metadata": {},
   "outputs": [],
   "source": [
    "# Load eez data and merge with gadm"
   ]
  },
  {
   "cell_type": "code",
   "execution_count": null,
   "id": "59aa521a",
   "metadata": {},
   "outputs": [],
   "source": [
    "o = f\"{dataPath}_clean.shp\"\n",
    "execute_command(f'mapshaper-xl 16 -i snap {dataPath} \\\n",
    "        -clean gap-fill-area=30km2 \\\n",
    "        -dissolve GID_0 \\\n",
    "        -o format=shapefile {o} force')"
   ]
  },
  {
   "cell_type": "code",
   "execution_count": null,
   "id": "b47781b6",
   "metadata": {},
   "outputs": [],
   "source": [
    "# Filter GADM_EEZ by extent\n",
    "\n",
    "gadm_eez = gpd.read_file(f'{IN_FOLDER}/gadm_eez.gpkg')\n",
    "\n",
    "sub = mask_gdf(gadm_eez, extent_mask_path)\n",
    "sub.plot()\n",
    "sub.to_file(f'{IN_FOLDER}/gadm_eez_filter_by_extent.gpkg', driver='GPKG')"
   ]
  }
 ],
 "metadata": {
  "kernelspec": {
   "display_name": "Python 3 (ipykernel)",
   "language": "python",
   "name": "python3"
  },
  "language_info": {
   "codemirror_mode": {
    "name": "ipython",
    "version": 3
   },
   "file_extension": ".py",
   "mimetype": "text/x-python",
   "name": "python",
   "nbconvert_exporter": "python",
   "pygments_lexer": "ipython3",
   "version": "3.8.6"
  }
 },
 "nbformat": 4,
 "nbformat_minor": 5
}
