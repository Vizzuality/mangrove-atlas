{
 "cells": [
  {
   "cell_type": "code",
   "execution_count": null,
   "id": "4698601a",
   "metadata": {},
   "outputs": [],
   "source": [
    "# TODO: add the GADM-EEZ Full pipe management here\n",
    "# "
   ]
  }
 ],
 "metadata": {
  "kernelspec": {
   "display_name": "Python 3 (ipykernel)",
   "language": "python",
   "name": "python3"
  }
 },
 "nbformat": 4,
 "nbformat_minor": 5
}
