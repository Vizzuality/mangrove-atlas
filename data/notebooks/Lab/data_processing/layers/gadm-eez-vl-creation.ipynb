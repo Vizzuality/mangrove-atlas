{
 "cells": [
  {
   "cell_type": "code",
   "execution_count": 1,
   "id": "ab1c6368",
   "metadata": {},
   "outputs": [],
   "source": [
    "import os\n",
    "from pathlib import Path\n",
    "import geopandas\n",
    "import subprocess\n",
    "import logging\n",
    "import requests\n",
    "import gzip\n",
    "import fiona\n",
    "from typing import Union\n",
    "from ipyleaflet import Map, GeoData, basemaps, LayersControl\n"
   ]
  },
  {
   "cell_type": "code",
   "execution_count": 2,
   "id": "bd59887f",
   "metadata": {},
   "outputs": [],
   "source": [
    "#  FIXME: This will depends from where the notebook kernel is running so be careful\n",
    "WORK_DIR = Path(os.getcwd())\n",
    "BASE_DIR = f\"{WORK_DIR.parents[4]}/work/datasets\"\n",
    "logging.basicConfig(level=logging.INFO)\n",
    "\n",
    "# @TODO: Add expected data files source as an environment variable.\n",
    "assert (\n",
    "    BASE_DIR == \"/home/jovyan/work/datasets\"\n",
    "), f\"{BASE_DIR} is not the correct directory\"\n",
    "\n",
    "input_dir = Path(f\"{BASE_DIR}/processed\")\n",
    "output_dir = Path(f\"{BASE_DIR}/processed\")\n",
    "\n",
    "input_dir.mkdir(parents=True, exist_ok=True)\n",
    "output_dir.mkdir(parents=True, exist_ok=True)\n",
    "\n",
    "## Path setup\n",
    "# url = \"https://www.dropbox.com/s/g8n05ll44cy2od1/gmw_v3_fnl_mjr_v314.gpkg.gz?dl=0\"\n",
    "d_file = Path(f\"{input_dir}/gadm_eez_location_v3.geojson\")\n",
    "in_file = d_file"
   ]
  },
  {
   "cell_type": "code",
   "execution_count": 6,
   "id": "7c79c9b5",
   "metadata": {},
   "outputs": [],
   "source": [
    "def downloadData(\n",
    "    file_path: str, download_url: str, update: bool = False\n",
    ") -> Union[int, str]:\n",
    "    \"\"\"\n",
    "    Download a file to a path.\n",
    "    Parameters\n",
    "    ----------\n",
    "    file_path : str - The path to the file to download.\n",
    "    update : bool, optional - If True, the file will be downloaded again even if it already exists.\n",
    "                            The default is False.\n",
    "\n",
    "    Returns\n",
    "    -------\n",
    "    int - 0 if the file was downloaded successfully, 1 if the file download failed.\n",
    "    \"\"\"\n",
    "    try:\n",
    "        if update or not os.path.exists(file_path):\n",
    "            logging.info(\"Downloading data...\")\n",
    "\n",
    "            response = requests.get(download_url, stream=True)\n",
    "\n",
    "            with open(file_path, \"wb\") as f:\n",
    "                for chunk in response.iter_content(chunk_size=128):\n",
    "                    f.write(chunk)\n",
    "        else:\n",
    "            logging.info(\"data already downloaded.\")\n",
    "\n",
    "        return 0\n",
    "    except Exception as e:\n",
    "        logging.error(e)\n",
    "        return 1\n"
   ]
  },
  {
   "cell_type": "code",
   "execution_count": 4,
   "id": "cdbd6b17",
   "metadata": {},
   "outputs": [],
   "source": [
    "def mbtilesGeneration(\n",
    "    data_path: Path, output_path: Union[Path, None] = None, update: bool = False\n",
    ") -> Path:\n",
    "    \"\"\"\n",
    "    Simplify geometry of a GeoDataFrame using tippecanoe.\n",
    "    Parameters\n",
    "    ----------\n",
    "    data_path : Path - The path to the GeoDataFrame to simplify.\n",
    "    output_path : Path - The path to the output GeoDataFrame.\n",
    "    update : bool, optional - If True, the output GeoDataFrame will be overwritten.\n",
    "                            The default is False.\n",
    "\n",
    "    Returns\n",
    "    -------\n",
    "    Path - The path to the generated mbtiles file.\n",
    "    \"\"\"\n",
    "    try:\n",
    "        assert data_path.exists(), \"Data path does not exist.\"\n",
    "\n",
    "        if not output_path:\n",
    "            output_path = data_path.with_suffix(\".mbtiles\")\n",
    "\n",
    "        if update or not output_path.exists():\n",
    "\n",
    "            if data_path.suffix != \".json\":\n",
    "                CMD = f'mapshaper {data_path} -clean allow-overlaps rewind -o format=geojson {data_path.with_suffix(\".json\")} force'\n",
    "                subprocess.run(CMD, shell=True, check=True)\n",
    "                data_path = data_path.with_suffix(\".json\")\n",
    "\n",
    "            assert data_path.suffix == \".json\", \"Data path must be a json file.\"\n",
    "\n",
    "            logging.info(\"Creating mbtiles file...\")\n",
    "\n",
    "            subprocess.run(\n",
    "                f\"tippecanoe -zg -f -P -o {output_path} --extend-zooms-if-still-dropping {data_path}\",\n",
    "                shell=True,\n",
    "                check=True,\n",
    "            )\n",
    "            data_path.unlink(exist_ok=True)\n",
    "\n",
    "        return output_path\n",
    "\n",
    "    except Exception as e:\n",
    "        logging.error(e)\n",
    "        return 1\n"
   ]
  },
  {
   "cell_type": "code",
   "execution_count": 8,
   "id": "135e4f11",
   "metadata": {},
   "outputs": [],
   "source": [
    "def transform_layer_json(source: Path, layer_name: str):\n",
    "    \n",
    "    # Reads source\n",
    "    if source.suffix == '.gz':\n",
    "        with gzip.open(source) as f:\n",
    "            layer = geopandas.read_file(f, driver=\"GPKG\", layer=layer_name)\n",
    "    elif source.suffix =='.gpkg':\n",
    "        layer = geopandas.read_file(source, driver=\"GPKG\", layer=layer_name)\n",
    "    else:\n",
    "        layer = geopandas.read_file(source)\n",
    "    \n",
    "    # Convert source into geojson\n",
    "    new_layer_path = source.parent.joinpath(layer_name).with_suffix(\".json\")\n",
    "    layer.to_file(new_layer_path, driver=\"GeoJSON\")\n",
    "    return new_layer_path\n"
   ]
  },
  {
   "cell_type": "markdown",
   "id": "d9d77649",
   "metadata": {},
   "source": [
    "### Tiles for extent layer creation pipe."
   ]
  },
  {
   "cell_type": "markdown",
   "id": "6c029101",
   "metadata": {},
   "source": [
    "Download the vector data\n"
   ]
  },
  {
   "cell_type": "code",
   "execution_count": 53,
   "id": "b907d475",
   "metadata": {},
   "outputs": [
    {
     "name": "stderr",
     "output_type": "stream",
     "text": [
      "INFO:root:Downloading data...\n"
     ]
    },
    {
     "data": {
      "text/plain": [
       "0"
      ]
     },
     "execution_count": 53,
     "metadata": {},
     "output_type": "execute_result"
    }
   ],
   "source": [
    "r = requests.post(\n",
    "    \"https://www.dropbox.com/sharing/fetch_user_content_link\",\n",
    "    data={\"is_xhr\": True, \"t\": \"J2MB3dUwoB7nchfSip2OOjnR\", \"url\": url, \"origin\": \"\"},\n",
    "    headers={\"content-type\": \"application/x-www-form-urlencoded; charset=UTF-8\"},\n",
    "    cookies={\n",
    "        \"gvc\": \"J2MB3dUwoB7nchfSip2OOjnR\",\n",
    "        \"t\": \"J2MB3dUwoB7nchfSip2OOjnR\",\n",
    "        \"__Host-js_csrf\": \"J2MB3dUwoB7nchfSip2OOjnR\",\n",
    "        \"__Host-ss\": \"60irgIKG-k\",\n",
    "        \"locale\": \"en\",\n",
    "        \"__Host-logged-out-session\": \"ChD5IC9J1UubKzaH1kNpzIlyEOvw%2F5YGGi5BRC13a2RIUlJxeV80SHVOWFpEcWJoQXhfQ1J3NDMybGh1bTRrWnRSTE5ZWHhB\",\n",
    "    },\n",
    ")\n",
    "download_url = r.text\n",
    "\n",
    "downloadData(d_file, download_url, True)\n"
   ]
  },
  {
   "cell_type": "markdown",
   "id": "04c94087",
   "metadata": {},
   "source": [
    "### Converting to json\n"
   ]
  },
  {
   "cell_type": "code",
   "execution_count": 5,
   "id": "86c115d3",
   "metadata": {},
   "outputs": [
    {
     "name": "stderr",
     "output_type": "stream",
     "text": [
      "[clean] Retained 122 of 122 features\n",
      "[o] Wrote /home/jovyan/work/datasets/processed/gadm_eez_location_v3.json\n",
      "INFO:root:Creating mbtiles file...\n",
      "For layer 0, using name \"gadm_eez_location_v3\"\n",
      "/home/jovyan/work/datasets/processed/gadm_eez_location_v3.json:5: Found ] at top level\n",
      "/home/jovyan/work/datasets/processed/gadm_eez_location_v3.json:6: Reached EOF without all containers being closed\n",
      "In JSON object {\"type\":\"FeatureCollection\",\"features\":[]}\n",
      "122 features, 8678684 bytes of geometry, 2274 bytes of separate metadata, 13181 bytes of string pool\n",
      "Choosing a maxzoom of -z0 for features about 3191542 feet (972782 meters) apart\n",
      "Choosing a maxzoom of -z9 for resolution of about 749 feet (228 meters) within features\n",
      "  99.9%  9/163/272  \n",
      "ERROR:root:unlink() got an unexpected keyword argument 'exist_ok'\n"
     ]
    },
    {
     "data": {
      "text/plain": [
       "1"
      ]
     },
     "execution_count": 5,
     "metadata": {},
     "output_type": "execute_result"
    }
   ],
   "source": [
    "mbtilesGeneration(in_file)"
   ]
  },
  {
   "cell_type": "code",
   "execution_count": null,
   "id": "3f38818e",
   "metadata": {},
   "outputs": [],
   "source": [
    "#!npm install -g @mapbox/mbview\n",
    "\n",
    "#!mbview $outputPath_mbtiles\n"
   ]
  }
 ],
 "metadata": {
  "kernelspec": {
   "display_name": "Python 3 (ipykernel)",
   "language": "python",
   "name": "python3"
  },
  "language_info": {
   "codemirror_mode": {
    "name": "ipython",
    "version": 3
   },
   "file_extension": ".py",
   "mimetype": "text/x-python",
   "name": "python",
   "nbconvert_exporter": "python",
   "pygments_lexer": "ipython3",
   "version": "3.8.6"
  }
 },
 "nbformat": 4,
 "nbformat_minor": 5
}
