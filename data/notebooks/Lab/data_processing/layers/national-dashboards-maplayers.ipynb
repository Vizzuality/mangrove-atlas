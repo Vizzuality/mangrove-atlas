{
 "cells": [
  {
   "attachments": {},
   "cell_type": "markdown",
   "id": "844802fc",
   "metadata": {},
   "source": [
    "# Pipeline to convert national dashboards shapefiles into vector tiles"
   ]
  },
  {
   "attachments": {},
   "cell_type": "markdown",
   "id": "1efdb87b",
   "metadata": {},
   "source": [
    "[Data sources](https://docs.google.com/document/d/1D9kGrF9AUXDrMLqm-51ZfI43vlfYqpzcQd3mk7MIQqk/edit#heading=h.z8hx51w9ls2m)\n"
   ]
  },
  {
   "cell_type": "code",
   "execution_count": 1,
   "id": "27da97f3",
   "metadata": {
    "tags": []
   },
   "outputs": [],
   "source": [
    "import os\n",
    "from pathlib import Path\n",
    "import geopandas\n",
    "import subprocess\n",
    "import logging\n",
    "import requests\n",
    "import gzip\n",
    "import fiona\n",
    "from typing import Union"
   ]
  },
  {
   "cell_type": "code",
   "execution_count": 2,
   "id": "1f989750",
   "metadata": {
    "tags": []
   },
   "outputs": [],
   "source": [
    "#  FIXME: This will depends from where the notebook kernel is running so be careful\n",
    "WORK_DIR =Path(os.getcwd())\n",
    "BASE_DIR = f'{WORK_DIR.parents[3]}/datasets'\n",
    "logging.basicConfig(level=logging.INFO)\n",
    "\n",
    "# @TODO: Add expected data files source as an environment variable. and add the download bit for the data sources.\n",
    "assert BASE_DIR == '/home/jovyan/work/datasets', f'{BASE_DIR} is not the correct directory'\n",
    "outFolder= Path(f'{BASE_DIR}/National_Layers')\n",
    "outputPath = f'{outFolder.parents[1]}/processed'"
   ]
  },
  {
   "cell_type": "code",
   "execution_count": 3,
   "id": "7a3906a6",
   "metadata": {
    "tags": []
   },
   "outputs": [],
   "source": [
    "def mbtilesGeneration(data_path: Path, output_path: Union[Path, None] = None,\n",
    "\n",
    " update: bool = False) -> Path:\n",
    "    \"\"\"\n",
    "    Simplify geometry of a GeoDataFrame using tippecanoe.\n",
    "    Parameters\n",
    "    ----------\n",
    "    data_path : Path - The path to the GeoDataFrame to simplify.\n",
    "    output_path : Path - The path to the output GeoDataFrame.\n",
    "    update : bool, optional - If True, the output GeoDataFrame will be overwritten.\n",
    "                            The default is False.\n",
    "    \n",
    "    Returns\n",
    "    -------\n",
    "    Path - The path to the generated mbtiles file.\n",
    "    \"\"\"\n",
    "    try:\n",
    "        assert data_path.exists(), 'Data path does not exist.'\n",
    "        if not output_path:\n",
    "            output_path = data_path.with_suffix('.mbtiles')\n",
    "        \n",
    "        if update or not output_path.exists():\n",
    "            \n",
    "            if data_path.suffix != '.json':\n",
    "                CMD = f'mapshaper {data_path} -clean allow-overlaps rewind -o format=geojson {data_path.with_suffix(\".json\")} force'\n",
    "                subprocess.run(CMD ,shell=True, check=True)\n",
    "                data_path = data_path.with_suffix('.json')\n",
    "\n",
    "            assert data_path.suffix == '.json', 'Data path must be a json file.'\n",
    "            \n",
    "            logging.info('Creating mbtiles file...')\n",
    "            \n",
    "            subprocess.run(\n",
    "                f\"tippecanoe -zg -f -P -o {output_path} --extend-zooms-if-still-dropping {data_path}\",\n",
    "                shell=True, check=True\n",
    "                )\n",
    "        \n",
    "        return output_path\n",
    "    \n",
    "    except Exception as e:\n",
    "        logging.error(e)\n",
    "        return 1"
   ]
  },
  {
   "cell_type": "code",
   "execution_count": 4,
   "id": "d82cb4f3",
   "metadata": {
    "tags": []
   },
   "outputs": [
    {
     "data": {
      "text/plain": [
       "True"
      ]
     },
     "execution_count": 4,
     "metadata": {},
     "output_type": "execute_result"
    }
   ],
   "source": [
    "outFolder.exists()"
   ]
  },
  {
   "cell_type": "code",
   "execution_count": null,
   "id": "00af3743",
   "metadata": {},
   "outputs": [],
   "source": [
    "for infile in outFolder.glob('*.gpkg'):\n",
    "    logging.info(f'Processing {infile}')\n",
    "    df = geopandas.read_file(infile)\n",
    "    df = df.to_crs('EPSG:4326')\n",
    "    df.to_file(f'{outFolder}/{infile.stem}.geojson', driver='GeoJSON')\n",
    "    mbtilesGeneration(Path(f'{outFolder}/{infile.stem}.geojson'), Path(f'{outFolder}/{infile.stem}.mbtiles'))\n",
    "    os.remove(f'{outFolder}/{infile.stem}.geojson')    \n"
   ]
  },
  {
   "cell_type": "code",
   "execution_count": null,
   "id": "cb72be28",
   "metadata": {},
   "outputs": [],
   "source": [
    "for infile in outFolder.glob('*.shp'):\n",
    "    logging.info(f'Processing {infile}')\n",
    "    mbtilesGeneration(infile, update=True)"
   ]
  },
  {
   "cell_type": "code",
   "execution_count": 6,
   "id": "e0a916dc",
   "metadata": {},
   "outputs": [
    {
     "data": {
      "text/html": [
       "<div>\n",
       "<style scoped>\n",
       "    .dataframe tbody tr th:only-of-type {\n",
       "        vertical-align: middle;\n",
       "    }\n",
       "\n",
       "    .dataframe tbody tr th {\n",
       "        vertical-align: top;\n",
       "    }\n",
       "\n",
       "    .dataframe thead th {\n",
       "        text-align: right;\n",
       "    }\n",
       "</style>\n",
       "<table border=\"1\" class=\"dataframe\">\n",
       "  <thead>\n",
       "    <tr style=\"text-align: right;\">\n",
       "      <th></th>\n",
       "      <th>DN</th>\n",
       "      <th>geometry</th>\n",
       "    </tr>\n",
       "  </thead>\n",
       "  <tbody>\n",
       "    <tr>\n",
       "      <th>0</th>\n",
       "      <td>3</td>\n",
       "      <td>POLYGON ((142.05434 -10.35295, 142.05434 -10.3...</td>\n",
       "    </tr>\n",
       "    <tr>\n",
       "      <th>1</th>\n",
       "      <td>3</td>\n",
       "      <td>POLYGON ((142.05463 -10.35353, 142.05463 -10.3...</td>\n",
       "    </tr>\n",
       "    <tr>\n",
       "      <th>2</th>\n",
       "      <td>2</td>\n",
       "      <td>POLYGON ((142.05463 -10.35411, 142.05463 -10.3...</td>\n",
       "    </tr>\n",
       "    <tr>\n",
       "      <th>3</th>\n",
       "      <td>3</td>\n",
       "      <td>POLYGON ((142.05521 -10.35526, 142.05521 -10.3...</td>\n",
       "    </tr>\n",
       "    <tr>\n",
       "      <th>4</th>\n",
       "      <td>3</td>\n",
       "      <td>POLYGON ((142.05984 -10.35555, 142.05984 -10.3...</td>\n",
       "    </tr>\n",
       "  </tbody>\n",
       "</table>\n",
       "</div>"
      ],
      "text/plain": [
       "   DN                                           geometry\n",
       "0   3  POLYGON ((142.05434 -10.35295, 142.05434 -10.3...\n",
       "1   3  POLYGON ((142.05463 -10.35353, 142.05463 -10.3...\n",
       "2   2  POLYGON ((142.05463 -10.35411, 142.05463 -10.3...\n",
       "3   3  POLYGON ((142.05521 -10.35526, 142.05521 -10.3...\n",
       "4   3  POLYGON ((142.05984 -10.35555, 142.05984 -10.3..."
      ]
     },
     "execution_count": 6,
     "metadata": {},
     "output_type": "execute_result"
    }
   ],
   "source": [
    "df_aus = geopandas.read_file(f'{outFolder}/AUS_mangrove_cover_2022.geojson')\n",
    "df_aus.head()"
   ]
  },
  {
   "cell_type": "code",
   "execution_count": 8,
   "id": "c18a5771",
   "metadata": {},
   "outputs": [],
   "source": [
    "df_aus = df_aus[df_aus['DN'] > 0]\n",
    "df_aus.to_file(f'{outFolder}/AUS_mangrove_cover_2022.geojson', driver='GeoJSON')"
   ]
  },
  {
   "cell_type": "code",
   "execution_count": 10,
   "id": "a5e21b97",
   "metadata": {},
   "outputs": [
    {
     "data": {
      "text/plain": [
       "2    498337\n",
       "1    348510\n",
       "3    139498\n",
       "Name: DN, dtype: int64"
      ]
     },
     "execution_count": 10,
     "metadata": {},
     "output_type": "execute_result"
    }
   ],
   "source": [
    "df_aus['DN'].value_counts()"
   ]
  },
  {
   "cell_type": "code",
   "execution_count": null,
   "id": "9a485cf2",
   "metadata": {
    "tags": []
   },
   "outputs": [],
   "source": [
    "for infile in outFolder.glob('*.geojson'):\n",
    "    logging.info(f'Processing {infile}')\n",
    "    mbtilesGeneration(infile, update=True)"
   ]
  },
  {
   "cell_type": "code",
   "execution_count": 5,
   "id": "8dbc2e8b",
   "metadata": {},
   "outputs": [
    {
     "name": "stdout",
     "output_type": "stream",
     "text": [
      "bh_mangroves.geojson\n",
      "bh_mangroves.gpkg\n",
      "bh_mangroves.gpkg.zip\n",
      "bh_mangroves.json\n",
      "\u001b[1m\u001b[36mbh_mar_mangroves_2023\u001b[m\u001b[m\n"
     ]
    }
   ],
   "source": [
    "!ls {outFolder} | grep bh"
   ]
  },
  {
   "cell_type": "code",
   "execution_count": 6,
   "id": "1f209316",
   "metadata": {},
   "outputs": [
    {
     "name": "stdout",
     "output_type": "stream",
     "text": [
      "For layer 0, using name \"bh_mangroves\"\n",
      "/Users/angel/Documents/REPOSITORIOS/mangrove-atlas/data/data/National_Layers/bh_mangroves.geojson:2: Found ] at top level\n",
      "/Users/angel/Documents/REPOSITORIOS/mangrove-atlas/data/data/National_Layers/bh_mangroves.geojson:5: Reached EOF without all containers being closed\n",
      "In JSON object {\"type\":\"FeatureCollection\",\"crs\":{\"type\":\"name\",\"properties\":{\"name\":\"urn:ogc:def:crs:OGC:1.3:CRS84\"}},\"features\":[]}\n",
      "1 features, 31026155 bytes of geometry, 42 bytes of separate metadata, 229 bytes of string pool\n",
      "Choosing a maxzoom of -z13 for resolution of about 39 feet (12 meters) within features\n",
      "  99.9%  13/2326/3523  \n"
     ]
    }
   ],
   "source": [
    "# Separate preparation of Bahamas tileset\n",
    "# after geometry fixing in QGIS and dissolve of overlapping polygons\n",
    "data_path = f'{outFolder}/bh_mangroves.geojson'\n",
    "output_path = f'{outFolder}/bh_mangroves.mbtiles'\n",
    "\n",
    "!tippecanoe -zg -f -P -o {output_path} --extend-zooms-if-still-dropping {data_path}"
   ]
  },
  {
   "cell_type": "code",
   "execution_count": 6,
   "id": "93476627",
   "metadata": {
    "tags": []
   },
   "outputs": [
    {
     "name": "stdout",
     "output_type": "stream",
     "text": [
      "AUS_mangrove_cover_2022.mbtiles\n",
      "bh_mangroves.mbtiles\n",
      "bh_mangroves.mbtiles-journal\n",
      "car_mar_mangroves_2023.mbtiles\n",
      "MangroveExtent2020-Kenya-Final-QA-v2.mbtiles\n",
      "MangroveExtent2020-Madagascar-Final-QA-v3.mbtiles\n",
      "MangroveExtent2020-Mozambique-Final-QA-v2.mbtiles\n",
      "MangroveExtent2020-Tanzania-Final-QA-v2.mbtiles\n"
     ]
    }
   ],
   "source": [
    "!ls {outFolder} | grep mbtiles"
   ]
  },
  {
   "cell_type": "code",
   "execution_count": null,
   "id": "ca6f12b5",
   "metadata": {},
   "outputs": [],
   "source": [
    "#!npm install -g @mapbox/mbview  \n",
    "\n",
    "#!mbview $outputPath_mbtiles"
   ]
  }
 ],
 "metadata": {
  "kernelspec": {
   "display_name": "Python 3 (ipykernel)",
   "language": "python",
   "name": "python3"
  },
  "language_info": {
   "codemirror_mode": {
    "name": "ipython",
    "version": 3
   },
   "file_extension": ".py",
   "mimetype": "text/x-python",
   "name": "python",
   "nbconvert_exporter": "python",
   "pygments_lexer": "ipython3",
   "version": "3.11.4"
  }
 },
 "nbformat": 4,
 "nbformat_minor": 5
}
