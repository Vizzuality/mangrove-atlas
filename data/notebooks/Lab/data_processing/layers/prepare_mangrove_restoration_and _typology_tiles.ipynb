{
 "cells": [
  {
   "cell_type": "markdown",
   "id": "3cef93a3",
   "metadata": {},
   "source": [
    "# Mangrove tiles"
   ]
  },
  {
   "attachments": {},
   "cell_type": "markdown",
   "id": "0d3a5890",
   "metadata": {},
   "source": [
    "We need create vector tiles for the Mangrove restoration and typology data provided by the client [here](https://github.com/Vizzuality/mangrove-atlas/issues/331).  \n",
    "The original link to the source data is [here](https://tnc.app.box.com/s/8abiem7o8lyd9x1pvpe2yn2mdibgpcqk).  \n",
    "The source data is an arcgis GDB and the data is stored in gcs bucket.  \n",
    "The steps this pipe will take are:  \n",
    "Pre.- script to move data from their original location to the gcs bucket.  \n",
    "1.- Get data.  \n",
    "2.- Tranform original data to geojson with (mapshaper, geopandas, ...)  \n",
    "3.- Generate the mbtile file with tippecanoe  \n",
    "4.- Upload the mbtile file to gcs and mapbox as a tileset.  \n",
    "5.- Comunicate to Design and FE team the tileset is ready.  "
   ]
  },
  {
   "cell_type": "code",
   "execution_count": 1,
   "id": "e9cac3e3",
   "metadata": {},
   "outputs": [],
   "source": [
    "import pandas as pd\n",
    "import numpy as np\n",
    "import geopandas as gpd\n",
    "import fiona\n"
   ]
  },
  {
   "attachments": {},
   "cell_type": "markdown",
   "id": "52bfac76",
   "metadata": {},
   "source": [
    "## 1. Download raw data\n",
    "Load data from Google Cloud Storage"
   ]
  },
  {
   "cell_type": "code",
   "execution_count": 10,
   "id": "49dcc102",
   "metadata": {},
   "outputs": [
    {
     "data": {
      "text/html": [
       "<div>\n",
       "<style scoped>\n",
       "    .dataframe tbody tr th:only-of-type {\n",
       "        vertical-align: middle;\n",
       "    }\n",
       "\n",
       "    .dataframe tbody tr th {\n",
       "        vertical-align: top;\n",
       "    }\n",
       "\n",
       "    .dataframe thead th {\n",
       "        text-align: right;\n",
       "    }\n",
       "</style>\n",
       "<table border=\"1\" class=\"dataframe\">\n",
       "  <thead>\n",
       "    <tr style=\"text-align: right;\">\n",
       "      <th></th>\n",
       "      <th>OBJECTID</th>\n",
       "      <th>Class</th>\n",
       "      <th>ID</th>\n",
       "      <th>Type</th>\n",
       "      <th>Country</th>\n",
       "      <th>Region</th>\n",
       "      <th>Max_Area_20_ha</th>\n",
       "      <th>Area_loss_ha</th>\n",
       "      <th>Area_loss_pct</th>\n",
       "      <th>Rest_Area_Loss</th>\n",
       "      <th>...</th>\n",
       "      <th>AGB</th>\n",
       "      <th>Fish_Score</th>\n",
       "      <th>Fish_Score_Inv</th>\n",
       "      <th>Loss_Driver</th>\n",
       "      <th>Min_Score</th>\n",
       "      <th>Max_Score</th>\n",
       "      <th>Crab</th>\n",
       "      <th>Bivalve</th>\n",
       "      <th>Shrimp</th>\n",
       "      <th>geometry</th>\n",
       "    </tr>\n",
       "  </thead>\n",
       "  <tbody>\n",
       "    <tr>\n",
       "      <th>0</th>\n",
       "      <td>1</td>\n",
       "      <td>Delta</td>\n",
       "      <td>30028</td>\n",
       "      <td>Delta_30028</td>\n",
       "      <td>Madagascar</td>\n",
       "      <td>None</td>\n",
       "      <td>18276.018627</td>\n",
       "      <td>1439.322931</td>\n",
       "      <td>8.0</td>\n",
       "      <td>1215.253234</td>\n",
       "      <td>...</td>\n",
       "      <td>44405.018810</td>\n",
       "      <td>9.199026e+07</td>\n",
       "      <td>1.735094e+08</td>\n",
       "      <td>Extreme Weather</td>\n",
       "      <td>80.578292</td>\n",
       "      <td>83.454375</td>\n",
       "      <td>2.446594e+07</td>\n",
       "      <td>0.0</td>\n",
       "      <td>1.490435e+08</td>\n",
       "      <td>MULTIPOLYGON (((44.49711 -19.93222, 44.49689 -...</td>\n",
       "    </tr>\n",
       "    <tr>\n",
       "      <th>1</th>\n",
       "      <td>2</td>\n",
       "      <td>Delta</td>\n",
       "      <td>50000</td>\n",
       "      <td>Delta_50000</td>\n",
       "      <td>Malaysia</td>\n",
       "      <td>None</td>\n",
       "      <td>26236.287075</td>\n",
       "      <td>793.173736</td>\n",
       "      <td>3.0</td>\n",
       "      <td>523.385875</td>\n",
       "      <td>...</td>\n",
       "      <td>105072.355871</td>\n",
       "      <td>6.792331e+07</td>\n",
       "      <td>1.120986e+08</td>\n",
       "      <td>Commodities</td>\n",
       "      <td>69.349536</td>\n",
       "      <td>87.600000</td>\n",
       "      <td>3.378470e+05</td>\n",
       "      <td>0.0</td>\n",
       "      <td>1.117608e+08</td>\n",
       "      <td>MULTIPOLYGON (((118.91244 5.34022, 118.91267 5...</td>\n",
       "    </tr>\n",
       "    <tr>\n",
       "      <th>2</th>\n",
       "      <td>3</td>\n",
       "      <td>Delta</td>\n",
       "      <td>50001</td>\n",
       "      <td>Delta_50001</td>\n",
       "      <td>Indonesia</td>\n",
       "      <td>None</td>\n",
       "      <td>105197.959853</td>\n",
       "      <td>2712.808923</td>\n",
       "      <td>3.0</td>\n",
       "      <td>2460.690041</td>\n",
       "      <td>...</td>\n",
       "      <td>683469.905996</td>\n",
       "      <td>1.949940e+08</td>\n",
       "      <td>3.298283e+08</td>\n",
       "      <td>Commodities</td>\n",
       "      <td>71.845840</td>\n",
       "      <td>89.927338</td>\n",
       "      <td>1.099365e+06</td>\n",
       "      <td>0.0</td>\n",
       "      <td>3.287290e+08</td>\n",
       "      <td>MULTIPOLYGON (((117.75422 3.76556, 117.75422 3...</td>\n",
       "    </tr>\n",
       "    <tr>\n",
       "      <th>3</th>\n",
       "      <td>4</td>\n",
       "      <td>Delta</td>\n",
       "      <td>70000</td>\n",
       "      <td>Delta_70000</td>\n",
       "      <td>Brazil</td>\n",
       "      <td>None</td>\n",
       "      <td>186915.778395</td>\n",
       "      <td>10409.261834</td>\n",
       "      <td>6.0</td>\n",
       "      <td>2514.855617</td>\n",
       "      <td>...</td>\n",
       "      <td>140900.620655</td>\n",
       "      <td>4.526629e+07</td>\n",
       "      <td>8.450866e+07</td>\n",
       "      <td>Erosion</td>\n",
       "      <td>85.533365</td>\n",
       "      <td>89.239620</td>\n",
       "      <td>8.450866e+07</td>\n",
       "      <td>0.0</td>\n",
       "      <td>0.000000e+00</td>\n",
       "      <td>MULTIPOLYGON (((-44.80889 -3.37644, -44.80889 ...</td>\n",
       "    </tr>\n",
       "    <tr>\n",
       "      <th>4</th>\n",
       "      <td>5</td>\n",
       "      <td>Delta</td>\n",
       "      <td>70001</td>\n",
       "      <td>Delta_70001</td>\n",
       "      <td>Brazil</td>\n",
       "      <td>None</td>\n",
       "      <td>230156.812403</td>\n",
       "      <td>10676.953931</td>\n",
       "      <td>5.0</td>\n",
       "      <td>3198.093967</td>\n",
       "      <td>...</td>\n",
       "      <td>138312.748494</td>\n",
       "      <td>7.065099e+07</td>\n",
       "      <td>1.199932e+08</td>\n",
       "      <td>Erosion</td>\n",
       "      <td>86.223525</td>\n",
       "      <td>89.229099</td>\n",
       "      <td>1.199932e+08</td>\n",
       "      <td>0.0</td>\n",
       "      <td>0.000000e+00</td>\n",
       "      <td>MULTIPOLYGON (((-44.65489 -2.48711, -44.65489 ...</td>\n",
       "    </tr>\n",
       "  </tbody>\n",
       "</table>\n",
       "<p>5 rows × 39 columns</p>\n",
       "</div>"
      ],
      "text/plain": [
       "   OBJECTID  Class     ID         Type     Country Region  Max_Area_20_ha  \\\n",
       "0         1  Delta  30028  Delta_30028  Madagascar   None    18276.018627   \n",
       "1         2  Delta  50000  Delta_50000    Malaysia   None    26236.287075   \n",
       "2         3  Delta  50001  Delta_50001   Indonesia   None   105197.959853   \n",
       "3         4  Delta  70000  Delta_70000      Brazil   None   186915.778395   \n",
       "4         5  Delta  70001  Delta_70001      Brazil   None   230156.812403   \n",
       "\n",
       "   Area_loss_ha  Area_loss_pct  Rest_Area_Loss  ...            AGB  \\\n",
       "0   1439.322931            8.0     1215.253234  ...   44405.018810   \n",
       "1    793.173736            3.0      523.385875  ...  105072.355871   \n",
       "2   2712.808923            3.0     2460.690041  ...  683469.905996   \n",
       "3  10409.261834            6.0     2514.855617  ...  140900.620655   \n",
       "4  10676.953931            5.0     3198.093967  ...  138312.748494   \n",
       "\n",
       "     Fish_Score  Fish_Score_Inv      Loss_Driver  Min_Score  Max_Score  \\\n",
       "0  9.199026e+07    1.735094e+08  Extreme Weather  80.578292  83.454375   \n",
       "1  6.792331e+07    1.120986e+08      Commodities  69.349536  87.600000   \n",
       "2  1.949940e+08    3.298283e+08      Commodities  71.845840  89.927338   \n",
       "3  4.526629e+07    8.450866e+07          Erosion  85.533365  89.239620   \n",
       "4  7.065099e+07    1.199932e+08          Erosion  86.223525  89.229099   \n",
       "\n",
       "           Crab Bivalve        Shrimp  \\\n",
       "0  2.446594e+07     0.0  1.490435e+08   \n",
       "1  3.378470e+05     0.0  1.117608e+08   \n",
       "2  1.099365e+06     0.0  3.287290e+08   \n",
       "3  8.450866e+07     0.0  0.000000e+00   \n",
       "4  1.199932e+08     0.0  0.000000e+00   \n",
       "\n",
       "                                            geometry  \n",
       "0  MULTIPOLYGON (((44.49711 -19.93222, 44.49689 -...  \n",
       "1  MULTIPOLYGON (((118.91244 5.34022, 118.91267 5...  \n",
       "2  MULTIPOLYGON (((117.75422 3.76556, 117.75422 3...  \n",
       "3  MULTIPOLYGON (((-44.80889 -3.37644, -44.80889 ...  \n",
       "4  MULTIPOLYGON (((-44.65489 -2.48711, -44.65489 ...  \n",
       "\n",
       "[5 rows x 39 columns]"
      ]
     },
     "execution_count": 10,
     "metadata": {},
     "output_type": "execute_result"
    }
   ],
   "source": [
    "\n",
    "data_url = 'https://storage.googleapis.com/mangrove_atlas/widget_data'\n",
    "vector_file = 'Restoration_Update_20221201.gdb'\n",
    "file_path =f'{data_url}/Typology_and_Restoration_Potential/Data/{vector_file}'\n",
    "\n",
    "# Loading from GCS failed\n",
    "file_path = '../../../../data/Typology_and_Restoration_Potential/Data/Restoration_Update_20221201.gdb'\n",
    "layer = gpd.read_file(file_path, driver='FileGDB', layer=0)\n",
    "layer.head()"
   ]
  },
  {
   "cell_type": "markdown",
   "id": "88172d7a",
   "metadata": {},
   "source": [
    "# 2. Transform to geoJSON"
   ]
  },
  {
   "attachments": {},
   "cell_type": "markdown",
   "id": "b433dd8a",
   "metadata": {},
   "source": [
    "Change CRS to WSG84"
   ]
  },
  {
   "cell_type": "code",
   "execution_count": 11,
   "id": "42f53aa2",
   "metadata": {
    "scrolled": true
   },
   "outputs": [
    {
     "data": {
      "text/plain": [
       "<Geographic 2D CRS: EPSG:4326>\n",
       "Name: WGS 84\n",
       "Axis Info [ellipsoidal]:\n",
       "- Lat[north]: Geodetic latitude (degree)\n",
       "- Lon[east]: Geodetic longitude (degree)\n",
       "Area of Use:\n",
       "- name: World.\n",
       "- bounds: (-180.0, -90.0, 180.0, 90.0)\n",
       "Datum: World Geodetic System 1984 ensemble\n",
       "- Ellipsoid: WGS 84\n",
       "- Prime Meridian: Greenwich"
      ]
     },
     "execution_count": 11,
     "metadata": {},
     "output_type": "execute_result"
    }
   ],
   "source": [
    "layer.crs"
   ]
  },
  {
   "cell_type": "code",
   "execution_count": 5,
   "id": "2519c7b4",
   "metadata": {},
   "outputs": [],
   "source": [
    "layer = layer.to_crs('EPSG:4326')\n",
    "layer.crs\n",
    "#2022-12 data update is already WSG84"
   ]
  },
  {
   "cell_type": "code",
   "execution_count": 12,
   "id": "5c432f3f",
   "metadata": {},
   "outputs": [],
   "source": [
    "out_path = '../../../../data/Typology_and_Restoration_Potential/Data/MOW_Global_Mangrove_Restoration_202212.geojson'\n",
    "\n",
    "layer.to_file(out_path, driver=\"GeoJSON\") "
   ]
  },
  {
   "cell_type": "markdown",
   "id": "689bd51a",
   "metadata": {},
   "source": [
    "## 3. Generate the mbtile file with tippecanoe  \n"
   ]
  },
  {
   "cell_type": "code",
   "execution_count": 14,
   "id": "4c980625",
   "metadata": {},
   "outputs": [
    {
     "name": "stdout",
     "output_type": "stream",
     "text": [
      "For layer 0, using name \"MOW_Global_Mangrove_Restoration_202212\"\n",
      "3985 features, 234390395 bytes of geometry, 655920 bytes of separate metadata, 885597 bytes of string pool\n",
      "Choosing a maxzoom of -z1 for features about 175111 feet (53374 meters) apart\n",
      "Choosing a maxzoom of -z11 for resolution of about 137 feet (42 meters) within features\n",
      "  99.9%  11/1560/932   \n",
      "ALL DONE!\n"
     ]
    }
   ],
   "source": [
    "in_file = '../../../../data/Typology_and_Restoration_Potential/Data/MOW_Global_Mangrove_Restoration_202212.geojson'\n",
    "out_file = '../../../../data/Typology_and_Restoration_Potential/Data/MOW_Global_Mangrove_Restoration_202212.mbtiles'\n",
    "!tippecanoe -zg -o $out_file --drop-densest-as-needed --force $in_file\n",
    "print('ALL DONE!')"
   ]
  },
  {
   "cell_type": "code",
   "execution_count": 12,
   "id": "9715bead",
   "metadata": {},
   "outputs": [
    {
     "name": "stdout",
     "output_type": "stream",
     "text": [
      "ALL DONE!\n"
     ]
    }
   ],
   "source": []
  },
  {
   "cell_type": "markdown",
   "id": "03e8bd35",
   "metadata": {},
   "source": [
    "### Optional: visualize tiles with mbview "
   ]
  },
  {
   "cell_type": "code",
   "execution_count": 15,
   "id": "bc5b514b",
   "metadata": {},
   "outputs": [
    {
     "name": "stdout",
     "output_type": "stream",
     "text": [
      "missing access token, try `export MAPBOX_ACCESS_TOKEN=...`\n"
     ]
    }
   ],
   "source": [
    "#!npm install -g @mapbox/mbview\n",
    "out_file = '../../../data/Typology_and_Restoration_Potential/Data/MOW_Global_Mangrove_Restoration.mbtiles'\n",
    "!mbview $out_file"
   ]
  },
  {
   "cell_type": "markdown",
   "id": "dbe716e5",
   "metadata": {},
   "source": [
    "## 4. Upload the mbtile file to gcs and mapbox as a tileset.  "
   ]
  },
  {
   "cell_type": "code",
   "execution_count": null,
   "id": "dea1b36a",
   "metadata": {},
   "outputs": [],
   "source": []
  },
  {
   "cell_type": "markdown",
   "id": "cda3714c",
   "metadata": {},
   "source": [
    "## 5. Comunicate to Design and FE team the tileset is ready.  "
   ]
  }
 ],
 "metadata": {
  "interpreter": {
   "hash": "7b4ba2942f82541cc7fb6e0d3ec26b550dd8cc7bced7c4593fc5a9f271ee89fd"
  },
  "kernelspec": {
   "display_name": "Python 3.9.7 ('py39')",
   "language": "python",
   "name": "python3"
  },
  "language_info": {
   "codemirror_mode": {
    "name": "ipython",
    "version": 3
   },
   "file_extension": ".py",
   "mimetype": "text/x-python",
   "name": "python",
   "nbconvert_exporter": "python",
   "pygments_lexer": "ipython3",
   "version": "3.9.7"
  }
 },
 "nbformat": 4,
 "nbformat_minor": 5
}
