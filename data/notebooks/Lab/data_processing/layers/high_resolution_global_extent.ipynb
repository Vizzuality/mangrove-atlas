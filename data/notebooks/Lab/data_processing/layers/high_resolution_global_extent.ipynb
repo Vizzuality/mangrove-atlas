{
 "cells": [
  {
   "attachments": {},
   "cell_type": "markdown",
   "id": "844802fc",
   "metadata": {},
   "source": [
    "# Generate tiles for high resolution global extent map"
   ]
  },
  {
   "attachments": {},
   "cell_type": "markdown",
   "id": "1efdb87b",
   "metadata": {},
   "source": [
    "[Data sources](https://docs.google.com/document/d/1D9kGrF9AUXDrMLqm-51ZfI43vlfYqpzcQd3mk7MIQqk/edit#heading=h.z8hx51w9ls2m)\n"
   ]
  },
  {
   "cell_type": "code",
   "execution_count": 1,
   "id": "27da97f3",
   "metadata": {
    "tags": []
   },
   "outputs": [
    {
     "name": "stderr",
     "output_type": "stream",
     "text": [
      "/opt/conda/lib/python3.8/site-packages/pandas/core/computation/expressions.py:20: UserWarning: Pandas requires version '2.7.3' or newer of 'numexpr' (version '2.7.2' currently installed).\n",
      "  from pandas.core.computation.check import NUMEXPR_INSTALLED\n"
     ]
    }
   ],
   "source": [
    "import os\n",
    "from pathlib import Path\n",
    "import geopandas\n",
    "import subprocess\n",
    "import logging\n",
    "import requests\n",
    "import gzip\n",
    "import fiona\n",
    "from typing import Union"
   ]
  },
  {
   "cell_type": "code",
   "execution_count": 2,
   "id": "1f989750",
   "metadata": {
    "tags": []
   },
   "outputs": [],
   "source": [
    "#  FIXME: This will depends from where the notebook kernel is running so be careful\n",
    "WORK_DIR =Path(os.getcwd())\n",
    "BASE_DIR = f'{WORK_DIR.parents[3]}/datasets'\n",
    "logging.basicConfig(level=logging.INFO)\n",
    "\n",
    "# @TODO: Add expected data files source as an environment variable. and add the download bit for the data sources.\n",
    "assert BASE_DIR == '/home/jovyan/work/datasets', f'{BASE_DIR} is not the correct directory'\n",
    "outFolder= Path(f'{BASE_DIR}/hi_res_extent')\n",
    "#outputPath = f'{outFolder.parents[1]}/processed'"
   ]
  },
  {
   "cell_type": "code",
   "execution_count": 3,
   "id": "ba49ce33",
   "metadata": {},
   "outputs": [
    {
     "name": "stdout",
     "output_type": "stream",
     "text": [
      "gmw_v4_sen2_sgl_cls_v007.gpkg\t\tgmw_v4_sen2_sgl_cls_v007_wgs84.mbtiles\n",
      "gmw_v4_sen2_sgl_cls_v007_wgs84.geojson\tgmw_v4_sen2_sgl_cls_v007_ZG.mbtiles\n"
     ]
    }
   ],
   "source": [
    "!ls {outFolder}"
   ]
  },
  {
   "cell_type": "code",
   "execution_count": 8,
   "id": "7b2e5f9a",
   "metadata": {},
   "outputs": [
    {
     "data": {
      "text/html": [
       "<div>\n",
       "<style scoped>\n",
       "    .dataframe tbody tr th:only-of-type {\n",
       "        vertical-align: middle;\n",
       "    }\n",
       "\n",
       "    .dataframe tbody tr th {\n",
       "        vertical-align: top;\n",
       "    }\n",
       "\n",
       "    .dataframe thead th {\n",
       "        text-align: right;\n",
       "    }\n",
       "</style>\n",
       "<table border=\"1\" class=\"dataframe\">\n",
       "  <thead>\n",
       "    <tr style=\"text-align: right;\">\n",
       "      <th></th>\n",
       "      <th>ClassID</th>\n",
       "      <th>geometry</th>\n",
       "    </tr>\n",
       "  </thead>\n",
       "  <tbody>\n",
       "    <tr>\n",
       "      <th>0</th>\n",
       "      <td>1</td>\n",
       "      <td>POLYGON ((35.66950 22.94630, 35.66960 22.94630...</td>\n",
       "    </tr>\n",
       "    <tr>\n",
       "      <th>1</th>\n",
       "      <td>1</td>\n",
       "      <td>POLYGON ((35.66620 22.94670, 35.66620 22.94660...</td>\n",
       "    </tr>\n",
       "  </tbody>\n",
       "</table>\n",
       "</div>"
      ],
      "text/plain": [
       "   ClassID                                           geometry\n",
       "0        1  POLYGON ((35.66950 22.94630, 35.66960 22.94630...\n",
       "1        1  POLYGON ((35.66620 22.94670, 35.66620 22.94660..."
      ]
     },
     "execution_count": 8,
     "metadata": {},
     "output_type": "execute_result"
    }
   ],
   "source": [
    "df_extent = geopandas.read_file(f'{outFolder}/gmw_v4_sen2_sgl_cls_v007.gpkg')\n",
    "df_extent.head(2)"
   ]
  },
  {
   "cell_type": "code",
   "execution_count": 9,
   "id": "71bb93cc",
   "metadata": {},
   "outputs": [
    {
     "data": {
      "text/plain": [
       "<Geographic 2D CRS: EPSG:4326>\n",
       "Name: WGS 84\n",
       "Axis Info [ellipsoidal]:\n",
       "- Lat[north]: Geodetic latitude (degree)\n",
       "- Lon[east]: Geodetic longitude (degree)\n",
       "Area of Use:\n",
       "- name: World.\n",
       "- bounds: (-180.0, -90.0, 180.0, 90.0)\n",
       "Datum: World Geodetic System 1984 ensemble\n",
       "- Ellipsoid: WGS 84\n",
       "- Prime Meridian: Greenwich"
      ]
     },
     "execution_count": 9,
     "metadata": {},
     "output_type": "execute_result"
    }
   ],
   "source": [
    "df_extent.crs"
   ]
  },
  {
   "cell_type": "code",
   "execution_count": null,
   "id": "bea58129",
   "metadata": {},
   "outputs": [],
   "source": [
    "#df_extent.to_crs(epsg=4326, inplace=True)"
   ]
  },
  {
   "cell_type": "code",
   "execution_count": 10,
   "id": "700fe71a",
   "metadata": {},
   "outputs": [],
   "source": [
    "df_extent.to_file(f'{outFolder}/gmw_v4_sen2_sgl_cls_v007_wgs84.geojson', driver='GeoJSON')"
   ]
  },
  {
   "cell_type": "code",
   "execution_count": 4,
   "id": "0ad57078",
   "metadata": {},
   "outputs": [
    {
     "name": "stdout",
     "output_type": "stream",
     "text": [
      "For layer 0, using name \"gmw_v4_sen2_sgl_cls_v007_wgs84\"\n",
      "/home/jovyan/work/datasets/hi_res_extent/gmw_v4_sen2_sgl_cls_v007_wgs84.geojson:801196: Found ] at top level\n",
      "/home/jovyan/work/datasets/hi_res_extent/gmw_v4_sen2_sgl_cls_v007_wgs84.geojson:899334: Reached EOF without all containers being closed\n",
      "In JSON object {\"type\":\"FeatureCollection\",\"crs\":{\"type\":\"name\",\"properties\":{\"name\":\"urn:ogc:def:crs:OGC:1.3:CRS84\"}},\"features\":[]}\n",
      "3342900 features, 603220067 bytes of geometry, 10028704 bytes of separate metadata, 48 bytes of string pool\n",
      "Choosing a maxzoom of -z10 for features about 414 feet (126 meters) apart\n",
      "Choosing a maxzoom of -z12 for resolution of about 72 feet (21 meters) within features\n",
      "  99.9%  12/2817/1768  \n"
     ]
    }
   ],
   "source": [
    "data_path = f'{outFolder}/gmw_v4_sen2_sgl_cls_v007_wgs84.geojson'\n",
    "output_path = f'{outFolder}/gmw_v4_sen2_sgl_cls_v007_ZG.mbtiles'\n",
    "\n",
    "!tippecanoe -zg -f -P -o {output_path} --extend-zooms-if-still-dropping {data_path}\n",
    "print(\"Done!\")"
   ]
  },
  {
   "cell_type": "code",
   "execution_count": 5,
   "id": "18426738",
   "metadata": {},
   "outputs": [
    {
     "name": "stdout",
     "output_type": "stream",
     "text": [
      "Done!\n"
     ]
    }
   ],
   "source": []
  },
  {
   "cell_type": "code",
   "execution_count": 9,
   "id": "9a5ddd4e",
   "metadata": {},
   "outputs": [
    {
     "data": {
      "text/plain": [
       "{'message': 'Not Found'}"
      ]
     },
     "execution_count": 9,
     "metadata": {},
     "output_type": "execute_result"
    }
   ],
   "source": [
    "username = 'globalmangrovewatch'\n",
    "token = 'pk.eyJ1IjoiZ2xvYmFsbWFuZ3JvdmV3YXRjaCIsImEiOiJjbGIybnZsMW4wNjNqM3BucGJ6NXVzZHBiIn0.LTOZXrFVilMBleaeHv9NgQ'\n",
    "cred_url = f'https://api.mapbox.com/uploads/v1/{username}/credentials'\n",
    "cred = requests.post(cred_url, params={'access_token': token}).json()\n",
    "cred"
   ]
  },
  {
   "cell_type": "code",
   "execution_count": null,
   "id": "ef91f1a2",
   "metadata": {},
   "outputs": [],
   "source": []
  },
  {
   "cell_type": "code",
   "execution_count": null,
   "id": "7793226f",
   "metadata": {},
   "outputs": [],
   "source": []
  },
  {
   "cell_type": "code",
   "execution_count": 3,
   "id": "7a3906a6",
   "metadata": {
    "tags": []
   },
   "outputs": [],
   "source": [
    "def mbtilesGeneration(data_path: Path, output_path: Union[Path, None] = None,\n",
    "\n",
    " update: bool = False) -> Path:\n",
    "    \"\"\"\n",
    "    Simplify geometry of a GeoDataFrame using tippecanoe.\n",
    "    Parameters\n",
    "    ----------\n",
    "    data_path : Path - The path to the GeoDataFrame to simplify.\n",
    "    output_path : Path - The path to the output GeoDataFrame.\n",
    "    update : bool, optional - If True, the output GeoDataFrame will be overwritten.\n",
    "                            The default is False.\n",
    "    \n",
    "    Returns\n",
    "    -------\n",
    "    Path - The path to the generated mbtiles file.\n",
    "    \"\"\"\n",
    "    try:\n",
    "        assert data_path.exists(), 'Data path does not exist.'\n",
    "        if not output_path:\n",
    "            output_path = data_path.with_suffix('.mbtiles')\n",
    "        \n",
    "        if update or not output_path.exists():\n",
    "            \n",
    "            if data_path.suffix != '.json':\n",
    "                CMD = f'mapshaper {data_path} -clean allow-overlaps rewind -o format=geojson {data_path.with_suffix(\".json\")} force'\n",
    "                subprocess.run(CMD ,shell=True, check=True)\n",
    "                data_path = data_path.with_suffix('.json')\n",
    "\n",
    "            assert data_path.suffix == '.json', 'Data path must be a json file.'\n",
    "            \n",
    "            logging.info('Creating mbtiles file...')\n",
    "            \n",
    "            subprocess.run(\n",
    "                f\"tippecanoe -zg -f -P -o {output_path} --extend-zooms-if-still-dropping {data_path}\",\n",
    "                shell=True, check=True\n",
    "                )\n",
    "        \n",
    "        return output_path\n",
    "    \n",
    "    except Exception as e:\n",
    "        logging.error(e)\n",
    "        return 1"
   ]
  },
  {
   "cell_type": "code",
   "execution_count": 4,
   "id": "d82cb4f3",
   "metadata": {
    "tags": []
   },
   "outputs": [
    {
     "data": {
      "text/plain": [
       "True"
      ]
     },
     "execution_count": 4,
     "metadata": {},
     "output_type": "execute_result"
    }
   ],
   "source": [
    "outFolder.exists()"
   ]
  },
  {
   "cell_type": "code",
   "execution_count": 4,
   "id": "00af3743",
   "metadata": {},
   "outputs": [
    {
     "name": "stderr",
     "output_type": "stream",
     "text": [
      "INFO:root:Processing /home/jovyan/work/datasets/National_Layers/bh_mangroves.gpkg\n",
      "[clean] Retained 1 of 1 features\n"
     ]
    },
    {
     "ename": "",
     "evalue": "",
     "output_type": "error",
     "traceback": [
      "\u001b[1;31mThe Kernel crashed while executing code in the the current cell or a previous cell. Please review the code in the cell(s) to identify a possible cause of the failure. Click <a href='https://aka.ms/vscodeJupyterKernelCrash'>here</a> for more info. View Jupyter <a href='command:jupyter.viewOutput'>log</a> for further details."
     ]
    },
    {
     "ename": "",
     "evalue": "",
     "output_type": "error",
     "traceback": [
      "\u001b[1;31mCanceled future for execute_request message before replies were done"
     ]
    }
   ],
   "source": [
    "for infile in outFolder.glob('bh_mangroves.gpkg'):\n",
    "    logging.info(f'Processing {infile}')\n",
    "    df = geopandas.read_file(infile)\n",
    "    df = df.to_crs('EPSG:4326')\n",
    "    df.to_file(f'{outFolder}/{infile.stem}.geojson', driver='GeoJSON')\n",
    "    mbtilesGeneration(Path(f'{outFolder}/{infile.stem}.geojson'), Path(f'{outFolder}/{infile.stem}.mbtiles'))\n",
    "    os.remove(f'{outFolder}/{infile.stem}.geojson')    \n"
   ]
  },
  {
   "cell_type": "code",
   "execution_count": null,
   "id": "cb72be28",
   "metadata": {},
   "outputs": [],
   "source": [
    "for infile in outFolder.glob('*.shp'):\n",
    "    logging.info(f'Processing {infile}')\n",
    "    mbtilesGeneration(infile, update=True)"
   ]
  },
  {
   "cell_type": "code",
   "execution_count": 6,
   "id": "e0a916dc",
   "metadata": {},
   "outputs": [
    {
     "data": {
      "text/html": [
       "<div>\n",
       "<style scoped>\n",
       "    .dataframe tbody tr th:only-of-type {\n",
       "        vertical-align: middle;\n",
       "    }\n",
       "\n",
       "    .dataframe tbody tr th {\n",
       "        vertical-align: top;\n",
       "    }\n",
       "\n",
       "    .dataframe thead th {\n",
       "        text-align: right;\n",
       "    }\n",
       "</style>\n",
       "<table border=\"1\" class=\"dataframe\">\n",
       "  <thead>\n",
       "    <tr style=\"text-align: right;\">\n",
       "      <th></th>\n",
       "      <th>DN</th>\n",
       "      <th>geometry</th>\n",
       "    </tr>\n",
       "  </thead>\n",
       "  <tbody>\n",
       "    <tr>\n",
       "      <th>0</th>\n",
       "      <td>3</td>\n",
       "      <td>POLYGON ((142.05434 -10.35295, 142.05434 -10.3...</td>\n",
       "    </tr>\n",
       "    <tr>\n",
       "      <th>1</th>\n",
       "      <td>3</td>\n",
       "      <td>POLYGON ((142.05463 -10.35353, 142.05463 -10.3...</td>\n",
       "    </tr>\n",
       "    <tr>\n",
       "      <th>2</th>\n",
       "      <td>2</td>\n",
       "      <td>POLYGON ((142.05463 -10.35411, 142.05463 -10.3...</td>\n",
       "    </tr>\n",
       "    <tr>\n",
       "      <th>3</th>\n",
       "      <td>3</td>\n",
       "      <td>POLYGON ((142.05521 -10.35526, 142.05521 -10.3...</td>\n",
       "    </tr>\n",
       "    <tr>\n",
       "      <th>4</th>\n",
       "      <td>3</td>\n",
       "      <td>POLYGON ((142.05984 -10.35555, 142.05984 -10.3...</td>\n",
       "    </tr>\n",
       "  </tbody>\n",
       "</table>\n",
       "</div>"
      ],
      "text/plain": [
       "   DN                                           geometry\n",
       "0   3  POLYGON ((142.05434 -10.35295, 142.05434 -10.3...\n",
       "1   3  POLYGON ((142.05463 -10.35353, 142.05463 -10.3...\n",
       "2   2  POLYGON ((142.05463 -10.35411, 142.05463 -10.3...\n",
       "3   3  POLYGON ((142.05521 -10.35526, 142.05521 -10.3...\n",
       "4   3  POLYGON ((142.05984 -10.35555, 142.05984 -10.3..."
      ]
     },
     "execution_count": 6,
     "metadata": {},
     "output_type": "execute_result"
    }
   ],
   "source": [
    "df_aus = geopandas.read_file(f'{outFolder}/AUS_mangrove_cover_2022.geojson')\n",
    "df_aus.head()"
   ]
  },
  {
   "cell_type": "code",
   "execution_count": 8,
   "id": "c18a5771",
   "metadata": {},
   "outputs": [],
   "source": [
    "df_aus = df_aus[df_aus['DN'] > 0]\n",
    "df_aus.to_file(f'{outFolder}/AUS_mangrove_cover_2022.geojson', driver='GeoJSON')"
   ]
  },
  {
   "cell_type": "code",
   "execution_count": 9,
   "id": "9a485cf2",
   "metadata": {
    "tags": []
   },
   "outputs": [
    {
     "name": "stderr",
     "output_type": "stream",
     "text": [
      "INFO:root:Processing /home/jovyan/work/datasets/National_Layers/AUS_mangrove_cover_2022.geojson\n",
      "[clean] Retained 986,345 of 986,345 features\n",
      "[o] Wrote /home/jovyan/work/datasets/National_Layers/AUS_mangrove_cover_2022.json\n",
      "INFO:root:Creating mbtiles file...\n",
      "For layer 0, using name \"AUS_mangrove_cover_2022\"\n",
      "/home/jovyan/work/datasets/National_Layers/AUS_mangrove_cover_2022.json:231926: Found ] at top level\n",
      "/home/jovyan/work/datasets/National_Layers/AUS_mangrove_cover_2022.json:246033: Reached EOF without all containers being closed\n",
      "In JSON object {\"type\":\"FeatureCollection\",\"features\":[]}\n",
      "986345 features, 55263998 bytes of geometry, 2959039 bytes of separate metadata, 52 bytes of string pool\n",
      "Choosing a maxzoom of -z10 for features about 381 feet (117 meters) apart\n",
      "Choosing a maxzoom of -z11 for resolution of about 192 feet (58 meters) within features\n",
      "  99.9%  11/1896/1188  \n",
      "INFO:root:Processing /home/jovyan/work/datasets/National_Layers/bh_mangroves.geojson\n"
     ]
    },
    {
     "ename": "KeyboardInterrupt",
     "evalue": "",
     "output_type": "error",
     "traceback": [
      "\u001b[0;31m---------------------------------------------------------------------------\u001b[0m",
      "\u001b[0;31mKeyboardInterrupt\u001b[0m                         Traceback (most recent call last)",
      "\u001b[1;32m/Users/angel/Documents/REPOSITORIOS/mangrove-atlas/data/notebooks/Lab/data_processing/layers/national-dashboards-maplayers.ipynb Cell 11\u001b[0m in \u001b[0;36m<cell line: 1>\u001b[0;34m()\u001b[0m\n\u001b[1;32m      <a href='vscode-notebook-cell:/Users/angel/Documents/REPOSITORIOS/mangrove-atlas/data/notebooks/Lab/data_processing/layers/national-dashboards-maplayers.ipynb#X11sZmlsZQ%3D%3D?line=0'>1</a>\u001b[0m \u001b[39mfor\u001b[39;00m infile \u001b[39min\u001b[39;00m outFolder\u001b[39m.\u001b[39mglob(\u001b[39m'\u001b[39m\u001b[39m*.geojson\u001b[39m\u001b[39m'\u001b[39m):\n\u001b[1;32m      <a href='vscode-notebook-cell:/Users/angel/Documents/REPOSITORIOS/mangrove-atlas/data/notebooks/Lab/data_processing/layers/national-dashboards-maplayers.ipynb#X11sZmlsZQ%3D%3D?line=1'>2</a>\u001b[0m     logging\u001b[39m.\u001b[39minfo(\u001b[39mf\u001b[39m\u001b[39m'\u001b[39m\u001b[39mProcessing \u001b[39m\u001b[39m{\u001b[39;00minfile\u001b[39m}\u001b[39;00m\u001b[39m'\u001b[39m)\n\u001b[0;32m----> <a href='vscode-notebook-cell:/Users/angel/Documents/REPOSITORIOS/mangrove-atlas/data/notebooks/Lab/data_processing/layers/national-dashboards-maplayers.ipynb#X11sZmlsZQ%3D%3D?line=2'>3</a>\u001b[0m     mbtilesGeneration(infile, update\u001b[39m=\u001b[39;49m\u001b[39mTrue\u001b[39;49;00m)\n",
      "\u001b[1;32m/Users/angel/Documents/REPOSITORIOS/mangrove-atlas/data/notebooks/Lab/data_processing/layers/national-dashboards-maplayers.ipynb Cell 11\u001b[0m in \u001b[0;36mmbtilesGeneration\u001b[0;34m(data_path, output_path, update)\u001b[0m\n\u001b[1;32m     <a href='vscode-notebook-cell:/Users/angel/Documents/REPOSITORIOS/mangrove-atlas/data/notebooks/Lab/data_processing/layers/national-dashboards-maplayers.ipynb#X11sZmlsZQ%3D%3D?line=23'>24</a>\u001b[0m \u001b[39mif\u001b[39;00m data_path\u001b[39m.\u001b[39msuffix \u001b[39m!=\u001b[39m \u001b[39m'\u001b[39m\u001b[39m.json\u001b[39m\u001b[39m'\u001b[39m:\n\u001b[1;32m     <a href='vscode-notebook-cell:/Users/angel/Documents/REPOSITORIOS/mangrove-atlas/data/notebooks/Lab/data_processing/layers/national-dashboards-maplayers.ipynb#X11sZmlsZQ%3D%3D?line=24'>25</a>\u001b[0m     CMD \u001b[39m=\u001b[39m \u001b[39mf\u001b[39m\u001b[39m'\u001b[39m\u001b[39mmapshaper \u001b[39m\u001b[39m{\u001b[39;00mdata_path\u001b[39m}\u001b[39;00m\u001b[39m -clean allow-overlaps rewind -o format=geojson \u001b[39m\u001b[39m{\u001b[39;00mdata_path\u001b[39m.\u001b[39mwith_suffix(\u001b[39m\"\u001b[39m\u001b[39m.json\u001b[39m\u001b[39m\"\u001b[39m)\u001b[39m}\u001b[39;00m\u001b[39m force\u001b[39m\u001b[39m'\u001b[39m\n\u001b[0;32m---> <a href='vscode-notebook-cell:/Users/angel/Documents/REPOSITORIOS/mangrove-atlas/data/notebooks/Lab/data_processing/layers/national-dashboards-maplayers.ipynb#X11sZmlsZQ%3D%3D?line=25'>26</a>\u001b[0m     subprocess\u001b[39m.\u001b[39;49mrun(CMD ,shell\u001b[39m=\u001b[39;49m\u001b[39mTrue\u001b[39;49;00m, check\u001b[39m=\u001b[39;49m\u001b[39mTrue\u001b[39;49;00m)\n\u001b[1;32m     <a href='vscode-notebook-cell:/Users/angel/Documents/REPOSITORIOS/mangrove-atlas/data/notebooks/Lab/data_processing/layers/national-dashboards-maplayers.ipynb#X11sZmlsZQ%3D%3D?line=26'>27</a>\u001b[0m     data_path \u001b[39m=\u001b[39m data_path\u001b[39m.\u001b[39mwith_suffix(\u001b[39m'\u001b[39m\u001b[39m.json\u001b[39m\u001b[39m'\u001b[39m)\n\u001b[1;32m     <a href='vscode-notebook-cell:/Users/angel/Documents/REPOSITORIOS/mangrove-atlas/data/notebooks/Lab/data_processing/layers/national-dashboards-maplayers.ipynb#X11sZmlsZQ%3D%3D?line=28'>29</a>\u001b[0m \u001b[39massert\u001b[39;00m data_path\u001b[39m.\u001b[39msuffix \u001b[39m==\u001b[39m \u001b[39m'\u001b[39m\u001b[39m.json\u001b[39m\u001b[39m'\u001b[39m, \u001b[39m'\u001b[39m\u001b[39mData path must be a json file.\u001b[39m\u001b[39m'\u001b[39m\n",
      "File \u001b[0;32m/opt/conda/lib/python3.8/subprocess.py:491\u001b[0m, in \u001b[0;36mrun\u001b[0;34m(input, capture_output, timeout, check, *popenargs, **kwargs)\u001b[0m\n\u001b[1;32m    489\u001b[0m \u001b[39mwith\u001b[39;00m Popen(\u001b[39m*\u001b[39mpopenargs, \u001b[39m*\u001b[39m\u001b[39m*\u001b[39mkwargs) \u001b[39mas\u001b[39;00m process:\n\u001b[1;32m    490\u001b[0m     \u001b[39mtry\u001b[39;00m:\n\u001b[0;32m--> 491\u001b[0m         stdout, stderr \u001b[39m=\u001b[39m process\u001b[39m.\u001b[39;49mcommunicate(\u001b[39minput\u001b[39;49m, timeout\u001b[39m=\u001b[39;49mtimeout)\n\u001b[1;32m    492\u001b[0m     \u001b[39mexcept\u001b[39;00m TimeoutExpired \u001b[39mas\u001b[39;00m exc:\n\u001b[1;32m    493\u001b[0m         process\u001b[39m.\u001b[39mkill()\n",
      "File \u001b[0;32m/opt/conda/lib/python3.8/subprocess.py:1016\u001b[0m, in \u001b[0;36mPopen.communicate\u001b[0;34m(self, input, timeout)\u001b[0m\n\u001b[1;32m   1014\u001b[0m         stderr \u001b[39m=\u001b[39m \u001b[39mself\u001b[39m\u001b[39m.\u001b[39mstderr\u001b[39m.\u001b[39mread()\n\u001b[1;32m   1015\u001b[0m         \u001b[39mself\u001b[39m\u001b[39m.\u001b[39mstderr\u001b[39m.\u001b[39mclose()\n\u001b[0;32m-> 1016\u001b[0m     \u001b[39mself\u001b[39;49m\u001b[39m.\u001b[39;49mwait()\n\u001b[1;32m   1017\u001b[0m \u001b[39melse\u001b[39;00m:\n\u001b[1;32m   1018\u001b[0m     \u001b[39mif\u001b[39;00m timeout \u001b[39mis\u001b[39;00m \u001b[39mnot\u001b[39;00m \u001b[39mNone\u001b[39;00m:\n",
      "File \u001b[0;32m/opt/conda/lib/python3.8/subprocess.py:1079\u001b[0m, in \u001b[0;36mPopen.wait\u001b[0;34m(self, timeout)\u001b[0m\n\u001b[1;32m   1077\u001b[0m     endtime \u001b[39m=\u001b[39m _time() \u001b[39m+\u001b[39m timeout\n\u001b[1;32m   1078\u001b[0m \u001b[39mtry\u001b[39;00m:\n\u001b[0;32m-> 1079\u001b[0m     \u001b[39mreturn\u001b[39;00m \u001b[39mself\u001b[39;49m\u001b[39m.\u001b[39;49m_wait(timeout\u001b[39m=\u001b[39;49mtimeout)\n\u001b[1;32m   1080\u001b[0m \u001b[39mexcept\u001b[39;00m \u001b[39mKeyboardInterrupt\u001b[39;00m:\n\u001b[1;32m   1081\u001b[0m     \u001b[39m# https://bugs.python.org/issue25942\u001b[39;00m\n\u001b[1;32m   1082\u001b[0m     \u001b[39m# The first keyboard interrupt waits briefly for the child to\u001b[39;00m\n\u001b[1;32m   1083\u001b[0m     \u001b[39m# exit under the common assumption that it also received the ^C\u001b[39;00m\n\u001b[1;32m   1084\u001b[0m     \u001b[39m# generated SIGINT and will exit rapidly.\u001b[39;00m\n\u001b[1;32m   1085\u001b[0m     \u001b[39mif\u001b[39;00m timeout \u001b[39mis\u001b[39;00m \u001b[39mnot\u001b[39;00m \u001b[39mNone\u001b[39;00m:\n",
      "File \u001b[0;32m/opt/conda/lib/python3.8/subprocess.py:1804\u001b[0m, in \u001b[0;36mPopen._wait\u001b[0;34m(self, timeout)\u001b[0m\n\u001b[1;32m   1802\u001b[0m \u001b[39mif\u001b[39;00m \u001b[39mself\u001b[39m\u001b[39m.\u001b[39mreturncode \u001b[39mis\u001b[39;00m \u001b[39mnot\u001b[39;00m \u001b[39mNone\u001b[39;00m:\n\u001b[1;32m   1803\u001b[0m     \u001b[39mbreak\u001b[39;00m  \u001b[39m# Another thread waited.\u001b[39;00m\n\u001b[0;32m-> 1804\u001b[0m (pid, sts) \u001b[39m=\u001b[39m \u001b[39mself\u001b[39;49m\u001b[39m.\u001b[39;49m_try_wait(\u001b[39m0\u001b[39;49m)\n\u001b[1;32m   1805\u001b[0m \u001b[39m# Check the pid and loop as waitpid has been known to\u001b[39;00m\n\u001b[1;32m   1806\u001b[0m \u001b[39m# return 0 even without WNOHANG in odd situations.\u001b[39;00m\n\u001b[1;32m   1807\u001b[0m \u001b[39m# http://bugs.python.org/issue14396.\u001b[39;00m\n\u001b[1;32m   1808\u001b[0m \u001b[39mif\u001b[39;00m pid \u001b[39m==\u001b[39m \u001b[39mself\u001b[39m\u001b[39m.\u001b[39mpid:\n",
      "File \u001b[0;32m/opt/conda/lib/python3.8/subprocess.py:1762\u001b[0m, in \u001b[0;36mPopen._try_wait\u001b[0;34m(self, wait_flags)\u001b[0m\n\u001b[1;32m   1760\u001b[0m \u001b[39m\u001b[39m\u001b[39m\"\"\"All callers to this function MUST hold self._waitpid_lock.\"\"\"\u001b[39;00m\n\u001b[1;32m   1761\u001b[0m \u001b[39mtry\u001b[39;00m:\n\u001b[0;32m-> 1762\u001b[0m     (pid, sts) \u001b[39m=\u001b[39m os\u001b[39m.\u001b[39;49mwaitpid(\u001b[39mself\u001b[39;49m\u001b[39m.\u001b[39;49mpid, wait_flags)\n\u001b[1;32m   1763\u001b[0m \u001b[39mexcept\u001b[39;00m \u001b[39mChildProcessError\u001b[39;00m:\n\u001b[1;32m   1764\u001b[0m     \u001b[39m# This happens if SIGCLD is set to be ignored or waiting\u001b[39;00m\n\u001b[1;32m   1765\u001b[0m     \u001b[39m# for child processes has otherwise been disabled for our\u001b[39;00m\n\u001b[1;32m   1766\u001b[0m     \u001b[39m# process.  This child is dead, we can't get the status.\u001b[39;00m\n\u001b[1;32m   1767\u001b[0m     pid \u001b[39m=\u001b[39m \u001b[39mself\u001b[39m\u001b[39m.\u001b[39mpid\n",
      "\u001b[0;31mKeyboardInterrupt\u001b[0m: "
     ]
    }
   ],
   "source": [
    "for infile in outFolder.glob('*.geojson'):\n",
    "    logging.info(f'Processing {infile}')\n",
    "    mbtilesGeneration(infile, update=True)"
   ]
  },
  {
   "cell_type": "code",
   "execution_count": 6,
   "id": "93476627",
   "metadata": {
    "tags": []
   },
   "outputs": [
    {
     "name": "stdout",
     "output_type": "stream",
     "text": [
      "AUS_mangrove_cover_2022.mbtiles\n",
      "bh_mangroves.mbtiles\n",
      "bh_mangroves.mbtiles-journal\n",
      "car_mar_mangroves_2023.mbtiles\n",
      "MangroveExtent2020-Kenya-Final-QA-v2.mbtiles\n",
      "MangroveExtent2020-Madagascar-Final-QA-v3.mbtiles\n",
      "MangroveExtent2020-Mozambique-Final-QA-v2.mbtiles\n",
      "MangroveExtent2020-Tanzania-Final-QA-v2.mbtiles\n"
     ]
    }
   ],
   "source": [
    "!ls {outFolder} | grep mbtiles"
   ]
  },
  {
   "cell_type": "code",
   "execution_count": 10,
   "id": "a5e21b97",
   "metadata": {},
   "outputs": [
    {
     "data": {
      "text/plain": [
       "2    498337\n",
       "1    348510\n",
       "3    139498\n",
       "Name: DN, dtype: int64"
      ]
     },
     "execution_count": 10,
     "metadata": {},
     "output_type": "execute_result"
    }
   ],
   "source": [
    "df_aus = geopandas.read_file(f'{outFolder}/AUS_mangrove_cover_2022.geojson')\n",
    "df_aus['DN'].value_counts()"
   ]
  },
  {
   "cell_type": "code",
   "execution_count": null,
   "id": "ca6f12b5",
   "metadata": {},
   "outputs": [],
   "source": [
    "#!npm install -g @mapbox/mbview  \n",
    "\n",
    "#!mbview $outputPath_mbtiles"
   ]
  }
 ],
 "metadata": {
  "kernelspec": {
   "display_name": "Python 3 (ipykernel)",
   "language": "python",
   "name": "python3"
  },
  "language_info": {
   "codemirror_mode": {
    "name": "ipython",
    "version": 3
   },
   "file_extension": ".py",
   "mimetype": "text/x-python",
   "name": "python",
   "nbconvert_exporter": "python",
   "pygments_lexer": "ipython3",
   "version": "3.8.6"
  }
 },
 "nbformat": 4,
 "nbformat_minor": 5
}
