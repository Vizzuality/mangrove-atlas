{
 "cells": [
  {
   "cell_type": "code",
   "execution_count": 4,
   "id": "ab1c6368",
   "metadata": {},
   "outputs": [],
   "source": [
    "import os\n",
    "from pathlib import Path\n",
    "import geopandas\n",
    "import subprocess\n",
    "import logging\n",
    "import requests\n",
    "import gzip\n",
    "import fiona\n",
    "from typing import Union\n",
    "from ipyleaflet import Map, GeoData, basemaps, LayersControl\n"
   ]
  },
  {
   "cell_type": "code",
   "execution_count": 5,
   "id": "bd59887f",
   "metadata": {},
   "outputs": [],
   "source": [
    "#  FIXME: This will depends from where the notebook kernel is running so be careful\n",
    "WORK_DIR = Path(os.getcwd())\n",
    "BASE_DIR = f\"{WORK_DIR.parents[4]}/work/datasets\"\n",
    "logging.basicConfig(level=logging.INFO)\n",
    "\n",
    "# @TODO: Add expected data files source as an environment variable.\n",
    "assert (\n",
    "    BASE_DIR == \"/home/jovyan/work/datasets\"\n",
    "), f\"{BASE_DIR} is not the correct directory\"\n",
    "\n",
    "input_dir = Path(f\"{BASE_DIR}/raw/extent-layer-creation\")\n",
    "output_dir = Path(f\"{BASE_DIR}/processed/extent-layer-creation\")\n",
    "\n",
    "input_dir.mkdir(parents=True, exist_ok=True)\n",
    "output_dir.mkdir(parents=True, exist_ok=True)\n",
    "\n",
    "## Path setup\n",
    "url = \"https://www.dropbox.com/s/g8n05ll44cy2od1/gmw_v3_fnl_mjr_v314.gpkg.gz?dl=0\"\n",
    "d_file = Path(f\"{input_dir}/gmw_v3_fnl_mjr_v314.gpkg.gz\")\n",
    "in_file = d_file.with_suffix(\"\")"
   ]
  },
  {
   "cell_type": "code",
   "execution_count": 6,
   "id": "7c79c9b5",
   "metadata": {},
   "outputs": [],
   "source": [
    "def downloadData(\n",
    "    file_path: str, download_url: str, update: bool = False\n",
    ") -> Union[int, str]:\n",
    "    \"\"\"\n",
    "    Download a file to a path.\n",
    "    Parameters\n",
    "    ----------\n",
    "    file_path : str - The path to the file to download.\n",
    "    update : bool, optional - If True, the file will be downloaded again even if it already exists.\n",
    "                            The default is False.\n",
    "\n",
    "    Returns\n",
    "    -------\n",
    "    int - 0 if the file was downloaded successfully, 1 if the file download failed.\n",
    "    \"\"\"\n",
    "    try:\n",
    "        if update or not os.path.exists(file_path):\n",
    "            logging.info(\"Downloading data...\")\n",
    "\n",
    "            response = requests.get(download_url, stream=True)\n",
    "\n",
    "            with open(file_path, \"wb\") as f:\n",
    "                for chunk in response.iter_content(chunk_size=128):\n",
    "                    f.write(chunk)\n",
    "        else:\n",
    "            logging.info(\"data already downloaded.\")\n",
    "\n",
    "        return 0\n",
    "    except Exception as e:\n",
    "        logging.error(e)\n",
    "        return 1\n"
   ]
  },
  {
   "cell_type": "code",
   "execution_count": 7,
   "id": "cdbd6b17",
   "metadata": {},
   "outputs": [],
   "source": [
    "def mbtilesGeneration(\n",
    "    data_path: Path, output_path: Union[Path, None] = None, update: bool = False\n",
    ") -> Path:\n",
    "    \"\"\"\n",
    "    Simplify geometry of a GeoDataFrame using tippecanoe.\n",
    "    Parameters\n",
    "    ----------\n",
    "    data_path : Path - The path to the GeoDataFrame to simplify.\n",
    "    output_path : Path - The path to the output GeoDataFrame.\n",
    "    update : bool, optional - If True, the output GeoDataFrame will be overwritten.\n",
    "                            The default is False.\n",
    "\n",
    "    Returns\n",
    "    -------\n",
    "    Path - The path to the generated mbtiles file.\n",
    "    \"\"\"\n",
    "    try:\n",
    "        assert data_path.exists(), \"Data path does not exist.\"\n",
    "\n",
    "        if not output_path:\n",
    "            output_path = data_path.with_suffix(\".mbtiles\")\n",
    "\n",
    "        if update or not output_path.exists():\n",
    "\n",
    "            if data_path.suffix != \".json\":\n",
    "                CMD = f'mapshaper {data_path} -clean allow-overlaps rewind -o format=geojson {data_path.with_suffix(\".json\")} force'\n",
    "                subprocess.run(CMD, shell=True, check=True)\n",
    "                data_path = data_path.with_suffix(\".json\")\n",
    "\n",
    "            assert data_path.suffix == \".json\", \"Data path must be a json file.\"\n",
    "\n",
    "            logging.info(\"Creating mbtiles file...\")\n",
    "\n",
    "            subprocess.run(\n",
    "                f\"tippecanoe -zg -f -P -o {output_path} --extend-zooms-if-still-dropping {data_path}\",\n",
    "                shell=True,\n",
    "                check=True,\n",
    "            )\n",
    "            data_path.unlink(exist_ok=True)\n",
    "\n",
    "        return output_path\n",
    "\n",
    "    except Exception as e:\n",
    "        logging.error(e)\n",
    "        return 1\n"
   ]
  },
  {
   "cell_type": "code",
   "execution_count": 8,
   "id": "135e4f11",
   "metadata": {},
   "outputs": [],
   "source": [
    "def transform_layer_json(source: Path, layer_name: str):\n",
    "    \n",
    "    # Reads source\n",
    "    if source.suffix == '.gz':\n",
    "        with gzip.open(source) as f:\n",
    "            layer = geopandas.read_file(f, driver=\"GPKG\", layer=layer_name)\n",
    "    elif source.suffix =='.gpkg':\n",
    "        layer = geopandas.read_file(source, driver=\"GPKG\", layer=layer_name)\n",
    "    else:\n",
    "        layer = geopandas.read_file(source)\n",
    "    \n",
    "    # Convert source into geojson\n",
    "    new_layer_path = source.parent.joinpath(layer_name).with_suffix(\".json\")\n",
    "    layer.to_file(new_layer_path, driver=\"GeoJSON\")\n",
    "    return new_layer_path\n"
   ]
  },
  {
   "cell_type": "code",
   "execution_count": 9,
   "id": "dfc572ff",
   "metadata": {},
   "outputs": [],
   "source": [
    "def transform_gpkg_layers_mbtiles(source: Path, layers_names: list):\n",
    "    \n",
    "    for layer_name in layers_names:\n",
    "        in_layer = transform_layer_json(source, layer_name)\n",
    "        out_file = Path(f\"{output_dir}/{in_layer.name}\").with_suffix(\".mbtiles\")\n",
    "        mbtilesGeneration(in_layer, out_file, update=True)"
   ]
  },
  {
   "cell_type": "markdown",
   "id": "d9d77649",
   "metadata": {},
   "source": [
    "### Tiles for extent layer creation pipe."
   ]
  },
  {
   "cell_type": "markdown",
   "id": "6c029101",
   "metadata": {},
   "source": [
    "Download the vector data\n"
   ]
  },
  {
   "cell_type": "code",
   "execution_count": 53,
   "id": "b907d475",
   "metadata": {},
   "outputs": [
    {
     "name": "stderr",
     "output_type": "stream",
     "text": [
      "INFO:root:Downloading data...\n"
     ]
    },
    {
     "data": {
      "text/plain": [
       "0"
      ]
     },
     "execution_count": 53,
     "metadata": {},
     "output_type": "execute_result"
    }
   ],
   "source": [
    "r = requests.post(\n",
    "    \"https://www.dropbox.com/sharing/fetch_user_content_link\",\n",
    "    data={\"is_xhr\": True, \"t\": \"J2MB3dUwoB7nchfSip2OOjnR\", \"url\": url, \"origin\": \"\"},\n",
    "    headers={\"content-type\": \"application/x-www-form-urlencoded; charset=UTF-8\"},\n",
    "    cookies={\n",
    "        \"gvc\": \"J2MB3dUwoB7nchfSip2OOjnR\",\n",
    "        \"t\": \"J2MB3dUwoB7nchfSip2OOjnR\",\n",
    "        \"__Host-js_csrf\": \"J2MB3dUwoB7nchfSip2OOjnR\",\n",
    "        \"__Host-ss\": \"60irgIKG-k\",\n",
    "        \"locale\": \"en\",\n",
    "        \"__Host-logged-out-session\": \"ChD5IC9J1UubKzaH1kNpzIlyEOvw%2F5YGGi5BRC13a2RIUlJxeV80SHVOWFpEcWJoQXhfQ1J3NDMybGh1bTRrWnRSTE5ZWHhB\",\n",
    "    },\n",
    ")\n",
    "download_url = r.text\n",
    "\n",
    "downloadData(d_file, download_url, True)\n"
   ]
  },
  {
   "cell_type": "markdown",
   "id": "04c94087",
   "metadata": {},
   "source": [
    "### Converting to json\n"
   ]
  },
  {
   "cell_type": "code",
   "execution_count": 10,
   "id": "5734141c",
   "metadata": {},
   "outputs": [],
   "source": [
    "layers = fiona.listlayers(in_file)"
   ]
  },
  {
   "cell_type": "markdown",
   "id": "0f6604df",
   "metadata": {},
   "source": [
    "MBtile generation"
   ]
  },
  {
   "cell_type": "code",
   "execution_count": 11,
   "id": "4970ea84",
   "metadata": {},
   "outputs": [
    {
     "name": "stderr",
     "output_type": "stream",
     "text": [
      "INFO:root:Creating mbtiles file...\n",
      "For layer 0, using name \"mng_mjr_1996\"\n",
      "/home/jovyan/work/datasets/raw/extent-layer-creation/mng_mjr_1996.json:74605: Found ] at top level\n",
      "/home/jovyan/work/datasets/raw/extent-layer-creation/mng_mjr_1996.json:63649: Reached EOF without all containers being closed\n",
      "In JSON object {\"type\":\"FeatureCollection\",\"crs\":{\"type\":\"name\",\"properties\":{\"name\":\"urn:ogc:def:crs:OGC:1.3:CRS84\"}},\"features\":[]}\n",
      "1121419 features, 241475136 bytes of geometry, 3364273 bytes of separate metadata, 176 bytes of string pool\n",
      "Choosing a maxzoom of -z8 for features about 1100 feet (336 meters) apart\n",
      "Choosing a maxzoom of -z11 for resolution of about 150 feet (45 meters) within features\n",
      "  99.9%  11/1595/995   \n",
      "ERROR:root:unlink() got an unexpected keyword argument 'exist_ok'\n",
      "INFO:root:Creating mbtiles file...\n",
      "For layer 0, using name \"mng_mjr_2007\"\n",
      "/home/jovyan/work/datasets/raw/extent-layer-creation/mng_mjr_2007.json:80453: Found ] at top level\n",
      "/home/jovyan/work/datasets/raw/extent-layer-creation/mng_mjr_2007.json:88135: Reached EOF without all containers being closed\n",
      "In JSON object {\"type\":\"FeatureCollection\",\"crs\":{\"type\":\"name\",\"properties\":{\"name\":\"urn:ogc:def:crs:OGC:1.3:CRS84\"}},\"features\":[]}\n",
      "1275008 features, 240187128 bytes of geometry, 3825040 bytes of separate metadata, 176 bytes of string pool\n",
      "Choosing a maxzoom of -z9 for features about 953 feet (291 meters) apart\n",
      "Choosing a maxzoom of -z11 for resolution of about 150 feet (45 meters) within features\n",
      "  99.9%  11/1731/1119  \n",
      "ERROR:root:unlink() got an unexpected keyword argument 'exist_ok'\n",
      "INFO:root:Creating mbtiles file...\n",
      "For layer 0, using name \"mng_mjr_2008\"\n",
      "/home/jovyan/work/datasets/raw/extent-layer-creation/mng_mjr_2008.json:83003: Reached EOF without all containers being closed\n",
      "In JSON object {\"type\":\"FeatureCollection\",\"crs\":{\"type\":\"name\",\"properties\":{\"name\":\"urn:ogc:def:crs:OGC:1.3:CRS84\"}},\"features\":[]}\n",
      "/home/jovyan/work/datasets/raw/extent-layer-creation/mng_mjr_2008.json:77901: Found ] at top level\n",
      "1283759 features, 236496224 bytes of geometry, 3851293 bytes of separate metadata, 176 bytes of string pool\n",
      "Choosing a maxzoom of -z9 for features about 957 feet (292 meters) apart\n",
      "Choosing a maxzoom of -z11 for resolution of about 151 feet (46 meters) within features\n",
      "  99.9%  11/1608/1018  \n",
      "ERROR:root:unlink() got an unexpected keyword argument 'exist_ok'\n",
      "INFO:root:Creating mbtiles file...\n",
      "For layer 0, using name \"mng_mjr_2009\"\n",
      "/home/jovyan/work/datasets/raw/extent-layer-creation/mng_mjr_2009.json:83293: Reached EOF without all containers being closed\n",
      "In JSON object {\"type\":\"FeatureCollection\",\"crs\":{\"type\":\"name\",\"properties\":{\"name\":\"urn:ogc:def:crs:OGC:1.3:CRS84\"}},\"features\":[]}\n",
      "/home/jovyan/work/datasets/raw/extent-layer-creation/mng_mjr_2009.json:72081: Found ] at top level\n",
      "1188779 features, 232017232 bytes of geometry, 3566353 bytes of separate metadata, 176 bytes of string pool\n",
      "Choosing a maxzoom of -z8 for features about 1030 feet (314 meters) apart\n",
      "Choosing a maxzoom of -z11 for resolution of about 151 feet (46 meters) within features\n",
      "  99.9%  11/930/947    \n",
      "ERROR:root:unlink() got an unexpected keyword argument 'exist_ok'\n",
      "INFO:root:Creating mbtiles file...\n",
      "For layer 0, using name \"mng_mjr_2010\"\n",
      "/home/jovyan/work/datasets/raw/extent-layer-creation/mng_mjr_2010.json:59640: Reached EOF without all containers being closed\n",
      "In JSON object {\"type\":\"FeatureCollection\",\"crs\":{\"type\":\"name\",\"properties\":{\"name\":\"urn:ogc:def:crs:OGC:1.3:CRS84\"}},\"features\":[]}\n",
      "/home/jovyan/work/datasets/raw/extent-layer-creation/mng_mjr_2010.json:77935: Found ] at top level\n",
      "1163074 features, 230467753 bytes of geometry, 3489238 bytes of separate metadata, 176 bytes of string pool\n",
      "Choosing a maxzoom of -z8 for features about 1056 feet (322 meters) apart\n",
      "Choosing a maxzoom of -z11 for resolution of about 151 feet (46 meters) within features\n",
      "  99.9%  11/948/971    \n",
      "ERROR:root:unlink() got an unexpected keyword argument 'exist_ok'\n",
      "INFO:root:Creating mbtiles file...\n",
      "For layer 0, using name \"mng_mjr_2015\"\n",
      "/home/jovyan/work/datasets/raw/extent-layer-creation/mng_mjr_2015.json:73978: Reached EOF without all containers being closed\n",
      "In JSON object {\"type\":\"FeatureCollection\",\"crs\":{\"type\":\"name\",\"properties\":{\"name\":\"urn:ogc:def:crs:OGC:1.3:CRS84\"}},\"features\":[]}\n",
      "/home/jovyan/work/datasets/raw/extent-layer-creation/mng_mjr_2015.json:65789: Found ] at top level\n",
      "1185807 features, 232321628 bytes of geometry, 3557437 bytes of separate metadata, 176 bytes of string pool\n",
      "Choosing a maxzoom of -z8 for features about 1046 feet (319 meters) apart\n",
      "Choosing a maxzoom of -z11 for resolution of about 151 feet (46 meters) within features\n",
      "  99.9%  11/509/907    \n",
      "ERROR:root:unlink() got an unexpected keyword argument 'exist_ok'\n",
      "INFO:root:Creating mbtiles file...\n",
      "For layer 0, using name \"mng_mjr_2016\"\n",
      "/home/jovyan/work/datasets/raw/extent-layer-creation/mng_mjr_2016.json:72983: Found ] at top level\n",
      "/home/jovyan/work/datasets/raw/extent-layer-creation/mng_mjr_2016.json:72723: Reached EOF without all containers being closed\n",
      "In JSON object {\"type\":\"FeatureCollection\",\"crs\":{\"type\":\"name\",\"properties\":{\"name\":\"urn:ogc:def:crs:OGC:1.3:CRS84\"}},\"features\":[]}\n",
      "1170277 features, 231681012 bytes of geometry, 3510847 bytes of separate metadata, 176 bytes of string pool\n",
      "Choosing a maxzoom of -z8 for features about 1070 feet (327 meters) apart\n",
      "Choosing a maxzoom of -z11 for resolution of about 151 feet (46 meters) within features\n",
      "  99.9%  11/672/968    \n",
      "ERROR:root:unlink() got an unexpected keyword argument 'exist_ok'\n",
      "INFO:root:Creating mbtiles file...\n",
      "For layer 0, using name \"mng_mjr_2017\"\n",
      "/home/jovyan/work/datasets/raw/extent-layer-creation/mng_mjr_2017.json:63853: Reached EOF without all containers being closed\n",
      "In JSON object {\"type\":\"FeatureCollection\",\"crs\":{\"type\":\"name\",\"properties\":{\"name\":\"urn:ogc:def:crs:OGC:1.3:CRS84\"}},\"features\":[]}\n",
      "/home/jovyan/work/datasets/raw/extent-layer-creation/mng_mjr_2017.json:65011: Found ] at top level\n",
      "1146256 features, 230068583 bytes of geometry, 3438784 bytes of separate metadata, 176 bytes of string pool\n",
      "Choosing a maxzoom of -z8 for features about 1084 feet (331 meters) apart\n",
      "Choosing a maxzoom of -z11 for resolution of about 152 feet (46 meters) within features\n",
      "  99.9%  11/1228/1133  \n",
      "ERROR:root:unlink() got an unexpected keyword argument 'exist_ok'\n",
      "INFO:root:Creating mbtiles file...\n",
      "For layer 0, using name \"mng_mjr_2018\"\n",
      "/home/jovyan/work/datasets/raw/extent-layer-creation/mng_mjr_2018.json:69172: Found ] at top level\n",
      "/home/jovyan/work/datasets/raw/extent-layer-creation/mng_mjr_2018.json:66859: Reached EOF without all containers being closed\n",
      "In JSON object {\"type\":\"FeatureCollection\",\"crs\":{\"type\":\"name\",\"properties\":{\"name\":\"urn:ogc:def:crs:OGC:1.3:CRS84\"}},\"features\":[]}\n",
      "1109115 features, 228339468 bytes of geometry, 3327361 bytes of separate metadata, 176 bytes of string pool\n",
      "Choosing a maxzoom of -z8 for features about 1112 feet (339 meters) apart\n",
      "Choosing a maxzoom of -z11 for resolution of about 152 feet (46 meters) within features\n",
      "  99.9%  11/1221/1142  \n",
      "ERROR:root:unlink() got an unexpected keyword argument 'exist_ok'\n",
      "INFO:root:Creating mbtiles file...\n",
      "For layer 0, using name \"mng_mjr_2019\"\n",
      "/home/jovyan/work/datasets/raw/extent-layer-creation/mng_mjr_2019.json:66414: Found ] at top level\n",
      "/home/jovyan/work/datasets/raw/extent-layer-creation/mng_mjr_2019.json:60150: Reached EOF without all containers being closed\n",
      "In JSON object {\"type\":\"FeatureCollection\",\"crs\":{\"type\":\"name\",\"properties\":{\"name\":\"urn:ogc:def:crs:OGC:1.3:CRS84\"}},\"features\":[]}\n",
      "1068311 features, 225496643 bytes of geometry, 3204949 bytes of separate metadata, 176 bytes of string pool\n",
      "Choosing a maxzoom of -z8 for features about 1151 feet (351 meters) apart\n",
      "Choosing a maxzoom of -z11 for resolution of about 152 feet (46 meters) within features\n",
      "  99.9%  11/1611/1024  \n",
      "ERROR:root:unlink() got an unexpected keyword argument 'exist_ok'\n",
      "INFO:root:Creating mbtiles file...\n",
      "For layer 0, using name \"mng_mjr_2020\"\n",
      "/home/jovyan/work/datasets/raw/extent-layer-creation/mng_mjr_2020.json:63870: Reached EOF without all containers being closed\n",
      "In JSON object {\"type\":\"FeatureCollection\",\"crs\":{\"type\":\"name\",\"properties\":{\"name\":\"urn:ogc:def:crs:OGC:1.3:CRS84\"}},\"features\":[]}\n",
      "/home/jovyan/work/datasets/raw/extent-layer-creation/mng_mjr_2020.json:55923: Found ] at top level\n",
      "1076117 features, 228044981 bytes of geometry, 3228367 bytes of separate metadata, 176 bytes of string pool\n",
      "Choosing a maxzoom of -z8 for features about 1168 feet (356 meters) apart\n",
      "Choosing a maxzoom of -z11 for resolution of about 152 feet (46 meters) within features\n",
      "  99.9%  11/1063/998   \n",
      "ERROR:root:unlink() got an unexpected keyword argument 'exist_ok'\n"
     ]
    }
   ],
   "source": [
    "transform_gpkg_layers_mbtiles(in_file, layers)"
   ]
  },
  {
   "cell_type": "code",
   "execution_count": null,
   "id": "3f38818e",
   "metadata": {},
   "outputs": [],
   "source": [
    "#!npm install -g @mapbox/mbview\n",
    "\n",
    "#!mbview $outputPath_mbtiles\n"
   ]
  }
 ],
 "metadata": {
  "kernelspec": {
   "display_name": "Python 3 (ipykernel)",
   "language": "python",
   "name": "python3"
  },
  "language_info": {
   "codemirror_mode": {
    "name": "ipython",
    "version": 3
   },
   "file_extension": ".py",
   "mimetype": "text/x-python",
   "name": "python",
   "nbconvert_exporter": "python",
   "pygments_lexer": "ipython3",
   "version": "3.8.6"
  }
 },
 "nbformat": 4,
 "nbformat_minor": 5
}
