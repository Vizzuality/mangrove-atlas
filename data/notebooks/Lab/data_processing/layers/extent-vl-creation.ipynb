{
 "cells": [
  {
   "cell_type": "code",
   "execution_count": 1,
   "id": "ab1c6368",
   "metadata": {},
   "outputs": [],
   "source": [
    "import os\n",
    "from pathlib import Path\n",
    "import geopandas\n",
    "import subprocess\n",
    "import logging\n",
    "import requests\n",
    "import gzip\n",
    "import fiona\n",
    "from typing import Union\n",
    "from ipyleaflet import Map, GeoData, basemaps, LayersControl\n"
   ]
  },
  {
   "cell_type": "code",
   "execution_count": 4,
   "id": "bd59887f",
   "metadata": {},
   "outputs": [],
   "source": [
    "#  FIXME: This will depends from where the notebook kernel is running so be careful\n",
    "WORK_DIR = Path(os.getcwd())\n",
    "BASE_DIR = f\"{WORK_DIR.parents[4]}/work/datasets\"\n",
    "logging.basicConfig(level=logging.INFO)\n",
    "\n",
    "# @TODO: Add expected data files source as an environment variable.\n",
    "assert (\n",
    "    BASE_DIR == \"/home/jovyan/work/datasets\"\n",
    "), f\"{BASE_DIR} is not the correct directory\"\n",
    "\n",
    "input_dir = Path(f\"{BASE_DIR}/raw/extent-layer-creation\")\n",
    "output_dir = Path(f\"{BASE_DIR}/processed/extent-layer-creation\")\n",
    "\n",
    "input_dir.mkdir(parents=True, exist_ok=True)\n",
    "output_dir.mkdir(parents=True, exist_ok=True)\n",
    "\n",
    "## Path setup\n",
    "url = \"https://www.dropbox.com/s/g8n05ll44cy2od1/gmw_v3_fnl_mjr_v314.gpkg.gz?dl=0\"\n",
    "d_file = Path(f\"{input_dir}/gmw_v3_fnl_mjr_v314.gpkg.gz\")\n",
    "in_file = d_file.with_suffix(\"\")"
   ]
  },
  {
   "cell_type": "code",
   "execution_count": 6,
   "id": "7c79c9b5",
   "metadata": {},
   "outputs": [],
   "source": [
    "def downloadData(\n",
    "    file_path: str, download_url: str, update: bool = False\n",
    ") -> Union[int, str]:\n",
    "    \"\"\"\n",
    "    Download a file to a path.\n",
    "    Parameters\n",
    "    ----------\n",
    "    file_path : str - The path to the file to download.\n",
    "    update : bool, optional - If True, the file will be downloaded again even if it already exists.\n",
    "                            The default is False.\n",
    "\n",
    "    Returns\n",
    "    -------\n",
    "    int - 0 if the file was downloaded successfully, 1 if the file download failed.\n",
    "    \"\"\"\n",
    "    try:\n",
    "        if update or not os.path.exists(file_path):\n",
    "            logging.info(\"Downloading data...\")\n",
    "\n",
    "            response = requests.get(download_url, stream=True)\n",
    "\n",
    "            with open(file_path, \"wb\") as f:\n",
    "                for chunk in response.iter_content(chunk_size=128):\n",
    "                    f.write(chunk)\n",
    "        else:\n",
    "            logging.info(\"data already downloaded.\")\n",
    "\n",
    "        return 0\n",
    "    except Exception as e:\n",
    "        logging.error(e)\n",
    "        return 1\n"
   ]
  },
  {
   "cell_type": "code",
   "execution_count": 7,
   "id": "cdbd6b17",
   "metadata": {},
   "outputs": [],
   "source": [
    "def mbtilesGeneration(\n",
    "    data_path: Path, output_path: Union[Path, None] = None, update: bool = False\n",
    ") -> Path:\n",
    "    \"\"\"\n",
    "    Simplify geometry of a GeoDataFrame using tippecanoe.\n",
    "    Parameters\n",
    "    ----------\n",
    "    data_path : Path - The path to the GeoDataFrame to simplify.\n",
    "    output_path : Path - The path to the output GeoDataFrame.\n",
    "    update : bool, optional - If True, the output GeoDataFrame will be overwritten.\n",
    "                            The default is False.\n",
    "\n",
    "    Returns\n",
    "    -------\n",
    "    Path - The path to the generated mbtiles file.\n",
    "    \"\"\"\n",
    "    try:\n",
    "        assert data_path.exists(), \"Data path does not exist.\"\n",
    "\n",
    "        if not output_path:\n",
    "            output_path = data_path.with_suffix(\".mbtiles\")\n",
    "\n",
    "        if update or not output_path.exists():\n",
    "\n",
    "            if data_path.suffix != \".json\":\n",
    "                CMD = f'mapshaper {data_path} -clean allow-overlaps rewind -o format=geojson {data_path.with_suffix(\".json\")} force'\n",
    "                subprocess.run(CMD, shell=True, check=True)\n",
    "                data_path = data_path.with_suffix(\".json\")\n",
    "\n",
    "            assert data_path.suffix == \".json\", \"Data path must be a json file.\"\n",
    "\n",
    "            logging.info(\"Creating mbtiles file...\")\n",
    "\n",
    "            subprocess.run(\n",
    "                f\"tippecanoe -zg -f -P -o {output_path} --extend-zooms-if-still-dropping {data_path}\",\n",
    "                shell=True,\n",
    "                check=True,\n",
    "            )\n",
    "            data_path.unlink(exist_ok=True)\n",
    "\n",
    "        return output_path\n",
    "\n",
    "    except Exception as e:\n",
    "        logging.error(e)\n",
    "        return 1\n"
   ]
  },
  {
   "cell_type": "code",
   "execution_count": 21,
   "id": "135e4f11",
   "metadata": {},
   "outputs": [],
   "source": [
    "def transform_layer_json(source: Path, layer_name: str):\n",
    "    \n",
    "    # Reads source\n",
    "    if source.suffix == '.gz':\n",
    "        with gzip.open(source) as f:\n",
    "            layer = geopandas.read_file(f, driver=\"GPKG\", layer=layer_name)\n",
    "    elif source.suffix =='.gpkg':\n",
    "        layer = geopandas.read_file(source, driver=\"GPKG\", layer=layer_name)\n",
    "    else:\n",
    "        layer = geopandas.read_file(source)\n",
    "    \n",
    "    # Convert source into geojson\n",
    "    new_layer_path = source.parent.joinpath(layer_name).with_suffix(\".json\")\n",
    "    layer.to_file(new_layer_path, driver=\"GeoJSON\")\n",
    "    return new_layer_path\n"
   ]
  },
  {
   "cell_type": "code",
   "execution_count": 17,
   "id": "dfc572ff",
   "metadata": {},
   "outputs": [],
   "source": [
    "def transform_gpkg_layers_mbtiles(source: Path, layers_names: list):\n",
    "    \n",
    "    for layer_name in layers_names:\n",
    "        in_layer = transform_layer_json(source, layer_name)\n",
    "        out_file = Path(f\"{output_dir}/{in_layer.name}\").with_suffix(\".mbtiles\")\n",
    "        mbtilesGeneration(in_layer, out_file, update=True)"
   ]
  },
  {
   "cell_type": "markdown",
   "id": "d9d77649",
   "metadata": {},
   "source": [
    "### Tiles for extent layer creation pipe."
   ]
  },
  {
   "cell_type": "markdown",
   "id": "6c029101",
   "metadata": {},
   "source": [
    "Download the vector data\n"
   ]
  },
  {
   "cell_type": "code",
   "execution_count": 53,
   "id": "b907d475",
   "metadata": {},
   "outputs": [
    {
     "name": "stderr",
     "output_type": "stream",
     "text": [
      "INFO:root:Downloading data...\n"
     ]
    },
    {
     "data": {
      "text/plain": [
       "0"
      ]
     },
     "execution_count": 53,
     "metadata": {},
     "output_type": "execute_result"
    }
   ],
   "source": [
    "r = requests.post(\n",
    "    \"https://www.dropbox.com/sharing/fetch_user_content_link\",\n",
    "    data={\"is_xhr\": True, \"t\": \"J2MB3dUwoB7nchfSip2OOjnR\", \"url\": url, \"origin\": \"\"},\n",
    "    headers={\"content-type\": \"application/x-www-form-urlencoded; charset=UTF-8\"},\n",
    "    cookies={\n",
    "        \"gvc\": \"J2MB3dUwoB7nchfSip2OOjnR\",\n",
    "        \"t\": \"J2MB3dUwoB7nchfSip2OOjnR\",\n",
    "        \"__Host-js_csrf\": \"J2MB3dUwoB7nchfSip2OOjnR\",\n",
    "        \"__Host-ss\": \"60irgIKG-k\",\n",
    "        \"locale\": \"en\",\n",
    "        \"__Host-logged-out-session\": \"ChD5IC9J1UubKzaH1kNpzIlyEOvw%2F5YGGi5BRC13a2RIUlJxeV80SHVOWFpEcWJoQXhfQ1J3NDMybGh1bTRrWnRSTE5ZWHhB\",\n",
    "    },\n",
    ")\n",
    "download_url = r.text\n",
    "\n",
    "downloadData(d_file, download_url, True)\n"
   ]
  },
  {
   "cell_type": "markdown",
   "id": "04c94087",
   "metadata": {},
   "source": [
    "### Converting to json\n"
   ]
  },
  {
   "cell_type": "code",
   "execution_count": 18,
   "id": "5734141c",
   "metadata": {},
   "outputs": [],
   "source": [
    "layers = fiona.listlayers(in_file)"
   ]
  },
  {
   "cell_type": "markdown",
   "id": "0f6604df",
   "metadata": {},
   "source": [
    "MBtile generation"
   ]
  },
  {
   "cell_type": "code",
   "execution_count": 22,
   "id": "4970ea84",
   "metadata": {},
   "outputs": [
    {
     "name": "stderr",
     "output_type": "stream",
     "text": [
      "INFO:root:Creating mbtiles file...\n",
      "For layer 0, using name \"mng_mjr_1996\"\n",
      "/home/jovyan/work/datasets/raw/extent-layer-creation/mng_mjr_1996.json:74605: Found ] at top level\n",
      "/home/jovyan/work/datasets/raw/extent-layer-creation/mng_mjr_1996.json:63649: Reached EOF without all containers being closed\n",
      "In JSON object {\"type\":\"FeatureCollection\",\"crs\":{\"type\":\"name\",\"properties\":{\"name\":\"urn:ogc:def:crs:OGC:1.3:CRS84\"}},\"features\":[]}\n",
      "1121419 features, 241475136 bytes of geometry, 3364273 bytes of separate metadata, 176 bytes of string pool\n",
      "Choosing a maxzoom of -z8 for features about 1100 feet (336 meters) apart\n",
      "Choosing a maxzoom of -z11 for resolution of about 150 feet (45 meters) within features\n",
      "  99.9%  11/929/950    \n",
      "ERROR:root:unlink() got an unexpected keyword argument 'exist_ok'\n"
     ]
    },
    {
     "ename": "KeyboardInterrupt",
     "evalue": "",
     "output_type": "error",
     "traceback": [
      "\u001b[0;31m---------------------------------------------------------------------------\u001b[0m",
      "\u001b[0;31mKeyboardInterrupt\u001b[0m                         Traceback (most recent call last)",
      "Input \u001b[0;32mIn [22]\u001b[0m, in \u001b[0;36m<cell line: 1>\u001b[0;34m()\u001b[0m\n\u001b[0;32m----> 1\u001b[0m \u001b[43mtransform_gpkg_layers_mbtiles\u001b[49m\u001b[43m(\u001b[49m\u001b[43min_file\u001b[49m\u001b[43m,\u001b[49m\u001b[43m \u001b[49m\u001b[43mlayers\u001b[49m\u001b[43m)\u001b[49m\n",
      "Input \u001b[0;32mIn [17]\u001b[0m, in \u001b[0;36mtransform_gpkg_layers_mbtiles\u001b[0;34m(source, layers_names)\u001b[0m\n\u001b[1;32m      1\u001b[0m \u001b[38;5;28;01mdef\u001b[39;00m \u001b[38;5;21mtransform_gpkg_layers_mbtiles\u001b[39m(source: Path, layers_names: \u001b[38;5;28mlist\u001b[39m):\n\u001b[1;32m      3\u001b[0m     \u001b[38;5;28;01mfor\u001b[39;00m layer_name \u001b[38;5;129;01min\u001b[39;00m layers_names:\n\u001b[0;32m----> 4\u001b[0m         in_layer \u001b[38;5;241m=\u001b[39m \u001b[43mtransform_layer_json\u001b[49m\u001b[43m(\u001b[49m\u001b[43msource\u001b[49m\u001b[43m,\u001b[49m\u001b[43m \u001b[49m\u001b[43mlayer_name\u001b[49m\u001b[43m)\u001b[49m\n\u001b[1;32m      5\u001b[0m         out_file \u001b[38;5;241m=\u001b[39m Path(\u001b[38;5;124mf\u001b[39m\u001b[38;5;124m\"\u001b[39m\u001b[38;5;132;01m{\u001b[39;00moutput_dir\u001b[38;5;132;01m}\u001b[39;00m\u001b[38;5;124m/\u001b[39m\u001b[38;5;132;01m{\u001b[39;00min_layer\u001b[38;5;241m.\u001b[39mname\u001b[38;5;132;01m}\u001b[39;00m\u001b[38;5;124m\"\u001b[39m)\u001b[38;5;241m.\u001b[39mwith_suffix(\u001b[38;5;124m\"\u001b[39m\u001b[38;5;124m.mbtiles\u001b[39m\u001b[38;5;124m\"\u001b[39m)\n\u001b[1;32m      6\u001b[0m         mbtilesGeneration(in_layer, out_file, update\u001b[38;5;241m=\u001b[39m\u001b[38;5;28;01mTrue\u001b[39;00m)\n",
      "Input \u001b[0;32mIn [21]\u001b[0m, in \u001b[0;36mtransform_layer_json\u001b[0;34m(source, layer_name)\u001b[0m\n\u001b[1;32m      6\u001b[0m         layer \u001b[38;5;241m=\u001b[39m geopandas\u001b[38;5;241m.\u001b[39mread_file(f, driver\u001b[38;5;241m=\u001b[39m\u001b[38;5;124m\"\u001b[39m\u001b[38;5;124mGPKG\u001b[39m\u001b[38;5;124m\"\u001b[39m, layer\u001b[38;5;241m=\u001b[39mlayer_name)\n\u001b[1;32m      7\u001b[0m \u001b[38;5;28;01melif\u001b[39;00m source\u001b[38;5;241m.\u001b[39msuffix \u001b[38;5;241m==\u001b[39m\u001b[38;5;124m'\u001b[39m\u001b[38;5;124m.gpkg\u001b[39m\u001b[38;5;124m'\u001b[39m:\n\u001b[0;32m----> 8\u001b[0m     layer \u001b[38;5;241m=\u001b[39m \u001b[43mgeopandas\u001b[49m\u001b[38;5;241;43m.\u001b[39;49m\u001b[43mread_file\u001b[49m\u001b[43m(\u001b[49m\u001b[43msource\u001b[49m\u001b[43m,\u001b[49m\u001b[43m \u001b[49m\u001b[43mdriver\u001b[49m\u001b[38;5;241;43m=\u001b[39;49m\u001b[38;5;124;43m\"\u001b[39;49m\u001b[38;5;124;43mGPKG\u001b[39;49m\u001b[38;5;124;43m\"\u001b[39;49m\u001b[43m,\u001b[49m\u001b[43m \u001b[49m\u001b[43mlayer\u001b[49m\u001b[38;5;241;43m=\u001b[39;49m\u001b[43mlayer_name\u001b[49m\u001b[43m)\u001b[49m\n\u001b[1;32m      9\u001b[0m \u001b[38;5;28;01melse\u001b[39;00m:\n\u001b[1;32m     10\u001b[0m     layer \u001b[38;5;241m=\u001b[39m geopandas\u001b[38;5;241m.\u001b[39mread_file(source)\n",
      "File \u001b[0;32m/opt/conda/lib/python3.8/site-packages/geopandas/io/file.py:244\u001b[0m, in \u001b[0;36m_read_file\u001b[0;34m(filename, bbox, mask, rows, **kwargs)\u001b[0m\n\u001b[1;32m    239\u001b[0m \u001b[38;5;28;01mif\u001b[39;00m kwargs\u001b[38;5;241m.\u001b[39mget(\u001b[38;5;124m\"\u001b[39m\u001b[38;5;124mignore_geometry\u001b[39m\u001b[38;5;124m\"\u001b[39m, \u001b[38;5;28;01mFalse\u001b[39;00m):\n\u001b[1;32m    240\u001b[0m     \u001b[38;5;28;01mreturn\u001b[39;00m pd\u001b[38;5;241m.\u001b[39mDataFrame(\n\u001b[1;32m    241\u001b[0m         [record[\u001b[38;5;124m\"\u001b[39m\u001b[38;5;124mproperties\u001b[39m\u001b[38;5;124m\"\u001b[39m] \u001b[38;5;28;01mfor\u001b[39;00m record \u001b[38;5;129;01min\u001b[39;00m f_filt], columns\u001b[38;5;241m=\u001b[39mcolumns\n\u001b[1;32m    242\u001b[0m     )\n\u001b[0;32m--> 244\u001b[0m \u001b[38;5;28;01mreturn\u001b[39;00m \u001b[43mGeoDataFrame\u001b[49m\u001b[38;5;241;43m.\u001b[39;49m\u001b[43mfrom_features\u001b[49m\u001b[43m(\u001b[49m\n\u001b[1;32m    245\u001b[0m \u001b[43m    \u001b[49m\u001b[43mf_filt\u001b[49m\u001b[43m,\u001b[49m\u001b[43m \u001b[49m\u001b[43mcrs\u001b[49m\u001b[38;5;241;43m=\u001b[39;49m\u001b[43mcrs\u001b[49m\u001b[43m,\u001b[49m\u001b[43m \u001b[49m\u001b[43mcolumns\u001b[49m\u001b[38;5;241;43m=\u001b[39;49m\u001b[43mcolumns\u001b[49m\u001b[43m \u001b[49m\u001b[38;5;241;43m+\u001b[39;49m\u001b[43m \u001b[49m\u001b[43m[\u001b[49m\u001b[38;5;124;43m\"\u001b[39;49m\u001b[38;5;124;43mgeometry\u001b[39;49m\u001b[38;5;124;43m\"\u001b[39;49m\u001b[43m]\u001b[49m\n\u001b[1;32m    246\u001b[0m \u001b[43m\u001b[49m\u001b[43m)\u001b[49m\n",
      "File \u001b[0;32m/opt/conda/lib/python3.8/site-packages/geopandas/geodataframe.py:605\u001b[0m, in \u001b[0;36mGeoDataFrame.from_features\u001b[0;34m(cls, features, crs, columns)\u001b[0m\n\u001b[1;32m    602\u001b[0m \u001b[38;5;28;01mif\u001b[39;00m \u001b[38;5;28mhasattr\u001b[39m(feature, \u001b[38;5;124m\"\u001b[39m\u001b[38;5;124m__geo_interface__\u001b[39m\u001b[38;5;124m\"\u001b[39m):\n\u001b[1;32m    603\u001b[0m     feature \u001b[38;5;241m=\u001b[39m feature\u001b[38;5;241m.\u001b[39m__geo_interface__\n\u001b[1;32m    604\u001b[0m row \u001b[38;5;241m=\u001b[39m {\n\u001b[0;32m--> 605\u001b[0m     \u001b[38;5;124m\"\u001b[39m\u001b[38;5;124mgeometry\u001b[39m\u001b[38;5;124m\"\u001b[39m: \u001b[43mshape\u001b[49m\u001b[43m(\u001b[49m\u001b[43mfeature\u001b[49m\u001b[43m[\u001b[49m\u001b[38;5;124;43m\"\u001b[39;49m\u001b[38;5;124;43mgeometry\u001b[39;49m\u001b[38;5;124;43m\"\u001b[39;49m\u001b[43m]\u001b[49m\u001b[43m)\u001b[49m \u001b[38;5;28;01mif\u001b[39;00m feature[\u001b[38;5;124m\"\u001b[39m\u001b[38;5;124mgeometry\u001b[39m\u001b[38;5;124m\"\u001b[39m] \u001b[38;5;28;01melse\u001b[39;00m \u001b[38;5;28;01mNone\u001b[39;00m\n\u001b[1;32m    606\u001b[0m }\n\u001b[1;32m    607\u001b[0m \u001b[38;5;66;03m# load properties\u001b[39;00m\n\u001b[1;32m    608\u001b[0m row\u001b[38;5;241m.\u001b[39mupdate(feature[\u001b[38;5;124m\"\u001b[39m\u001b[38;5;124mproperties\u001b[39m\u001b[38;5;124m\"\u001b[39m])\n",
      "File \u001b[0;32m/opt/conda/lib/python3.8/site-packages/shapely/geometry/geo.py:112\u001b[0m, in \u001b[0;36mshape\u001b[0;34m(context)\u001b[0m\n\u001b[1;32m    110\u001b[0m     \u001b[38;5;28;01mreturn\u001b[39;00m LinearRing(ob[\u001b[38;5;124m\"\u001b[39m\u001b[38;5;124mcoordinates\u001b[39m\u001b[38;5;124m\"\u001b[39m])\n\u001b[1;32m    111\u001b[0m \u001b[38;5;28;01melif\u001b[39;00m geom_type \u001b[38;5;241m==\u001b[39m \u001b[38;5;124m\"\u001b[39m\u001b[38;5;124mpolygon\u001b[39m\u001b[38;5;124m\"\u001b[39m:\n\u001b[0;32m--> 112\u001b[0m     \u001b[38;5;28;01mreturn\u001b[39;00m \u001b[43mPolygon\u001b[49m\u001b[43m(\u001b[49m\u001b[43mob\u001b[49m\u001b[43m[\u001b[49m\u001b[38;5;124;43m\"\u001b[39;49m\u001b[38;5;124;43mcoordinates\u001b[39;49m\u001b[38;5;124;43m\"\u001b[39;49m\u001b[43m]\u001b[49m\u001b[43m[\u001b[49m\u001b[38;5;241;43m0\u001b[39;49m\u001b[43m]\u001b[49m\u001b[43m,\u001b[49m\u001b[43m \u001b[49m\u001b[43mob\u001b[49m\u001b[43m[\u001b[49m\u001b[38;5;124;43m\"\u001b[39;49m\u001b[38;5;124;43mcoordinates\u001b[39;49m\u001b[38;5;124;43m\"\u001b[39;49m\u001b[43m]\u001b[49m\u001b[43m[\u001b[49m\u001b[38;5;241;43m1\u001b[39;49m\u001b[43m:\u001b[49m\u001b[43m]\u001b[49m\u001b[43m)\u001b[49m\n\u001b[1;32m    113\u001b[0m \u001b[38;5;28;01melif\u001b[39;00m geom_type \u001b[38;5;241m==\u001b[39m \u001b[38;5;124m\"\u001b[39m\u001b[38;5;124mmultipoint\u001b[39m\u001b[38;5;124m\"\u001b[39m:\n\u001b[1;32m    114\u001b[0m     \u001b[38;5;28;01mreturn\u001b[39;00m MultiPoint(ob[\u001b[38;5;124m\"\u001b[39m\u001b[38;5;124mcoordinates\u001b[39m\u001b[38;5;124m\"\u001b[39m])\n",
      "File \u001b[0;32m/opt/conda/lib/python3.8/site-packages/shapely/geometry/polygon.py:261\u001b[0m, in \u001b[0;36mPolygon.__init__\u001b[0;34m(self, shell, holes)\u001b[0m\n\u001b[1;32m    258\u001b[0m BaseGeometry\u001b[38;5;241m.\u001b[39m\u001b[38;5;21m__init__\u001b[39m(\u001b[38;5;28mself\u001b[39m)\n\u001b[1;32m    260\u001b[0m \u001b[38;5;28;01mif\u001b[39;00m shell \u001b[38;5;129;01mis\u001b[39;00m \u001b[38;5;129;01mnot\u001b[39;00m \u001b[38;5;28;01mNone\u001b[39;00m:\n\u001b[0;32m--> 261\u001b[0m     ret \u001b[38;5;241m=\u001b[39m \u001b[43mgeos_polygon_from_py\u001b[49m\u001b[43m(\u001b[49m\u001b[43mshell\u001b[49m\u001b[43m,\u001b[49m\u001b[43m \u001b[49m\u001b[43mholes\u001b[49m\u001b[43m)\u001b[49m\n\u001b[1;32m    262\u001b[0m     \u001b[38;5;28;01mif\u001b[39;00m ret \u001b[38;5;129;01mis\u001b[39;00m \u001b[38;5;129;01mnot\u001b[39;00m \u001b[38;5;28;01mNone\u001b[39;00m:\n\u001b[1;32m    263\u001b[0m         geom, n \u001b[38;5;241m=\u001b[39m ret\n",
      "File \u001b[0;32m/opt/conda/lib/python3.8/site-packages/shapely/geometry/polygon.py:562\u001b[0m, in \u001b[0;36mgeos_polygon_from_py\u001b[0;34m(shell, holes)\u001b[0m\n\u001b[1;32m    560\u001b[0m     \u001b[38;5;66;03m# add to coordinate sequence\u001b[39;00m\n\u001b[1;32m    561\u001b[0m     \u001b[38;5;28;01mfor\u001b[39;00m l \u001b[38;5;129;01min\u001b[39;00m \u001b[38;5;28mrange\u001b[39m(L):\n\u001b[0;32m--> 562\u001b[0m         geom, ndim \u001b[38;5;241m=\u001b[39m \u001b[43mgeos_linearring_from_py\u001b[49m\u001b[43m(\u001b[49m\u001b[43mob\u001b[49m\u001b[43m[\u001b[49m\u001b[43ml\u001b[49m\u001b[43m]\u001b[49m\u001b[43m)\u001b[49m\n\u001b[1;32m    563\u001b[0m         geos_holes[l] \u001b[38;5;241m=\u001b[39m cast(geom, c_void_p)\n\u001b[1;32m    564\u001b[0m \u001b[38;5;28;01melse\u001b[39;00m:\n",
      "\u001b[0;31mKeyboardInterrupt\u001b[0m: "
     ]
    }
   ],
   "source": [
    "transform_gpkg_layers_mbtiles(in_file, layers)"
   ]
  },
  {
   "cell_type": "code",
   "execution_count": null,
   "id": "3f38818e",
   "metadata": {},
   "outputs": [],
   "source": [
    "#!npm install -g @mapbox/mbview\n",
    "\n",
    "#!mbview $outputPath_mbtiles\n"
   ]
  }
 ],
 "metadata": {
  "kernelspec": {
   "display_name": "Python 3 (ipykernel)",
   "language": "python",
   "name": "python3"
  }
 },
 "nbformat": 4,
 "nbformat_minor": 5
}
