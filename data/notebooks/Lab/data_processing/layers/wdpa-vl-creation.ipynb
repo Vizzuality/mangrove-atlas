{
 "cells": [
  {
   "cell_type": "markdown",
   "id": "844802fc",
   "metadata": {},
   "source": [
    "# Pipeline for Protected areas data conversion into vector tiles"
   ]
  },
  {
   "cell_type": "code",
   "execution_count": null,
   "id": "27da97f3",
   "metadata": {
    "vscode": {
     "languageId": "python"
    }
   },
   "outputs": [],
   "source": [
    "import os\n",
    "from pathlib import Path\n",
    "import geopandas\n",
    "import subprocess\n",
    "import logging\n",
    "import requests\n",
    "import gzip\n",
    "import fiona\n",
    "from typing import Union\n",
    "from ipyleaflet import Map, GeoData, basemaps, LayersControl"
   ]
  },
  {
   "cell_type": "code",
   "execution_count": null,
   "id": "1f989750",
   "metadata": {
    "vscode": {
     "languageId": "python"
    }
   },
   "outputs": [],
   "source": [
    "#  FIXME: This will depends from where the notebook kernel is running so be careful\n",
    "WORK_DIR =Path(os.getcwd())\n",
    "BASE_DIR = f'{WORK_DIR.parents[3]}/work/datasets/raw'\n",
    "logging.basicConfig(level=logging.INFO)\n",
    "\n",
    "# @TODO: Add expected data files source as an environment variable.\n",
    "assert BASE_DIR == '/home/jovyan/work/datasets/raw', f'{BASE_DIR} is not the correct directory'\n",
    "outFolder= Path(f'{BASE_DIR}/wdpa')\n",
    "outputPath = f'{outFolder.parents[1]}/processed/wdpa_protected_areas_public.shp'"
   ]
  },
  {
   "cell_type": "code",
   "execution_count": null,
   "id": "7a3906a6",
   "metadata": {
    "vscode": {
     "languageId": "python"
    }
   },
   "outputs": [],
   "source": [
    "def mbtilesGeneration(data_path: Path, output_path: Union[Path, None] = None,\n",
    "\n",
    " update: bool = False) -> Path:\n",
    "    \"\"\"\n",
    "    Simplify geometry of a GeoDataFrame using tippecanoe.\n",
    "    Parameters\n",
    "    ----------\n",
    "    data_path : Path - The path to the GeoDataFrame to simplify.\n",
    "    output_path : Path - The path to the output GeoDataFrame.\n",
    "    update : bool, optional - If True, the output GeoDataFrame will be overwritten.\n",
    "                            The default is False.\n",
    "    \n",
    "    Returns\n",
    "    -------\n",
    "    Path - The path to the generated mbtiles file.\n",
    "    \"\"\"\n",
    "    try:\n",
    "        assert data_path.exists(), 'Data path does not exist.'\n",
    "        if not output_path:\n",
    "            output_path = data_path.with_suffix('.mbtiles')\n",
    "        \n",
    "        if update or not output_path.exists():\n",
    "            \n",
    "            if data_path.suffix != '.json':\n",
    "                CMD = f'mapshaper {data_path} -clean allow-overlaps rewind -o format=geojson {data_path.with_suffix(\".json\")} force'\n",
    "                subprocess.run(CMD ,shell=True, check=True)\n",
    "                data_path = data_path.with_suffix('.json')\n",
    "\n",
    "            assert data_path.suffix == '.json', 'Data path must be a json file.'\n",
    "            \n",
    "            logging.info('Creating mbtiles file...')\n",
    "            \n",
    "            subprocess.run(\n",
    "                f\"tippecanoe -zg -f -P -o {output_path} --extend-zooms-if-still-dropping {data_path}\",\n",
    "                shell=True, check=True\n",
    "                )\n",
    "        \n",
    "        return output_path\n",
    "    \n",
    "    except Exception as e:\n",
    "        logging.error(e)\n",
    "        return 1"
   ]
  },
  {
   "cell_type": "code",
   "execution_count": null,
   "id": "cb72be28",
   "metadata": {
    "vscode": {
     "languageId": "python"
    }
   },
   "outputs": [],
   "source": [
    "in_file = Path(f'{outFolder.parents[1]}/raw/wdpa-client-july-2022.shp')\n",
    "\n",
    "mbtilesGeneration(in_file, update=True)"
   ]
  },
  {
   "cell_type": "code",
   "execution_count": null,
   "id": "ca6f12b5",
   "metadata": {
    "vscode": {
     "languageId": "python"
    }
   },
   "outputs": [],
   "source": [
    "#!npm install -g @mapbox/mbview  \n",
    "\n",
    "#!mbview $outputPath_mbtiles"
   ]
  }
 ],
 "metadata": {
  "kernelspec": {
   "display_name": "Python 3 (ipykernel)",
   "language": "python",
   "name": "python3"
  }
 },
 "nbformat": 4,
 "nbformat_minor": 5
}
