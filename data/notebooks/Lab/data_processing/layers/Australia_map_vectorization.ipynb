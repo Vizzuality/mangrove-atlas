{
 "cells": [
  {
   "cell_type": "code",
   "execution_count": 41,
   "metadata": {},
   "outputs": [],
   "source": [
    "import requests\n",
    "import json\n",
    "import rasterio as rio\n",
    "from rasterio.io import MemoryFile\n",
    "from rasterio.merge import merge\n",
    "from rasterio.crs import CRS\n",
    "from rasterio.warp import calculate_default_transform, reproject, Resampling\n",
    "from PIL import Image\n",
    "import io\n",
    "import os"
   ]
  },
  {
   "cell_type": "code",
   "execution_count": 27,
   "metadata": {},
   "outputs": [],
   "source": [
    "#example: https://data.dea.ga.gov.au/derivative/ga_ls_mangrove_cover_cyear_3/3-0-0/x08/y26/2022--P1Y/ga_ls_mangrove_cover_cyear_3_x08y26_2022--P1Y_final_canopy_cover_class.tif\n",
    "#example: https://data.dea.ga.gov.au/derivative/ga_ls_mangrove_cover_cyear_3/3-0-0/x24/y40/2022--P1Y/ga_ls_mangrove_cover_cyear_3_x24y40_2022--P1Y_final_canopy_cover_class.tif\n",
    "tile_url_pattern = \"https://data.dea.ga.gov.au/derivative/ga_ls_mangrove_cover_cyear_3/3-0-0/x{x}/y{y}/{year}--P1Y/ga_ls_mangrove_cover_cyear_3_x{x}y{y}_{year}--P1Y_final_canopy_cover_class.tif\"\n",
    "\n",
    "\n",
    "x_coordinates = [str(x).zfill(2) for x in range(8, 50)]\n",
    "y_coordinates = [str(y).zfill(2) for y in range(10, 50)]\n",
    "\n",
    "out_path = '../../../../../data/data/National_Layers/Australia_map_raster/'\n",
    "os.makedirs(out_path, exist_ok=True)\n"
   ]
  },
  {
   "cell_type": "code",
   "execution_count": 28,
   "metadata": {},
   "outputs": [
    {
     "data": {
      "text/plain": [
       "['https://data.dea.ga.gov.au/derivative/ga_ls_mangrove_cover_cyear_3/3-0-0/x08/y26/2022--P1Y/ga_ls_mangrove_cover_cyear_3_x08y26_2022--P1Y_final_canopy_cover_class.tif',\n",
       " 'https://data.dea.ga.gov.au/derivative/ga_ls_mangrove_cover_cyear_3/3-0-0/x08/y27/2022--P1Y/ga_ls_mangrove_cover_cyear_3_x08y27_2022--P1Y_final_canopy_cover_class.tif',\n",
       " 'https://data.dea.ga.gov.au/derivative/ga_ls_mangrove_cover_cyear_3/3-0-0/x08/y31/2022--P1Y/ga_ls_mangrove_cover_cyear_3_x08y31_2022--P1Y_final_canopy_cover_class.tif',\n",
       " 'https://data.dea.ga.gov.au/derivative/ga_ls_mangrove_cover_cyear_3/3-0-0/x09/y26/2022--P1Y/ga_ls_mangrove_cover_cyear_3_x09y26_2022--P1Y_final_canopy_cover_class.tif',\n",
       " 'https://data.dea.ga.gov.au/derivative/ga_ls_mangrove_cover_cyear_3/3-0-0/x09/y27/2022--P1Y/ga_ls_mangrove_cover_cyear_3_x09y27_2022--P1Y_final_canopy_cover_class.tif',\n",
       " 'https://data.dea.ga.gov.au/derivative/ga_ls_mangrove_cover_cyear_3/3-0-0/x09/y30/2022--P1Y/ga_ls_mangrove_cover_cyear_3_x09y30_2022--P1Y_final_canopy_cover_class.tif',\n",
       " 'https://data.dea.ga.gov.au/derivative/ga_ls_mangrove_cover_cyear_3/3-0-0/x09/y31/2022--P1Y/ga_ls_mangrove_cover_cyear_3_x09y31_2022--P1Y_final_canopy_cover_class.tif',\n",
       " 'https://data.dea.ga.gov.au/derivative/ga_ls_mangrove_cover_cyear_3/3-0-0/x10/y22/2022--P1Y/ga_ls_mangrove_cover_cyear_3_x10y22_2022--P1Y_final_canopy_cover_class.tif',\n",
       " 'https://data.dea.ga.gov.au/derivative/ga_ls_mangrove_cover_cyear_3/3-0-0/x10/y23/2022--P1Y/ga_ls_mangrove_cover_cyear_3_x10y23_2022--P1Y_final_canopy_cover_class.tif',\n",
       " 'https://data.dea.ga.gov.au/derivative/ga_ls_mangrove_cover_cyear_3/3-0-0/x10/y31/2022--P1Y/ga_ls_mangrove_cover_cyear_3_x10y31_2022--P1Y_final_canopy_cover_class.tif',\n",
       " 'https://data.dea.ga.gov.au/derivative/ga_ls_mangrove_cover_cyear_3/3-0-0/x10/y32/2022--P1Y/ga_ls_mangrove_cover_cyear_3_x10y32_2022--P1Y_final_canopy_cover_class.tif',\n",
       " 'https://data.dea.ga.gov.au/derivative/ga_ls_mangrove_cover_cyear_3/3-0-0/x11/y32/2022--P1Y/ga_ls_mangrove_cover_cyear_3_x11y32_2022--P1Y_final_canopy_cover_class.tif',\n",
       " 'https://data.dea.ga.gov.au/derivative/ga_ls_mangrove_cover_cyear_3/3-0-0/x11/y33/2022--P1Y/ga_ls_mangrove_cover_cyear_3_x11y33_2022--P1Y_final_canopy_cover_class.tif',\n",
       " 'https://data.dea.ga.gov.au/derivative/ga_ls_mangrove_cover_cyear_3/3-0-0/x12/y32/2022--P1Y/ga_ls_mangrove_cover_cyear_3_x12y32_2022--P1Y_final_canopy_cover_class.tif',\n",
       " 'https://data.dea.ga.gov.au/derivative/ga_ls_mangrove_cover_cyear_3/3-0-0/x12/y33/2022--P1Y/ga_ls_mangrove_cover_cyear_3_x12y33_2022--P1Y_final_canopy_cover_class.tif',\n",
       " 'https://data.dea.ga.gov.au/derivative/ga_ls_mangrove_cover_cyear_3/3-0-0/x13/y33/2022--P1Y/ga_ls_mangrove_cover_cyear_3_x13y33_2022--P1Y_final_canopy_cover_class.tif',\n",
       " 'https://data.dea.ga.gov.au/derivative/ga_ls_mangrove_cover_cyear_3/3-0-0/x14/y33/2022--P1Y/ga_ls_mangrove_cover_cyear_3_x14y33_2022--P1Y_final_canopy_cover_class.tif',\n",
       " 'https://data.dea.ga.gov.au/derivative/ga_ls_mangrove_cover_cyear_3/3-0-0/x14/y34/2022--P1Y/ga_ls_mangrove_cover_cyear_3_x14y34_2022--P1Y_final_canopy_cover_class.tif',\n",
       " 'https://data.dea.ga.gov.au/derivative/ga_ls_mangrove_cover_cyear_3/3-0-0/x16/y35/2022--P1Y/ga_ls_mangrove_cover_cyear_3_x16y35_2022--P1Y_final_canopy_cover_class.tif',\n",
       " 'https://data.dea.ga.gov.au/derivative/ga_ls_mangrove_cover_cyear_3/3-0-0/x17/y36/2022--P1Y/ga_ls_mangrove_cover_cyear_3_x17y36_2022--P1Y_final_canopy_cover_class.tif',\n",
       " 'https://data.dea.ga.gov.au/derivative/ga_ls_mangrove_cover_cyear_3/3-0-0/x17/y37/2022--P1Y/ga_ls_mangrove_cover_cyear_3_x17y37_2022--P1Y_final_canopy_cover_class.tif',\n",
       " 'https://data.dea.ga.gov.au/derivative/ga_ls_mangrove_cover_cyear_3/3-0-0/x17/y38/2022--P1Y/ga_ls_mangrove_cover_cyear_3_x17y38_2022--P1Y_final_canopy_cover_class.tif',\n",
       " 'https://data.dea.ga.gov.au/derivative/ga_ls_mangrove_cover_cyear_3/3-0-0/x18/y37/2022--P1Y/ga_ls_mangrove_cover_cyear_3_x18y37_2022--P1Y_final_canopy_cover_class.tif',\n",
       " 'https://data.dea.ga.gov.au/derivative/ga_ls_mangrove_cover_cyear_3/3-0-0/x18/y38/2022--P1Y/ga_ls_mangrove_cover_cyear_3_x18y38_2022--P1Y_final_canopy_cover_class.tif',\n",
       " 'https://data.dea.ga.gov.au/derivative/ga_ls_mangrove_cover_cyear_3/3-0-0/x19/y37/2022--P1Y/ga_ls_mangrove_cover_cyear_3_x19y37_2022--P1Y_final_canopy_cover_class.tif',\n",
       " 'https://data.dea.ga.gov.au/derivative/ga_ls_mangrove_cover_cyear_3/3-0-0/x19/y38/2022--P1Y/ga_ls_mangrove_cover_cyear_3_x19y38_2022--P1Y_final_canopy_cover_class.tif',\n",
       " 'https://data.dea.ga.gov.au/derivative/ga_ls_mangrove_cover_cyear_3/3-0-0/x19/y39/2022--P1Y/ga_ls_mangrove_cover_cyear_3_x19y39_2022--P1Y_final_canopy_cover_class.tif',\n",
       " 'https://data.dea.ga.gov.au/derivative/ga_ls_mangrove_cover_cyear_3/3-0-0/x19/y40/2022--P1Y/ga_ls_mangrove_cover_cyear_3_x19y40_2022--P1Y_final_canopy_cover_class.tif',\n",
       " 'https://data.dea.ga.gov.au/derivative/ga_ls_mangrove_cover_cyear_3/3-0-0/x20/y38/2022--P1Y/ga_ls_mangrove_cover_cyear_3_x20y38_2022--P1Y_final_canopy_cover_class.tif',\n",
       " 'https://data.dea.ga.gov.au/derivative/ga_ls_mangrove_cover_cyear_3/3-0-0/x20/y39/2022--P1Y/ga_ls_mangrove_cover_cyear_3_x20y39_2022--P1Y_final_canopy_cover_class.tif',\n",
       " 'https://data.dea.ga.gov.au/derivative/ga_ls_mangrove_cover_cyear_3/3-0-0/x20/y40/2022--P1Y/ga_ls_mangrove_cover_cyear_3_x20y40_2022--P1Y_final_canopy_cover_class.tif',\n",
       " 'https://data.dea.ga.gov.au/derivative/ga_ls_mangrove_cover_cyear_3/3-0-0/x20/y41/2022--P1Y/ga_ls_mangrove_cover_cyear_3_x20y41_2022--P1Y_final_canopy_cover_class.tif',\n",
       " 'https://data.dea.ga.gov.au/derivative/ga_ls_mangrove_cover_cyear_3/3-0-0/x21/y40/2022--P1Y/ga_ls_mangrove_cover_cyear_3_x21y40_2022--P1Y_final_canopy_cover_class.tif',\n",
       " 'https://data.dea.ga.gov.au/derivative/ga_ls_mangrove_cover_cyear_3/3-0-0/x21/y41/2022--P1Y/ga_ls_mangrove_cover_cyear_3_x21y41_2022--P1Y_final_canopy_cover_class.tif',\n",
       " 'https://data.dea.ga.gov.au/derivative/ga_ls_mangrove_cover_cyear_3/3-0-0/x22/y41/2022--P1Y/ga_ls_mangrove_cover_cyear_3_x22y41_2022--P1Y_final_canopy_cover_class.tif',\n",
       " 'https://data.dea.ga.gov.au/derivative/ga_ls_mangrove_cover_cyear_3/3-0-0/x23/y39/2022--P1Y/ga_ls_mangrove_cover_cyear_3_x23y39_2022--P1Y_final_canopy_cover_class.tif',\n",
       " 'https://data.dea.ga.gov.au/derivative/ga_ls_mangrove_cover_cyear_3/3-0-0/x23/y40/2022--P1Y/ga_ls_mangrove_cover_cyear_3_x23y40_2022--P1Y_final_canopy_cover_class.tif',\n",
       " 'https://data.dea.ga.gov.au/derivative/ga_ls_mangrove_cover_cyear_3/3-0-0/x23/y41/2022--P1Y/ga_ls_mangrove_cover_cyear_3_x23y41_2022--P1Y_final_canopy_cover_class.tif',\n",
       " 'https://data.dea.ga.gov.au/derivative/ga_ls_mangrove_cover_cyear_3/3-0-0/x24/y40/2022--P1Y/ga_ls_mangrove_cover_cyear_3_x24y40_2022--P1Y_final_canopy_cover_class.tif',\n",
       " 'https://data.dea.ga.gov.au/derivative/ga_ls_mangrove_cover_cyear_3/3-0-0/x24/y41/2022--P1Y/ga_ls_mangrove_cover_cyear_3_x24y41_2022--P1Y_final_canopy_cover_class.tif',\n",
       " 'https://data.dea.ga.gov.au/derivative/ga_ls_mangrove_cover_cyear_3/3-0-0/x25/y39/2022--P1Y/ga_ls_mangrove_cover_cyear_3_x25y39_2022--P1Y_final_canopy_cover_class.tif',\n",
       " 'https://data.dea.ga.gov.au/derivative/ga_ls_mangrove_cover_cyear_3/3-0-0/x25/y40/2022--P1Y/ga_ls_mangrove_cover_cyear_3_x25y40_2022--P1Y_final_canopy_cover_class.tif',\n",
       " 'https://data.dea.ga.gov.au/derivative/ga_ls_mangrove_cover_cyear_3/3-0-0/x25/y41/2022--P1Y/ga_ls_mangrove_cover_cyear_3_x25y41_2022--P1Y_final_canopy_cover_class.tif',\n",
       " 'https://data.dea.ga.gov.au/derivative/ga_ls_mangrove_cover_cyear_3/3-0-0/x25/y42/2022--P1Y/ga_ls_mangrove_cover_cyear_3_x25y42_2022--P1Y_final_canopy_cover_class.tif',\n",
       " 'https://data.dea.ga.gov.au/derivative/ga_ls_mangrove_cover_cyear_3/3-0-0/x25/y44/2022--P1Y/ga_ls_mangrove_cover_cyear_3_x25y44_2022--P1Y_final_canopy_cover_class.tif',\n",
       " 'https://data.dea.ga.gov.au/derivative/ga_ls_mangrove_cover_cyear_3/3-0-0/x26/y42/2022--P1Y/ga_ls_mangrove_cover_cyear_3_x26y42_2022--P1Y_final_canopy_cover_class.tif',\n",
       " 'https://data.dea.ga.gov.au/derivative/ga_ls_mangrove_cover_cyear_3/3-0-0/x26/y43/2022--P1Y/ga_ls_mangrove_cover_cyear_3_x26y43_2022--P1Y_final_canopy_cover_class.tif',\n",
       " 'https://data.dea.ga.gov.au/derivative/ga_ls_mangrove_cover_cyear_3/3-0-0/x26/y44/2022--P1Y/ga_ls_mangrove_cover_cyear_3_x26y44_2022--P1Y_final_canopy_cover_class.tif',\n",
       " 'https://data.dea.ga.gov.au/derivative/ga_ls_mangrove_cover_cyear_3/3-0-0/x27/y43/2022--P1Y/ga_ls_mangrove_cover_cyear_3_x27y43_2022--P1Y_final_canopy_cover_class.tif',\n",
       " 'https://data.dea.ga.gov.au/derivative/ga_ls_mangrove_cover_cyear_3/3-0-0/x27/y44/2022--P1Y/ga_ls_mangrove_cover_cyear_3_x27y44_2022--P1Y_final_canopy_cover_class.tif',\n",
       " 'https://data.dea.ga.gov.au/derivative/ga_ls_mangrove_cover_cyear_3/3-0-0/x28/y42/2022--P1Y/ga_ls_mangrove_cover_cyear_3_x28y42_2022--P1Y_final_canopy_cover_class.tif',\n",
       " 'https://data.dea.ga.gov.au/derivative/ga_ls_mangrove_cover_cyear_3/3-0-0/x28/y43/2022--P1Y/ga_ls_mangrove_cover_cyear_3_x28y43_2022--P1Y_final_canopy_cover_class.tif',\n",
       " 'https://data.dea.ga.gov.au/derivative/ga_ls_mangrove_cover_cyear_3/3-0-0/x28/y44/2022--P1Y/ga_ls_mangrove_cover_cyear_3_x28y44_2022--P1Y_final_canopy_cover_class.tif',\n",
       " 'https://data.dea.ga.gov.au/derivative/ga_ls_mangrove_cover_cyear_3/3-0-0/x29/y20/2022--P1Y/ga_ls_mangrove_cover_cyear_3_x29y20_2022--P1Y_final_canopy_cover_class.tif',\n",
       " 'https://data.dea.ga.gov.au/derivative/ga_ls_mangrove_cover_cyear_3/3-0-0/x29/y43/2022--P1Y/ga_ls_mangrove_cover_cyear_3_x29y43_2022--P1Y_final_canopy_cover_class.tif',\n",
       " 'https://data.dea.ga.gov.au/derivative/ga_ls_mangrove_cover_cyear_3/3-0-0/x29/y44/2022--P1Y/ga_ls_mangrove_cover_cyear_3_x29y44_2022--P1Y_final_canopy_cover_class.tif',\n",
       " 'https://data.dea.ga.gov.au/derivative/ga_ls_mangrove_cover_cyear_3/3-0-0/x30/y19/2022--P1Y/ga_ls_mangrove_cover_cyear_3_x30y19_2022--P1Y_final_canopy_cover_class.tif',\n",
       " 'https://data.dea.ga.gov.au/derivative/ga_ls_mangrove_cover_cyear_3/3-0-0/x30/y20/2022--P1Y/ga_ls_mangrove_cover_cyear_3_x30y20_2022--P1Y_final_canopy_cover_class.tif',\n",
       " 'https://data.dea.ga.gov.au/derivative/ga_ls_mangrove_cover_cyear_3/3-0-0/x30/y43/2022--P1Y/ga_ls_mangrove_cover_cyear_3_x30y43_2022--P1Y_final_canopy_cover_class.tif',\n",
       " 'https://data.dea.ga.gov.au/derivative/ga_ls_mangrove_cover_cyear_3/3-0-0/x30/y44/2022--P1Y/ga_ls_mangrove_cover_cyear_3_x30y44_2022--P1Y_final_canopy_cover_class.tif',\n",
       " 'https://data.dea.ga.gov.au/derivative/ga_ls_mangrove_cover_cyear_3/3-0-0/x31/y17/2022--P1Y/ga_ls_mangrove_cover_cyear_3_x31y17_2022--P1Y_final_canopy_cover_class.tif',\n",
       " 'https://data.dea.ga.gov.au/derivative/ga_ls_mangrove_cover_cyear_3/3-0-0/x31/y40/2022--P1Y/ga_ls_mangrove_cover_cyear_3_x31y40_2022--P1Y_final_canopy_cover_class.tif',\n",
       " 'https://data.dea.ga.gov.au/derivative/ga_ls_mangrove_cover_cyear_3/3-0-0/x31/y43/2022--P1Y/ga_ls_mangrove_cover_cyear_3_x31y43_2022--P1Y_final_canopy_cover_class.tif',\n",
       " 'https://data.dea.ga.gov.au/derivative/ga_ls_mangrove_cover_cyear_3/3-0-0/x32/y18/2022--P1Y/ga_ls_mangrove_cover_cyear_3_x32y18_2022--P1Y_final_canopy_cover_class.tif',\n",
       " 'https://data.dea.ga.gov.au/derivative/ga_ls_mangrove_cover_cyear_3/3-0-0/x32/y39/2022--P1Y/ga_ls_mangrove_cover_cyear_3_x32y39_2022--P1Y_final_canopy_cover_class.tif',\n",
       " 'https://data.dea.ga.gov.au/derivative/ga_ls_mangrove_cover_cyear_3/3-0-0/x32/y40/2022--P1Y/ga_ls_mangrove_cover_cyear_3_x32y40_2022--P1Y_final_canopy_cover_class.tif',\n",
       " 'https://data.dea.ga.gov.au/derivative/ga_ls_mangrove_cover_cyear_3/3-0-0/x32/y41/2022--P1Y/ga_ls_mangrove_cover_cyear_3_x32y41_2022--P1Y_final_canopy_cover_class.tif',\n",
       " 'https://data.dea.ga.gov.au/derivative/ga_ls_mangrove_cover_cyear_3/3-0-0/x32/y42/2022--P1Y/ga_ls_mangrove_cover_cyear_3_x32y42_2022--P1Y_final_canopy_cover_class.tif',\n",
       " 'https://data.dea.ga.gov.au/derivative/ga_ls_mangrove_cover_cyear_3/3-0-0/x32/y43/2022--P1Y/ga_ls_mangrove_cover_cyear_3_x32y43_2022--P1Y_final_canopy_cover_class.tif',\n",
       " 'https://data.dea.ga.gov.au/derivative/ga_ls_mangrove_cover_cyear_3/3-0-0/x32/y44/2022--P1Y/ga_ls_mangrove_cover_cyear_3_x32y44_2022--P1Y_final_canopy_cover_class.tif',\n",
       " 'https://data.dea.ga.gov.au/derivative/ga_ls_mangrove_cover_cyear_3/3-0-0/x33/y17/2022--P1Y/ga_ls_mangrove_cover_cyear_3_x33y17_2022--P1Y_final_canopy_cover_class.tif',\n",
       " 'https://data.dea.ga.gov.au/derivative/ga_ls_mangrove_cover_cyear_3/3-0-0/x33/y18/2022--P1Y/ga_ls_mangrove_cover_cyear_3_x33y18_2022--P1Y_final_canopy_cover_class.tif',\n",
       " 'https://data.dea.ga.gov.au/derivative/ga_ls_mangrove_cover_cyear_3/3-0-0/x33/y19/2022--P1Y/ga_ls_mangrove_cover_cyear_3_x33y19_2022--P1Y_final_canopy_cover_class.tif',\n",
       " 'https://data.dea.ga.gov.au/derivative/ga_ls_mangrove_cover_cyear_3/3-0-0/x33/y20/2022--P1Y/ga_ls_mangrove_cover_cyear_3_x33y20_2022--P1Y_final_canopy_cover_class.tif',\n",
       " 'https://data.dea.ga.gov.au/derivative/ga_ls_mangrove_cover_cyear_3/3-0-0/x33/y39/2022--P1Y/ga_ls_mangrove_cover_cyear_3_x33y39_2022--P1Y_final_canopy_cover_class.tif',\n",
       " 'https://data.dea.ga.gov.au/derivative/ga_ls_mangrove_cover_cyear_3/3-0-0/x33/y41/2022--P1Y/ga_ls_mangrove_cover_cyear_3_x33y41_2022--P1Y_final_canopy_cover_class.tif',\n",
       " 'https://data.dea.ga.gov.au/derivative/ga_ls_mangrove_cover_cyear_3/3-0-0/x33/y42/2022--P1Y/ga_ls_mangrove_cover_cyear_3_x33y42_2022--P1Y_final_canopy_cover_class.tif',\n",
       " 'https://data.dea.ga.gov.au/derivative/ga_ls_mangrove_cover_cyear_3/3-0-0/x33/y43/2022--P1Y/ga_ls_mangrove_cover_cyear_3_x33y43_2022--P1Y_final_canopy_cover_class.tif',\n",
       " 'https://data.dea.ga.gov.au/derivative/ga_ls_mangrove_cover_cyear_3/3-0-0/x33/y44/2022--P1Y/ga_ls_mangrove_cover_cyear_3_x33y44_2022--P1Y_final_canopy_cover_class.tif',\n",
       " 'https://data.dea.ga.gov.au/derivative/ga_ls_mangrove_cover_cyear_3/3-0-0/x34/y15/2022--P1Y/ga_ls_mangrove_cover_cyear_3_x34y15_2022--P1Y_final_canopy_cover_class.tif',\n",
       " 'https://data.dea.ga.gov.au/derivative/ga_ls_mangrove_cover_cyear_3/3-0-0/x34/y17/2022--P1Y/ga_ls_mangrove_cover_cyear_3_x34y17_2022--P1Y_final_canopy_cover_class.tif',\n",
       " 'https://data.dea.ga.gov.au/derivative/ga_ls_mangrove_cover_cyear_3/3-0-0/x34/y38/2022--P1Y/ga_ls_mangrove_cover_cyear_3_x34y38_2022--P1Y_final_canopy_cover_class.tif',\n",
       " 'https://data.dea.ga.gov.au/derivative/ga_ls_mangrove_cover_cyear_3/3-0-0/x34/y39/2022--P1Y/ga_ls_mangrove_cover_cyear_3_x34y39_2022--P1Y_final_canopy_cover_class.tif',\n",
       " 'https://data.dea.ga.gov.au/derivative/ga_ls_mangrove_cover_cyear_3/3-0-0/x35/y37/2022--P1Y/ga_ls_mangrove_cover_cyear_3_x35y37_2022--P1Y_final_canopy_cover_class.tif',\n",
       " 'https://data.dea.ga.gov.au/derivative/ga_ls_mangrove_cover_cyear_3/3-0-0/x35/y38/2022--P1Y/ga_ls_mangrove_cover_cyear_3_x35y38_2022--P1Y_final_canopy_cover_class.tif',\n",
       " 'https://data.dea.ga.gov.au/derivative/ga_ls_mangrove_cover_cyear_3/3-0-0/x36/y36/2022--P1Y/ga_ls_mangrove_cover_cyear_3_x36y36_2022--P1Y_final_canopy_cover_class.tif',\n",
       " 'https://data.dea.ga.gov.au/derivative/ga_ls_mangrove_cover_cyear_3/3-0-0/x36/y37/2022--P1Y/ga_ls_mangrove_cover_cyear_3_x36y37_2022--P1Y_final_canopy_cover_class.tif',\n",
       " 'https://data.dea.ga.gov.au/derivative/ga_ls_mangrove_cover_cyear_3/3-0-0/x36/y38/2022--P1Y/ga_ls_mangrove_cover_cyear_3_x36y38_2022--P1Y_final_canopy_cover_class.tif',\n",
       " 'https://data.dea.ga.gov.au/derivative/ga_ls_mangrove_cover_cyear_3/3-0-0/x37/y36/2022--P1Y/ga_ls_mangrove_cover_cyear_3_x37y36_2022--P1Y_final_canopy_cover_class.tif',\n",
       " 'https://data.dea.ga.gov.au/derivative/ga_ls_mangrove_cover_cyear_3/3-0-0/x37/y37/2022--P1Y/ga_ls_mangrove_cover_cyear_3_x37y37_2022--P1Y_final_canopy_cover_class.tif',\n",
       " 'https://data.dea.ga.gov.au/derivative/ga_ls_mangrove_cover_cyear_3/3-0-0/x38/y12/2022--P1Y/ga_ls_mangrove_cover_cyear_3_x38y12_2022--P1Y_final_canopy_cover_class.tif',\n",
       " 'https://data.dea.ga.gov.au/derivative/ga_ls_mangrove_cover_cyear_3/3-0-0/x38/y37/2022--P1Y/ga_ls_mangrove_cover_cyear_3_x38y37_2022--P1Y_final_canopy_cover_class.tif',\n",
       " 'https://data.dea.ga.gov.au/derivative/ga_ls_mangrove_cover_cyear_3/3-0-0/x38/y38/2022--P1Y/ga_ls_mangrove_cover_cyear_3_x38y38_2022--P1Y_final_canopy_cover_class.tif',\n",
       " 'https://data.dea.ga.gov.au/derivative/ga_ls_mangrove_cover_cyear_3/3-0-0/x38/y39/2022--P1Y/ga_ls_mangrove_cover_cyear_3_x38y39_2022--P1Y_final_canopy_cover_class.tif',\n",
       " 'https://data.dea.ga.gov.au/derivative/ga_ls_mangrove_cover_cyear_3/3-0-0/x38/y40/2022--P1Y/ga_ls_mangrove_cover_cyear_3_x38y40_2022--P1Y_final_canopy_cover_class.tif',\n",
       " 'https://data.dea.ga.gov.au/derivative/ga_ls_mangrove_cover_cyear_3/3-0-0/x38/y41/2022--P1Y/ga_ls_mangrove_cover_cyear_3_x38y41_2022--P1Y_final_canopy_cover_class.tif',\n",
       " 'https://data.dea.ga.gov.au/derivative/ga_ls_mangrove_cover_cyear_3/3-0-0/x39/y12/2022--P1Y/ga_ls_mangrove_cover_cyear_3_x39y12_2022--P1Y_final_canopy_cover_class.tif',\n",
       " 'https://data.dea.ga.gov.au/derivative/ga_ls_mangrove_cover_cyear_3/3-0-0/x39/y13/2022--P1Y/ga_ls_mangrove_cover_cyear_3_x39y13_2022--P1Y_final_canopy_cover_class.tif',\n",
       " 'https://data.dea.ga.gov.au/derivative/ga_ls_mangrove_cover_cyear_3/3-0-0/x39/y39/2022--P1Y/ga_ls_mangrove_cover_cyear_3_x39y39_2022--P1Y_final_canopy_cover_class.tif',\n",
       " 'https://data.dea.ga.gov.au/derivative/ga_ls_mangrove_cover_cyear_3/3-0-0/x39/y40/2022--P1Y/ga_ls_mangrove_cover_cyear_3_x39y40_2022--P1Y_final_canopy_cover_class.tif',\n",
       " 'https://data.dea.ga.gov.au/derivative/ga_ls_mangrove_cover_cyear_3/3-0-0/x39/y41/2022--P1Y/ga_ls_mangrove_cover_cyear_3_x39y41_2022--P1Y_final_canopy_cover_class.tif',\n",
       " 'https://data.dea.ga.gov.au/derivative/ga_ls_mangrove_cover_cyear_3/3-0-0/x39/y42/2022--P1Y/ga_ls_mangrove_cover_cyear_3_x39y42_2022--P1Y_final_canopy_cover_class.tif',\n",
       " 'https://data.dea.ga.gov.au/derivative/ga_ls_mangrove_cover_cyear_3/3-0-0/x39/y43/2022--P1Y/ga_ls_mangrove_cover_cyear_3_x39y43_2022--P1Y_final_canopy_cover_class.tif',\n",
       " 'https://data.dea.ga.gov.au/derivative/ga_ls_mangrove_cover_cyear_3/3-0-0/x39/y44/2022--P1Y/ga_ls_mangrove_cover_cyear_3_x39y44_2022--P1Y_final_canopy_cover_class.tif',\n",
       " 'https://data.dea.ga.gov.au/derivative/ga_ls_mangrove_cover_cyear_3/3-0-0/x39/y45/2022--P1Y/ga_ls_mangrove_cover_cyear_3_x39y45_2022--P1Y_final_canopy_cover_class.tif',\n",
       " 'https://data.dea.ga.gov.au/derivative/ga_ls_mangrove_cover_cyear_3/3-0-0/x40/y12/2022--P1Y/ga_ls_mangrove_cover_cyear_3_x40y12_2022--P1Y_final_canopy_cover_class.tif',\n",
       " 'https://data.dea.ga.gov.au/derivative/ga_ls_mangrove_cover_cyear_3/3-0-0/x40/y42/2022--P1Y/ga_ls_mangrove_cover_cyear_3_x40y42_2022--P1Y_final_canopy_cover_class.tif',\n",
       " 'https://data.dea.ga.gov.au/derivative/ga_ls_mangrove_cover_cyear_3/3-0-0/x40/y43/2022--P1Y/ga_ls_mangrove_cover_cyear_3_x40y43_2022--P1Y_final_canopy_cover_class.tif',\n",
       " 'https://data.dea.ga.gov.au/derivative/ga_ls_mangrove_cover_cyear_3/3-0-0/x40/y44/2022--P1Y/ga_ls_mangrove_cover_cyear_3_x40y44_2022--P1Y_final_canopy_cover_class.tif',\n",
       " 'https://data.dea.ga.gov.au/derivative/ga_ls_mangrove_cover_cyear_3/3-0-0/x40/y45/2022--P1Y/ga_ls_mangrove_cover_cyear_3_x40y45_2022--P1Y_final_canopy_cover_class.tif',\n",
       " 'https://data.dea.ga.gov.au/derivative/ga_ls_mangrove_cover_cyear_3/3-0-0/x41/y12/2022--P1Y/ga_ls_mangrove_cover_cyear_3_x41y12_2022--P1Y_final_canopy_cover_class.tif',\n",
       " 'https://data.dea.ga.gov.au/derivative/ga_ls_mangrove_cover_cyear_3/3-0-0/x41/y40/2022--P1Y/ga_ls_mangrove_cover_cyear_3_x41y40_2022--P1Y_final_canopy_cover_class.tif',\n",
       " 'https://data.dea.ga.gov.au/derivative/ga_ls_mangrove_cover_cyear_3/3-0-0/x41/y41/2022--P1Y/ga_ls_mangrove_cover_cyear_3_x41y41_2022--P1Y_final_canopy_cover_class.tif',\n",
       " 'https://data.dea.ga.gov.au/derivative/ga_ls_mangrove_cover_cyear_3/3-0-0/x41/y42/2022--P1Y/ga_ls_mangrove_cover_cyear_3_x41y42_2022--P1Y_final_canopy_cover_class.tif',\n",
       " 'https://data.dea.ga.gov.au/derivative/ga_ls_mangrove_cover_cyear_3/3-0-0/x42/y37/2022--P1Y/ga_ls_mangrove_cover_cyear_3_x42y37_2022--P1Y_final_canopy_cover_class.tif',\n",
       " 'https://data.dea.ga.gov.au/derivative/ga_ls_mangrove_cover_cyear_3/3-0-0/x42/y38/2022--P1Y/ga_ls_mangrove_cover_cyear_3_x42y38_2022--P1Y_final_canopy_cover_class.tif',\n",
       " 'https://data.dea.ga.gov.au/derivative/ga_ls_mangrove_cover_cyear_3/3-0-0/x42/y39/2022--P1Y/ga_ls_mangrove_cover_cyear_3_x42y39_2022--P1Y_final_canopy_cover_class.tif',\n",
       " 'https://data.dea.ga.gov.au/derivative/ga_ls_mangrove_cover_cyear_3/3-0-0/x42/y40/2022--P1Y/ga_ls_mangrove_cover_cyear_3_x42y40_2022--P1Y_final_canopy_cover_class.tif',\n",
       " 'https://data.dea.ga.gov.au/derivative/ga_ls_mangrove_cover_cyear_3/3-0-0/x43/y34/2022--P1Y/ga_ls_mangrove_cover_cyear_3_x43y34_2022--P1Y_final_canopy_cover_class.tif',\n",
       " 'https://data.dea.ga.gov.au/derivative/ga_ls_mangrove_cover_cyear_3/3-0-0/x43/y35/2022--P1Y/ga_ls_mangrove_cover_cyear_3_x43y35_2022--P1Y_final_canopy_cover_class.tif',\n",
       " 'https://data.dea.ga.gov.au/derivative/ga_ls_mangrove_cover_cyear_3/3-0-0/x43/y36/2022--P1Y/ga_ls_mangrove_cover_cyear_3_x43y36_2022--P1Y_final_canopy_cover_class.tif',\n",
       " 'https://data.dea.ga.gov.au/derivative/ga_ls_mangrove_cover_cyear_3/3-0-0/x43/y37/2022--P1Y/ga_ls_mangrove_cover_cyear_3_x43y37_2022--P1Y_final_canopy_cover_class.tif',\n",
       " 'https://data.dea.ga.gov.au/derivative/ga_ls_mangrove_cover_cyear_3/3-0-0/x43/y38/2022--P1Y/ga_ls_mangrove_cover_cyear_3_x43y38_2022--P1Y_final_canopy_cover_class.tif',\n",
       " 'https://data.dea.ga.gov.au/derivative/ga_ls_mangrove_cover_cyear_3/3-0-0/x43/y39/2022--P1Y/ga_ls_mangrove_cover_cyear_3_x43y39_2022--P1Y_final_canopy_cover_class.tif',\n",
       " 'https://data.dea.ga.gov.au/derivative/ga_ls_mangrove_cover_cyear_3/3-0-0/x44/y13/2022--P1Y/ga_ls_mangrove_cover_cyear_3_x44y13_2022--P1Y_final_canopy_cover_class.tif',\n",
       " 'https://data.dea.ga.gov.au/derivative/ga_ls_mangrove_cover_cyear_3/3-0-0/x44/y14/2022--P1Y/ga_ls_mangrove_cover_cyear_3_x44y14_2022--P1Y_final_canopy_cover_class.tif',\n",
       " 'https://data.dea.ga.gov.au/derivative/ga_ls_mangrove_cover_cyear_3/3-0-0/x44/y33/2022--P1Y/ga_ls_mangrove_cover_cyear_3_x44y33_2022--P1Y_final_canopy_cover_class.tif',\n",
       " 'https://data.dea.ga.gov.au/derivative/ga_ls_mangrove_cover_cyear_3/3-0-0/x44/y34/2022--P1Y/ga_ls_mangrove_cover_cyear_3_x44y34_2022--P1Y_final_canopy_cover_class.tif',\n",
       " 'https://data.dea.ga.gov.au/derivative/ga_ls_mangrove_cover_cyear_3/3-0-0/x45/y15/2022--P1Y/ga_ls_mangrove_cover_cyear_3_x45y15_2022--P1Y_final_canopy_cover_class.tif',\n",
       " 'https://data.dea.ga.gov.au/derivative/ga_ls_mangrove_cover_cyear_3/3-0-0/x45/y16/2022--P1Y/ga_ls_mangrove_cover_cyear_3_x45y16_2022--P1Y_final_canopy_cover_class.tif',\n",
       " 'https://data.dea.ga.gov.au/derivative/ga_ls_mangrove_cover_cyear_3/3-0-0/x45/y32/2022--P1Y/ga_ls_mangrove_cover_cyear_3_x45y32_2022--P1Y_final_canopy_cover_class.tif',\n",
       " 'https://data.dea.ga.gov.au/derivative/ga_ls_mangrove_cover_cyear_3/3-0-0/x45/y33/2022--P1Y/ga_ls_mangrove_cover_cyear_3_x45y33_2022--P1Y_final_canopy_cover_class.tif',\n",
       " 'https://data.dea.ga.gov.au/derivative/ga_ls_mangrove_cover_cyear_3/3-0-0/x46/y16/2022--P1Y/ga_ls_mangrove_cover_cyear_3_x46y16_2022--P1Y_final_canopy_cover_class.tif',\n",
       " 'https://data.dea.ga.gov.au/derivative/ga_ls_mangrove_cover_cyear_3/3-0-0/x46/y17/2022--P1Y/ga_ls_mangrove_cover_cyear_3_x46y17_2022--P1Y_final_canopy_cover_class.tif',\n",
       " 'https://data.dea.ga.gov.au/derivative/ga_ls_mangrove_cover_cyear_3/3-0-0/x46/y18/2022--P1Y/ga_ls_mangrove_cover_cyear_3_x46y18_2022--P1Y_final_canopy_cover_class.tif',\n",
       " 'https://data.dea.ga.gov.au/derivative/ga_ls_mangrove_cover_cyear_3/3-0-0/x46/y30/2022--P1Y/ga_ls_mangrove_cover_cyear_3_x46y30_2022--P1Y_final_canopy_cover_class.tif',\n",
       " 'https://data.dea.ga.gov.au/derivative/ga_ls_mangrove_cover_cyear_3/3-0-0/x46/y31/2022--P1Y/ga_ls_mangrove_cover_cyear_3_x46y31_2022--P1Y_final_canopy_cover_class.tif',\n",
       " 'https://data.dea.ga.gov.au/derivative/ga_ls_mangrove_cover_cyear_3/3-0-0/x46/y32/2022--P1Y/ga_ls_mangrove_cover_cyear_3_x46y32_2022--P1Y_final_canopy_cover_class.tif',\n",
       " 'https://data.dea.ga.gov.au/derivative/ga_ls_mangrove_cover_cyear_3/3-0-0/x46/y33/2022--P1Y/ga_ls_mangrove_cover_cyear_3_x46y33_2022--P1Y_final_canopy_cover_class.tif',\n",
       " 'https://data.dea.ga.gov.au/derivative/ga_ls_mangrove_cover_cyear_3/3-0-0/x47/y18/2022--P1Y/ga_ls_mangrove_cover_cyear_3_x47y18_2022--P1Y_final_canopy_cover_class.tif',\n",
       " 'https://data.dea.ga.gov.au/derivative/ga_ls_mangrove_cover_cyear_3/3-0-0/x47/y28/2022--P1Y/ga_ls_mangrove_cover_cyear_3_x47y28_2022--P1Y_final_canopy_cover_class.tif',\n",
       " 'https://data.dea.ga.gov.au/derivative/ga_ls_mangrove_cover_cyear_3/3-0-0/x47/y29/2022--P1Y/ga_ls_mangrove_cover_cyear_3_x47y29_2022--P1Y_final_canopy_cover_class.tif',\n",
       " 'https://data.dea.ga.gov.au/derivative/ga_ls_mangrove_cover_cyear_3/3-0-0/x47/y30/2022--P1Y/ga_ls_mangrove_cover_cyear_3_x47y30_2022--P1Y_final_canopy_cover_class.tif',\n",
       " 'https://data.dea.ga.gov.au/derivative/ga_ls_mangrove_cover_cyear_3/3-0-0/x48/y19/2022--P1Y/ga_ls_mangrove_cover_cyear_3_x48y19_2022--P1Y_final_canopy_cover_class.tif',\n",
       " 'https://data.dea.ga.gov.au/derivative/ga_ls_mangrove_cover_cyear_3/3-0-0/x48/y20/2022--P1Y/ga_ls_mangrove_cover_cyear_3_x48y20_2022--P1Y_final_canopy_cover_class.tif',\n",
       " 'https://data.dea.ga.gov.au/derivative/ga_ls_mangrove_cover_cyear_3/3-0-0/x48/y27/2022--P1Y/ga_ls_mangrove_cover_cyear_3_x48y27_2022--P1Y_final_canopy_cover_class.tif',\n",
       " 'https://data.dea.ga.gov.au/derivative/ga_ls_mangrove_cover_cyear_3/3-0-0/x48/y28/2022--P1Y/ga_ls_mangrove_cover_cyear_3_x48y28_2022--P1Y_final_canopy_cover_class.tif',\n",
       " 'https://data.dea.ga.gov.au/derivative/ga_ls_mangrove_cover_cyear_3/3-0-0/x48/y29/2022--P1Y/ga_ls_mangrove_cover_cyear_3_x48y29_2022--P1Y_final_canopy_cover_class.tif',\n",
       " 'https://data.dea.ga.gov.au/derivative/ga_ls_mangrove_cover_cyear_3/3-0-0/x49/y21/2022--P1Y/ga_ls_mangrove_cover_cyear_3_x49y21_2022--P1Y_final_canopy_cover_class.tif',\n",
       " 'https://data.dea.ga.gov.au/derivative/ga_ls_mangrove_cover_cyear_3/3-0-0/x49/y22/2022--P1Y/ga_ls_mangrove_cover_cyear_3_x49y22_2022--P1Y_final_canopy_cover_class.tif',\n",
       " 'https://data.dea.ga.gov.au/derivative/ga_ls_mangrove_cover_cyear_3/3-0-0/x49/y23/2022--P1Y/ga_ls_mangrove_cover_cyear_3_x49y23_2022--P1Y_final_canopy_cover_class.tif',\n",
       " 'https://data.dea.ga.gov.au/derivative/ga_ls_mangrove_cover_cyear_3/3-0-0/x49/y24/2022--P1Y/ga_ls_mangrove_cover_cyear_3_x49y24_2022--P1Y_final_canopy_cover_class.tif',\n",
       " 'https://data.dea.ga.gov.au/derivative/ga_ls_mangrove_cover_cyear_3/3-0-0/x49/y25/2022--P1Y/ga_ls_mangrove_cover_cyear_3_x49y25_2022--P1Y_final_canopy_cover_class.tif',\n",
       " 'https://data.dea.ga.gov.au/derivative/ga_ls_mangrove_cover_cyear_3/3-0-0/x49/y26/2022--P1Y/ga_ls_mangrove_cover_cyear_3_x49y26_2022--P1Y_final_canopy_cover_class.tif',\n",
       " 'https://data.dea.ga.gov.au/derivative/ga_ls_mangrove_cover_cyear_3/3-0-0/x49/y27/2022--P1Y/ga_ls_mangrove_cover_cyear_3_x49y27_2022--P1Y_final_canopy_cover_class.tif']"
      ]
     },
     "execution_count": 28,
     "metadata": {},
     "output_type": "execute_result"
    }
   ],
   "source": [
    "#x_coordinates = ['08']\n",
    "#y_coordinates = ['26', '27','30']\n",
    "\n",
    "tiles = []\n",
    "for x in x_coordinates:\n",
    "        for y in y_coordinates:\n",
    "            tile_url = tile_url_pattern.format(x=x, y=y, year=2022)\n",
    "            response = requests.get(tile_url)\n",
    "            if response.status_code == 200:\n",
    "                tiles.append(tile_url)\n",
    "                #print(f'Downloading tile: {x} / {y}')\n",
    "                #tile_image = Image.open(io.BytesIO(response.content))\n",
    "                #tile_image.save(out_path + f'AUS_mangrove_cover_2022_x{x}y{y}.tif')\n",
    "tiles\n",
    "                "
   ]
  },
  {
   "cell_type": "code",
   "execution_count": 29,
   "metadata": {},
   "outputs": [],
   "source": [
    "files_handler = [rio.open(i) for i in tiles]"
   ]
  },
  {
   "cell_type": "code",
   "execution_count": 30,
   "metadata": {},
   "outputs": [],
   "source": [
    "memfile = MemoryFile()\n",
    "\n",
    "merge(datasets=files_handler, # list of dataset objects opened in 'r' mode\n",
    "    #bounds=tuple(gdf.set_crs(\"EPSG:4326\").to_crs(files_handler[0].crs).total_bounds), # tuple\n",
    "    nodata=None, # float\n",
    "    dtype='uint16', # dtype\n",
    "    method='first', # strategy to combine overlapping rasters\n",
    "    dst_path=out_path + f'AUS_mangrove_cover_test.tif', # str or PathLike to save raster\n",
    "    dst_kwds={'blockysize':512, 'blockxsize':512} # Dictionary\n",
    "  )"
   ]
  },
  {
   "cell_type": "code",
   "execution_count": 32,
   "metadata": {},
   "outputs": [],
   "source": [
    "combined_raster = rio.open(out_path + f'AUS_mangrove_cover_test.tif')"
   ]
  },
  {
   "cell_type": "code",
   "execution_count": 33,
   "metadata": {},
   "outputs": [
    {
     "data": {
      "text/plain": [
       "(1, 108800, 134400)"
      ]
     },
     "execution_count": 33,
     "metadata": {},
     "output_type": "execute_result"
    }
   ],
   "source": [
    "array = combined_raster.read()\n",
    "array.shape"
   ]
  },
  {
   "cell_type": "code",
   "execution_count": 34,
   "metadata": {},
   "outputs": [
    {
     "data": {
      "text/plain": [
       "CRS.from_epsg(3577)"
      ]
     },
     "execution_count": 34,
     "metadata": {},
     "output_type": "execute_result"
    }
   ],
   "source": [
    "combined_raster.crs"
   ]
  },
  {
   "cell_type": "code",
   "execution_count": null,
   "metadata": {},
   "outputs": [],
   "source": []
  }
 ],
 "metadata": {
  "kernelspec": {
   "display_name": "py39",
   "language": "python",
   "name": "python3"
  },
  "language_info": {
   "codemirror_mode": {
    "name": "ipython",
    "version": 3
   },
   "file_extension": ".py",
   "mimetype": "text/x-python",
   "name": "python",
   "nbconvert_exporter": "python",
   "pygments_lexer": "ipython3",
   "version": "3.9.7"
  },
  "orig_nbformat": 4
 },
 "nbformat": 4,
 "nbformat_minor": 2
}
