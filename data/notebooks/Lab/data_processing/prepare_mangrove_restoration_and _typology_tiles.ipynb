{
 "cells": [
  {
   "cell_type": "markdown",
   "id": "3cef93a3",
   "metadata": {},
   "source": [
    "# Mangrove tiles"
   ]
  },
  {
   "cell_type": "markdown",
   "id": "0d3a5890",
   "metadata": {},
   "source": [
    "We need create vector tiles for the Mangrove restoration and typology data provided by the client [here](https://github.com/Vizzuality/mangrove-atlas/issues/331).  \n",
    "The original link to the source data is [here](https://tnc.app.box.com/s/8abiem7o8lyd9x1pvpe2yn2mdibgpcqk).  \n",
    "The source data is an arcgis GDB and the data is stored in gcs bucket.  \n",
    "The steps this pipe will take are:  \n",
    "Pre.- script to move data from their original location to the gcs bucket.  \n",
    "1.- Download raw data.  \n",
    "2.- Tranform raw data to geojson with (mapshaper, geopandas, ...)  \n",
    "3.- Generate the mbtile file with tippecanoe  \n",
    "4.- Upload the mbtile file to gcs and mapbox as a tileset.  \n",
    "5.- Comunicate to Design and FE team the tileset is ready.  "
   ]
  },
  {
   "cell_type": "code",
   "execution_count": 1,
   "id": "e9cac3e3",
   "metadata": {},
   "outputs": [],
   "source": [
    "import pandas as pd\n",
    "import numpy as np\n",
    "import geopandas as gpd\n",
    "import fiona\n"
   ]
  },
  {
   "cell_type": "markdown",
   "id": "52bfac76",
   "metadata": {},
   "source": [
    "## 1. Download raw data\n",
    "For now, working on local. Awaiting GCS permissions"
   ]
  },
  {
   "cell_type": "markdown",
   "id": "88172d7a",
   "metadata": {},
   "source": [
    "# 2. Transform to geoJSON"
   ]
  },
  {
   "cell_type": "code",
   "execution_count": 2,
   "id": "31dc5135",
   "metadata": {},
   "outputs": [
    {
     "data": {
      "text/html": [
       "<div>\n",
       "<style scoped>\n",
       "    .dataframe tbody tr th:only-of-type {\n",
       "        vertical-align: middle;\n",
       "    }\n",
       "\n",
       "    .dataframe tbody tr th {\n",
       "        vertical-align: top;\n",
       "    }\n",
       "\n",
       "    .dataframe thead th {\n",
       "        text-align: right;\n",
       "    }\n",
       "</style>\n",
       "<table border=\"1\" class=\"dataframe\">\n",
       "  <thead>\n",
       "    <tr style=\"text-align: right;\">\n",
       "      <th></th>\n",
       "      <th>Country</th>\n",
       "      <th>Tot_Restor</th>\n",
       "      <th>Restor_pct</th>\n",
       "      <th>Rest_Area_Loss</th>\n",
       "      <th>Area_loss_pct</th>\n",
       "      <th>Rest_Area_Dgrd</th>\n",
       "      <th>Area_dgrd_pct</th>\n",
       "      <th>Total_2016</th>\n",
       "      <th>Mean_Score</th>\n",
       "      <th>SOC</th>\n",
       "      <th>AGB</th>\n",
       "      <th>People</th>\n",
       "      <th>Fish_Score</th>\n",
       "      <th>Fish_Score_Inv</th>\n",
       "      <th>Shape_Length</th>\n",
       "      <th>Shape_Area</th>\n",
       "      <th>Loss_Driver</th>\n",
       "      <th>geometry</th>\n",
       "    </tr>\n",
       "  </thead>\n",
       "  <tbody>\n",
       "    <tr>\n",
       "      <th>0</th>\n",
       "      <td>American Samoa</td>\n",
       "      <td>0.00000</td>\n",
       "      <td>0</td>\n",
       "      <td>0.00</td>\n",
       "      <td>0</td>\n",
       "      <td>0.00</td>\n",
       "      <td>0</td>\n",
       "      <td>18.74</td>\n",
       "      <td>0</td>\n",
       "      <td>0.000000</td>\n",
       "      <td>0.000000</td>\n",
       "      <td>0</td>\n",
       "      <td>109000000.0</td>\n",
       "      <td>200000.0</td>\n",
       "      <td>5.350212e+04</td>\n",
       "      <td>1.638363e+07</td>\n",
       "      <td>No Data</td>\n",
       "      <td>MULTIPOLYGON (((-19011686.866 -1613074.241, -1...</td>\n",
       "    </tr>\n",
       "    <tr>\n",
       "      <th>1</th>\n",
       "      <td>Angola</td>\n",
       "      <td>580.11556</td>\n",
       "      <td>4</td>\n",
       "      <td>671.43</td>\n",
       "      <td>5</td>\n",
       "      <td>68.92</td>\n",
       "      <td>0</td>\n",
       "      <td>13286.05</td>\n",
       "      <td>62</td>\n",
       "      <td>220274.238512</td>\n",
       "      <td>30809.263129</td>\n",
       "      <td>3800</td>\n",
       "      <td>-1.0</td>\n",
       "      <td>-1.0</td>\n",
       "      <td>1.383794e+06</td>\n",
       "      <td>2.785231e+10</td>\n",
       "      <td>NPC</td>\n",
       "      <td>MULTIPOLYGON (((1550210.491 -1230695.594, 1549...</td>\n",
       "    </tr>\n",
       "    <tr>\n",
       "      <th>2</th>\n",
       "      <td>Anguilla</td>\n",
       "      <td>0.08128</td>\n",
       "      <td>4</td>\n",
       "      <td>1.27</td>\n",
       "      <td>59</td>\n",
       "      <td>0.00</td>\n",
       "      <td>0</td>\n",
       "      <td>0.87</td>\n",
       "      <td>24</td>\n",
       "      <td>407.670000</td>\n",
       "      <td>6.524752</td>\n",
       "      <td>0</td>\n",
       "      <td>1000000.0</td>\n",
       "      <td>2000000.0</td>\n",
       "      <td>2.097797e+04</td>\n",
       "      <td>1.419573e+06</td>\n",
       "      <td>No Data</td>\n",
       "      <td>MULTIPOLYGON (((-7025249.376 2058315.576, -702...</td>\n",
       "    </tr>\n",
       "    <tr>\n",
       "      <th>3</th>\n",
       "      <td>Antigua and Barbuda</td>\n",
       "      <td>14.15571</td>\n",
       "      <td>2</td>\n",
       "      <td>20.19</td>\n",
       "      <td>2</td>\n",
       "      <td>0.00</td>\n",
       "      <td>0</td>\n",
       "      <td>886.30</td>\n",
       "      <td>22</td>\n",
       "      <td>9031.556968</td>\n",
       "      <td>1078.042000</td>\n",
       "      <td>500</td>\n",
       "      <td>8000000.0</td>\n",
       "      <td>13000000.0</td>\n",
       "      <td>1.888816e+05</td>\n",
       "      <td>1.361710e+09</td>\n",
       "      <td>No Data</td>\n",
       "      <td>MULTIPOLYGON (((-6873186.951 1921601.093, -688...</td>\n",
       "    </tr>\n",
       "    <tr>\n",
       "      <th>4</th>\n",
       "      <td>Aruba</td>\n",
       "      <td>19.38207</td>\n",
       "      <td>36</td>\n",
       "      <td>20.55</td>\n",
       "      <td>38</td>\n",
       "      <td>0.00</td>\n",
       "      <td>0</td>\n",
       "      <td>33.79</td>\n",
       "      <td>46</td>\n",
       "      <td>9816.581150</td>\n",
       "      <td>1374.874165</td>\n",
       "      <td>0</td>\n",
       "      <td>71000000.0</td>\n",
       "      <td>119000000.0</td>\n",
       "      <td>3.798229e+04</td>\n",
       "      <td>2.166772e+07</td>\n",
       "      <td>No Data</td>\n",
       "      <td>MULTIPOLYGON (((-7781925.061 1393950.107, -778...</td>\n",
       "    </tr>\n",
       "  </tbody>\n",
       "</table>\n",
       "</div>"
      ],
      "text/plain": [
       "               Country  Tot_Restor  Restor_pct  Rest_Area_Loss  Area_loss_pct  \\\n",
       "0       American Samoa     0.00000           0            0.00              0   \n",
       "1               Angola   580.11556           4          671.43              5   \n",
       "2             Anguilla     0.08128           4            1.27             59   \n",
       "3  Antigua and Barbuda    14.15571           2           20.19              2   \n",
       "4                Aruba    19.38207          36           20.55             38   \n",
       "\n",
       "   Rest_Area_Dgrd  Area_dgrd_pct  Total_2016  Mean_Score            SOC  \\\n",
       "0            0.00              0       18.74           0       0.000000   \n",
       "1           68.92              0    13286.05          62  220274.238512   \n",
       "2            0.00              0        0.87          24     407.670000   \n",
       "3            0.00              0      886.30          22    9031.556968   \n",
       "4            0.00              0       33.79          46    9816.581150   \n",
       "\n",
       "            AGB  People   Fish_Score  Fish_Score_Inv  Shape_Length  \\\n",
       "0      0.000000       0  109000000.0        200000.0  5.350212e+04   \n",
       "1  30809.263129    3800         -1.0            -1.0  1.383794e+06   \n",
       "2      6.524752       0    1000000.0       2000000.0  2.097797e+04   \n",
       "3   1078.042000     500    8000000.0      13000000.0  1.888816e+05   \n",
       "4   1374.874165       0   71000000.0     119000000.0  3.798229e+04   \n",
       "\n",
       "     Shape_Area Loss_Driver                                           geometry  \n",
       "0  1.638363e+07     No Data  MULTIPOLYGON (((-19011686.866 -1613074.241, -1...  \n",
       "1  2.785231e+10         NPC  MULTIPOLYGON (((1550210.491 -1230695.594, 1549...  \n",
       "2  1.419573e+06     No Data  MULTIPOLYGON (((-7025249.376 2058315.576, -702...  \n",
       "3  1.361710e+09     No Data  MULTIPOLYGON (((-6873186.951 1921601.093, -688...  \n",
       "4  2.166772e+07     No Data  MULTIPOLYGON (((-7781925.061 1393950.107, -778...  "
      ]
     },
     "execution_count": 2,
     "metadata": {},
     "output_type": "execute_result"
    }
   ],
   "source": [
    "gdb_file ='../../../datasets/Typology_and_Restoration_Potential/Data/MOW_Global_Mangrove_Restoration_20190411.gdb'\n",
    "layer = gpd.read_file(gdb_file, driver='FileGDB', layer=0)\n",
    "layer.head()"
   ]
  },
  {
   "cell_type": "code",
   "execution_count": 5,
   "id": "42f53aa2",
   "metadata": {
    "scrolled": true
   },
   "outputs": [
    {
     "data": {
      "text/plain": [
       "<Derived Projected CRS: EPSG:3857>\n",
       "Name: WGS 84 / Pseudo-Mercator\n",
       "Axis Info [cartesian]:\n",
       "- X[east]: Easting (metre)\n",
       "- Y[north]: Northing (metre)\n",
       "Area of Use:\n",
       "- name: World between 85.06°S and 85.06°N.\n",
       "- bounds: (-180.0, -85.06, 180.0, 85.06)\n",
       "Coordinate Operation:\n",
       "- name: Popular Visualisation Pseudo-Mercator\n",
       "- method: Popular Visualisation Pseudo Mercator\n",
       "Datum: World Geodetic System 1984 ensemble\n",
       "- Ellipsoid: WGS 84\n",
       "- Prime Meridian: Greenwich"
      ]
     },
     "execution_count": 5,
     "metadata": {},
     "output_type": "execute_result"
    }
   ],
   "source": [
    "layer.crs"
   ]
  },
  {
   "cell_type": "code",
   "execution_count": 6,
   "id": "2519c7b4",
   "metadata": {},
   "outputs": [],
   "source": [
    "layer = layer.to_crs('EPSG:4326')"
   ]
  },
  {
   "cell_type": "code",
   "execution_count": 7,
   "id": "d3b62915",
   "metadata": {},
   "outputs": [
    {
     "data": {
      "text/plain": [
       "<Geographic 2D CRS: EPSG:4326>\n",
       "Name: WGS 84\n",
       "Axis Info [ellipsoidal]:\n",
       "- Lat[north]: Geodetic latitude (degree)\n",
       "- Lon[east]: Geodetic longitude (degree)\n",
       "Area of Use:\n",
       "- name: World.\n",
       "- bounds: (-180.0, -90.0, 180.0, 90.0)\n",
       "Datum: World Geodetic System 1984 ensemble\n",
       "- Ellipsoid: WGS 84\n",
       "- Prime Meridian: Greenwich"
      ]
     },
     "execution_count": 7,
     "metadata": {},
     "output_type": "execute_result"
    }
   ],
   "source": [
    "layer.crs"
   ]
  },
  {
   "cell_type": "code",
   "execution_count": 8,
   "id": "5c432f3f",
   "metadata": {},
   "outputs": [],
   "source": [
    "out_path = '../../../datasets/Typology_and_Restoration_Potential/Data/MOW_Global_Mangrove_Restoration.geojson'\n",
    "\n",
    "layer.to_file(out_path, driver=\"GeoJSON\") "
   ]
  },
  {
   "cell_type": "markdown",
   "id": "689bd51a",
   "metadata": {},
   "source": [
    "## 3. Generate the mbtile file with tippecanoe  \n"
   ]
  },
  {
   "cell_type": "code",
   "execution_count": 10,
   "id": "4c980625",
   "metadata": {},
   "outputs": [
    {
     "name": "stdout",
     "output_type": "stream",
     "text": [
      "For layer 0, using name \"MOW_Global_Mangrove_Restoration\"\n",
      "108 features, 20441 bytes of geometry, 7431 bytes of separate metadata, 15373 bytes of string pool\n",
      "Choosing a maxzoom of -z0 for features about 2772555 feet (845075 meters) apart\n",
      "Choosing a maxzoom of -z5 for resolution of about 10086 feet (3074 meters) within features\n",
      "  99.9%  5/20/13  \n"
     ]
    }
   ],
   "source": [
    "in_file = '../../../datasets/Typology_and_Restoration_Potential/Data/MOW_Global_Mangrove_Restoration.geojson'\n",
    "out_file = '../../../datasets/Typology_and_Restoration_Potential/Data/MOW_Global_Mangrove_Restoration.mbtiles'\n",
    "!tippecanoe -zg -o $out_file --drop-densest-as-needed --force $in_file"
   ]
  },
  {
   "cell_type": "code",
   "execution_count": null,
   "id": "bc5b514b",
   "metadata": {},
   "outputs": [],
   "source": []
  }
 ],
 "metadata": {
  "kernelspec": {
   "display_name": "Python 3 (ipykernel)",
   "language": "python",
   "name": "python3"
  },
  "language_info": {
   "codemirror_mode": {
    "name": "ipython",
    "version": 3
   },
   "file_extension": ".py",
   "mimetype": "text/x-python",
   "name": "python",
   "nbconvert_exporter": "python",
   "pygments_lexer": "ipython3",
   "version": "3.8.12"
  }
 },
 "nbformat": 4,
 "nbformat_minor": 5
}
