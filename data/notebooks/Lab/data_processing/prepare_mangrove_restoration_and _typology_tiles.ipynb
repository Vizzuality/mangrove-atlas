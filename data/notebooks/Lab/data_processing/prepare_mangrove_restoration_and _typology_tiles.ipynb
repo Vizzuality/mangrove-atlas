{
 "cells": [
  {
   "cell_type": "markdown",
   "id": "a70eeaba",
   "metadata": {},
   "source": [
    "We need create vector tiles for the Mangrove restoration and typology data provided by the client [here](https://github.com/Vizzuality/mangrove-atlas/issues/331).  \n",
    "The original link to the source data is [here](https://tnc.app.box.com/s/8abiem7o8lyd9x1pvpe2yn2mdibgpcqk).  \n",
    "The source data is an arcgis GDB and the data is stored in gcs bucket.  \n",
    "The steps this pipe will take are:  \n",
    "Pre.- script to move data from their original location to the gcs bucket.  \n",
    "1.- Download raw data.  \n",
    "2.- Tranform raw data to geojson with (mapshaper, geopandas, ...)  \n",
    "3.- Generate the mbtile file with tippecanoe  \n",
    "4.- Upload the mbtile file to gcs and mapbox as a tileset.  \n",
    "5.- Comunicate to Design and FE team the tileset is ready.  "
   ]
  },
  {
   "cell_type": "markdown",
   "id": "9130fdb5",
   "metadata": {},
   "source": []
  }
 ],
 "metadata": {
  "kernelspec": {
   "display_name": "Python 3 (ipykernel)",
   "language": "python",
   "name": "python3"
  }
 },
 "nbformat": 4,
 "nbformat_minor": 5
}
