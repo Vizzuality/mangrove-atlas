{
 "cells": [
  {
   "cell_type": "markdown",

   "id": "3cef93a3",
   "metadata": {},
   "source": [
    "# Mangrove tiles"
   ]
  },
  {
   "cell_type": "markdown",
   "id": "0d3a5890",
   "metadata": {},
   "source": [
    "We need create vector tiles for the Mangrove restoration and typology data provided by the client [here](https://github.com/Vizzuality/mangrove-atlas/issues/331).  \n",
    "The original link to the source data is [here](https://tnc.app.box.com/s/8abiem7o8lyd9x1pvpe2yn2mdibgpcqk).  \n",
    "The source data is an arcgis GDB and the data is stored in gcs bucket.  \n",
    "The steps this pipe will take are:  \n",
    "Pre.- script to move data from their original location to the gcs bucket.  \n",
    "1.- Download raw data.  \n",
    "2.- Tranform raw data to geojson with (mapshaper, geopandas, ...)  \n",
    "3.- Generate the mbtile file with tippecanoe  \n",
    "4.- Upload the mbtile file to gcs and mapbox as a tileset.  \n",
    "5.- Comunicate to Design and FE team the tileset is ready.  "
   ]
  },
  {
   "cell_type": "code",
   "execution_count": 2,
   "id": "e9cac3e3",
   "metadata": {},
   "outputs": [],
   "source": [
    "import pandas as pd\n",
    "import numpy as np\n",
    "import geopandas as gpd\n",
    "import fiona\n"
   ]
  },
  {
   "cell_type": "markdown",
   "id": "52bfac76",
   "metadata": {},
   "source": [
    "## 1. Download raw data\n",
    "For now, working on local. Awaiting GCS permissions"
   ]
  },
  {
   "cell_type": "markdown",
   "id": "88172d7a",
   "metadata": {},
   "source": [
    "# 2. Transform to geoJSON"
   ]
  },
  {
   "cell_type": "code",
   "execution_count": 3,
   "id": "31dc5135",
   "metadata": {},
   "outputs": [
    {
     "data": {
      "text/html": [
       "<div>\n",
       "<style scoped>\n",
       "    .dataframe tbody tr th:only-of-type {\n",
       "        vertical-align: middle;\n",
       "    }\n",
       "\n",
       "    .dataframe tbody tr th {\n",
       "        vertical-align: top;\n",
       "    }\n",
       "\n",
       "    .dataframe thead th {\n",
       "        text-align: right;\n",
       "    }\n",
       "</style>\n",
       "<table border=\"1\" class=\"dataframe\">\n",
       "  <thead>\n",
       "    <tr style=\"text-align: right;\">\n",
       "      <th></th>\n",
       "      <th>Class</th>\n",
       "      <th>ID</th>\n",
       "      <th>Type</th>\n",
       "      <th>Country</th>\n",
       "      <th>Region</th>\n",
       "      <th>Max_Area_20_ha</th>\n",
       "      <th>Area_loss_ha</th>\n",
       "      <th>Area_loss_pct</th>\n",
       "      <th>Rest_Area_Loss</th>\n",
       "      <th>Rest_Area_Loss_pct</th>\n",
       "      <th>...</th>\n",
       "      <th>AGB</th>\n",
       "      <th>People</th>\n",
       "      <th>Fish_Score</th>\n",
       "      <th>Fish_Score_Inv</th>\n",
       "      <th>Prop_loss1</th>\n",
       "      <th>Total_2016</th>\n",
       "      <th>Shape_Length</th>\n",
       "      <th>Shape_Area</th>\n",
       "      <th>Loss_Driver</th>\n",
       "      <th>geometry</th>\n",
       "    </tr>\n",
       "  </thead>\n",
       "  <tbody>\n",
       "    <tr>\n",
       "      <th>0</th>\n",
       "      <td>Delta</td>\n",
       "      <td>30028</td>\n",
       "      <td>Delta_30028</td>\n",
       "      <td>Madagascar</td>\n",
       "      <td>East and Southern Africa</td>\n",
       "      <td>16309.90</td>\n",
       "      <td>881.10</td>\n",
       "      <td>5</td>\n",
       "      <td>546.28200</td>\n",
       "      <td>3</td>\n",
       "      <td>...</td>\n",
       "      <td>33368.813410</td>\n",
       "      <td>4100</td>\n",
       "      <td>5.640000e+08</td>\n",
       "      <td>7.490000e+08</td>\n",
       "      <td>10</td>\n",
       "      <td>15428.795789</td>\n",
       "      <td>1.863918e+06</td>\n",
       "      <td>1.850339e+08</td>\n",
       "      <td>None</td>\n",
       "      <td>MULTIPOLYGON (((4953272.062 -2264345.607, 4953...</td>\n",
       "    </tr>\n",
       "    <tr>\n",
       "      <th>1</th>\n",
       "      <td>Delta</td>\n",
       "      <td>50000</td>\n",
       "      <td>Delta_50000</td>\n",
       "      <td>Malaysia</td>\n",
       "      <td>Southeast Asia</td>\n",
       "      <td>26443.76</td>\n",
       "      <td>623.85</td>\n",
       "      <td>2</td>\n",
       "      <td>557.09805</td>\n",
       "      <td>2</td>\n",
       "      <td>...</td>\n",
       "      <td>64521.662450</td>\n",
       "      <td>0</td>\n",
       "      <td>4.480000e+08</td>\n",
       "      <td>5.990000e+08</td>\n",
       "      <td>10</td>\n",
       "      <td>25690.633999</td>\n",
       "      <td>2.400825e+06</td>\n",
       "      <td>2.671475e+08</td>\n",
       "      <td>None</td>\n",
       "      <td>MULTIPOLYGON (((13237272.764 595333.394, 13237...</td>\n",
       "    </tr>\n",
       "    <tr>\n",
       "      <th>2</th>\n",
       "      <td>Delta</td>\n",
       "      <td>50001</td>\n",
       "      <td>Delta_50001</td>\n",
       "      <td>Indonesia</td>\n",
       "      <td>Southeast Asia</td>\n",
       "      <td>99528.85</td>\n",
       "      <td>3765.96</td>\n",
       "      <td>4</td>\n",
       "      <td>3483.51300</td>\n",
       "      <td>3</td>\n",
       "      <td>...</td>\n",
       "      <td>388074.656600</td>\n",
       "      <td>300</td>\n",
       "      <td>5.567000e+09</td>\n",
       "      <td>8.190000e+09</td>\n",
       "      <td>10</td>\n",
       "      <td>95362.286892</td>\n",
       "      <td>1.001024e+07</td>\n",
       "      <td>1.002791e+09</td>\n",
       "      <td>None</td>\n",
       "      <td>MULTIPOLYGON (((13107771.090 420349.509, 13107...</td>\n",
       "    </tr>\n",
       "    <tr>\n",
       "      <th>3</th>\n",
       "      <td>Delta</td>\n",
       "      <td>8735</td>\n",
       "      <td>Delta_8735</td>\n",
       "      <td>Honduras</td>\n",
       "      <td>North and Central America and the Caribbean</td>\n",
       "      <td>167.84</td>\n",
       "      <td>18.60</td>\n",
       "      <td>11</td>\n",
       "      <td>9.13260</td>\n",
       "      <td>5</td>\n",
       "      <td>...</td>\n",
       "      <td>789.999563</td>\n",
       "      <td>0</td>\n",
       "      <td>4.570000e+08</td>\n",
       "      <td>7.630000e+08</td>\n",
       "      <td>10</td>\n",
       "      <td>149.237108</td>\n",
       "      <td>6.041805e+04</td>\n",
       "      <td>1.826093e+06</td>\n",
       "      <td>None</td>\n",
       "      <td>MULTIPOLYGON (((-9545201.058 1798187.105, -954...</td>\n",
       "    </tr>\n",
       "    <tr>\n",
       "      <th>4</th>\n",
       "      <td>Delta</td>\n",
       "      <td>8736</td>\n",
       "      <td>Delta_8736</td>\n",
       "      <td>Brazil</td>\n",
       "      <td>South America</td>\n",
       "      <td>157354.23</td>\n",
       "      <td>9609.83</td>\n",
       "      <td>6</td>\n",
       "      <td>7822.40162</td>\n",
       "      <td>4</td>\n",
       "      <td>...</td>\n",
       "      <td>677196.074000</td>\n",
       "      <td>13400</td>\n",
       "      <td>1.500000e+07</td>\n",
       "      <td>0.000000e+00</td>\n",
       "      <td>10</td>\n",
       "      <td>146881.955184</td>\n",
       "      <td>2.592286e+07</td>\n",
       "      <td>1.575569e+09</td>\n",
       "      <td>None</td>\n",
       "      <td>MULTIPOLYGON (((-5401790.660 -171081.462, -540...</td>\n",
       "    </tr>\n",
       "  </tbody>\n",
       "</table>\n",
       "<p>5 rows × 37 columns</p>\n",
       "</div>"
      ],
      "text/plain": [
       "   Class     ID         Type     Country  \\\n",
       "0  Delta  30028  Delta_30028  Madagascar   \n",
       "1  Delta  50000  Delta_50000    Malaysia   \n",
       "2  Delta  50001  Delta_50001   Indonesia   \n",
       "3  Delta   8735   Delta_8735    Honduras   \n",
       "4  Delta   8736   Delta_8736      Brazil   \n",
       "\n",
       "                                        Region  Max_Area_20_ha  Area_loss_ha  \\\n",
       "0                     East and Southern Africa        16309.90        881.10   \n",
       "1                               Southeast Asia        26443.76        623.85   \n",
       "2                               Southeast Asia        99528.85       3765.96   \n",
       "3  North and Central America and the Caribbean          167.84         18.60   \n",
       "4                                South America       157354.23       9609.83   \n",
       "\n",
       "   Area_loss_pct  Rest_Area_Loss  Rest_Area_Loss_pct  ...            AGB  \\\n",
       "0              5       546.28200                   3  ...   33368.813410   \n",
       "1              2       557.09805                   2  ...   64521.662450   \n",
       "2              4      3483.51300                   3  ...  388074.656600   \n",
       "3             11         9.13260                   5  ...     789.999563   \n",
       "4              6      7822.40162                   4  ...  677196.074000   \n",
       "\n",
       "   People    Fish_Score  Fish_Score_Inv Prop_loss1     Total_2016  \\\n",
       "0    4100  5.640000e+08    7.490000e+08         10   15428.795789   \n",
       "1       0  4.480000e+08    5.990000e+08         10   25690.633999   \n",
       "2     300  5.567000e+09    8.190000e+09         10   95362.286892   \n",
       "3       0  4.570000e+08    7.630000e+08         10     149.237108   \n",
       "4   13400  1.500000e+07    0.000000e+00         10  146881.955184   \n",
       "\n",
       "   Shape_Length    Shape_Area Loss_Driver  \\\n",
       "0  1.863918e+06  1.850339e+08        None   \n",
       "1  2.400825e+06  2.671475e+08        None   \n",
       "2  1.001024e+07  1.002791e+09        None   \n",
       "3  6.041805e+04  1.826093e+06        None   \n",
       "4  2.592286e+07  1.575569e+09        None   \n",
       "\n",
       "                                            geometry  \n",
       "0  MULTIPOLYGON (((4953272.062 -2264345.607, 4953...  \n",
       "1  MULTIPOLYGON (((13237272.764 595333.394, 13237...  \n",
       "2  MULTIPOLYGON (((13107771.090 420349.509, 13107...  \n",
       "3  MULTIPOLYGON (((-9545201.058 1798187.105, -954...  \n",
       "4  MULTIPOLYGON (((-5401790.660 -171081.462, -540...  \n",
       "\n",
       "[5 rows x 37 columns]"
      ]
     },
     "execution_count": 3,
     "metadata": {},
     "output_type": "execute_result"
    }
   ],
   "source": [
    "gdb_file ='../../../data/Typology_and_Restoration_Potential/Data/MOW_Global_Mangrove_Restoration_20190411.gdb'\n",
    "layer = gpd.read_file(gdb_file, driver='FileGDB', layer=1)\n",
    "layer.head()"
   ]
  },
  {
   "cell_type": "code",
   "execution_count": 4,
   "id": "42f53aa2",
   "metadata": {
    "scrolled": true
   },
   "outputs": [
    {
     "data": {
      "text/plain": [
       "<Derived Projected CRS: EPSG:3857>\n",
       "Name: WGS 84 / Pseudo-Mercator\n",
       "Axis Info [cartesian]:\n",
       "- X[east]: Easting (metre)\n",
       "- Y[north]: Northing (metre)\n",
       "Area of Use:\n",
       "- name: World between 85.06°S and 85.06°N.\n",
       "- bounds: (-180.0, -85.06, 180.0, 85.06)\n",
       "Coordinate Operation:\n",
       "- name: Popular Visualisation Pseudo-Mercator\n",
       "- method: Popular Visualisation Pseudo Mercator\n",
       "Datum: World Geodetic System 1984 ensemble\n",
       "- Ellipsoid: WGS 84\n",
       "- Prime Meridian: Greenwich"
      ]
     },
     "execution_count": 4,
     "metadata": {},
     "output_type": "execute_result"
    }
   ],
   "source": [
    "layer.crs"
   ]
  },
  {
   "cell_type": "code",
   "execution_count": 5,
   "id": "2519c7b4",
   "metadata": {},
   "outputs": [],
   "source": [
    "layer = layer.to_crs('EPSG:4326')"
   ]
  },
  {
   "cell_type": "code",
   "execution_count": 6,
   "id": "d3b62915",
   "metadata": {},
   "outputs": [
    {
     "data": {
      "text/plain": [
       "<Geographic 2D CRS: EPSG:4326>\n",
       "Name: WGS 84\n",
       "Axis Info [ellipsoidal]:\n",
       "- Lat[north]: Geodetic latitude (degree)\n",
       "- Lon[east]: Geodetic longitude (degree)\n",
       "Area of Use:\n",
       "- name: World.\n",
       "- bounds: (-180.0, -90.0, 180.0, 90.0)\n",
       "Datum: World Geodetic System 1984 ensemble\n",
       "- Ellipsoid: WGS 84\n",
       "- Prime Meridian: Greenwich"
      ]
     },
     "execution_count": 6,
     "metadata": {},
     "output_type": "execute_result"
    }
   ],
   "source": [
    "layer.crs"
   ]
  },
  {
   "cell_type": "code",
   "execution_count": 7,
   "id": "5c432f3f",
   "metadata": {},
   "outputs": [],
   "source": [
    "out_path = '../../../data/Typology_and_Restoration_Potential/Data/MOW_Global_Mangrove_Restoration.geojson'\n",
    "\n",
    "layer.to_file(out_path, driver=\"GeoJSON\") "
   ]
  },
  {
   "cell_type": "markdown",
   "id": "689bd51a",
   "metadata": {},
   "source": [
    "## 3. Generate the mbtile file with tippecanoe  \n"
   ]
  },
  {
   "cell_type": "code",
   "execution_count": 11,
   "id": "4c980625",
   "metadata": {},
   "outputs": [
    {
     "name": "stdout",
     "output_type": "stream",
     "text": [
      "For layer 0, using name \"MOW_Global_Mangrove_Restoration\"\n",
      "6285 features, 240638248 bytes of geometry, 975439 bytes of separate metadata, 755228 bytes of string pool\n",
      "Choosing a maxzoom of -z2 for features about 104264 feet (31780 meters) apart\n",
      "Choosing a maxzoom of -z11 for resolution of about 136 feet (41 meters) within features\n",
      "  99.9%  11/949/970    \n"
     ]
    }
   ],
   "source": [
    "in_file = '../../../data/Typology_and_Restoration_Potential/Data/MOW_Global_Mangrove_Restoration.geojson'\n",
    "out_file = '../../../data/Typology_and_Restoration_Potential/Data/MOW_Global_Mangrove_Restoration.mbtiles'\n",
    "!tippecanoe -zg -o $out_file --drop-densest-as-needed --force $in_file"
   ]
  },
  {
   "cell_type": "code",
   "execution_count": 12,
   "id": "9715bead",
   "metadata": {},
   "outputs": [
    {
     "name": "stdout",
     "output_type": "stream",
     "text": [
      "ALL DONE!\n"
     ]
    }
   ],
   "source": [
    "print('ALL DONE!')"
   ]
  },
  {
   "cell_type": "markdown",
   "id": "03e8bd35",
   "metadata": {},
   "source": [
    "### Optional: visualize tiles with mbview "
   ]
  },
  {
   "cell_type": "code",
   "execution_count": null,
   "id": "bc5b514b",
   "metadata": {},
   "outputs": [],
   "source": [
    "#!npm install -g @mapbox/mbview\n",
    "out_file = '../../../data/Typology_and_Restoration_Potential/Data/MOW_Global_Mangrove_Restoration.mbtiles'\n",
    "!mbview $out_file"
   ]
  },
  {
   "cell_type": "markdown",
   "id": "dbe716e5",
   "metadata": {},
   "source": [
    "## 4. Upload the mbtile file to gcs and mapbox as a tileset.  "
   ]
  },
  {
   "cell_type": "code",
   "execution_count": null,
   "id": "dea1b36a",
   "metadata": {},
   "outputs": [],
   "source": []
  },
  {
   "cell_type": "markdown",
   "id": "cda3714c",
   "metadata": {},
   "source": [
    "## 5. Comunicate to Design and FE team the tileset is ready.  "
   ]
  }
 ],
 "metadata": {
  "interpreter": {
   "hash": "7b4ba2942f82541cc7fb6e0d3ec26b550dd8cc7bced7c4593fc5a9f271ee89fd"
  },
  "kernelspec": {
   "display_name": "Python 3.9.7 ('py39')",
   "language": "python",
   "name": "python3"
  },
  "language_info": {
   "codemirror_mode": {
    "name": "ipython",
    "version": 3
   },
   "file_extension": ".py",
   "mimetype": "text/x-python",
   "name": "python",
   "nbconvert_exporter": "python",
   "pygments_lexer": "ipython3",
   "version": "3.9.7"
  }
 },
 "nbformat": 4,
 "nbformat_minor": 5
}
