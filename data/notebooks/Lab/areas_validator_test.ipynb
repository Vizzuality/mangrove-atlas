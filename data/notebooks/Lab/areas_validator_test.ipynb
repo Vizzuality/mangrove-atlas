{
 "cells": [
  {
   "cell_type": "code",
   "execution_count": 8,
   "id": "b4fb0c9a",
   "metadata": {},
   "outputs": [],
   "source": [
    "import pandas as pd\n",
    "import numpy as np\n",
    "import geopandas as gpd\n",
    "import matplotlib.pyplot as plt\n",
    "import seaborn as sns"
   ]
  },
  {
   "cell_type": "code",
   "execution_count": 13,
   "id": "a099713b",
   "metadata": {},
   "outputs": [
    {
     "data": {
      "text/html": [
       "<div>\n",
       "<style scoped>\n",
       "    .dataframe tbody tr th:only-of-type {\n",
       "        vertical-align: middle;\n",
       "    }\n",
       "\n",
       "    .dataframe tbody tr th {\n",
       "        vertical-align: top;\n",
       "    }\n",
       "\n",
       "    .dataframe thead th {\n",
       "        text-align: right;\n",
       "    }\n",
       "</style>\n",
       "<table border=\"1\" class=\"dataframe\">\n",
       "  <thead>\n",
       "    <tr style=\"text-align: right;\">\n",
       "      <th></th>\n",
       "      <th>0</th>\n",
       "    </tr>\n",
       "  </thead>\n",
       "  <tbody>\n",
       "    <tr>\n",
       "      <th>0</th>\n",
       "      <td>id: 1155, iso: 'WORLDWIDE', location_id: 'worl...</td>\n",
       "    </tr>\n",
       "    <tr>\n",
       "      <th>1</th>\n",
       "      <td>id: 1012, iso: 'ARE', location_id: '2_00000000...</td>\n",
       "    </tr>\n",
       "    <tr>\n",
       "      <th>2</th>\n",
       "      <td>id: 1114, iso: 'BRA', location_id: '2_00000000...</td>\n",
       "    </tr>\n",
       "    <tr>\n",
       "      <th>3</th>\n",
       "      <td>id: 992, iso: 'AGO', location_id: '1_2_97', lo...</td>\n",
       "    </tr>\n",
       "    <tr>\n",
       "      <th>4</th>\n",
       "      <td>id: 964, iso: 'ATG', location_id: '1_2_69', lo...</td>\n",
       "    </tr>\n",
       "  </tbody>\n",
       "</table>\n",
       "</div>"
      ],
      "text/plain": [
       "                                                   0\n",
       "0  id: 1155, iso: 'WORLDWIDE', location_id: 'worl...\n",
       "1  id: 1012, iso: 'ARE', location_id: '2_00000000...\n",
       "2  id: 1114, iso: 'BRA', location_id: '2_00000000...\n",
       "3  id: 992, iso: 'AGO', location_id: '1_2_97', lo...\n",
       "4  id: 964, iso: 'ATG', location_id: '1_2_69', lo..."
      ]
     },
     "execution_count": 13,
     "metadata": {},
     "output_type": "execute_result"
    }
   ],
   "source": [
    "df_locations = pd.read_csv('../../datasets/mangrove-locations.csv', sep=',', header=None)\n",
    "\n",
    "df_locations.head()"
   ]
  },
  {
   "cell_type": "code",
   "execution_count": 18,
   "id": "795e2ff1",
   "metadata": {},
   "outputs": [
    {
     "data": {
      "text/html": [
       "<div>\n",
       "<style scoped>\n",
       "    .dataframe tbody tr th:only-of-type {\n",
       "        vertical-align: middle;\n",
       "    }\n",
       "\n",
       "    .dataframe tbody tr th {\n",
       "        vertical-align: top;\n",
       "    }\n",
       "\n",
       "    .dataframe thead th {\n",
       "        text-align: right;\n",
       "    }\n",
       "</style>\n",
       "<table border=\"1\" class=\"dataframe\">\n",
       "  <thead>\n",
       "    <tr style=\"text-align: right;\">\n",
       "      <th></th>\n",
       "      <th>location_id</th>\n",
       "      <th>year</th>\n",
       "      <th>total_area</th>\n",
       "      <th>protected_area</th>\n",
       "    </tr>\n",
       "  </thead>\n",
       "  <tbody>\n",
       "    <tr>\n",
       "      <th>0</th>\n",
       "      <td>worldwide</td>\n",
       "      <td>2020</td>\n",
       "      <td>200000</td>\n",
       "      <td>200</td>\n",
       "    </tr>\n",
       "    <tr>\n",
       "      <th>1</th>\n",
       "      <td>1_2_97</td>\n",
       "      <td>2020</td>\n",
       "      <td>5000</td>\n",
       "      <td>1000</td>\n",
       "    </tr>\n",
       "  </tbody>\n",
       "</table>\n",
       "</div>"
      ],
      "text/plain": [
       "  location_id  year  total_area  protected_area\n",
       "0   worldwide  2020      200000             200\n",
       "1      1_2_97  2020        5000            1000"
      ]
     },
     "execution_count": 18,
     "metadata": {},
     "output_type": "execute_result"
    }
   ],
   "source": [
    "input_data = pd.DataFrame({'location_id': ['worldwide', '1_2_97'], 'year': [2020, 2020], 'total_area': [200000, 5000], 'protected_area': [200, 1000]})\n",
    "input_data\n"
   ]
  },
  {
   "cell_type": "code",
   "execution_count": 29,
   "id": "d1430879",
   "metadata": {},
   "outputs": [
    {
     "name": "stdout",
     "output_type": "stream",
     "text": [
      "object\n",
      "int64\n"
     ]
    }
   ],
   "source": [
    "print(input_data.dtypes['location_id'])\n",
    "print(input_data.dtypes['year'])"
   ]
  },
  {
   "cell_type": "code",
   "execution_count": 30,
   "id": "625df6bd",
   "metadata": {},
   "outputs": [
    {
     "data": {
      "text/plain": [
       "str"
      ]
     },
     "execution_count": 30,
     "metadata": {},
     "output_type": "execute_result"
    }
   ],
   "source": [
    "type(input_data['location_id'][0])"
   ]
  },
  {
   "cell_type": "code",
   "execution_count": 65,
   "id": "6138be70",
   "metadata": {},
   "outputs": [],
   "source": [
    "def check_type(data, col):\n",
    "    if data.dtypes[col] == 'object':\n",
    "        if type(data[col][0]) == str:\n",
    "            typ = 'str'\n",
    "            return(typ)\n",
    "        else:\n",
    "            typ = 'object (not str)'\n",
    "            return(typ)\n",
    "    if data.dtypes[col] == np.int64 or data.dtypes[col] == np.int32:\n",
    "        typ = 'int'\n",
    "        return(typ)\n"
   ]
  },
  {
   "cell_type": "code",
   "execution_count": 44,
   "id": "6c7a69a6",
   "metadata": {},
   "outputs": [
    {
     "data": {
      "text/plain": [
       "'str'"
      ]
     },
     "execution_count": 44,
     "metadata": {},
     "output_type": "execute_result"
    }
   ],
   "source": [
    "check_type(input_data, 'location_id')"
   ]
  },
  {
   "cell_type": "code",
   "execution_count": 45,
   "id": "a43e30b8",
   "metadata": {},
   "outputs": [
    {
     "data": {
      "text/plain": [
       "'int'"
      ]
     },
     "execution_count": 45,
     "metadata": {},
     "output_type": "execute_result"
    }
   ],
   "source": [
    "check_type(input_data, 'year')"
   ]
  },
  {
   "cell_type": "code",
   "execution_count": null,
   "id": "a6f43104",
   "metadata": {},
   "outputs": [],
   "source": []
  },
  {
   "cell_type": "code",
   "execution_count": 54,
   "id": "8e536514",
   "metadata": {},
   "outputs": [
    {
     "data": {
      "text/plain": [
       "{'location_id': 'str',\n",
       " 'year': 'int',\n",
       " 'total_area': 'int',\n",
       " 'protected_area': 'int',\n",
       " 'metadata': 'dict'}"
      ]
     },
     "execution_count": 54,
     "metadata": {},
     "output_type": "execute_result"
    }
   ],
   "source": [
    "data_model = {'location_id': 'str',\n",
    "'year': 'int',\n",
    "'total_area': 'int',\n",
    "'protected_area': 'int',\n",
    "'metadata': 'dict'}\n",
    "data_model"
   ]
  },
  {
   "cell_type": "code",
   "execution_count": 46,
   "id": "c69ee8e2",
   "metadata": {},
   "outputs": [
    {
     "data": {
      "text/plain": [
       "Index(['location_id', 'year', 'total_area', 'protected_area'], dtype='object')"
      ]
     },
     "execution_count": 46,
     "metadata": {},
     "output_type": "execute_result"
    }
   ],
   "source": [
    "input_data.columns"
   ]
  },
  {
   "cell_type": "code",
   "execution_count": 58,
   "id": "1d13e473",
   "metadata": {},
   "outputs": [
    {
     "name": "stdout",
     "output_type": "stream",
     "text": [
      "variable location_id is OK\n",
      "variable year is OK\n",
      "variable total_area is OK\n",
      "variable protected_area is OK\n",
      "ALL VARIABLES OK\n"
     ]
    }
   ],
   "source": [
    "for c in input_data.columns:\n",
    "    if check_type(input_data, c) == data_model[c]:\n",
    "        print(f'variable {c} is OK')\n",
    "        err=0\n",
    "    else:\n",
    "        print(f'ERROR in variable {c}')\n",
    "        err=1\n",
    "        break\n",
    "if err == 0:\n",
    "    print('ALL VARIABLES OK')"
   ]
  },
  {
   "cell_type": "code",
   "execution_count": 59,
   "id": "61c7b6b2",
   "metadata": {},
   "outputs": [
    {
     "data": {
      "text/html": [
       "<div>\n",
       "<style scoped>\n",
       "    .dataframe tbody tr th:only-of-type {\n",
       "        vertical-align: middle;\n",
       "    }\n",
       "\n",
       "    .dataframe tbody tr th {\n",
       "        vertical-align: top;\n",
       "    }\n",
       "\n",
       "    .dataframe thead th {\n",
       "        text-align: right;\n",
       "    }\n",
       "</style>\n",
       "<table border=\"1\" class=\"dataframe\">\n",
       "  <thead>\n",
       "    <tr style=\"text-align: right;\">\n",
       "      <th></th>\n",
       "      <th>location_id</th>\n",
       "      <th>year</th>\n",
       "      <th>total_area</th>\n",
       "      <th>protected_area</th>\n",
       "    </tr>\n",
       "  </thead>\n",
       "  <tbody>\n",
       "    <tr>\n",
       "      <th>0</th>\n",
       "      <td>worldwide</td>\n",
       "      <td>2020</td>\n",
       "      <td>200000</td>\n",
       "      <td>200</td>\n",
       "    </tr>\n",
       "    <tr>\n",
       "      <th>1</th>\n",
       "      <td>1_2_97</td>\n",
       "      <td>2020</td>\n",
       "      <td>5000</td>\n",
       "      <td>1000</td>\n",
       "    </tr>\n",
       "  </tbody>\n",
       "</table>\n",
       "</div>"
      ],
      "text/plain": [
       "  location_id  year  total_area  protected_area\n",
       "0   worldwide  2020      200000             200\n",
       "1      1_2_97  2020        5000            1000"
      ]
     },
     "execution_count": 59,
     "metadata": {},
     "output_type": "execute_result"
    }
   ],
   "source": [
    "input_data = pd.DataFrame({'location_id': ['worldwide', '1_2_97'], 'year': [2020, '2020'], 'total_area': [200000, 5000], 'protected_area': [200, 1000]})\n",
    "input_data"
   ]
  },
  {
   "cell_type": "code",
   "execution_count": 63,
   "id": "0e090f44",
   "metadata": {},
   "outputs": [],
   "source": [
    "def data_validation(input_data):\n",
    "    for c in input_data.columns:\n",
    "        if check_type(input_data, c) == data_model[c]:\n",
    "            print(f'variable {c} is OK')\n",
    "            err=0\n",
    "        else:\n",
    "            print(f'ERROR in variable {c}: should be {data_model[c]} but it is {check_type(input_data, c)}')\n",
    "            \n",
    "            err=1\n",
    "            break\n",
    "    if err == 0:\n",
    "        print('ALL VARIABLES OK')"
   ]
  },
  {
   "cell_type": "code",
   "execution_count": 66,
   "id": "eaa1cadf",
   "metadata": {},
   "outputs": [
    {
     "name": "stdout",
     "output_type": "stream",
     "text": [
      "variable location_id is OK\n",
      "ERROR in variable year: should be int but it is object (not str)\n"
     ]
    }
   ],
   "source": [
    "data_validation(input_data)"
   ]
  },
  {
   "cell_type": "code",
   "execution_count": null,
   "id": "915872b7",
   "metadata": {},
   "outputs": [],
   "source": []
  }
 ],
 "metadata": {
  "kernelspec": {
   "display_name": "Python 3 (ipykernel)",
   "language": "python",
   "name": "python3"
  },
  "language_info": {
   "codemirror_mode": {
    "name": "ipython",
    "version": 3
   },
   "file_extension": ".py",
   "mimetype": "text/x-python",
   "name": "python",
   "nbconvert_exporter": "python",
   "pygments_lexer": "ipython3",
   "version": "3.8.12"
  }
 },
 "nbformat": 4,
 "nbformat_minor": 5
}
