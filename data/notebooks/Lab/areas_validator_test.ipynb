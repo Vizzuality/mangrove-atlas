{
 "cells": [
  {
   "cell_type": "markdown",
   "id": "85612635",
   "metadata": {},
   "source": [
    "# Validate input data for protected areas  \n",
    "\n",
    "Test code to check if provided data matches the required data model format"
   ]
  },
  {
   "cell_type": "code",
   "execution_count": 1,
   "id": "7914780e",
   "metadata": {},
   "outputs": [],
   "source": [
    "import pandas as pd\n",
    "import numpy as np\n",
    "import geopandas as gpd\n",
    "import matplotlib.pyplot as plt\n",
    "import seaborn as sns"
   ]
  },
  {
   "cell_type": "code",
   "execution_count": null,
   "id": "e6ff345a",
   "metadata": {},
   "outputs": [],
   "source": []
  },
  {
   "cell_type": "markdown",
   "id": "39c9246a",
   "metadata": {},
   "source": [
    "### Dictionary with the data types of the data model"
   ]
  },
  {
   "cell_type": "code",
   "execution_count": 42,
   "id": "c0c0cf05",
   "metadata": {},
   "outputs": [
    {
     "data": {
      "text/plain": [
       "{'location_id': 'str',\n",
       " 'year': 'int',\n",
       " 'total_area': 'float',\n",
       " 'protected_area': 'float',\n",
       " 'pct_protected_area': 'float',\n",
       " 'metadata': 'dict'}"
      ]
     },
     "execution_count": 42,
     "metadata": {},
     "output_type": "execute_result"
    }
   ],
   "source": [
    "data_model = {'location_id': 'str',\n",
    "'year': 'int',\n",
    "'total_area': 'float',\n",
    "'protected_area': 'float',\n",
    "'pct_protected_area': 'float',\n",
    "'metadata': 'dict'}\n",
    "data_model"
   ]
  },
  {
   "cell_type": "markdown",
   "id": "a8307254",
   "metadata": {},
   "source": [
    "### Create fake data with the data model format"
   ]
  },
  {
   "cell_type": "code",
   "execution_count": 18,
   "id": "e1cd5cb4",
   "metadata": {},
   "outputs": [
    {
     "data": {
      "text/html": [
       "<div>\n",
       "<style scoped>\n",
       "    .dataframe tbody tr th:only-of-type {\n",
       "        vertical-align: middle;\n",
       "    }\n",
       "\n",
       "    .dataframe tbody tr th {\n",
       "        vertical-align: top;\n",
       "    }\n",
       "\n",
       "    .dataframe thead th {\n",
       "        text-align: right;\n",
       "    }\n",
       "</style>\n",
       "<table border=\"1\" class=\"dataframe\">\n",
       "  <thead>\n",
       "    <tr style=\"text-align: right;\">\n",
       "      <th></th>\n",
       "      <th>location_id</th>\n",
       "      <th>year</th>\n",
       "      <th>total_area</th>\n",
       "      <th>protected_area</th>\n",
       "    </tr>\n",
       "  </thead>\n",
       "  <tbody>\n",
       "    <tr>\n",
       "      <th>0</th>\n",
       "      <td>worldwide</td>\n",
       "      <td>2020</td>\n",
       "      <td>200000</td>\n",
       "      <td>200</td>\n",
       "    </tr>\n",
       "    <tr>\n",
       "      <th>1</th>\n",
       "      <td>1_2_97</td>\n",
       "      <td>2020</td>\n",
       "      <td>5000</td>\n",
       "      <td>1000</td>\n",
       "    </tr>\n",
       "  </tbody>\n",
       "</table>\n",
       "</div>"
      ],
      "text/plain": [
       "  location_id  year  total_area  protected_area\n",
       "0   worldwide  2020      200000             200\n",
       "1      1_2_97  2020        5000            1000"
      ]
     },
     "execution_count": 18,
     "metadata": {},
     "output_type": "execute_result"
    }
   ],
   "source": [
    "input_data = pd.DataFrame({'location_id': ['worldwide', '1_2_97'], 'year': [2020, 2020], 'total_area': [200000, 5000], 'protected_area': [200, 1000]})\n",
    "input_data\n"
   ]
  },
  {
   "cell_type": "code",
   "execution_count": 29,
   "id": "b3536369",
   "metadata": {},
   "outputs": [
    {
     "name": "stdout",
     "output_type": "stream",
     "text": [
      "object\n",
      "int64\n"
     ]
    }
   ],
   "source": [
    "print(input_data.dtypes['location_id'])\n",
    "print(input_data.dtypes['year'])"
   ]
  },
  {
   "cell_type": "code",
   "execution_count": 30,
   "id": "cb93eacd",
   "metadata": {},
   "outputs": [
    {
     "data": {
      "text/plain": [
       "str"
      ]
     },
     "execution_count": 30,
     "metadata": {},
     "output_type": "execute_result"
    }
   ],
   "source": [
    "type(input_data['location_id'][0])"
   ]
  },
  {
   "cell_type": "markdown",
   "id": "8c23eb36",
   "metadata": {},
   "source": [
    "### Define a function to return data types that match the values of the dictionary"
   ]
  },
  {
   "cell_type": "code",
   "execution_count": 53,
   "id": "aabe2bbc",
   "metadata": {},
   "outputs": [],
   "source": [
    "def check_type(data, col):\n",
    "    if data.dtypes[col] == 'object':\n",
    "        if type(data[col][0]) == str:\n",
    "            typ = 'str'\n",
    "            return(typ)\n",
    "        else:\n",
    "            typ = 'object (not str)'\n",
    "            return(typ)\n",
    "    if data.dtypes[col] == np.int64 or data.dtypes[col] == np.int32:\n",
    "        typ = 'int'\n",
    "        return(typ)\n",
    "    if data.dtypes[col] == np.float64 or data.dtypes[col] == np.float32:\n",
    "        typ = 'float'\n",
    "        return(typ)\n"
   ]
  },
  {
   "cell_type": "code",
   "execution_count": 44,
   "id": "c0e571c7",
   "metadata": {},
   "outputs": [
    {
     "data": {
      "text/plain": [
       "'str'"
      ]
     },
     "execution_count": 44,
     "metadata": {},
     "output_type": "execute_result"
    }
   ],
   "source": [
    "check_type(input_data, 'location_id')"
   ]
  },
  {
   "cell_type": "code",
   "execution_count": 45,
   "id": "d31821de",
   "metadata": {},
   "outputs": [
    {
     "data": {
      "text/plain": [
       "'int'"
      ]
     },
     "execution_count": 45,
     "metadata": {},
     "output_type": "execute_result"
    }
   ],
   "source": [
    "check_type(input_data, 'year')"
   ]
  },
  {
   "cell_type": "markdown",
   "id": "7552224b",
   "metadata": {},
   "source": [
    "### For loop to apply the previous function and check matches "
   ]
  },
  {
   "cell_type": "code",
   "execution_count": 58,
   "id": "b903455f",
   "metadata": {},
   "outputs": [
    {
     "name": "stdout",
     "output_type": "stream",
     "text": [
      "variable location_id is OK\n",
      "variable year is OK\n",
      "variable total_area is OK\n",
      "variable protected_area is OK\n",
      "ALL VARIABLES OK\n"
     ]
    }
   ],
   "source": [
    "for c in input_data.columns:\n",
    "    if check_type(input_data, c) == data_model[c]:\n",
    "        print(f'variable {c} is OK')\n",
    "        err=0\n",
    "    else:\n",
    "        print(f'ERROR in variable {c}')\n",
    "        err=1\n",
    "        break\n",
    "if err == 0:\n",
    "    print('ALL VARIABLES OK')"
   ]
  },
  {
   "cell_type": "code",
   "execution_count": null,
   "id": "a44e85f8",
   "metadata": {},
   "outputs": [],
   "source": []
  },
  {
   "cell_type": "markdown",
   "id": "8100560a",
   "metadata": {},
   "source": [
    "### Define a function with the loop"
   ]
  },
  {
   "cell_type": "code",
   "execution_count": 44,
   "id": "cf12c245",
   "metadata": {},
   "outputs": [],
   "source": [
    "def data_validation(input_data):\n",
    "    for c in input_data.columns:\n",
    "        if check_type(input_data, c) == data_model[c]:\n",
    "            print(f'variable {c} is OK')\n",
    "            err=0\n",
    "        else:\n",
    "            print(f'ERROR in variable {c}: should be {data_model[c]} but it is {check_type(input_data, c)}')\n",
    "            \n",
    "            err=1\n",
    "            break\n",
    "    if err == 0:\n",
    "        print('ALL VARIABLES OK')"
   ]
  },
  {
   "cell_type": "markdown",
   "id": "cbd8242b",
   "metadata": {},
   "source": [
    "### Create fake data with errors (in fields year and total area)"
   ]
  },
  {
   "cell_type": "code",
   "execution_count": 68,
   "id": "f932fde0",
   "metadata": {},
   "outputs": [
    {
     "data": {
      "text/html": [
       "<div>\n",
       "<style scoped>\n",
       "    .dataframe tbody tr th:only-of-type {\n",
       "        vertical-align: middle;\n",
       "    }\n",
       "\n",
       "    .dataframe tbody tr th {\n",
       "        vertical-align: top;\n",
       "    }\n",
       "\n",
       "    .dataframe thead th {\n",
       "        text-align: right;\n",
       "    }\n",
       "</style>\n",
       "<table border=\"1\" class=\"dataframe\">\n",
       "  <thead>\n",
       "    <tr style=\"text-align: right;\">\n",
       "      <th></th>\n",
       "      <th>location_id</th>\n",
       "      <th>year</th>\n",
       "      <th>total_area</th>\n",
       "      <th>protected_area</th>\n",
       "    </tr>\n",
       "  </thead>\n",
       "  <tbody>\n",
       "    <tr>\n",
       "      <th>0</th>\n",
       "      <td>worldwide</td>\n",
       "      <td>2020</td>\n",
       "      <td>200000</td>\n",
       "      <td>200</td>\n",
       "    </tr>\n",
       "    <tr>\n",
       "      <th>1</th>\n",
       "      <td>1_2_97</td>\n",
       "      <td>2020</td>\n",
       "      <td>nonsense</td>\n",
       "      <td>1000</td>\n",
       "    </tr>\n",
       "  </tbody>\n",
       "</table>\n",
       "</div>"
      ],
      "text/plain": [
       "  location_id  year total_area  protected_area\n",
       "0   worldwide  2020     200000             200\n",
       "1      1_2_97  2020   nonsense            1000"
      ]
     },
     "execution_count": 68,
     "metadata": {},
     "output_type": "execute_result"
    }
   ],
   "source": [
    "input_data = pd.DataFrame({'location_id': ['worldwide', '1_2_97'], 'year': [2020, '2020'], 'total_area': [200000, 'nonsense'], 'protected_area': [200, 1000]})\n",
    "input_data"
   ]
  },
  {
   "cell_type": "markdown",
   "id": "5b3d8a75",
   "metadata": {},
   "source": [
    "### Test full function"
   ]
  },
  {
   "cell_type": "code",
   "execution_count": 66,
   "id": "3df8e8cc",
   "metadata": {},
   "outputs": [
    {
     "name": "stdout",
     "output_type": "stream",
     "text": [
      "variable location_id is OK\n",
      "ERROR in variable year: should be int but it is object (not str)\n"
     ]
    }
   ],
   "source": [
    "data_validation(input_data)"
   ]
  },
  {
   "cell_type": "markdown",
   "id": "632f6a14",
   "metadata": {},
   "source": [
    "# Load and process Mangroove data"
   ]
  },
  {
   "cell_type": "markdown",
   "id": "68109b7d",
   "metadata": {},
   "source": [
    "Modify mangrove data (area by country) to fit into the new data model, and then check the validation."
   ]
  },
  {
   "cell_type": "code",
   "execution_count": 12,
   "id": "8c0bd93f",
   "metadata": {},
   "outputs": [
    {
     "data": {
      "text/html": [
       "<div>\n",
       "<style scoped>\n",
       "    .dataframe tbody tr th:only-of-type {\n",
       "        vertical-align: middle;\n",
       "    }\n",
       "\n",
       "    .dataframe tbody tr th {\n",
       "        vertical-align: top;\n",
       "    }\n",
       "\n",
       "    .dataframe thead th {\n",
       "        text-align: right;\n",
       "    }\n",
       "</style>\n",
       "<table border=\"1\" class=\"dataframe\">\n",
       "  <thead>\n",
       "    <tr style=\"text-align: right;\">\n",
       "      <th></th>\n",
       "      <th>Country</th>\n",
       "      <th>Total Mangrove Composite</th>\n",
       "      <th>Total Protected Mangrove Composite</th>\n",
       "      <th>Total Mangrove 1996</th>\n",
       "      <th>Total Protected Mangrove 1996</th>\n",
       "      <th>Total Mangrove 2007</th>\n",
       "      <th>Total Protected Mangrove 2007</th>\n",
       "      <th>Total Mangrove 2010</th>\n",
       "      <th>Total Protected Mangrove 2010</th>\n",
       "      <th>Total Mangrove 2016</th>\n",
       "      <th>Total Protected Mangrove 2016</th>\n",
       "      <th>Net Change in Total Mangrove Extent</th>\n",
       "      <th>Net Change in Protected Mangrove Extent</th>\n",
       "      <th>Unnamed: 13</th>\n",
       "      <th>% in protected areas in 1996</th>\n",
       "      <th>% in protected areas in 2007</th>\n",
       "      <th>% in protected areas in 2010</th>\n",
       "      <th>% protected in 2016</th>\n",
       "    </tr>\n",
       "  </thead>\n",
       "  <tbody>\n",
       "    <tr>\n",
       "      <th>0</th>\n",
       "      <td>American Samoa</td>\n",
       "      <td>0.187447</td>\n",
       "      <td>0.000000</td>\n",
       "      <td>0.187447</td>\n",
       "      <td>0.000000</td>\n",
       "      <td>0.187447</td>\n",
       "      <td>0.000000</td>\n",
       "      <td>0.187447</td>\n",
       "      <td>0.000000</td>\n",
       "      <td>0.187447</td>\n",
       "      <td>0.000000</td>\n",
       "      <td>0.000000</td>\n",
       "      <td>0.000000</td>\n",
       "      <td>NaN</td>\n",
       "      <td>0.00%</td>\n",
       "      <td>0.00%</td>\n",
       "      <td>0.00%</td>\n",
       "      <td>0.0%</td>\n",
       "    </tr>\n",
       "    <tr>\n",
       "      <th>1</th>\n",
       "      <td>Angola</td>\n",
       "      <td>139.542529</td>\n",
       "      <td>1.769203</td>\n",
       "      <td>136.884844</td>\n",
       "      <td>1.725696</td>\n",
       "      <td>133.431203</td>\n",
       "      <td>1.715800</td>\n",
       "      <td>129.155410</td>\n",
       "      <td>1.611917</td>\n",
       "      <td>132.828293</td>\n",
       "      <td>1.687598</td>\n",
       "      <td>-4.056551</td>\n",
       "      <td>-0.038098</td>\n",
       "      <td>NaN</td>\n",
       "      <td>1.26%</td>\n",
       "      <td>1.29%</td>\n",
       "      <td>1.27%</td>\n",
       "      <td>1.3%</td>\n",
       "    </tr>\n",
       "    <tr>\n",
       "      <th>2</th>\n",
       "      <td>Anguilla</td>\n",
       "      <td>0.021393</td>\n",
       "      <td>0.000000</td>\n",
       "      <td>0.021393</td>\n",
       "      <td>0.000000</td>\n",
       "      <td>0.021393</td>\n",
       "      <td>0.000000</td>\n",
       "      <td>0.008674</td>\n",
       "      <td>0.000000</td>\n",
       "      <td>0.008674</td>\n",
       "      <td>0.000000</td>\n",
       "      <td>-0.012719</td>\n",
       "      <td>0.000000</td>\n",
       "      <td>NaN</td>\n",
       "      <td>0.00%</td>\n",
       "      <td>0.00%</td>\n",
       "      <td>0.00%</td>\n",
       "      <td>0.0%</td>\n",
       "    </tr>\n",
       "    <tr>\n",
       "      <th>3</th>\n",
       "      <td>Antigua and Barbuda</td>\n",
       "      <td>9.064915</td>\n",
       "      <td>4.494175</td>\n",
       "      <td>9.048649</td>\n",
       "      <td>4.479555</td>\n",
       "      <td>9.048649</td>\n",
       "      <td>4.479555</td>\n",
       "      <td>8.856625</td>\n",
       "      <td>4.435916</td>\n",
       "      <td>8.863024</td>\n",
       "      <td>4.444657</td>\n",
       "      <td>-0.185625</td>\n",
       "      <td>-0.034898</td>\n",
       "      <td>NaN</td>\n",
       "      <td>49.51%</td>\n",
       "      <td>49.51%</td>\n",
       "      <td>50.15%</td>\n",
       "      <td>50.1%</td>\n",
       "    </tr>\n",
       "    <tr>\n",
       "      <th>4</th>\n",
       "      <td>Aruba</td>\n",
       "      <td>0.543387</td>\n",
       "      <td>0.008297</td>\n",
       "      <td>0.543387</td>\n",
       "      <td>0.008297</td>\n",
       "      <td>0.337894</td>\n",
       "      <td>0.008297</td>\n",
       "      <td>0.337894</td>\n",
       "      <td>0.008297</td>\n",
       "      <td>0.337894</td>\n",
       "      <td>0.008297</td>\n",
       "      <td>-0.205493</td>\n",
       "      <td>0.000000</td>\n",
       "      <td>NaN</td>\n",
       "      <td>1.53%</td>\n",
       "      <td>2.46%</td>\n",
       "      <td>2.46%</td>\n",
       "      <td>2.5%</td>\n",
       "    </tr>\n",
       "  </tbody>\n",
       "</table>\n",
       "</div>"
      ],
      "text/plain": [
       "               Country  Total Mangrove Composite  \\\n",
       "0       American Samoa                  0.187447   \n",
       "1               Angola                139.542529   \n",
       "2             Anguilla                  0.021393   \n",
       "3  Antigua and Barbuda                  9.064915   \n",
       "4                Aruba                  0.543387   \n",
       "\n",
       "   Total Protected Mangrove Composite  Total Mangrove 1996  \\\n",
       "0                            0.000000             0.187447   \n",
       "1                            1.769203           136.884844   \n",
       "2                            0.000000             0.021393   \n",
       "3                            4.494175             9.048649   \n",
       "4                            0.008297             0.543387   \n",
       "\n",
       "   Total Protected Mangrove 1996  Total Mangrove 2007  \\\n",
       "0                       0.000000             0.187447   \n",
       "1                       1.725696           133.431203   \n",
       "2                       0.000000             0.021393   \n",
       "3                       4.479555             9.048649   \n",
       "4                       0.008297             0.337894   \n",
       "\n",
       "   Total Protected Mangrove 2007  Total Mangrove 2010  \\\n",
       "0                       0.000000             0.187447   \n",
       "1                       1.715800           129.155410   \n",
       "2                       0.000000             0.008674   \n",
       "3                       4.479555             8.856625   \n",
       "4                       0.008297             0.337894   \n",
       "\n",
       "   Total Protected Mangrove 2010  Total Mangrove 2016  \\\n",
       "0                       0.000000             0.187447   \n",
       "1                       1.611917           132.828293   \n",
       "2                       0.000000             0.008674   \n",
       "3                       4.435916             8.863024   \n",
       "4                       0.008297             0.337894   \n",
       "\n",
       "   Total Protected Mangrove 2016  Net Change in Total Mangrove Extent  \\\n",
       "0                       0.000000                             0.000000   \n",
       "1                       1.687598                            -4.056551   \n",
       "2                       0.000000                            -0.012719   \n",
       "3                       4.444657                            -0.185625   \n",
       "4                       0.008297                            -0.205493   \n",
       "\n",
       "   Net Change in Protected Mangrove Extent  Unnamed: 13  \\\n",
       "0                                 0.000000          NaN   \n",
       "1                                -0.038098          NaN   \n",
       "2                                 0.000000          NaN   \n",
       "3                                -0.034898          NaN   \n",
       "4                                 0.000000          NaN   \n",
       "\n",
       "  % in protected areas in 1996 % in protected areas in 2007  \\\n",
       "0                        0.00%                        0.00%   \n",
       "1                        1.26%                        1.29%   \n",
       "2                        0.00%                        0.00%   \n",
       "3                       49.51%                       49.51%   \n",
       "4                        1.53%                        2.46%   \n",
       "\n",
       "  % in protected areas in 2010 % protected in 2016  \n",
       "0                        0.00%                0.0%  \n",
       "1                        1.27%                1.3%  \n",
       "2                        0.00%                0.0%  \n",
       "3                       50.15%               50.1%  \n",
       "4                        2.46%                2.5%  "
      ]
     },
     "execution_count": 12,
     "metadata": {},
     "output_type": "execute_result"
    }
   ],
   "source": [
    "mang_df = pd.read_csv('../../datasets/Mangrove_Protection_Calculations_20210430.csv', sep=',')\n",
    "mang_df.head()"
   ]
  },
  {
   "cell_type": "code",
   "execution_count": 14,
   "id": "1b035838",
   "metadata": {},
   "outputs": [
    {
     "data": {
      "text/html": [
       "<div>\n",
       "<style scoped>\n",
       "    .dataframe tbody tr th:only-of-type {\n",
       "        vertical-align: middle;\n",
       "    }\n",
       "\n",
       "    .dataframe tbody tr th {\n",
       "        vertical-align: top;\n",
       "    }\n",
       "\n",
       "    .dataframe thead th {\n",
       "        text-align: right;\n",
       "    }\n",
       "</style>\n",
       "<table border=\"1\" class=\"dataframe\">\n",
       "  <thead>\n",
       "    <tr style=\"text-align: right;\">\n",
       "      <th></th>\n",
       "      <th>Country</th>\n",
       "      <th>Total Mangrove Composite</th>\n",
       "      <th>Total Protected Mangrove Composite</th>\n",
       "      <th>Total Mangrove 1996</th>\n",
       "      <th>Total Protected Mangrove 1996</th>\n",
       "      <th>Total Mangrove 2007</th>\n",
       "      <th>Total Protected Mangrove 2007</th>\n",
       "      <th>Total Mangrove 2010</th>\n",
       "      <th>Total Protected Mangrove 2010</th>\n",
       "      <th>Total Mangrove 2016</th>\n",
       "      <th>Total Protected Mangrove 2016</th>\n",
       "      <th>Net Change in Total Mangrove Extent</th>\n",
       "      <th>Net Change in Protected Mangrove Extent</th>\n",
       "      <th>% in protected areas in 1996</th>\n",
       "      <th>% in protected areas in 2007</th>\n",
       "      <th>% in protected areas in 2010</th>\n",
       "      <th>% protected in 2016</th>\n",
       "    </tr>\n",
       "  </thead>\n",
       "  <tbody>\n",
       "    <tr>\n",
       "      <th>0</th>\n",
       "      <td>American Samoa</td>\n",
       "      <td>0.187447</td>\n",
       "      <td>0.000000</td>\n",
       "      <td>0.187447</td>\n",
       "      <td>0.000000</td>\n",
       "      <td>0.187447</td>\n",
       "      <td>0.000000</td>\n",
       "      <td>0.187447</td>\n",
       "      <td>0.000000</td>\n",
       "      <td>0.187447</td>\n",
       "      <td>0.000000</td>\n",
       "      <td>0.000000</td>\n",
       "      <td>0.000000</td>\n",
       "      <td>0.00%</td>\n",
       "      <td>0.00%</td>\n",
       "      <td>0.00%</td>\n",
       "      <td>0.0%</td>\n",
       "    </tr>\n",
       "    <tr>\n",
       "      <th>1</th>\n",
       "      <td>Angola</td>\n",
       "      <td>139.542529</td>\n",
       "      <td>1.769203</td>\n",
       "      <td>136.884844</td>\n",
       "      <td>1.725696</td>\n",
       "      <td>133.431203</td>\n",
       "      <td>1.715800</td>\n",
       "      <td>129.155410</td>\n",
       "      <td>1.611917</td>\n",
       "      <td>132.828293</td>\n",
       "      <td>1.687598</td>\n",
       "      <td>-4.056551</td>\n",
       "      <td>-0.038098</td>\n",
       "      <td>1.26%</td>\n",
       "      <td>1.29%</td>\n",
       "      <td>1.27%</td>\n",
       "      <td>1.3%</td>\n",
       "    </tr>\n",
       "    <tr>\n",
       "      <th>2</th>\n",
       "      <td>Anguilla</td>\n",
       "      <td>0.021393</td>\n",
       "      <td>0.000000</td>\n",
       "      <td>0.021393</td>\n",
       "      <td>0.000000</td>\n",
       "      <td>0.021393</td>\n",
       "      <td>0.000000</td>\n",
       "      <td>0.008674</td>\n",
       "      <td>0.000000</td>\n",
       "      <td>0.008674</td>\n",
       "      <td>0.000000</td>\n",
       "      <td>-0.012719</td>\n",
       "      <td>0.000000</td>\n",
       "      <td>0.00%</td>\n",
       "      <td>0.00%</td>\n",
       "      <td>0.00%</td>\n",
       "      <td>0.0%</td>\n",
       "    </tr>\n",
       "    <tr>\n",
       "      <th>3</th>\n",
       "      <td>Antigua and Barbuda</td>\n",
       "      <td>9.064915</td>\n",
       "      <td>4.494175</td>\n",
       "      <td>9.048649</td>\n",
       "      <td>4.479555</td>\n",
       "      <td>9.048649</td>\n",
       "      <td>4.479555</td>\n",
       "      <td>8.856625</td>\n",
       "      <td>4.435916</td>\n",
       "      <td>8.863024</td>\n",
       "      <td>4.444657</td>\n",
       "      <td>-0.185625</td>\n",
       "      <td>-0.034898</td>\n",
       "      <td>49.51%</td>\n",
       "      <td>49.51%</td>\n",
       "      <td>50.15%</td>\n",
       "      <td>50.1%</td>\n",
       "    </tr>\n",
       "    <tr>\n",
       "      <th>4</th>\n",
       "      <td>Aruba</td>\n",
       "      <td>0.543387</td>\n",
       "      <td>0.008297</td>\n",
       "      <td>0.543387</td>\n",
       "      <td>0.008297</td>\n",
       "      <td>0.337894</td>\n",
       "      <td>0.008297</td>\n",
       "      <td>0.337894</td>\n",
       "      <td>0.008297</td>\n",
       "      <td>0.337894</td>\n",
       "      <td>0.008297</td>\n",
       "      <td>-0.205493</td>\n",
       "      <td>0.000000</td>\n",
       "      <td>1.53%</td>\n",
       "      <td>2.46%</td>\n",
       "      <td>2.46%</td>\n",
       "      <td>2.5%</td>\n",
       "    </tr>\n",
       "  </tbody>\n",
       "</table>\n",
       "</div>"
      ],
      "text/plain": [
       "               Country  Total Mangrove Composite  \\\n",
       "0       American Samoa                  0.187447   \n",
       "1               Angola                139.542529   \n",
       "2             Anguilla                  0.021393   \n",
       "3  Antigua and Barbuda                  9.064915   \n",
       "4                Aruba                  0.543387   \n",
       "\n",
       "   Total Protected Mangrove Composite  Total Mangrove 1996  \\\n",
       "0                            0.000000             0.187447   \n",
       "1                            1.769203           136.884844   \n",
       "2                            0.000000             0.021393   \n",
       "3                            4.494175             9.048649   \n",
       "4                            0.008297             0.543387   \n",
       "\n",
       "   Total Protected Mangrove 1996  Total Mangrove 2007  \\\n",
       "0                       0.000000             0.187447   \n",
       "1                       1.725696           133.431203   \n",
       "2                       0.000000             0.021393   \n",
       "3                       4.479555             9.048649   \n",
       "4                       0.008297             0.337894   \n",
       "\n",
       "   Total Protected Mangrove 2007  Total Mangrove 2010  \\\n",
       "0                       0.000000             0.187447   \n",
       "1                       1.715800           129.155410   \n",
       "2                       0.000000             0.008674   \n",
       "3                       4.479555             8.856625   \n",
       "4                       0.008297             0.337894   \n",
       "\n",
       "   Total Protected Mangrove 2010  Total Mangrove 2016  \\\n",
       "0                       0.000000             0.187447   \n",
       "1                       1.611917           132.828293   \n",
       "2                       0.000000             0.008674   \n",
       "3                       4.435916             8.863024   \n",
       "4                       0.008297             0.337894   \n",
       "\n",
       "   Total Protected Mangrove 2016  Net Change in Total Mangrove Extent  \\\n",
       "0                       0.000000                             0.000000   \n",
       "1                       1.687598                            -4.056551   \n",
       "2                       0.000000                            -0.012719   \n",
       "3                       4.444657                            -0.185625   \n",
       "4                       0.008297                            -0.205493   \n",
       "\n",
       "   Net Change in Protected Mangrove Extent % in protected areas in 1996  \\\n",
       "0                                 0.000000                        0.00%   \n",
       "1                                -0.038098                        1.26%   \n",
       "2                                 0.000000                        0.00%   \n",
       "3                                -0.034898                       49.51%   \n",
       "4                                 0.000000                        1.53%   \n",
       "\n",
       "  % in protected areas in 2007 % in protected areas in 2010  \\\n",
       "0                        0.00%                        0.00%   \n",
       "1                        1.29%                        1.27%   \n",
       "2                        0.00%                        0.00%   \n",
       "3                       49.51%                       50.15%   \n",
       "4                        2.46%                        2.46%   \n",
       "\n",
       "  % protected in 2016  \n",
       "0                0.0%  \n",
       "1                1.3%  \n",
       "2                0.0%  \n",
       "3               50.1%  \n",
       "4                2.5%  "
      ]
     },
     "execution_count": 14,
     "metadata": {},
     "output_type": "execute_result"
    }
   ],
   "source": [
    "mang_df = pd.read_csv('../../datasets/Mangrove_Protection_Calculations_20210430.csv', sep=',').filter(regex='Country|Total|Net|%').dropna()\n",
    "mang_df.head()"
   ]
  },
  {
   "cell_type": "code",
   "execution_count": 19,
   "id": "4ca13d3e",
   "metadata": {},
   "outputs": [
    {
     "data": {
      "text/plain": [
       "['2010', '2007', '1996', '2016']"
      ]
     },
     "execution_count": 19,
     "metadata": {},
     "output_type": "execute_result"
    }
   ],
   "source": [
    "years = mang_df.filter(regex='[0-9]').columns.str[-4:]\n",
    "years = list(set(years))\n",
    "years"
   ]
  },
  {
   "cell_type": "code",
   "execution_count": 46,
   "id": "68175561",
   "metadata": {},
   "outputs": [
    {
     "data": {
      "text/html": [
       "<div>\n",
       "<style scoped>\n",
       "    .dataframe tbody tr th:only-of-type {\n",
       "        vertical-align: middle;\n",
       "    }\n",
       "\n",
       "    .dataframe tbody tr th {\n",
       "        vertical-align: top;\n",
       "    }\n",
       "\n",
       "    .dataframe thead th {\n",
       "        text-align: right;\n",
       "    }\n",
       "</style>\n",
       "<table border=\"1\" class=\"dataframe\">\n",
       "  <thead>\n",
       "    <tr style=\"text-align: right;\">\n",
       "      <th></th>\n",
       "      <th>Country</th>\n",
       "      <th>total_area</th>\n",
       "      <th>protected_area</th>\n",
       "      <th>pct_protected_area</th>\n",
       "      <th>year</th>\n",
       "    </tr>\n",
       "  </thead>\n",
       "  <tbody>\n",
       "    <tr>\n",
       "      <th>0</th>\n",
       "      <td>American Samoa</td>\n",
       "      <td>0.187447</td>\n",
       "      <td>0.000000</td>\n",
       "      <td>0.00</td>\n",
       "      <td>2010</td>\n",
       "    </tr>\n",
       "    <tr>\n",
       "      <th>1</th>\n",
       "      <td>Angola</td>\n",
       "      <td>129.155410</td>\n",
       "      <td>1.611917</td>\n",
       "      <td>1.27</td>\n",
       "      <td>2010</td>\n",
       "    </tr>\n",
       "    <tr>\n",
       "      <th>2</th>\n",
       "      <td>Anguilla</td>\n",
       "      <td>0.008674</td>\n",
       "      <td>0.000000</td>\n",
       "      <td>0.00</td>\n",
       "      <td>2010</td>\n",
       "    </tr>\n",
       "    <tr>\n",
       "      <th>3</th>\n",
       "      <td>Antigua and Barbuda</td>\n",
       "      <td>8.856625</td>\n",
       "      <td>4.435916</td>\n",
       "      <td>50.15</td>\n",
       "      <td>2010</td>\n",
       "    </tr>\n",
       "    <tr>\n",
       "      <th>4</th>\n",
       "      <td>Aruba</td>\n",
       "      <td>0.337894</td>\n",
       "      <td>0.008297</td>\n",
       "      <td>2.46</td>\n",
       "      <td>2010</td>\n",
       "    </tr>\n",
       "    <tr>\n",
       "      <th>...</th>\n",
       "      <td>...</td>\n",
       "      <td>...</td>\n",
       "      <td>...</td>\n",
       "      <td>...</td>\n",
       "      <td>...</td>\n",
       "    </tr>\n",
       "    <tr>\n",
       "      <th>102</th>\n",
       "      <td>Vanuatu</td>\n",
       "      <td>17.636071</td>\n",
       "      <td>0.000000</td>\n",
       "      <td>0.00</td>\n",
       "      <td>2016</td>\n",
       "    </tr>\n",
       "    <tr>\n",
       "      <th>103</th>\n",
       "      <td>Venezuela</td>\n",
       "      <td>2781.476135</td>\n",
       "      <td>1857.909775</td>\n",
       "      <td>66.80</td>\n",
       "      <td>2016</td>\n",
       "    </tr>\n",
       "    <tr>\n",
       "      <th>104</th>\n",
       "      <td>Vietnam</td>\n",
       "      <td>1589.863153</td>\n",
       "      <td>735.078649</td>\n",
       "      <td>46.20</td>\n",
       "      <td>2016</td>\n",
       "    </tr>\n",
       "    <tr>\n",
       "      <th>105</th>\n",
       "      <td>Virgin Islands, U.S.</td>\n",
       "      <td>2.049654</td>\n",
       "      <td>1.200173</td>\n",
       "      <td>58.60</td>\n",
       "      <td>2016</td>\n",
       "    </tr>\n",
       "    <tr>\n",
       "      <th>106</th>\n",
       "      <td>Yemen</td>\n",
       "      <td>15.419600</td>\n",
       "      <td>2.417552</td>\n",
       "      <td>15.70</td>\n",
       "      <td>2016</td>\n",
       "    </tr>\n",
       "  </tbody>\n",
       "</table>\n",
       "<p>428 rows × 5 columns</p>\n",
       "</div>"
      ],
      "text/plain": [
       "                  Country   total_area  protected_area  pct_protected_area  \\\n",
       "0          American Samoa     0.187447        0.000000                0.00   \n",
       "1                  Angola   129.155410        1.611917                1.27   \n",
       "2                Anguilla     0.008674        0.000000                0.00   \n",
       "3     Antigua and Barbuda     8.856625        4.435916               50.15   \n",
       "4                   Aruba     0.337894        0.008297                2.46   \n",
       "..                    ...          ...             ...                 ...   \n",
       "102               Vanuatu    17.636071        0.000000                0.00   \n",
       "103             Venezuela  2781.476135     1857.909775               66.80   \n",
       "104               Vietnam  1589.863153      735.078649               46.20   \n",
       "105  Virgin Islands, U.S.     2.049654        1.200173               58.60   \n",
       "106                 Yemen    15.419600        2.417552               15.70   \n",
       "\n",
       "     year  \n",
       "0    2010  \n",
       "1    2010  \n",
       "2    2010  \n",
       "3    2010  \n",
       "4    2010  \n",
       "..    ...  \n",
       "102  2016  \n",
       "103  2016  \n",
       "104  2016  \n",
       "105  2016  \n",
       "106  2016  \n",
       "\n",
       "[428 rows x 5 columns]"
      ]
     },
     "execution_count": 46,
     "metadata": {},
     "output_type": "execute_result"
    }
   ],
   "source": [
    "for year in years:\n",
    "    pat = 'Country|'+year\n",
    "    year_df = mang_df.filter(regex=pat).copy()\n",
    "    year_df.columns = ['Country', 'total_area', 'protected_area', 'pct_protected_area']\n",
    "    year_df['pct_protected_area'] = year_df['pct_protected_area'].str.replace('%','')\n",
    "    year_df['pct_protected_area'] = pd.to_numeric(year_df['pct_protected_area'])\n",
    "    year_df['year'] = np.int64(year)\n",
    "    if year == years[0]:\n",
    "        df_final = year_df\n",
    "    else:\n",
    "        df_final = pd.concat([df_final, year_df])\n",
    "df_final"
   ]
  },
  {
   "cell_type": "code",
   "execution_count": 47,
   "id": "213a8b2b",
   "metadata": {},
   "outputs": [
    {
     "data": {
      "text/plain": [
       "Country                object\n",
       "total_area            float64\n",
       "protected_area        float64\n",
       "pct_protected_area    float64\n",
       "year                    int64\n",
       "dtype: object"
      ]
     },
     "execution_count": 47,
     "metadata": {},
     "output_type": "execute_result"
    }
   ],
   "source": [
    "df_final.dtypes"
   ]
  },
  {
   "cell_type": "markdown",
   "id": "4a6742fa",
   "metadata": {},
   "source": [
    "Check validation (without countries / location for now)"
   ]
  },
  {
   "cell_type": "code",
   "execution_count": 54,
   "id": "e3074198",
   "metadata": {},
   "outputs": [
    {
     "name": "stdout",
     "output_type": "stream",
     "text": [
      "variable total_area is OK\n",
      "variable protected_area is OK\n",
      "variable pct_protected_area is OK\n",
      "variable year is OK\n",
      "ALL VARIABLES OK\n"
     ]
    }
   ],
   "source": [
    "data_validation(df_final.filter(regex='area|year'))"
   ]
  },
  {
   "cell_type": "markdown",
   "id": "b5061cb1",
   "metadata": {},
   "source": [
    "## To-Do list  \n",
    "- Check the metadata field (JSON / dict format)  \n",
    "- Check that the location IDs exist in the locations table in the database"
   ]
  },
  {
   "cell_type": "code",
   "execution_count": null,
   "id": "a995c040",
   "metadata": {},
   "outputs": [],
   "source": []
  }
 ],
 "metadata": {
  "kernelspec": {
   "display_name": "Python 3 (ipykernel)",
   "language": "python",
   "name": "python3"
  },
  "language_info": {
   "codemirror_mode": {
    "name": "ipython",
    "version": 3
   },
   "file_extension": ".py",
   "mimetype": "text/x-python",
   "name": "python",
   "nbconvert_exporter": "python",
   "pygments_lexer": "ipython3",
   "version": "3.8.12"
  }
 },
 "nbformat": 4,
 "nbformat_minor": 5
}
