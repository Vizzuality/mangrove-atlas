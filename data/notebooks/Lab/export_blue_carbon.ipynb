{
 "cells": [
  {
   "cell_type": "markdown",
   "id": "31b25457",
   "metadata": {},
   "source": [
    "## Export Blue Carbon tiffs"
   ]
  },
  {
   "cell_type": "markdown",
   "id": "f5457d2b",
   "metadata": {},
   "source": [
    "* #### **Step 1:** Take Blue carbon Asset from GEE and export to the cloud storage as tiffs\n",
    "* #### **Step 2:** Take exported tiffs and unify into one single file and reupload to GCS"
   ]
  },
  {
   "cell_type": "markdown",
   "id": "bf6f9e5f",
   "metadata": {},
   "source": [
    "### Step 1: Export Asset (GEE) to tiff (GCS)"
   ]
  },
  {
   "cell_type": "code",
   "execution_count": 1,
   "id": "0d97c41d",
   "metadata": {},
   "outputs": [],
   "source": [
    "import ee"
   ]
  },
  {
   "cell_type": "code",
   "execution_count": 2,
   "id": "0b908ec4",
   "metadata": {},
   "outputs": [
    {
     "data": {
      "text/html": [
       "<p>To authorize access needed by Earth Engine, open the following\n",
       "        URL in a web browser and follow the instructions:</p>\n",
       "        <p><a href=https://accounts.google.com/o/oauth2/auth?client_id=517222506229-vsmmajv00ul0bs7p89v5m89qs8eb9359.apps.googleusercontent.com&scope=https%3A%2F%2Fwww.googleapis.com%2Fauth%2Fearthengine+https%3A%2F%2Fwww.googleapis.com%2Fauth%2Fdevstorage.full_control&redirect_uri=urn%3Aietf%3Awg%3Aoauth%3A2.0%3Aoob&response_type=code&code_challenge=-ne7zm2E5flTc3vj4xRkfjOv03DNeXab4P5q3WMFwRI&code_challenge_method=S256>https://accounts.google.com/o/oauth2/auth?client_id=517222506229-vsmmajv00ul0bs7p89v5m89qs8eb9359.apps.googleusercontent.com&scope=https%3A%2F%2Fwww.googleapis.com%2Fauth%2Fearthengine+https%3A%2F%2Fwww.googleapis.com%2Fauth%2Fdevstorage.full_control&redirect_uri=urn%3Aietf%3Awg%3Aoauth%3A2.0%3Aoob&response_type=code&code_challenge=-ne7zm2E5flTc3vj4xRkfjOv03DNeXab4P5q3WMFwRI&code_challenge_method=S256</a></p>\n",
       "        <p>The authorization workflow will generate a code, which you\n",
       "        should paste in the box below</p>\n",
       "        "
      ],
      "text/plain": [
       "<IPython.core.display.HTML object>"
      ]
     },
     "metadata": {},
     "output_type": "display_data"
    },
    {
     "name": "stdin",
     "output_type": "stream",
     "text": [
      "Enter verification code:  4/1AX4XfWhrFqvOtmw6YBiEGZnIQ14t6Ayxy0a26zzxdjEnyTDpZPPs5Ytd6DQ\n"
     ]
    },
    {
     "name": "stdout",
     "output_type": "stream",
     "text": [
      "\n",
      "Successfully saved authorization token.\n"
     ]
    }
   ],
   "source": [
    "ee.Authenticate()"
   ]
  },
  {
   "cell_type": "code",
   "execution_count": 3,
   "id": "f75d71c5",
   "metadata": {},
   "outputs": [],
   "source": [
    "ee.Initialize()"
   ]
  },
  {
   "cell_type": "code",
   "execution_count": 5,
   "id": "670fcdcc",
   "metadata": {},
   "outputs": [],
   "source": [
    "region = ee.Geometry.Polygon([-180, 40, 0,40,180, 40,180,-40,0,-40,-180,-40])\n",
    "coll = ee.ImageCollection(\"projects/global-mangrove-watch/mangrove-properties/mangrove_total_co2e_1996--2016\").select('total_co2e')\n",
    "collectionList = coll.toList(coll.size())\n",
    "collectionSize = collectionList.size().getInfo()"
   ]
  },
  {
   "cell_type": "code",
   "execution_count": 58,
   "id": "1729f903",
   "metadata": {},
   "outputs": [],
   "source": [
    "for i in range(collectionSize):\n",
    "    img = ee.Image(collectionList.get(i))\n",
    "    img_name = ee.String(img.get(\"system:id\")).split(\"/\").get(-1).getInfo()\n",
    "    year = img_name[-4:]\n",
    "\n",
    "    params = {\n",
    "    'image':img,\n",
    "    'description':'toc_'+year,\n",
    "    'bucket':'magrove_atlas',\n",
    "    'fileNamePrefix':'ee_export_tiffs/total_organic_carbon/toc_'+year+'/toc_'+year, \n",
    "    'fileFormat':'GeoTIFF',\n",
    "    'region': region.getInfo()['coordinates'], \n",
    "    'skipEmptyTiles': False,\n",
    "    'maxPixels': 1e13,\n",
    "    'formatOptions': {'cloudOptimized': True}\n",
    "    }\n",
    "\n",
    "    task = ee.batch.Export.image.toCloudStorage(**params)\n",
    "    task.start()"
   ]
  },
  {
   "cell_type": "code",
   "execution_count": 63,
   "id": "bb9723a8",
   "metadata": {},
   "outputs": [
    {
     "name": "stdout",
     "output_type": "stream",
     "text": [
      "DP6J7XH5ZECTBWDGHMVGY7DU  Export.image  toc_2008  RUNNING    ---\n",
      "EFN6YM5AOM7MSNOYVJFBZO6V  Export.image  toc_2007  RUNNING    ---\n",
      "L3YACVDFEAFWWVP2RRD4KN5H  Export.image  toc_2000  RUNNING    ---\n",
      "T5WNHDS3WZPX5VPEW5723Y4S  Export.image  toc_1996  RUNNING    ---\n"
     ]
    }
   ],
   "source": [
    "# Check task status\n",
    "!earthengine task list --status RUNNING"
   ]
  },
  {
   "cell_type": "code",
   "execution_count": 62,
   "id": "4087cdc5",
   "metadata": {},
   "outputs": [
    {
     "name": "stdout",
     "output_type": "stream",
     "text": [
      "KF7ISWKSLQM7QANWM2KE4FNN  Export.image  toc_2016  READY      ---\n",
      "FL4NEFRGO3KFYVRG45DBBW2Y  Export.image  toc_2015  READY      ---\n",
      "6OBTPMJVNIKUY3OEX2SNUEW4  Export.image  toc_2010  READY      ---\n",
      "5XVUYEJVRHDS36QJO7KCDTRD  Export.image  toc_2009  READY      ---\n",
      "DP6J7XH5ZECTBWDGHMVGY7DU  Export.image  toc_2008  RUNNING    ---\n",
      "EFN6YM5AOM7MSNOYVJFBZO6V  Export.image  toc_2007  RUNNING    ---\n",
      "L3YACVDFEAFWWVP2RRD4KN5H  Export.image  toc_2000  RUNNING    ---\n",
      "T5WNHDS3WZPX5VPEW5723Y4S  Export.image  toc_1996  RUNNING    ---\n",
      "FT2MLLBM2PHBHAOVFZSUTNSQ  Export.image  toc_1996  FAILED     Export too large: specified 1036802880000 pixels (max: 100000000). Specify higher maxPixels value if you intend to export a large area.\n",
      "G2J7LJIXFNMT6IEGXNIEHIBA  Export.image  toc_1996  FAILED     Export too large: specified 1036802880000 pixels (max: 100000000). Specify higher maxPixels value if you intend to export a large area.\n",
      "PED3QJPTUBUNBGLII7SMD4UA  Export.image  toc_1996  FAILED     Export too large: specified 1036802880000 pixels (max: 100000000). Specify higher maxPixels value if you intend to export a large area.\n",
      "NQQW7KJ57HS6HLTOWXMJFIMS  Export.image  toc_1996  FAILED     Export too large: specified 1036802880000 pixels (max: 100000000). Specify higher maxPixels value if you intend to export a large area.\n",
      "IZEWPK3P5SENAW5GZ7DK54GH  Export.image  toc_1996  FAILED     Export too large: specified 1036802880000 pixels (max: 100000000). Specify higher maxPixels value if you intend to export a large area.\n"
     ]
    }
   ],
   "source": [
    "!earthengine task list"
   ]
  },
  {
   "cell_type": "markdown",
   "id": "240f2f2b",
   "metadata": {},
   "source": [
    "### Step 2: Download tiffs (GCS), Unify into 1 file (gdal) and upload (GCS)"
   ]
  },
  {
   "cell_type": "markdown",
   "id": "ff26745d",
   "metadata": {},
   "source": [
    "#### Download tiffs"
   ]
  },
  {
   "cell_type": "markdown",
   "id": "c86c62a5",
   "metadata": {},
   "source": [
    "## Unify and upload"
   ]
  },
  {
   "cell_type": "code",
   "execution_count": null,
   "id": "98d214f9",
   "metadata": {},
   "outputs": [],
   "source": [
    "from google.cloud import storage\n",
    "\n",
    "def upload_blob(bucket_name, source_file_name, destination_blob_name):\n",
    "    \"\"\"Uploads a file to the bucket.\"\"\"\n",
    "    # bucket_name = \"your-bucket-name\"\n",
    "    # source_file_name = \"local/path/to/file\"\n",
    "    # destination_blob_name = \"storage-object-name\"\n",
    "\n",
    "    storage_client = storage.Client.from_service_account_json('../../datasets/service_account.json')\n",
    "    bucket = storage_client.bucket(bucket_name)\n",
    "    blob = bucket.blob(destination_blob_name)\n",
    "\n",
    "    blob.upload_from_filename(source_file_name)\n",
    "\n",
    "    print(\n",
    "        \"File {} uploaded to {}.\".format(\n",
    "            source_file_name, destination_blob_name\n",
    "        )\n",
    "    )\n",
    "    \n",
    "def download_blob(bucket_name, prefix, dl_dir):\n",
    "    \"\"\"Downloads a file to the bucket.\"\"\"\n",
    "     # bucket_name = 'your-bucket-name'\n",
    "     # prefix = 'your-bucket-directory/'\n",
    "     # dl_dir = 'your-local-directory/'\n",
    "\n",
    "    storage_client = storage.Client.from_service_account_json('../../datasets/service_account.json')\n",
    "    bucket = storage_client.bucket(bucket_name)\n",
    "    blobs = bucket.list_blobs(prefix=prefix)  # Get list of files\n",
    "\n",
    "    for blob in blobs:\n",
    "        filename = blob.name.replace('/', '_') \n",
    "        blob.download_to_filename(dl_dir + filename)  # Download\n",
    "\n",
    "    print(\n",
    "        \"Folder {} downloaded to {}.\".format(\n",
    "            prefix, dl_dir\n",
    "        )\n",
    "    )\n",
    "    "
   ]
  },
  {
   "cell_type": "code",
   "execution_count": 39,
   "id": "e3b1ab2c",
   "metadata": {},
   "outputs": [],
   "source": [
    "# Set working directories\n",
    "path_in = \"../../datasets/toc_temporary/\"\n",
    "path_out =\"../../datasets/gmw_blue_carbon\"\n",
    "os.makedirs(path_out, exist_ok=True)"
   ]
  },
  {
   "cell_type": "code",
   "execution_count": null,
   "id": "5f9c552f",
   "metadata": {},
   "outputs": [],
   "source": [
    "%%time\n",
    "for y in [1996, 2007, 2008, 2009, 2010, 2015, 2016, 2017, 2018, 2019, 2020]:\n",
    "    download_blob('mangrove_atlas',f'ee_export_tiffs/total_organic_carbon/toc_{y}/toc_{y}',path_in)\n",
    "    print(\"\\nBuilding VRT\\n\")\n",
    "    !gdalbuildvrt {path_out}/gmw_toc_{y}.vrt {path_in}/*.tif\n",
    "    print(\"\\nBuilding GeoTIFF\\n\")\n",
    "    !gdal_translate -co \"BLOCKXSIZE=512\" -co \"BLOCKYSIZE=512\" -co \"TILED=YES\" -co \"BIGTIFF=YES\" -co \"COMPRESS=DEFLATE\" {path_out}/gmw_toc_{y}.vrt {path_out}/gmw_toc_{y}.tif\n",
    "    print(\"\\nCopying files to GCS\\n\")\n",
    "    upload_blob('mangrove_atlas', f'{path_out}/gmw_toc_{y}.tif', f'ee_export_tiffs/total_organic_carbon/v2/toc_{y}.tif')"
   ]
  }
 ],
 "metadata": {
  "kernelspec": {
   "display_name": "Python 3 (ipykernel)",
   "language": "python",
   "name": "python3"
  },
  "language_info": {
   "codemirror_mode": {
    "name": "ipython",
    "version": 3
   },
   "file_extension": ".py",
   "mimetype": "text/x-python",
   "name": "python",
   "nbconvert_exporter": "python",
   "pygments_lexer": "ipython3",
   "version": "3.8.10"
  }
 },
 "nbformat": 4,
 "nbformat_minor": 5
}
