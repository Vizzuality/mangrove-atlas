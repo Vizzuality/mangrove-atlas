{
 "cells": [
  {
   "cell_type": "markdown",
   "id": "a436360b",
   "metadata": {},
   "source": [
    "## Export Blue Carbon tiffs"
   ]
  },
  {
   "cell_type": "markdown",
   "id": "333242e5",
   "metadata": {},
   "source": [
    "* #### **Step 1:** Take Blue carbon Asset from GEE and export to the cloud storage as tiffs\n",
    "* #### **Step 2:** Take exported tiffs and unify into one single file and reupload to GCS"
   ]
  },
  {
   "cell_type": "markdown",
   "id": "28cc752a",
   "metadata": {},
   "source": [
    "### Step 1: Export Asset (GEE) to tiff (GCS)"
   ]
  },
  {
   "cell_type": "code",
   "execution_count": 14,
   "id": "6879feb0",
   "metadata": {},
   "outputs": [],
   "source": [
    "import ee"
   ]
  },
  {
   "cell_type": "code",
   "execution_count": 15,
   "id": "3a030be4",
   "metadata": {},
   "outputs": [
    {
     "data": {
      "text/html": [
       "<p>To authorize access needed by Earth Engine, open the following\n",
       "        URL in a web browser and follow the instructions:</p>\n",
       "        <p><a href=https://accounts.google.com/o/oauth2/auth?client_id=517222506229-vsmmajv00ul0bs7p89v5m89qs8eb9359.apps.googleusercontent.com&scope=https%3A%2F%2Fwww.googleapis.com%2Fauth%2Fearthengine+https%3A%2F%2Fwww.googleapis.com%2Fauth%2Fdevstorage.full_control&redirect_uri=urn%3Aietf%3Awg%3Aoauth%3A2.0%3Aoob&response_type=code&code_challenge=VW0F6pluoYdszfwxf6DqRho7TtNJsXN1yFBQgJprHvQ&code_challenge_method=S256>https://accounts.google.com/o/oauth2/auth?client_id=517222506229-vsmmajv00ul0bs7p89v5m89qs8eb9359.apps.googleusercontent.com&scope=https%3A%2F%2Fwww.googleapis.com%2Fauth%2Fearthengine+https%3A%2F%2Fwww.googleapis.com%2Fauth%2Fdevstorage.full_control&redirect_uri=urn%3Aietf%3Awg%3Aoauth%3A2.0%3Aoob&response_type=code&code_challenge=VW0F6pluoYdszfwxf6DqRho7TtNJsXN1yFBQgJprHvQ&code_challenge_method=S256</a></p>\n",
       "        <p>The authorization workflow will generate a code, which you\n",
       "        should paste in the box below</p>\n",
       "        "
      ],
      "text/plain": [
       "<IPython.core.display.HTML object>"
      ]
     },
     "metadata": {},
     "output_type": "display_data"
    },
    {
     "name": "stdin",
     "output_type": "stream",
     "text": [
      "Enter verification code:  4/1AX4XfWhGuoWoLpdQhia-S586lcmJloRadD9L2KEbEnlsDZ726T4NcU9paNc\n"
     ]
    },
    {
     "name": "stdout",
     "output_type": "stream",
     "text": [
      "\n",
      "Successfully saved authorization token.\n"
     ]
    }
   ],
   "source": [
    "ee.Authenticate()"
   ]
  },
  {
   "cell_type": "code",
   "execution_count": 16,
   "id": "bb241263",
   "metadata": {},
   "outputs": [],
   "source": [
    "ee.Initialize()"
   ]
  },
  {
   "cell_type": "code",
   "execution_count": 17,
   "id": "a5e135f9",
   "metadata": {},
   "outputs": [],
   "source": [
    "region = ee.Geometry.Polygon([-180, 40, 0,40,180, 40,180,-40,0,-40,-180,-40])\n",
    "coll = ee.ImageCollection(\"projects/global-mangrove-watch/mangrove-properties/mangrove_total_co2e_1996--2016\").select('total_co2e')\n",
    "collectionList = coll.toList(coll.size())\n",
    "collectionSize = collectionList.size().getInfo()"
   ]
  },
  {
   "cell_type": "code",
   "execution_count": 22,
   "id": "c90c853f",
   "metadata": {},
   "outputs": [],
   "source": [
    "i= 0\n",
    "img = ee.Image(collectionList.get(i))\n",
    "img_name = ee.String(img.get(\"system:id\")).split(\"/\").get(-1).getInfo()\n",
    "year = img_name[-4:]\n",
    "\n",
    "params = {\n",
    "'image':img,\n",
    "'description':'toc_'+year,\n",
    "'bucket':'magrove_atlas',\n",
    "'fileNamePrefix':'ee_export_tiffs/total_organic_carbon/toc_'+year+'/toc_'+year, \n",
    "'fileFormat':'GeoTIFF',\n",
    "'region': region.getInfo()['coordinates'], \n",
    "'skipEmptyTiles': False,\n",
    "'maxPixels': 1e12,\n",
    "'scale':30\n",
    "}\n",
    "\n",
    "task = ee.batch.Export.image.toCloudStorage(**params)\n",
    "task.start()"
   ]
  },
  {
   "cell_type": "code",
   "execution_count": 58,
   "id": "51f7967f",
   "metadata": {},
   "outputs": [],
   "source": [
    "for i in range(collectionSize):\n",
    "    img = ee.Image(collectionList.get(i))\n",
    "    img_name = ee.String(img.get(\"system:id\")).split(\"/\").get(-1).getInfo()\n",
    "    year = img_name[-4:]\n",
    "\n",
    "    params = {\n",
    "    'image':img,\n",
    "    'description':'toc_'+year,\n",
    "    'bucket':'magrove_atlas',\n",
    "    'fileNamePrefix':'ee_export_tiffs/total_organic_carbon/toc_'+year+'/toc_'+year, \n",
    "    'fileFormat':'GeoTIFF',\n",
    "    'region': region.getInfo()['coordinates'], \n",
    "    'skipEmptyTiles': True,\n",
    "    'maxPixels': 1e12,\n",
    "    'scale': 30,\n",
    "    }\n",
    "\n",
    "    task = ee.batch.Export.image.toCloudStorage(**params)\n",
    "    task.start()"
   ]
  },
  {
   "cell_type": "code",
   "execution_count": 19,
   "id": "439a940f",
   "metadata": {},
   "outputs": [],
   "source": [
    "# Check task status\n",
    "!earthengine task list --status RUNNING"
   ]
  },
  {
   "cell_type": "code",
   "execution_count": 26,
   "id": "40fed47a",
   "metadata": {},
   "outputs": [
    {
     "name": "stdout",
     "output_type": "stream",
     "text": [
      "VE4FBE247HDC56TBMVZHHRJZ  Export.image  toc_1996  RUNNING    ---\n",
      "2WWOJMVYLIQFV6G7OYQ5TY5M  Export.image  toc_1996  FAILED     Export too large: specified 1036802880000 pixels (max: 100000000). Specify higher maxPixels value if you intend to export a large area.\n",
      "KF7ISWKSLQM7QANWM2KE4FNN  Export.image  toc_2016  FAILED     Internal error.\n",
      "FL4NEFRGO3KFYVRG45DBBW2Y  Export.image  toc_2015  FAILED     Execution failed; out of memory.\n",
      "6OBTPMJVNIKUY3OEX2SNUEW4  Export.image  toc_2010  FAILED     Internal error.\n",
      "5XVUYEJVRHDS36QJO7KCDTRD  Export.image  toc_2009  FAILED     Internal error.\n",
      "DP6J7XH5ZECTBWDGHMVGY7DU  Export.image  toc_2008  FAILED     Internal error.\n",
      "EFN6YM5AOM7MSNOYVJFBZO6V  Export.image  toc_2007  FAILED     Internal error.\n",
      "L3YACVDFEAFWWVP2RRD4KN5H  Export.image  toc_2000  FAILED     Internal error.\n",
      "T5WNHDS3WZPX5VPEW5723Y4S  Export.image  toc_1996  FAILED     Internal error.\n",
      "FT2MLLBM2PHBHAOVFZSUTNSQ  Export.image  toc_1996  FAILED     Export too large: specified 1036802880000 pixels (max: 100000000). Specify higher maxPixels value if you intend to export a large area.\n",
      "G2J7LJIXFNMT6IEGXNIEHIBA  Export.image  toc_1996  FAILED     Export too large: specified 1036802880000 pixels (max: 100000000). Specify higher maxPixels value if you intend to export a large area.\n",
      "PED3QJPTUBUNBGLII7SMD4UA  Export.image  toc_1996  FAILED     Export too large: specified 1036802880000 pixels (max: 100000000). Specify higher maxPixels value if you intend to export a large area.\n",
      "NQQW7KJ57HS6HLTOWXMJFIMS  Export.image  toc_1996  FAILED     Export too large: specified 1036802880000 pixels (max: 100000000). Specify higher maxPixels value if you intend to export a large area.\n",
      "IZEWPK3P5SENAW5GZ7DK54GH  Export.image  toc_1996  FAILED     Export too large: specified 1036802880000 pixels (max: 100000000). Specify higher maxPixels value if you intend to export a large area.\n"
     ]
    }
   ],
   "source": [
    "!earthengine task list"
   ]
  },
  {
   "cell_type": "markdown",
   "id": "20731a2f",
   "metadata": {},
   "source": [
    "### Step 2: Download tiffs (GCS), Unify into 1 file (gdal) and upload (GCS)"
   ]
  },
  {
   "cell_type": "markdown",
   "id": "a234aa32",
   "metadata": {},
   "source": [
    "#### Download tiffs"
   ]
  },
  {
   "cell_type": "markdown",
   "id": "503b85c4",
   "metadata": {},
   "source": [
    "## Unify and upload"
   ]
  },
  {
   "cell_type": "code",
   "execution_count": null,
   "id": "e77cbc4a",
   "metadata": {},
   "outputs": [],
   "source": [
    "from google.cloud import storage\n",
    "\n",
    "def upload_blob(bucket_name, source_file_name, destination_blob_name):\n",
    "    \"\"\"Uploads a file to the bucket.\"\"\"\n",
    "    # bucket_name = \"your-bucket-name\"\n",
    "    # source_file_name = \"local/path/to/file\"\n",
    "    # destination_blob_name = \"storage-object-name\"\n",
    "\n",
    "    storage_client = storage.Client.from_service_account_json('../../datasets/service_account.json')\n",
    "    bucket = storage_client.bucket(bucket_name)\n",
    "    blob = bucket.blob(destination_blob_name)\n",
    "\n",
    "    blob.upload_from_filename(source_file_name)\n",
    "\n",
    "    print(\n",
    "        \"File {} uploaded to {}.\".format(\n",
    "            source_file_name, destination_blob_name\n",
    "        )\n",
    "    )\n",
    "    \n",
    "def download_blob(bucket_name, prefix, dl_dir):\n",
    "    \"\"\"Downloads a file to the bucket.\"\"\"\n",
    "     # bucket_name = 'your-bucket-name'\n",
    "     # prefix = 'your-bucket-directory/'\n",
    "     # dl_dir = 'your-local-directory/'\n",
    "\n",
    "    storage_client = storage.Client.from_service_account_json('../../datasets/service_account.json')\n",
    "    bucket = storage_client.bucket(bucket_name)\n",
    "    blobs = bucket.list_blobs(prefix=prefix)  # Get list of files\n",
    "\n",
    "    for blob in blobs:\n",
    "        filename = blob.name.replace('/', '_') \n",
    "        blob.download_to_filename(dl_dir + filename)  # Download\n",
    "\n",
    "    print(\n",
    "        \"Folder {} downloaded to {}.\".format(\n",
    "            prefix, dl_dir\n",
    "        )\n",
    "    )\n",
    "    "
   ]
  },
  {
   "cell_type": "code",
   "execution_count": 39,
   "id": "ce77a305",
   "metadata": {},
   "outputs": [],
   "source": [
    "# Set working directories\n",
    "path_in = \"../../datasets/toc_temporary/\"\n",
    "path_out =\"../../datasets/gmw_blue_carbon\"\n",
    "os.makedirs(path_out, exist_ok=True)"
   ]
  },
  {
   "cell_type": "code",
   "execution_count": null,
   "id": "ed294b0e",
   "metadata": {},
   "outputs": [],
   "source": [
    "%%time\n",
    "for y in [1996, 2007, 2008, 2009, 2010, 2015, 2016, 2017, 2018, 2019, 2020]:\n",
    "    download_blob('mangrove_atlas',f'ee_export_tiffs/total_organic_carbon/toc_{y}/toc_{y}',path_in)\n",
    "    print(\"\\nBuilding VRT\\n\")\n",
    "    !gdalbuildvrt {path_out}/gmw_toc_{y}.vrt {path_in}/*.tif\n",
    "    print(\"\\nBuilding GeoTIFF\\n\")\n",
    "    !gdal_translate -co \"BLOCKXSIZE=512\" -co \"BLOCKYSIZE=512\" -co \"TILED=YES\" -co \"BIGTIFF=YES\" -co \"COMPRESS=DEFLATE\" {path_out}/gmw_toc_{y}.vrt {path_out}/gmw_toc_{y}.tif\n",
    "    print(\"\\nCopying files to GCS\\n\")\n",
    "    upload_blob('mangrove_atlas', f'{path_out}/gmw_toc_{y}.tif', f'ee_export_tiffs/total_organic_carbon/v2/toc_{y}.tif')"
   ]
  },
  {
   "cell_type": "code",
   "execution_count": null,
   "id": "de7671a5",
   "metadata": {},
   "outputs": [],
   "source": []
  }
 ],
 "metadata": {
  "kernelspec": {
   "display_name": "Python 3 (ipykernel)",
   "language": "python",
   "name": "python3"
  },
  "language_info": {
   "codemirror_mode": {
    "name": "ipython",
    "version": 3
   },
   "file_extension": ".py",
   "mimetype": "text/x-python",
   "name": "python",
   "nbconvert_exporter": "python",
   "pygments_lexer": "ipython3",
   "version": "3.8.10"
  }
 },
 "nbformat": 4,
 "nbformat_minor": 5
}
